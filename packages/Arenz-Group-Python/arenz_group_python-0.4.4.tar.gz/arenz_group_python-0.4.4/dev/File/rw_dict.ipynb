{
 "cells": [
  {
   "cell_type": "code",
   "execution_count": 1,
   "metadata": {},
   "outputs": [],
   "source": [
    "from pathlib import Path\n",
    "from arenz_group_python import Quantity_Value_Unit as Q"
   ]
  },
  {
   "cell_type": "code",
   "execution_count": 2,
   "metadata": {},
   "outputs": [],
   "source": [
    "\n",
    "def save_dict_to_file(file_path:Path, kw: dict):\n",
    "    \n",
    "    with open(file_path, 'w') as file:\n",
    "        for k,v in kw.items():\n",
    "            file.writelines(f\"{k} = {v}\\n\")    \n",
    "        file.close\n",
    "    return "
   ]
  },
  {
   "cell_type": "code",
   "execution_count": 3,
   "metadata": {},
   "outputs": [],
   "source": [
    "def open_dict_from_file(file_path:Path):\n",
    "    k={}\n",
    "    with open(file_path, 'r') as file:\n",
    "        aa= True\n",
    "        while(aa):\n",
    "            a=  file.readline()\n",
    "            if a == \"\":\n",
    "                break\n",
    "            else:\n",
    "                #print(a)\n",
    "                vals = a.split(\"=\",1)\n",
    "                if len(vals)>=2:\n",
    "                    key= str(vals[0]).strip().strip().replace(\"'\",\"\").replace('\"',\"\").strip()\n",
    "                    v=vals[1].strip()\n",
    "                    try:\n",
    "                        k[key]=int(v)\n",
    "                    except ValueError:\n",
    "                        try:\n",
    "                            k[key]=float(v)\n",
    "                        except ValueError:\n",
    "                            try:\n",
    "                                k[key]=Q(v)\n",
    "                            except:    \n",
    "                                k[key] = vals[1].strip()\n",
    "                    #k[key] = vals[1].strip()    \n",
    "        file.close\n",
    "    return k"
   ]
  },
  {
   "cell_type": "code",
   "execution_count": 4,
   "metadata": {},
   "outputs": [
    {
     "name": "stdout",
     "output_type": "stream",
     "text": [
      "a 45\n",
      "b aved\n",
      "c dfe\n",
      "d 23\n",
      "e 23 nm\n",
      "f afd fefe efe\n"
     ]
    }
   ],
   "source": [
    "kw = dict(a=45,b=\"aved\",c=\"dfe\",d=23, e=\"23 nm\", f=\"afd fefe efe\")\n",
    "for k,v in kw.items():\n",
    "    print(k,v)\n",
    "    \n",
    "file_p = Path(\"dict.txt\")"
   ]
  },
  {
   "cell_type": "code",
   "execution_count": 5,
   "metadata": {},
   "outputs": [],
   "source": [
    "\n",
    "save_dict_to_file(file_p, kw)\n"
   ]
  },
  {
   "cell_type": "code",
   "execution_count": 6,
   "metadata": {},
   "outputs": [
    {
     "name": "stdout",
     "output_type": "stream",
     "text": [
      "a 45\n",
      "b aved\n",
      "c dfe\n",
      "d 23\n",
      "e 2.300e+01 nm\n",
      "f afd fefe efe\n",
      "e : 23 nm -> 2.300e+01 nm\n"
     ]
    }
   ],
   "source": [
    "kw2= open_dict_from_file(file_p)\n",
    "for k,v in kw2.items():\n",
    "    print(k,v)\n",
    "\n",
    "diffkeys = [k for k in kw if kw[k] != kw2[k]]\n",
    "for k in diffkeys:\n",
    "  print(k, ':', kw[k], '->', kw2[k])\n",
    "  \n",
    "#int(\"4.5\")"
   ]
  },
  {
   "cell_type": "code",
   "execution_count": null,
   "metadata": {},
   "outputs": [],
   "source": []
  }
 ],
 "metadata": {
  "kernelspec": {
   "display_name": "Python 3",
   "language": "python",
   "name": "python3"
  },
  "language_info": {
   "codemirror_mode": {
    "name": "ipython",
    "version": 3
   },
   "file_extension": ".py",
   "mimetype": "text/x-python",
   "name": "python",
   "nbconvert_exporter": "python",
   "pygments_lexer": "ipython3",
   "version": "3.11.9"
  }
 },
 "nbformat": 4,
 "nbformat_minor": 2
}
