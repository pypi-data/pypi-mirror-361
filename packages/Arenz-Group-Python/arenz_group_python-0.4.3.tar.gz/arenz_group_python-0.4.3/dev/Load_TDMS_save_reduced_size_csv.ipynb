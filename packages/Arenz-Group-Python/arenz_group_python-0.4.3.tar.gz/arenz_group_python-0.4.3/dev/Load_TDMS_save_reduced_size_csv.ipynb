{
 "cells": [
  {
   "cell_type": "code",
   "execution_count": 1,
   "metadata": {},
   "outputs": [],
   "source": [
    "import numpy as np\n",
    "import pandas as pd\n",
    "import matplotlib.pyplot as plt\n",
    "from nptdms import TdmsFile\n",
    "from pathlib import Path\n",
    "import math\n",
    "import pathlib\n",
    "import os\n",
    "# importing sys\n",
    "import sys\n",
    "nb_path = Path.cwd()"
   ]
  },
  {
   "cell_type": "markdown",
   "metadata": {},
   "source": [
    "Imports the ec_data help files to read tdms files."
   ]
  },
  {
   "cell_type": "code",
   "execution_count": 5,
   "metadata": {},
   "outputs": [
    {
     "name": "stdout",
     "output_type": "stream",
     "text": [
      "c:\\Users\\gustav.wiberg\\Documents\\GitHub\\Python\\Arenz_Group_Python\n",
      "c:\\Users\\gustav.wiberg\\Documents\\GitHub\\Python\\Arenz_Group_Python\\ec_data\n",
      "path existits: True\n",
      "c:\\Users\\gustav.wiberg\\Documents\\GitHub\\Python\\Arenz_Group_Python\\ec_data\n"
     ]
    }
   ],
   "source": [
    "pack_path = nb_path.parent /  \"ec_data\" #/ \"ArenzGroupPython\"\n",
    "print(nb_path.parent)\n",
    "print(pack_path)\n",
    "print(f\"path existits: {pack_path.exists()}\")\n",
    "\n",
    "\n",
    "str_path = str(pack_path)\n",
    "#sys.path.append(\"C:/Users/gustav.wiberg/Documents/GitHub/Python/Arenz_Group_Python/src/ArenzGroupPython\")\n",
    "print(str_path)\n",
    "sys.path.append(str_path)\n",
    "#import ec_data\n",
    "#ec_data.reload()\n",
    "from ec_data import EC_Data\n"
   ]
  },
  {
   "cell_type": "code",
   "execution_count": 4,
   "metadata": {},
   "outputs": [
    {
     "ename": "ModuleNotFoundError",
     "evalue": "No module named 'EC_Data'",
     "output_type": "error",
     "traceback": [
      "\u001b[1;31m---------------------------------------------------------------------------\u001b[0m",
      "\u001b[1;31mModuleNotFoundError\u001b[0m                       Traceback (most recent call last)",
      "Cell \u001b[1;32mIn[4], line 1\u001b[0m\n\u001b[1;32m----> 1\u001b[0m \u001b[38;5;28;01mimport\u001b[39;00m \u001b[38;5;21;01mEC_Data\u001b[39;00m\n",
      "\u001b[1;31mModuleNotFoundError\u001b[0m: No module named 'EC_Data'"
     ]
    }
   ],
   "source": [
    "import EC_Data"
   ]
  },
  {
   "cell_type": "markdown",
   "metadata": {},
   "source": [
    "Here starts the loading of the file."
   ]
  },
  {
   "cell_type": "code",
   "execution_count": null,
   "metadata": {},
   "outputs": [
    {
     "name": "stdout",
     "output_type": "stream",
     "text": [
      "Phase_E: 719834\n",
      "E-IZ: 719834\n",
      "E-IZ: 719834\n"
     ]
    }
   ],
   "source": [
    "data = EC_Data(\"c:/temp/Steps_174228.tdms\")\n",
    "\n",
    "E_iz,a,b=data.get_channel(\"E-IZ\")\n",
    "E_ir,a,b=data.get_channel(\"E-IZ\")\n",
    "#print(f\"Phase_E: {len(data.Phase_E)}\")\n",
    "E_iz,a,b=data.get_channel(\"E-IZ\")\n",
    "#print(f\"E-IZ: {len(E_iz)}\")\n",
    "#print(f\"E-IZ: {len(E_ir)}\")\n",
    "data_arr= [data.Time, data.E, data.i,data.Z_E,data.Phase_E ,E_iz, E_ir]"
   ]
  },
  {
   "cell_type": "code",
   "execution_count": null,
   "metadata": {},
   "outputs": [
    {
     "name": "stdout",
     "output_type": "stream",
     "text": [
      "maxindex: 71983\n",
      "[array([1.38677369e-311, 1.38695725e-311, 6.21386363e-320, ...,\n",
      "       0.00000000e+000, 0.00000000e+000, 0.00000000e+000]), array([1.38677369e-311, 1.38695725e-311, 6.21386363e-320, ...,\n",
      "       0.00000000e+000, 0.00000000e+000, 0.00000000e+000]), array([1.38677369e-311, 1.38695725e-311, 6.21386363e-320, ...,\n",
      "       0.00000000e+000, 0.00000000e+000, 0.00000000e+000]), array([1.38677369e-311, 1.38695725e-311, 6.21386363e-320, ...,\n",
      "       0.00000000e+000, 0.00000000e+000, 0.00000000e+000]), array([1.38677369e-311, 1.38695725e-311, 6.21386363e-320, ...,\n",
      "       0.00000000e+000, 0.00000000e+000, 0.00000000e+000]), array([1.38677369e-311, 1.38695725e-311, 6.21386363e-320, ...,\n",
      "       0.00000000e+000, 0.00000000e+000, 0.00000000e+000])]\n",
      "[array([0.00000000e+00, 1.00008324e-01, 2.00016648e-01, ...,\n",
      "       7.19890938e+04, 7.19891953e+04, 7.19892891e+04], dtype=float32), array([1.3594676, 1.374325 , 1.383536 , ..., 2.5741284, 2.5741217,\n",
      "       2.5741134], dtype=float32), array([0.00599369, 0.00599414, 0.00599382, ..., 0.00599779, 0.00599762,\n",
      "       0.00599765], dtype=float32), array([28.493023, 26.779398, 27.45406 , ..., 37.29557 , 37.581207,\n",
      "       36.824818], dtype=float32), array([-6.1316533 , -0.00681156, -0.3682386 , ..., -0.5497987 ,\n",
      "        5.7597876 ,  5.6702476 ], dtype=float32), array([1.1886894, 1.2138057, 1.2189814, ..., 2.3504376, 2.348724 ,\n",
      "       2.353251 ], dtype=float32), array([1.1886894, 1.2138057, 1.2189814, ..., 2.3504376, 2.348724 ,\n",
      "       2.353251 ], dtype=float32)]\n"
     ]
    }
   ],
   "source": [
    "maxIndex = math.floor(len(E_ir) / 10)\n",
    "print(f\"maxindex: {maxIndex}\")\n",
    "data_r = np.ndarray(shape=(maxIndex), dtype=float, order='F')\n",
    "data_red =[data_r, data_r, data_r, data_r, data_r, data_r]\n",
    "print(data_red)\n",
    "print(data_arr)\n",
    "\n",
    "data_i = np.ndarray(shape=(maxIndex), dtype=np.dtype(np.int64), order='F')\n",
    "r_Time = np.ndarray(shape=(maxIndex), dtype=float, order='F')\n",
    "r_E = np.ndarray(shape=(maxIndex), dtype=float, order='F')\n",
    "r_i = np.ndarray(shape=(maxIndex), dtype=float, order='F')\n",
    "r_Z = np.ndarray(shape=(maxIndex), dtype=float, order='F')\n",
    "r_p = np.ndarray(shape=(maxIndex), dtype=float, order='F')\n",
    "r_Eiz = np.ndarray(shape=(maxIndex), dtype=float, order='F')\n",
    "r_Eir = np.ndarray(shape=(maxIndex), dtype=float, order='F')\n",
    "for x in range(maxIndex):\n",
    "    r_Time[x] = data.Time[x*10]\n",
    "    r_E[x] = data.E[x*10]\n",
    "    r_i[x] = data.i[x*10]\n",
    "    r_Z[x] = data.Z_E[x*10]\n",
    "    r_p[x] = data.Phase_E[x*10]\n",
    "    r_Eiz[x] = E_iz[x*10]\n",
    "    r_Eir[x] = E_ir[x*10]\n",
    "\n",
    "data_red =[r_Time, r_E, r_i, r_Z,r_p, r_Eiz, r_Eir]\n",
    "\n",
    "data_red_t = np.transpose(data_red)"
   ]
  },
  {
   "cell_type": "code",
   "execution_count": null,
   "metadata": {},
   "outputs": [
    {
     "name": "stdout",
     "output_type": "stream",
     "text": [
      "c:\\temp\\Steps_174228_r.csv\n"
     ]
    }
   ],
   "source": [
    "\n",
    "FormatOfwrite = [\"%2.2f\",\" %2.3f\",\" %1.4e\", \"%1.4e\", \"%1.4e\", \"%1.4e\",\"%1.4e\"]\n",
    "#print(data_arr.dim())\n",
    "\n",
    "data_arr_t = np.transpose(data_red)\n",
    "\n",
    "\n",
    "targetPath = Path(data.path).parent / str(f'{data.name}_r.csv') \n",
    "print(targetPath)\n",
    "np.savetxt(targetPath, data_red_t, delimiter=';\\t', header=\"Time;\\tE;\\ti;Z_E;\\tPhase_E;\\tE-i*Z; \\tE-i*R\", fmt=FormatOfwrite)"
   ]
  },
  {
   "cell_type": "code",
   "execution_count": null,
   "metadata": {},
   "outputs": [],
   "source": []
  }
 ],
 "metadata": {
  "kernelspec": {
   "display_name": "Python 3",
   "language": "python",
   "name": "python3"
  },
  "language_info": {
   "codemirror_mode": {
    "name": "ipython",
    "version": 3
   },
   "file_extension": ".py",
   "mimetype": "text/x-python",
   "name": "python",
   "nbconvert_exporter": "python",
   "pygments_lexer": "ipython3",
   "version": "3.12.1"
  }
 },
 "nbformat": 4,
 "nbformat_minor": 2
}
