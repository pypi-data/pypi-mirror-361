{
 "cells": [
  {
   "cell_type": "code",
   "execution_count": 1,
   "id": "53d1aa07",
   "metadata": {},
   "outputs": [],
   "source": [
    "import mdfreader"
   ]
  },
  {
   "cell_type": "code",
   "execution_count": null,
   "id": "25e93c3c",
   "metadata": {},
   "outputs": [],
   "source": [
    "mdf = mdfreader.Mdf('./data/Dana_20250515_130747.mf4')"
   ]
  },
  {
   "cell_type": "code",
   "execution_count": 5,
   "id": "d1404943",
   "metadata": {},
   "outputs": [],
   "source": [
    "mdf.export_to_csv()"
   ]
  }
 ],
 "metadata": {
  "kernelspec": {
   "display_name": ".venv",
   "language": "python",
   "name": "python3"
  },
  "language_info": {
   "codemirror_mode": {
    "name": "ipython",
    "version": 3
   },
   "file_extension": ".py",
   "mimetype": "text/x-python",
   "name": "python",
   "nbconvert_exporter": "python",
   "pygments_lexer": "ipython3",
   "version": "3.12.7"
  }
 },
 "nbformat": 4,
 "nbformat_minor": 5
}
