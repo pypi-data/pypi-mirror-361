{
 "cells": [
  {
   "cell_type": "markdown",
   "id": "0",
   "metadata": {},
   "source": [
    "## rHEALPixPandas key features\n",
    "\n",
    "You can try out vgridpandas by using the cloud-computing platforms below without having to install anything on your computer:\n",
    "\n",
    "[![image](https://jupyterlite.rtfd.io/en/latest/_static/badge.svg)](https://vgridpandas.gishub.vn/lab/index.html?path=notebooks/04_rhealpix.ipynb)\n",
    "[![image](https://colab.research.google.com/assets/colab-badge.svg)](https://colab.research.google.com/github/opengeoshub/vgridpandas/blob/master)\n",
    "[![image](https://mybinder.org/badge_logo.svg)](https://mybinder.org/v2/gh/opengeoshub/vgridpandas/HEAD)"
   ]
  },
  {
   "cell_type": "markdown",
   "id": "1",
   "metadata": {},
   "source": [
    "### Install vgridpandas"
   ]
  },
  {
   "cell_type": "code",
   "execution_count": null,
   "id": "2",
   "metadata": {},
   "outputs": [],
   "source": [
    "# %pip install vgridpandas"
   ]
  },
  {
   "cell_type": "markdown",
   "id": "dc855c53",
   "metadata": {},
   "source": [
    "### Latlong to rHEALPix"
   ]
  },
  {
   "cell_type": "code",
   "execution_count": null,
   "id": "4",
   "metadata": {},
   "outputs": [],
   "source": [
    "import pandas as pd\n",
    "from vgridpandas import rhealpixpandas\n",
    "df = pd.DataFrame({'lat': [10.775299665325505, 10.775299665325505], 'lon':[106.70647975040788,-171.58256682775985]})\n",
    "resolution = 11\n",
    "df = df.rhealpix.latlon2rhealpix(resolution)\n",
    "df"
   ]
  },
  {
   "cell_type": "markdown",
   "id": "dc45a732",
   "metadata": {},
   "source": [
    "### rHEALPix to geo boundary"
   ]
  },
  {
   "cell_type": "code",
   "execution_count": null,
   "id": "5fbf48a2",
   "metadata": {},
   "outputs": [],
   "source": [
    "df = df.rhealpix.rhealpix2geo()\n",
    "df\n",
    "# df.to_file(f\"rhealpix_{resolution}.geojson\", driver=\"GeoJSON\")"
   ]
  },
  {
   "cell_type": "markdown",
   "id": "df062b25",
   "metadata": {},
   "source": [
    "### (Multi)Linestring/ (Multi)Polygon to rHEALPix"
   ]
  },
  {
   "cell_type": "code",
   "execution_count": null,
   "id": "fd099624",
   "metadata": {},
   "outputs": [],
   "source": [
    "from vgridpandas import rhealpixpandas\n",
    "import geopandas as gpd\n",
    "\n",
    "gdf = gpd.read_file('https://raw.githubusercontent.com/opengeoshub/vopendata/refs/heads/main/shape/polygon.geojson')\n",
    "resolution = 11\n",
    "gdf_polyfill = gdf.rhealpix.polyfill(resolution, predicate = \"intersects\", explode = False)\n",
    "gdf_polyfill = gdf_polyfill.rhealpix.rhealpix2geo(rhealpix_column = \"rhealpix_polyfill\")\n",
    "gdf_polyfill.plot()"
   ]
  },
  {
   "cell_type": "markdown",
   "id": "a48e5003",
   "metadata": {},
   "source": [
    "### rHEALPix point binning"
   ]
  },
  {
   "cell_type": "code",
   "execution_count": null,
   "id": "b27e5816",
   "metadata": {},
   "outputs": [],
   "source": [
    "import pandas as pd\n",
    "import geopandas as gpd\n",
    "from vgridpandas import rhealpixpandas\n",
    "resolution = 10\n",
    "df = pd.read_csv(\"https://raw.githubusercontent.com/opengeoshub/vopendata/refs/heads/main/csv/dist1_pois.csv\")\n",
    "# df = gpd.read_file(\"https://raw.githubusercontent.com/opengeoshub/vopendata/refs/heads/main/shape/dist1_pois.geojson\")\n",
    "df.head()\n",
    "stats = \"majority\"\n",
    "df_bin = df.rhealpix.rhealpixbin(resolution=resolution, stats = stats, numeric_column=\"confidence\",category_column=\"category\",return_geometry=True)\n",
    "df_bin.head()\n",
    "# df_bin.to_file(f\"rhealpixbin_{resolution}_{stats}.geojson\", driver=\"GeoJSON\")"
   ]
  }
 ],
 "metadata": {
  "kernelspec": {
   "display_name": ".venv",
   "language": "python",
   "name": "python3"
  },
  "language_info": {
   "codemirror_mode": {
    "name": "ipython",
    "version": 3
   },
   "file_extension": ".py",
   "mimetype": "text/x-python",
   "name": "python",
   "nbconvert_exporter": "python",
   "pygments_lexer": "ipython3",
   "version": "3.12.11"
  }
 },
 "nbformat": 4,
 "nbformat_minor": 5
}
