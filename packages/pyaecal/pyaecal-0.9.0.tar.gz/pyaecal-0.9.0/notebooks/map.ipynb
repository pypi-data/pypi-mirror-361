{
 "cells": [
  {
   "cell_type": "code",
   "execution_count": 1,
   "id": "9644c708",
   "metadata": {},
   "outputs": [],
   "source": [
    "import logging\n",
    "import warnings\n",
    "import os\n",
    "import sys\n",
    "import polars as pl\n",
    "module_path = os.path.abspath(os.path.join('..'))\n",
    "if module_path not in sys.path:\n",
    "    sys.path.append(module_path)\n",
    "\n",
    "warnings.filterwarnings(\"ignore\")\n",
    "\n",
    "logging.basicConfig(stream=sys.stdout, level=logging.INFO)"
   ]
  },
  {
   "cell_type": "code",
   "execution_count": 2,
   "id": "e9492c01",
   "metadata": {},
   "outputs": [],
   "source": [
    "from src.pyaecal.map import Map"
   ]
  },
  {
   "cell_type": "code",
   "execution_count": 3,
   "id": "e1775a2c",
   "metadata": {},
   "outputs": [
    {
     "name": "stdout",
     "output_type": "stream",
     "text": [
      "Initial y values: [10, 20, 30]\n",
      "[[14.5 14.7 14.8]\n",
      " [14.6 14.8 15. ]\n",
      " [14.7 15.  15.2]]\n",
      "[ 1.45055556e+01  1.38095238e-01  5.23809524e-02  9.52380952e-03\n",
      "  3.73809524e-01  2.00000000e-01 -6.71684930e-15  4.52380952e-02\n",
      " -3.97043509e-14 -1.19047619e-01]\n"
     ]
    }
   ],
   "source": [
    "# Initialize a 3x3 map with original bounds\n",
    "x = [1000, 2000, 3000]\n",
    "y = [10, 20, 30]\n",
    "z = [[14.5, 14.7, 14.8], [14.6, 14.8, 15.0], [14.7, 15.0, 15.2]]\n",
    "throttle_map = Map(x=x, y=y, z=z, name=\"throttle_map\")\n",
    "print(f\"Initial y values: {throttle_map._y.values}\")  # Output: [10, 20, 30]\n",
    "print(throttle_map._z)\n",
    "print(throttle_map.poly_coeffs)"
   ]
  },
  {
   "cell_type": "code",
   "execution_count": 4,
   "id": "882375d4",
   "metadata": {},
   "outputs": [
    {
     "name": "stdout",
     "output_type": "stream",
     "text": [
      "Updated z values after first insert:\n",
      "[[15.00475376 15.84243994 14.62006661 11.33763375  5.99514137]\n",
      " [13.85240754 14.8612938  13.81012053 10.69888773  5.52759542]\n",
      " [13.87367996 15.7767728  15.61980613 13.40277993  9.1256942 ]\n",
      " [12.20671259 15.64424831 17.0217245  16.33914117 13.59649832]\n",
      " [ 5.06444976 10.59389438 14.06327948 15.47260505 14.8218711 ]]\n",
      "New size after first insert: 5 x 5\n",
      "x values: [1000 1500 2000 2500 3000]\n",
      "y values: [10 15 20 25 30]\n"
     ]
    }
   ],
   "source": [
    "# First insert (extends to 5x5 grid with unique values)\n",
    "x_new = pl.Series([1500, 2500])\n",
    "y_new = pl.Series([15, 25])\n",
    "z_new = pl.Series([12, 20])\n",
    "updated_z = throttle_map.insert(x=x_new, y=y_new, z=z_new)\n",
    "print(f\"Updated z values after first insert:\\n{updated_z}\")\n",
    "print(f\"New size after first insert: {throttle_map.size_x} x {throttle_map.size_y}\")\n",
    "print(f\"x values: {throttle_map._x.values}\")\n",
    "print(f\"y values: {throttle_map._y.values}\")"
   ]
  },
  {
   "cell_type": "code",
   "execution_count": 4,
   "id": "1a7aa04c",
   "metadata": {},
   "outputs": [
    {
     "name": "stdout",
     "output_type": "stream",
     "text": [
      "Updated z values after second insert:\n",
      "[[14.4067867  14.08533951 13.64927285 12.43328117 11.65335614]\n",
      " [14.37275108 14.10197951 13.71658849 12.60194808 11.87269868]\n",
      " [14.44961783 14.27254851 13.98085974 13.05362381 12.41807665]\n",
      " [14.66122444 14.82918149 14.88251909 14.64533592 14.35481514]\n",
      " [14.6055129  15.03906512 15.35799788 15.65200502 15.62707941]]\n",
      "New size after second insert: 5 x 5\n",
      "x values: [1000 1500 2000 3000 3500]\n",
      "y values: [10 15 20 30 35]\n"
     ]
    }
   ],
   "source": [
    "# Second insert with a value beyond the current max\n",
    "x_new2 = pl.Series([1500, 3500])  # 3500 exceeds 3000\n",
    "y_new2 = pl.Series([15, 35])      # 35 exceeds 30\n",
    "z_new2 = pl.Series([13, 16])\n",
    "updated_z2 = throttle_map.insert(x=x_new2, y=y_new2, z=z_new2)\n",
    "print(f\"Updated z values after second insert:\\n{updated_z2}\")\n",
    "print(f\"New size after second insert: {throttle_map.size_x} x {throttle_map.size_y}\")\n",
    "print(f\"x values: {throttle_map._x.values}\")\n",
    "print(f\"y values: {throttle_map._y.values}\")"
   ]
  },
  {
   "cell_type": "code",
   "execution_count": 5,
   "id": "f3096397",
   "metadata": {},
   "outputs": [
    {
     "name": "stdout",
     "output_type": "stream",
     "text": [
      "Interpolated z at (1500, 15): 14.10\n"
     ]
    }
   ],
   "source": [
    "# Test z interpolation\n",
    "z_value = throttle_map.z(1500, 15)\n",
    "print(f\"Interpolated z at (1500, 15): {z_value:.2f}\")"
   ]
  },
  {
   "cell_type": "code",
   "execution_count": 7,
   "id": "a8620c57",
   "metadata": {},
   "outputs": [
    {
     "data": {
      "text/plain": [
       "array([[14.08533951, 13.64927285, 13.04127701],\n",
       "       [14.27254851, 13.98085974, 13.51724177],\n",
       "       [14.82918149, 14.88251909, 14.76392751]])"
      ]
     },
     "execution_count": 7,
     "metadata": {},
     "output_type": "execute_result"
    }
   ],
   "source": [
    "map =throttle_map.create_new_map([1500,2000,2500],[10,20,30])\n",
    "map._z"
   ]
  }
 ],
 "metadata": {
  "kernelspec": {
   "display_name": ".venv",
   "language": "python",
   "name": "python3"
  },
  "language_info": {
   "codemirror_mode": {
    "name": "ipython",
    "version": 3
   },
   "file_extension": ".py",
   "mimetype": "text/x-python",
   "name": "python",
   "nbconvert_exporter": "python",
   "pygments_lexer": "ipython3",
   "version": "3.13.3"
  }
 },
 "nbformat": 4,
 "nbformat_minor": 5
}
