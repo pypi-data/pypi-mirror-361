{
 "cells": [
  {
   "cell_type": "markdown",
   "metadata": {},
   "source": [
    "# OTX Performance Benchmark History\n",
    "## Table of Contents\n",
    "1. [Anomaly Classification](#Anomaly-Classification)\n",
    "1. [Anomaly Detection](#Anomaly-Detection)\n",
    "1. [Anomaly Segmentation](#Anomaly-Segmentation)\n",
    "1. [Single-label Classificaiton](#Single-label-Classificaiton)\n",
    "1. [Single-label Classificaiton SemiSL](#Single-label-Classificaiton-SemiSL)\n",
    "1. [Multi-label Classification](#Multi-label-Classification)\n",
    "1. [Hierarchical-label Classification](#Hierarchical-label-Classification)\n",
    "1. [Object Detection](#Object-Detection)\n",
    "1. [Instance Segmentation](#Instance-Segmentation)\n",
    "1. [Semantic Segmentation](#Semantic-Segmentation)\n",
    "1. [Semantic Segmentation SemiSL](#Semantic-Segmentation-SemiSL)\n",
    "1. [Visual Prompting](#Visual-Prompting)\n",
    "1. [Zero-shot Visual Prompting](#Zero-shot-Visual-Prompting)\n",
    "1. [Keypoint Detection](#Keypoint-Detection)\n",
    "1. [Metadata](#Metadata)"
   ]
  },
  {
   "cell_type": "code",
   "execution_count": null,
   "metadata": {},
   "outputs": [],
   "source": [
    "import summary\n",
    "from pathlib import Path\n",
    "history = summary.load(root_dir=Path.cwd(), need_normalize=True, pattern=\"*raw*.csv\")"
   ]
  },
  {
   "cell_type": "markdown",
   "metadata": {},
   "source": [
    "## Anomaly Classification"
   ]
  },
  {
   "cell_type": "code",
   "execution_count": null,
   "metadata": {},
   "outputs": [],
   "source": [
    "task = \"anomaly_classification\"\n",
    "display(summary.summarize_table(history, task))\n",
    "summary.summarize_graph(history, task)\n",
    "summary.summarize_graph_geti(history, task)"
   ]
  },
  {
   "cell_type": "markdown",
   "metadata": {},
   "source": [
    "## Anomaly Detection"
   ]
  },
  {
   "cell_type": "code",
   "execution_count": null,
   "metadata": {},
   "outputs": [],
   "source": [
    "task = \"anomaly_detection\"\n",
    "display(summary.summarize_table(history, task))\n",
    "display(summary.summarize_graph(history, task))\n",
    "display(summary.summarize_graph_geti(history, task))"
   ]
  },
  {
   "cell_type": "markdown",
   "metadata": {},
   "source": [
    "## Anomaly Segmentation"
   ]
  },
  {
   "cell_type": "code",
   "execution_count": null,
   "metadata": {},
   "outputs": [],
   "source": [
    "task = \"anomaly_segmentation\"\n",
    "display(summary.summarize_table(history, task))\n",
    "display(summary.summarize_graph(history, task))\n",
    "display(summary.summarize_graph_geti(history, task))"
   ]
  },
  {
   "cell_type": "markdown",
   "metadata": {},
   "source": [
    "## Single-label Classificaiton"
   ]
  },
  {
   "cell_type": "code",
   "execution_count": null,
   "metadata": {},
   "outputs": [],
   "source": [
    "task = \"classification/multi_class_cls\"\n",
    "display(summary.summarize_table(history, task))\n",
    "display(summary.summarize_graph(history, task))\n",
    "display(summary.summarize_graph_geti(history, task))"
   ]
  },
  {
   "cell_type": "markdown",
   "metadata": {},
   "source": [
    "## Single-label Classificaiton SemiSL"
   ]
  },
  {
   "cell_type": "code",
   "execution_count": null,
   "metadata": {},
   "outputs": [],
   "source": [
    "task = \"classification/multi_class_cls_semisl\"\n",
    "display(summary.summarize_table(history, task))\n",
    "display(summary.summarize_graph(history, task))\n",
    "display(summary.summarize_graph_geti(history, task))"
   ]
  },
  {
   "cell_type": "markdown",
   "metadata": {},
   "source": [
    "## Multi-label Classification"
   ]
  },
  {
   "cell_type": "code",
   "execution_count": null,
   "metadata": {},
   "outputs": [],
   "source": [
    "task = \"classification/multi_label_cls\"\n",
    "display(summary.summarize_table(history, task))\n",
    "display(summary.summarize_graph(history, task))\n",
    "display(summary.summarize_graph_geti(history, task))"
   ]
  },
  {
   "cell_type": "markdown",
   "metadata": {},
   "source": [
    "## Hierarchical-label Classification"
   ]
  },
  {
   "cell_type": "code",
   "execution_count": null,
   "metadata": {},
   "outputs": [],
   "source": [
    "task = \"classification/h_label_cls\"\n",
    "display(summary.summarize_table(history, task))\n",
    "display(summary.summarize_graph(history, task))\n",
    "display(summary.summarize_graph_geti(history, task))"
   ]
  },
  {
   "cell_type": "markdown",
   "metadata": {},
   "source": [
    "## Object Detection"
   ]
  },
  {
   "cell_type": "code",
   "execution_count": null,
   "metadata": {},
   "outputs": [],
   "source": [
    "task = \"detection\"\n",
    "display(summary.summarize_table(history, task))\n",
    "display(summary.summarize_graph(history, task))\n",
    "display(summary.summarize_graph_geti(history, task))"
   ]
  },
  {
   "cell_type": "markdown",
   "metadata": {},
   "source": [
    "## Instance Segmentation"
   ]
  },
  {
   "cell_type": "code",
   "execution_count": null,
   "metadata": {},
   "outputs": [],
   "source": [
    "task = \"instance_segmentation\"\n",
    "display(summary.summarize_table(history, task))\n",
    "display(summary.summarize_graph(history, task))\n",
    "display(summary.summarize_graph_geti(history, task))"
   ]
  },
  {
   "cell_type": "markdown",
   "metadata": {},
   "source": [
    "## Semantic Segmentation"
   ]
  },
  {
   "cell_type": "code",
   "execution_count": null,
   "metadata": {},
   "outputs": [],
   "source": [
    "task = \"semantic_segmentation\"\n",
    "display(summary.summarize_table(history, task))\n",
    "display(summary.summarize_graph(history, task))\n",
    "display(summary.summarize_graph_geti(history, task))"
   ]
  },
  {
   "cell_type": "markdown",
   "metadata": {},
   "source": [
    "## Semantic Segmentation SemiSL"
   ]
  },
  {
   "cell_type": "code",
   "execution_count": null,
   "metadata": {},
   "outputs": [],
   "source": [
    "task = \"semantic_segmentation_semisl\"\n",
    "display(summary.summarize_table(history, task))\n",
    "display(summary.summarize_graph(history, task))\n",
    "display(summary.summarize_graph_geti(history, task))"
   ]
  },
  {
   "cell_type": "markdown",
   "metadata": {},
   "source": [
    "## Visual Prompting"
   ]
  },
  {
   "cell_type": "code",
   "execution_count": null,
   "metadata": {},
   "outputs": [],
   "source": [
    "task = \"visual_prompting\"\n",
    "display(summary.summarize_table(history, task))\n",
    "display(summary.summarize_graph(history, task))"
   ]
  },
  {
   "cell_type": "markdown",
   "metadata": {},
   "source": [
    "## Keypoint Detection"
   ]
  },
  {
   "cell_type": "code",
   "execution_count": null,
   "metadata": {},
   "outputs": [],
   "source": [
    "task = \"keypoint_detection\"\n",
    "display(summary.summarize_table(history, task))\n",
    "display(summary.summarize_graph(history, task))"
   ]
  },
  {
   "cell_type": "markdown",
   "metadata": {},
   "source": [
    "## Metadata"
   ]
  },
  {
   "cell_type": "code",
   "execution_count": null,
   "metadata": {},
   "outputs": [],
   "source": [
    "summary.summarize_meta(history)"
   ]
  }
 ],
 "metadata": {
  "kernelspec": {
   "display_name": "otx-v2",
   "language": "python",
   "name": "python3"
  },
  "language_info": {
   "codemirror_mode": {
    "name": "ipython",
    "version": 3
   },
   "file_extension": ".py",
   "mimetype": "text/x-python",
   "name": "python",
   "nbconvert_exporter": "python",
   "pygments_lexer": "ipython3",
   "version": "3.10.14"
  }
 },
 "nbformat": 4,
 "nbformat_minor": 2
}
