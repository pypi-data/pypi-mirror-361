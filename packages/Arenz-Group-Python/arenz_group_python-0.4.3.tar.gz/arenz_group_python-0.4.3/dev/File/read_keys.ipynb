{
 "cells": [
  {
   "cell_type": "code",
   "execution_count": 1,
   "metadata": {},
   "outputs": [
    {
     "name": "stdout",
     "output_type": "stream",
     "text": [
      "c:\\Users\\gusta\\Documents\\GitHub\\Arenz_Group_Python\\dev\\Project_Setup\\notebooks_models\n",
      "c:\\Users\\gusta\\Documents\\GitHub\\Arenz_Group_Python\\dev\\Project_Setup\\notebooks_models\n",
      "-\".env\" already exists\n"
     ]
    }
   ],
   "source": [
    "from arenz_group_python.project.make_files import make_env_file\n",
    "from arenz_group_python import Project_Paths\n",
    "from pathlib import Path\n",
    "print(Path.cwd())\n",
    "print(Project_Paths().cwd)\n",
    "make_env_file(Project_Paths().cwd)"
   ]
  },
  {
   "cell_type": "code",
   "execution_count": 2,
   "metadata": {},
   "outputs": [
    {
     "name": "stdout",
     "output_type": "stream",
     "text": [
      "\n",
      "{'a': 'b', 'c': 'd', 'e': '33', 'fe': 'fdf'}\n"
     ]
    }
   ],
   "source": [
    "exDict = {1:1, 2:2, 3:3}\n",
    "info=[]\n",
    "k={\"a\": \"b\"}\n",
    "with open('keys.txt', 'r') as file:\n",
    "    aa= True\n",
    "    while(aa):\n",
    "        a=  file.readline()\n",
    "        if a == \"\":\n",
    "            break\n",
    "        else:\n",
    "            info.append(a)\n",
    "            #print(a)\n",
    "            vals = a.split(\"=\",1)\n",
    "            if len(vals)>=2:\n",
    "                key= str(vals[0]).strip().replace(\"'\",\"\").replace('\"',\"\").strip()\n",
    "                k[key] = vals[1].strip()\n",
    "        \n",
    "    file.close\n",
    "print(a)\n",
    "print(k)"
   ]
  },
  {
   "cell_type": "code",
   "execution_count": 3,
   "metadata": {},
   "outputs": [
    {
     "name": "stdout",
     "output_type": "stream",
     "text": [
      "{'a': 'b', 'c': 'd', 'e': '33', 'fe': 'fdf'}\n"
     ]
    }
   ],
   "source": [
    "from arenz_group_python.data_treatment.key_values_to_file import read_keys_w_value\n",
    "\n",
    "a = read_keys_w_value(\"keys.txt\")\n",
    "print(a)\n"
   ]
  }
 ],
 "metadata": {
  "kernelspec": {
   "display_name": ".venv",
   "language": "python",
   "name": "python3"
  },
  "language_info": {
   "codemirror_mode": {
    "name": "ipython",
    "version": 3
   },
   "file_extension": ".py",
   "mimetype": "text/x-python",
   "name": "python",
   "nbconvert_exporter": "python",
   "pygments_lexer": "ipython3",
   "version": "3.12.1"
  }
 },
 "nbformat": 4,
 "nbformat_minor": 2
}
