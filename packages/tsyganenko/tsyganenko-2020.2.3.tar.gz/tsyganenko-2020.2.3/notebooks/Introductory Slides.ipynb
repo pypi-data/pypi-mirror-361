{
 "cells": [
  {
   "cell_type": "markdown",
   "metadata": {
    "slideshow": {
     "slide_type": "slide"
    }
   },
   "source": [
    "# The Tsyganenko module in Python\n",
    "\n",
    "### John C. Coxon\n",
    "University of Southampton, United Kingdom  \n",
    "J.Coxon@soton.ac.uk"
   ]
  },
  {
   "cell_type": "markdown",
   "metadata": {
    "slideshow": {
     "slide_type": "slide"
    }
   },
   "source": [
    "# History of the module\n",
    "\n",
    "* Based directly on Geopack-2008.for by N. A. Tsyganenko\n",
    "* Originally implemented using `f2py` by S. de Larquier in 2012, but not updated since\n",
    "* Updated by J. C. Coxon in 2020:\n",
    "    * Now uses the latest release (January 2020) of Geopack\n",
    "        * Updated IGRF coefficients (from IGRF-11 to IGRF-13)\n",
    "    * New unit tests to prevent bugs from updates to Geopack\n",
    "    * Fortran scripts to compare to expected unit test outputs\n",
    "    * New Python functions to nicely wrap Geopack subroutines"
   ]
  },
  {
   "cell_type": "markdown",
   "metadata": {
    "slideshow": {
     "slide_type": "slide"
    }
   },
   "source": [
    "# Installing the module\n",
    "\n",
    "**This module requires `numpy`, `matplotlib`, `f2py` and `gfortran`.**\n",
    "\n",
    "```\n",
    "git clone https://github.com/johncoxon/tsyganenko.git\n",
    "cd tsyganenko\n",
    "python setup.py install\n",
    "cd tests\n",
    "python -m unittest test.Trace1965to2015\n",
    "```"
   ]
  },
  {
   "cell_type": "markdown",
   "metadata": {
    "slideshow": {
     "slide_type": "slide"
    }
   },
   "source": [
    "# The `Trace` class"
   ]
  },
  {
   "cell_type": "code",
   "metadata": {
    "slideshow": {
     "slide_type": "fragment"
    }
   },
   "source": [
    "import datetime as dt\n",
    "import numpy as np\n",
    "from tsyganenko import Trace, convert, earth_radius\n",
    "import geopack_tsyganenko as geopack\n",
    "\n",
    "trace_dt = dt.datetime(2001,9,22,12)\n",
    "lats = np.arange(10, 90, 10)\n",
    "lons = 180.\n",
    "rhos = earth_radius\n",
    "trace = Trace(lats, lons, rhos, datetime=trace_dt)"
   ],
   "outputs": [],
   "execution_count": null
  },
  {
   "cell_type": "code",
   "metadata": {
    "slideshow": {
     "slide_type": "subslide"
    }
   },
   "source": [
    "from matplotlib import pyplot as plt\n",
    "\n",
    "fig = plt.figure(figsize=(16,9), dpi=300)\n",
    "trace.plot()\n",
    "plt.show()"
   ],
   "outputs": [],
   "execution_count": null
  },
  {
   "cell_type": "markdown",
   "metadata": {
    "slideshow": {
     "slide_type": "slide"
    }
   },
   "source": [
    "# Example usage: visualising the Dungey Cycle"
   ]
  },
  {
   "cell_type": "code",
   "metadata": {
    "slideshow": {
     "slide_type": "subslide"
    }
   },
   "source": [
    "trace_dt = dt.datetime(2001,9,22,12)\n",
    "\n",
    "latlon = np.array([[60,     0],\n",
    "                   [71,     0],\n",
    "                   [84,     0],\n",
    "                   [84,   180],\n",
    "                   [80,   180],\n",
    "                   [76,   180],\n",
    "                   [71.5, 180],\n",
    "                   [71,   180],\n",
    "                   [69,   180],\n",
    "                   [60,   180]])\n",
    "\n",
    "video_trace = Trace(latlon[:,0], latlon[:,1], earth_radius, datetime = trace_dt)"
   ],
   "outputs": [],
   "execution_count": null
  },
  {
   "cell_type": "code",
   "metadata": {
    "slideshow": {
     "slide_type": "subslide"
    }
   },
   "source": [
    "fig, ax = plt.subplots(figsize=(12,6), dpi=300)\n",
    "video_trace.plot(only_pts=[0,1,6,7,8,9], color='C0')\n",
    "video_trace.plot(only_pts=[2,3,4,5], color='C1', ls='--')\n",
    "ax.set(xlim=(12, -22), aspect=0.7)\n",
    "plt.show()"
   ],
   "outputs": [],
   "execution_count": null
  },
  {
   "cell_type": "code",
   "metadata": {
    "slideshow": {
     "slide_type": "subslide"
    }
   },
   "source": [
    "for i, _ in enumerate(latlon):\n",
    "    fig, ax = plt.subplots(figsize = [16,9])\n",
    "    video_trace.plot(ax, only_pts=i, lw=5)\n",
    "    ax.set(xlim=(10,-20), ylim=(-5,10), aspect='equal')\n",
    "    fig.savefig(\"Frame {:02d}.png\".format(i))"
   ],
   "outputs": [],
   "execution_count": null
  },
  {
   "cell_type": "markdown",
   "metadata": {
    "slideshow": {
     "slide_type": "slide"
    }
   },
   "source": [
    "# The `geopack` submodule"
   ]
  },
  {
   "cell_type": "markdown",
   "metadata": {
    "slideshow": {
     "slide_type": "subslide"
    }
   },
   "source": [
    "## `recalc_08`\n",
    "\n",
    "As with `Geopack`, you **must** call `recalc_08` before doing anything else."
   ]
  },
  {
   "cell_type": "code",
   "metadata": {
    "slideshow": {
     "slide_type": "fragment"
    }
   },
   "source": [
    "# Date and time\n",
    "year = 2000\n",
    "doy = 1\n",
    "hour = 0\n",
    "minute = 0\n",
    "second = 0\n",
    "\n",
    "# Solar wind speed\n",
    "vxgse = -400.\n",
    "vygse = 0.\n",
    "vzgse = 0.\n",
    "\n",
    "geopack.recalc_08(year, doy, hour, minute, second, vxgse, vygse, vzgse)"
   ],
   "outputs": [],
   "execution_count": null
  },
  {
   "cell_type": "markdown",
   "metadata": {
    "slideshow": {
     "slide_type": "subslide"
    }
   },
   "source": [
    "## Then you can use the `geopack` subroutines!\n",
    "\n",
    "### Coordinate conversions\n",
    "\n",
    "* `Geopack` provides several Fortran subroutines for coordinate conversions\n",
    "* Due to idiosyncrasies with the way Python and Fortran intersect, you have dummy variables in both the inputs and the outputs to the Python wrappers\n",
    "* The `convert` submodule aims to provide a more Pythonic interface to these routines"
   ]
  },
  {
   "cell_type": "code",
   "metadata": {
    "slideshow": {
     "slide_type": "subslide"
    }
   },
   "source": [
    "# Start point\n",
    "rho = 1.\n",
    "lat = 60.\n",
    "lon = 0.\n",
    "\n",
    "# Convert lat,lon to geographic cartesian and then gsw\n",
    "_, _, _, xgeo, ygeo, zgeo = geopack.sphcar_08(\n",
    "    rho, np.radians(90. - lat), np.radians(lon), 0., 0., 0., 1)\n",
    "\n",
    "print(\"Geographic cartesian coordinates: X = {:.2f} RE, Y = {:.2f} RE, Z = {:.2f} RE\\n\".format(xgeo, ygeo, zgeo))\n",
    "\n",
    "_, _, _, xgsw, ygsw, zgsw = geopack.geogsw_08(\n",
    "    xgeo, ygeo, zgeo, 0., 0. , 0., 1)\n",
    "\n",
    "print(\"GSW cartesian coordinates: X = {:.2f} RE, Y = {:.2f} RE, Z = {:.2f} RE\".format(xgsw, ygsw, zgsw))"
   ],
   "outputs": [],
   "execution_count": null
  },
  {
   "cell_type": "code",
   "metadata": {},
   "source": [
    "test = geopack.sphcar_08(rho, np.radians(90. - lat), np.radians(lon), 0., 0., 0., 1)"
   ],
   "outputs": [],
   "execution_count": null
  },
  {
   "cell_type": "code",
   "metadata": {},
   "source": [
    "xgeo = ygeo = zgeo = 0\n",
    "geopack.sphcar_08(rhos, np.radians(90. - lat), np.radians(lon), xgeo, ygeo, zgeo, 1)"
   ],
   "outputs": [],
   "execution_count": null
  },
  {
   "cell_type": "code",
   "metadata": {
    "slideshow": {
     "slide_type": "subslide"
    }
   },
   "source": [
    "xgeo, ygeo, zgeo = convert.sph_to_car(rho, np.radians(90. - lat), np.radians(lon))\n",
    "\n",
    "print(\"Geographic cartesian coordinates: X = {:.2f} RE, Y = {:.2f} RE, Z = {:.2f} RE\\n\".format(xgeo, ygeo, zgeo))\n",
    "\n",
    "xgsw, ygsw, zgsw = convert.coordinates(xgeo, ygeo, zgeo, 'GEO', 'GSW')\n",
    "\n",
    "print(\"GSW cartesian coordinates: X = {:.2f} RE, Y = {:.2f} RE, Z = {:.2f} RE\".format(xgsw, ygsw, zgsw))"
   ],
   "outputs": [],
   "execution_count": null
  },
  {
   "cell_type": "code",
   "metadata": {
    "slideshow": {
     "slide_type": "subslide"
    }
   },
   "source": [
    "lmax = 5000\n",
    "rlim = 60.\n",
    "r0 = 1. \n",
    "dsmax = .01\n",
    "err = .000001\n",
    "\n",
    "# Direction of the tracing\n",
    "mapto = 1\n",
    "\n",
    "# Magnetic activity (for T96, the first four elements of parmod are\n",
    "# solar wind dynamic pressure (nPa), Dst (nT), BY IMF (nT) and BZ IMF (nT)).\n",
    "parmod = np.zeros(10, dtype=float)\n",
    "parmod[0:4] = [2., -8., -2., -5.]\n",
    "\n",
    "# Trace field line\n",
    "xgsw_out, ygsw_out, zgsw_out, xarr, yarr, zarr, l_cnt = geopack.trace_08(\n",
    "    xgsw, ygsw, zgsw, mapto, dsmax, err, rlim, r0, 0, parmod,\n",
    "    'T96_01', 'IGRF_GSW_08', lmax)"
   ],
   "outputs": [],
   "execution_count": null
  },
  {
   "cell_type": "code",
   "metadata": {
    "slideshow": {
     "slide_type": "subslide"
    }
   },
   "source": [
    "x_out, y_out, z_out = convert.coordinates(xgsw_out, ygsw_out, zgsw_out, 'GSW', 'GEO')\n",
    "rho_out, colat_out, lon_out = convert.car_to_sph(x_out, y_out, z_out)\n",
    "\n",
    "print(\"Start: {:6.3f}, {:6.3f}, {:6.3f}\".format(lat, lon, rho))\n",
    "print(\"Stop:  {:6.3f}, {:6.3f}, {:6.3f}\".format(90 - np.degrees(colat_out), np.degrees(lon_out), rho_out))"
   ],
   "outputs": [],
   "execution_count": null
  },
  {
   "cell_type": "code",
   "metadata": {
    "slideshow": {
     "slide_type": "subslide"
    }
   },
   "source": [
    "from matplotlib import patches\n",
    "\n",
    "fig, ax = plt.subplots(figsize=(12,6))\n",
    "ax.plot(xarr[:l_cnt], zarr[:l_cnt])\n",
    "ax.set(xlim=(0,-4), aspect=1, xlabel=\"X (RE)\", ylabel=\"Z (RE)\")\n",
    "\n",
    "circle = patches.Circle(xy=(0, 0), radius=1, facecolor=\"0.8\", edgecolor=\"k\", alpha=.5, zorder=4)\n",
    "ax.add_patch(circle)\n",
    "\n",
    "plt.show()"
   ],
   "outputs": [],
   "execution_count": null
  },
  {
   "cell_type": "markdown",
   "metadata": {
    "slideshow": {
     "slide_type": "slide"
    }
   },
   "source": [
    "# Conclusions\n",
    "\n",
    "* `tsyganenko` has been updated and provides convenient access to Geopack in Python\n",
    "* Pythonic wrappers and direct access to the Fortran subroutines are both available\n",
    "* Future updates to Geopack should be easy to incorporate and test with the new test suite\n",
    "\n",
    "\n",
    "* I am keen to solicit feedback from the community: please email me!\n",
    "* A member of the Software Sustainability Institute in Southampton is currently reviewing the code\n",
    "* Thanks to N. A. Tsyganenko for Geopack and to S. de Larquier for getting the ball rolling!"
   ]
  }
 ],
 "metadata": {
  "celltoolbar": "Slideshow",
  "kernelspec": {
   "display_name": "Python 3 (ipykernel)",
   "language": "python",
   "name": "python3"
  },
  "language_info": {
   "codemirror_mode": {
    "name": "ipython",
    "version": 3
   },
   "file_extension": ".py",
   "mimetype": "text/x-python",
   "name": "python",
   "nbconvert_exporter": "python",
   "pygments_lexer": "ipython3",
   "version": "3.12.6"
  }
 },
 "nbformat": 4,
 "nbformat_minor": 4
}
