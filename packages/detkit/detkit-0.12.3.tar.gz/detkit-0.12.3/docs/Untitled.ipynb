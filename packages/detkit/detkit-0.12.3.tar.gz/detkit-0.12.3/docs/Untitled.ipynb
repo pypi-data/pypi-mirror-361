{
 "cells": [
  {
   "cell_type": "code",
   "execution_count": 1,
   "id": "596a639a-8780-4d67-9a7b-a0ad15e5f468",
   "metadata": {},
   "outputs": [
    {
     "name": "stdout",
     "output_type": "stream",
     "text": [
      "5.0 sc\n",
      "18.6 sc\n",
      "50.5120804652939\n",
      "88.1 KB\n",
      "763.2 MB\n",
      "0.0\n",
      "0.0\n",
      "\u001b[25m\u001b[0m| \u001b[35m\u001b[2mtime: \u001b[0m\u001b[35m 5.1 sc\u001b[0m | \u001b[36m\u001b[2mcpu: \u001b[0m\u001b[36m 50%\u001b[0m | \u001b[32m\u001b[2malloc: \u001b[0m\u001b[32m\u001b[1m\u001b[92m 763.2 MB\u001b[0m | \u001b[33m\u001b[2mread: \u001b[0m\u001b[33m     0  B\u001b[0m | \u001b[31m\u001b[2mwrite: \u001b[0m\u001b[31m     0  B\u001b[0m |\n"
     ]
    }
   ],
   "source": [
    "from detkit import Profile, memdet, human_readable_time, \\\n",
    "   human_readable_mem\n",
    "\n",
    "# Create a random matrix\n",
    "import numpy\n",
    "A = numpy.random.randn(10000, 10000)\n",
    "\n",
    "# Initialize profile\n",
    "prof = Profile()\n",
    "\n",
    "# Set the starting point of memory inquiry\n",
    "prof.set()\n",
    "\n",
    "# Perform a memory-intensive operation\n",
    "ld = memdet(A)\n",
    "\n",
    "# Inquiry wall time\n",
    "print(human_readable_time(prof.wall_time()))\n",
    "\n",
    "# Inquiry process time\n",
    "print(human_readable_time(prof.proc_time()))\n",
    "\n",
    "# Check CPU utilization (in percent)\n",
    "print(prof.cpu_utilization())\n",
    "\n",
    "# Inquiry the current memory allocation\n",
    "print(human_readable_mem(prof.mem_now()))\n",
    "\n",
    "# Inquiry the peak memory allocation\n",
    "print(human_readable_mem(prof.mem_peak()))\n",
    "\n",
    "# Inquiry read from disk during the above operation\n",
    "print(prof.disk_read())\n",
    "\n",
    "# Inquiry write to disk during the above operation, in MB unit\n",
    "print(prof.disk_write())\n",
    "\n",
    "# Inquiry write to disk during the above operation, in MB unit\n",
    "prof.print_profile(shape=A.shape, dtype=A.dtype)"
   ]
  },
  {
   "cell_type": "code",
   "execution_count": null,
   "id": "b6394b43-2ea7-4153-959a-f1f2c0a702ef",
   "metadata": {},
   "outputs": [],
   "source": []
  }
 ],
 "metadata": {
  "kernelspec": {
   "display_name": "Python 3 (ipykernel)",
   "language": "python",
   "name": "python3"
  },
  "language_info": {
   "codemirror_mode": {
    "name": "ipython",
    "version": 3
   },
   "file_extension": ".py",
   "mimetype": "text/x-python",
   "name": "python",
   "nbconvert_exporter": "python",
   "pygments_lexer": "ipython3",
   "version": "3.12.1"
  }
 },
 "nbformat": 4,
 "nbformat_minor": 5
}
