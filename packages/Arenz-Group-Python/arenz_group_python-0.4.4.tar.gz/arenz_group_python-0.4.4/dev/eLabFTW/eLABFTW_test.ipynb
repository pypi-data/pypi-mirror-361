{
 "cells": [
  {
   "cell_type": "markdown",
   "metadata": {},
   "source": [
    "# General installation from github\n",
    "This notebook creates a basic project structure. \n",
    "It is based on the article:\n",
    "https://github.com/elabftw/elabapi-python/tree/master/examples\n"
   ]
  },
  {
   "cell_type": "code",
   "execution_count": 1,
   "metadata": {},
   "outputs": [
    {
     "name": "stdout",
     "output_type": "stream",
     "text": [
      "\"data_treated\" could not be found as a branch of the folder tree form the notebook.\n",
      "Please use standard project structure.\n",
      "Project_Paths().create_project_structure()\n",
      "from the root of the project.\n",
      "\n"
     ]
    }
   ],
   "source": [
    "from arenz_group_python import Project_Paths\n",
    "from arenz_group_python import elabftw\n",
    "from arenz_group_python.elabftw.elabftw import API_HOST_URL\n",
    "import elabapi_python\n",
    "#Path of the file.\n"
   ]
  },
  {
   "cell_type": "code",
   "execution_count": 2,
   "metadata": {},
   "outputs": [],
   "source": [
    "from arenz_group_python import elabftw\n"
   ]
  },
  {
   "cell_type": "code",
   "execution_count": 3,
   "metadata": {},
   "outputs": [
    {
     "name": "stdout",
     "output_type": "stream",
     "text": [
      "Connection has not been established to the data base. Run 'connect' first.\n"
     ]
    }
   ],
   "source": [
    "elabftw.download_experiment(\"INK-JF060\")"
   ]
  },
  {
   "cell_type": "code",
   "execution_count": 4,
   "metadata": {},
   "outputs": [
    {
     "name": "stdout",
     "output_type": "stream",
     "text": [
      "Using API_HOST_URL: https://elabftw.dcbp.unibe.ch/api/V2\n"
     ]
    },
    {
     "name": "stderr",
     "output_type": "stream",
     "text": [
      "C:\\Users\\gusta\\Documents\\GitHub\\Arenz_Group_Python\\src\\arenz_group_python\\elabftw\\elabftw.py:210: SyntaxWarning: invalid escape sequence '\\{'\n",
      "  print(f\"----{i+1}/{len(experiment_structure)}------------------ID=\", obj.ID, f\"\\t<Project>\\{relpath}\")\n"
     ]
    },
    {
     "ename": "ApiException",
     "evalue": "(404)\nReason: Not Found\nHTTP response headers: HTTPHeaderDict({'Date': 'Tue, 01 Jul 2025 07:11:32 GMT', 'Content-Type': 'text/html', 'Content-Length': '1410', 'Connection': 'keep-alive', 'ETag': '\"68605e00-582\"', 'Strict-Transport-Security': 'max-age=63072000', 'X-XSS-Protection': '0', 'X-Content-Type-Options': 'nosniff', 'Content-Security-Policy': \"default-src 'self' data:; script-src 'self' ; connect-src 'self' blob: https://get.elabftw.net https://pubchem.ncbi.nlm.nih.gov; img-src 'self' data: blob:; style-src 'self' 'unsafe-inline'; font-src 'self' data:; object-src 'self'; base-uri 'none'; frame-ancestors 'self'\", 'Referrer-Policy': 'no-referrer', 'Permissions-Policy': \"autoplay 'none'; camera 'self'; document-domain 'none'; encrypted-media 'none'; fullscreen 'self'; geolocation 'none'; microphone 'self'; midi 'none'; payment 'none'; vr 'none'\", 'Vary': 'Accept-Encoding', 'Server': '51b', 'Access-Control-Allow-Credentials': 'true', 'Access-Control-Expose-Headers': 'Location, Content-Encoding, Content-Disposition, Cache-Control'})\nHTTP response body: b'<!DOCTYPE html>\\n<html lang=\"en\">\\n  <head>\\n    <meta http-equiv=\\'Content-type\\' content=\\'text/html;charset=UTF-8\\' />\\n    <meta name=\\'viewport\\' content=\\'width=device-width, initial-scale=1\\'>\\n    <meta name=\\'description\\' content=\\'Page not found - 404 - eLabFTW\\'>\\n    <title>Error | 404 - Page not found</title>\\n  </head>\\n\\n  <body>\\n    <style>\\n      body {\\n        align-items: center;\\n        background-color: #29AEB9;\\n        color: #fff;\\n        display: flex;\\n        flex-direction: column;\\n        font-family: \\'Arial\\';\\n        height: 100vh;\\n        justify-content: center;\\n        text-align: center;\\n      }\\n      a {\\n        color: #4d4c4c;\\n        text-decoration: none;\\n      }\\n      a:hover {\\n        color: #fff;\\n        text-decoration: underline;\\n      }\\n      .logo {\\n        font-weight: bold;\\n      }\\n    </style>\\n    <div class=\\'logo\\'>\\n      <pre>\\n    \\n          _          _     _____ _______        __\\n      ___| |    __ _| |__ |  ___|_   _\\\\ \\\\      / /\\n     / _ \\\\ |   / _| | \\'_ \\\\| |_    | |  \\\\ \\\\ /\\\\ / / \\n    |  __/ |__| (_| | |_) |  _|   | |   \\\\ V  V /  \\n     \\\\___|_____\\\\__,_|_.__/|_|     |_|    \\\\_/\\\\_/   \\n                                                  \\n      </pre>\\n    </div>\\n    <div>\\n      <h1>Error: the requested page was not found!</h1>\\n      <h2>Check the address in the URL bar for any mistake, or <a href=\\'/index.php\\'>go back to the index</a>.</h2>\\n    </div>\\n  </body>\\n</html>\\n'\n",
     "output_type": "error",
     "traceback": [
      "\u001b[31m---------------------------------------------------------------------------\u001b[39m",
      "\u001b[31mApiException\u001b[39m                              Traceback (most recent call last)",
      "\u001b[36mCell\u001b[39m\u001b[36m \u001b[39m\u001b[32mIn[4]\u001b[39m\u001b[32m, line 1\u001b[39m\n\u001b[32m----> \u001b[39m\u001b[32m1\u001b[39m \u001b[43melabftw\u001b[49m\u001b[43m.\u001b[49m\u001b[43mconnect\u001b[49m\u001b[43m(\u001b[49m\u001b[43m)\u001b[49m\n",
      "\u001b[36mFile \u001b[39m\u001b[32m~\\Documents\\GitHub\\Arenz_Group_Python\\src\\arenz_group_python\\elabftw\\__init__.py:20\u001b[39m, in \u001b[36mconnect\u001b[39m\u001b[34m(verify_ssl)\u001b[39m\n\u001b[32m     14\u001b[39m \u001b[38;5;250m\u001b[39m\u001b[33;03m\"\"\"Connect to the database.\u001b[39;00m\n\u001b[32m     15\u001b[39m \n\u001b[32m     16\u001b[39m \u001b[33;03mArgs:\u001b[39;00m\n\u001b[32m     17\u001b[39m \u001b[33;03m    verify_ssl (bool, optional): _description_. Defaults to True.\u001b[39;00m\n\u001b[32m     18\u001b[39m \u001b[33;03m\"\"\"\u001b[39;00m\n\u001b[32m     19\u001b[39m \u001b[38;5;66;03m#from .elabftw import connect_to_database\u001b[39;00m\n\u001b[32m---> \u001b[39m\u001b[32m20\u001b[39m \u001b[43mELAB\u001b[49m\u001b[43m.\u001b[49m\u001b[43mconnect_to_database\u001b[49m\u001b[43m(\u001b[49m\u001b[43mverify_ssl\u001b[49m\u001b[43m)\u001b[49m\n",
      "\u001b[36mFile \u001b[39m\u001b[32m~\\Documents\\GitHub\\Arenz_Group_Python\\src\\arenz_group_python\\elabftw\\elabftw.py:82\u001b[39m, in \u001b[36melabFTW_wrapper.connect_to_database\u001b[39m\u001b[34m(self, verify_ssl)\u001b[39m\n\u001b[32m     79\u001b[39m \u001b[38;5;66;03m#### SCRIPT START ##################\u001b[39;00m\n\u001b[32m     81\u001b[39m info_client = elabapi_python.InfoApi(\u001b[38;5;28mself\u001b[39m.api_client)\n\u001b[32m---> \u001b[39m\u001b[32m82\u001b[39m api_response = \u001b[43minfo_client\u001b[49m\u001b[43m.\u001b[49m\u001b[43mget_info\u001b[49m\u001b[43m(\u001b[49m\u001b[43m)\u001b[49m\n\u001b[32m     83\u001b[39m \u001b[38;5;28;01mif\u001b[39;00m api_response \u001b[38;5;129;01mis\u001b[39;00m \u001b[38;5;129;01mnot\u001b[39;00m \u001b[38;5;28;01mNone\u001b[39;00m:\n\u001b[32m     84\u001b[39m     \u001b[38;5;28mprint\u001b[39m(\u001b[33m\"\u001b[39m\u001b[33mConnected to DB.\u001b[39m\u001b[33m\"\u001b[39m)\n",
      "\u001b[36mFile \u001b[39m\u001b[32mc:\\Users\\gusta\\Documents\\GitHub\\Arenz_Group_Python\\.venv\\Lib\\site-packages\\elabapi_python\\api\\info_api.py:53\u001b[39m, in \u001b[36mInfoApi.get_info\u001b[39m\u001b[34m(self, **kwargs)\u001b[39m\n\u001b[32m     51\u001b[39m     \u001b[38;5;28;01mreturn\u001b[39;00m \u001b[38;5;28mself\u001b[39m.get_info_with_http_info(**kwargs)  \u001b[38;5;66;03m# noqa: E501\u001b[39;00m\n\u001b[32m     52\u001b[39m \u001b[38;5;28;01melse\u001b[39;00m:\n\u001b[32m---> \u001b[39m\u001b[32m53\u001b[39m     (data) = \u001b[38;5;28;43mself\u001b[39;49m\u001b[43m.\u001b[49m\u001b[43mget_info_with_http_info\u001b[49m\u001b[43m(\u001b[49m\u001b[43m*\u001b[49m\u001b[43m*\u001b[49m\u001b[43mkwargs\u001b[49m\u001b[43m)\u001b[49m  \u001b[38;5;66;03m# noqa: E501\u001b[39;00m\n\u001b[32m     54\u001b[39m     \u001b[38;5;28;01mreturn\u001b[39;00m data\n",
      "\u001b[36mFile \u001b[39m\u001b[32mc:\\Users\\gusta\\Documents\\GitHub\\Arenz_Group_Python\\.venv\\Lib\\site-packages\\elabapi_python\\api\\info_api.py:106\u001b[39m, in \u001b[36mInfoApi.get_info_with_http_info\u001b[39m\u001b[34m(self, **kwargs)\u001b[39m\n\u001b[32m    103\u001b[39m \u001b[38;5;66;03m# Authentication setting\u001b[39;00m\n\u001b[32m    104\u001b[39m auth_settings = [\u001b[33m'\u001b[39m\u001b[33mtoken\u001b[39m\u001b[33m'\u001b[39m]  \u001b[38;5;66;03m# noqa: E501\u001b[39;00m\n\u001b[32m--> \u001b[39m\u001b[32m106\u001b[39m \u001b[38;5;28;01mreturn\u001b[39;00m \u001b[38;5;28;43mself\u001b[39;49m\u001b[43m.\u001b[49m\u001b[43mapi_client\u001b[49m\u001b[43m.\u001b[49m\u001b[43mcall_api\u001b[49m\u001b[43m(\u001b[49m\n\u001b[32m    107\u001b[39m \u001b[43m    \u001b[49m\u001b[33;43m'\u001b[39;49m\u001b[33;43m/info\u001b[39;49m\u001b[33;43m'\u001b[39;49m\u001b[43m,\u001b[49m\u001b[43m \u001b[49m\u001b[33;43m'\u001b[39;49m\u001b[33;43mGET\u001b[39;49m\u001b[33;43m'\u001b[39;49m\u001b[43m,\u001b[49m\n\u001b[32m    108\u001b[39m \u001b[43m    \u001b[49m\u001b[43mpath_params\u001b[49m\u001b[43m,\u001b[49m\n\u001b[32m    109\u001b[39m \u001b[43m    \u001b[49m\u001b[43mquery_params\u001b[49m\u001b[43m,\u001b[49m\n\u001b[32m    110\u001b[39m \u001b[43m    \u001b[49m\u001b[43mheader_params\u001b[49m\u001b[43m,\u001b[49m\n\u001b[32m    111\u001b[39m \u001b[43m    \u001b[49m\u001b[43mbody\u001b[49m\u001b[43m=\u001b[49m\u001b[43mbody_params\u001b[49m\u001b[43m,\u001b[49m\n\u001b[32m    112\u001b[39m \u001b[43m    \u001b[49m\u001b[43mpost_params\u001b[49m\u001b[43m=\u001b[49m\u001b[43mform_params\u001b[49m\u001b[43m,\u001b[49m\n\u001b[32m    113\u001b[39m \u001b[43m    \u001b[49m\u001b[43mfiles\u001b[49m\u001b[43m=\u001b[49m\u001b[43mlocal_var_files\u001b[49m\u001b[43m,\u001b[49m\n\u001b[32m    114\u001b[39m \u001b[43m    \u001b[49m\u001b[43mresponse_type\u001b[49m\u001b[43m=\u001b[49m\u001b[33;43m'\u001b[39;49m\u001b[33;43mInlineResponse200\u001b[39;49m\u001b[33;43m'\u001b[39;49m\u001b[43m,\u001b[49m\u001b[43m  \u001b[49m\u001b[38;5;66;43;03m# noqa: E501\u001b[39;49;00m\n\u001b[32m    115\u001b[39m \u001b[43m    \u001b[49m\u001b[43mauth_settings\u001b[49m\u001b[43m=\u001b[49m\u001b[43mauth_settings\u001b[49m\u001b[43m,\u001b[49m\n\u001b[32m    116\u001b[39m \u001b[43m    \u001b[49m\u001b[43masync_req\u001b[49m\u001b[43m=\u001b[49m\u001b[43mparams\u001b[49m\u001b[43m.\u001b[49m\u001b[43mget\u001b[49m\u001b[43m(\u001b[49m\u001b[33;43m'\u001b[39;49m\u001b[33;43masync_req\u001b[39;49m\u001b[33;43m'\u001b[39;49m\u001b[43m)\u001b[49m\u001b[43m,\u001b[49m\n\u001b[32m    117\u001b[39m \u001b[43m    \u001b[49m\u001b[43m_return_http_data_only\u001b[49m\u001b[43m=\u001b[49m\u001b[43mparams\u001b[49m\u001b[43m.\u001b[49m\u001b[43mget\u001b[49m\u001b[43m(\u001b[49m\u001b[33;43m'\u001b[39;49m\u001b[33;43m_return_http_data_only\u001b[39;49m\u001b[33;43m'\u001b[39;49m\u001b[43m)\u001b[49m\u001b[43m,\u001b[49m\n\u001b[32m    118\u001b[39m \u001b[43m    \u001b[49m\u001b[43m_preload_content\u001b[49m\u001b[43m=\u001b[49m\u001b[43mparams\u001b[49m\u001b[43m.\u001b[49m\u001b[43mget\u001b[49m\u001b[43m(\u001b[49m\u001b[33;43m'\u001b[39;49m\u001b[33;43m_preload_content\u001b[39;49m\u001b[33;43m'\u001b[39;49m\u001b[43m,\u001b[49m\u001b[43m \u001b[49m\u001b[38;5;28;43;01mTrue\u001b[39;49;00m\u001b[43m)\u001b[49m\u001b[43m,\u001b[49m\n\u001b[32m    119\u001b[39m \u001b[43m    \u001b[49m\u001b[43m_request_timeout\u001b[49m\u001b[43m=\u001b[49m\u001b[43mparams\u001b[49m\u001b[43m.\u001b[49m\u001b[43mget\u001b[49m\u001b[43m(\u001b[49m\u001b[33;43m'\u001b[39;49m\u001b[33;43m_request_timeout\u001b[39;49m\u001b[33;43m'\u001b[39;49m\u001b[43m)\u001b[49m\u001b[43m,\u001b[49m\n\u001b[32m    120\u001b[39m \u001b[43m    \u001b[49m\u001b[43mcollection_formats\u001b[49m\u001b[43m=\u001b[49m\u001b[43mcollection_formats\u001b[49m\u001b[43m)\u001b[49m\n",
      "\u001b[36mFile \u001b[39m\u001b[32mc:\\Users\\gusta\\Documents\\GitHub\\Arenz_Group_Python\\.venv\\Lib\\site-packages\\elabapi_python\\api_client.py:316\u001b[39m, in \u001b[36mApiClient.call_api\u001b[39m\u001b[34m(self, resource_path, method, path_params, query_params, header_params, body, post_params, files, response_type, auth_settings, async_req, _return_http_data_only, collection_formats, _preload_content, _request_timeout)\u001b[39m\n\u001b[32m    279\u001b[39m \u001b[38;5;250m\u001b[39m\u001b[33;03m\"\"\"Makes the HTTP request (synchronous) and returns deserialized data.\u001b[39;00m\n\u001b[32m    280\u001b[39m \n\u001b[32m    281\u001b[39m \u001b[33;03mTo make an async request, set the async_req parameter.\u001b[39;00m\n\u001b[32m   (...)\u001b[39m\u001b[32m    313\u001b[39m \u001b[33;03m    then the method will return the response directly.\u001b[39;00m\n\u001b[32m    314\u001b[39m \u001b[33;03m\"\"\"\u001b[39;00m\n\u001b[32m    315\u001b[39m \u001b[38;5;28;01mif\u001b[39;00m \u001b[38;5;129;01mnot\u001b[39;00m async_req:\n\u001b[32m--> \u001b[39m\u001b[32m316\u001b[39m     \u001b[38;5;28;01mreturn\u001b[39;00m \u001b[38;5;28;43mself\u001b[39;49m\u001b[43m.\u001b[49m\u001b[43m__call_api\u001b[49m\u001b[43m(\u001b[49m\u001b[43mresource_path\u001b[49m\u001b[43m,\u001b[49m\u001b[43m \u001b[49m\u001b[43mmethod\u001b[49m\u001b[43m,\u001b[49m\n\u001b[32m    317\u001b[39m \u001b[43m                           \u001b[49m\u001b[43mpath_params\u001b[49m\u001b[43m,\u001b[49m\u001b[43m \u001b[49m\u001b[43mquery_params\u001b[49m\u001b[43m,\u001b[49m\u001b[43m \u001b[49m\u001b[43mheader_params\u001b[49m\u001b[43m,\u001b[49m\n\u001b[32m    318\u001b[39m \u001b[43m                           \u001b[49m\u001b[43mbody\u001b[49m\u001b[43m,\u001b[49m\u001b[43m \u001b[49m\u001b[43mpost_params\u001b[49m\u001b[43m,\u001b[49m\u001b[43m \u001b[49m\u001b[43mfiles\u001b[49m\u001b[43m,\u001b[49m\n\u001b[32m    319\u001b[39m \u001b[43m                           \u001b[49m\u001b[43mresponse_type\u001b[49m\u001b[43m,\u001b[49m\u001b[43m \u001b[49m\u001b[43mauth_settings\u001b[49m\u001b[43m,\u001b[49m\n\u001b[32m    320\u001b[39m \u001b[43m                           \u001b[49m\u001b[43m_return_http_data_only\u001b[49m\u001b[43m,\u001b[49m\u001b[43m \u001b[49m\u001b[43mcollection_formats\u001b[49m\u001b[43m,\u001b[49m\n\u001b[32m    321\u001b[39m \u001b[43m                           \u001b[49m\u001b[43m_preload_content\u001b[49m\u001b[43m,\u001b[49m\u001b[43m \u001b[49m\u001b[43m_request_timeout\u001b[49m\u001b[43m)\u001b[49m\n\u001b[32m    322\u001b[39m \u001b[38;5;28;01melse\u001b[39;00m:\n\u001b[32m    323\u001b[39m     thread = \u001b[38;5;28mself\u001b[39m.pool.apply_async(\u001b[38;5;28mself\u001b[39m.__call_api, (resource_path,\n\u001b[32m    324\u001b[39m                                    method, path_params, query_params,\n\u001b[32m    325\u001b[39m                                    header_params, body,\n\u001b[32m   (...)\u001b[39m\u001b[32m    329\u001b[39m                                    collection_formats,\n\u001b[32m    330\u001b[39m                                    _preload_content, _request_timeout))\n",
      "\u001b[36mFile \u001b[39m\u001b[32mc:\\Users\\gusta\\Documents\\GitHub\\Arenz_Group_Python\\.venv\\Lib\\site-packages\\elabapi_python\\api_client.py:148\u001b[39m, in \u001b[36mApiClient.__call_api\u001b[39m\u001b[34m(self, resource_path, method, path_params, query_params, header_params, body, post_params, files, response_type, auth_settings, _return_http_data_only, collection_formats, _preload_content, _request_timeout)\u001b[39m\n\u001b[32m    145\u001b[39m url = \u001b[38;5;28mself\u001b[39m.configuration.host + resource_path\n\u001b[32m    147\u001b[39m \u001b[38;5;66;03m# perform request and return response\u001b[39;00m\n\u001b[32m--> \u001b[39m\u001b[32m148\u001b[39m response_data = \u001b[38;5;28;43mself\u001b[39;49m\u001b[43m.\u001b[49m\u001b[43mrequest\u001b[49m\u001b[43m(\u001b[49m\n\u001b[32m    149\u001b[39m \u001b[43m    \u001b[49m\u001b[43mmethod\u001b[49m\u001b[43m,\u001b[49m\u001b[43m \u001b[49m\u001b[43murl\u001b[49m\u001b[43m,\u001b[49m\u001b[43m \u001b[49m\u001b[43mquery_params\u001b[49m\u001b[43m=\u001b[49m\u001b[43mquery_params\u001b[49m\u001b[43m,\u001b[49m\u001b[43m \u001b[49m\u001b[43mheaders\u001b[49m\u001b[43m=\u001b[49m\u001b[43mheader_params\u001b[49m\u001b[43m,\u001b[49m\n\u001b[32m    150\u001b[39m \u001b[43m    \u001b[49m\u001b[43mpost_params\u001b[49m\u001b[43m=\u001b[49m\u001b[43mpost_params\u001b[49m\u001b[43m,\u001b[49m\u001b[43m \u001b[49m\u001b[43mbody\u001b[49m\u001b[43m=\u001b[49m\u001b[43mbody\u001b[49m\u001b[43m,\u001b[49m\n\u001b[32m    151\u001b[39m \u001b[43m    \u001b[49m\u001b[43m_preload_content\u001b[49m\u001b[43m=\u001b[49m\u001b[43m_preload_content\u001b[49m\u001b[43m,\u001b[49m\n\u001b[32m    152\u001b[39m \u001b[43m    \u001b[49m\u001b[43m_request_timeout\u001b[49m\u001b[43m=\u001b[49m\u001b[43m_request_timeout\u001b[49m\u001b[43m)\u001b[49m\n\u001b[32m    154\u001b[39m \u001b[38;5;28mself\u001b[39m.last_response = response_data\n\u001b[32m    156\u001b[39m return_data = response_data\n",
      "\u001b[36mFile \u001b[39m\u001b[32mc:\\Users\\gusta\\Documents\\GitHub\\Arenz_Group_Python\\.venv\\Lib\\site-packages\\elabapi_python\\api_client.py:338\u001b[39m, in \u001b[36mApiClient.request\u001b[39m\u001b[34m(self, method, url, query_params, headers, post_params, body, _preload_content, _request_timeout)\u001b[39m\n\u001b[32m    336\u001b[39m \u001b[38;5;250m\u001b[39m\u001b[33;03m\"\"\"Makes the HTTP request using RESTClient.\"\"\"\u001b[39;00m\n\u001b[32m    337\u001b[39m \u001b[38;5;28;01mif\u001b[39;00m method == \u001b[33m\"\u001b[39m\u001b[33mGET\u001b[39m\u001b[33m\"\u001b[39m:\n\u001b[32m--> \u001b[39m\u001b[32m338\u001b[39m     \u001b[38;5;28;01mreturn\u001b[39;00m \u001b[38;5;28;43mself\u001b[39;49m\u001b[43m.\u001b[49m\u001b[43mrest_client\u001b[49m\u001b[43m.\u001b[49m\u001b[43mGET\u001b[49m\u001b[43m(\u001b[49m\u001b[43murl\u001b[49m\u001b[43m,\u001b[49m\n\u001b[32m    339\u001b[39m \u001b[43m                                \u001b[49m\u001b[43mquery_params\u001b[49m\u001b[43m=\u001b[49m\u001b[43mquery_params\u001b[49m\u001b[43m,\u001b[49m\n\u001b[32m    340\u001b[39m \u001b[43m                                \u001b[49m\u001b[43m_preload_content\u001b[49m\u001b[43m=\u001b[49m\u001b[43m_preload_content\u001b[49m\u001b[43m,\u001b[49m\n\u001b[32m    341\u001b[39m \u001b[43m                                \u001b[49m\u001b[43m_request_timeout\u001b[49m\u001b[43m=\u001b[49m\u001b[43m_request_timeout\u001b[49m\u001b[43m,\u001b[49m\n\u001b[32m    342\u001b[39m \u001b[43m                                \u001b[49m\u001b[43mheaders\u001b[49m\u001b[43m=\u001b[49m\u001b[43mheaders\u001b[49m\u001b[43m)\u001b[49m\n\u001b[32m    343\u001b[39m \u001b[38;5;28;01melif\u001b[39;00m method == \u001b[33m\"\u001b[39m\u001b[33mHEAD\u001b[39m\u001b[33m\"\u001b[39m:\n\u001b[32m    344\u001b[39m     \u001b[38;5;28;01mreturn\u001b[39;00m \u001b[38;5;28mself\u001b[39m.rest_client.HEAD(url,\n\u001b[32m    345\u001b[39m                                  query_params=query_params,\n\u001b[32m    346\u001b[39m                                  _preload_content=_preload_content,\n\u001b[32m    347\u001b[39m                                  _request_timeout=_request_timeout,\n\u001b[32m    348\u001b[39m                                  headers=headers)\n",
      "\u001b[36mFile \u001b[39m\u001b[32mc:\\Users\\gusta\\Documents\\GitHub\\Arenz_Group_Python\\.venv\\Lib\\site-packages\\elabapi_python\\rest.py:228\u001b[39m, in \u001b[36mRESTClientObject.GET\u001b[39m\u001b[34m(self, url, headers, query_params, _preload_content, _request_timeout)\u001b[39m\n\u001b[32m    226\u001b[39m \u001b[38;5;28;01mdef\u001b[39;00m\u001b[38;5;250m \u001b[39m\u001b[34mGET\u001b[39m(\u001b[38;5;28mself\u001b[39m, url, headers=\u001b[38;5;28;01mNone\u001b[39;00m, query_params=\u001b[38;5;28;01mNone\u001b[39;00m, _preload_content=\u001b[38;5;28;01mTrue\u001b[39;00m,\n\u001b[32m    227\u001b[39m         _request_timeout=\u001b[38;5;28;01mNone\u001b[39;00m):\n\u001b[32m--> \u001b[39m\u001b[32m228\u001b[39m     \u001b[38;5;28;01mreturn\u001b[39;00m \u001b[38;5;28;43mself\u001b[39;49m\u001b[43m.\u001b[49m\u001b[43mrequest\u001b[49m\u001b[43m(\u001b[49m\u001b[33;43m\"\u001b[39;49m\u001b[33;43mGET\u001b[39;49m\u001b[33;43m\"\u001b[39;49m\u001b[43m,\u001b[49m\u001b[43m \u001b[49m\u001b[43murl\u001b[49m\u001b[43m,\u001b[49m\n\u001b[32m    229\u001b[39m \u001b[43m                        \u001b[49m\u001b[43mheaders\u001b[49m\u001b[43m=\u001b[49m\u001b[43mheaders\u001b[49m\u001b[43m,\u001b[49m\n\u001b[32m    230\u001b[39m \u001b[43m                        \u001b[49m\u001b[43m_preload_content\u001b[49m\u001b[43m=\u001b[49m\u001b[43m_preload_content\u001b[49m\u001b[43m,\u001b[49m\n\u001b[32m    231\u001b[39m \u001b[43m                        \u001b[49m\u001b[43m_request_timeout\u001b[49m\u001b[43m=\u001b[49m\u001b[43m_request_timeout\u001b[49m\u001b[43m,\u001b[49m\n\u001b[32m    232\u001b[39m \u001b[43m                        \u001b[49m\u001b[43mquery_params\u001b[49m\u001b[43m=\u001b[49m\u001b[43mquery_params\u001b[49m\u001b[43m)\u001b[49m\n",
      "\u001b[36mFile \u001b[39m\u001b[32mc:\\Users\\gusta\\Documents\\GitHub\\Arenz_Group_Python\\.venv\\Lib\\site-packages\\elabapi_python\\rest.py:222\u001b[39m, in \u001b[36mRESTClientObject.request\u001b[39m\u001b[34m(self, method, url, query_params, headers, body, post_params, _preload_content, _request_timeout)\u001b[39m\n\u001b[32m    219\u001b[39m     logger.debug(\u001b[33m\"\u001b[39m\u001b[33mresponse body: \u001b[39m\u001b[38;5;132;01m%s\u001b[39;00m\u001b[33m\"\u001b[39m, r.data)\n\u001b[32m    221\u001b[39m \u001b[38;5;28;01mif\u001b[39;00m \u001b[38;5;129;01mnot\u001b[39;00m \u001b[32m200\u001b[39m <= r.status <= \u001b[32m299\u001b[39m:\n\u001b[32m--> \u001b[39m\u001b[32m222\u001b[39m     \u001b[38;5;28;01mraise\u001b[39;00m ApiException(http_resp=r)\n\u001b[32m    224\u001b[39m \u001b[38;5;28;01mreturn\u001b[39;00m r\n",
      "\u001b[31mApiException\u001b[39m: (404)\nReason: Not Found\nHTTP response headers: HTTPHeaderDict({'Date': 'Tue, 01 Jul 2025 07:11:32 GMT', 'Content-Type': 'text/html', 'Content-Length': '1410', 'Connection': 'keep-alive', 'ETag': '\"68605e00-582\"', 'Strict-Transport-Security': 'max-age=63072000', 'X-XSS-Protection': '0', 'X-Content-Type-Options': 'nosniff', 'Content-Security-Policy': \"default-src 'self' data:; script-src 'self' ; connect-src 'self' blob: https://get.elabftw.net https://pubchem.ncbi.nlm.nih.gov; img-src 'self' data: blob:; style-src 'self' 'unsafe-inline'; font-src 'self' data:; object-src 'self'; base-uri 'none'; frame-ancestors 'self'\", 'Referrer-Policy': 'no-referrer', 'Permissions-Policy': \"autoplay 'none'; camera 'self'; document-domain 'none'; encrypted-media 'none'; fullscreen 'self'; geolocation 'none'; microphone 'self'; midi 'none'; payment 'none'; vr 'none'\", 'Vary': 'Accept-Encoding', 'Server': '51b', 'Access-Control-Allow-Credentials': 'true', 'Access-Control-Expose-Headers': 'Location, Content-Encoding, Content-Disposition, Cache-Control'})\nHTTP response body: b'<!DOCTYPE html>\\n<html lang=\"en\">\\n  <head>\\n    <meta http-equiv=\\'Content-type\\' content=\\'text/html;charset=UTF-8\\' />\\n    <meta name=\\'viewport\\' content=\\'width=device-width, initial-scale=1\\'>\\n    <meta name=\\'description\\' content=\\'Page not found - 404 - eLabFTW\\'>\\n    <title>Error | 404 - Page not found</title>\\n  </head>\\n\\n  <body>\\n    <style>\\n      body {\\n        align-items: center;\\n        background-color: #29AEB9;\\n        color: #fff;\\n        display: flex;\\n        flex-direction: column;\\n        font-family: \\'Arial\\';\\n        height: 100vh;\\n        justify-content: center;\\n        text-align: center;\\n      }\\n      a {\\n        color: #4d4c4c;\\n        text-decoration: none;\\n      }\\n      a:hover {\\n        color: #fff;\\n        text-decoration: underline;\\n      }\\n      .logo {\\n        font-weight: bold;\\n      }\\n    </style>\\n    <div class=\\'logo\\'>\\n      <pre>\\n    \\n          _          _     _____ _______        __\\n      ___| |    __ _| |__ |  ___|_   _\\\\ \\\\      / /\\n     / _ \\\\ |   / _| | \\'_ \\\\| |_    | |  \\\\ \\\\ /\\\\ / / \\n    |  __/ |__| (_| | |_) |  _|   | |   \\\\ V  V /  \\n     \\\\___|_____\\\\__,_|_.__/|_|     |_|    \\\\_/\\\\_/   \\n                                                  \\n      </pre>\\n    </div>\\n    <div>\\n      <h1>Error: the requested page was not found!</h1>\\n      <h2>Check the address in the URL bar for any mistake, or <a href=\\'/index.php\\'>go back to the index</a>.</h2>\\n    </div>\\n  </body>\\n</html>\\n'\n"
     ]
    }
   ],
   "source": [
    "elabftw.connect()\n"
   ]
  },
  {
   "cell_type": "code",
   "execution_count": null,
   "metadata": {},
   "outputs": [
    {
     "name": "stdout",
     "output_type": "stream",
     "text": [
      "Experiment not found.\n"
     ]
    }
   ],
   "source": [
    "elabftw.download_experiment(\"Ia060\")"
   ]
  },
  {
   "cell_type": "code",
   "execution_count": null,
   "metadata": {},
   "outputs": [
    {
     "name": "stdout",
     "output_type": "stream",
     "text": [
      "Connection has not been established to the data base. Run 'connect' first.\n"
     ]
    }
   ],
   "source": [
    "elabftw.download_experiment(\"INK-JF060\")"
   ]
  },
  {
   "cell_type": "code",
   "execution_count": null,
   "metadata": {},
   "outputs": [
    {
     "name": "stdout",
     "output_type": "stream",
     "text": [
      "15\n",
      "ATS-JF061\n",
      "MWE-JF013 pre_capacitance\n",
      "MWE-JF013 post_capacitance\n",
      "INK-JF060\n",
      "MWE-JF016 Activity Assessment\n",
      "MWE-JF015 Activity Assessment\n",
      "MWE-JF014 Activity Assessment\n",
      "MWE-JF015\n",
      "MWE-JF014\n",
      "MWE-JF013 Activity Assessment\n",
      "MWE-JF013\n",
      "INK-JF059\n",
      "ATS-JF059\n",
      "ATS-JF060\n",
      "MWE-JF016\n"
     ]
    }
   ],
   "source": [
    "lista = elabftw.read_experiments(q=\"JF\")\n",
    "\n",
    "print(len(lista))\n",
    "for i in lista:\n",
    "    print(i.title)"
   ]
  }
 ],
 "metadata": {
  "kernelspec": {
   "display_name": "Python 3",
   "language": "python",
   "name": "python3"
  },
  "language_info": {
   "codemirror_mode": {
    "name": "ipython",
    "version": 3
   },
   "file_extension": ".py",
   "mimetype": "text/x-python",
   "name": "python",
   "nbconvert_exporter": "python",
   "pygments_lexer": "ipython3",
   "version": "3.11.5"
  }
 },
 "nbformat": 4,
 "nbformat_minor": 2
}
