{
 "cells": [
  {
   "cell_type": "markdown",
   "id": "1a108871",
   "metadata": {},
   "source": [
    "# Interest Rates Swaps Fundamentals"
   ]
  },
  {
   "cell_type": "markdown",
   "id": "3a4cef20",
   "metadata": {},
   "source": [
    "This notebook demonstrates how to access and use the functionalities of **Swaps** which are part of our **QPS** module within LSEG Financial Analytics SDK."
   ]
  },
  {
   "cell_type": "code",
   "execution_count": 1,
   "id": "7df1f746",
   "metadata": {
    "execution": {
     "iopub.execute_input": "2025-06-27T09:42:03.342467Z",
     "iopub.status.busy": "2025-06-27T09:42:03.341985Z",
     "iopub.status.idle": "2025-06-27T09:42:03.817350Z",
     "shell.execute_reply": "2025-06-27T09:42:03.816796Z"
    }
   },
   "outputs": [],
   "source": [
    "from lseg_analytics.instruments.ir_swaps import search, load, delete"
   ]
  },
  {
   "cell_type": "markdown",
   "id": "392df013",
   "metadata": {},
   "source": [
    "Search code:"
   ]
  },
  {
   "cell_type": "code",
   "execution_count": 2,
   "id": "663f4ea8",
   "metadata": {
    "execution": {
     "iopub.execute_input": "2025-06-27T09:42:03.821497Z",
     "iopub.status.busy": "2025-06-27T09:42:03.819800Z",
     "iopub.status.idle": "2025-06-27T09:42:04.392445Z",
     "shell.execute_reply": "2025-06-27T09:42:04.391856Z"
    },
    "tags": [
     "search.static"
    ]
   },
   "outputs": [
    {
     "name": "stdout",
     "output_type": "stream",
     "text": [
      "[{'type': 0, 'id': 'c594359d-f1ca-472a-af1a-915b6e742b2f', 'location': {'space': 'HOME', 'name': 'Dummy_OisSwap_EUR'}, 'description': {'summary': '', 'tags': []}}, {'type': 0, 'id': '3aafd38f-9aa7-4111-81ea-171dc62033c2', 'location': {'space': 'HOME', 'name': 'TestFxSp17442139226868882'}, 'description': {'summary': 'Test description', 'tags': ['tag1', 'tag2']}}, {'type': 0, 'id': 'bcd2386c-2402-4681-8190-5b1bf6d5eca7', 'location': {'space': 'HOME', 'name': 'TestIrSwap17500707400624428'}, 'description': {'summary': 'Test ir_swap_saved description', 'tags': ['tag1', 'tag2']}}, {'type': 0, 'id': '4f276496-ae11-4ce0-9870-cc3262fae588', 'location': {'space': 'HOME', 'name': 'TestSwapResource3'}, 'description': {'summary': '(overwritten)', 'tags': ['test']}}, {'type': 0, 'id': 'a09cf5b6-9d05-4aea-b7c4-a167e0cfc6e9', 'location': {'space': 'MYSPACE', 'name': 'TestFxSpotClone17442142162523232'}, 'description': {'summary': 'Test ir_swap_saved description', 'tags': ['tag1', 'tag2']}}, {'type': 0, 'id': '13fa9515-47cb-4742-ae92-f83ee8b9bdb6', 'location': {'space': 'MYSPACE', 'name': 'TestFxSpotClone17442143814989772'}, 'description': {'summary': 'Test ir_swap_saved description', 'tags': ['tag1', 'tag2']}}]\n"
     ]
    }
   ],
   "source": [
    "# execute the search of swap templates\n",
    "swap_templates = search()\n",
    "\n",
    "print(swap_templates)"
   ]
  },
  {
   "cell_type": "markdown",
   "id": "5ccccb77",
   "metadata": {},
   "source": [
    "### Loading a specific swap template"
   ]
  },
  {
   "cell_type": "markdown",
   "id": "bd0a0656",
   "metadata": {},
   "source": [
    "User can load a specific swap template by either providing a unique template name or resource ID.\n",
    "\n",
    "Mandatory arguments: \n",
    "- resource_id - mutually exclusive with name\n",
    "- name - mutually exclusive with resource_id"
   ]
  },
  {
   "cell_type": "code",
   "execution_count": 3,
   "id": "f5ae18b3",
   "metadata": {
    "execution": {
     "iopub.execute_input": "2025-06-27T09:42:04.394882Z",
     "iopub.status.busy": "2025-06-27T09:42:04.394626Z",
     "iopub.status.idle": "2025-06-27T09:42:04.614245Z",
     "shell.execute_reply": "2025-06-27T09:42:04.613651Z"
    },
    "tags": [
     "load"
    ]
   },
   "outputs": [
    {
     "name": "stdout",
     "output_type": "stream",
     "text": [
      "<IrSwap space='HOME' name='Dummy_OisSwap_EUR' c594359d‥>\n"
     ]
    }
   ],
   "source": [
    "# execute the search of swap templates\n",
    "loaded_template = load(resource_id=swap_templates[0].id)\n",
    "\n",
    "print(loaded_template)"
   ]
  },
  {
   "cell_type": "markdown",
   "id": "d2d804e9",
   "metadata": {},
   "source": [
    "### Deleting a specific swap template"
   ]
  },
  {
   "cell_type": "code",
   "execution_count": 4,
   "id": "18d83faa",
   "metadata": {
    "execution": {
     "iopub.execute_input": "2025-06-27T09:42:04.616549Z",
     "iopub.status.busy": "2025-06-27T09:42:04.616096Z",
     "iopub.status.idle": "2025-06-27T09:42:05.078245Z",
     "shell.execute_reply": "2025-06-27T09:42:05.077561Z"
    }
   },
   "outputs": [
    {
     "data": {
      "text/plain": [
       "True"
      ]
     },
     "execution_count": 4,
     "metadata": {},
     "output_type": "execute_result"
    }
   ],
   "source": [
    "# Clone template to save original\n",
    "cloned_template = loaded_template.clone()\n",
    "\n",
    "# Save the cloned template to a space\n",
    "cloned_template.save(name='template_for_deletion', space='HOME')\n",
    "\n",
    "# Delete cloned template\n",
    "delete(resource_id=cloned_template.id)\n"
   ]
  },
  {
   "cell_type": "markdown",
   "id": "68ffb20c",
   "metadata": {},
   "source": [
    "## Valuing interest rate swaps"
   ]
  },
  {
   "cell_type": "markdown",
   "id": "99ae730e",
   "metadata": {},
   "source": [
    "### Imports"
   ]
  },
  {
   "cell_type": "markdown",
   "id": "bd105127",
   "metadata": {},
   "source": [
    "Import the following necessary modules:"
   ]
  },
  {
   "cell_type": "code",
   "execution_count": 5,
   "id": "52182b71",
   "metadata": {
    "execution": {
     "iopub.execute_input": "2025-06-27T09:42:05.080976Z",
     "iopub.status.busy": "2025-06-27T09:42:05.080568Z",
     "iopub.status.idle": "2025-06-27T09:42:05.084420Z",
     "shell.execute_reply": "2025-06-27T09:42:05.083811Z"
    }
   },
   "outputs": [],
   "source": [
    "from lseg_analytics.instruments.ir_swaps import IrSwapDefinitionInstrument, IrPricingParameters, IrSwapSolvingParameters, IrSwapSolvingVariable, IrSwapSolvingTarget, IrMeasure, IrPricingParameters\n",
    "from lseg_analytics.instruments.ir_swaps import solve, value, create_from_vanilla_irs_template, create_from_cbs_template, create_from_ccs_template, create_from_leg_template, create_from_tbs_template"
   ]
  },
  {
   "cell_type": "markdown",
   "id": "7a5258f4",
   "metadata": {},
   "source": [
    "### Template-based setup for swap valuation"
   ]
  },
  {
   "cell_type": "markdown",
   "id": "527cd8a1",
   "metadata": {},
   "source": [
    "Using an existing swap template to build a swap, user can adjust it with his own settings.\n",
    "- Swap conventions provide a standardized set of market-accepted terms, such as leg frequencies and interest calculation methods.\n",
    "- By referencing a swap convention, you ensure alignment with market standards while streamlining the setup process."
   ]
  },
  {
   "cell_type": "code",
   "execution_count": 6,
   "id": "2ccce599",
   "metadata": {
    "execution": {
     "iopub.execute_input": "2025-06-27T09:42:05.086893Z",
     "iopub.status.busy": "2025-06-27T09:42:05.086519Z",
     "iopub.status.idle": "2025-06-27T09:42:05.519037Z",
     "shell.execute_reply": "2025-06-27T09:42:05.518470Z"
    },
    "tags": [
     "create_from_vanilla_irs_template.static"
    ]
   },
   "outputs": [
    {
     "name": "stdout",
     "output_type": "stream",
     "text": [
      "{'definition': {'firstLeg': {'rate': {'interestRateType': 'FixedRate', 'rate': {'value': 0.0, 'unit': 'Percentage'}}, 'interestPeriods': {'startDate': {'dateType': 'RelativeAdjustableDate', 'tenor': '0D', 'referenceDate': 'SpotDate'}, 'endDate': {'dateType': 'RelativeAdjustableDate', 'tenor': '10Y', 'referenceDate': 'StartDate'}, 'frequency': 'Annual', 'businessDayAdjustment': {'calendars': ['USA'], 'convention': 'NextBusinessDay'}, 'rollConvention': 'Same'}, 'paymentOffset': {'tenor': '2D', 'businessDayAdjustment': {'calendars': ['USA'], 'convention': 'NextBusinessDay'}, 'referenceDate': 'PeriodEndDate', 'direction': 'Forward'}, 'couponDayCount': 'Dcb_Actual_360', 'accrualDayCount': 'Dcb_Actual_360', 'principal': {'currency': 'USD', 'amount': 10000000.0, 'initialPrincipalExchange': False, 'finalPrincipalExchange': False, 'interimPrincipalExchange': False, 'repaymentCurrency': 'USD'}, 'payer': 'Party1', 'receiver': 'Party2'}, 'secondLeg': {'rate': {'interestRateType': 'FloatingRate', 'index': 'LSEG/USD_SOFR_ON', 'spreadSchedule': [{'rate': {'value': 0.0, 'unit': 'BasisPoint'}}], 'resetDates': {'offset': {'tenor': '0D', 'businessDayAdjustment': {'calendars': [], 'convention': 'ModifiedFollowing'}, 'referenceDate': 'PeriodEndDate', 'direction': 'Backward'}}, 'leverage': 1.0}, 'interestPeriods': {'startDate': {'dateType': 'RelativeAdjustableDate', 'tenor': '0D', 'referenceDate': 'SpotDate'}, 'endDate': {'dateType': 'RelativeAdjustableDate', 'tenor': '10Y', 'referenceDate': 'StartDate'}, 'frequency': 'Annual', 'businessDayAdjustment': {'calendars': ['USA'], 'convention': 'NextBusinessDay'}, 'rollConvention': 'Same'}, 'paymentOffset': {'tenor': '2D', 'businessDayAdjustment': {'calendars': ['USA'], 'convention': 'NextBusinessDay'}, 'referenceDate': 'PeriodEndDate', 'direction': 'Forward'}, 'couponDayCount': 'Dcb_Actual_360', 'accrualDayCount': 'Dcb_Actual_360', 'principal': {'currency': 'USD', 'amount': 10000000.0, 'initialPrincipalExchange': False, 'finalPrincipalExchange': False, 'interimPrincipalExchange': False, 'repaymentCurrency': 'USD'}, 'payer': 'Party2', 'receiver': 'Party1'}}}\n"
     ]
    }
   ],
   "source": [
    "# build the swap from 'LSEG/OIS_SOFR' template\n",
    "fwd_start_sofr = create_from_vanilla_irs_template(template_reference = \"LSEG/OIS_SOFR\")\n",
    "\n",
    "fwd_start_sofr_def = IrSwapDefinitionInstrument(definition = fwd_start_sofr.definition)\n",
    "\n",
    "print(fwd_start_sofr_def)"
   ]
  },
  {
   "cell_type": "markdown",
   "id": "173ba1b3",
   "metadata": {},
   "source": [
    "### Solve a SOFR swap par rate\n",
    "\n",
    "Solving a swap for a prefered value (e.g. fixed rate or spread) can be done in 2 ways:\n",
    "1. Invoking a general ir_swaps method 'solve' which then requires as an input argument a swap definition object (IRSwapDefinitionInstrument)\n",
    "2. Invoking a 'solve' method directly on the IRSwap Object\n",
    "\n",
    "Both ways require preparation of execution parameters in forms of solving variable and solving target(s), as displayed in following codes."
   ]
  },
  {
   "cell_type": "markdown",
   "id": "b986924a",
   "metadata": {},
   "source": [
    "#### General solve method"
   ]
  },
  {
   "cell_type": "code",
   "execution_count": 7,
   "id": "7963e9b0",
   "metadata": {
    "execution": {
     "iopub.execute_input": "2025-06-27T09:42:05.521263Z",
     "iopub.status.busy": "2025-06-27T09:42:05.520893Z",
     "iopub.status.idle": "2025-06-27T09:42:06.841954Z",
     "shell.execute_reply": "2025-06-27T09:42:06.841406Z"
    },
    "tags": [
     "solve.static"
    ]
   },
   "outputs": [
    {
     "name": "stdout",
     "output_type": "stream",
     "text": [
      "{'analytics': [{'solving': {'result': 3.7216567024852716}, 'description': {'instrumentTag': '', 'instrumentDescription': 'Pay USD Annual 3.72% vs Receive USD Annual +0bp SOFR 2035-07-02', 'startDate': '2025-07-01', 'endDate': '2035-07-02', 'tenor': '10Y'}, 'valuation': {'accrued': {'value': 0.0, 'percent': 0.0, 'dealCurrency': {'value': 0.0, 'currency': 'USD'}, 'reportCurrency': {'value': 0.0, 'currency': 'USD'}}, 'marketValue': {'value': -6.61704689264297e-07, 'dealCurrency': {'value': -6.61704689264297e-07, 'currency': 'USD'}, 'reportCurrency': {'value': -6.61704689264297e-07, 'currency': 'USD'}}, 'cleanMarketValue': {'value': -6.61704689264297e-07, 'dealCurrency': {'value': -6.61704689264297e-07, 'currency': 'USD'}, 'reportCurrency': {'value': -6.61704689264297e-07, 'currency': 'USD'}}}, 'risk': {'duration': {'value': -8.50836369545246}, 'modifiedDuration': {'value': -8.19385349862701}, 'benchmarkHedgeNotional': {'value': -9296952.34979707, 'currency': 'USD'}, 'annuity': {'value': -8371.09533760371, 'dealCurrency': {'value': -8371.09533760371, 'currency': 'USD'}, 'reportCurrency': {'value': -8371.09533760371, 'currency': 'USD'}}, 'dv01': {'value': -8188.52452793717, 'bp': -8.18852452793717, 'dealCurrency': {'value': -8188.52452793717, 'currency': 'USD'}, 'reportCurrency': {'value': -8188.52452793717, 'currency': 'USD'}}, 'pv01': {'value': -8188.52452793857, 'bp': -8.18852452793857, 'dealCurrency': {'value': -8188.52452793857, 'currency': 'USD'}, 'reportCurrency': {'value': -8188.52452793857, 'currency': 'USD'}}, 'br01': {'value': 0.0, 'dealCurrency': {'value': 0.0, 'currency': 'USD'}, 'reportCurrency': {'value': 0.0, 'currency': 'USD'}}}, 'firstLeg': {'description': {'legTag': 'PaidLeg', 'legDescription': 'Pay USD Annual 3.72%', 'interestType': 'Fixed', 'currency': 'USD', 'startDate': '2025-07-01', 'endDate': '2035-07-02', 'index': ''}, 'valuation': {'accrued': {'value': 0.0, 'percent': 0.0, 'dealCurrency': {'value': 0.0, 'currency': 'USD'}, 'reportCurrency': {'value': 0.0, 'currency': 'USD'}}, 'marketValue': {'value': 3115434.307033646, 'dealCurrency': {'value': 3115434.307033646, 'currency': 'USD'}, 'reportCurrency': {'value': 3115434.307033646, 'currency': 'USD'}}, 'cleanMarketValue': {'value': 3115434.307033646, 'dealCurrency': {'value': 3115434.307033646, 'currency': 'USD'}, 'reportCurrency': {'value': 3115434.307033646, 'currency': 'USD'}}}, 'risk': {'duration': {'value': 8.508363695452463}, 'modifiedDuration': {'value': 8.209314246370457}, 'benchmarkHedgeNotional': {'value': 0.0, 'currency': 'USD'}, 'annuity': {'value': 8371.095337603707, 'dealCurrency': {'value': 8371.095337603707, 'currency': 'USD'}, 'reportCurrency': {'value': 8371.095337603707, 'currency': 'USD'}}, 'dv01': {'value': 8203.97522059828, 'bp': 8.20397522059828, 'dealCurrency': {'value': 8203.97522059828, 'currency': 'USD'}, 'reportCurrency': {'value': 8203.97522059828, 'currency': 'USD'}}, 'pv01': {'value': 1567.2670857892372, 'bp': 1.5672670857892372, 'dealCurrency': {'value': 1567.2670857892372, 'currency': 'USD'}, 'reportCurrency': {'value': 1567.2670857892372, 'currency': 'USD'}}, 'br01': {'value': 0.0, 'dealCurrency': {'value': 0.0, 'currency': 'USD'}, 'reportCurrency': {'value': 0.0, 'currency': 'USD'}}}}, 'secondLeg': {'description': {'legTag': 'ReceivedLeg', 'legDescription': 'Receive USD Annual +0bp SOFR', 'interestType': 'Float', 'currency': 'USD', 'startDate': '2025-07-01', 'endDate': '2035-07-02', 'index': 'SOFR'}, 'valuation': {'accrued': {'value': 0.0, 'percent': 0.0, 'dealCurrency': {'value': 0.0, 'currency': 'USD'}, 'reportCurrency': {'value': 0.0, 'currency': 'USD'}}, 'marketValue': {'value': 3115434.307032984, 'dealCurrency': {'value': 3115434.307032984, 'currency': 'USD'}, 'reportCurrency': {'value': 3115434.307032984, 'currency': 'USD'}}, 'cleanMarketValue': {'value': 3115434.307032984, 'dealCurrency': {'value': 3115434.307032984, 'currency': 'USD'}, 'reportCurrency': {'value': 3115434.307032984, 'currency': 'USD'}}}, 'risk': {'duration': {'value': 0.0}, 'modifiedDuration': {'value': 0.015460747743442397}, 'benchmarkHedgeNotional': {'value': 0.0, 'currency': 'USD'}, 'annuity': {'value': 0.0, 'dealCurrency': {'value': 0.0, 'currency': 'USD'}, 'reportCurrency': {'value': 0.0, 'currency': 'USD'}}, 'dv01': {'value': 15.450692661106586, 'bp': 0.015450692661106586, 'dealCurrency': {'value': 15.450692661106586, 'currency': 'USD'}, 'reportCurrency': {'value': 15.450692661106586, 'currency': 'USD'}}, 'pv01': {'value': -6621.257442149334, 'bp': -6.621257442149334, 'dealCurrency': {'value': -6621.257442149334, 'currency': 'USD'}, 'reportCurrency': {'value': -6621.257442149334, 'currency': 'USD'}}, 'br01': {'value': 0.0, 'dealCurrency': {'value': 0.0, 'currency': 'USD'}, 'reportCurrency': {'value': 0.0, 'currency': 'USD'}}}}}]}\n"
     ]
    }
   ],
   "source": [
    "# build the swap from 'LSEG/OIS_SOFR' template\n",
    "fwd_start_sofr = create_from_vanilla_irs_template(template_reference = \"LSEG/OIS_SOFR\")\n",
    "\n",
    "# prepare the Definition Instrument\n",
    "fwd_start_sofr_def = IrSwapDefinitionInstrument(definition = fwd_start_sofr.definition)\n",
    "\n",
    "# set a solving variable between first and second leg and Fixed Rate or Spread\n",
    "solving_variable = IrSwapSolvingVariable(leg='FirstLeg', name='FixedRate')\n",
    "\n",
    "# Apply solving target(s)\n",
    "solving_target=IrSwapSolvingTarget(market_value=IrMeasure(value=0.0))\n",
    "\n",
    "# Setup the solving parameter object\n",
    "solving_parameters = IrSwapSolvingParameters(variable=solving_variable, target=solving_target) \n",
    "\n",
    "# instantiate pricing parameters\n",
    "pricing_parameters = IrPricingParameters(solving_parameters=solving_parameters)\n",
    "\n",
    "# solve the swap par rate\n",
    "solving_response_general = solve(\n",
    "    definitions=[fwd_start_sofr_def],\n",
    "    pricing_preferences=pricing_parameters\n",
    "    )\n",
    "\n",
    "print(solving_response_general)"
   ]
  },
  {
   "cell_type": "markdown",
   "id": "5272a59b",
   "metadata": {},
   "source": [
    "#### Class solve method\n",
    "\n",
    "In this case there are a few rules to abide.\n",
    "1. Swap needs to be saved before solving\n",
    "2. Each swap needs a unique name\n",
    "3. Pricing Parameters needs to be instantiated, even if not populated explicitly"
   ]
  },
  {
   "cell_type": "code",
   "execution_count": 8,
   "id": "5b3cadc4",
   "metadata": {
    "execution": {
     "iopub.execute_input": "2025-06-27T09:42:06.844395Z",
     "iopub.status.busy": "2025-06-27T09:42:06.844142Z",
     "iopub.status.idle": "2025-06-27T09:42:08.465753Z",
     "shell.execute_reply": "2025-06-27T09:42:08.465159Z"
    },
    "tags": [
     "solve"
    ]
   },
   "outputs": [
    {
     "name": "stdout",
     "output_type": "stream",
     "text": [
      "{'result': 3.7216564881843937}\n"
     ]
    }
   ],
   "source": [
    "# build the swap from 'LSEG/OIS_SOFR' template\n",
    "fwd_start_sofr = create_from_vanilla_irs_template(template_reference = \"LSEG/OIS_SOFR\")\n",
    "\n",
    "# save the swap before solving\n",
    "fwd_start_sofr.save(name=\"sofr_fwd_start_swap_exm\")\n",
    "\n",
    "# set a solving variable between first and second leg and Fixed Rate or Spread\n",
    "solving_variable = IrSwapSolvingVariable(leg='FirstLeg', name='FixedRate')\n",
    "\n",
    "# Apply solving target(s)\n",
    "solving_target=IrSwapSolvingTarget(market_value=IrMeasure(value=0.0))\n",
    "\n",
    "# Setup the solving parameter object\n",
    "solving_parameters = IrSwapSolvingParameters(variable=solving_variable, target=solving_target) \n",
    "\n",
    "# instantiate pricing parameters\n",
    "pricing_parameters = IrPricingParameters(solving_parameters=solving_parameters)\n",
    "\n",
    "# solve the swap par rate\n",
    "solving_response_object = fwd_start_sofr.solve(pricing_preferences=pricing_parameters)\n",
    "\n",
    "delete(name=\"sofr_fwd_start_swap_exm\")\n",
    "\n",
    "print(solving_response_object.analytics.solving)"
   ]
  },
  {
   "cell_type": "markdown",
   "id": "dbacd89c",
   "metadata": {},
   "source": [
    "### Value a swap\n",
    "\n",
    "Valuing a swap can be done in 2 ways:\n",
    "1. Invoking a general ir_swaps method 'value' which then requires as an input argument a swap definition object (IRSwapDefinitionInstrument)\n",
    "2. Invoking a 'solve' method directly on the IRSwap Object\n",
    "\n",
    "Both ways require preparation of execution parameters in forms of solving variable and solving target(s), as displayed in following codes."
   ]
  },
  {
   "cell_type": "markdown",
   "id": "bf63ef71",
   "metadata": {},
   "source": [
    "#### General Value method"
   ]
  },
  {
   "cell_type": "code",
   "execution_count": 9,
   "id": "f1a056ce",
   "metadata": {
    "execution": {
     "iopub.execute_input": "2025-06-27T09:42:08.468227Z",
     "iopub.status.busy": "2025-06-27T09:42:08.467846Z",
     "iopub.status.idle": "2025-06-27T09:42:09.424617Z",
     "shell.execute_reply": "2025-06-27T09:42:09.424066Z"
    },
    "tags": [
     "value.static"
    ]
   },
   "outputs": [
    {
     "name": "stdout",
     "output_type": "stream",
     "text": [
      "{'accrued': {'value': 0.0, 'percent': 0.0, 'dealCurrency': {'value': 0.0, 'currency': 'USD'}, 'reportCurrency': {'value': 0.0, 'currency': 'USD'}}, 'marketValue': {'value': 3115442.42956706, 'dealCurrency': {'value': 3115442.42956706, 'currency': 'USD'}, 'reportCurrency': {'value': 3115442.42956706, 'currency': 'USD'}}, 'cleanMarketValue': {'value': 3115442.42956706, 'dealCurrency': {'value': 3115442.42956706, 'currency': 'USD'}, 'reportCurrency': {'value': 3115442.42956706, 'currency': 'USD'}}}\n"
     ]
    }
   ],
   "source": [
    "# build the swap from 'LSEG/OIS_SOFR' template\n",
    "fwd_start_sofr = create_from_vanilla_irs_template(template_reference = \"LSEG/OIS_SOFR\")\n",
    "\n",
    "fwd_start_sofr_def = IrSwapDefinitionInstrument(definition = fwd_start_sofr.definition)\n",
    "\n",
    "# instantiate pricing parameters\n",
    "pricing_parameters = IrPricingParameters()\n",
    "\n",
    "# value the swap\n",
    "valuation_response = value(\n",
    "    definitions=[fwd_start_sofr_def],\n",
    "    pricing_preferences=pricing_parameters\n",
    ")\n",
    "\n",
    "print(valuation_response.analytics[0].valuation)"
   ]
  },
  {
   "cell_type": "markdown",
   "id": "c8d754a1",
   "metadata": {},
   "source": [
    "#### Class Value method"
   ]
  },
  {
   "cell_type": "code",
   "execution_count": 10,
   "id": "db0f8a2f",
   "metadata": {
    "execution": {
     "iopub.execute_input": "2025-06-27T09:42:09.427022Z",
     "iopub.status.busy": "2025-06-27T09:42:09.426685Z",
     "iopub.status.idle": "2025-06-27T09:42:11.014457Z",
     "shell.execute_reply": "2025-06-27T09:42:11.013822Z"
    },
    "tags": [
     "value"
    ]
   },
   "outputs": [
    {
     "name": "stdout",
     "output_type": "stream",
     "text": [
      "{'accrued': {'value': 0.0, 'percent': 0.0, 'dealCurrency': {'value': 0.0, 'currency': 'USD'}, 'reportCurrency': {'value': 0.0, 'currency': 'USD'}}, 'marketValue': {'value': 3115434.30703298, 'dealCurrency': {'value': 3115434.30703298, 'currency': 'USD'}, 'reportCurrency': {'value': 3115434.30703298, 'currency': 'USD'}}, 'cleanMarketValue': {'value': 3115434.30703298, 'dealCurrency': {'value': 3115434.30703298, 'currency': 'USD'}, 'reportCurrency': {'value': 3115434.30703298, 'currency': 'USD'}}}\n"
     ]
    }
   ],
   "source": [
    "# build the swap from 'LSEG/OIS_SOFR' template\n",
    "fwd_start_sofr = create_from_vanilla_irs_template(template_reference = \"LSEG/OIS_SOFR\")\n",
    "\n",
    "# save the swap before solving\n",
    "fwd_start_sofr.save(name=\"sofr_fwd_start_swap_exm\")\n",
    "\n",
    "# instantiate pricing parameters\n",
    "pricing_parameters = IrPricingParameters()\n",
    "\n",
    "# solve the swap par rate\n",
    "valuing_response_object = fwd_start_sofr.value(pricing_preferences=pricing_parameters)\n",
    "\n",
    "delete(name=\"sofr_fwd_start_swap_exm\")\n",
    "\n",
    "print(valuing_response_object.analytics.valuation)"
   ]
  },
  {
   "cell_type": "markdown",
   "id": "e9cbbd51",
   "metadata": {},
   "source": [
    "## Creating a swap from CBS template"
   ]
  },
  {
   "cell_type": "code",
   "execution_count": 11,
   "id": "ff31c35c",
   "metadata": {
    "execution": {
     "iopub.execute_input": "2025-06-27T09:42:11.016761Z",
     "iopub.status.busy": "2025-06-27T09:42:11.016545Z",
     "iopub.status.idle": "2025-06-27T09:42:11.289635Z",
     "shell.execute_reply": "2025-06-27T09:42:11.289159Z"
    },
    "tags": [
     "create_from_cbs_template.static"
    ]
   },
   "outputs": [
    {
     "name": "stdout",
     "output_type": "stream",
     "text": [
      "{'firstLeg': {'rate': {'interestRateType': 'FloatingRate', 'index': 'LSEG/GBP_SONIA_ON_BOE', 'spreadSchedule': [{'rate': {'value': 0.0, 'unit': 'BasisPoint'}}], 'resetDates': {'offset': {'tenor': '0D', 'businessDayAdjustment': {'calendars': [], 'convention': 'ModifiedFollowing'}, 'referenceDate': 'PeriodEndDate', 'direction': 'Backward'}}, 'leverage': 1.0}, 'interestPeriods': {'startDate': {'dateType': 'RelativeAdjustableDate', 'tenor': '0D', 'referenceDate': 'SpotDate'}, 'endDate': {'dateType': 'RelativeAdjustableDate', 'tenor': '10Y', 'referenceDate': 'StartDate'}, 'frequency': 'Quarterly', 'businessDayAdjustment': {'calendars': ['UKG', 'USA'], 'convention': 'ModifiedFollowing'}, 'rollConvention': 'Same'}, 'paymentOffset': {'tenor': '2D', 'businessDayAdjustment': {'calendars': ['UKG', 'USA'], 'convention': 'ModifiedFollowing'}, 'referenceDate': 'PeriodEndDate', 'direction': 'Forward'}, 'couponDayCount': 'Dcb_Actual_365', 'accrualDayCount': 'Dcb_Actual_365', 'principal': {'currency': 'GBP', 'amount': 10000000.0, 'initialPrincipalExchange': True, 'finalPrincipalExchange': True, 'interimPrincipalExchange': False, 'repaymentCurrency': 'GBP'}, 'payer': 'Party1', 'receiver': 'Party2'}, 'secondLeg': {'rate': {'interestRateType': 'FloatingRate', 'index': 'LSEG/USD_SOFR_ON', 'spreadSchedule': [{'rate': {'value': 0.0, 'unit': 'BasisPoint'}}], 'resetDates': {'offset': {'tenor': '0D', 'businessDayAdjustment': {'calendars': [], 'convention': 'ModifiedFollowing'}, 'referenceDate': 'PeriodEndDate', 'direction': 'Backward'}}, 'leverage': 1.0}, 'interestPeriods': {'startDate': {'dateType': 'RelativeAdjustableDate', 'tenor': '0D', 'referenceDate': 'SpotDate'}, 'endDate': {'dateType': 'RelativeAdjustableDate', 'tenor': '10Y', 'referenceDate': 'StartDate'}, 'frequency': 'Quarterly', 'businessDayAdjustment': {'calendars': ['UKG', 'USA'], 'convention': 'ModifiedFollowing'}, 'rollConvention': 'Same'}, 'paymentOffset': {'tenor': '2D', 'businessDayAdjustment': {'calendars': ['UKG', 'USA'], 'convention': 'ModifiedFollowing'}, 'referenceDate': 'PeriodEndDate', 'direction': 'Forward'}, 'couponDayCount': 'Dcb_Actual_360', 'accrualDayCount': 'Dcb_Actual_360', 'principal': {'currency': 'USD', 'initialPrincipalExchange': True, 'finalPrincipalExchange': True, 'interimPrincipalExchange': False, 'repaymentCurrency': 'USD'}, 'payer': 'Party2', 'receiver': 'Party1'}}\n"
     ]
    }
   ],
   "source": [
    "swap_from_cbs = create_from_cbs_template(template_reference = \"LSEG/GBUSSOSRBS\")\n",
    "print(swap_from_cbs.definition)"
   ]
  },
  {
   "cell_type": "markdown",
   "id": "9961bae5",
   "metadata": {},
   "source": [
    "## Create a swap from CCS Template"
   ]
  },
  {
   "cell_type": "code",
   "execution_count": 12,
   "id": "f620a4f9",
   "metadata": {
    "execution": {
     "iopub.execute_input": "2025-06-27T09:42:11.291994Z",
     "iopub.status.busy": "2025-06-27T09:42:11.291704Z",
     "iopub.status.idle": "2025-06-27T09:42:11.556542Z",
     "shell.execute_reply": "2025-06-27T09:42:11.555939Z"
    },
    "tags": [
     "create_from_ccs_template.static"
    ]
   },
   "outputs": [
    {
     "name": "stdout",
     "output_type": "stream",
     "text": [
      "{'firstLeg': {'rate': {'interestRateType': 'FixedRate', 'rate': {'value': 0.0, 'unit': 'Percentage'}}, 'interestPeriods': {'startDate': {'dateType': 'RelativeAdjustableDate', 'tenor': '0D', 'referenceDate': 'SpotDate'}, 'endDate': {'dateType': 'RelativeAdjustableDate', 'tenor': '10Y', 'referenceDate': 'StartDate'}, 'frequency': 'Quarterly', 'businessDayAdjustment': {'calendars': ['CHN', 'USA'], 'convention': 'ModifiedFollowing'}, 'rollConvention': 'Same'}, 'paymentOffset': {'tenor': '2D', 'businessDayAdjustment': {'calendars': ['CHN', 'USA'], 'convention': 'ModifiedFollowing'}, 'referenceDate': 'PeriodEndDate', 'direction': 'Forward'}, 'couponDayCount': 'Dcb_Actual_360', 'accrualDayCount': 'Dcb_Actual_360', 'principal': {'currency': 'CNY', 'amount': 10000000.0, 'initialPrincipalExchange': False, 'finalPrincipalExchange': True, 'interimPrincipalExchange': False, 'repaymentCurrency': 'CNY'}, 'payer': 'Party1', 'receiver': 'Party2'}, 'secondLeg': {'rate': {'interestRateType': 'FloatingRate', 'index': 'LSEG/USD_SOFR_ON', 'spreadSchedule': [{'rate': {'value': 0.0, 'unit': 'BasisPoint'}}], 'resetDates': {'offset': {'tenor': '0D', 'businessDayAdjustment': {'calendars': [], 'convention': 'ModifiedFollowing'}, 'referenceDate': 'PeriodEndDate', 'direction': 'Backward'}}, 'leverage': 1.0}, 'interestPeriods': {'startDate': {'dateType': 'RelativeAdjustableDate', 'tenor': '0D', 'referenceDate': 'SpotDate'}, 'endDate': {'dateType': 'RelativeAdjustableDate', 'tenor': '10Y', 'referenceDate': 'StartDate'}, 'frequency': 'Quarterly', 'businessDayAdjustment': {'calendars': ['CHN', 'USA'], 'convention': 'ModifiedFollowing'}, 'rollConvention': 'Same'}, 'paymentOffset': {'tenor': '2D', 'businessDayAdjustment': {'calendars': ['CHN', 'USA'], 'convention': 'ModifiedFollowing'}, 'referenceDate': 'PeriodEndDate', 'direction': 'Forward'}, 'couponDayCount': 'Dcb_Actual_360', 'accrualDayCount': 'Dcb_Actual_360', 'principal': {'currency': 'USD', 'initialPrincipalExchange': False, 'finalPrincipalExchange': True, 'interimPrincipalExchange': False, 'repaymentCurrency': 'USD'}, 'payer': 'Party2', 'receiver': 'Party1'}}\n"
     ]
    }
   ],
   "source": [
    "swap_from_ccs = create_from_ccs_template(template_reference = \"LSEG/CNUSQMSRBS\")\n",
    "print(swap_from_ccs.definition)"
   ]
  },
  {
   "cell_type": "markdown",
   "id": "04c86c78",
   "metadata": {},
   "source": [
    "## Create a swap from LEG Template"
   ]
  },
  {
   "cell_type": "code",
   "execution_count": 13,
   "id": "0c8337af",
   "metadata": {
    "execution": {
     "iopub.execute_input": "2025-06-27T09:42:11.558966Z",
     "iopub.status.busy": "2025-06-27T09:42:11.558666Z",
     "iopub.status.idle": "2025-06-27T09:42:11.844307Z",
     "shell.execute_reply": "2025-06-27T09:42:11.843738Z"
    },
    "tags": [
     "create_from_leg_template.static"
    ]
   },
   "outputs": [
    {
     "name": "stdout",
     "output_type": "stream",
     "text": [
      "{'firstLeg': {'rate': {'interestRateType': 'FloatingRate', 'index': 'LSEG/EUR_EURIBOR_3M_EMMI', 'spreadSchedule': [{'rate': {'value': 0.0, 'unit': 'BasisPoint'}}], 'resetDates': {'offset': {'tenor': '2D', 'businessDayAdjustment': {'calendars': [], 'convention': 'ModifiedFollowing'}, 'referenceDate': 'PeriodStartDate', 'direction': 'Backward'}}, 'leverage': 1.0}, 'interestPeriods': {'startDate': {'dateType': 'RelativeAdjustableDate', 'tenor': '0D', 'referenceDate': 'SpotDate'}, 'endDate': {'dateType': 'RelativeAdjustableDate', 'tenor': '10Y', 'referenceDate': 'StartDate'}, 'frequency': 'Quarterly', 'businessDayAdjustment': {'calendars': ['EMU'], 'convention': 'ModifiedFollowing'}, 'rollConvention': 'Same'}, 'paymentOffset': {'tenor': '0D', 'businessDayAdjustment': {'calendars': ['EMU'], 'convention': 'ModifiedFollowing'}, 'referenceDate': 'PeriodEndDate', 'direction': 'Forward'}, 'couponDayCount': 'Dcb_Actual_360', 'accrualDayCount': 'Dcb_Actual_360', 'principal': {'currency': 'EUR', 'amount': 10000000.0, 'initialPrincipalExchange': False, 'finalPrincipalExchange': False, 'interimPrincipalExchange': False, 'repaymentCurrency': 'EUR'}, 'payer': 'Party2', 'receiver': 'Party1'}, 'secondLeg': {'rate': {'interestRateType': 'FixedRate', 'rate': {'value': 0.0, 'unit': 'Percentage'}}, 'interestPeriods': {'startDate': {'dateType': 'RelativeAdjustableDate', 'tenor': '0D', 'referenceDate': 'SpotDate'}, 'endDate': {'dateType': 'RelativeAdjustableDate', 'tenor': '10Y', 'referenceDate': 'StartDate'}, 'frequency': 'Annual', 'businessDayAdjustment': {'calendars': ['EMU'], 'convention': 'ModifiedFollowing'}, 'rollConvention': 'Same'}, 'paymentOffset': {'tenor': '0D', 'businessDayAdjustment': {'calendars': ['EMU'], 'convention': 'ModifiedFollowing'}, 'referenceDate': 'PeriodEndDate', 'direction': 'Forward'}, 'couponDayCount': 'Dcb_30_360', 'accrualDayCount': 'Dcb_30_360', 'principal': {'currency': 'EUR', 'amount': 10000000.0, 'initialPrincipalExchange': False, 'finalPrincipalExchange': False, 'interimPrincipalExchange': False, 'repaymentCurrency': 'EUR'}, 'payer': 'Party1', 'receiver': 'Party2'}}\n"
     ]
    }
   ],
   "source": [
    "swap_from_leg = create_from_leg_template(first_leg_reference = \"LSEG/EUR_AB3E_FLT\", second_leg_reference = \"LSEG/EUR_AB3E_FXD\")\n",
    "print(swap_from_leg.definition)"
   ]
  },
  {
   "cell_type": "markdown",
   "id": "5b72c646",
   "metadata": {},
   "source": [
    "## Create a swap from TBS Template"
   ]
  },
  {
   "cell_type": "code",
   "execution_count": 14,
   "id": "863d701a",
   "metadata": {
    "execution": {
     "iopub.execute_input": "2025-06-27T09:42:11.846371Z",
     "iopub.status.busy": "2025-06-27T09:42:11.846085Z",
     "iopub.status.idle": "2025-06-27T09:42:12.092296Z",
     "shell.execute_reply": "2025-06-27T09:42:12.091816Z"
    },
    "tags": [
     "create_from_tbs_template.static"
    ]
   },
   "outputs": [
    {
     "name": "stdout",
     "output_type": "stream",
     "text": [
      "{'firstLeg': {'rate': {'interestRateType': 'FloatingRate', 'index': 'LSEG/USD_SOFR_ON', 'spreadSchedule': [{'rate': {'value': 0.0, 'unit': 'BasisPoint'}}], 'resetDates': {'offset': {'tenor': '0D', 'businessDayAdjustment': {'calendars': [], 'convention': 'ModifiedFollowing'}, 'referenceDate': 'PeriodEndDate', 'direction': 'Backward'}}, 'leverage': 1.0}, 'interestPeriods': {'startDate': {'dateType': 'RelativeAdjustableDate', 'tenor': '0D', 'referenceDate': 'SpotDate'}, 'endDate': {'dateType': 'RelativeAdjustableDate', 'tenor': '10Y', 'referenceDate': 'StartDate'}, 'frequency': 'Quarterly', 'businessDayAdjustment': {'calendars': ['USA'], 'convention': 'ModifiedFollowing'}, 'rollConvention': 'Same'}, 'paymentOffset': {'tenor': '2D', 'businessDayAdjustment': {'calendars': ['USA'], 'convention': 'ModifiedFollowing'}, 'referenceDate': 'PeriodEndDate', 'direction': 'Forward'}, 'couponDayCount': 'Dcb_Actual_360', 'accrualDayCount': 'Dcb_Actual_360', 'principal': {'currency': 'USD', 'amount': 10000000.0, 'initialPrincipalExchange': False, 'finalPrincipalExchange': False, 'interimPrincipalExchange': False, 'repaymentCurrency': 'USD'}, 'payer': 'Party1', 'receiver': 'Party2'}, 'secondLeg': {'rate': {'interestRateType': 'FloatingRate', 'index': 'LSEG/USD_LIBOR_3M_IBA', 'spreadSchedule': [{'rate': {'value': 0.0, 'unit': 'BasisPoint'}}], 'resetDates': {'offset': {'tenor': '2D', 'businessDayAdjustment': {'calendars': [], 'convention': 'ModifiedFollowing'}, 'referenceDate': 'PeriodStartDate', 'direction': 'Backward'}}, 'leverage': 1.0}, 'interestPeriods': {'startDate': {'dateType': 'RelativeAdjustableDate', 'tenor': '0D', 'referenceDate': 'SpotDate'}, 'endDate': {'dateType': 'RelativeAdjustableDate', 'tenor': '10Y', 'referenceDate': 'StartDate'}, 'frequency': 'Quarterly', 'businessDayAdjustment': {'calendars': ['USA'], 'convention': 'ModifiedFollowing'}, 'rollConvention': 'Same'}, 'paymentOffset': {'tenor': '2D', 'businessDayAdjustment': {'calendars': ['USA'], 'convention': 'ModifiedFollowing'}, 'referenceDate': 'PeriodEndDate', 'direction': 'Forward'}, 'couponDayCount': 'Dcb_Actual_360', 'accrualDayCount': 'Dcb_Actual_360', 'principal': {'currency': 'USD', 'amount': 10000000.0, 'initialPrincipalExchange': False, 'finalPrincipalExchange': False, 'interimPrincipalExchange': False, 'repaymentCurrency': 'USD'}, 'payer': 'Party2', 'receiver': 'Party1'}}\n"
     ]
    }
   ],
   "source": [
    "swap_from_tbs = create_from_tbs_template(template_reference = \"LSEG/CBS_USDSR3LIMM\")\n",
    "print(swap_from_tbs.definition)"
   ]
  },
  {
   "cell_type": "markdown",
   "id": "ca41ccdb",
   "metadata": {},
   "source": [
    "### Saving a swap"
   ]
  },
  {
   "cell_type": "code",
   "execution_count": 15,
   "id": "c71b8802",
   "metadata": {
    "execution": {
     "iopub.execute_input": "2025-06-27T09:42:12.094487Z",
     "iopub.status.busy": "2025-06-27T09:42:12.094247Z",
     "iopub.status.idle": "2025-06-27T09:42:12.593888Z",
     "shell.execute_reply": "2025-06-27T09:42:12.593292Z"
    },
    "tags": [
     "save"
    ]
   },
   "outputs": [
    {
     "name": "stdout",
     "output_type": "stream",
     "text": [
      "Instrument SOFR_OIS_1Y2Y saved in HOME space.\n"
     ]
    }
   ],
   "source": [
    "# build the swap from 'LSEG/OIS_SOFR' template\n",
    "fwd_start_sofr = create_from_vanilla_irs_template(template_reference = \"LSEG/OIS_SOFR\")\n",
    "\n",
    "swap_id = \"SOFR_OIS_1Y2Y\"\n",
    "\n",
    "swap_space = \"HOME\"\n",
    "\n",
    "try:\n",
    "    # If the instrument does not exist in HOME space, we can save it\n",
    "    fwd_start_sofr.save(name=swap_id, space=swap_space)\n",
    "    print(f\"Instrument {swap_id} saved in {swap_space} space.\")\n",
    "except:\n",
    "    # Check if the instrument already exists in HOME space\n",
    "    fwd_start_sofr = load(name=swap_id, space=swap_space)\n",
    "    print(f\"Instrument {swap_id} already exists in {swap_space} space.\")"
   ]
  },
  {
   "cell_type": "markdown",
   "id": "b0a6bc0f",
   "metadata": {},
   "source": [
    "### Deleting the saved swap"
   ]
  },
  {
   "cell_type": "code",
   "execution_count": 16,
   "id": "cacc52eb",
   "metadata": {
    "execution": {
     "iopub.execute_input": "2025-06-27T09:42:12.596090Z",
     "iopub.status.busy": "2025-06-27T09:42:12.595835Z",
     "iopub.status.idle": "2025-06-27T09:42:12.856180Z",
     "shell.execute_reply": "2025-06-27T09:42:12.855686Z"
    },
    "tags": [
     "delete"
    ]
   },
   "outputs": [
    {
     "data": {
      "text/plain": [
       "True"
      ]
     },
     "execution_count": 16,
     "metadata": {},
     "output_type": "execute_result"
    }
   ],
   "source": [
    "# Let's delete the instrument we created in HOME space\n",
    "from lseg_analytics.instruments.ir_swaps import delete\n",
    "\n",
    "swap_id = \"SOFR_OIS_1Y2Y\"\n",
    "\n",
    "delete(name=swap_id, space=\"HOME\")"
   ]
  }
 ],
 "metadata": {
  "kernelspec": {
   "display_name": "env",
   "language": "python",
   "name": "python3"
  },
  "language_info": {
   "codemirror_mode": {
    "name": "ipython",
    "version": 3
   },
   "file_extension": ".py",
   "mimetype": "text/x-python",
   "name": "python",
   "nbconvert_exporter": "python",
   "pygments_lexer": "ipython3",
   "version": "3.11.6"
  }
 },
 "nbformat": 4,
 "nbformat_minor": 5
}
