{
 "cells": [
  {
   "cell_type": "markdown",
   "metadata": {},
   "source": [
    "# Tsyganenko (Geopack and T96)"
   ]
  },
  {
   "cell_type": "code",
   "metadata": {},
   "source": [
    "import datetime as dt\n",
    "import numpy as np\n",
    "from matplotlib import pyplot as plt\n",
    "from tsyganenko import earth_radius, Trace"
   ],
   "outputs": [],
   "execution_count": null
  },
  {
   "cell_type": "markdown",
   "metadata": {},
   "source": [
    "## Using the `Trace` class"
   ]
  },
  {
   "cell_type": "markdown",
   "metadata": {},
   "source": [
    "### Plotting field lines as a schematic"
   ]
  },
  {
   "cell_type": "code",
   "metadata": {},
   "source": [
    "trace_dt = dt.datetime(2001, 9, 22, 12)\n",
    "lats = np.arange(10, 90, 10)\n",
    "lons = 180.\n",
    "rhos = earth_radius\n",
    "trace = Trace(lats, lons, rhos, datetime=trace_dt)\n",
    "ax = trace.plot()\n",
    "plt.show()\n",
    "print(trace)"
   ],
   "outputs": [],
   "execution_count": null
  },
  {
   "cell_type": "markdown",
   "metadata": {},
   "source": [
    "### Making frames for a video of the Dungey Cycle"
   ]
  },
  {
   "cell_type": "code",
   "metadata": {},
   "source": [
    "trace_dt = dt.datetime(2001,9,22,12)\n",
    "\n",
    "latlon = np.array([[60,     0],\n",
    "                   [71,     0],\n",
    "                   [84,     0],\n",
    "                   [84,   180],\n",
    "                   [80,   180],\n",
    "                   [76,   180],\n",
    "                   [71.5, 180],\n",
    "                   [71,   180],\n",
    "                   [69,   180],\n",
    "                   [60,   180]])\n",
    "\n",
    "video_trace = Trace(latlon[:,0], latlon[:,1], earth_radius, datetime = trace_dt)"
   ],
   "outputs": [],
   "execution_count": null
  },
  {
   "cell_type": "code",
   "metadata": {},
   "source": [
    "ax = video_trace.plot(only_pts=[0,1,6,7,8,9], color='C0')\n",
    "ax = video_trace.plot(only_pts=[2,3,4,5], color='C1', ls='--')\n",
    "ax.set(xlim=(12, -22), aspect='equal')\n",
    "plt.show()\n",
    "print(video_trace)"
   ],
   "outputs": [],
   "execution_count": null
  },
  {
   "cell_type": "code",
   "metadata": {},
   "source": [
    "for i, _ in enumerate(latlon):\n",
    "    fig, ax = plt.subplots(figsize = [16,9])\n",
    "    video_trace.plot(ax, only_pts=i, lw=5)\n",
    "    ax.set(xlim=(10,-20), ylim=(-5,10), aspect='equal')\n",
    "    fig.savefig(\"Dungey Cycle {:02d}.png\".format(i))\n",
    "    fig.clf()\n",
    "    plt.close(fig)\n",
    "    del fig"
   ],
   "outputs": [],
   "execution_count": null
  },
  {
   "cell_type": "markdown",
   "metadata": {},
   "source": [
    "## Using the `geopack` module"
   ]
  },
  {
   "metadata": {},
   "cell_type": "code",
   "source": "import geopack_tsyganenko as geopack",
   "outputs": [],
   "execution_count": null
  },
  {
   "cell_type": "markdown",
   "metadata": {},
   "source": [
    "You **must** call `recalc_08` before doing anything else"
   ]
  },
  {
   "cell_type": "code",
   "metadata": {},
   "source": [
    "# Date and time\n",
    "year = 2000\n",
    "doy = 1\n",
    "hour = 0\n",
    "minute = 0\n",
    "second = 0\n",
    "\n",
    "# Solar wind speed\n",
    "vxgse = -400.\n",
    "vygse = 0.\n",
    "vzgse = 0.\n",
    "\n",
    "geopack.recalc_08(year, doy, hour, minute, second, vxgse, vygse, vzgse)"
   ],
   "outputs": [],
   "execution_count": null
  },
  {
   "cell_type": "markdown",
   "metadata": {},
   "source": [
    "Then, continue to use the `geopack` routines"
   ]
  },
  {
   "cell_type": "code",
   "metadata": {},
   "source": [
    "# Execution parameters\n",
    "lmax = 5000\n",
    "rlim = 60. \n",
    "r0 = 1. \n",
    "dsmax = .01\n",
    "err = .000001\n",
    "\n",
    "# Direction of the tracing\n",
    "mapto = 1\n",
    "\n",
    "# Magnetic activity (for T96, the first four elements of parmod are\n",
    "# solar wind dynamic pressure (nPa), Dst (nT), BY IMF (nT) and BZ IMF (nT)).\n",
    "parmod = np.zeros(10, dtype=float)\n",
    "parmod[0:4] = [2., -8., -2., -5.]\n",
    "\n",
    "# Start point (rho in Earth radii, colat and lon in degrees)\n",
    "rho = 1.\n",
    "lat = 60.\n",
    "lon = 0.\n",
    "\n",
    "# Convert lat,lon to geographic cartesian and then gsw\n",
    "_, _, _, xgeo, ygeo, zgeo = geopack.sphcar_08(\n",
    "    rho, np.radians(90. - lat), np.radians(lon), 0., 0., 0., 1)\n",
    "_, _, _, xgsw, ygsw, zgsw = geopack.geogsw_08(\n",
    "    xgeo, ygeo, zgeo, 0., 0. , 0., 1)\n",
    "\n",
    "# Trace field line\n",
    "xfgsw, yfgsw, zfgsw, xarr, yarr, zarr, l_cnt = geopack.trace_08(\n",
    "    xgsw, ygsw, zgsw, mapto, dsmax, err, rlim, r0, 0, parmod,\n",
    "    'T96_01', 'IGRF_GSW_08', lmax) \n",
    "\n",
    "# Convert back to spherical geographic coords\n",
    "xfgeo, yfgeo, zfgeo, _, _, _  = geopack.geogsw_08(\n",
    "    0., 0., 0., xfgsw, yfgsw, zfgsw, -1)\n",
    "gcR, gdcolat, gdlon, _, _, _ = geopack.sphcar_08(\n",
    "    0., 0., 0., xfgeo, yfgeo, zfgeo, -1)\n",
    "\n",
    "print('** START: {:6.3f}, {:6.3f}, {:6.3f}'.format(\n",
    "    lat, lon, 1.))\n",
    "print('** STOP:  {:6.3f}, {:6.3f}, {:6.3f}'.format(\n",
    "    90.-np.degrees(gdcolat), np.degrees(gdlon), gcR))"
   ],
   "outputs": [],
   "execution_count": null
  },
  {
   "cell_type": "markdown",
   "metadata": {},
   "source": [
    "A quick plot to check the results:"
   ]
  },
  {
   "cell_type": "code",
   "metadata": {},
   "source": [
    "fig = plt.figure(figsize=(10, 10))\n",
    "ax = fig.add_subplot(111, projection='3d')\n",
    "\n",
    "# Plot coordinate system\n",
    "ax.plot3D([0, 1], [0, 0], [0, 0], 'b')\n",
    "ax.plot3D([0, 0], [0, 1], [0, 0], 'g')\n",
    "ax.plot3D([0, 0], [0, 0], [0, 1], 'r')\n",
    "\n",
    "# First plot a nice sphere for the Earth\n",
    "u = np.linspace(0, 2 * np.pi, 179)\n",
    "v = np.linspace(0, np.pi, 179)\n",
    "tx = np.outer(np.cos(u), np.sin(v))\n",
    "ty = np.outer(np.sin(u), np.sin(v))\n",
    "tz = np.outer(np.ones(np.size(u)), np.cos(v))\n",
    "ax.plot_surface(tx, ty, tz, rstride=10, cstride=10, color='grey',\n",
    "                alpha=.5, zorder=2, linewidth=0.5)\n",
    "\n",
    "# Then plot the traced field line\n",
    "latarr = np.arange(10, 90, 10, dtype=float)\n",
    "lonarr = np.array([0., 180.], dtype=float)\n",
    "rho = 1.\n",
    "\n",
    "for lon in lonarr:\n",
    "    for lat in latarr:\n",
    "        _, _, _, xgeo, ygeo, zgeo = geopack.sphcar_08(\n",
    "            rho, np.radians(90.-lat), np.radians(lon), 0., 0., 0., 1)\n",
    "        _, _, _, xgsw, ygsw, zgsw  = geopack.geogsw_08(\n",
    "            xgeo, ygeo, zgeo, 0., 0., 0., 1)\n",
    "        \n",
    "        xfgsw, yfgsw, zfgsw, xarr, yarr, zarr, l_cnt = geopack.trace_08(\n",
    "            xgsw, ygsw, zgsw, mapto, dsmax, err, rlim, r0, 0, parmod,\n",
    "            'T96_01', 'IGRF_GSW_08', lmax)\n",
    "\n",
    "        # Iterate through the array, converting to geographic coordinates.\n",
    "        for i in np.arange(l_cnt):\n",
    "            xgeo, ygeo, zgeo, _, _, _ = geopack.geogsw_08(\n",
    "                0., 0., 0., xarr[i], yarr[i], zarr[i], -1)\n",
    "            xarr[i], yarr[i], zarr[i] = xgeo, ygeo, zgeo\n",
    "            \n",
    "        ax.plot3D(xarr[0:l_cnt], yarr[0:l_cnt], zarr[0:l_cnt],\n",
    "                  zorder=3, linewidth=2, color='C1')\n",
    "\n",
    "# Set plot limits\n",
    "xyzlim = 4\n",
    "_ = ax.set(xlim3d=[-xyzlim, xyzlim],\n",
    "           ylim3d=[-xyzlim, xyzlim],\n",
    "           zlim3d=[-xyzlim, xyzlim])"
   ],
   "outputs": [],
   "execution_count": null
  },
  {
   "cell_type": "code",
   "metadata": {},
   "source": [],
   "outputs": [],
   "execution_count": null
  }
 ],
 "metadata": {
  "kernelspec": {
   "display_name": "Python 3 (ipykernel)",
   "language": "python",
   "name": "python3"
  },
  "language_info": {
   "codemirror_mode": {
    "name": "ipython",
    "version": 3
   },
   "file_extension": ".py",
   "mimetype": "text/x-python",
   "name": "python",
   "nbconvert_exporter": "python",
   "pygments_lexer": "ipython3",
   "version": "3.12.6"
  }
 },
 "nbformat": 4,
 "nbformat_minor": 4
}
