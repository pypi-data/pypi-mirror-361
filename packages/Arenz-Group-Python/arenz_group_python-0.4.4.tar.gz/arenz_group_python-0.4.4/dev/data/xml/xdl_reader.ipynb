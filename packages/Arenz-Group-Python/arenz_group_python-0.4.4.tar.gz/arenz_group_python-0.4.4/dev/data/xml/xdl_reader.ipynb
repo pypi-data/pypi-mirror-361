{
 "cells": [
  {
   "cell_type": "code",
   "execution_count": 1,
   "id": "ac6b47f0",
   "metadata": {},
   "outputs": [],
   "source": [
    "import xml.etree.ElementTree as ET\n",
    "import ec4py\n",
    "from ec4py import Quantity_Value_Unit as QV\n",
    "f = open(\"SPR-SN161.xdl\", \"r\")\n",
    "xml= f.read()\n",
    "f.close()\n"
   ]
  },
  {
   "cell_type": "code",
   "execution_count": 2,
   "id": "274610c8",
   "metadata": {},
   "outputs": [],
   "source": [
    "tree = ET.fromstring(xml)\n",
    "root = tree.get(\"root\")\n",
    "syn = tree.find(\"Synthesis\")"
   ]
  },
  {
   "cell_type": "code",
   "execution_count": 4,
   "id": "16340ac5",
   "metadata": {},
   "outputs": [
    {
     "name": "stdout",
     "output_type": "stream",
     "text": [
      "Metadata {}\n",
      "Hardware {}\n",
      "Reagents {}\n",
      "Procedure {}\n"
     ]
    }
   ],
   "source": [
    "for child in syn :\n",
    "    print(child.tag, child.attrib)"
   ]
  },
  {
   "cell_type": "code",
   "execution_count": 8,
   "id": "e05bb7a9",
   "metadata": {},
   "outputs": [
    {
     "name": "stdout",
     "output_type": "stream",
     "text": [
      "Prep {}\n",
      "Reaction {}\n"
     ]
    }
   ],
   "source": [
    "pro = syn.find(\"Procedure\")\n",
    "for child in pro :\n",
    "    print(child.tag, child.attrib)"
   ]
  },
  {
   "cell_type": "code",
   "execution_count": 14,
   "id": "5d68d9de",
   "metadata": {},
   "outputs": [
    {
     "name": "stdout",
     "output_type": "stream",
     "text": [
      "Transfer {'volume': '0.000E+0 l', 'time': '0.00 min', 'to_vessel': 'Reactor 1', 'from_vessel': 'stock1', 'disc': 'Transfer the content from V_Ink_58_Optimization_SN to Reactor'}\n",
      "Spray {'flow': '3.3333E-8 s^-1 m^3', 'vessel': '', 'time': '15.70 min', 'volume': '4.710E-4 l', 'substrate': 'SUBS0001', 'disc': 'Spray ( 471ul) onto Freudenberg H23C8. Gas flow at 2,00 ml/min'}\n",
      "{'flow': '3.3333E-8 s^-1 m^3', 'vessel': '', 'time': '15.70 min', 'volume': '4.710E-4 l', 'substrate': 'SUBS0001', 'disc': 'Spray ( 471ul) onto Freudenberg H23C8. Gas flow at 2,00 ml/min'}\n",
      "3.3333E-8 s^-1 m^3\n",
      "4.710E-4 l\n"
     ]
    }
   ],
   "source": [
    "Procedure = syn.find(\"Procedure\")\n",
    "Reaction = Procedure.find(\"Reaction\")\n",
    "for child in Reaction :\n",
    "    print(child.tag, child.attrib)\n",
    "    \n",
    "Spray = Reaction.find(\"Spray\")\n",
    "print(Spray.attrib)\n",
    "print(Spray.attrib[\"flow\"])\n",
    "print(Spray.attrib[\"volume\"])"
   ]
  },
  {
   "cell_type": "code",
   "execution_count": 3,
   "id": "d9787e5d",
   "metadata": {},
   "outputs": [
    {
     "name": "stdout",
     "output_type": "stream",
     "text": [
      "pt mass: 8.000e-04 g\n",
      "vol_aq: 1.392e-05 l\n",
      "vol_H2O: 8.900e-05 l\n",
      "vol_ISO: 3.810e-04 l\n",
      "\n",
      "TOTAL VOL: 4.839e-04 l\n"
     ]
    },
    {
     "data": {
      "text/plain": [
       "0.7873202182178872"
      ]
     },
     "execution_count": 3,
     "metadata": {},
     "output_type": "execute_result"
    }
   ],
   "source": [
    "Reagents  =syn.find(\"Reagents\")\n",
    "vol=QV()\n",
    "pt_mass =QV()\n",
    "vol_ISO =QV()\n",
    "vol_H2O =QV()\n",
    "vol_aq =QV()\n",
    "\n",
    "for child in Reagents :\n",
    "    #print(child.tag, child.attrib)\n",
    "    if(child.attrib[\"quantity\"] !=\"\"):\n",
    "        q = QV(child.attrib[\"quantity\"])\n",
    "        #if q.find('l')!=-1:\n",
    "        #    vol =vol+ float(q.split()[0])\n",
    "        #    print(vol)\n",
    "        if(child.attrib[\"name\"] == \"TEC10E30E\"):\n",
    "            #pt_mass = float(q.split()[0])\n",
    "            pt_mass = q\n",
    "            pt_mass._quantity=\"m\"\n",
    "            print(\"pt mass:\", pt_mass)\n",
    "            \n",
    "        if(child.attrib[\"name\"] == \"Aquivion Dispersion D79-25BS\"):\n",
    "            vol_aq = q\n",
    "           \n",
    "            print(\"vol_aq:\", vol_aq)\n",
    "        if(child.attrib[\"id\"] == \"ISOPROPANOL\"):\n",
    "            vol_ISO = q\n",
    "            \n",
    "            print(\"vol_ISO:\", vol_ISO)\n",
    "        if(child.attrib[\"id\"] == \"WATER\"):\n",
    "            vol_H2O = q\n",
    "           \n",
    "            print(\"vol_H2O:\", vol_H2O)\n",
    "        \n",
    "vol=vol_aq+vol_H2O+vol_ISO\n",
    "print(\"\\nTOTAL VOL:\", vol )  \n",
    "float(vol_ISO /vol)"
   ]
  }
 ],
 "metadata": {
  "kernelspec": {
   "display_name": "Python 3",
   "language": "python",
   "name": "python3"
  },
  "language_info": {
   "codemirror_mode": {
    "name": "ipython",
    "version": 3
   },
   "file_extension": ".py",
   "mimetype": "text/x-python",
   "name": "python",
   "nbconvert_exporter": "python",
   "pygments_lexer": "ipython3",
   "version": "3.11.5"
  }
 },
 "nbformat": 4,
 "nbformat_minor": 5
}
