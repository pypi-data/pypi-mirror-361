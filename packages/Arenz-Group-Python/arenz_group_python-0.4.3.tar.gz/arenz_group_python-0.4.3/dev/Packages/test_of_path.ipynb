{
 "cells": [
  {
   "cell_type": "code",
   "execution_count": 3,
   "metadata": {},
   "outputs": [
    {
     "name": "stdout",
     "output_type": "stream",
     "text": [
      "c:\\Users\\gustav.wiberg\\Documents\\GitHub\\Python\\Arenz_Group_Python\\tests\\Packages\n",
      "c:\\Users\\gustav.wiberg\\Documents\\GitHub\\Python\\Arenz_Group_Python\\src\n",
      "c:\\Users\\gustav.wiberg\\Documents\\GitHub\\Python\\Arenz_Group_Python\\src\n",
      "loading arenz_group_python\n",
      "['c:\\\\Users\\\\gustav.wiberg\\\\Documents\\\\GitHub\\\\Python\\\\Arenz_Group_Python\\\\src\\\\arenz_group_python']\n"
     ]
    },
    {
     "ename": "ModuleNotFoundError",
     "evalue": "No module named 'pandas'",
     "output_type": "error",
     "traceback": [
      "\u001b[1;31m---------------------------------------------------------------------------\u001b[0m",
      "\u001b[1;31mModuleNotFoundError\u001b[0m                       Traceback (most recent call last)",
      "Cell \u001b[1;32mIn[3], line 15\u001b[0m\n\u001b[0;32m     12\u001b[0m \u001b[38;5;28mprint\u001b[39m(pa)\n\u001b[0;32m     13\u001b[0m \u001b[38;5;66;03m#add\u001b[39;00m\n\u001b[0;32m     14\u001b[0m \u001b[38;5;66;03m#sys.path.insert(0,str(pa))\u001b[39;00m\n\u001b[1;32m---> 15\u001b[0m \u001b[38;5;28;01mimport\u001b[39;00m \u001b[38;5;21;01marenz_group_python\u001b[39;00m\n\u001b[0;32m     16\u001b[0m \u001b[38;5;28mprint\u001b[39m(arenz_group_python\u001b[38;5;241m.\u001b[39m__path__)\n\u001b[0;32m     19\u001b[0m \u001b[38;5;28;01mfrom\u001b[39;00m \u001b[38;5;21;01marenz_group_python\u001b[39;00m \u001b[38;5;28;01mimport\u001b[39;00m CV_Datas\n",
      "File \u001b[1;32mc:\\Users\\gustav.wiberg\\Documents\\GitHub\\Python\\Arenz_Group_Python\\src\\arenz_group_python\\__init__.py:20\u001b[0m\n\u001b[0;32m     15\u001b[0m __version__ \u001b[38;5;241m=\u001b[39m \u001b[38;5;124m\"\u001b[39m\u001b[38;5;124m0.0.100\u001b[39m\u001b[38;5;124m\"\u001b[39m\n\u001b[0;32m     17\u001b[0m __all__ \u001b[38;5;241m=\u001b[39m [\u001b[38;5;124m\"\u001b[39m\u001b[38;5;124mec_data\u001b[39m\u001b[38;5;124m\"\u001b[39m,\u001b[38;5;124m\"\u001b[39m\u001b[38;5;124mEC_Data\u001b[39m\u001b[38;5;124m\"\u001b[39m,\u001b[38;5;124m\"\u001b[39m\u001b[38;5;124mCV_Data\u001b[39m\u001b[38;5;124m\"\u001b[39m,\u001b[38;5;124m\"\u001b[39m\u001b[38;5;124mCV_Datas\u001b[39m\u001b[38;5;124m\"\u001b[39m,\u001b[38;5;124m\"\u001b[39m\u001b[38;5;124msave_key_values\u001b[39m\u001b[38;5;124m\"\u001b[39m,\u001b[38;5;124m\"\u001b[39m\u001b[38;5;124mProject_Paths\u001b[39m\u001b[38;5;124m\"\u001b[39m,\u001b[38;5;124m\"\u001b[39m\u001b[38;5;124mAutoClaveSynthesis\u001b[39m\u001b[38;5;124m\"\u001b[39m]\n\u001b[1;32m---> 20\u001b[0m \u001b[38;5;28;01mfrom\u001b[39;00m \u001b[38;5;21;01m.\u001b[39;00m\u001b[38;5;21;01mdata_treatment\u001b[39;00m \u001b[38;5;28;01mimport\u001b[39;00m \u001b[38;5;241m*\u001b[39m\n\u001b[0;32m     22\u001b[0m \u001b[38;5;28;01mfrom\u001b[39;00m \u001b[38;5;21;01m.\u001b[39;00m\u001b[38;5;21;01mdata_treatment\u001b[39;00m\u001b[38;5;21;01m.\u001b[39;00m\u001b[38;5;21;01mutil_paths\u001b[39;00m \u001b[38;5;28;01mimport\u001b[39;00m Project_Paths\n\u001b[0;32m     25\u001b[0m \u001b[38;5;66;03m# public interface\u001b[39;00m\n\u001b[0;32m     26\u001b[0m \n\u001b[0;32m     27\u001b[0m \u001b[38;5;66;03m#def rowdata():\u001b[39;00m\n\u001b[0;32m     28\u001b[0m \u001b[38;5;66;03m#    \"\"\"Try to apply the pattern at the start of the string, returning\u001b[39;00m\n\u001b[0;32m     29\u001b[0m \u001b[38;5;66;03m#    a Match object, or None if no match was found.\"\"\"\u001b[39;00m\n\u001b[0;32m     30\u001b[0m \u001b[38;5;66;03m#    return Project_Paths().rawdata_path\u001b[39;00m\n",
      "File \u001b[1;32mc:\\Users\\gustav.wiberg\\Documents\\GitHub\\Python\\Arenz_Group_Python\\src\\arenz_group_python\\data_treatment\\__init__.py:19\u001b[0m\n\u001b[0;32m     17\u001b[0m \u001b[38;5;28;01mfrom\u001b[39;00m \u001b[38;5;21;01m.\u001b[39;00m\u001b[38;5;21;01mcv_data\u001b[39;00m \u001b[38;5;28;01mimport\u001b[39;00m CV_Data\n\u001b[0;32m     18\u001b[0m \u001b[38;5;28;01mfrom\u001b[39;00m \u001b[38;5;21;01m.\u001b[39;00m\u001b[38;5;21;01mcv_datas\u001b[39;00m \u001b[38;5;28;01mimport\u001b[39;00m CV_Datas \n\u001b[1;32m---> 19\u001b[0m \u001b[38;5;28;01mfrom\u001b[39;00m \u001b[38;5;21;01m.\u001b[39;00m\u001b[38;5;21;01mautoclave_synthesis\u001b[39;00m \u001b[38;5;28;01mimport\u001b[39;00m \u001b[38;5;241m*\u001b[39m \n\u001b[0;32m     20\u001b[0m \u001b[38;5;28;01mfrom\u001b[39;00m \u001b[38;5;21;01m.\u001b[39;00m\u001b[38;5;21;01mutil\u001b[39;00m \u001b[38;5;28;01mimport\u001b[39;00m \u001b[38;5;241m*\u001b[39m \n\u001b[0;32m     21\u001b[0m \u001b[38;5;28;01mfrom\u001b[39;00m \u001b[38;5;21;01m.\u001b[39;00m\u001b[38;5;21;01mutil_paths\u001b[39;00m \u001b[38;5;28;01mimport\u001b[39;00m Project_Paths \n",
      "File \u001b[1;32mc:\\Users\\gustav.wiberg\\Documents\\GitHub\\Python\\Arenz_Group_Python\\src\\arenz_group_python\\data_treatment\\autoclave_synthesis.py:4\u001b[0m\n\u001b[0;32m      1\u001b[0m \u001b[38;5;28;01mimport\u001b[39;00m \u001b[38;5;21;01mnumpy\u001b[39;00m \u001b[38;5;28;01mas\u001b[39;00m \u001b[38;5;21;01mnp\u001b[39;00m\n\u001b[0;32m      2\u001b[0m \u001b[38;5;66;03m#from scipy.signal import savgol_filter\u001b[39;00m\n\u001b[0;32m      3\u001b[0m \u001b[38;5;66;03m#import matplotlib.pyplot as plt\u001b[39;00m\n\u001b[1;32m----> 4\u001b[0m \u001b[38;5;28;01mimport\u001b[39;00m \u001b[38;5;21;01mpandas\u001b[39;00m \u001b[38;5;28;01mas\u001b[39;00m \u001b[38;5;21;01mpd\u001b[39;00m\n\u001b[0;32m      5\u001b[0m \u001b[38;5;28;01mfrom\u001b[39;00m \u001b[38;5;21;01mnptdms\u001b[39;00m \u001b[38;5;28;01mimport\u001b[39;00m TdmsFile\n\u001b[0;32m      6\u001b[0m \u001b[38;5;28;01mfrom\u001b[39;00m \u001b[38;5;21;01mscipy\u001b[39;00m\u001b[38;5;21;01m.\u001b[39;00m\u001b[38;5;21;01msignal\u001b[39;00m \u001b[38;5;28;01mimport\u001b[39;00m savgol_filter\n",
      "\u001b[1;31mModuleNotFoundError\u001b[0m: No module named 'pandas'"
     ]
    }
   ],
   "source": [
    "from pathlib import Path\n",
    "import sys\n",
    "nb_path = Path.cwd()\n",
    "p = Path.cwd()\n",
    "print(p)\n",
    "for p in Path.cwd().parents:\n",
    "    pa = p / \"src\"\n",
    "    if pa.exists():\n",
    "        print(pa)\n",
    "        sys.path.insert(0,str(pa))\n",
    "        break\n",
    "print(pa)\n",
    "#add\n",
    "#sys.path.insert(0,str(pa))\n",
    "import arenz_group_python\n",
    "print(arenz_group_python.__path__)\n",
    "\n",
    "\n",
    "from arenz_group_python import CV_Datas\n",
    "from arenz_group_python import Project_Paths\n",
    "#from arenz_group_python.util_paths import PROJECT_FOLDERS\n",
    "print(nb_path)\n",
    "pp= Project_Paths()"
   ]
  },
  {
   "cell_type": "code",
   "execution_count": null,
   "metadata": {},
   "outputs": [
    {
     "name": "stdout",
     "output_type": "stream",
     "text": [
      "AAAA\n",
      "c:\\Users\\gusta\\Documents\\GitHub\\Arenz_Group_Python\\tests\\Packages\\data_raw\n",
      "**/p1.tag\n",
      "Source Dir:  c:\\Users\\gusta\\Documents\\GitHub\\Arenz_Group_Python\\tests\\data\n",
      "\t c:\\Users\\gusta\\Documents\\GitHub\\Arenz_Group_Python\\tests\\data\\autoclave\n",
      "\t c:\\Users\\gusta\\Documents\\GitHub\\Arenz_Group_Python\\tests\\data\\set1\n",
      "destination:  c:\\Users\\gusta\\Documents\\GitHub\\Arenz_Group_Python\\tests\\Packages\\data_raw  exists:  True\n",
      "c:\\Users\\gusta\\Documents\\GitHub\\Arenz_Group_Python\\tests\\Packages\\data_raw\\autoclave False\n",
      "c:\\Users\\gusta\\Documents\\GitHub\\Arenz_Group_Python\\tests\\data\n",
      "c:\\Users\\gusta\\Documents\\GitHub\\Arenz_Group_Python\\tests\\Packages\\data_raw\\set1 False\n",
      "c:\\Users\\gusta\\Documents\\GitHub\\Arenz_Group_Python\\tests\\data\n"
     ]
    }
   ],
   "source": [
    "pp._find_dir(pp.cwd, \"data_raw\")\n",
    "print(\"AAAA\")\n",
    "print(pp.rawdata_path)\n",
    "pp.copyDirs(pp.cwd.parent.parent / \"data\",\"\",\"p1\")\n"
   ]
  },
  {
   "cell_type": "code",
   "execution_count": null,
   "metadata": {},
   "outputs": [],
   "source": [
    "\n",
    "def find_dirs_with_tags( server_dir: Path, dirID: str , fileID:str ):\n",
    "    pp = Project_Paths()\n",
    "    #rawdata_path = pp.rawdata_path\n",
    "    dirs_with_tags =[]\n",
    "    fileID = fileID + \".tag\"\n",
    "    str_match = \"*\" + dirID + \"*/\" + fileID\n",
    "    print(str_match)\n",
    "    if server_dir.is_dir:\n",
    "        print(\"dir ok\", server_dir)\n",
    "        for root,dirs,files in server_dir.walk(on_error=print):\n",
    "            p = root.relative_to(server_dir)\n",
    "            for file in files: #look for tags\n",
    "                file_p = root / file\n",
    "                if file_p.match(str_match):\n",
    "                    #print(file_p,\"found tag\")\n",
    "                    if root not in dirs_with_tags:\n",
    "                        dirs_with_tags.append(root)\n",
    "    for i in dirs_with_tags:\n",
    "        print(i)\n",
    "    return dirs_with_tags    \n",
    "            "
   ]
  },
  {
   "cell_type": "code",
   "execution_count": null,
   "metadata": {},
   "outputs": [
    {
     "name": "stdout",
     "output_type": "stream",
     "text": [
      "cfdfdcdfdfd\n"
     ]
    }
   ],
   "source": [
    "aa = Path(\"C:\\\\temp\\\\aa\\\\bbb\\\\cfdfdcdfdfd\")\n",
    "b = aa.parent\n",
    "c = aa.relative_to(aa.parent)\n",
    "print(c)"
   ]
  },
  {
   "cell_type": "code",
   "execution_count": null,
   "metadata": {},
   "outputs": [],
   "source": [
    "def listing(server_dir: Path, dest: Path, dirs):\n",
    "    print(\"destination: \", dest, \" exists: \", dest.exists())\n",
    "    if not dest.exists(): return\n",
    "    for dir in dirs:\n",
    "        dest_f = dest / dir.relative_to(server_dir)\n",
    "        if not dest_f.exists():\n",
    "            print(dest_f, dest_f.exists())\n",
    "            print (dir.parent)\n",
    "            if not dest_f.exists():\n",
    "                ppp =[]\n",
    "                for i in range(5):\n",
    "                    if dest_f.parents[i].exists(): \n",
    "                        break\n",
    "                    else:\n",
    "                        ppp.insert(0,dest_f.parents[i])\n",
    "                for parent in ppp:\n",
    "                    dest_fp = dest / parent\n",
    "                    dest_fp.mkdir()\n",
    "                    print(\"\\tmake a tree\", dest_fp, dest_fp.exists())\n",
    "            try:\n",
    "                dest_f.mkdir()\n",
    "            except FileNotFoundError:\n",
    "                print(f\"parent does not exist for {dest_f}\")\n",
    "        else:\n",
    "            print(dest_f, \"exists\")\n",
    "\n",
    "\n"
   ]
  },
  {
   "cell_type": "code",
   "execution_count": 5,
   "metadata": {},
   "outputs": [
    {
     "ename": "NameError",
     "evalue": "name 'Project_Paths' is not defined",
     "output_type": "error",
     "traceback": [
      "\u001b[1;31m---------------------------------------------------------------------------\u001b[0m",
      "\u001b[1;31mNameError\u001b[0m                                 Traceback (most recent call last)",
      "Cell \u001b[1;32mIn[5], line 1\u001b[0m\n\u001b[1;32m----> 1\u001b[0m pp \u001b[38;5;241m=\u001b[39m \u001b[43mProject_Paths\u001b[49m()\n\u001b[0;32m      2\u001b[0m pp\u001b[38;5;241m.\u001b[39mcwd\u001b[38;5;241m.\u001b[39mglob(\u001b[38;5;124m'\u001b[39m\u001b[38;5;124m*.ipynb\u001b[39m\u001b[38;5;124m'\u001b[39m)\n",
      "\u001b[1;31mNameError\u001b[0m: name 'Project_Paths' is not defined"
     ]
    }
   ],
   "source": [
    "pp = Project_Paths()\n",
    "pp.cwd.glob('*.ipynb')"
   ]
  },
  {
   "cell_type": "code",
   "execution_count": null,
   "metadata": {},
   "outputs": [
    {
     "name": "stdout",
     "output_type": "stream",
     "text": [
      "c:\\Users\\gusta\\Documents\\GitHub\\Arenz_Group_Python\\tests\n",
      "**/p1.tag\n",
      "dir ok c:\\Users\\gusta\\Documents\\GitHub\\Arenz_Group_Python\\tests\n",
      "c:\\Users\\gusta\\Documents\\GitHub\\Arenz_Group_Python\\tests\\data\\autoclave\n",
      "c:\\Users\\gusta\\Documents\\GitHub\\Arenz_Group_Python\\tests\\data\\set1\n",
      "c:\\Users\\gusta\\Documents\\GitHub\\Arenz_Group_Python\\tests\\Packages\\data\n",
      "**/p1.tag\n",
      "Source Dir:  c:\\Users\\gusta\\Documents\\GitHub\\Arenz_Group_Python\\tests\n",
      "\t c:\\Users\\gusta\\Documents\\GitHub\\Arenz_Group_Python\\tests\\data\\autoclave\n",
      "\t c:\\Users\\gusta\\Documents\\GitHub\\Arenz_Group_Python\\tests\\data\\set1\n",
      "\t c:\\Users\\gusta\\Documents\\GitHub\\Arenz_Group_Python\\tests\\Packages\\data\n"
     ]
    },
    {
     "data": {
      "text/plain": [
       "[WindowsPath('c:/Users/gusta/Documents/GitHub/Arenz_Group_Python/tests/data/autoclave'),\n",
       " WindowsPath('c:/Users/gusta/Documents/GitHub/Arenz_Group_Python/tests/data/set1'),\n",
       " WindowsPath('c:/Users/gusta/Documents/GitHub/Arenz_Group_Python/tests/Packages/data')]"
      ]
     },
     "execution_count": 5,
     "metadata": {},
     "output_type": "execute_result"
    }
   ],
   "source": [
    "print(pp.cwd.parent.parent)\n",
    "dirs = find_dirs_with_tags(pp.cwd.parent.parent,\"\",\"p1\")\n",
    "\n",
    "#listing(pp.cwd.parent.parent, pp.rawdata_path, dirs)\n",
    " \n",
    "pp.find_dirs_with_tags(pp.cwd.parent.parent,\"\",\"p1\")"
   ]
  },
  {
   "cell_type": "code",
   "execution_count": null,
   "metadata": {},
   "outputs": [
    {
     "name": "stdout",
     "output_type": "stream",
     "text": [
      "destination:  c:\\Users\\gusta\\Documents\\GitHub\\Arenz_Group_Python\\tests\\Packages\\data_raw  exists:  True\n",
      "c:\\Users\\gusta\\Documents\\GitHub\\Arenz_Group_Python\\tests\\Packages\\data_raw\\data\\autoclave exists\n",
      "c:\\Users\\gusta\\Documents\\GitHub\\Arenz_Group_Python\\tests\\Packages\\data_raw\\data\\set1 exists\n",
      "c:\\Users\\gusta\\Documents\\GitHub\\Arenz_Group_Python\\tests\\Packages\\data_raw\\Packages\\data exists\n"
     ]
    }
   ],
   "source": [
    "listing(pp.cwd.parent.parent, pp.rawdata_path, dirs)"
   ]
  },
  {
   "cell_type": "code",
   "execution_count": null,
   "metadata": {},
   "outputs": [
    {
     "name": "stdout",
     "output_type": "stream",
     "text": [
      "c:\\Users\\gusta\\Documents\\GitHub\\Arenz_Group_Python\\tests\n",
      "**/p1.tag\n",
      "dir ok c:\\Users\\gusta\\Documents\\GitHub\\Arenz_Group_Python\\tests\n",
      "c:\\Users\\gusta\\Documents\\GitHub\\Arenz_Group_Python\\tests\\data\\autoclave\n",
      "c:\\Users\\gusta\\Documents\\GitHub\\Arenz_Group_Python\\tests\\data\\set1\n",
      "c:\\Users\\gusta\\Documents\\GitHub\\Arenz_Group_Python\\tests\\Packages\\data\n",
      "[]\n"
     ]
    }
   ],
   "source": [
    "print(pp.cwd.parent.parent)\n",
    "dirs = find_dirs_with_tags(pp.cwd.parent.parent,\"\",\"p1\")\n",
    "for root,dirs,files in dirs[0].walk(on_error=print):\n",
    "    print(dirs)"
   ]
  },
  {
   "cell_type": "code",
   "execution_count": null,
   "metadata": {},
   "outputs": [
    {
     "name": "stdout",
     "output_type": "stream",
     "text": [
      "c:\\Users\\gusta\\Documents\\GitHub\\Arenz_Group_Python\\tests consumes 1556950 bytes in 10 non-directory files\n",
      "c:\\Users\\gusta\\Documents\\GitHub\\Arenz_Group_Python\\tests\\data consumes 46461026 bytes in 5 non-directory files\n",
      "c:\\Users\\gusta\\Documents\\GitHub\\Arenz_Group_Python\\tests\\data\\autoclave consumes 14481633 bytes in 4 non-directory files\n",
      "c:\\Users\\gusta\\Documents\\GitHub\\Arenz_Group_Python\\tests\\data\\set1 consumes 1524538 bytes in 28 non-directory files\n",
      "c:\\Users\\gusta\\Documents\\GitHub\\Arenz_Group_Python\\tests\\Packages consumes 49389 bytes in 4 non-directory files\n",
      "c:\\Users\\gusta\\Documents\\GitHub\\Arenz_Group_Python\\tests\\Packages\\data consumes 635 bytes in 5 non-directory files\n",
      "c:\\Users\\gusta\\Documents\\GitHub\\Arenz_Group_Python\\tests\\Packages\\data_raw consumes 18763 bytes in 3 non-directory files\n",
      "c:\\Users\\gusta\\Documents\\GitHub\\Arenz_Group_Python\\tests\\Packages\\data_raw\\autoclave consumes 14481633 bytes in 3 non-directory files\n",
      "c:\\Users\\gusta\\Documents\\GitHub\\Arenz_Group_Python\\tests\\Packages\\data_raw\\data consumes 0 bytes in 0 non-directory files\n",
      "c:\\Users\\gusta\\Documents\\GitHub\\Arenz_Group_Python\\tests\\Packages\\data_raw\\data\\autoclave consumes 0 bytes in 0 non-directory files\n",
      "c:\\Users\\gusta\\Documents\\GitHub\\Arenz_Group_Python\\tests\\Packages\\data_raw\\data\\set1 consumes 0 bytes in 0 non-directory files\n",
      "c:\\Users\\gusta\\Documents\\GitHub\\Arenz_Group_Python\\tests\\Packages\\data_raw\\Packages consumes 0 bytes in 0 non-directory files\n",
      "c:\\Users\\gusta\\Documents\\GitHub\\Arenz_Group_Python\\tests\\Packages\\data_raw\\Packages\\data consumes 0 bytes in 0 non-directory files\n",
      "c:\\Users\\gusta\\Documents\\GitHub\\Arenz_Group_Python\\tests\\Packages\\data_raw\\set1 consumes 1524538 bytes in 27 non-directory files\n",
      "c:\\Users\\gusta\\Documents\\GitHub\\Arenz_Group_Python\\tests\\Packages\\notebooks_exploration_cleaning consumes 53133 bytes in 2 non-directory files\n",
      "c:\\Users\\gusta\\Documents\\GitHub\\Arenz_Group_Python\\tests\\Packages\\notebooks_exploration_cleaning\\extra consumes 11168 bytes in 1 non-directory files\n",
      "c:\\Users\\gusta\\Documents\\GitHub\\Arenz_Group_Python\\tests\\Packages\\notebooks_exploration_cleaning\\extra\\data consumes 194 bytes in 2 non-directory files\n",
      "c:\\Users\\gusta\\Documents\\GitHub\\Arenz_Group_Python\\tests\\Packages\\notebooks_exploration_cleaning\\extra\\notebooks_exploration_cleaning consumes 3790 bytes in 1 non-directory files\n",
      "c:\\Users\\gusta\\Documents\\GitHub\\Arenz_Group_Python\\tests\\Packages\\notebooks_exploration_cleaning\\extra\\notebooks_models consumes 0 bytes in 1 non-directory files\n",
      "c:\\Users\\gusta\\Documents\\GitHub\\Arenz_Group_Python\\tests\\Packages\\notebooks_exploration_cleaning\\extra\\py_scripts consumes 196 bytes in 2 non-directory files\n",
      "c:\\Users\\gusta\\Documents\\GitHub\\Arenz_Group_Python\\tests\\Packages\\notebooks_exploration_cleaning\\extra\\rawdata consumes 66 bytes in 1 non-directory files\n",
      "c:\\Users\\gusta\\Documents\\GitHub\\Arenz_Group_Python\\tests\\Packages\\notebooks_models consumes 13727 bytes in 2 non-directory files\n",
      "c:\\Users\\gusta\\Documents\\GitHub\\Arenz_Group_Python\\tests\\Packages\\notebooks_models\\Packages consumes 0 bytes in 0 non-directory files\n",
      "c:\\Users\\gusta\\Documents\\GitHub\\Arenz_Group_Python\\tests\\Packages\\notebooks_models\\Packages\\data consumes 0 bytes in 0 non-directory files\n",
      "c:\\Users\\gusta\\Documents\\GitHub\\Arenz_Group_Python\\tests\\Packages\\py_scripts consumes 196 bytes in 2 non-directory files\n",
      "c:\\Users\\gusta\\Documents\\GitHub\\Arenz_Group_Python\\tests\\Project_Setup consumes 4211 bytes in 2 non-directory files\n"
     ]
    }
   ],
   "source": [
    "for root, dirs, files in Path(pp.cwd.parent.parent).walk(on_error=print):\n",
    "  print(\n",
    "      root,\n",
    "      \"consumes\",\n",
    "      sum((root / file).stat().st_size for file in files),\n",
    "      \"bytes in\",\n",
    "      len(files),\n",
    "      \"non-directory files\"\n",
    "  )\n",
    "  if '__pycache__' in dirs:\n",
    "        dirs.remove('__pycache__')"
   ]
  },
  {
   "cell_type": "code",
   "execution_count": null,
   "metadata": {},
   "outputs": [
    {
     "data": {
      "text/plain": [
       "[WindowsPath('modelData.ipynb'), WindowsPath('test_of_path.ipynb')]"
      ]
     },
     "execution_count": 9,
     "metadata": {},
     "output_type": "execute_result"
    }
   ],
   "source": [
    "list(Path(\".\").parent.parent.glob(\"**/*.*\"))"
   ]
  }
 ],
 "metadata": {
  "kernelspec": {
   "display_name": "Python 3",
   "language": "python",
   "name": "python3"
  },
  "language_info": {
   "codemirror_mode": {
    "name": "ipython",
    "version": 3
   },
   "file_extension": ".py",
   "mimetype": "text/x-python",
   "name": "python",
   "nbconvert_exporter": "python",
   "pygments_lexer": "ipython3",
   "version": "3.11.5"
  }
 },
 "nbformat": 4,
 "nbformat_minor": 2
}
