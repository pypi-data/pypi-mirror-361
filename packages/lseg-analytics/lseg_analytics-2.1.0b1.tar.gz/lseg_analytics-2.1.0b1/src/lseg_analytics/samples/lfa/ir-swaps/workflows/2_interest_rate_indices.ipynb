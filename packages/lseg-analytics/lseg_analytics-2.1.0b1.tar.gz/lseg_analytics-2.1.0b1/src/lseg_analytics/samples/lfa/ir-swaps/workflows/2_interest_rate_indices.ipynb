{
 "cells": [
  {
   "cell_type": "markdown",
   "id": "1a108871",
   "metadata": {},
   "source": [
    "# Interest Rate Indices"
   ]
  },
  {
   "cell_type": "markdown",
   "id": "3a4cef20",
   "metadata": {},
   "source": [
    "This notebook demonstrates how to access and use the functionalities of index templates which are part of our 'lseg_analytics.reference_data.floating_rate_indices' module within LSEG Financial Analytics SDK."
   ]
  },
  {
   "cell_type": "markdown",
   "id": "7cd0ad84",
   "metadata": {},
   "source": [
    "## Imports"
   ]
  },
  {
   "cell_type": "markdown",
   "id": "37a963b7",
   "metadata": {},
   "source": [
    "The following modules will be required in this notebook:"
   ]
  },
  {
   "cell_type": "code",
   "execution_count": 1,
   "id": "fb2218f1",
   "metadata": {
    "execution": {
     "iopub.execute_input": "2025-06-27T09:43:04.556949Z",
     "iopub.status.busy": "2025-06-27T09:43:04.556611Z",
     "iopub.status.idle": "2025-06-27T09:43:05.325241Z",
     "shell.execute_reply": "2025-06-27T09:43:05.324665Z"
    }
   },
   "outputs": [],
   "source": [
    "import pandas as pd\n",
    "import json\n",
    "from lseg_analytics.reference_data.floating_rate_indices import search, load\n",
    "from lseg_analytics.common import SortingOrderEnum\n",
    "from IPython.display import display"
   ]
  },
  {
   "cell_type": "markdown",
   "id": "20f1a5dd",
   "metadata": {},
   "source": [
    "## Utility methods"
   ]
  },
  {
   "cell_type": "code",
   "execution_count": 2,
   "id": "370ef529",
   "metadata": {
    "execution": {
     "iopub.execute_input": "2025-06-27T09:43:05.329301Z",
     "iopub.status.busy": "2025-06-27T09:43:05.327590Z",
     "iopub.status.idle": "2025-06-27T09:43:05.334544Z",
     "shell.execute_reply": "2025-06-27T09:43:05.334001Z"
    }
   },
   "outputs": [],
   "source": [
    "def extract_tag_key(tag):\n",
    "    return tag.split(\":\")[0] if \":\" in tag else tag\n",
    "\n",
    "def list_unique_tags(all_swaps):\n",
    "    unique_tags = set()\n",
    "    for item in all_swaps:\n",
    "        tags = item.get(\"description\", {}).get(\"tags\", [])\n",
    "        for tag in tags:\n",
    "            key = extract_tag_key(tag)\n",
    "            unique_tags.add(key)\n",
    "    return unique_tags\n",
    "\n",
    "def display_templates(templates):\n",
    "    unique_tag_keys = list(list_unique_tags(templates))\n",
    "\n",
    "    rows = []\n",
    "    for item in templates:\n",
    "        row = {\n",
    "            \"Space\": item.get(\"location\", {}).get(\"space\", \"\"),\n",
    "            \"Id\": item.get(\"id\", \"\"),\n",
    "            \"Name\": item.get(\"location\", {}).get(\"name\", \"\"),\n",
    "            \"Summary\": item.get(\"description\", {}).get(\"summary\", \"\"),\n",
    "        }\n",
    "        tags = item.get(\"description\", {}).get(\"tags\", [])\n",
    "        tag_dict = {extract_tag_key(tag): tag for tag in tags}\n",
    "        for key in unique_tag_keys:\n",
    "            tag_val = tag_dict.get(key, None)\n",
    "            if tag_val is not None and \":\" in tag_val:\n",
    "                row[key] = tag_val.split(\":\", 1)[1]\n",
    "            else:\n",
    "                row[key] = tag_val\n",
    "        rows.append(row)\n",
    "\n",
    "    display(pd.DataFrame(rows))"
   ]
  },
  {
   "cell_type": "markdown",
   "id": "a120b720",
   "metadata": {},
   "source": [
    "## Searching for LSEG index templates"
   ]
  },
  {
   "cell_type": "markdown",
   "id": "0c5fcfe5",
   "metadata": {},
   "source": [
    "Retrieve 3 index templates from the 'LSEG' space, sorted by name in ascending order."
   ]
  },
  {
   "cell_type": "code",
   "execution_count": 3,
   "id": "bb2ba0b4",
   "metadata": {
    "execution": {
     "iopub.execute_input": "2025-06-27T09:43:05.336623Z",
     "iopub.status.busy": "2025-06-27T09:43:05.336337Z",
     "iopub.status.idle": "2025-06-27T09:43:05.760622Z",
     "shell.execute_reply": "2025-06-27T09:43:05.760051Z"
    }
   },
   "outputs": [
    {
     "data": {
      "text/html": [
       "<div>\n",
       "<style scoped>\n",
       "    .dataframe tbody tr th:only-of-type {\n",
       "        vertical-align: middle;\n",
       "    }\n",
       "\n",
       "    .dataframe tbody tr th {\n",
       "        vertical-align: top;\n",
       "    }\n",
       "\n",
       "    .dataframe thead th {\n",
       "        text-align: right;\n",
       "    }\n",
       "</style>\n",
       "<table border=\"1\" class=\"dataframe\">\n",
       "  <thead>\n",
       "    <tr style=\"text-align: right;\">\n",
       "      <th></th>\n",
       "      <th>Space</th>\n",
       "      <th>Id</th>\n",
       "      <th>Name</th>\n",
       "      <th>Summary</th>\n",
       "      <th>indexTenor</th>\n",
       "      <th>currency</th>\n",
       "      <th>sourceShortName</th>\n",
       "      <th>sourceLongName</th>\n",
       "    </tr>\n",
       "  </thead>\n",
       "  <tbody>\n",
       "    <tr>\n",
       "      <th>0</th>\n",
       "      <td>LSEG</td>\n",
       "      <td>f882ded9-13b9-4456-ab56-134d93cec3d4</td>\n",
       "      <td>AED_AEIBOR_1M</td>\n",
       "      <td>AED AEIBOR</td>\n",
       "      <td>1M</td>\n",
       "      <td>AED</td>\n",
       "      <td>RFTB</td>\n",
       "      <td>Refinitiv</td>\n",
       "    </tr>\n",
       "    <tr>\n",
       "      <th>1</th>\n",
       "      <td>LSEG</td>\n",
       "      <td>7a102320-d152-4ebf-9fce-b4b254ddc471</td>\n",
       "      <td>AED_AEIBOR_1Y</td>\n",
       "      <td>AED AEIBOR</td>\n",
       "      <td>1Y</td>\n",
       "      <td>AED</td>\n",
       "      <td>RFTB</td>\n",
       "      <td>Refinitiv</td>\n",
       "    </tr>\n",
       "    <tr>\n",
       "      <th>2</th>\n",
       "      <td>LSEG</td>\n",
       "      <td>3d8b26aa-940a-45d0-9756-6af902ce5738</td>\n",
       "      <td>AED_AEIBOR_3M</td>\n",
       "      <td>AED AEIBOR</td>\n",
       "      <td>3M</td>\n",
       "      <td>AED</td>\n",
       "      <td>RFTB</td>\n",
       "      <td>Refinitiv</td>\n",
       "    </tr>\n",
       "  </tbody>\n",
       "</table>\n",
       "</div>"
      ],
      "text/plain": [
       "  Space                                    Id           Name     Summary  \\\n",
       "0  LSEG  f882ded9-13b9-4456-ab56-134d93cec3d4  AED_AEIBOR_1M  AED AEIBOR   \n",
       "1  LSEG  7a102320-d152-4ebf-9fce-b4b254ddc471  AED_AEIBOR_1Y  AED AEIBOR   \n",
       "2  LSEG  3d8b26aa-940a-45d0-9756-6af902ce5738  AED_AEIBOR_3M  AED AEIBOR   \n",
       "\n",
       "  indexTenor currency sourceShortName sourceLongName  \n",
       "0         1M      AED            RFTB      Refinitiv  \n",
       "1         1Y      AED            RFTB      Refinitiv  \n",
       "2         3M      AED            RFTB      Refinitiv  "
      ]
     },
     "metadata": {},
     "output_type": "display_data"
    }
   ],
   "source": [
    "index_templates = search(item_per_page= 3, spaces=[\"LSEG\"], space_name_sort_order = SortingOrderEnum.ASC)\n",
    "\n",
    "display_templates(index_templates)"
   ]
  },
  {
   "cell_type": "markdown",
   "id": "1635a0f3",
   "metadata": {},
   "source": [
    "Retrieve overnight (indexTenor = ON) index templates in US Dollar (USD), contributed by RFTB, from the LSEG space."
   ]
  },
  {
   "cell_type": "code",
   "execution_count": 4,
   "id": "1fa9d0a1",
   "metadata": {
    "execution": {
     "iopub.execute_input": "2025-06-27T09:43:05.763083Z",
     "iopub.status.busy": "2025-06-27T09:43:05.762713Z",
     "iopub.status.idle": "2025-06-27T09:43:05.895876Z",
     "shell.execute_reply": "2025-06-27T09:43:05.895405Z"
    }
   },
   "outputs": [
    {
     "data": {
      "text/html": [
       "<div>\n",
       "<style scoped>\n",
       "    .dataframe tbody tr th:only-of-type {\n",
       "        vertical-align: middle;\n",
       "    }\n",
       "\n",
       "    .dataframe tbody tr th {\n",
       "        vertical-align: top;\n",
       "    }\n",
       "\n",
       "    .dataframe thead th {\n",
       "        text-align: right;\n",
       "    }\n",
       "</style>\n",
       "<table border=\"1\" class=\"dataframe\">\n",
       "  <thead>\n",
       "    <tr style=\"text-align: right;\">\n",
       "      <th></th>\n",
       "      <th>Space</th>\n",
       "      <th>Id</th>\n",
       "      <th>Name</th>\n",
       "      <th>Summary</th>\n",
       "      <th>indexTenor</th>\n",
       "      <th>currency</th>\n",
       "      <th>sourceShortName</th>\n",
       "      <th>sourceLongName</th>\n",
       "    </tr>\n",
       "  </thead>\n",
       "  <tbody>\n",
       "    <tr>\n",
       "      <th>0</th>\n",
       "      <td>LSEG</td>\n",
       "      <td>6b095b20-ad86-4249-8796-052aac6234f2</td>\n",
       "      <td>USD_BSBY_ON</td>\n",
       "      <td>US Dollar Bloomberg Short-Term Bank Yield</td>\n",
       "      <td>ON</td>\n",
       "      <td>USD</td>\n",
       "      <td>RFTB</td>\n",
       "      <td>Refinitiv</td>\n",
       "    </tr>\n",
       "    <tr>\n",
       "      <th>1</th>\n",
       "      <td>LSEG</td>\n",
       "      <td>710fc04c-e793-44f4-a0f1-b133c8a37c87</td>\n",
       "      <td>USD_FFER_ON</td>\n",
       "      <td>Fed Funds Effective Rate</td>\n",
       "      <td>ON</td>\n",
       "      <td>USD</td>\n",
       "      <td>RFTB</td>\n",
       "      <td>Refinitiv</td>\n",
       "    </tr>\n",
       "    <tr>\n",
       "      <th>2</th>\n",
       "      <td>LSEG</td>\n",
       "      <td>70e69888-b814-4a4e-a837-dc3f422ee7df</td>\n",
       "      <td>USD_SOFR_ON</td>\n",
       "      <td>US Dollar Secured Overnight Financial Rate SOF...</td>\n",
       "      <td>ON</td>\n",
       "      <td>USD</td>\n",
       "      <td>RFTB</td>\n",
       "      <td>Refinitiv</td>\n",
       "    </tr>\n",
       "    <tr>\n",
       "      <th>3</th>\n",
       "      <td>LSEG</td>\n",
       "      <td>78c319ae-cf6f-43f0-9ca4-1c4e9ef6702e</td>\n",
       "      <td>USD_USFFTARGET_ON</td>\n",
       "      <td>Fed Funds Target Rate</td>\n",
       "      <td>ON</td>\n",
       "      <td>USD</td>\n",
       "      <td>RFTB</td>\n",
       "      <td>Refinitiv</td>\n",
       "    </tr>\n",
       "  </tbody>\n",
       "</table>\n",
       "</div>"
      ],
      "text/plain": [
       "  Space                                    Id               Name  \\\n",
       "0  LSEG  6b095b20-ad86-4249-8796-052aac6234f2        USD_BSBY_ON   \n",
       "1  LSEG  710fc04c-e793-44f4-a0f1-b133c8a37c87        USD_FFER_ON   \n",
       "2  LSEG  70e69888-b814-4a4e-a837-dc3f422ee7df        USD_SOFR_ON   \n",
       "3  LSEG  78c319ae-cf6f-43f0-9ca4-1c4e9ef6702e  USD_USFFTARGET_ON   \n",
       "\n",
       "                                             Summary indexTenor currency  \\\n",
       "0          US Dollar Bloomberg Short-Term Bank Yield         ON      USD   \n",
       "1                           Fed Funds Effective Rate         ON      USD   \n",
       "2  US Dollar Secured Overnight Financial Rate SOF...         ON      USD   \n",
       "3                              Fed Funds Target Rate         ON      USD   \n",
       "\n",
       "  sourceShortName sourceLongName  \n",
       "0            RFTB      Refinitiv  \n",
       "1            RFTB      Refinitiv  \n",
       "2            RFTB      Refinitiv  \n",
       "3            RFTB      Refinitiv  "
      ]
     },
     "metadata": {},
     "output_type": "display_data"
    }
   ],
   "source": [
    "usd_templates = search(tags=[\"currency:USD\", \"indexTenor:ON\", \"sourceShortName:RFTB\"], spaces=[\"LSEG\"])\n",
    "\n",
    "display_templates(usd_templates)"
   ]
  },
  {
   "cell_type": "markdown",
   "id": "6b7ec6ed",
   "metadata": {},
   "source": [
    "Access the index template identified which name is 'USD_SOFR_ON'."
   ]
  },
  {
   "cell_type": "code",
   "execution_count": 5,
   "id": "6be03632",
   "metadata": {
    "execution": {
     "iopub.execute_input": "2025-06-27T09:43:05.898352Z",
     "iopub.status.busy": "2025-06-27T09:43:05.897873Z",
     "iopub.status.idle": "2025-06-27T09:43:06.031552Z",
     "shell.execute_reply": "2025-06-27T09:43:06.031100Z"
    }
   },
   "outputs": [
    {
     "data": {
      "text/html": [
       "<div>\n",
       "<style scoped>\n",
       "    .dataframe tbody tr th:only-of-type {\n",
       "        vertical-align: middle;\n",
       "    }\n",
       "\n",
       "    .dataframe tbody tr th {\n",
       "        vertical-align: top;\n",
       "    }\n",
       "\n",
       "    .dataframe thead th {\n",
       "        text-align: right;\n",
       "    }\n",
       "</style>\n",
       "<table border=\"1\" class=\"dataframe\">\n",
       "  <thead>\n",
       "    <tr style=\"text-align: right;\">\n",
       "      <th></th>\n",
       "      <th>Space</th>\n",
       "      <th>Id</th>\n",
       "      <th>Name</th>\n",
       "      <th>Summary</th>\n",
       "      <th>indexTenor</th>\n",
       "      <th>currency</th>\n",
       "      <th>sourceShortName</th>\n",
       "      <th>sourceLongName</th>\n",
       "    </tr>\n",
       "  </thead>\n",
       "  <tbody>\n",
       "    <tr>\n",
       "      <th>0</th>\n",
       "      <td>LSEG</td>\n",
       "      <td>70e69888-b814-4a4e-a837-dc3f422ee7df</td>\n",
       "      <td>USD_SOFR_ON</td>\n",
       "      <td>US Dollar Secured Overnight Financial Rate SOF...</td>\n",
       "      <td>ON</td>\n",
       "      <td>USD</td>\n",
       "      <td>RFTB</td>\n",
       "      <td>Refinitiv</td>\n",
       "    </tr>\n",
       "  </tbody>\n",
       "</table>\n",
       "</div>"
      ],
      "text/plain": [
       "  Space                                    Id         Name  \\\n",
       "0  LSEG  70e69888-b814-4a4e-a837-dc3f422ee7df  USD_SOFR_ON   \n",
       "\n",
       "                                             Summary indexTenor currency  \\\n",
       "0  US Dollar Secured Overnight Financial Rate SOF...         ON      USD   \n",
       "\n",
       "  sourceShortName sourceLongName  \n",
       "0            RFTB      Refinitiv  "
      ]
     },
     "metadata": {},
     "output_type": "display_data"
    }
   ],
   "source": [
    "usd_templates = search(spaces=[\"LSEG\"],\n",
    "                        names=[\"USD_SOFR_ON\"],\n",
    "                        item_per_page= 1)\n",
    "\n",
    "display_templates(usd_templates)"
   ]
  },
  {
   "cell_type": "markdown",
   "id": "b7dc7a60",
   "metadata": {},
   "source": [
    "## Exploring features of a specific index template"
   ]
  },
  {
   "cell_type": "markdown",
   "id": "7dbf4993",
   "metadata": {},
   "source": [
    "Let's explore the specificities of the SOFR swap template, via Space/Name as 'resource_id'"
   ]
  },
  {
   "cell_type": "code",
   "execution_count": 6,
   "id": "adac1267",
   "metadata": {
    "execution": {
     "iopub.execute_input": "2025-06-27T09:43:06.033721Z",
     "iopub.status.busy": "2025-06-27T09:43:06.033363Z",
     "iopub.status.idle": "2025-06-27T09:43:06.303911Z",
     "shell.execute_reply": "2025-06-27T09:43:06.303335Z"
    }
   },
   "outputs": [
    {
     "name": "stdout",
     "output_type": "stream",
     "text": [
      "{\n",
      "    \"currency\": \"USD\",\n",
      "    \"name\": \"SOFR\",\n",
      "    \"tenor\": \"ON\",\n",
      "    \"yearBasis\": 0,\n",
      "    \"rounding\": {\n",
      "        \"decimalPlaces\": 0,\n",
      "        \"scale\": 1\n",
      "    },\n",
      "    \"quoteDefinition\": {\n",
      "        \"instrumentCode\": \"USDSOFR=\",\n",
      "        \"source\": \"RFTB\"\n",
      "    }\n",
      "}\n"
     ]
    }
   ],
   "source": [
    "sofr_index = load(name=\"USD_SOFR_ON\")\n",
    "\n",
    "print(json.dumps(sofr_index.definition.as_dict(), indent=4))"
   ]
  },
  {
   "cell_type": "markdown",
   "id": "ef5b8350",
   "metadata": {},
   "source": [
    "Now let's explore again this swap template, this time via its unique Id."
   ]
  },
  {
   "cell_type": "code",
   "execution_count": 7,
   "id": "ca86a367",
   "metadata": {
    "execution": {
     "iopub.execute_input": "2025-06-27T09:43:06.306034Z",
     "iopub.status.busy": "2025-06-27T09:43:06.305734Z",
     "iopub.status.idle": "2025-06-27T09:43:06.449218Z",
     "shell.execute_reply": "2025-06-27T09:43:06.448581Z"
    }
   },
   "outputs": [
    {
     "name": "stdout",
     "output_type": "stream",
     "text": [
      "70e69888-b814-4a4e-a837-dc3f422ee7df\n",
      "{\n",
      "    \"currency\": \"USD\",\n",
      "    \"name\": \"SOFR\",\n",
      "    \"tenor\": \"ON\",\n",
      "    \"yearBasis\": 0,\n",
      "    \"rounding\": {\n",
      "        \"decimalPlaces\": 0,\n",
      "        \"scale\": 1\n",
      "    },\n",
      "    \"quoteDefinition\": {\n",
      "        \"instrumentCode\": \"USDSOFR=\",\n",
      "        \"source\": \"RFTB\"\n",
      "    }\n",
      "}\n"
     ]
    }
   ],
   "source": [
    "sofr_id = usd_templates[0].get(\"id\", None)\n",
    "print(sofr_id)\n",
    "\n",
    "sofr_index = load(resource_id=sofr_id)\n",
    "\n",
    "print(json.dumps(sofr_index.definition.as_dict(), indent=4))"
   ]
  },
  {
   "cell_type": "markdown",
   "id": "a66bbe03",
   "metadata": {},
   "source": [
    "And finally let's see how we can get a description of the same index template, this time via Space/Name."
   ]
  },
  {
   "cell_type": "code",
   "execution_count": 8,
   "id": "eb9442df",
   "metadata": {
    "execution": {
     "iopub.execute_input": "2025-06-27T09:43:06.451535Z",
     "iopub.status.busy": "2025-06-27T09:43:06.451224Z",
     "iopub.status.idle": "2025-06-27T09:43:06.613906Z",
     "shell.execute_reply": "2025-06-27T09:43:06.613286Z"
    }
   },
   "outputs": [
    {
     "name": "stdout",
     "output_type": "stream",
     "text": [
      "{\n",
      "    \"currency\": \"USD\",\n",
      "    \"name\": \"SOFR\",\n",
      "    \"tenor\": \"ON\",\n",
      "    \"yearBasis\": 0,\n",
      "    \"rounding\": {\n",
      "        \"decimalPlaces\": 0,\n",
      "        \"scale\": 1\n",
      "    },\n",
      "    \"quoteDefinition\": {\n",
      "        \"instrumentCode\": \"USDSOFR=\",\n",
      "        \"source\": \"RFTB\"\n",
      "    }\n",
      "}\n"
     ]
    }
   ],
   "source": [
    "sofr_index = load(resource_id=\"LSEG/USD_SOFR_ON\")\n",
    "\n",
    "print(json.dumps(sofr_index.definition.as_dict(), indent=4))"
   ]
  }
 ],
 "metadata": {
  "kernelspec": {
   "display_name": "Python 3",
   "language": "python",
   "name": "python3"
  },
  "language_info": {
   "codemirror_mode": {
    "name": "ipython",
    "version": 3
   },
   "file_extension": ".py",
   "mimetype": "text/x-python",
   "name": "python",
   "nbconvert_exporter": "python",
   "pygments_lexer": "ipython3",
   "version": "3.11.6"
  }
 },
 "nbformat": 4,
 "nbformat_minor": 5
}
