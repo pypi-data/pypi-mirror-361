{
 "cells": [
  {
   "cell_type": "markdown",
   "metadata": {},
   "source": [
    "# Working with `Community`s"
   ]
  },
  {
   "cell_type": "markdown",
   "metadata": {},
   "source": [
    "the `Community` object is geosnap's central data structure. A `Community` is a dataset that stores information about a collection of neighborhoods over several time periods, including each neighborhood's physical, socioeconomic, and demographic attributes and its demarcated boundaries. Under the hood, each `Community` is simply a long-form geopandas geodataframe with some associated metadata. "
   ]
  },
  {
   "cell_type": "markdown",
   "metadata": {},
   "source": [
    "If you're working with built-in data, you instantiate a `Community` by choosing the constructor for your dataset and passing either a boundary (geodataframe) or a selection filter that defines the study area. The selection filter can be either a `GeoDataFrame` boundary or a set of [FIPS](https://www.policymap.com/2012/08/tips-on-fips-a-quick-guide-to-geographic-place-codes-part-iii/) codes. Boundary queries are often more convenient but they are  more expensive to compute and will take longer to construct."
   ]
  },
  {
   "cell_type": "markdown",
   "metadata": {},
   "source": [
    "When constructing `Community`s from fips codes, the constructor has arguments for state, county, msa, or list of any arbitrary fips codes. If more than one of these arguments is passed, geosnap will use the union. This means that each level of the hierarchy is available for convenience but you are free to mix and match msas, states, counties, and even single tracts to create your study region of choice"
   ]
  },
  {
   "cell_type": "markdown",
   "metadata": {},
   "source": [
    "If you're working with your own data, you instantiate a `Community` by passing a list of geodataframes (or a single long-form)."
   ]
  },
  {
   "cell_type": "code",
   "execution_count": 1,
   "metadata": {
    "ExecuteTime": {
     "end_time": "2021-05-08T01:43:46.550956Z",
     "start_time": "2021-05-08T01:43:07.914069Z"
    }
   },
   "outputs": [],
   "source": [
    "from geosnap import Community"
   ]
  },
  {
   "cell_type": "markdown",
   "metadata": {},
   "source": [
    "## Create a `Community` from built-in census data"
   ]
  },
  {
   "cell_type": "markdown",
   "metadata": {},
   "source": [
    "The quickest and easiest method for getting started is to instantiate a Community using the built-in census data. To do so, you use the `Community.from_census` constructor:"
   ]
  },
  {
   "cell_type": "code",
   "execution_count": 2,
   "metadata": {
    "ExecuteTime": {
     "end_time": "2021-05-08T01:46:48.140084Z",
     "start_time": "2021-05-08T01:43:46.554463Z"
    }
   },
   "outputs": [
    {
     "name": "stderr",
     "output_type": "stream",
     "text": [
      "/Users/the-gaboardi/geosnap/geosnap/_data.py:220: UserWarning: streaming remote data. Use `geosnap.io.store_census() to store the data locally for better performance\n",
      "  warn(\n",
      "/Users/the-gaboardi/geosnap/geosnap/_data.py:251: UserWarning: streaming remote data. Use `geosnap.io.store_census() to store the data locally for better performance\n",
      "  warn(\n",
      "/Users/the-gaboardi/geosnap/geosnap/_data.py:283: UserWarning: streaming remote data. Use `geosnap.io.store_census() to store the data locally for better performance\n",
      "  warn(\n"
     ]
    }
   ],
   "source": [
    "# this will create a new community using data from Washington DC (which is fips code 11)\n",
    "dc = Community.from_census(state_fips=\"11\")"
   ]
  },
  {
   "cell_type": "markdown",
   "metadata": {},
   "source": [
    "Note that when using `Community.from_census`, the resulting community has *unharmonized* tract boundaries, meaning that the tracts are different for each decade"
   ]
  },
  {
   "cell_type": "markdown",
   "metadata": {},
   "source": [
    "To access the underlying data from a `Community`, simply call its `gdf` attribute which returns a geodataframe"
   ]
  },
  {
   "cell_type": "code",
   "execution_count": 3,
   "metadata": {
    "ExecuteTime": {
     "end_time": "2021-05-08T01:46:48.168125Z",
     "start_time": "2021-05-08T01:46:48.143432Z"
    }
   },
   "outputs": [
    {
     "data": {
      "text/html": [
       "<div>\n",
       "<style scoped>\n",
       "    .dataframe tbody tr th:only-of-type {\n",
       "        vertical-align: middle;\n",
       "    }\n",
       "\n",
       "    .dataframe tbody tr th {\n",
       "        vertical-align: top;\n",
       "    }\n",
       "\n",
       "    .dataframe thead th {\n",
       "        text-align: right;\n",
       "    }\n",
       "</style>\n",
       "<table border=\"1\" class=\"dataframe\">\n",
       "  <thead>\n",
       "    <tr style=\"text-align: right;\">\n",
       "      <th></th>\n",
       "      <th>geoid</th>\n",
       "      <th>n_mexican_pop</th>\n",
       "      <th>n_cuban_pop</th>\n",
       "      <th>n_puerto_rican_pop</th>\n",
       "      <th>n_total_housing_units</th>\n",
       "      <th>n_vacant_housing_units</th>\n",
       "      <th>n_occupied_housing_units</th>\n",
       "      <th>n_owner_occupied_housing_units</th>\n",
       "      <th>n_renter_occupied_housing_units</th>\n",
       "      <th>n_white_persons</th>\n",
       "      <th>...</th>\n",
       "      <th>p_irish_born_pop</th>\n",
       "      <th>p_italian_born_pop</th>\n",
       "      <th>p_poverty_rate_children</th>\n",
       "      <th>p_poverty_rate_hispanic</th>\n",
       "      <th>p_russian_born_pop</th>\n",
       "      <th>p_scandanavian_born_pop</th>\n",
       "      <th>p_scandanavian_pop</th>\n",
       "      <th>n_total_pop_sample</th>\n",
       "      <th>p_female_labor_force</th>\n",
       "      <th>p_black_persons</th>\n",
       "    </tr>\n",
       "  </thead>\n",
       "  <tbody>\n",
       "    <tr>\n",
       "      <th>53214</th>\n",
       "      <td>11001001600</td>\n",
       "      <td>4409.0</td>\n",
       "      <td>2.0</td>\n",
       "      <td>7.0</td>\n",
       "      <td>1667.0</td>\n",
       "      <td>43.0</td>\n",
       "      <td>1624.0</td>\n",
       "      <td>1458.0</td>\n",
       "      <td>166.0</td>\n",
       "      <td>114423.0</td>\n",
       "      <td>...</td>\n",
       "      <td>NaN</td>\n",
       "      <td>NaN</td>\n",
       "      <td>NaN</td>\n",
       "      <td>NaN</td>\n",
       "      <td>NaN</td>\n",
       "      <td>NaN</td>\n",
       "      <td>NaN</td>\n",
       "      <td>NaN</td>\n",
       "      <td>NaN</td>\n",
       "      <td>NaN</td>\n",
       "    </tr>\n",
       "    <tr>\n",
       "      <th>53215</th>\n",
       "      <td>11001001500</td>\n",
       "      <td>5430.0</td>\n",
       "      <td>11.0</td>\n",
       "      <td>15.0</td>\n",
       "      <td>2309.0</td>\n",
       "      <td>78.0</td>\n",
       "      <td>2231.0</td>\n",
       "      <td>1898.0</td>\n",
       "      <td>333.0</td>\n",
       "      <td>4694102.0</td>\n",
       "      <td>...</td>\n",
       "      <td>NaN</td>\n",
       "      <td>NaN</td>\n",
       "      <td>NaN</td>\n",
       "      <td>NaN</td>\n",
       "      <td>NaN</td>\n",
       "      <td>NaN</td>\n",
       "      <td>NaN</td>\n",
       "      <td>NaN</td>\n",
       "      <td>NaN</td>\n",
       "      <td>NaN</td>\n",
       "    </tr>\n",
       "    <tr>\n",
       "      <th>53216</th>\n",
       "      <td>11001001701</td>\n",
       "      <td>2868.0</td>\n",
       "      <td>5.0</td>\n",
       "      <td>22.0</td>\n",
       "      <td>1287.0</td>\n",
       "      <td>50.0</td>\n",
       "      <td>1237.0</td>\n",
       "      <td>619.0</td>\n",
       "      <td>618.0</td>\n",
       "      <td>31727.0</td>\n",
       "      <td>...</td>\n",
       "      <td>NaN</td>\n",
       "      <td>NaN</td>\n",
       "      <td>NaN</td>\n",
       "      <td>NaN</td>\n",
       "      <td>NaN</td>\n",
       "      <td>NaN</td>\n",
       "      <td>NaN</td>\n",
       "      <td>NaN</td>\n",
       "      <td>NaN</td>\n",
       "      <td>NaN</td>\n",
       "    </tr>\n",
       "    <tr>\n",
       "      <th>53217</th>\n",
       "      <td>11001001801</td>\n",
       "      <td>694.0</td>\n",
       "      <td>5.0</td>\n",
       "      <td>28.0</td>\n",
       "      <td>10.0</td>\n",
       "      <td>1.0</td>\n",
       "      <td>9.0</td>\n",
       "      <td>0.0</td>\n",
       "      <td>9.0</td>\n",
       "      <td>35813.0</td>\n",
       "      <td>...</td>\n",
       "      <td>NaN</td>\n",
       "      <td>NaN</td>\n",
       "      <td>NaN</td>\n",
       "      <td>NaN</td>\n",
       "      <td>NaN</td>\n",
       "      <td>NaN</td>\n",
       "      <td>NaN</td>\n",
       "      <td>NaN</td>\n",
       "      <td>NaN</td>\n",
       "      <td>NaN</td>\n",
       "    </tr>\n",
       "    <tr>\n",
       "      <th>53218</th>\n",
       "      <td>11001001702</td>\n",
       "      <td>2516.0</td>\n",
       "      <td>6.0</td>\n",
       "      <td>12.0</td>\n",
       "      <td>1086.0</td>\n",
       "      <td>43.0</td>\n",
       "      <td>1043.0</td>\n",
       "      <td>712.0</td>\n",
       "      <td>331.0</td>\n",
       "      <td>48917.0</td>\n",
       "      <td>...</td>\n",
       "      <td>NaN</td>\n",
       "      <td>NaN</td>\n",
       "      <td>NaN</td>\n",
       "      <td>NaN</td>\n",
       "      <td>NaN</td>\n",
       "      <td>NaN</td>\n",
       "      <td>NaN</td>\n",
       "      <td>NaN</td>\n",
       "      <td>NaN</td>\n",
       "      <td>NaN</td>\n",
       "    </tr>\n",
       "  </tbody>\n",
       "</table>\n",
       "<p>5 rows × 195 columns</p>\n",
       "</div>"
      ],
      "text/plain": [
       "             geoid  n_mexican_pop  n_cuban_pop  n_puerto_rican_pop  \\\n",
       "53214  11001001600         4409.0          2.0                 7.0   \n",
       "53215  11001001500         5430.0         11.0                15.0   \n",
       "53216  11001001701         2868.0          5.0                22.0   \n",
       "53217  11001001801          694.0          5.0                28.0   \n",
       "53218  11001001702         2516.0          6.0                12.0   \n",
       "\n",
       "       n_total_housing_units  n_vacant_housing_units  \\\n",
       "53214                 1667.0                    43.0   \n",
       "53215                 2309.0                    78.0   \n",
       "53216                 1287.0                    50.0   \n",
       "53217                   10.0                     1.0   \n",
       "53218                 1086.0                    43.0   \n",
       "\n",
       "       n_occupied_housing_units  n_owner_occupied_housing_units  \\\n",
       "53214                    1624.0                          1458.0   \n",
       "53215                    2231.0                          1898.0   \n",
       "53216                    1237.0                           619.0   \n",
       "53217                       9.0                             0.0   \n",
       "53218                    1043.0                           712.0   \n",
       "\n",
       "       n_renter_occupied_housing_units  n_white_persons  ...  \\\n",
       "53214                            166.0         114423.0  ...   \n",
       "53215                            333.0        4694102.0  ...   \n",
       "53216                            618.0          31727.0  ...   \n",
       "53217                              9.0          35813.0  ...   \n",
       "53218                            331.0          48917.0  ...   \n",
       "\n",
       "       p_irish_born_pop  p_italian_born_pop  p_poverty_rate_children  \\\n",
       "53214               NaN                 NaN                      NaN   \n",
       "53215               NaN                 NaN                      NaN   \n",
       "53216               NaN                 NaN                      NaN   \n",
       "53217               NaN                 NaN                      NaN   \n",
       "53218               NaN                 NaN                      NaN   \n",
       "\n",
       "       p_poverty_rate_hispanic  p_russian_born_pop  p_scandanavian_born_pop  \\\n",
       "53214                      NaN                 NaN                      NaN   \n",
       "53215                      NaN                 NaN                      NaN   \n",
       "53216                      NaN                 NaN                      NaN   \n",
       "53217                      NaN                 NaN                      NaN   \n",
       "53218                      NaN                 NaN                      NaN   \n",
       "\n",
       "       p_scandanavian_pop  n_total_pop_sample  p_female_labor_force  \\\n",
       "53214                 NaN                 NaN                   NaN   \n",
       "53215                 NaN                 NaN                   NaN   \n",
       "53216                 NaN                 NaN                   NaN   \n",
       "53217                 NaN                 NaN                   NaN   \n",
       "53218                 NaN                 NaN                   NaN   \n",
       "\n",
       "       p_black_persons  \n",
       "53214              NaN  \n",
       "53215              NaN  \n",
       "53216              NaN  \n",
       "53217              NaN  \n",
       "53218              NaN  \n",
       "\n",
       "[5 rows x 195 columns]"
      ]
     },
     "execution_count": 3,
     "metadata": {},
     "output_type": "execute_result"
    }
   ],
   "source": [
    "dc.gdf.head()"
   ]
  },
  {
   "cell_type": "markdown",
   "metadata": {},
   "source": [
    "You can easily create figures of time series plots from geosnap `Community` objects using the `plot_timeseries` class method. `plot_timeseries` uses `proplot`, a lightweight `matplotlib` wrapper with its own feature set. It also uses [`contextily`](https://github.com/geopandas/contextily) to (optionally) provide a nice basemap"
   ]
  },
  {
   "cell_type": "code",
   "execution_count": 4,
   "metadata": {
    "ExecuteTime": {
     "end_time": "2021-05-08T01:46:48.742474Z",
     "start_time": "2021-05-08T01:46:48.171205Z"
    }
   },
   "outputs": [
    {
     "name": "stderr",
     "output_type": "stream",
     "text": [
      "/Users/the-gaboardi/miniconda3/envs/geosnap/lib/python3.8/site-packages/proplot/config.py:1454: ProPlotWarning: Rebuilding font cache.\n"
     ]
    },
    {
     "ename": "AttributeError",
     "evalue": "module 'matplotlib.font_manager' has no attribute '_fmcache'",
     "output_type": "error",
     "traceback": [
      "\u001b[0;31m---------------------------------------------------------------------------\u001b[0m",
      "\u001b[0;31mAttributeError\u001b[0m                            Traceback (most recent call last)",
      "\u001b[0;32m<ipython-input-4-c0b74fe49e4e>\u001b[0m in \u001b[0;36m<module>\u001b[0;34m\u001b[0m\n\u001b[0;32m----> 1\u001b[0;31m dc.plot_timeseries(\n\u001b[0m\u001b[1;32m      2\u001b[0m     \u001b[0;34m\"p_nonhisp_white_persons\"\u001b[0m\u001b[0;34m,\u001b[0m\u001b[0;34m\u001b[0m\u001b[0;34m\u001b[0m\u001b[0m\n\u001b[1;32m      3\u001b[0m     \u001b[0mscheme\u001b[0m\u001b[0;34m=\u001b[0m\u001b[0;34m\"quantiles\"\u001b[0m\u001b[0;34m,\u001b[0m\u001b[0;34m\u001b[0m\u001b[0;34m\u001b[0m\u001b[0m\n\u001b[1;32m      4\u001b[0m     \u001b[0mcmap\u001b[0m\u001b[0;34m=\u001b[0m\u001b[0;34m\"Blues\"\u001b[0m\u001b[0;34m,\u001b[0m\u001b[0;34m\u001b[0m\u001b[0;34m\u001b[0m\u001b[0m\n\u001b[1;32m      5\u001b[0m     \u001b[0mk\u001b[0m\u001b[0;34m=\u001b[0m\u001b[0;36m6\u001b[0m\u001b[0;34m,\u001b[0m\u001b[0;34m\u001b[0m\u001b[0;34m\u001b[0m\u001b[0m\n",
      "\u001b[0;32m~/geosnap/geosnap/_community.py\u001b[0m in \u001b[0;36mplot_timeseries\u001b[0;34m(self, column, title, years, scheme, k, pooled, cmap, legend, categorical, save_fig, dpi, legend_kwds, missing_kwds, figsize, ncols, nrows, ctxmap, alpha, **kwargs)\u001b[0m\n\u001b[1;32m    999\u001b[0m         \u001b[0;31m# proplot needs to be used as a function-level import,\u001b[0m\u001b[0;34m\u001b[0m\u001b[0;34m\u001b[0m\u001b[0;34m\u001b[0m\u001b[0m\n\u001b[1;32m   1000\u001b[0m         \u001b[0;31m# as it influences all figures when imported at the top of the file\u001b[0m\u001b[0;34m\u001b[0m\u001b[0;34m\u001b[0m\u001b[0;34m\u001b[0m\u001b[0m\n\u001b[0;32m-> 1001\u001b[0;31m         \u001b[0;32mimport\u001b[0m \u001b[0mproplot\u001b[0m \u001b[0;32mas\u001b[0m \u001b[0mplot\u001b[0m\u001b[0;34m\u001b[0m\u001b[0;34m\u001b[0m\u001b[0m\n\u001b[0m\u001b[1;32m   1002\u001b[0m \u001b[0;34m\u001b[0m\u001b[0m\n\u001b[1;32m   1003\u001b[0m         \u001b[0;32mif\u001b[0m \u001b[0mcategorical\u001b[0m\u001b[0;34m:\u001b[0m  \u001b[0;31m# there's no pooled classification for categorical\u001b[0m\u001b[0;34m\u001b[0m\u001b[0;34m\u001b[0m\u001b[0m\n",
      "\u001b[0;32m~/miniconda3/envs/geosnap/lib/python3.8/site-packages/proplot/__init__.py\u001b[0m in \u001b[0;36m<module>\u001b[0;34m\u001b[0m\n\u001b[1;32m      6\u001b[0m \u001b[0;31m# In the future we will not import the class names\u001b[0m\u001b[0;34m\u001b[0m\u001b[0;34m\u001b[0m\u001b[0;34m\u001b[0m\u001b[0m\n\u001b[1;32m      7\u001b[0m \u001b[0;32mimport\u001b[0m \u001b[0mpkg_resources\u001b[0m \u001b[0;32mas\u001b[0m \u001b[0m_pkg\u001b[0m\u001b[0;34m\u001b[0m\u001b[0;34m\u001b[0m\u001b[0m\n\u001b[0;32m----> 8\u001b[0;31m \u001b[0;32mfrom\u001b[0m \u001b[0;34m.\u001b[0m\u001b[0mconfig\u001b[0m \u001b[0;32mimport\u001b[0m \u001b[0;34m*\u001b[0m  \u001b[0;31m# noqa: F401 F403\u001b[0m\u001b[0;34m\u001b[0m\u001b[0;34m\u001b[0m\u001b[0m\n\u001b[0m\u001b[1;32m      9\u001b[0m \u001b[0;32mfrom\u001b[0m \u001b[0;34m.\u001b[0m\u001b[0minternals\u001b[0m \u001b[0;32mimport\u001b[0m \u001b[0mtimers\u001b[0m\u001b[0;34m\u001b[0m\u001b[0;34m\u001b[0m\u001b[0m\n\u001b[1;32m     10\u001b[0m \u001b[0;32mwith\u001b[0m \u001b[0mtimers\u001b[0m\u001b[0;34m.\u001b[0m\u001b[0m_benchmark\u001b[0m\u001b[0;34m(\u001b[0m\u001b[0;34m'imports'\u001b[0m\u001b[0;34m)\u001b[0m\u001b[0;34m:\u001b[0m\u001b[0;34m\u001b[0m\u001b[0;34m\u001b[0m\u001b[0m\n",
      "\u001b[0;32m~/miniconda3/envs/geosnap/lib/python3.8/site-packages/proplot/config.py\u001b[0m in \u001b[0;36m<module>\u001b[0;34m\u001b[0m\n\u001b[1;32m   1566\u001b[0m \u001b[0;34m\u001b[0m\u001b[0m\n\u001b[1;32m   1567\u001b[0m \u001b[0;32mwith\u001b[0m \u001b[0mtimers\u001b[0m\u001b[0;34m.\u001b[0m\u001b[0m_benchmark\u001b[0m\u001b[0;34m(\u001b[0m\u001b[0;34m'fonts'\u001b[0m\u001b[0;34m)\u001b[0m\u001b[0;34m:\u001b[0m\u001b[0;34m\u001b[0m\u001b[0;34m\u001b[0m\u001b[0m\n\u001b[0;32m-> 1568\u001b[0;31m     \u001b[0mregister_fonts\u001b[0m\u001b[0;34m(\u001b[0m\u001b[0;34m)\u001b[0m\u001b[0;34m\u001b[0m\u001b[0;34m\u001b[0m\u001b[0m\n\u001b[0m\u001b[1;32m   1569\u001b[0m \u001b[0;34m\u001b[0m\u001b[0m\n\u001b[1;32m   1570\u001b[0m \u001b[0;32mwith\u001b[0m \u001b[0mtimers\u001b[0m\u001b[0;34m.\u001b[0m\u001b[0m_benchmark\u001b[0m\u001b[0;34m(\u001b[0m\u001b[0;34m'rc'\u001b[0m\u001b[0;34m)\u001b[0m\u001b[0;34m:\u001b[0m\u001b[0;34m\u001b[0m\u001b[0;34m\u001b[0m\u001b[0m\n",
      "\u001b[0;32m~/miniconda3/envs/geosnap/lib/python3.8/site-packages/proplot/config.py\u001b[0m in \u001b[0;36mregister_fonts\u001b[0;34m()\u001b[0m\n\u001b[1;32m   1457\u001b[0m             \u001b[0;32mfor\u001b[0m \u001b[0mfname\u001b[0m \u001b[0;32min\u001b[0m \u001b[0mfnames_proplot\u001b[0m\u001b[0;34m:\u001b[0m\u001b[0;34m\u001b[0m\u001b[0;34m\u001b[0m\u001b[0m\n\u001b[1;32m   1458\u001b[0m                 \u001b[0mmfonts\u001b[0m\u001b[0;34m.\u001b[0m\u001b[0mfontManager\u001b[0m\u001b[0;34m.\u001b[0m\u001b[0maddfont\u001b[0m\u001b[0;34m(\u001b[0m\u001b[0mfname\u001b[0m\u001b[0;34m)\u001b[0m\u001b[0;34m\u001b[0m\u001b[0;34m\u001b[0m\u001b[0m\n\u001b[0;32m-> 1459\u001b[0;31m             \u001b[0mmfonts\u001b[0m\u001b[0;34m.\u001b[0m\u001b[0mjson_dump\u001b[0m\u001b[0;34m(\u001b[0m\u001b[0mmfonts\u001b[0m\u001b[0;34m.\u001b[0m\u001b[0mfontManager\u001b[0m\u001b[0;34m,\u001b[0m \u001b[0mmfonts\u001b[0m\u001b[0;34m.\u001b[0m\u001b[0m_fmcache\u001b[0m\u001b[0;34m)\u001b[0m\u001b[0;34m\u001b[0m\u001b[0;34m\u001b[0m\u001b[0m\n\u001b[0m\u001b[1;32m   1460\u001b[0m         \u001b[0;32melse\u001b[0m\u001b[0;34m:\u001b[0m\u001b[0;34m\u001b[0m\u001b[0;34m\u001b[0m\u001b[0m\n\u001b[1;32m   1461\u001b[0m             \u001b[0;31m# Old API requires us to modify TTFPATH\u001b[0m\u001b[0;34m\u001b[0m\u001b[0;34m\u001b[0m\u001b[0;34m\u001b[0m\u001b[0m\n",
      "\u001b[0;31mAttributeError\u001b[0m: module 'matplotlib.font_manager' has no attribute '_fmcache'"
     ]
    }
   ],
   "source": [
    "dc.plot_timeseries(\n",
    "    \"p_nonhisp_white_persons\",\n",
    "    scheme=\"quantiles\",\n",
    "    cmap=\"Blues\",\n",
    "    k=6,\n",
    "    alpha=0.7,\n",
    "    years=[1990, 2000, 2010],\n",
    ")"
   ]
  },
  {
   "cell_type": "markdown",
   "metadata": {},
   "source": [
    "`plot_timeseries` default behavior is to graph every year in the provided `Community` object in chronological order with OpenStreetMaps.Mapnik from contextily as the basemap. If you pass the list `years=[]` , then `plot_timeseries` will graph in the order that the list was passed. You can also specify another map provider for contextily, or disable it by passing `False` with the parameter`ctxmap`."
   ]
  },
  {
   "cell_type": "markdown",
   "metadata": {},
   "source": [
    "The `save_fig` parameter in `plot_timeseries` tells the function to save the resulting plot with the specified name and path. Note that if the file extension is not specified then the image will be saved as a `.pdf`, and that the path specified must already exist."
   ]
  },
  {
   "cell_type": "markdown",
   "metadata": {},
   "source": [
    "## Create a `Community` from Longitudinal Employment-Household Dynamics"
   ]
  },
  {
   "cell_type": "markdown",
   "metadata": {},
   "source": [
    "You can also create a `Community` from block-level LEHD census data. Unlike the decennial census, LEHD data are annual and contain information about the \"workplace area characteristics\" (\"wac\") and \"residence area characteristics\" (\"rac\") of employees. \"wac\" datasets contain information about where employees work, while \"rac\" datasets contiain information about where they live. Apart from information about the race, skill level, and income of emmployees in eaech census block, LEHD data also count the number of workers in each NAICS 2-digit industry category.\n",
    "\n",
    "If you use the `Community.from_lodes` constructor, you can collect data from 2000 to 2015"
   ]
  },
  {
   "cell_type": "code",
   "execution_count": null,
   "metadata": {
    "ExecuteTime": {
     "end_time": "2021-05-08T01:46:48.745822Z",
     "start_time": "2021-05-08T01:43:07.961Z"
    }
   },
   "outputs": [],
   "source": [
    "delaware = Community.from_lodes(state_fips=\"10\", years=[2014, 2015])"
   ]
  },
  {
   "cell_type": "code",
   "execution_count": null,
   "metadata": {
    "ExecuteTime": {
     "end_time": "2021-05-08T01:46:48.747064Z",
     "start_time": "2021-05-08T01:43:07.966Z"
    }
   },
   "outputs": [],
   "source": [
    "delaware.gdf.head()"
   ]
  },
  {
   "cell_type": "code",
   "execution_count": null,
   "metadata": {
    "ExecuteTime": {
     "end_time": "2021-05-08T01:46:48.748262Z",
     "start_time": "2021-05-08T01:43:07.969Z"
    }
   },
   "outputs": [],
   "source": [
    "delaware.gdf[delaware.gdf.year == 2015].plot(\n",
    "    column=\"total_employees\", scheme=\"quantiles\", k=9\n",
    ")"
   ]
  },
  {
   "cell_type": "markdown",
   "metadata": {},
   "source": [
    "## Create a `Community` from a longitudinal database"
   ]
  },
  {
   "cell_type": "markdown",
   "metadata": {},
   "source": [
    "To instantiate a `Community` from a longitudinal database, you must first register the database with geosnap using either `store_ltdb` or `store_ncdb`. Once the data are available in datasets, you can call `Community.from_ltdb` and `Community.from_ncdb`"
   ]
  },
  {
   "cell_type": "markdown",
   "metadata": {},
   "source": [
    "### LTDB using fips codes"
   ]
  },
  {
   "cell_type": "markdown",
   "metadata": {},
   "source": [
    "I don't know the Riverside MSA fips code by heart, so I'll slice through the `msas` dataframe in the data store to find it"
   ]
  },
  {
   "cell_type": "code",
   "execution_count": 5,
   "metadata": {
    "ExecuteTime": {
     "end_time": "2021-05-08T01:49:10.710521Z",
     "start_time": "2021-05-08T01:49:10.708562Z"
    }
   },
   "outputs": [],
   "source": [
    "from geosnap import datasets"
   ]
  },
  {
   "cell_type": "code",
   "execution_count": 6,
   "metadata": {
    "ExecuteTime": {
     "end_time": "2021-05-08T01:49:48.657130Z",
     "start_time": "2021-05-08T01:49:11.729979Z"
    }
   },
   "outputs": [
    {
     "data": {
      "text/html": [
       "<div>\n",
       "<style scoped>\n",
       "    .dataframe tbody tr th:only-of-type {\n",
       "        vertical-align: middle;\n",
       "    }\n",
       "\n",
       "    .dataframe tbody tr th {\n",
       "        vertical-align: top;\n",
       "    }\n",
       "\n",
       "    .dataframe thead th {\n",
       "        text-align: right;\n",
       "    }\n",
       "</style>\n",
       "<table border=\"1\" class=\"dataframe\">\n",
       "  <thead>\n",
       "    <tr style=\"text-align: right;\">\n",
       "      <th></th>\n",
       "      <th>geoid</th>\n",
       "      <th>name</th>\n",
       "      <th>type</th>\n",
       "      <th>geometry</th>\n",
       "    </tr>\n",
       "  </thead>\n",
       "  <tbody>\n",
       "    <tr>\n",
       "      <th>728</th>\n",
       "      <td>40140</td>\n",
       "      <td>Riverside-San Bernardino-Ontario, CA</td>\n",
       "      <td>Metro Area</td>\n",
       "      <td>POLYGON ((-117.67302 33.87104, -117.67481 33.8...</td>\n",
       "    </tr>\n",
       "  </tbody>\n",
       "</table>\n",
       "</div>"
      ],
      "text/plain": [
       "     geoid                                  name        type  \\\n",
       "728  40140  Riverside-San Bernardino-Ontario, CA  Metro Area   \n",
       "\n",
       "                                              geometry  \n",
       "728  POLYGON ((-117.67302 33.87104, -117.67481 33.8...  "
      ]
     },
     "execution_count": 6,
     "metadata": {},
     "output_type": "execute_result"
    }
   ],
   "source": [
    "datasets.msas()[datasets.msas().name.str.startswith(\"Riverside\")]"
   ]
  },
  {
   "cell_type": "code",
   "execution_count": 7,
   "metadata": {
    "ExecuteTime": {
     "end_time": "2021-05-08T01:49:48.674546Z",
     "start_time": "2021-05-08T01:49:48.659433Z"
    }
   },
   "outputs": [
    {
     "ename": "FileNotFoundError",
     "evalue": "[Errno 2] No such file or directory: '/Users/the-gaboardi/Library/Application Support/geosnap/ltdb.parquet'",
     "output_type": "error",
     "traceback": [
      "\u001b[0;31m---------------------------------------------------------------------------\u001b[0m",
      "\u001b[0;31mFileNotFoundError\u001b[0m                         Traceback (most recent call last)",
      "\u001b[0;32m<ipython-input-7-71c3a92354ad>\u001b[0m in \u001b[0;36m<module>\u001b[0;34m\u001b[0m\n\u001b[0;32m----> 1\u001b[0;31m \u001b[0mriverside\u001b[0m \u001b[0;34m=\u001b[0m \u001b[0mCommunity\u001b[0m\u001b[0;34m.\u001b[0m\u001b[0mfrom_ltdb\u001b[0m\u001b[0;34m(\u001b[0m\u001b[0mmsa_fips\u001b[0m\u001b[0;34m=\u001b[0m\u001b[0;34m\"40140\"\u001b[0m\u001b[0;34m)\u001b[0m\u001b[0;34m\u001b[0m\u001b[0;34m\u001b[0m\u001b[0m\n\u001b[0m",
      "\u001b[0;32m~/geosnap/geosnap/_community.py\u001b[0m in \u001b[0;36mfrom_ltdb\u001b[0;34m(cls, state_fips, county_fips, msa_fips, fips, boundary, years)\u001b[0m\n\u001b[1;32m   1518\u001b[0m         \u001b[0;32melse\u001b[0m\u001b[0;34m:\u001b[0m\u001b[0;34m\u001b[0m\u001b[0;34m\u001b[0m\u001b[0m\n\u001b[1;32m   1519\u001b[0m             gdf = _from_db(\n\u001b[0;32m-> 1520\u001b[0;31m                 \u001b[0mdata\u001b[0m\u001b[0;34m=\u001b[0m\u001b[0mdatasets\u001b[0m\u001b[0;34m.\u001b[0m\u001b[0mltdb\u001b[0m\u001b[0;34m(\u001b[0m\u001b[0;34m)\u001b[0m\u001b[0;34m,\u001b[0m\u001b[0;34m\u001b[0m\u001b[0;34m\u001b[0m\u001b[0m\n\u001b[0m\u001b[1;32m   1521\u001b[0m                 \u001b[0mstate_fips\u001b[0m\u001b[0;34m=\u001b[0m\u001b[0mstate_fips\u001b[0m\u001b[0;34m,\u001b[0m\u001b[0;34m\u001b[0m\u001b[0;34m\u001b[0m\u001b[0m\n\u001b[1;32m   1522\u001b[0m                 \u001b[0mcounty_fips\u001b[0m\u001b[0;34m=\u001b[0m\u001b[0mcounty_fips\u001b[0m\u001b[0;34m,\u001b[0m\u001b[0;34m\u001b[0m\u001b[0;34m\u001b[0m\u001b[0m\n",
      "\u001b[0;32m~/geosnap/geosnap/_data.py\u001b[0m in \u001b[0;36mltdb\u001b[0;34m(self)\u001b[0m\n\u001b[1;32m    384\u001b[0m         \"\"\"\n\u001b[1;32m    385\u001b[0m         \u001b[0;32mtry\u001b[0m\u001b[0;34m:\u001b[0m\u001b[0;34m\u001b[0m\u001b[0;34m\u001b[0m\u001b[0m\n\u001b[0;32m--> 386\u001b[0;31m             \u001b[0;32mreturn\u001b[0m \u001b[0mpd\u001b[0m\u001b[0;34m.\u001b[0m\u001b[0mread_parquet\u001b[0m\u001b[0;34m(\u001b[0m\u001b[0mpathlib\u001b[0m\u001b[0;34m.\u001b[0m\u001b[0mPath\u001b[0m\u001b[0;34m(\u001b[0m\u001b[0mdata_dir\u001b[0m\u001b[0;34m,\u001b[0m \u001b[0;34m\"ltdb.parquet\"\u001b[0m\u001b[0;34m)\u001b[0m\u001b[0;34m)\u001b[0m\u001b[0;34m\u001b[0m\u001b[0;34m\u001b[0m\u001b[0m\n\u001b[0m\u001b[1;32m    387\u001b[0m         \u001b[0;32mexcept\u001b[0m \u001b[0mKeyError\u001b[0m\u001b[0;34m:\u001b[0m\u001b[0;34m\u001b[0m\u001b[0;34m\u001b[0m\u001b[0m\n\u001b[1;32m    388\u001b[0m             print(\n",
      "\u001b[0;32m~/miniconda3/envs/geosnap/lib/python3.8/site-packages/pandas/io/parquet.py\u001b[0m in \u001b[0;36mread_parquet\u001b[0;34m(path, engine, columns, use_nullable_dtypes, **kwargs)\u001b[0m\n\u001b[1;32m    457\u001b[0m     \"\"\"\n\u001b[1;32m    458\u001b[0m     \u001b[0mimpl\u001b[0m \u001b[0;34m=\u001b[0m \u001b[0mget_engine\u001b[0m\u001b[0;34m(\u001b[0m\u001b[0mengine\u001b[0m\u001b[0;34m)\u001b[0m\u001b[0;34m\u001b[0m\u001b[0;34m\u001b[0m\u001b[0m\n\u001b[0;32m--> 459\u001b[0;31m     return impl.read(\n\u001b[0m\u001b[1;32m    460\u001b[0m         \u001b[0mpath\u001b[0m\u001b[0;34m,\u001b[0m \u001b[0mcolumns\u001b[0m\u001b[0;34m=\u001b[0m\u001b[0mcolumns\u001b[0m\u001b[0;34m,\u001b[0m \u001b[0muse_nullable_dtypes\u001b[0m\u001b[0;34m=\u001b[0m\u001b[0muse_nullable_dtypes\u001b[0m\u001b[0;34m,\u001b[0m \u001b[0;34m**\u001b[0m\u001b[0mkwargs\u001b[0m\u001b[0;34m\u001b[0m\u001b[0;34m\u001b[0m\u001b[0m\n\u001b[1;32m    461\u001b[0m     )\n",
      "\u001b[0;32m~/miniconda3/envs/geosnap/lib/python3.8/site-packages/pandas/io/parquet.py\u001b[0m in \u001b[0;36mread\u001b[0;34m(self, path, columns, use_nullable_dtypes, storage_options, **kwargs)\u001b[0m\n\u001b[1;32m    212\u001b[0m                 )\n\u001b[1;32m    213\u001b[0m \u001b[0;34m\u001b[0m\u001b[0m\n\u001b[0;32m--> 214\u001b[0;31m         path_or_handle, handles, kwargs[\"filesystem\"] = _get_path_or_handle(\n\u001b[0m\u001b[1;32m    215\u001b[0m             \u001b[0mpath\u001b[0m\u001b[0;34m,\u001b[0m\u001b[0;34m\u001b[0m\u001b[0;34m\u001b[0m\u001b[0m\n\u001b[1;32m    216\u001b[0m             \u001b[0mkwargs\u001b[0m\u001b[0;34m.\u001b[0m\u001b[0mpop\u001b[0m\u001b[0;34m(\u001b[0m\u001b[0;34m\"filesystem\"\u001b[0m\u001b[0;34m,\u001b[0m \u001b[0;32mNone\u001b[0m\u001b[0;34m)\u001b[0m\u001b[0;34m,\u001b[0m\u001b[0;34m\u001b[0m\u001b[0;34m\u001b[0m\u001b[0m\n",
      "\u001b[0;32m~/miniconda3/envs/geosnap/lib/python3.8/site-packages/pandas/io/parquet.py\u001b[0m in \u001b[0;36m_get_path_or_handle\u001b[0;34m(path, fs, storage_options, mode, is_dir)\u001b[0m\n\u001b[1;32m     80\u001b[0m         \u001b[0;31m# fsspec resources can also point to directories\u001b[0m\u001b[0;34m\u001b[0m\u001b[0;34m\u001b[0m\u001b[0;34m\u001b[0m\u001b[0m\n\u001b[1;32m     81\u001b[0m         \u001b[0;31m# this branch is used for example when reading from non-fsspec URLs\u001b[0m\u001b[0;34m\u001b[0m\u001b[0;34m\u001b[0m\u001b[0;34m\u001b[0m\u001b[0m\n\u001b[0;32m---> 82\u001b[0;31m         \u001b[0mhandles\u001b[0m \u001b[0;34m=\u001b[0m \u001b[0mget_handle\u001b[0m\u001b[0;34m(\u001b[0m\u001b[0mpath_or_handle\u001b[0m\u001b[0;34m,\u001b[0m \u001b[0mmode\u001b[0m\u001b[0;34m,\u001b[0m \u001b[0mis_text\u001b[0m\u001b[0;34m=\u001b[0m\u001b[0;32mFalse\u001b[0m\u001b[0;34m)\u001b[0m\u001b[0;34m\u001b[0m\u001b[0;34m\u001b[0m\u001b[0m\n\u001b[0m\u001b[1;32m     83\u001b[0m         \u001b[0mfs\u001b[0m \u001b[0;34m=\u001b[0m \u001b[0;32mNone\u001b[0m\u001b[0;34m\u001b[0m\u001b[0;34m\u001b[0m\u001b[0m\n\u001b[1;32m     84\u001b[0m         \u001b[0mpath_or_handle\u001b[0m \u001b[0;34m=\u001b[0m \u001b[0mhandles\u001b[0m\u001b[0;34m.\u001b[0m\u001b[0mhandle\u001b[0m\u001b[0;34m\u001b[0m\u001b[0;34m\u001b[0m\u001b[0m\n",
      "\u001b[0;32m~/miniconda3/envs/geosnap/lib/python3.8/site-packages/pandas/io/common.py\u001b[0m in \u001b[0;36mget_handle\u001b[0;34m(path_or_buf, mode, encoding, compression, memory_map, is_text, errors, storage_options)\u001b[0m\n\u001b[1;32m    649\u001b[0m         \u001b[0;32melse\u001b[0m\u001b[0;34m:\u001b[0m\u001b[0;34m\u001b[0m\u001b[0;34m\u001b[0m\u001b[0m\n\u001b[1;32m    650\u001b[0m             \u001b[0;31m# Binary mode\u001b[0m\u001b[0;34m\u001b[0m\u001b[0;34m\u001b[0m\u001b[0;34m\u001b[0m\u001b[0m\n\u001b[0;32m--> 651\u001b[0;31m             \u001b[0mhandle\u001b[0m \u001b[0;34m=\u001b[0m \u001b[0mopen\u001b[0m\u001b[0;34m(\u001b[0m\u001b[0mhandle\u001b[0m\u001b[0;34m,\u001b[0m \u001b[0mioargs\u001b[0m\u001b[0;34m.\u001b[0m\u001b[0mmode\u001b[0m\u001b[0;34m)\u001b[0m\u001b[0;34m\u001b[0m\u001b[0;34m\u001b[0m\u001b[0m\n\u001b[0m\u001b[1;32m    652\u001b[0m         \u001b[0mhandles\u001b[0m\u001b[0;34m.\u001b[0m\u001b[0mappend\u001b[0m\u001b[0;34m(\u001b[0m\u001b[0mhandle\u001b[0m\u001b[0;34m)\u001b[0m\u001b[0;34m\u001b[0m\u001b[0;34m\u001b[0m\u001b[0m\n\u001b[1;32m    653\u001b[0m \u001b[0;34m\u001b[0m\u001b[0m\n",
      "\u001b[0;31mFileNotFoundError\u001b[0m: [Errno 2] No such file or directory: '/Users/the-gaboardi/Library/Application Support/geosnap/ltdb.parquet'"
     ]
    }
   ],
   "source": [
    "riverside = Community.from_ltdb(msa_fips=\"40140\")"
   ]
  },
  {
   "cell_type": "code",
   "execution_count": null,
   "metadata": {
    "ExecuteTime": {
     "end_time": "2021-05-08T01:49:48.676637Z",
     "start_time": "2021-05-08T01:49:37.647Z"
    }
   },
   "outputs": [],
   "source": [
    "riverside.plot_timeseries(\"p_poverty_rate\", scheme=\"quantiles\", cmap=\"Blues\", k=6)"
   ]
  },
  {
   "cell_type": "markdown",
   "metadata": {},
   "source": [
    "Instead of passing a fips code, I could use the `boundary` argument to pass the riverside MSA as a geodataframe. This is more computationally expensive because it requires geometric operations, but is more flexible because it allows you to create communities that don't nest into fips hierarchies (like zip codes, census designated places, or non-US data)"
   ]
  },
  {
   "cell_type": "markdown",
   "metadata": {},
   "source": [
    "### NCDB Using a boundary"
   ]
  },
  {
   "cell_type": "code",
   "execution_count": null,
   "metadata": {
    "ExecuteTime": {
     "end_time": "2021-05-08T01:46:48.754060Z",
     "start_time": "2021-05-08T01:43:07.999Z"
    }
   },
   "outputs": [],
   "source": [
    "# grab the boundary for Sacramento from libpysal's built-in examples\n",
    "\n",
    "import geopandas as gpd\n",
    "from libpysal.examples import load_example\n",
    "\n",
    "sac = load_example(\"Sacramento1\")\n",
    "sac = gpd.read_file(sac.get_path(\"sacramentot2.shp\"))"
   ]
  },
  {
   "cell_type": "code",
   "execution_count": null,
   "metadata": {
    "ExecuteTime": {
     "end_time": "2021-05-08T01:46:48.755181Z",
     "start_time": "2021-05-08T01:43:08.001Z"
    }
   },
   "outputs": [],
   "source": [
    "sacramento = Community.from_ncdb(boundary=sac)"
   ]
  },
  {
   "cell_type": "code",
   "execution_count": null,
   "metadata": {
    "ExecuteTime": {
     "end_time": "2021-05-08T01:46:48.756353Z",
     "start_time": "2021-05-08T01:43:08.003Z"
    }
   },
   "outputs": [],
   "source": [
    "import contextily as ctx"
   ]
  },
  {
   "cell_type": "code",
   "execution_count": null,
   "metadata": {
    "ExecuteTime": {
     "end_time": "2021-05-08T01:46:48.757682Z",
     "start_time": "2021-05-08T01:43:08.005Z"
    }
   },
   "outputs": [],
   "source": [
    "sacramento.plot_timeseries(\n",
    "    \"median_household_income\",\n",
    "    scheme=\"quantiles\",\n",
    "    cmap=\"Blues\",\n",
    "    k=6,\n",
    "    alpha=0.6,\n",
    "    ctxmap=ctx.providers.Stamen.TonerLite,\n",
    "    years=[1990, 2000, 2010],\n",
    ")"
   ]
  },
  {
   "cell_type": "markdown",
   "metadata": {},
   "source": [
    "## Create a `Community` from a list of geodataframes"
   ]
  },
  {
   "cell_type": "markdown",
   "metadata": {},
   "source": [
    "If you are working outside the US, or if you have data that aren't included in geosnap (like census blocks or zip codes) then you can still create a community using the `Community.from_geodataframes` constructor, which allows you to pass a list of geodataframes that will be concatenated into the single long-form gdf structure that geosnap's analytics expect.\n",
    "\n",
    "This constructor is typically used in cases where a researcher has several shapefiles for a study area, each of which pertainin to a different time period. In such a case, the user would read each shapefile into a geodataframe and ensure that each has a \"time\" column that will differentiate each time period from one another in the long-form structure (e.g. if each shapefile is a different decade, then the 1990 shapefile should have a column called \"year\" in which every observation has a value of 1990). Then, these geodataframes simply need to be passed in a list to the `from_geodataframes` constructor"
   ]
  },
  {
   "cell_type": "markdown",
   "metadata": {},
   "source": [
    "Here, I'll use `cenpy` to grap population data from two different ACS vintages and combine them into a single community"
   ]
  },
  {
   "cell_type": "code",
   "execution_count": null,
   "metadata": {
    "ExecuteTime": {
     "end_time": "2021-05-08T01:46:48.759128Z",
     "start_time": "2021-05-08T01:43:08.015Z"
    }
   },
   "outputs": [],
   "source": [
    "from cenpy.products import ACS"
   ]
  },
  {
   "cell_type": "code",
   "execution_count": null,
   "metadata": {
    "ExecuteTime": {
     "end_time": "2021-05-08T01:46:48.760332Z",
     "start_time": "2021-05-08T01:43:08.016Z"
    }
   },
   "outputs": [],
   "source": [
    "chi13 = ACS(2013).from_place(\"chicago\", variables=\"B00001_001E\")"
   ]
  },
  {
   "cell_type": "code",
   "execution_count": null,
   "metadata": {
    "ExecuteTime": {
     "end_time": "2021-05-08T01:46:48.761661Z",
     "start_time": "2021-05-08T01:43:08.018Z"
    }
   },
   "outputs": [],
   "source": [
    "chi13[\"year\"] = 2013"
   ]
  },
  {
   "cell_type": "code",
   "execution_count": null,
   "metadata": {
    "ExecuteTime": {
     "end_time": "2021-05-08T01:46:48.762851Z",
     "start_time": "2021-05-08T01:43:08.021Z"
    }
   },
   "outputs": [],
   "source": [
    "chi17 = ACS(2017).from_place(\"chicago\", variables=\"B00001_001E\")"
   ]
  },
  {
   "cell_type": "code",
   "execution_count": null,
   "metadata": {
    "ExecuteTime": {
     "end_time": "2021-05-08T01:46:48.764075Z",
     "start_time": "2021-05-08T01:43:08.022Z"
    }
   },
   "outputs": [],
   "source": [
    "chi17[\"year\"] = 2017"
   ]
  },
  {
   "cell_type": "code",
   "execution_count": null,
   "metadata": {
    "ExecuteTime": {
     "end_time": "2021-05-08T01:46:48.765579Z",
     "start_time": "2021-05-08T01:43:08.025Z"
    }
   },
   "outputs": [],
   "source": [
    "chicago = Community.from_geodataframes([chi13, chi17])"
   ]
  },
  {
   "cell_type": "code",
   "execution_count": null,
   "metadata": {
    "ExecuteTime": {
     "end_time": "2021-05-08T01:46:48.767022Z",
     "start_time": "2021-05-08T01:43:08.027Z"
    }
   },
   "outputs": [],
   "source": [
    "chicago.plot_timeseries(\n",
    "    \"B00001_001E\",\n",
    "    cmap=\"Greens\",\n",
    "    scheme=\"quantiles\",\n",
    "    k=6,\n",
    "    ctxmap=ctx.providers.Stamen.TonerLite,\n",
    "    alpha=0.5,\n",
    "    title='Chicago Population by Census Tract',\n",
    ")"
   ]
  },
  {
   "cell_type": "code",
   "execution_count": null,
   "metadata": {},
   "outputs": [],
   "source": []
  }
 ],
 "metadata": {
  "kernelspec": {
   "display_name": "Python [conda env:geosnap]",
   "language": "python",
   "name": "conda-env-geosnap-py"
  },
  "language_info": {
   "codemirror_mode": {
    "name": "ipython",
    "version": 3
   },
   "file_extension": ".py",
   "mimetype": "text/x-python",
   "name": "python",
   "nbconvert_exporter": "python",
   "pygments_lexer": "ipython3",
   "version": "3.8.8"
  },
  "toc-autonumbering": false,
  "toc-showcode": false,
  "toc-showmarkdowntxt": true
 },
 "nbformat": 4,
 "nbformat_minor": 4
}
