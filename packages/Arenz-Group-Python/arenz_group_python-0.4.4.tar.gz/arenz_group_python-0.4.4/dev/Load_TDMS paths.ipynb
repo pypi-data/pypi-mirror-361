{
 "cells": [
  {
   "cell_type": "code",
   "execution_count": 1,
   "metadata": {},
   "outputs": [],
   "source": [
    "from pathlib import Path\n",
    "import math\n",
    "import pathlib\n",
    "import os\n",
    "# importing sys\n",
    "import sys\n",
    "nb_path = Path.cwd()"
   ]
  },
  {
   "cell_type": "code",
   "execution_count": 2,
   "metadata": {},
   "outputs": [
    {
     "name": "stdout",
     "output_type": "stream",
     "text": [
      "c:\\Users\\gusta\\Documents\\GitHub\\Arenz_Group_Python\n",
      "c:\\Users\\gusta\\Documents\\GitHub\\Arenz_Group_Python\\src\n",
      "path existits: True\n"
     ]
    }
   ],
   "source": [
    "pack_path = Path()\n",
    "for x in nb_path.parents:\n",
    "    a= x / 'src'\n",
    "    #print(a.is_dir(),\"\\t\\t\",str(a) )\n",
    "    if a.is_dir():\n",
    "        pack_path = a\n",
    "        break\n",
    "    \n",
    "\n",
    "#pack_path = nb_path.parent.parent.parent.parent / \"src\" #/\"arenz_group_python\"\n",
    "print(nb_path.parent)\n",
    "print(pack_path)\n",
    "print(f\"path existits: {pack_path.exists()}\")"
   ]
  },
  {
   "cell_type": "code",
   "execution_count": 3,
   "metadata": {},
   "outputs": [
    {
     "name": "stdout",
     "output_type": "stream",
     "text": [
      "loading arenz_group_python\n",
      "['c:\\\\Users\\\\gustav.wiberg\\\\Documents\\\\GitHub\\\\Python\\\\Arenz_Group_Python\\\\src\\\\arenz_group_python']\n",
      "['c:\\\\Users\\\\gustav.wiberg\\\\Documents\\\\GitHub\\\\Python\\\\Arenz_Group_Python\\\\src\\\\arenz_group_python']\n"
     ]
    }
   ],
   "source": [
    "#add\n",
    "sys.path.insert(0,str(pack_path))\n",
    "import arenz_group_python\n",
    "print(arenz_group_python.__path__)"
   ]
  },
  {
   "cell_type": "code",
   "execution_count": 4,
   "metadata": {},
   "outputs": [
    {
     "name": "stdout",
     "output_type": "stream",
     "text": [
      "['c:\\\\Users\\\\gustav.wiberg\\\\Documents\\\\GitHub\\\\Python\\\\Arenz_Group_Python\\\\src\\\\arenz_group_python\\\\data_treatment']\n"
     ]
    }
   ],
   "source": [
    "import arenz_group_python.data_treatment\n",
    "print(arenz_group_python.data_treatment.__path__)"
   ]
  },
  {
   "cell_type": "code",
   "execution_count": 5,
   "metadata": {},
   "outputs": [],
   "source": [
    "from arenz_group_python.data_treatment.ec_data import EC_Data\n",
    "from arenz_group_python import *\n",
    "from arenz_group_python import EC_Data\n",
    "from arenz_group_python import CV_Data\n",
    "from arenz_group_python import save_key_values\n",
    "from arenz_group_python import Project_Paths\n",
    "#from arenz_group_python.data_treatment.util_paths import path_util\n",
    "\n"
   ]
  },
  {
   "cell_type": "code",
   "execution_count": 6,
   "metadata": {},
   "outputs": [
    {
     "name": "stdout",
     "output_type": "stream",
     "text": [
      "c:\\Users\\gustav.wiberg\\Documents\\GitHub\\Python\\Arenz_Group_Python\\src\n"
     ]
    }
   ],
   "source": [
    "str_path = str(pack_path)\n",
    "#sys.path.append(\"C:/Users/gustav.wiberg/Documents/GitHub/Python/Arenz_Group_Python/src/ArenzGroupPython\")\n",
    "print(str_path)\n",
    "sys.path.append(str_path)\n",
    "#import ec_data\n",
    "#ec_data.reload()\n",
    " "
   ]
  },
  {
   "cell_type": "code",
   "execution_count": 7,
   "metadata": {},
   "outputs": [
    {
     "name": "stdout",
     "output_type": "stream",
     "text": [
      "False \t\t c:\\Users\\gustav.wiberg\\Documents\\GitHub\\Python\\Arenz_Group_Python\\rawdata\n",
      "False \t\t c:\\Users\\gustav.wiberg\\Documents\\GitHub\\Python\\rawdata\n",
      "False \t\t c:\\Users\\gustav.wiberg\\Documents\\GitHub\\rawdata\n",
      "False \t\t c:\\Users\\gustav.wiberg\\Documents\\rawdata\n",
      "False \t\t c:\\Users\\gustav.wiberg\\rawdata\n",
      "False \t\t c:\\Users\\rawdata\n",
      "False \t\t c:\\rawdata\n",
      "c:\\Users\\gustav.wiberg\\Documents\\GitHub\\Python\\Arenz_Group_Python\\tests\\classTest.ipynb\n",
      "c:\\Users\\gustav.wiberg\\Documents\\GitHub\\Python\\Arenz_Group_Python\\tests\\data\n",
      "c:\\Users\\gustav.wiberg\\Documents\\GitHub\\Python\\Arenz_Group_Python\\tests\\data.csv\n",
      "c:\\Users\\gustav.wiberg\\Documents\\GitHub\\Python\\Arenz_Group_Python\\tests\\Load_TDMS ec data.ipynb\n",
      "c:\\Users\\gustav.wiberg\\Documents\\GitHub\\Python\\Arenz_Group_Python\\tests\\Load_TDMS Levich.ipynb\n",
      "c:\\Users\\gustav.wiberg\\Documents\\GitHub\\Python\\Arenz_Group_Python\\tests\\Load_TDMS paths.ipynb\n",
      "c:\\Users\\gustav.wiberg\\Documents\\GitHub\\Python\\Arenz_Group_Python\\tests\\Load_TDMS Tafel.ipynb\n",
      "c:\\Users\\gustav.wiberg\\Documents\\GitHub\\Python\\Arenz_Group_Python\\tests\\Load_TDMS.ipynb\n",
      "c:\\Users\\gustav.wiberg\\Documents\\GitHub\\Python\\Arenz_Group_Python\\tests\\Load_TDMS_makePlots.ipynb\n",
      "c:\\Users\\gustav.wiberg\\Documents\\GitHub\\Python\\Arenz_Group_Python\\tests\\Load_TDMS_raw.ipynb\n",
      "c:\\Users\\gustav.wiberg\\Documents\\GitHub\\Python\\Arenz_Group_Python\\tests\\Load_TDMS_save_reduced_size_csv.ipynb\n",
      "c:\\Users\\gustav.wiberg\\Documents\\GitHub\\Python\\Arenz_Group_Python\\tests\\Packages\n"
     ]
    }
   ],
   "source": [
    "p = Path.cwd()\n",
    "paths = p.parents\n",
    "\n",
    "\n",
    "#print(p)\n",
    "\n",
    "for x in paths:\n",
    "    a= x / 'rawdata'\n",
    "    print(a.is_dir(),\"\\t\\t\",str(a) )\n",
    "    if a.is_dir():\n",
    "        break\n",
    "    \n",
    "\n",
    "#p = Path(__file__)\n",
    "#print(p)\n",
    "for child in p.iterdir(): \n",
    "    print(child)"
   ]
  },
  {
   "cell_type": "code",
   "execution_count": 8,
   "metadata": {},
   "outputs": [
    {
     "name": "stdout",
     "output_type": "stream",
     "text": [
      "\"rawdata\" could not be found as a branch of the folder tree form the notebook.\n",
      "Please use standard project structure.\n",
      ".\n",
      "\"data\" could not be found as a branch of the folder tree form the notebook.\n",
      "Please use standard project structure.\n"
     ]
    },
    {
     "ename": "UnboundLocalError",
     "evalue": "cannot access local variable 'k' where it is not associated with a value",
     "output_type": "error",
     "traceback": [
      "\u001b[1;31m---------------------------------------------------------------------------\u001b[0m",
      "\u001b[1;31mUnboundLocalError\u001b[0m                         Traceback (most recent call last)",
      "Cell \u001b[1;32mIn[8], line 8\u001b[0m\n\u001b[0;32m      3\u001b[0m \u001b[38;5;28mprint\u001b[39m(Project_Paths()\u001b[38;5;241m.\u001b[39mrawdata_path)\n\u001b[0;32m      4\u001b[0m \u001b[38;5;66;03m#print(util.callers())\u001b[39;00m\n\u001b[0;32m      5\u001b[0m \u001b[38;5;66;03m#print(util.data_path)\u001b[39;00m\n\u001b[0;32m      6\u001b[0m \n\u001b[0;32m      7\u001b[0m \u001b[38;5;66;03m#print(util._rawdata_path(\"c:\\\\\"))\u001b[39;00m\n\u001b[1;32m----> 8\u001b[0m \u001b[38;5;28mprint\u001b[39m(\u001b[43mutil\u001b[49m\u001b[38;5;241;43m.\u001b[39;49m\u001b[43mdata_path\u001b[49m)\n\u001b[0;32m      9\u001b[0m \u001b[38;5;28mprint\u001b[39m(util\u001b[38;5;241m.\u001b[39mrawdata_path)\n\u001b[0;32m     10\u001b[0m \u001b[38;5;66;03m#print(util._find_dir(nb_path, \"rawadata\"))\u001b[39;00m\n\u001b[0;32m     11\u001b[0m \n\u001b[0;32m     12\u001b[0m \u001b[38;5;66;03m#print(util.cwd)\u001b[39;00m\n",
      "File \u001b[1;32mc:\\Users\\gustav.wiberg\\Documents\\GitHub\\Python\\Arenz_Group_Python\\src\\arenz_group_python\\data_treatment\\util_paths.py:84\u001b[0m, in \u001b[0;36mProject_Paths.data_path\u001b[1;34m(self)\u001b[0m\n\u001b[0;32m     82\u001b[0m \u001b[38;5;129m@property\u001b[39m \n\u001b[0;32m     83\u001b[0m \u001b[38;5;28;01mdef\u001b[39;00m \u001b[38;5;21mdata_path\u001b[39m(\u001b[38;5;28mself\u001b[39m):\n\u001b[1;32m---> 84\u001b[0m     \u001b[38;5;28;01mreturn\u001b[39;00m \u001b[38;5;28;43mself\u001b[39;49m\u001b[38;5;241;43m.\u001b[39;49m\u001b[43m_treated_data_path\u001b[49m\u001b[43m(\u001b[49m\u001b[43m)\u001b[49m\n",
      "File \u001b[1;32mc:\\Users\\gustav.wiberg\\Documents\\GitHub\\Python\\Arenz_Group_Python\\src\\arenz_group_python\\data_treatment\\util_paths.py:62\u001b[0m, in \u001b[0;36mProject_Paths._treated_data_path\u001b[1;34m(self, path_to_caller)\u001b[0m\n\u001b[0;32m     59\u001b[0m \u001b[38;5;28;01mexcept\u001b[39;00m \u001b[38;5;167;01mNotADirectoryError\u001b[39;00m \u001b[38;5;28;01mas\u001b[39;00m err:\n\u001b[0;32m     60\u001b[0m     \u001b[38;5;28mprint\u001b[39m(err)\n\u001b[1;32m---> 62\u001b[0m \u001b[38;5;28;01mreturn\u001b[39;00m \u001b[43mk\u001b[49m\n",
      "\u001b[1;31mUnboundLocalError\u001b[0m: cannot access local variable 'k' where it is not associated with a value"
     ]
    }
   ],
   "source": [
    "util =Project_Paths()\n",
    "\n",
    "print(Project_Paths().rawdata_path)\n",
    "#print(util.callers())\n",
    "#print(util.data_path)\n",
    "\n",
    "#print(util._rawdata_path(\"c:\\\\\"))\n",
    "print(util.data_path)\n",
    "print(util.rawdata_path)\n",
    "#print(util._find_dir(nb_path, \"rawadata\"))\n",
    "\n",
    "#print(util.cwd)"
   ]
  }
 ],
 "metadata": {
  "kernelspec": {
   "display_name": "Python 3",
   "language": "python",
   "name": "python3"
  },
  "language_info": {
   "codemirror_mode": {
    "name": "ipython",
    "version": 3
   },
   "file_extension": ".py",
   "mimetype": "text/x-python",
   "name": "python",
   "nbconvert_exporter": "python",
   "pygments_lexer": "ipython3",
   "version": "3.12.1"
  }
 },
 "nbformat": 4,
 "nbformat_minor": 2
}
