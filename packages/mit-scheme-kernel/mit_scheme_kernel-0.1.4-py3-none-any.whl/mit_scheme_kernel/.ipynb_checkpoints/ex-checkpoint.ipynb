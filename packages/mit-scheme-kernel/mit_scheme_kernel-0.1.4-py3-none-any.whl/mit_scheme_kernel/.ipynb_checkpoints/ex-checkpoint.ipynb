{
    "cells": [
        {
            "cell_type": "code",
            "execution_count": null,
            "id": "ba5793c9",
            "metadata": {},
            "outputs": [],
            "source": [
                "(* 3 4)"
            ]
        },
        {
            "cell_type": "code",
            "execution_count": null,
            "id": "68224ec1",
            "metadata": {},
            "outputs": [],
            "source": []
        },
        {
            "cell_type": "code",
            "execution_count": null,
            "id": "2ee428ed",
            "metadata": {},
            "outputs": [],
            "source": []
        }
    ],
    "metadata": {
        "kernelspec": {
            "display_name": "MIT Scheme",
            "language": "scheme",
            "name": "mit-scheme-kernel"
        },
        "language_info": {
            "codemirror_mode": {
                "name": "scheme"
            },
            "mimetype": "text/x-scheme",
            "name": "scheme",
            "pygments_lexer": "scheme"
        }
    },
    "nbformat": 4,
    "nbformat_minor": 5
}