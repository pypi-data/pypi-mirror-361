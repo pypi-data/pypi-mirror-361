{
 "cells": [
  {
   "cell_type": "markdown",
   "metadata": {},
   "source": [
    "# Network Explorer\n",
    "\n",
    "NOTE: this network viewer requires installation of `requirements.viz.txt`"
   ]
  },
  {
   "cell_type": "code",
   "execution_count": 1,
   "metadata": {},
   "outputs": [],
   "source": [
    "from pathlib import Path\n",
    "from network_wrangler import load_transit, load_roadway_from_dir"
   ]
  },
  {
   "cell_type": "markdown",
   "metadata": {},
   "source": [
    "## Set Directories"
   ]
  },
  {
   "cell_type": "code",
   "execution_count": 2,
   "metadata": {},
   "outputs": [],
   "source": [
    "EXAMPLE_DIR = Path.cwd().parent / \"examples\"\n",
    "STPAUL = EXAMPLE_DIR / \"stpaul\"\n",
    "SMALL = EXAMPLE_DIR / \"small\""
   ]
  },
  {
   "cell_type": "markdown",
   "metadata": {},
   "source": [
    "## Read in Roadway and Transit Networks\n",
    "\n",
    "(or open them from a pkl file instead)"
   ]
  },
  {
   "cell_type": "code",
   "execution_count": null,
   "metadata": {},
   "outputs": [],
   "source": [
    "road_net = load_roadway_from_dir(STPAUL)"
   ]
  },
  {
   "cell_type": "code",
   "execution_count": null,
   "metadata": {},
   "outputs": [],
   "source": [
    "transit_net = load_transit(STPAUL)"
   ]
  },
  {
   "cell_type": "code",
   "execution_count": null,
   "metadata": {},
   "outputs": [],
   "source": [
    "N_SAMPLES = 200\n",
    "mymap = road_net.nodes_df.sample(N_SAMPLES).explore(\n",
    "    color=\"grey\", tiles=\"CartoDB positron\", name=\"sampled original points\"\n",
    ")\n",
    "road_net.link_shapes_df.explore(\n",
    "    m=mymap, color=\"grey\", marker_kwds={\"line_opacity\": 0.7}\n",
    ")\n",
    "mymap"
   ]
  },
  {
   "cell_type": "code",
   "execution_count": null,
   "metadata": {},
   "outputs": [],
   "source": [
    "transit_net.shape_links_gdf.explore(\n",
    "    m=mymap, color=\"lime green\", style_kwds={\"opacity\": 0.5, \"weight\": 10}\n",
    ")\n",
    "transit_net.stops_gdf.explore(\n",
    "    m=mymap, color=\"pale green\", marker_kwds={\"fill_opacity\": 0.5, \"line_opacity\": 0.7}\n",
    ")"
   ]
  }
 ],
 "metadata": {
  "kernelspec": {
   "display_name": "Python 3",
   "language": "python",
   "name": "python3"
  },
  "language_info": {
   "codemirror_mode": {
    "name": "ipython",
    "version": 3
   },
   "file_extension": ".py",
   "mimetype": "text/x-python",
   "name": "python",
   "nbconvert_exporter": "python",
   "pygments_lexer": "ipython3",
   "version": "3.10.15"
  }
 },
 "nbformat": 4,
 "nbformat_minor": 4
}
