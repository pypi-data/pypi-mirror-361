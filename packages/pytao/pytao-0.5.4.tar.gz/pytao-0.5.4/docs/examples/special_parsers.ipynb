{
 "cells": [
  {
   "cell_type": "markdown",
   "id": "073838e5-0a4e-4e40-8928-2bcd5eea29ab",
   "metadata": {},
   "source": [
    "# Special Parsers\n",
    "\n",
    "Some of the Tao python commands output special structures in a `;` delimited fashion. Some PyTao methods parse these into more useful structures. "
   ]
  },
  {
   "cell_type": "code",
   "execution_count": null,
   "id": "fefc9efd-b53a-4ef8-b64e-91a0401b6959",
   "metadata": {
    "execution": {
     "iopub.execute_input": "2024-08-08T19:06:36.849906Z",
     "iopub.status.busy": "2024-08-08T19:06:36.849466Z",
     "iopub.status.idle": "2024-08-08T19:06:37.282558Z",
     "shell.execute_reply": "2024-08-08T19:06:37.282192Z"
    }
   },
   "outputs": [],
   "source": [
    "from pytao import Tao"
   ]
  },
  {
   "cell_type": "code",
   "execution_count": null,
   "id": "b91bb8e2-d3dd-4b8d-b5b1-75c14b5d4fa9",
   "metadata": {
    "execution": {
     "iopub.execute_input": "2024-08-08T19:06:37.284215Z",
     "iopub.status.busy": "2024-08-08T19:06:37.284104Z",
     "iopub.status.idle": "2024-08-08T19:06:37.447527Z",
     "shell.execute_reply": "2024-08-08T19:06:37.447225Z"
    }
   },
   "outputs": [],
   "source": [
    "tao = Tao(\"-init $ACC_ROOT_DIR/regression_tests/pipe_test/cesr/tao.init -noplot\")"
   ]
  },
  {
   "cell_type": "markdown",
   "id": "33fefcfc-eb6e-4a98-9346-8ea62d8ec1a9",
   "metadata": {},
   "source": [
    "## data_d_array"
   ]
  },
  {
   "cell_type": "code",
   "execution_count": null,
   "id": "6f549bd6-a8d3-472d-8a17-74ffb4a7b3ea",
   "metadata": {
    "execution": {
     "iopub.execute_input": "2024-08-08T19:06:37.449254Z",
     "iopub.status.busy": "2024-08-08T19:06:37.449165Z",
     "iopub.status.idle": "2024-08-08T19:06:37.452789Z",
     "shell.execute_reply": "2024-08-08T19:06:37.452548Z"
    }
   },
   "outputs": [],
   "source": [
    "tao.data_d_array(\"orbit\", \"x\")[7]"
   ]
  },
  {
   "cell_type": "markdown",
   "id": "d5e84efc-3a4e-4b52-860b-40c595c439bf",
   "metadata": {},
   "source": [
    "## derivative"
   ]
  },
  {
   "cell_type": "code",
   "execution_count": null,
   "id": "ed6c0fe6-0836-47b1-b6e2-ace2433b247e",
   "metadata": {
    "execution": {
     "iopub.execute_input": "2024-08-08T19:06:37.454091Z",
     "iopub.status.busy": "2024-08-08T19:06:37.454013Z",
     "iopub.status.idle": "2024-08-08T19:06:37.465135Z",
     "shell.execute_reply": "2024-08-08T19:06:37.464857Z"
    }
   },
   "outputs": [],
   "source": [
    "tao.cmd(\"veto var *;veto dat *;\")\n",
    "tao.cmd(\"use var quad_k1[3:5]\")\n",
    "tao.cmd(\"set dat orbit.x[1:5]|meas=0\")\n",
    "tao.cmd(\"use dat orbit.x[1:5]\");"
   ]
  },
  {
   "cell_type": "code",
   "execution_count": null,
   "id": "d8b4ede2-8437-4050-a2c0-7fdf65046cd9",
   "metadata": {
    "execution": {
     "iopub.execute_input": "2024-08-08T19:06:37.466571Z",
     "iopub.status.busy": "2024-08-08T19:06:37.466481Z",
     "iopub.status.idle": "2024-08-08T19:06:37.486412Z",
     "shell.execute_reply": "2024-08-08T19:06:37.486152Z"
    }
   },
   "outputs": [],
   "source": [
    "result = tao.derivative()\n",
    "result"
   ]
  },
  {
   "cell_type": "markdown",
   "id": "20ac7c9e",
   "metadata": {},
   "source": [
    "n_datums x n_variables"
   ]
  },
  {
   "cell_type": "code",
   "execution_count": null,
   "id": "f8123cb7-7707-401d-ab12-d1167ec420a0",
   "metadata": {
    "execution": {
     "iopub.execute_input": "2024-08-08T19:06:37.487859Z",
     "iopub.status.busy": "2024-08-08T19:06:37.487770Z",
     "iopub.status.idle": "2024-08-08T19:06:37.489842Z",
     "shell.execute_reply": "2024-08-08T19:06:37.489607Z"
    }
   },
   "outputs": [],
   "source": [
    "result[1].shape"
   ]
  },
  {
   "cell_type": "markdown",
   "id": "3f89b5c5-9a81-4c46-96a9-7185d43da9b1",
   "metadata": {},
   "source": [
    "## ele_control_var"
   ]
  },
  {
   "cell_type": "code",
   "execution_count": null,
   "id": "b55cec3d-1b71-4b58-8b6b-b2f4d66137be",
   "metadata": {
    "execution": {
     "iopub.execute_input": "2024-08-08T19:06:37.491075Z",
     "iopub.status.busy": "2024-08-08T19:06:37.490998Z",
     "iopub.status.idle": "2024-08-08T19:06:37.492988Z",
     "shell.execute_reply": "2024-08-08T19:06:37.492745Z"
    }
   },
   "outputs": [],
   "source": [
    "tao.ele_control_var(\"H01W\")"
   ]
  },
  {
   "cell_type": "markdown",
   "id": "55568ea5-ac47-4168-a21f-9fe4432fb022",
   "metadata": {},
   "source": [
    "## lat_ele_list"
   ]
  },
  {
   "cell_type": "code",
   "execution_count": null,
   "id": "c7760026-de43-44d7-987b-22f3b7cdb13a",
   "metadata": {
    "execution": {
     "iopub.execute_input": "2024-08-08T19:06:37.494276Z",
     "iopub.status.busy": "2024-08-08T19:06:37.494199Z",
     "iopub.status.idle": "2024-08-08T19:06:37.497352Z",
     "shell.execute_reply": "2024-08-08T19:06:37.497119Z"
    }
   },
   "outputs": [],
   "source": [
    "result = tao.lat_ele_list()\n",
    "\n",
    "result[0:5]"
   ]
  },
  {
   "cell_type": "markdown",
   "id": "197d872a-0d75-4866-bd07-b0b2cc2c2e83",
   "metadata": {},
   "source": [
    "## matrix"
   ]
  },
  {
   "cell_type": "code",
   "execution_count": null,
   "id": "c71d455c-cb84-4fbc-9d91-c2cfcd046108",
   "metadata": {
    "execution": {
     "iopub.execute_input": "2024-08-08T19:06:37.498628Z",
     "iopub.status.busy": "2024-08-08T19:06:37.498544Z",
     "iopub.status.idle": "2024-08-08T19:06:37.500839Z",
     "shell.execute_reply": "2024-08-08T19:06:37.500620Z"
    }
   },
   "outputs": [],
   "source": [
    "tao.matrix(\"beginning\", \"end\")"
   ]
  },
  {
   "cell_type": "markdown",
   "id": "7dcdcd68-dbb3-47fe-84f8-443aceeffdc0",
   "metadata": {},
   "source": [
    "# merit"
   ]
  },
  {
   "cell_type": "code",
   "execution_count": null,
   "id": "140f2f74-7056-476e-ada1-39b47aaabd2d",
   "metadata": {
    "execution": {
     "iopub.execute_input": "2024-08-08T19:06:37.502177Z",
     "iopub.status.busy": "2024-08-08T19:06:37.502084Z",
     "iopub.status.idle": "2024-08-08T19:06:37.505644Z",
     "shell.execute_reply": "2024-08-08T19:06:37.505425Z"
    }
   },
   "outputs": [],
   "source": [
    "tao.merit()"
   ]
  },
  {
   "cell_type": "markdown",
   "id": "47ebe242-6d54-413b-bf9d-c58af86d818a",
   "metadata": {},
   "source": [
    "## plot_list"
   ]
  },
  {
   "cell_type": "code",
   "execution_count": null,
   "id": "33ca7c73-45c3-4d42-9dbc-a22c73eeb94d",
   "metadata": {
    "execution": {
     "iopub.execute_input": "2024-08-08T19:06:37.506935Z",
     "iopub.status.busy": "2024-08-08T19:06:37.506838Z",
     "iopub.status.idle": "2024-08-08T19:06:37.510305Z",
     "shell.execute_reply": "2024-08-08T19:06:37.510068Z"
    }
   },
   "outputs": [],
   "source": [
    "result = tao.plot_list(\"r\")\n",
    "\n",
    "result[0:2]"
   ]
  },
  {
   "cell_type": "code",
   "execution_count": null,
   "id": "cdebf45e-f4ed-40c3-8c99-db95bcce8e0b",
   "metadata": {
    "execution": {
     "iopub.execute_input": "2024-08-08T19:06:37.511553Z",
     "iopub.status.busy": "2024-08-08T19:06:37.511470Z",
     "iopub.status.idle": "2024-08-08T19:06:37.513696Z",
     "shell.execute_reply": "2024-08-08T19:06:37.513448Z"
    }
   },
   "outputs": [],
   "source": [
    "# 't' gives a mapping of template plot to index\n",
    "result = tao.plot_list(\"t\")\n",
    "\n",
    "result[\"cbar\"]"
   ]
  },
  {
   "cell_type": "markdown",
   "id": "0db6008b-2274-486c-8c19-f15aace9122e",
   "metadata": {},
   "source": [
    "## spin_invariant"
   ]
  },
  {
   "cell_type": "code",
   "execution_count": null,
   "id": "f395652e-ddba-402a-a95e-02e02d35a31b",
   "metadata": {
    "execution": {
     "iopub.execute_input": "2024-08-08T19:06:37.515031Z",
     "iopub.status.busy": "2024-08-08T19:06:37.514952Z",
     "iopub.status.idle": "2024-08-08T19:06:37.528848Z",
     "shell.execute_reply": "2024-08-08T19:06:37.528599Z"
    }
   },
   "outputs": [],
   "source": [
    "tao.spin_invariant(\"l0\")"
   ]
  },
  {
   "cell_type": "markdown",
   "id": "419a215d-9406-4ae9-b946-ca7ff2e5a49b",
   "metadata": {},
   "source": [
    "## taylor_map"
   ]
  },
  {
   "cell_type": "code",
   "execution_count": null,
   "id": "278f52c1-1055-44de-9714-4810e04e7bb1",
   "metadata": {
    "execution": {
     "iopub.execute_input": "2024-08-08T19:06:37.530214Z",
     "iopub.status.busy": "2024-08-08T19:06:37.530134Z",
     "iopub.status.idle": "2024-08-08T19:06:40.896726Z",
     "shell.execute_reply": "2024-08-08T19:06:40.896436Z"
    },
    "tags": []
   },
   "outputs": [],
   "source": [
    "tt = tao.taylor_map(\"beginning\", \"end\", order=2)\n",
    "tt"
   ]
  },
  {
   "cell_type": "code",
   "execution_count": null,
   "id": "8d9c95ab-02ce-4982-880c-e723665d35d1",
   "metadata": {
    "execution": {
     "iopub.execute_input": "2024-08-08T19:06:40.898166Z",
     "iopub.status.busy": "2024-08-08T19:06:40.898086Z",
     "iopub.status.idle": "2024-08-08T19:06:40.900521Z",
     "shell.execute_reply": "2024-08-08T19:06:40.900300Z"
    },
    "tags": []
   },
   "outputs": [],
   "source": [
    "# Compare some terms with the matrix calc:\n",
    "tao.matrix(\"beginning\", \"end\")[\"mat6\"][0, 0], tt[1][(1, 0, 0, 0, 0, 0)]"
   ]
  },
  {
   "cell_type": "code",
   "execution_count": null,
   "id": "d55272fc-1ff1-4106-9361-5d4f44edd158",
   "metadata": {
    "execution": {
     "iopub.execute_input": "2024-08-08T19:06:40.901706Z",
     "iopub.status.busy": "2024-08-08T19:06:40.901617Z",
     "iopub.status.idle": "2024-08-08T19:06:40.903781Z",
     "shell.execute_reply": "2024-08-08T19:06:40.903552Z"
    },
    "tags": []
   },
   "outputs": [],
   "source": [
    "tao.matrix(\"beginning\", \"end\")[\"mat6\"][1, 0], tt[2][(1, 0, 0, 0, 0, 0)]"
   ]
  },
  {
   "cell_type": "markdown",
   "id": "36cdbe51-e4ed-4d0b-9af9-39a152720432",
   "metadata": {},
   "source": [
    "## var_v_array"
   ]
  },
  {
   "cell_type": "code",
   "execution_count": null,
   "id": "fe424bda-eb97-4e17-a5f9-6c7a1cb21634",
   "metadata": {
    "execution": {
     "iopub.execute_input": "2024-08-08T19:06:40.905017Z",
     "iopub.status.busy": "2024-08-08T19:06:40.904920Z",
     "iopub.status.idle": "2024-08-08T19:06:40.907396Z",
     "shell.execute_reply": "2024-08-08T19:06:40.907185Z"
    }
   },
   "outputs": [],
   "source": [
    "result = tao.var_v_array(\"quad_k1\")\n",
    "result[0:2]"
   ]
  }
 ],
 "metadata": {
  "kernelspec": {
   "display_name": "Python 3 (ipykernel)",
   "language": "python",
   "name": "python3"
  },
  "language_info": {
   "codemirror_mode": {
    "name": "ipython",
    "version": 3
   },
   "file_extension": ".py",
   "mimetype": "text/x-python",
   "name": "python",
   "nbconvert_exporter": "python",
   "pygments_lexer": "ipython3",
   "version": "3.12.0"
  },
  "vscode": {
   "interpreter": {
    "hash": "8acfe5d4ac94dcea04347ba5d21ed6ccc77e9ec6b4167c9c2482da2d61a71842"
   }
  }
 },
 "nbformat": 4,
 "nbformat_minor": 5
}
