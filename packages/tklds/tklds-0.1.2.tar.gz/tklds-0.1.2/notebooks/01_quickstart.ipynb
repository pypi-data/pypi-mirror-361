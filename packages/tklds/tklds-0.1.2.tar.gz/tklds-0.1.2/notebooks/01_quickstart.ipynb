{
 "cells": [
  {
   "cell_type": "code",
   "execution_count": 1,
   "id": "1d82352d",
   "metadata": {},
   "outputs": [],
   "source": [
    "import numpy as np"
   ]
  },
  {
   "cell_type": "code",
   "execution_count": 2,
   "id": "3bb5ef59",
   "metadata": {},
   "outputs": [],
   "source": [
    "# list the available sequences (by their name)=\n",
    "\n",
    "from tklds.interface.generators import get_sequence_enum"
   ]
  },
  {
   "cell_type": "code",
   "execution_count": 3,
   "id": "b23aee9c-839a-4f17-9026-f94872a381e5",
   "metadata": {},
   "outputs": [
    {
     "data": {
      "text/plain": [
       "[<SequenceNum.TKRG_A_AP5: 'tkrg-a-ap5'>,\n",
       " <SequenceNum.NEW_JOE_KUO: 'new-joe-kuo'>,\n",
       " <SequenceNum.PCG64: 'pcg64'>]"
      ]
     },
     "execution_count": 3,
     "metadata": {},
     "output_type": "execute_result"
    }
   ],
   "source": [
    "sequence_enum = get_sequence_enum()\n",
    "list(sequence_enum)"
   ]
  },
  {
   "cell_type": "code",
   "execution_count": 4,
   "id": "0ea831cc",
   "metadata": {},
   "outputs": [
    {
     "name": "stdout",
     "output_type": "stream",
     "text": [
      "u.shape=(1024, 5)\n"
     ]
    }
   ],
   "source": [
    "# get the uniform variates of the 'tkrg-a-ap5' sequence\n",
    "\n",
    "from tklds.interface.generators import generate_lds_rvs\n",
    "u = generate_lds_rvs(sequence=sequence_enum.TKRG_A_AP5, n=1024, d=5, skip=0)\n",
    "\n",
    "print(f\"{u.shape=}\")"
   ]
  },
  {
   "cell_type": "code",
   "execution_count": 5,
   "id": "01543033",
   "metadata": {},
   "outputs": [
    {
     "name": "stdout",
     "output_type": "stream",
     "text": [
      "(128, 10)\n",
      "(128, 10)\n"
     ]
    }
   ],
   "source": [
    "# get the iterative generator for the lds sequence\n",
    "\n",
    "from tklds.interface.generators import create_iterative_lds_generator\n",
    "from tklds.generators.iterative_lds import IterativeLDS\n",
    "\n",
    "\n",
    "iter_lds: IterativeLDS = create_iterative_lds_generator(\n",
    "    sequence=sequence_enum.TKRG_A_AP5, \n",
    "    d=10\n",
    ")\n",
    "\n",
    "u1 = iter_lds.rvs(128)\n",
    "u2 = iter_lds.rvs(128)\n",
    "\n",
    "print(f\"{u1.shape}\")\n",
    "print(f\"{u2.shape}\")"
   ]
  },
  {
   "cell_type": "code",
   "execution_count": 6,
   "id": "3ba946b7",
   "metadata": {},
   "outputs": [
    {
     "name": "stdout",
     "output_type": "stream",
     "text": [
      "(128, 10)\n",
      "(128, 10)\n"
     ]
    }
   ],
   "source": [
    "# get the scipy-compatible SobolEngine object\n",
    "# this is similar to the IterativeLDS class but \n",
    "# inherits from the scipy.qmc.QMCEngine base class\n",
    "\n",
    "from tklds.interface.generators import create_sobol_lds_engine\n",
    "from tklds.generators.sobol_engine import SobolEngine\n",
    "\n",
    "sobol_engine: SobolEngine = create_sobol_lds_engine(\n",
    "    sequence=sequence_enum.NEW_JOE_KUO, \n",
    "    d=10,\n",
    "    scramble=True\n",
    ")\n",
    "\n",
    "u1 = sobol_engine.random(128)\n",
    "u2 = sobol_engine.random(128)\n",
    "\n",
    "print(f\"{u1.shape}\")\n",
    "print(f\"{u2.shape}\")"
   ]
  },
  {
   "cell_type": "code",
   "execution_count": null,
   "id": "e44dc007-c9cb-43a1-9de2-3564913b7cec",
   "metadata": {},
   "outputs": [],
   "source": []
  }
 ],
 "metadata": {
  "kernelspec": {
   "display_name": "tkenv",
   "language": "python",
   "name": "tkenv"
  },
  "language_info": {
   "codemirror_mode": {
    "name": "ipython",
    "version": 3
   },
   "file_extension": ".py",
   "mimetype": "text/x-python",
   "name": "python",
   "nbconvert_exporter": "python",
   "pygments_lexer": "ipython3",
   "version": "3.10.12"
  }
 },
 "nbformat": 4,
 "nbformat_minor": 5
}
