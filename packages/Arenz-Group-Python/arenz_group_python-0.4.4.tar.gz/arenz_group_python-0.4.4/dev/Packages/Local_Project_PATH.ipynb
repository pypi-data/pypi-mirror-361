{
 "cells": [
  {
   "cell_type": "markdown",
   "metadata": {},
   "source": [
    "# General installation from github\n",
    "This notebook creates a basic project structure. \n",
    "It is based on the article:\n",
    "\n",
    "https://towardsdatascience.com/its-time-to-structure-your-data-science-project-1fa064fbe46\n"
   ]
  },
  {
   "cell_type": "code",
   "execution_count": 1,
   "metadata": {},
   "outputs": [
    {
     "name": "stdout",
     "output_type": "stream",
     "text": [
      "c:\\Users\\gustav.wiberg\\Documents\\GitHub\\Python\\Arenz_Group_Python\\tests\\Packages\n",
      "c:\\Users\\gustav.wiberg\\Documents\\GitHub\\Python\\Arenz_Group_Python\\src\n",
      "c:\\Users\\gustav.wiberg\\Documents\\GitHub\\Python\\Arenz_Group_Python\\src\n",
      "loading arenz_group_python\n",
      "['c:\\\\Users\\\\gustav.wiberg\\\\Documents\\\\GitHub\\\\Python\\\\Arenz_Group_Python\\\\src\\\\arenz_group_python']\n",
      "['c:\\\\Users\\\\gustav.wiberg\\\\Documents\\\\GitHub\\\\Python\\\\Arenz_Group_Python\\\\src\\\\arenz_group_python']\n"
     ]
    }
   ],
   "source": [
    "from pathlib import Path\n",
    "import sys\n",
    "nb_path = Path.cwd()\n",
    "p = Path.cwd()\n",
    "print(p)\n",
    "for p in Path.cwd().parents:\n",
    "    pa = p / \"src\"\n",
    "    if pa.exists():\n",
    "        print(pa)\n",
    "        sys.path.insert(0,str(pa))\n",
    "        break\n",
    "print(pa)\n",
    "#add\n",
    "#sys.path.insert(0,str(pa))\n",
    "import arenz_group_python\n",
    "print(arenz_group_python.__path__)\n"
   ]
  },
  {
   "cell_type": "code",
   "execution_count": 2,
   "metadata": {},
   "outputs": [
    {
     "name": "stdout",
     "output_type": "stream",
     "text": [
      "c:\\Users\\gustav.wiberg\\Documents\\GitHub\\Python\\Arenz_Group_Python\\tests\\Packages\n"
     ]
    }
   ],
   "source": [
    "\n",
    "from arenz_group_python import Project_Paths\n",
    "#from arenz_group_python.util_paths import PROJECT_FOLDERS\n",
    "print(nb_path)\n",
    "pp= Project_Paths()"
   ]
  },
  {
   "cell_type": "code",
   "execution_count": 3,
   "metadata": {},
   "outputs": [
    {
     "name": "stdout",
     "output_type": "stream",
     "text": [
      "\"data_raw\" could not be found as a branch of the folder tree form the notebook.\n",
      "Please use standard project structure.\n"
     ]
    },
    {
     "data": {
      "text/plain": [
       "<generator object Path.glob at 0x0000029367DE5250>"
      ]
     },
     "execution_count": 3,
     "metadata": {},
     "output_type": "execute_result"
    }
   ],
   "source": [
    "pp.rawdata_path.glob('*')"
   ]
  }
 ],
 "metadata": {
  "kernelspec": {
   "display_name": "Python 3",
   "language": "python",
   "name": "python3"
  },
  "language_info": {
   "codemirror_mode": {
    "name": "ipython",
    "version": 3
   },
   "file_extension": ".py",
   "mimetype": "text/x-python",
   "name": "python",
   "nbconvert_exporter": "python",
   "pygments_lexer": "ipython3",
   "version": "3.11.9"
  }
 },
 "nbformat": 4,
 "nbformat_minor": 2
}
