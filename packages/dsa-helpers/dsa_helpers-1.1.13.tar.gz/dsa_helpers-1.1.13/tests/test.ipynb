{
 "cells": [
  {
   "cell_type": "markdown",
   "metadata": {},
   "source": [
    "# Tests\n",
    "Test different functions of the library."
   ]
  },
  {
   "cell_type": "markdown",
   "metadata": {},
   "source": [
    "### Tiling WSI with semantic segmentation masks from DSA annotations"
   ]
  },
  {
   "cell_type": "code",
   "execution_count": null,
   "metadata": {},
   "outputs": [],
   "source": [
    "# Constants\n",
    "DSA_API_URL = \"\"\n",
    "ITEM_ID = \"\"\n",
    "WSI_FILEPATH = \"\"\n",
    "LABEL_2_IDX = {}\n",
    "NPROC = 1"
   ]
  },
  {
   "cell_type": "code",
   "execution_count": null,
   "metadata": {},
   "outputs": [],
   "source": [
    "# Imports\n",
    "from dsa_helpers.girder_utils import login\n",
    "from dsa_helpers.tiling import tile_wsi_with_masks_from_dsa_annotations\n",
    "\n",
    "help(tile_wsi_with_masks_from_dsa_annotations)"
   ]
  },
  {
   "cell_type": "code",
   "execution_count": null,
   "metadata": {},
   "outputs": [],
   "source": [
    "# Setup annotation documents.\n",
    "if ITEM_ID is None:\n",
    "    # Empty list gives blank masks for tiles.\n",
    "    annotation_docs = []\n",
    "else:\n",
    "    # Authenticate client and get annotation documents for item.\n",
    "    gc = login(DSA_API_URL)\n",
    "    annotation_docs = gc.get(f\"annotation/item/{ITEM_ID}\")"
   ]
  },
  {
   "cell_type": "code",
   "execution_count": null,
   "metadata": {},
   "outputs": [],
   "source": [
    "# Tile the image.\n",
    "output = tile_wsi_with_masks_from_dsa_annotations(\n",
    "    WSI_FILEPATH,\n",
    "    annotation_docs,\n",
    "    LABEL_2_IDX,\n",
    "    \"data/tile_wsi_with_masks_from_dsa_annotations\",\n",
    "    512,\n",
    "    stride=None,\n",
    "    mag=5,\n",
    "    prepend_name=\"test-\",\n",
    "    nproc=NPROC,\n",
    "    background_idx=0,\n",
    "    edge_thr=0.1\n",
    ")\n",
    "output"
   ]
  },
  {
   "cell_type": "markdown",
   "metadata": {},
   "source": [
    "### Imports"
   ]
  },
  {
   "cell_type": "code",
   "execution_count": null,
   "metadata": {},
   "outputs": [
    {
     "name": "stdout",
     "output_type": "stream",
     "text": [
      "Help on function imwrite in module dsa_helpers.imwrite:\n",
      "\n",
      "imwrite(fp: str, img: numpy.ndarray, grayscale: bool = False) -> None\n",
      "    Save an image to disk.\n",
      "\n",
      "    Args:\n",
      "        img (np.ndarray): The image to save.\n",
      "        fp (str): The file path to save the image.\n",
      "        grayscale (bool, optional): Whether to save the image as grayscale.\n",
      "            Defaults to False.\n",
      "\n",
      "    Raises:\n",
      "        ValueError: The image must be grayscale, RGB, or RGBA.\n",
      "\n"
     ]
    }
   ],
   "source": []
  }
 ],
 "metadata": {
  "kernelspec": {
   "display_name": "dsa-helpers",
   "language": "python",
   "name": "python3"
  },
  "language_info": {
   "codemirror_mode": {
    "name": "ipython",
    "version": 3
   },
   "file_extension": ".py",
   "mimetype": "text/x-python",
   "name": "python",
   "nbconvert_exporter": "python",
   "pygments_lexer": "ipython3",
   "version": "3.12.7"
  }
 },
 "nbformat": 4,
 "nbformat_minor": 2
}
