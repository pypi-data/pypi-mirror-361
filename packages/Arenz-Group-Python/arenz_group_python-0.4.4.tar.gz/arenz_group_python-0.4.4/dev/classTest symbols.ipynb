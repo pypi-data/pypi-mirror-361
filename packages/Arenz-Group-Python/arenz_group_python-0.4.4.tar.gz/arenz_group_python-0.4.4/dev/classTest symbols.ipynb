{
 "cells": [
  {
   "cell_type": "code",
   "execution_count": 1,
   "metadata": {},
   "outputs": [
    {
     "name": "stdout",
     "output_type": "stream",
     "text": [
      "c:\\Users\\gustav.wiberg\\Documents\\GitHub\\Python\\Arenz_Group_Python\\tests\n"
     ]
    }
   ],
   "source": [
    "import numpy as np\n",
    "import pandas as pd\n",
    "import matplotlib.pyplot as plt\n",
    "from nptdms import TdmsFile\n",
    "from pathlib import Path\n",
    "import os\n",
    "# importing sys\n",
    "import sys\n",
    "\n",
    "from nptdms import TdmsFile\n",
    "\n",
    "nb_path = Path.cwd()\n",
    "print(nb_path)"
   ]
  },
  {
   "cell_type": "code",
   "execution_count": 6,
   "metadata": {},
   "outputs": [
    {
     "name": "stdout",
     "output_type": "stream",
     "text": [
      "a: \n",
      "c  b^5.0\n",
      "d  b^-5.0\n",
      "e  b^-40.0\n",
      "a \n",
      "b  b^5.0\n"
     ]
    }
   ],
   "source": [
    "def get_unit_and_exponent(s:str):\n",
    "    aa = s.split(\"^\",2)\n",
    "    nyckel = aa[0]\n",
    "    sign = 1\n",
    "    fac =  1.0\n",
    "    if nyckel.startswith(\"/\"):\n",
    "        nyckel = nyckel[1:]\n",
    "        sign = -1\n",
    "    if len(aa)>1:                   #if \"^\" was found.\n",
    "        fac = float(aa[1]) \n",
    "    return nyckel, sign*fac\n",
    "\n",
    "\n",
    "\n",
    "    \n",
    "a = symbols()\n",
    "print(\"a:\",a)\n",
    "b = symbols(\"b^5\")\n",
    "c = a + b\n",
    "print(\"c\",c)\n",
    "d = c*-1\n",
    "print(\"d\",d)\n",
    "e = (a+a+(b*-6))-b*2\n",
    "print(\"e\",e)\n",
    "print(\"a\",a)\n",
    "print(\"b\",b)"
   ]
  }
 ],
 "metadata": {
  "kernelspec": {
   "display_name": "Python 3",
   "language": "python",
   "name": "python3"
  },
  "language_info": {
   "codemirror_mode": {
    "name": "ipython",
    "version": 3
   },
   "file_extension": ".py",
   "mimetype": "text/x-python",
   "name": "python",
   "nbconvert_exporter": "python",
   "pygments_lexer": "ipython3",
   "version": "3.11.9"
  }
 },
 "nbformat": 4,
 "nbformat_minor": 2
}
