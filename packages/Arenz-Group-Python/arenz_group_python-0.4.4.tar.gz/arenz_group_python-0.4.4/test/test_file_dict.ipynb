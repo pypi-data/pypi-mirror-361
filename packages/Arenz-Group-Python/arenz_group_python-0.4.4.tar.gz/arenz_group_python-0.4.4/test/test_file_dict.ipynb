{
 "cells": [
  {
   "cell_type": "code",
   "execution_count": 12,
   "metadata": {},
   "outputs": [
    {
     "name": "stdout",
     "output_type": "stream",
     "text": [
      "['c:\\\\Users\\\\gusta\\\\Documents\\\\GitHub\\\\UNIBE\\\\Arenz_Group_Python\\\\src\\\\arenz_group_python', 'c:\\\\Users\\\\gusta\\\\Documents\\\\GitHub\\\\UNIBE\\\\Arenz_Group_Python\\\\src', 'c:\\\\Users\\\\gusta\\\\Documents\\\\GitHub\\\\UNIBE\\\\Arenz_Group_Python\\\\test', 'c:\\\\Users\\\\gusta\\\\AppData\\\\Local\\\\Programs\\\\Python\\\\Python313\\\\python313.zip', 'c:\\\\Users\\\\gusta\\\\AppData\\\\Local\\\\Programs\\\\Python\\\\Python313\\\\DLLs', 'c:\\\\Users\\\\gusta\\\\AppData\\\\Local\\\\Programs\\\\Python\\\\Python313\\\\Lib', 'c:\\\\Users\\\\gusta\\\\AppData\\\\Local\\\\Programs\\\\Python\\\\Python313', '', 'C:\\\\Users\\\\gusta\\\\AppData\\\\Roaming\\\\Python\\\\Python313\\\\site-packages', 'C:\\\\Users\\\\gusta\\\\AppData\\\\Roaming\\\\Python\\\\Python313\\\\site-packages\\\\win32', 'C:\\\\Users\\\\gusta\\\\AppData\\\\Roaming\\\\Python\\\\Python313\\\\site-packages\\\\win32\\\\lib', 'C:\\\\Users\\\\gusta\\\\AppData\\\\Roaming\\\\Python\\\\Python313\\\\site-packages\\\\Pythonwin', 'c:\\\\Users\\\\gusta\\\\AppData\\\\Local\\\\Programs\\\\Python\\\\Python313\\\\Lib\\\\site-packages']\n",
      "c:\\Users\\gusta\\Documents\\GitHub\\UNIBE\\Arenz_Group_Python\\src\\arenz_group_python True\n"
     ]
    },
    {
     "data": {
      "text/plain": [
       "True"
      ]
     },
     "execution_count": 12,
     "metadata": {},
     "output_type": "execute_result"
    }
   ],
   "source": [
    "import sys\n",
    "from pathlib import Path\n",
    "\n",
    "print(sys.path)\n",
    "p=Path(sys.path[0])\n",
    "print(p,p.exists())\n",
    "p.exists()\n",
    "\n"
   ]
  },
  {
   "cell_type": "code",
   "execution_count": 17,
   "metadata": {},
   "outputs": [],
   "source": [
    "import arenz_group_python\n",
    "from importlib.metadata import version\n",
    "#version('arenz_group_python')"
   ]
  },
  {
   "cell_type": "code",
   "execution_count": 18,
   "metadata": {},
   "outputs": [],
   "source": [
    "#from arenz_group_python import Project_Paths as pp\n",
    "from pathlib import Path\n",
    "from arenz_group_python import save_dict_to_file,load_dict_from_file,save_dict_to_tableFile\n",
    "from arenz_group_python import open_dict_from_tablefile\n"
   ]
  },
  {
   "cell_type": "code",
   "execution_count": 19,
   "metadata": {},
   "outputs": [
    {
     "name": "stdout",
     "output_type": "stream",
     "text": [
      "c:\\Users\\gusta\\Documents\\GitHub\\UNIBE\\Arenz_Group_Python\\TEMP_Project True\n"
     ]
    }
   ],
   "source": [
    "pa= Path().cwd().parent / \"TEMP_Project\"\n",
    "print(pa, pa.exists())\n",
    "\n",
    "try:\n",
    "    pa.mkdir()\n",
    "except:\n",
    "    pass\n"
   ]
  },
  {
   "cell_type": "code",
   "execution_count": 7,
   "metadata": {},
   "outputs": [],
   "source": [
    "file_path= pa / \"My_Dict_File.txt\"\n",
    "keyValues= {\n",
    "    \"firstKey\" : 5.23,\n",
    "    \"secondKey\": \"A string\" \n",
    "}\n",
    "keyValues[\"thridKey\"] = 32.543\n",
    "\n",
    "save_dict_to_file(file_path,keyValues)"
   ]
  },
  {
   "cell_type": "code",
   "execution_count": 16,
   "metadata": {},
   "outputs": [
    {
     "name": "stdout",
     "output_type": "stream",
     "text": [
      "{'firstKey': 5.23, 'secondKey': 'A string', 'thridKey': 32.543}\n",
      "{'firstKey': 5.23, 'secondKey': 'A string', 'thridKey': 32.543}\n"
     ]
    }
   ],
   "source": [
    "print(keyValues)\n",
    "keyValues_B = load_dict_from_file(file_path)\n",
    "print(keyValues_B)"
   ]
  },
  {
   "cell_type": "code",
   "execution_count": 9,
   "metadata": {},
   "outputs": [
    {
     "name": "stdout",
     "output_type": "stream",
     "text": [
      "Sample1 was already in the list: updating\n"
     ]
    }
   ],
   "source": [
    "TB_file_path= pa / \"TableFile.txt\"\n",
    "sample_name = \"Sample1\"\n",
    "save_dict_to_tableFile(TB_file_path,sample_name, keyValues)\n",
    "\n"
   ]
  },
  {
   "cell_type": "code",
   "execution_count": 10,
   "metadata": {},
   "outputs": [
    {
     "name": "stdout",
     "output_type": "stream",
     "text": [
      "Sample2 was already in the list: updating\n"
     ]
    }
   ],
   "source": [
    "#Sample 2\n",
    "S2_keyValues= {\n",
    "    \"firstKey\" : 34.23,\n",
    "    \"secondKey\": \"sample 2 string\" ,\n",
    "    \"thridKey\" : 2321\n",
    "}\n",
    "sample2_name = \"Sample2\"\n",
    "save_dict_to_tableFile(TB_file_path,sample2_name, S2_keyValues)"
   ]
  },
  {
   "cell_type": "code",
   "execution_count": 15,
   "metadata": {},
   "outputs": [
    {
     "name": "stdout",
     "output_type": "stream",
     "text": [
      "object Sample1  no\n",
      "object A string  no\n",
      "      name  firstKey        secondKey  thridKey\n",
      "0  Sample1      5.23         A string    32.543\n",
      "1  Sample2     34.23  sample 2 string  2321.000\n"
     ]
    }
   ],
   "source": [
    "df = open_dict_from_tablefile(TB_file_path)\n",
    "print(df)"
   ]
  },
  {
   "cell_type": "code",
   "execution_count": 22,
   "metadata": {},
   "outputs": [
    {
     "name": "stdout",
     "output_type": "stream",
     "text": [
      "5.23\n",
      "[5.23, 34.23]\n"
     ]
    }
   ],
   "source": [
    "print(df.get(\"firstKey\")[0])\n",
    "a = list(df.get(\"firstKey\"))\n",
    "print(a)"
   ]
  }
 ],
 "metadata": {
  "kernelspec": {
   "display_name": "Python 3",
   "language": "python",
   "name": "python3"
  },
  "language_info": {
   "codemirror_mode": {
    "name": "ipython",
    "version": 3
   },
   "file_extension": ".py",
   "mimetype": "text/x-python",
   "name": "python",
   "nbconvert_exporter": "python",
   "pygments_lexer": "ipython3",
   "version": "3.11.5"
  }
 },
 "nbformat": 4,
 "nbformat_minor": 2
}
