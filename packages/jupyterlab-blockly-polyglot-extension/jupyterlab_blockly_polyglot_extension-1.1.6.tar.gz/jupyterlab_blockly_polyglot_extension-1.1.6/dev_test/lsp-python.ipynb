{
 "cells": [
  {
   "attachments": {},
   "cell_type": "markdown",
   "id": "8e7159d6-d6d1-4387-962b-913105d30188",
   "metadata": {},
   "source": [
    "# start\n",
    "\n",
    "Load 'datasets/iris.csv' into a dataframe\n",
    "\n"
   ]
  },
  {
   "cell_type": "code",
   "execution_count": 15,
   "id": "ed70e74d-e527-4c13-8ebc-14f67548929d",
   "metadata": {
    "user_blocks": [
     "dummyOutputCodeBlock"
    ],
    "user_blocks_xml": "<xml xmlns=\"https://developers.google.com/blockly/xml\"><block type=\"dummyOutputCodeBlock\" id=\"YFm%p+Pko@JOKpQ_$qHo\" x=\"-42\" y=\"8\"><field name=\"CODE\">Hi_Roo</field></block></xml>",
    "user_code_from_blocks": "Hi_Roo\n"
   },
   "outputs": [
    {
     "ename": "NameError",
     "evalue": "name 'Hi_Roo' is not defined",
     "output_type": "error",
     "traceback": [
      "\u001b[0;31m---------------------------------------------------------------------------\u001b[0m",
      "\u001b[0;31mNameError\u001b[0m                                 Traceback (most recent call last)",
      "Cell \u001b[0;32mIn[15], line 1\u001b[0m\n\u001b[0;32m----> 1\u001b[0m \u001b[43mHi_Roo\u001b[49m\n\u001b[1;32m      3\u001b[0m \u001b[38;5;66;03m#<xml xmlns=\"https://developers.google.com/blockly/xml\"><block type=\"dummyOutputCodeBlock\" id=\"YFm%p+Pko@JOKpQ_$qHo\" x=\"-42\" y=\"8\"><field name=\"CODE\">Hi_Roo</field></block></xml>\u001b[39;00m\n",
      "\u001b[0;31mNameError\u001b[0m: name 'Hi_Roo' is not defined"
     ]
    }
   ],
   "source": [
    "Hi_Roo\n",
    "\n",
    "#<xml xmlns=\"https://developers.google.com/blockly/xml\"><block type=\"dummyOutputCodeBlock\" id=\"YFm%p+Pko@JOKpQ_$qHo\" x=\"-42\" y=\"8\"><field name=\"CODE\">Hi_Roo</field></block></xml>"
   ]
  },
  {
   "cell_type": "code",
   "execution_count": 27,
   "id": "ae6d8e94-2b82-44a2-b29a-4a6fe75525bf",
   "metadata": {
    "editable": true,
    "slideshow": {
     "slide_type": ""
    },
    "tags": [],
    "user_blocks": [
     "importAs",
     "importAs"
    ],
    "user_blocks_xml": "<xml xmlns=\"https://developers.google.com/blockly/xml\"><variables><variable id=\"sSFVK3z!rqGlufEk(OC`\">px</variable><variable id=\"oIoZ:~IYMv}UCdRU.n)Z\">pd</variable></variables><block type=\"importAs\" id=\"Kh(b^qDxfn1j$5y{mKbS\" x=\"-50\" y=\"260\"><field name=\"libraryName\">plotly.express</field><field name=\"VAR\" id=\"sSFVK3z!rqGlufEk(OC`\">px</field><next><block type=\"importAs\" id=\"EI2`[V?s2JweihtG(y;T\"><field name=\"libraryName\">pandas</field><field name=\"VAR\" id=\"oIoZ:~IYMv}UCdRU.n)Z\">pd</field></block></next></block></xml>",
    "user_code_from_blocks": "import plotly.express as px\nimport pandas as pd\n"
   },
   "outputs": [],
   "source": [
    "import plotly.express as px\n",
    "import pandas as pd\n",
    "\n",
    "#<xml xmlns=\"https://developers.google.com/blockly/xml\"><variables><variable id=\"sSFVK3z!rqGlufEk(OC`\">px</variable><variable id=\"oIoZ:~IYMv}UCdRU.n)Z\">pd</variable></variables><block type=\"importAs\" id=\"Kh(b^qDxfn1j$5y{mKbS\" x=\"-50\" y=\"260\"><field name=\"libraryName\">plotly.express</field><field name=\"VAR\" id=\"sSFVK3z!rqGlufEk(OC`\">px</field><next><block type=\"importAs\" id=\"EI2`[V?s2JweihtG(y;T\"><field name=\"libraryName\">pandas</field><field name=\"VAR\" id=\"oIoZ:~IYMv}UCdRU.n)Z\">pd</field></block></next></block></xml>"
   ]
  },
  {
   "cell_type": "code",
   "execution_count": 29,
   "id": "86b94788-67bd-4fa6-a068-429e62f484a3",
   "metadata": {
    "user_blocks": [
     "variables_set",
     "varDoMethod",
     "text"
    ],
    "user_blocks_xml": "<xml xmlns=\"https://developers.google.com/blockly/xml\"><variables><variable id=\"mM._-=?k-CCDA0fCK.Kv\">df</variable><variable id=\"oIoZ:~IYMv}UCdRU.n)Z\">pd</variable></variables><block type=\"variables_set\" id=\"TmrwFFdhsW5ZdDT8$Xks\" x=\"-37\" y=\"174\"><field name=\"VAR\" id=\"mM._-=?k-CCDA0fCK.Kv\">df</field><value name=\"VALUE\"><block type=\"varDoMethod\" id=\"I7{Yc+)1G~E#ENgtfYYx\"><mutation items=\"1\"></mutation><field name=\"VAR\" id=\"oIoZ:~IYMv}UCdRU.n)Z\">pd</field><field name=\"MEMBER\">read_csv</field><data>pd:read_csv</data><value name=\"ADD0\"><block type=\"text\" id=\"7Dmx^`g@P]w.T6emw4ah\"><field name=\"TEXT\">datasets/iris.csv</field></block></value></block></value></block></xml>",
    "user_code_from_blocks": "df = pd.read_csv('datasets/iris.csv')\n"
   },
   "outputs": [],
   "source": [
    "df = pd.read_csv('datasets/iris.csv')\n",
    "\n",
    "#<xml xmlns=\"https://developers.google.com/blockly/xml\"><variables><variable id=\"mM._-=?k-CCDA0fCK.Kv\">df</variable><variable id=\"oIoZ:~IYMv}UCdRU.n)Z\">pd</variable></variables><block type=\"variables_set\" id=\"TmrwFFdhsW5ZdDT8$Xks\" x=\"-37\" y=\"174\"><field name=\"VAR\" id=\"mM._-=?k-CCDA0fCK.Kv\">df</field><value name=\"VALUE\"><block type=\"varDoMethod\" id=\"I7{Yc+)1G~E#ENgtfYYx\"><mutation items=\"1\"></mutation><field name=\"VAR\" id=\"oIoZ:~IYMv}UCdRU.n)Z\">pd</field><field name=\"MEMBER\">read_csv</field><data>pd:read_csv</data><value name=\"ADD0\"><block type=\"text\" id=\"7Dmx^`g@P]w.T6emw4ah\"><field name=\"TEXT\">datasets/iris.csv</field></block></value></block></value></block></xml>"
   ]
  },
  {
   "cell_type": "code",
   "execution_count": 14,
   "id": "ee9ad7f9-48b3-4188-a0f8-9211d80adff5",
   "metadata": {
    "user_blocks": [
     "variables_set",
     "text",
     "variables_get"
    ],
    "user_blocks_xml": "<xml xmlns=\"https://developers.google.com/blockly/xml\"><variables><variable id=\"mM._-=?k-CCDA0fCK.Kv\">df</variable></variables><block type=\"variables_set\" id=\"wEmv~kIu`,+v4Jw{xg-u\" x=\"-34\" y=\"52\"><field name=\"VAR\" id=\"mM._-=?k-CCDA0fCK.Kv\">df</field></block><block type=\"text\" id=\"?T,sPOPb]?=q+svL2fl-\" x=\"146\" y=\"135\"><field name=\"TEXT\">hi</field></block><block type=\"variables_get\" id=\"cO7KRb[l8*r{iLc!Ltrs\" x=\"-9\" y=\"173\"><field name=\"VAR\" id=\"mM._-=?k-CCDA0fCK.Kv\">df</field></block></xml>",
    "user_code_from_blocks": "# unconnected 'set df to' block\n'hi'\n\ndf\n"
   },
   "outputs": [
    {
     "data": {
      "text/html": [
       "<div>\n",
       "<style scoped>\n",
       "    .dataframe tbody tr th:only-of-type {\n",
       "        vertical-align: middle;\n",
       "    }\n",
       "\n",
       "    .dataframe tbody tr th {\n",
       "        vertical-align: top;\n",
       "    }\n",
       "\n",
       "    .dataframe thead th {\n",
       "        text-align: right;\n",
       "    }\n",
       "</style>\n",
       "<table border=\"1\" class=\"dataframe\">\n",
       "  <thead>\n",
       "    <tr style=\"text-align: right;\">\n",
       "      <th></th>\n",
       "      <th>SepalLength</th>\n",
       "      <th>SepalWidth</th>\n",
       "      <th>PetalLength</th>\n",
       "      <th>PetalWidth</th>\n",
       "      <th>Species</th>\n",
       "    </tr>\n",
       "  </thead>\n",
       "  <tbody>\n",
       "    <tr>\n",
       "      <th>0</th>\n",
       "      <td>5.1</td>\n",
       "      <td>3.5</td>\n",
       "      <td>1.4</td>\n",
       "      <td>0.2</td>\n",
       "      <td>setosa</td>\n",
       "    </tr>\n",
       "    <tr>\n",
       "      <th>1</th>\n",
       "      <td>4.9</td>\n",
       "      <td>3.0</td>\n",
       "      <td>1.4</td>\n",
       "      <td>0.2</td>\n",
       "      <td>setosa</td>\n",
       "    </tr>\n",
       "    <tr>\n",
       "      <th>2</th>\n",
       "      <td>4.7</td>\n",
       "      <td>3.2</td>\n",
       "      <td>1.3</td>\n",
       "      <td>0.2</td>\n",
       "      <td>setosa</td>\n",
       "    </tr>\n",
       "    <tr>\n",
       "      <th>3</th>\n",
       "      <td>4.6</td>\n",
       "      <td>3.1</td>\n",
       "      <td>1.5</td>\n",
       "      <td>0.2</td>\n",
       "      <td>setosa</td>\n",
       "    </tr>\n",
       "    <tr>\n",
       "      <th>4</th>\n",
       "      <td>5.0</td>\n",
       "      <td>3.6</td>\n",
       "      <td>1.4</td>\n",
       "      <td>0.2</td>\n",
       "      <td>setosa</td>\n",
       "    </tr>\n",
       "    <tr>\n",
       "      <th>...</th>\n",
       "      <td>...</td>\n",
       "      <td>...</td>\n",
       "      <td>...</td>\n",
       "      <td>...</td>\n",
       "      <td>...</td>\n",
       "    </tr>\n",
       "    <tr>\n",
       "      <th>145</th>\n",
       "      <td>6.7</td>\n",
       "      <td>3.0</td>\n",
       "      <td>5.2</td>\n",
       "      <td>2.3</td>\n",
       "      <td>virginica</td>\n",
       "    </tr>\n",
       "    <tr>\n",
       "      <th>146</th>\n",
       "      <td>6.3</td>\n",
       "      <td>2.5</td>\n",
       "      <td>5.0</td>\n",
       "      <td>1.9</td>\n",
       "      <td>virginica</td>\n",
       "    </tr>\n",
       "    <tr>\n",
       "      <th>147</th>\n",
       "      <td>6.5</td>\n",
       "      <td>3.0</td>\n",
       "      <td>5.2</td>\n",
       "      <td>2.0</td>\n",
       "      <td>virginica</td>\n",
       "    </tr>\n",
       "    <tr>\n",
       "      <th>148</th>\n",
       "      <td>6.2</td>\n",
       "      <td>3.4</td>\n",
       "      <td>5.4</td>\n",
       "      <td>2.3</td>\n",
       "      <td>virginica</td>\n",
       "    </tr>\n",
       "    <tr>\n",
       "      <th>149</th>\n",
       "      <td>5.9</td>\n",
       "      <td>3.0</td>\n",
       "      <td>5.1</td>\n",
       "      <td>1.8</td>\n",
       "      <td>virginica</td>\n",
       "    </tr>\n",
       "  </tbody>\n",
       "</table>\n",
       "<p>150 rows × 5 columns</p>\n",
       "</div>"
      ],
      "text/plain": [
       "     SepalLength  SepalWidth  PetalLength  PetalWidth    Species\n",
       "0            5.1         3.5          1.4         0.2     setosa\n",
       "1            4.9         3.0          1.4         0.2     setosa\n",
       "2            4.7         3.2          1.3         0.2     setosa\n",
       "3            4.6         3.1          1.5         0.2     setosa\n",
       "4            5.0         3.6          1.4         0.2     setosa\n",
       "..           ...         ...          ...         ...        ...\n",
       "145          6.7         3.0          5.2         2.3  virginica\n",
       "146          6.3         2.5          5.0         1.9  virginica\n",
       "147          6.5         3.0          5.2         2.0  virginica\n",
       "148          6.2         3.4          5.4         2.3  virginica\n",
       "149          5.9         3.0          5.1         1.8  virginica\n",
       "\n",
       "[150 rows x 5 columns]"
      ]
     },
     "execution_count": 14,
     "metadata": {},
     "output_type": "execute_result"
    }
   ],
   "source": [
    "# unconnected 'set df to' block\n",
    "'hi'\n",
    "\n",
    "df\n",
    "\n",
    "#<xml xmlns=\"https://developers.google.com/blockly/xml\"><variables><variable id=\"mM._-=?k-CCDA0fCK.Kv\">df</variable></variables><block type=\"variables_set\" id=\"wEmv~kIu`,+v4Jw{xg-u\" x=\"-34\" y=\"52\"><field name=\"VAR\" id=\"mM._-=?k-CCDA0fCK.Kv\">df</field></block><block type=\"text\" id=\"?T,sPOPb]?=q+svL2fl-\" x=\"146\" y=\"135\"><field name=\"TEXT\">hi</field></block><block type=\"variables_get\" id=\"cO7KRb[l8*r{iLc!Ltrs\" x=\"-9\" y=\"173\"><field name=\"VAR\" id=\"mM._-=?k-CCDA0fCK.Kv\">df</field></block></xml>"
   ]
  },
  {
   "cell_type": "code",
   "execution_count": null,
   "id": "2783ced0-3b70-4cc2-aa41-27e36d46a260",
   "metadata": {
    "user_blocks": [],
    "user_blocks_xml": "<xml xmlns=\"https://developers.google.com/blockly/xml\"></xml>",
    "user_code_from_blocks": ""
   },
   "outputs": [],
   "source": [
    "\n",
    "#<xml xmlns=\"https://developers.google.com/blockly/xml\"></xml>"
   ]
  },
  {
   "cell_type": "code",
   "execution_count": null,
   "id": "7298f169-8f63-47cc-bb22-3217e1d7f14a",
   "metadata": {
    "user_blocks": [
     "variables_set",
     "varDoMethod",
     "text",
     "variables_set",
     "indexer",
     "text",
     "varDoMethod",
     "variables_set",
     "varGetProperty",
     "varDoMethod"
    ],
    "user_blocks_xml": "<xml xmlns=\"https://developers.google.com/blockly/xml\"><variables><variable id=\"CA!Q$oN[]8p-|fEA7na|\">df</variable><variable id=\"ku#PM`EX-Rq:eCd#P@O[\">sl</variable><variable id=\"?=c^;wF+$g.4Z?#`=!.b\">sw</variable><variable id=\"oIoZ:~IYMv}UCdRU.n)Z\">pd</variable></variables><block type=\"variables_set\" id=\"i*_nJ2lyQu_l7kM2SG0h\" x=\"-18\" y=\"112\"><field name=\"VAR\" id=\"CA!Q$oN[]8p-|fEA7na|\">df</field><value name=\"VALUE\"><block type=\"varDoMethod\" id=\"{VQfx)P*`yo^8kl]HBqx\"><mutation items=\"1\"></mutation><field name=\"VAR\" id=\"oIoZ:~IYMv}UCdRU.n)Z\">pd</field><field name=\"MEMBER\">read_csv</field><data>pd:read_csv</data><value name=\"ADD0\"><block type=\"text\" id=\"kT1^mlW|K8kC=#VR{?l2\"><field name=\"TEXT\">datasets/iris.csv</field></block></value></block></value></block><block type=\"variables_set\" id=\"%*-WcI(wk1B{)HvQL=Q-\" x=\"-17\" y=\"212\"><field name=\"VAR\" id=\"ku#PM`EX-Rq:eCd#P@O[\">sl</field><value name=\"VALUE\"><block type=\"indexer\" id=\"yT=~PJqFM30wlKj*Ld)e\"><field name=\"VAR\" id=\"CA!Q$oN[]8p-|fEA7na|\">df</field><value name=\"INDEX\"><block type=\"text\" id=\"X56G7xvCihC2w90@WOU-\"><field name=\"TEXT\">SepalLength</field></block></value></block></value></block><block type=\"varDoMethod\" id=\"ls6Js4:SWJ[$IS=6o,fL\" x=\"-23\" y=\"319\"><mutation items=\"1\"></mutation><field name=\"VAR\" id=\"ku#PM`EX-Rq:eCd#P@O[\">sl</field><field name=\"MEMBER\">undefined</field><data>sl:undefined</data></block><block type=\"variables_set\" id=\"QqOY_|Z;EI:MzSJR4_w,\" x=\"-21\" y=\"407\"><field name=\"VAR\" id=\"?=c^;wF+$g.4Z?#`=!.b\">sw</field><value name=\"VALUE\"><block type=\"varGetProperty\" id=\"Z)O2d{wnQU{q1o|VA$1@\"><field name=\"VAR\" id=\"CA!Q$oN[]8p-|fEA7na|\">df</field><field name=\"MEMBER\">SepalWidth</field><data>df:SepalWidth</data></block></value></block><block type=\"varDoMethod\" id=\"(Oo^H7GB~XaPLxV%^yv|\" x=\"-24\" y=\"459\"><mutation items=\"1\"></mutation><field name=\"VAR\" id=\"?=c^;wF+$g.4Z?#`=!.b\">sw</field><field name=\"MEMBER\">as_integer_ratio</field><data>sw:as_integer_ratio</data></block></xml>",
    "user_code_from_blocks": "df = pd.read_csv('datasets/iris.csv')\n\nsl = df['SepalLength']\n\nsl.undefined()\n\nsw = df.SepalWidth\n\nsw.as_integer_ratio()\n"
   },
   "outputs": [],
   "source": [
    "sl = df['SepalLength']\n",
    "\n",
    "sl.undefined()\n",
    "\n",
    "sw = df.SepalWidth\n",
    "\n",
    "sw.as_integer_ratio()\n",
    "\n",
    "#<xml xmlns=\"https://developers.google.com/blockly/xml\"><variables><variable id=\"CA!Q$oN[]8p-|fEA7na|\">df</variable><variable id=\"ku#PM`EX-Rq:eCd#P@O[\">sl</variable><variable id=\"?=c^;wF+$g.4Z?#`=!.b\">sw</variable><variable id=\"oIoZ:~IYMv}UCdRU.n)Z\">pd</variable></variables><block type=\"variables_set\" id=\"i*_nJ2lyQu_l7kM2SG0h\" x=\"-18\" y=\"112\"><field name=\"VAR\" id=\"CA!Q$oN[]8p-|fEA7na|\">df</field><value name=\"VALUE\"><block type=\"varDoMethod\" id=\"{VQfx)P*`yo^8kl]HBqx\"><mutation items=\"1\"></mutation><field name=\"VAR\" id=\"oIoZ:~IYMv}UCdRU.n)Z\">pd</field><field name=\"MEMBER\">read_csv</field><data>pd:read_csv</data><value name=\"ADD0\"><block type=\"text\" id=\"kT1^mlW|K8kC=#VR{?l2\"><field name=\"TEXT\">datasets/iris.csv</field></block></value></block></value></block><block type=\"variables_set\" id=\"%*-WcI(wk1B{)HvQL=Q-\" x=\"-17\" y=\"212\"><field name=\"VAR\" id=\"ku#PM`EX-Rq:eCd#P@O[\">sl</field><value name=\"VALUE\"><block type=\"indexer\" id=\"yT=~PJqFM30wlKj*Ld)e\"><field name=\"VAR\" id=\"CA!Q$oN[]8p-|fEA7na|\">df</field><value name=\"INDEX\"><block type=\"text\" id=\"X56G7xvCihC2w90@WOU-\"><field name=\"TEXT\">SepalLength</field></block></value></block></value></block><block type=\"varDoMethod\" id=\"ls6Js4:SWJ[$IS=6o,fL\" x=\"-23\" y=\"319\"><mutation items=\"1\"></mutation><field name=\"VAR\" id=\"ku#PM`EX-Rq:eCd#P@O[\">sl</field><field name=\"MEMBER\">undefined</field><data>sl:undefined</data></block><block type=\"variables_set\" id=\"QqOY_|Z;EI:MzSJR4_w,\" x=\"-21\" y=\"407\"><field name=\"VAR\" id=\"?=c^;wF+$g.4Z?#`=!.b\">sw</field><value name=\"VALUE\"><block type=\"varGetProperty\" id=\"Z)O2d{wnQU{q1o|VA$1@\"><field name=\"VAR\" id=\"CA!Q$oN[]8p-|fEA7na|\">df</field><field name=\"MEMBER\">SepalWidth</field><data>df:SepalWidth</data></block></value></block><block type=\"varDoMethod\" id=\"(Oo^H7GB~XaPLxV%^yv|\" x=\"-24\" y=\"459\"><mutation items=\"1\"></mutation><field name=\"VAR\" id=\"?=c^;wF+$g.4Z?#`=!.b\">sw</field><field name=\"MEMBER\">as_integer_ratio</field><data>sw:as_integer_ratio</data></block></xml>"
   ]
  },
  {
   "cell_type": "code",
   "execution_count": null,
   "id": "003653c9-6698-4db6-b396-8f95afafc1b5",
   "metadata": {
    "user_blocks": [
     "varDoMethod"
    ],
    "user_blocks_xml": "<xml xmlns=\"https://developers.google.com/blockly/xml\"><variables><variable id=\"?=c^;wF+$g.4Z?#`=!.b\">sw</variable></variables><block type=\"varDoMethod\" id=\"%-R{aTsx:nCIe775MP)C\" x=\"183\" y=\"112\"><mutation items=\"1\"></mutation><field name=\"VAR\" id=\"?=c^;wF+$g.4Z?#`=!.b\">sw</field><field name=\"MEMBER\">undefined</field><data>sw:undefined</data></block></xml>",
    "user_code_from_blocks": "sw.undefined()\n"
   },
   "outputs": [],
   "source": [
    "sw.undefined()\n",
    "\n",
    "#<xml xmlns=\"https://developers.google.com/blockly/xml\"><variables><variable id=\"?=c^;wF+$g.4Z?#`=!.b\">sw</variable></variables><block type=\"varDoMethod\" id=\"%-R{aTsx:nCIe775MP)C\" x=\"183\" y=\"112\"><mutation items=\"1\"></mutation><field name=\"VAR\" id=\"?=c^;wF+$g.4Z?#`=!.b\">sw</field><field name=\"MEMBER\">undefined</field><data>sw:undefined</data></block></xml>"
   ]
  },
  {
   "cell_type": "code",
   "execution_count": 24,
   "id": "3f849390-52ca-4215-b6df-cb7f9aa9e218",
   "metadata": {
    "user_blocks": [
     "text"
    ],
    "user_blocks_xml": "<xml xmlns=\"https://developers.google.com/blockly/xml\"><block type=\"text\" id=\"dlRoMN%q5(!y;-aE~2?$\" x=\"8\" y=\"8\"><field name=\"TEXT\">hi</field></block></xml>",
    "user_code_from_blocks": "'hi'\n"
   },
   "outputs": [
    {
     "data": {
      "text/plain": [
       "'hi'"
      ]
     },
     "execution_count": 24,
     "metadata": {},
     "output_type": "execute_result"
    }
   ],
   "source": [
    "'hi'\n",
    "\n",
    "#<xml xmlns=\"https://developers.google.com/blockly/xml\"><block type=\"text\" id=\"dlRoMN%q5(!y;-aE~2?$\" x=\"8\" y=\"8\"><field name=\"TEXT\">hi</field></block></xml>"
   ]
  },
  {
   "cell_type": "code",
   "execution_count": null,
   "id": "c7ef21c4-6f7f-400f-9660-58ab29faf68b",
   "metadata": {},
   "outputs": [],
   "source": []
  }
 ],
 "metadata": {
  "kernelspec": {
   "display_name": "Python 3 (ipykernel)",
   "language": "python",
   "name": "python3"
  },
  "language_info": {
   "codemirror_mode": {
    "name": "ipython",
    "version": 3
   },
   "file_extension": ".py",
   "mimetype": "text/x-python",
   "name": "python",
   "nbconvert_exporter": "python",
   "pygments_lexer": "ipython3",
   "version": "3.10.6"
  }
 },
 "nbformat": 4,
 "nbformat_minor": 5
}
