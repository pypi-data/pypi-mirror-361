{
 "cells": [
  {
   "cell_type": "code",
   "execution_count": 2,
   "metadata": {},
   "outputs": [
    {
     "name": "stdout",
     "output_type": "stream",
     "text": [
      "c:\\Users\\gustav.wiberg\\Documents\\GitHub\\Python\\Arenz_Group_Python\\tests\n"
     ]
    }
   ],
   "source": [
    "import numpy as np\n",
    "import pandas as pd\n",
    "import matplotlib.pyplot as plt\n",
    "from nptdms import TdmsFile\n",
    "from pathlib import Path\n",
    "import os\n",
    "# importing sys\n",
    "import sys\n",
    "\n",
    "from nptdms import TdmsFile\n",
    "\n",
    "nb_path = Path.cwd()\n",
    "print(nb_path)"
   ]
  },
  {
   "cell_type": "code",
   "execution_count": 9,
   "metadata": {},
   "outputs": [
    {
     "name": "stdout",
     "output_type": "stream",
     "text": [
      "c:\\Users\\gustav.wiberg\\Documents\\GitHub\\Python\\Arenz_Group_Python\\tests\\data\\Steps_102346.tdms\n",
      "True\n",
      "get channel\n",
      "(array([ 0.     ,  0.09999,  0.19998,  0.29997,  0.39996,  0.49995,\n",
      "        0.59994,  0.69993,  0.79992,  0.89991,  0.9999 ,  1.09989,\n",
      "        1.19988,  1.29987,  1.39986,  1.49985,  1.59984,  1.69983,\n",
      "        1.79982,  1.89981,  1.9998 ,  2.09979,  2.19978,  2.29977,\n",
      "        2.39976,  2.49975,  2.59974,  2.69973,  2.79972,  2.89971,\n",
      "        2.9997 ,  3.09969,  3.19968,  3.29967,  3.39966,  3.49965,\n",
      "        3.59964,  3.69963,  3.79962,  3.89961,  3.9996 ,  4.09959,\n",
      "        4.19958,  4.29957,  4.39956,  4.49955,  4.59954,  4.69953,\n",
      "        4.79952,  4.89951,  4.9995 ,  5.09949,  5.19948,  5.29947,\n",
      "        5.39946,  5.49945,  5.59944,  5.69943,  5.79942,  5.89941,\n",
      "        5.9994 ,  6.09939,  6.19938,  6.29937,  6.39936,  6.49935,\n",
      "        6.59934,  6.69933,  6.79932,  6.89931,  6.9993 ,  7.09929,\n",
      "        7.19928,  7.29927,  7.39926,  7.49925,  7.59924,  7.69923,\n",
      "        7.79922,  7.89921,  7.9992 ,  8.09919,  8.19918,  8.29917,\n",
      "        8.39916,  8.49915,  8.59914,  8.69913,  8.79912,  8.89911,\n",
      "        8.9991 ,  9.09909,  9.19908,  9.29907,  9.39906,  9.49905,\n",
      "        9.59904,  9.69903,  9.79902,  9.89901,  9.999  , 10.09899,\n",
      "       10.19898, 10.29897, 10.39896, 10.49895, 10.59894, 10.69893,\n",
      "       10.79892, 10.89891, 10.9989 , 11.09889, 11.19888, 11.29887,\n",
      "       11.39886, 11.49885, 11.59884, 11.69883, 11.79882, 11.89881,\n",
      "       11.9988 , 12.09879, 12.19878, 12.29877, 12.39876, 12.49875,\n",
      "       12.59874, 12.69873, 12.79872, 12.89871, 12.9987 , 13.09869,\n",
      "       13.19868, 13.29867, 13.39866, 13.49865, 13.59864, 13.69863,\n",
      "       13.79862, 13.89861, 13.9986 , 14.09859, 14.19858, 14.29857,\n",
      "       14.39856, 14.49855, 14.59854, 14.69853, 14.79852, 14.89851],\n",
      "      dtype=float32), 't', 's')\n"
     ]
    }
   ],
   "source": [
    "\n",
    "\n",
    "\n",
    "\n",
    "class EC_Data:\n",
    "    def __init__(self, path):\n",
    "        self._area=1\n",
    "        self._area_unit=\"cm^2\"\n",
    "        self.U=[]\n",
    "        try:\n",
    "            tdms_file = TdmsFile.read(path)\n",
    "            tdms_file.close()\n",
    "            self.path = str(path)\n",
    "            self.Time = tdms_file['EC']['Time'].data\n",
    "            self.i = tdms_file['EC']['i'].data\n",
    "            self.E = tdms_file['EC']['E'].data\n",
    "            self.name = tdms_file.properties['name']\n",
    "            try:\n",
    "                self.U = tdms_file['EC']['U1'].data\n",
    "            except KeyError:\n",
    "                pass\n",
    "        except FileNotFoundError :\n",
    "            print(f\"TDMS file was not found: {path}\")\n",
    "        except KeyError as e: \n",
    "            print(f\"TDMS error: {e}\") \n",
    "\n",
    "    def get_channel(self,datachannel):\n",
    "        match datachannel:\n",
    "            case \"Time\":\n",
    "                return self.Time,\"t\",\"s\"\n",
    "            case \"E\":\n",
    "                return self.E, \"E\", \"V\"\n",
    "            case \"U\":\n",
    "                return self.U,\"E\", \"V\"\n",
    "            case \"i\":\n",
    "                return self.i,\"i\", \"A\"\n",
    "            case \"j\":\n",
    "                return self.i/self._area, \"j\", f\"A/{self._area_unit}\"\n",
    "            case _:\n",
    "                raise NameError(\"The channel name is not supported\")\n",
    "                #return np.array([2]), \"No channel\", \"No channel\"\n",
    "\n",
    "\n",
    "    def plot2(self, x_channel,y_channel):\n",
    "        xlable =\"wrong channel name\"\n",
    "        xunit = \"wrong channel name\"\n",
    "        ylable =\"wrong channel name\"\n",
    "        yunit = \"wrong channel name\"\n",
    "        try:\n",
    "            xdata,xlable,xunit = self.get_channel(x_channel)\n",
    "        except NameError as e:\n",
    "            print(f\"xchannel {x_channel} not supported\") \n",
    "        finally:\n",
    "            try:\n",
    "                ydata,ylable,yunit = self.get_channel(y_channel)\n",
    "            except NameError as e:\n",
    "                print(f\"ychannel {y_channel} not supported\") \n",
    "        #except :\n",
    "           \n",
    "        #finally:\n",
    "             \n",
    "            fig = plt.figure()\n",
    "            plt.suptitle(self.name)\n",
    "            ax = fig.subplots()\n",
    "            try:\n",
    "                ax.plot(xdata,ydata)\n",
    "            except:\n",
    "                pass\n",
    "            ax.set_xlabel(f'{xlable} / {xunit}')\n",
    "            ax.set_ylabel(f'{ylable} / {yunit}')\n",
    "            return ax\n",
    "    \n",
    "    def plot(self, plotType):\n",
    "        fig = plt.figure()\n",
    "        ax = fig.subplots()\n",
    "        match plotType:\n",
    "            case \"i_v_E\":\n",
    "                ax.plot(self.data('E'),self.i)\n",
    "                ax.set_xlabel('E / V')\n",
    "                ax.set_ylabel('i / A')\n",
    "                return ax\n",
    "            case \"i_v_t\":\n",
    "                ax.plot(self.Time,self.i)\n",
    "                ax.set_xlabel('Time / s')\n",
    "                ax.set_ylabel('i / A')\n",
    "                return ax\n",
    "            case \"E_v_t\":\n",
    "                ax.plot(self.Time,self.E)\n",
    "                ax.set_xlabel('Time / s')\n",
    "                ax.set_ylabel('E / V')\n",
    "                return ax\n",
    "        \n",
    "\n",
    "\n",
    "\n",
    "\n",
    "test_file_path = nb_path  / 'data'/ 'Steps_102346.tdms'\n",
    "print(test_file_path)\n",
    "print(test_file_path.exists())\n",
    "#data in the folder, e.g.\n",
    "test_dataSet = EC_Data(test_file_path)\n",
    "print(\"get channel\")\n",
    "print(test_dataSet.get_channel(\"Time\"))\n",
    "\n",
    "#test_dataSet.plot2(\"Time\",\"k\")\n",
    " \n",
    "#test_dataSet.plot(\"i_v_t\")\n",
    "        "
   ]
  },
  {
   "cell_type": "code",
   "execution_count": null,
   "metadata": {},
   "outputs": [],
   "source": [
    "xa = np.linspace(-2.5, 2.5, 30)\n",
    "yinterp = np.interp(xvals, x, y)"
   ]
  },
  {
   "cell_type": "code",
   "execution_count": 4,
   "metadata": {},
   "outputs": [
    {
     "name": "stdout",
     "output_type": "stream",
     "text": [
      "ychannel i1 not supported\n"
     ]
    },
    {
     "data": {
      "text/plain": [
       "<Axes: xlabel='t / s', ylabel='wrong channel name / wrong channel name'>"
      ]
     },
     "execution_count": 4,
     "metadata": {},
     "output_type": "execute_result"
    },
    {
     "data": {
      "image/png": "[encoded data removed]",
      "text/plain": [
       "<Figure size 640x480 with 1 Axes>"
      ]
     },
     "metadata": {},
     "output_type": "display_data"
    }
   ],
   "source": [
    "test_dataSet.plot2(\"Time\",\"i1\")"
   ]
  },
  {
   "cell_type": "code",
   "execution_count": 8,
   "metadata": {},
   "outputs": [
    {
     "data": {
      "image/png": "[encoded data removed]",
      "text/plain": [
       "<Figure size 640x480 with 1 Axes>"
      ]
     },
     "metadata": {},
     "output_type": "display_data"
    }
   ],
   "source": [
    "x = np.linspace(0, 2*np.pi, 10)\n",
    "y = np.sin(x)\n",
    "xvals = np.linspace(0, 2*np.pi, 50)\n",
    "yinterp = np.interp(xvals, x, y)\n",
    "import matplotlib.pyplot as plt\n",
    "plt.plot(x, y, 'o')\n",
    "\n",
    "plt.plot(xvals, yinterp, '-x')\n",
    "\n",
    "plt.show()\n",
    "\n",
    "xa = np.linspace(-2.5, 2.5, 30)\n",
    "yinterp = np.interp(xvals, x, y)"
   ]
  },
  {
   "cell_type": "code",
   "execution_count": 20,
   "metadata": {},
   "outputs": [
    {
     "name": "stdout",
     "output_type": "stream",
     "text": [
      "{'a': 5.0}\n",
      "{'b': 5.0}\n",
      "{'': 1.0}\n",
      "{'': 1.0}\n",
      " a^5.0 b^5.0\n"
     ]
    }
   ],
   "source": [
    "def get_unit_and_exponent(s:str):\n",
    "    aa = s.split(\"^\",2)\n",
    "    nyckel = aa[0]\n",
    "    sign = 1\n",
    "    fac =  1.0\n",
    "    if nyckel.startswith(\"/\"):\n",
    "        nyckel = nyckel[1:]\n",
    "        sign = -1\n",
    "    if len(aa)>1:                   #if \"^\" was found.\n",
    "        fac = float(aa[1]) \n",
    "    return nyckel, sign*fac\n",
    "\n",
    "    \n",
    "def quantity_fix(s:str, factor:float = 1):\n",
    "    list_of_quantities = s.split(\" \", 100)\n",
    "    k={}\n",
    "    for single_quantity in list_of_quantities:\n",
    "        nyckel, exponent = get_unit_and_exponent(single_quantity)\n",
    "        val = float(k.get(nyckel, 0))  \n",
    "        k[nyckel] = val + exponent\n",
    "    prep={} \n",
    "    for key, value in k.items():\n",
    "        if int(value*100) != 0:\n",
    "            prep[key] = value * factor\n",
    "    sr =\"\"\n",
    "    #print (\"quantity_fix:\",prep)  \n",
    "    for key, value in prep.items():\n",
    "        if int(value*10) == 10:\n",
    "            sr = sr +\" \" + key\n",
    "        elif int(value) == value:\n",
    "            sr = sr+ f' {key}^{value:.0f}'\n",
    "        else:\n",
    "            sr = sr+ f' {key}^{value:.1f}'\n",
    "    return sr.strip()\n",
    "\n",
    "class symbols:\n",
    "    def __init__(self,s:str=\"\"):\n",
    "        self.symbols = {}\n",
    "        list_of_quantities = s.split(\" \", 100)\n",
    "        k={}\n",
    "        for single_quantity in list_of_quantities:\n",
    "            nyckel, exponent = get_unit_and_exponent(single_quantity)\n",
    "            val = float(k.get(nyckel, 0))  \n",
    "            k[nyckel] = val + exponent\n",
    "        self.symbols = k.copy()\n",
    "        print(k)\n",
    "        \n",
    "    def __str__(self) -> str:\n",
    "        s =\"\"\n",
    "        for x, y in self.symbols.items():\n",
    "            #print(x,y)\n",
    "            s = s + \" \" + f'{x}^{y}' \n",
    "        return s\n",
    "    \n",
    "    def __add__(self, other):\n",
    "        #s = quantity_fix(self.symbols + other.symbols)             \n",
    "        k=symbols()\n",
    "        k=self.symbols\n",
    "        for quantity,exponent in other.symbols.items():\n",
    "            val = float(self.symbols.get(quantity, 0))  \n",
    "            k[quantity] = val + exponent\n",
    "        r = symbols()\n",
    "        r.symbols = k\n",
    "        return r \n",
    "    \n",
    "    def __pow__(self, other):\n",
    "        k=symbols()\n",
    "        k=self.symbols\n",
    "        for quantity,exponent in other.symbols.items():\n",
    "            val = float(self.symbols.get(quantity, 0))  \n",
    "            k[quantity] = val + exponent\n",
    "        r = symbols()\n",
    "        r.symbols = k\n",
    "        return r \n",
    "    \n",
    "a = symbols(\"a^5\")\n",
    "b = symbols(\"b^5\")\n",
    "c = a+b\n",
    "print(c)"
   ]
  }
 ],
 "metadata": {
  "kernelspec": {
   "display_name": "Python 3",
   "language": "python",
   "name": "python3"
  },
  "language_info": {
   "codemirror_mode": {
    "name": "ipython",
    "version": 3
   },
   "file_extension": ".py",
   "mimetype": "text/x-python",
   "name": "python",
   "nbconvert_exporter": "python",
   "pygments_lexer": "ipython3",
   "version": "3.11.9"
  }
 },
 "nbformat": 4,
 "nbformat_minor": 2
}
