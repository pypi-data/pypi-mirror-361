{
 "cells": [
  {
   "cell_type": "code",
   "execution_count": 1,
   "id": "8901c2fd-057e-4b7a-be73-d69ffd72706e",
   "metadata": {},
   "outputs": [],
   "source": [
    "import sys\n",
    "sys.path.append(\"../\")\n",
    "import pandas as pd\n",
    "import matplotlib.pyplot as plt"
   ]
  },
  {
   "cell_type": "code",
   "execution_count": 2,
   "id": "61a492ba-75ce-44aa-a078-552a2549881d",
   "metadata": {},
   "outputs": [],
   "source": [
    "df_stroke = pd.read_csv(r\"data/stroke_pre/stroke.csv\")"
   ]
  },
  {
   "cell_type": "code",
   "execution_count": 3,
   "id": "2fe4a6d3-3acd-4a73-a120-353716a78537",
   "metadata": {},
   "outputs": [
    {
     "name": "stdout",
     "output_type": "stream",
     "text": [
      "<class 'pandas.core.frame.DataFrame'>\n",
      "RangeIndex: 1883 entries, 0 to 1882\n",
      "Data columns (total 11 columns):\n",
      " #   Column             Non-Null Count  Dtype  \n",
      "---  ------             --------------  -----  \n",
      " 0   gender             1883 non-null   int64  \n",
      " 1   age                1883 non-null   int64  \n",
      " 2   hypertension       1883 non-null   int64  \n",
      " 3   heart_disease      1883 non-null   int64  \n",
      " 4   ever_married       1883 non-null   int64  \n",
      " 5   work_type          1883 non-null   int64  \n",
      " 6   Residence_type     1883 non-null   int64  \n",
      " 7   avg_glucose_level  1883 non-null   float64\n",
      " 8   bmi                1883 non-null   float64\n",
      " 9   smoking_status     1883 non-null   int64  \n",
      " 10  stroke             1883 non-null   int64  \n",
      "dtypes: float64(2), int64(9)\n",
      "memory usage: 161.9 KB\n"
     ]
    }
   ],
   "source": [
    "df_stroke.info()"
   ]
  },
  {
   "cell_type": "code",
   "execution_count": 4,
   "id": "7024c79f-aed0-4a3f-a858-cbfcfe01d6f9",
   "metadata": {},
   "outputs": [
    {
     "name": "stderr",
     "output_type": "stream",
     "text": [
      "c:\\Users\\enemy\\anaconda3\\envs\\test\\Lib\\site-packages\\inFairness\\utils\\ndcg.py:37: FutureWarning: We've integrated functorch into PyTorch. As the final step of the integration, `functorch.vmap` is deprecated as of PyTorch 2.0 and will be deleted in a future version of PyTorch >= 2.3. Please use `torch.vmap` instead; see the PyTorch 2.0 release notes and/or the `torch.func` migration guide for more details https://pytorch.org/docs/main/func.migrating.html\n",
      "  vect_normalized_discounted_cumulative_gain = vmap(\n",
      "c:\\Users\\enemy\\anaconda3\\envs\\test\\Lib\\site-packages\\inFairness\\utils\\ndcg.py:48: FutureWarning: We've integrated functorch into PyTorch. As the final step of the integration, `functorch.vmap` is deprecated as of PyTorch 2.0 and will be deleted in a future version of PyTorch >= 2.3. Please use `torch.vmap` instead; see the PyTorch 2.0 release notes and/or the `torch.func` migration guide for more details https://pytorch.org/docs/main/func.migrating.html\n",
      "  monte_carlo_vect_ndcg = vmap(vect_normalized_discounted_cumulative_gain, in_dims=(0,))\n"
     ]
    },
    {
     "name": "stdout",
     "output_type": "stream",
     "text": [
      "WARNING:tensorflow:From c:\\Users\\enemy\\OneDrive - University of Calgary\\UofC\\research\\acm_facct\\fairness_search\\examples\\..\\callmefair\\mitigation\\fair_grid.py:56: The name tf.disable_eager_execution is deprecated. Please use tf.compat.v1.disable_eager_execution instead.\n",
      "\n"
     ]
    }
   ],
   "source": [
    "from callmefair.search.fair_search import BiasSearch\n",
    "\n",
    "dfbias = BiasSearch(df_stroke, 'stroke', ['age', 'gender', 'ever_married', 'Residence_type']) "
   ]
  },
  {
   "cell_type": "code",
   "execution_count": 5,
   "id": "ea09790b-1a2a-40ac-b75e-adc87fafc59e",
   "metadata": {},
   "outputs": [
    {
     "name": "stderr",
     "output_type": "stream",
     "text": [
      "100%|██████████| 10/10 [00:16<00:00,  1.68s/it]\n",
      "100%|██████████| 10/10 [00:16<00:00,  1.60s/it]\n",
      "100%|██████████| 10/10 [00:18<00:00,  1.84s/it]\n",
      "100%|██████████| 10/10 [00:16<00:00,  1.63s/it]\n"
     ]
    },
    {
     "name": "stdout",
     "output_type": "stream",
     "text": [
      "+----------------+--------------------+---------------------------+\n",
      "|   Attribute    | Raw Fairness Score | Normalized Fairness score |\n",
      "+----------------+--------------------+---------------------------+\n",
      "|      age       | 4.699663740694194  |            1.0            |\n",
      "|  ever_married  | 3.3023492018496796 |            1.0            |\n",
      "|     gender     | 1.7199857490709511 |     0.8667000000000001    |\n",
      "| Residence_type | 1.0386857718192868 |           0.5622          |\n",
      "+----------------+--------------------+---------------------------+\n"
     ]
    }
   ],
   "source": [
    "tab_lr, printable = dfbias.evaluate_average(model_name='lr')\n",
    "printable"
   ]
  },
  {
   "cell_type": "code",
   "execution_count": 6,
   "id": "9211ddbb",
   "metadata": {},
   "outputs": [
    {
     "name": "stderr",
     "output_type": "stream",
     "text": [
      " 90%|█████████ | 9/10 [00:02<00:00,  4.15it/s]\n",
      " 90%|█████████ | 9/10 [00:02<00:00,  4.23it/s]\n",
      " 90%|█████████ | 9/10 [00:03<00:00,  2.89it/s]\n",
      " 90%|█████████ | 9/10 [00:02<00:00,  3.07it/s]\n"
     ]
    },
    {
     "data": {
      "text/html": [
       "<table>\n",
       "    <thead>\n",
       "        <tr>\n",
       "            <th>Attribute</th>\n",
       "            <th>Raw Fairness Score</th>\n",
       "            <th>Normalized Fairness score</th>\n",
       "        </tr>\n",
       "    </thead>\n",
       "    <tbody>\n",
       "        <tr>\n",
       "            <td>age</td>\n",
       "            <td>4.610286166471983</td>\n",
       "            <td>1.0</td>\n",
       "        </tr>\n",
       "        <tr>\n",
       "            <td>ever_married</td>\n",
       "            <td>2.958753512366059</td>\n",
       "            <td>1.0</td>\n",
       "        </tr>\n",
       "        <tr>\n",
       "            <td>gender</td>\n",
       "            <td>1.081296157964634</td>\n",
       "            <td>0.5748</td>\n",
       "        </tr>\n",
       "        <tr>\n",
       "            <td>Residence_type</td>\n",
       "            <td>1.0520962628028352</td>\n",
       "            <td>0.5799</td>\n",
       "        </tr>\n",
       "    </tbody>\n",
       "</table>"
      ],
      "text/plain": [
       "+----------------+--------------------+---------------------------+\n",
       "|   Attribute    | Raw Fairness Score | Normalized Fairness score |\n",
       "+----------------+--------------------+---------------------------+\n",
       "|      age       | 4.610286166471983  |            1.0            |\n",
       "|  ever_married  | 2.958753512366059  |            1.0            |\n",
       "|     gender     | 1.081296157964634  |           0.5748          |\n",
       "| Residence_type | 1.0520962628028352 |           0.5799          |\n",
       "+----------------+--------------------+---------------------------+"
      ]
     },
     "execution_count": 6,
     "metadata": {},
     "output_type": "execute_result"
    }
   ],
   "source": [
    "tab_xgb, printable = dfbias.evaluate_average(model_name='xgb')\n",
    "printable"
   ]
  },
  {
   "cell_type": "code",
   "execution_count": 7,
   "id": "5ac5a372",
   "metadata": {},
   "outputs": [
    {
     "name": "stderr",
     "output_type": "stream",
     "text": [
      "100%|██████████| 10/10 [00:45<00:00,  4.52s/it]\n",
      "100%|██████████| 10/10 [00:39<00:00,  3.94s/it]\n",
      "100%|██████████| 10/10 [00:41<00:00,  4.12s/it]\n",
      "100%|██████████| 10/10 [00:44<00:00,  4.42s/it]\n",
      " 90%|█████████ | 9/10 [00:00<00:00, 10.61it/s]\n",
      " 90%|█████████ | 9/10 [00:00<00:00, 14.13it/s]\n",
      " 90%|█████████ | 9/10 [00:00<00:00, 14.59it/s]\n",
      " 90%|█████████ | 9/10 [00:00<00:00, 14.79it/s]\n"
     ]
    }
   ],
   "source": [
    "tab_mlp, _ = dfbias.evaluate_average(model_name='mlp')\n",
    "tab_cat, _ = dfbias.evaluate_average(model_name='cat')"
   ]
  },
  {
   "cell_type": "code",
   "execution_count": 8,
   "id": "7b09495a-0367-440d-9252-842972a7a768",
   "metadata": {},
   "outputs": [
    {
     "name": "stderr",
     "output_type": "stream",
     "text": [
      "100%|██████████| 10/10 [00:17<00:00,  1.76s/it]\n",
      "100%|██████████| 10/10 [00:19<00:00,  1.90s/it]\n",
      "100%|██████████| 10/10 [00:18<00:00,  1.86s/it]\n",
      "100%|██████████| 10/10 [00:17<00:00,  1.71s/it]\n",
      "100%|██████████| 10/10 [00:16<00:00,  1.61s/it]\n"
     ]
    },
    {
     "data": {
      "text/html": [
       "<table>\n",
       "    <thead>\n",
       "        <tr>\n",
       "            <th>Operator</th>\n",
       "            <th>Attribute</th>\n",
       "            <th>Raw Fairness Score</th>\n",
       "            <th>Normalized Fairness score</th>\n",
       "        </tr>\n",
       "    </thead>\n",
       "    <tbody>\n",
       "        <tr>\n",
       "            <td>union</td>\n",
       "            <td>age_gender</td>\n",
       "            <td>0.41245430412522727</td>\n",
       "            <td>0.1</td>\n",
       "        </tr>\n",
       "        <tr>\n",
       "            <td>intersection</td>\n",
       "            <td>age_gender</td>\n",
       "            <td>0.40938270165763574</td>\n",
       "            <td>0.1</td>\n",
       "        </tr>\n",
       "        <tr>\n",
       "            <td>difference_1_minus_2</td>\n",
       "            <td>age_gender</td>\n",
       "            <td>0.4216441865283567</td>\n",
       "            <td>0.1</td>\n",
       "        </tr>\n",
       "        <tr>\n",
       "            <td>difference_2_minus_1</td>\n",
       "            <td>age_gender</td>\n",
       "            <td>0.15559311305677218</td>\n",
       "            <td>0.07641</td>\n",
       "        </tr>\n",
       "        <tr>\n",
       "            <td>symmetric_difference</td>\n",
       "            <td>age_gender</td>\n",
       "            <td>0.22054747997948607</td>\n",
       "            <td>0.09178999999999998</td>\n",
       "        </tr>\n",
       "    </tbody>\n",
       "</table>"
      ],
      "text/plain": [
       "+----------------------+------------+---------------------+---------------------------+\n",
       "|       Operator       | Attribute  |  Raw Fairness Score | Normalized Fairness score |\n",
       "+----------------------+------------+---------------------+---------------------------+\n",
       "|        union         | age_gender | 0.41245430412522727 |            0.1            |\n",
       "|     intersection     | age_gender | 0.40938270165763574 |            0.1            |\n",
       "| difference_1_minus_2 | age_gender |  0.4216441865283567 |            0.1            |\n",
       "| difference_2_minus_1 | age_gender | 0.15559311305677218 |          0.07641          |\n",
       "| symmetric_difference | age_gender | 0.22054747997948607 |    0.09178999999999998    |\n",
       "+----------------------+------------+---------------------+---------------------------+"
      ]
     },
     "execution_count": 8,
     "metadata": {},
     "output_type": "execute_result"
    }
   ],
   "source": [
    "table, printable = dfbias.evaluate_combination_average('age','gender')\n",
    "printable"
   ]
  },
  {
   "cell_type": "code",
   "execution_count": 9,
   "id": "f0cd66a6-d698-43b6-b94f-6fb265452526",
   "metadata": {},
   "outputs": [
    {
     "name": "stderr",
     "output_type": "stream",
     "text": [
      "100%|██████████| 10/10 [00:17<00:00,  1.72s/it]\n",
      "100%|██████████| 10/10 [00:25<00:00,  2.59s/it]\n",
      "100%|██████████| 10/10 [00:20<00:00,  2.09s/it]\n",
      "100%|██████████| 10/10 [00:29<00:00,  2.94s/it]\n",
      "100%|██████████| 10/10 [00:18<00:00,  1.87s/it]\n"
     ]
    },
    {
     "data": {
      "text/html": [
       "<table>\n",
       "    <thead>\n",
       "        <tr>\n",
       "            <th>Operator</th>\n",
       "            <th>Attribute</th>\n",
       "            <th>Raw Fairness Score</th>\n",
       "            <th>Normalized Fairness score</th>\n",
       "        </tr>\n",
       "    </thead>\n",
       "    <tbody>\n",
       "        <tr>\n",
       "            <td>union</td>\n",
       "            <td>age_ever_married</td>\n",
       "            <td>0.4048276436030041</td>\n",
       "            <td>0.1</td>\n",
       "        </tr>\n",
       "        <tr>\n",
       "            <td>intersection</td>\n",
       "            <td>age_ever_married</td>\n",
       "            <td>0.5014214895403588</td>\n",
       "            <td>0.1</td>\n",
       "        </tr>\n",
       "        <tr>\n",
       "            <td>difference_1_minus_2</td>\n",
       "            <td>age_ever_married</td>\n",
       "            <td>0.4201610251957744</td>\n",
       "            <td>0.1</td>\n",
       "        </tr>\n",
       "        <tr>\n",
       "            <td>difference_2_minus_1</td>\n",
       "            <td>age_ever_married</td>\n",
       "            <td>0.22818359920508485</td>\n",
       "            <td>0.09666</td>\n",
       "        </tr>\n",
       "        <tr>\n",
       "            <td>symmetric_difference</td>\n",
       "            <td>age_ever_married</td>\n",
       "            <td>0.2112895951736487</td>\n",
       "            <td>0.09499</td>\n",
       "        </tr>\n",
       "    </tbody>\n",
       "</table>"
      ],
      "text/plain": [
       "+----------------------+------------------+---------------------+---------------------------+\n",
       "|       Operator       |    Attribute     |  Raw Fairness Score | Normalized Fairness score |\n",
       "+----------------------+------------------+---------------------+---------------------------+\n",
       "|        union         | age_ever_married |  0.4048276436030041 |            0.1            |\n",
       "|     intersection     | age_ever_married |  0.5014214895403588 |            0.1            |\n",
       "| difference_1_minus_2 | age_ever_married |  0.4201610251957744 |            0.1            |\n",
       "| difference_2_minus_1 | age_ever_married | 0.22818359920508485 |          0.09666          |\n",
       "| symmetric_difference | age_ever_married |  0.2112895951736487 |          0.09499          |\n",
       "+----------------------+------------------+---------------------+---------------------------+"
      ]
     },
     "execution_count": 9,
     "metadata": {},
     "output_type": "execute_result"
    }
   ],
   "source": [
    "table, printable = dfbias.evaluate_combination_average('age','ever_married')\n",
    "printable"
   ]
  },
  {
   "cell_type": "code",
   "execution_count": 10,
   "id": "d5417c39-0700-43a7-8a4b-9930226d9d65",
   "metadata": {},
   "outputs": [
    {
     "name": "stderr",
     "output_type": "stream",
     "text": [
      "100%|██████████| 10/10 [00:36<00:00,  3.61s/it]\n",
      "100%|██████████| 10/10 [00:28<00:00,  2.86s/it]\n",
      "100%|██████████| 10/10 [00:19<00:00,  1.91s/it]\n",
      "100%|██████████| 10/10 [00:21<00:00,  2.19s/it]\n",
      "c:\\Users\\enemy\\anaconda3\\envs\\test\\Lib\\site-packages\\aif360\\metrics\\dataset_metric.py:82: RuntimeWarning: divide by zero encountered in scalar divide\n",
      "  return metric_fun(privileged=False) / metric_fun(privileged=True)\n",
      "c:\\Users\\enemy\\anaconda3\\envs\\test\\Lib\\site-packages\\aif360\\metrics\\dataset_metric.py:82: RuntimeWarning: divide by zero encountered in scalar divide\n",
      "  return metric_fun(privileged=False) / metric_fun(privileged=True)\n",
      "100%|██████████| 10/10 [00:20<00:00,  2.08s/it]\n"
     ]
    },
    {
     "data": {
      "text/html": [
       "<table>\n",
       "    <thead>\n",
       "        <tr>\n",
       "            <th>Operator</th>\n",
       "            <th>Attribute</th>\n",
       "            <th>Raw Fairness Score</th>\n",
       "            <th>Normalized Fairness score</th>\n",
       "        </tr>\n",
       "    </thead>\n",
       "    <tbody>\n",
       "        <tr>\n",
       "            <td>union</td>\n",
       "            <td>ever_married_gender</td>\n",
       "            <td>0.2937450969995579</td>\n",
       "            <td>0.09999</td>\n",
       "        </tr>\n",
       "        <tr>\n",
       "            <td>intersection</td>\n",
       "            <td>ever_married_gender</td>\n",
       "            <td>0.22178163799225029</td>\n",
       "            <td>0.1</td>\n",
       "        </tr>\n",
       "        <tr>\n",
       "            <td>difference_1_minus_2</td>\n",
       "            <td>ever_married_gender</td>\n",
       "            <td>0.07935895500147121</td>\n",
       "            <td>0.044079999999999994</td>\n",
       "        </tr>\n",
       "        <tr>\n",
       "            <td>difference_2_minus_1</td>\n",
       "            <td>ever_married_gender</td>\n",
       "            <td>inf</td>\n",
       "            <td>0.1</td>\n",
       "        </tr>\n",
       "        <tr>\n",
       "            <td>symmetric_difference</td>\n",
       "            <td>ever_married_gender</td>\n",
       "            <td>0.11523578768768532</td>\n",
       "            <td>0.060329999999999995</td>\n",
       "        </tr>\n",
       "    </tbody>\n",
       "</table>"
      ],
      "text/plain": [
       "+----------------------+---------------------+---------------------+---------------------------+\n",
       "|       Operator       |      Attribute      |  Raw Fairness Score | Normalized Fairness score |\n",
       "+----------------------+---------------------+---------------------+---------------------------+\n",
       "|        union         | ever_married_gender |  0.2937450969995579 |          0.09999          |\n",
       "|     intersection     | ever_married_gender | 0.22178163799225029 |            0.1            |\n",
       "| difference_1_minus_2 | ever_married_gender | 0.07935895500147121 |    0.044079999999999994   |\n",
       "| difference_2_minus_1 | ever_married_gender |         inf         |            0.1            |\n",
       "| symmetric_difference | ever_married_gender | 0.11523578768768532 |    0.060329999999999995   |\n",
       "+----------------------+---------------------+---------------------+---------------------------+"
      ]
     },
     "execution_count": 10,
     "metadata": {},
     "output_type": "execute_result"
    }
   ],
   "source": [
    "table, printable = dfbias.evaluate_combination_average('ever_married','gender')\n",
    "printable"
   ]
  },
  {
   "cell_type": "code",
   "execution_count": null,
   "id": "ba372449-7fc5-4043-8a51-5ad396639527",
   "metadata": {},
   "outputs": [
    {
     "name": "stderr",
     "output_type": "stream",
     "text": [
      "100%|██████████| 10/10 [00:20<00:00,  2.02s/it]\n",
      "100%|██████████| 10/10 [00:19<00:00,  1.91s/it]\n",
      "100%|██████████| 10/10 [00:18<00:00,  1.89s/it]\n",
      "100%|██████████| 10/10 [00:20<00:00,  2.01s/it]\n",
      "100%|██████████| 10/10 [00:16<00:00,  1.64s/it]\n",
      "100%|██████████| 10/10 [00:16<00:00,  1.60s/it]\n",
      "100%|██████████| 10/10 [00:23<00:00,  2.37s/it]\n",
      "100%|██████████| 10/10 [00:18<00:00,  1.80s/it]\n",
      "100%|██████████| 10/10 [00:26<00:00,  2.67s/it]\n",
      "100%|██████████| 10/10 [00:24<00:00,  2.42s/it]\n"
     ]
    },
    {
     "data": {
      "text/html": [
       "<table>\n",
       "    <thead>\n",
       "        <tr>\n",
       "            <th>Attribute</th>\n",
       "            <th>Raw Fairness Score</th>\n",
       "            <th>Normalized Fairness score</th>\n",
       "        </tr>\n",
       "    </thead>\n",
       "    <tbody>\n",
       "        <tr>\n",
       "            <td>age_ever_married_Residence_type</td>\n",
       "            <td>4.756879262960779</td>\n",
       "            <td>1.0</td>\n",
       "        </tr>\n",
       "        <tr>\n",
       "            <td>age_gender_ever_married</td>\n",
       "            <td>4.6745058285120455</td>\n",
       "            <td>1.0</td>\n",
       "        </tr>\n",
       "        <tr>\n",
       "            <td>age_ever_married</td>\n",
       "            <td>4.636345538139436</td>\n",
       "            <td>1.0</td>\n",
       "        </tr>\n",
       "        <tr>\n",
       "            <td>age_gender</td>\n",
       "            <td>4.376058251071397</td>\n",
       "            <td>1.0</td>\n",
       "        </tr>\n",
       "        <tr>\n",
       "            <td>age_Residence_type</td>\n",
       "            <td>4.045986623607083</td>\n",
       "            <td>1.0</td>\n",
       "        </tr>\n",
       "        <tr>\n",
       "            <td>age_gender_Residence_type</td>\n",
       "            <td>3.902200531711169</td>\n",
       "            <td>1.0</td>\n",
       "        </tr>\n",
       "        <tr>\n",
       "            <td>gender_ever_married_Residence_type</td>\n",
       "            <td>2.7945514270164455</td>\n",
       "            <td>0.9938</td>\n",
       "        </tr>\n",
       "        <tr>\n",
       "            <td>gender_ever_married</td>\n",
       "            <td>2.3300531236552784</td>\n",
       "            <td>0.9786999999999999</td>\n",
       "        </tr>\n",
       "        <tr>\n",
       "            <td>ever_married_Residence_type</td>\n",
       "            <td>1.9478726012581418</td>\n",
       "            <td>0.9528000000000001</td>\n",
       "        </tr>\n",
       "        <tr>\n",
       "            <td>gender_Residence_type</td>\n",
       "            <td>1.5806791620707323</td>\n",
       "            <td>0.8052999999999999</td>\n",
       "        </tr>\n",
       "    </tbody>\n",
       "</table>"
      ],
      "text/plain": [
       "+------------------------------------+--------------------+---------------------------+\n",
       "|             Attribute              | Raw Fairness Score | Normalized Fairness score |\n",
       "+------------------------------------+--------------------+---------------------------+\n",
       "|  age_ever_married_Residence_type   | 4.756879262960779  |            1.0            |\n",
       "|      age_gender_ever_married       | 4.6745058285120455 |            1.0            |\n",
       "|          age_ever_married          | 4.636345538139436  |            1.0            |\n",
       "|             age_gender             | 4.376058251071397  |            1.0            |\n",
       "|         age_Residence_type         | 4.045986623607083  |            1.0            |\n",
       "|     age_gender_Residence_type      | 3.902200531711169  |            1.0            |\n",
       "| gender_ever_married_Residence_type | 2.7945514270164455 |           0.9938          |\n",
       "|        gender_ever_married         | 2.3300531236552784 |     0.9786999999999999    |\n",
       "|    ever_married_Residence_type     | 1.9478726012581418 |     0.9528000000000001    |\n",
       "|       gender_Residence_type        | 1.5806791620707323 |     0.8052999999999999    |\n",
       "+------------------------------------+--------------------+---------------------------+"
      ]
     },
     "execution_count": 11,
     "metadata": {},
     "output_type": "execute_result"
    }
   ],
   "source": [
    "table, printable = dfbias.evaluate_combinations()\n",
    "printable"
   ]
  },
  {
   "cell_type": "code",
   "execution_count": 13,
   "id": "2ad9fa10",
   "metadata": {},
   "outputs": [
    {
     "name": "stdout",
     "output_type": "stream",
     "text": [
      "[['Attribute', 'Raw Fairness Score', 'Normalized Fairness score'], ['age', np.float64(4.699663740694194), 1.0], ['gender', np.float64(1.7199857490709511), np.float64(0.8667000000000001)], ['ever_married', np.float64(3.3023492018496796), 1.0], ['Residence_type', np.float64(1.0386857718192868), np.float64(0.5622)], ['age_gender', np.float64(4.376058251071397), 1.0], ['age_ever_married', np.float64(4.636345538139436), 1.0], ['age_Residence_type', np.float64(4.045986623607083), 1.0], ['gender_ever_married', np.float64(2.3300531236552784), np.float64(0.9786999999999999)], ['gender_Residence_type', np.float64(1.5806791620707323), np.float64(0.8052999999999999)], ['ever_married_Residence_type', np.float64(1.9478726012581418), np.float64(0.9528000000000001)], ['age_gender_ever_married', np.float64(4.6745058285120455), 1.0], ['age_gender_Residence_type', np.float64(3.902200531711169), 1.0], ['age_ever_married_Residence_type', np.float64(4.756879262960779), 1.0], ['gender_ever_married_Residence_type', np.float64(2.7945514270164455), np.float64(0.9938)]]\n"
     ]
    }
   ],
   "source": [
    "tab1, tab2 = tab_lr, table[1:]\n",
    "tab_final = [*tab1, *tab2]\n",
    "print(tab_final)"
   ]
  },
  {
   "cell_type": "code",
   "execution_count": 15,
   "id": "387e1b84-87e8-42a3-82c7-d51c33b75a1e",
   "metadata": {
    "scrolled": true
   },
   "outputs": [
    {
     "data": {
      "application/vnd.plotly.v1+json": {
       "config": {
        "plotlyServerURL": "https://plot.ly"
       },
       "data": [
        {
         "marker": {
          "color": "#1f77b4",
          "line": {
           "color": [
            "red",
            "green",
            "red",
            "green"
           ],
           "width": 3
          }
         },
         "name": "Group 1",
         "type": "bar",
         "x": [
          0,
          1,
          2,
          3
         ],
         "y": [
          4.699663740694194,
          1.7199857490709511,
          3.3023492018496796,
          1.0386857718192868
         ]
        },
        {
         "marker": {
          "color": "#ff7f0e",
          "line": {
           "color": [
            "red",
            "red",
            "red",
            "green",
            "green",
            "green",
            "red",
            "red",
            "red",
            "green"
           ],
           "width": 3
          }
         },
         "name": "Group 2",
         "type": "bar",
         "x": [
          5,
          6,
          7,
          8,
          9,
          10,
          11,
          12,
          13,
          14
         ],
         "y": [
          4.376058251071397,
          4.636345538139436,
          4.045986623607083,
          2.3300531236552784,
          1.5806791620707323,
          1.9478726012581418,
          4.6745058285120455,
          3.902200531711169,
          4.756879262960779,
          2.7945514270164455
         ]
        }
       ],
       "layout": {
        "bargap": 0.25,
        "shapes": [
         {
          "line": {
           "color": "gray",
           "dash": "dot",
           "width": 2
          },
          "type": "line",
          "x0": 4,
          "x1": 4,
          "xref": "x",
          "y0": 0,
          "y1": 1,
          "yref": "paper"
         }
        ],
        "template": {
         "data": {
          "bar": [
           {
            "error_x": {
             "color": "#2a3f5f"
            },
            "error_y": {
             "color": "#2a3f5f"
            },
            "marker": {
             "line": {
              "color": "#E5ECF6",
              "width": 0.5
             },
             "pattern": {
              "fillmode": "overlay",
              "size": 10,
              "solidity": 0.2
             }
            },
            "type": "bar"
           }
          ],
          "barpolar": [
           {
            "marker": {
             "line": {
              "color": "#E5ECF6",
              "width": 0.5
             },
             "pattern": {
              "fillmode": "overlay",
              "size": 10,
              "solidity": 0.2
             }
            },
            "type": "barpolar"
           }
          ],
          "carpet": [
           {
            "aaxis": {
             "endlinecolor": "#2a3f5f",
             "gridcolor": "white",
             "linecolor": "white",
             "minorgridcolor": "white",
             "startlinecolor": "#2a3f5f"
            },
            "baxis": {
             "endlinecolor": "#2a3f5f",
             "gridcolor": "white",
             "linecolor": "white",
             "minorgridcolor": "white",
             "startlinecolor": "#2a3f5f"
            },
            "type": "carpet"
           }
          ],
          "choropleth": [
           {
            "colorbar": {
             "outlinewidth": 0,
             "ticks": ""
            },
            "type": "choropleth"
           }
          ],
          "contour": [
           {
            "colorbar": {
             "outlinewidth": 0,
             "ticks": ""
            },
            "colorscale": [
             [
              0,
              "#0d0887"
             ],
             [
              0.1111111111111111,
              "#46039f"
             ],
             [
              0.2222222222222222,
              "#7201a8"
             ],
             [
              0.3333333333333333,
              "#9c179e"
             ],
             [
              0.4444444444444444,
              "#bd3786"
             ],
             [
              0.5555555555555556,
              "#d8576b"
             ],
             [
              0.6666666666666666,
              "#ed7953"
             ],
             [
              0.7777777777777778,
              "#fb9f3a"
             ],
             [
              0.8888888888888888,
              "#fdca26"
             ],
             [
              1,
              "#f0f921"
             ]
            ],
            "type": "contour"
           }
          ],
          "contourcarpet": [
           {
            "colorbar": {
             "outlinewidth": 0,
             "ticks": ""
            },
            "type": "contourcarpet"
           }
          ],
          "heatmap": [
           {
            "colorbar": {
             "outlinewidth": 0,
             "ticks": ""
            },
            "colorscale": [
             [
              0,
              "#0d0887"
             ],
             [
              0.1111111111111111,
              "#46039f"
             ],
             [
              0.2222222222222222,
              "#7201a8"
             ],
             [
              0.3333333333333333,
              "#9c179e"
             ],
             [
              0.4444444444444444,
              "#bd3786"
             ],
             [
              0.5555555555555556,
              "#d8576b"
             ],
             [
              0.6666666666666666,
              "#ed7953"
             ],
             [
              0.7777777777777778,
              "#fb9f3a"
             ],
             [
              0.8888888888888888,
              "#fdca26"
             ],
             [
              1,
              "#f0f921"
             ]
            ],
            "type": "heatmap"
           }
          ],
          "histogram": [
           {
            "marker": {
             "pattern": {
              "fillmode": "overlay",
              "size": 10,
              "solidity": 0.2
             }
            },
            "type": "histogram"
           }
          ],
          "histogram2d": [
           {
            "colorbar": {
             "outlinewidth": 0,
             "ticks": ""
            },
            "colorscale": [
             [
              0,
              "#0d0887"
             ],
             [
              0.1111111111111111,
              "#46039f"
             ],
             [
              0.2222222222222222,
              "#7201a8"
             ],
             [
              0.3333333333333333,
              "#9c179e"
             ],
             [
              0.4444444444444444,
              "#bd3786"
             ],
             [
              0.5555555555555556,
              "#d8576b"
             ],
             [
              0.6666666666666666,
              "#ed7953"
             ],
             [
              0.7777777777777778,
              "#fb9f3a"
             ],
             [
              0.8888888888888888,
              "#fdca26"
             ],
             [
              1,
              "#f0f921"
             ]
            ],
            "type": "histogram2d"
           }
          ],
          "histogram2dcontour": [
           {
            "colorbar": {
             "outlinewidth": 0,
             "ticks": ""
            },
            "colorscale": [
             [
              0,
              "#0d0887"
             ],
             [
              0.1111111111111111,
              "#46039f"
             ],
             [
              0.2222222222222222,
              "#7201a8"
             ],
             [
              0.3333333333333333,
              "#9c179e"
             ],
             [
              0.4444444444444444,
              "#bd3786"
             ],
             [
              0.5555555555555556,
              "#d8576b"
             ],
             [
              0.6666666666666666,
              "#ed7953"
             ],
             [
              0.7777777777777778,
              "#fb9f3a"
             ],
             [
              0.8888888888888888,
              "#fdca26"
             ],
             [
              1,
              "#f0f921"
             ]
            ],
            "type": "histogram2dcontour"
           }
          ],
          "mesh3d": [
           {
            "colorbar": {
             "outlinewidth": 0,
             "ticks": ""
            },
            "type": "mesh3d"
           }
          ],
          "parcoords": [
           {
            "line": {
             "colorbar": {
              "outlinewidth": 0,
              "ticks": ""
             }
            },
            "type": "parcoords"
           }
          ],
          "pie": [
           {
            "automargin": true,
            "type": "pie"
           }
          ],
          "scatter": [
           {
            "fillpattern": {
             "fillmode": "overlay",
             "size": 10,
             "solidity": 0.2
            },
            "type": "scatter"
           }
          ],
          "scatter3d": [
           {
            "line": {
             "colorbar": {
              "outlinewidth": 0,
              "ticks": ""
             }
            },
            "marker": {
             "colorbar": {
              "outlinewidth": 0,
              "ticks": ""
             }
            },
            "type": "scatter3d"
           }
          ],
          "scattercarpet": [
           {
            "marker": {
             "colorbar": {
              "outlinewidth": 0,
              "ticks": ""
             }
            },
            "type": "scattercarpet"
           }
          ],
          "scattergeo": [
           {
            "marker": {
             "colorbar": {
              "outlinewidth": 0,
              "ticks": ""
             }
            },
            "type": "scattergeo"
           }
          ],
          "scattergl": [
           {
            "marker": {
             "colorbar": {
              "outlinewidth": 0,
              "ticks": ""
             }
            },
            "type": "scattergl"
           }
          ],
          "scattermap": [
           {
            "marker": {
             "colorbar": {
              "outlinewidth": 0,
              "ticks": ""
             }
            },
            "type": "scattermap"
           }
          ],
          "scattermapbox": [
           {
            "marker": {
             "colorbar": {
              "outlinewidth": 0,
              "ticks": ""
             }
            },
            "type": "scattermapbox"
           }
          ],
          "scatterpolar": [
           {
            "marker": {
             "colorbar": {
              "outlinewidth": 0,
              "ticks": ""
             }
            },
            "type": "scatterpolar"
           }
          ],
          "scatterpolargl": [
           {
            "marker": {
             "colorbar": {
              "outlinewidth": 0,
              "ticks": ""
             }
            },
            "type": "scatterpolargl"
           }
          ],
          "scatterternary": [
           {
            "marker": {
             "colorbar": {
              "outlinewidth": 0,
              "ticks": ""
             }
            },
            "type": "scatterternary"
           }
          ],
          "surface": [
           {
            "colorbar": {
             "outlinewidth": 0,
             "ticks": ""
            },
            "colorscale": [
             [
              0,
              "#0d0887"
             ],
             [
              0.1111111111111111,
              "#46039f"
             ],
             [
              0.2222222222222222,
              "#7201a8"
             ],
             [
              0.3333333333333333,
              "#9c179e"
             ],
             [
              0.4444444444444444,
              "#bd3786"
             ],
             [
              0.5555555555555556,
              "#d8576b"
             ],
             [
              0.6666666666666666,
              "#ed7953"
             ],
             [
              0.7777777777777778,
              "#fb9f3a"
             ],
             [
              0.8888888888888888,
              "#fdca26"
             ],
             [
              1,
              "#f0f921"
             ]
            ],
            "type": "surface"
           }
          ],
          "table": [
           {
            "cells": {
             "fill": {
              "color": "#EBF0F8"
             },
             "line": {
              "color": "white"
             }
            },
            "header": {
             "fill": {
              "color": "#C8D4E3"
             },
             "line": {
              "color": "white"
             }
            },
            "type": "table"
           }
          ]
         },
         "layout": {
          "annotationdefaults": {
           "arrowcolor": "#2a3f5f",
           "arrowhead": 0,
           "arrowwidth": 1
          },
          "autotypenumbers": "strict",
          "coloraxis": {
           "colorbar": {
            "outlinewidth": 0,
            "ticks": ""
           }
          },
          "colorscale": {
           "diverging": [
            [
             0,
             "#8e0152"
            ],
            [
             0.1,
             "#c51b7d"
            ],
            [
             0.2,
             "#de77ae"
            ],
            [
             0.3,
             "#f1b6da"
            ],
            [
             0.4,
             "#fde0ef"
            ],
            [
             0.5,
             "#f7f7f7"
            ],
            [
             0.6,
             "#e6f5d0"
            ],
            [
             0.7,
             "#b8e186"
            ],
            [
             0.8,
             "#7fbc41"
            ],
            [
             0.9,
             "#4d9221"
            ],
            [
             1,
             "#276419"
            ]
           ],
           "sequential": [
            [
             0,
             "#0d0887"
            ],
            [
             0.1111111111111111,
             "#46039f"
            ],
            [
             0.2222222222222222,
             "#7201a8"
            ],
            [
             0.3333333333333333,
             "#9c179e"
            ],
            [
             0.4444444444444444,
             "#bd3786"
            ],
            [
             0.5555555555555556,
             "#d8576b"
            ],
            [
             0.6666666666666666,
             "#ed7953"
            ],
            [
             0.7777777777777778,
             "#fb9f3a"
            ],
            [
             0.8888888888888888,
             "#fdca26"
            ],
            [
             1,
             "#f0f921"
            ]
           ],
           "sequentialminus": [
            [
             0,
             "#0d0887"
            ],
            [
             0.1111111111111111,
             "#46039f"
            ],
            [
             0.2222222222222222,
             "#7201a8"
            ],
            [
             0.3333333333333333,
             "#9c179e"
            ],
            [
             0.4444444444444444,
             "#bd3786"
            ],
            [
             0.5555555555555556,
             "#d8576b"
            ],
            [
             0.6666666666666666,
             "#ed7953"
            ],
            [
             0.7777777777777778,
             "#fb9f3a"
            ],
            [
             0.8888888888888888,
             "#fdca26"
            ],
            [
             1,
             "#f0f921"
            ]
           ]
          },
          "colorway": [
           "#636efa",
           "#EF553B",
           "#00cc96",
           "#ab63fa",
           "#FFA15A",
           "#19d3f3",
           "#FF6692",
           "#B6E880",
           "#FF97FF",
           "#FECB52"
          ],
          "font": {
           "color": "#2a3f5f"
          },
          "geo": {
           "bgcolor": "white",
           "lakecolor": "white",
           "landcolor": "#E5ECF6",
           "showlakes": true,
           "showland": true,
           "subunitcolor": "white"
          },
          "hoverlabel": {
           "align": "left"
          },
          "hovermode": "closest",
          "mapbox": {
           "style": "light"
          },
          "paper_bgcolor": "white",
          "plot_bgcolor": "#E5ECF6",
          "polar": {
           "angularaxis": {
            "gridcolor": "white",
            "linecolor": "white",
            "ticks": ""
           },
           "bgcolor": "#E5ECF6",
           "radialaxis": {
            "gridcolor": "white",
            "linecolor": "white",
            "ticks": ""
           }
          },
          "scene": {
           "xaxis": {
            "backgroundcolor": "#E5ECF6",
            "gridcolor": "white",
            "gridwidth": 2,
            "linecolor": "white",
            "showbackground": true,
            "ticks": "",
            "zerolinecolor": "white"
           },
           "yaxis": {
            "backgroundcolor": "#E5ECF6",
            "gridcolor": "white",
            "gridwidth": 2,
            "linecolor": "white",
            "showbackground": true,
            "ticks": "",
            "zerolinecolor": "white"
           },
           "zaxis": {
            "backgroundcolor": "#E5ECF6",
            "gridcolor": "white",
            "gridwidth": 2,
            "linecolor": "white",
            "showbackground": true,
            "ticks": "",
            "zerolinecolor": "white"
           }
          },
          "shapedefaults": {
           "line": {
            "color": "#2a3f5f"
           }
          },
          "ternary": {
           "aaxis": {
            "gridcolor": "white",
            "linecolor": "white",
            "ticks": ""
           },
           "baxis": {
            "gridcolor": "white",
            "linecolor": "white",
            "ticks": ""
           },
           "bgcolor": "#E5ECF6",
           "caxis": {
            "gridcolor": "white",
            "linecolor": "white",
            "ticks": ""
           }
          },
          "title": {
           "x": 0.05
          },
          "xaxis": {
           "automargin": true,
           "gridcolor": "white",
           "linecolor": "white",
           "ticks": "",
           "title": {
            "standoff": 15
           },
           "zerolinecolor": "white",
           "zerolinewidth": 2
          },
          "yaxis": {
           "automargin": true,
           "gridcolor": "white",
           "linecolor": "white",
           "ticks": "",
           "title": {
            "standoff": 15
           },
           "zerolinecolor": "white",
           "zerolinewidth": 2
          }
         }
        },
        "title": {
         "text": "Fairness Analysis with Normalization Indicators"
        },
        "xaxis": {
         "showgrid": false,
         "ticktext": [
          "age",
          "gender",
          "ever_married",
          "Residence_type",
          "age_gender",
          "age_ever_married",
          "age_Residence_type",
          "gender_ever_married",
          "gender_Residence_type",
          "ever_married_Residence_type",
          "age_gender_ever_married",
          "age_gender_Residence_type",
          "age_ever_married_Residence_type",
          "gender_ever_married_Residence_type"
         ],
         "tickvals": [
          0,
          1,
          2,
          3,
          5,
          6,
          7,
          8,
          9,
          10,
          11,
          12,
          13,
          14
         ],
         "title": {
          "text": "Attributes"
         }
        },
        "yaxis": {
         "title": {
          "text": "Raw Fairness Score"
         }
        }
       }
      }
     },
     "metadata": {},
     "output_type": "display_data"
    }
   ],
   "source": [
    "import plotly.graph_objects as go\n",
    "\n",
    "\n",
    "def process_array(data, group_color):\n",
    "    \"\"\"Process 2D array into plot components with border coloring\"\"\"\n",
    "    attributes = [d[0] for d in data[1:]]\n",
    "    raw_scores = [d[1] for d in data[1:]]\n",
    "    normalized = [d[2] for d in data[1:]]\n",
    "    \n",
    "    # Determine border colors based on normalized scores\n",
    "    border_colors = ['red' if n == 1 else 'green' for n in normalized]\n",
    "    \n",
    "    return {\n",
    "        'attributes': attributes,\n",
    "        'raw': raw_scores,\n",
    "        'border_colors': border_colors,\n",
    "        'color': group_color\n",
    "    }\n",
    "\n",
    "# Process both datasets\n",
    "group1 = process_array(tab_lr, '#1f77b4')  # Blue\n",
    "group2 = process_array(table, '#ff7f0e')  # Orange\n",
    "\n",
    "# Calculate x positions with gap between groups\n",
    "x1 = list(range(len(group1['attributes'])))\n",
    "x2 = [len(group1['attributes']) + 1 + i for i in range(len(group2['attributes']))]\n",
    "\n",
    "# Create bar traces with conditional borders\n",
    "trace1 = go.Bar(\n",
    "    x=x1,\n",
    "    y=group1['raw'],\n",
    "    name='Group 1',\n",
    "    marker=dict(\n",
    "        color=group1['color'],\n",
    "        line=dict(\n",
    "            color=group1['border_colors'],\n",
    "            width=3  # Thicker border for visibility\n",
    "        )\n",
    "    )\n",
    ")\n",
    "\n",
    "trace2 = go.Bar(\n",
    "    x=x2,\n",
    "    y=group2['raw'],\n",
    "    name='Group 2',\n",
    "    marker=dict(\n",
    "        color=group2['color'],\n",
    "        line=dict(\n",
    "            color=group2['border_colors'],\n",
    "            width=3\n",
    "        )\n",
    "    )\n",
    ")\n",
    "\n",
    "# Create figure\n",
    "fig = go.Figure([trace1, trace2])\n",
    "\n",
    "# Calculate axis settings\n",
    "tickvals = x1 + x2\n",
    "ticktext = group1['attributes'] + group2['attributes']\n",
    "separator_pos = len(group1['attributes'])  # Position between groups\n",
    "\n",
    "# Update layout with visual separation\n",
    "fig.update_layout(\n",
    "    xaxis=dict(\n",
    "        tickvals=tickvals,\n",
    "        ticktext=ticktext,\n",
    "        title='Attributes',\n",
    "        showgrid=False\n",
    "    ),\n",
    "    yaxis=dict(title='Raw Fairness Score'),\n",
    "    title='Fairness Analysis with Normalization Indicators',\n",
    "    bargap=0.25,\n",
    "    shapes=[dict(\n",
    "        type='line',\n",
    "        xref='x',\n",
    "        yref='paper',\n",
    "        x0=separator_pos,\n",
    "        y0=0,\n",
    "        x1=separator_pos,\n",
    "        y1=1,\n",
    "        line=dict(color='gray', width=2, dash='dot')\n",
    "    )]\n",
    ")\n",
    "\n",
    "fig.show()"
   ]
  },
  {
   "cell_type": "code",
   "execution_count": 17,
   "id": "bdf86d2f",
   "metadata": {},
   "outputs": [
    {
     "data": {
      "application/vnd.plotly.v1+json": {
       "config": {
        "plotlyServerURL": "https://plot.ly"
       },
       "data": [
        {
         "hoverinfo": "text",
         "marker": {
          "color": [
           0.5622,
           0.29410000000000003,
           0.5799,
           0.47240000000000004
          ],
          "colorscale": [
           [
            0,
            "rgb(103,0,31)"
           ],
           [
            0.1,
            "rgb(178,24,43)"
           ],
           [
            0.2,
            "rgb(214,96,77)"
           ],
           [
            0.3,
            "rgb(244,165,130)"
           ],
           [
            0.4,
            "rgb(253,219,199)"
           ],
           [
            0.5,
            "rgb(247,247,247)"
           ],
           [
            0.6,
            "rgb(209,229,240)"
           ],
           [
            0.7,
            "rgb(146,197,222)"
           ],
           [
            0.8,
            "rgb(67,147,195)"
           ],
           [
            0.9,
            "rgb(33,102,172)"
           ],
           [
            1,
            "rgb(5,48,97)"
           ]
          ],
          "line": {
           "width": 0
          },
          "opacity": 0.7,
          "size": 10
         },
         "mode": "markers",
         "showlegend": false,
         "text": [
          "Residence_type: 1.039",
          "Residence_type: 0.529",
          "Residence_type: 1.052",
          "Residence_type: 0.866"
         ],
         "type": "scatter",
         "x": [
          1.0386857718192868,
          0.5293533683669922,
          1.0520962628028352,
          0.866184646724679
         ],
         "y": [
          0,
          0,
          0,
          0
         ]
        },
        {
         "box": {
          "visible": false
         },
         "fillcolor": "rgba(180, 180, 180, 0.3)",
         "hoverinfo": "none",
         "line": {
          "color": "rgba(0, 0, 0, 0)"
         },
         "orientation": "h",
         "points": false,
         "showlegend": false,
         "side": "both",
         "type": "violin",
         "width": 0.6,
         "x": [
          1.0386857718192868,
          0.5293533683669922,
          1.0520962628028352,
          0.866184646724679
         ],
         "y": [
          0,
          0,
          0,
          0
         ]
        },
        {
         "hoverinfo": "text",
         "marker": {
          "color": 0.47714999999999996,
          "colorscale": [
           [
            0,
            "rgb(103,0,31)"
           ],
           [
            0.1,
            "rgb(178,24,43)"
           ],
           [
            0.2,
            "rgb(214,96,77)"
           ],
           [
            0.3,
            "rgb(244,165,130)"
           ],
           [
            0.4,
            "rgb(253,219,199)"
           ],
           [
            0.5,
            "rgb(247,247,247)"
           ],
           [
            0.6,
            "rgb(209,229,240)"
           ],
           [
            0.7,
            "rgb(146,197,222)"
           ],
           [
            0.8,
            "rgb(67,147,195)"
           ],
           [
            0.9,
            "rgb(33,102,172)"
           ],
           [
            1,
            "rgb(5,48,97)"
           ]
          ],
          "line": {
           "color": "black",
           "width": 1
          },
          "opacity": 1,
          "size": 14
         },
         "mode": "markers",
         "showlegend": false,
         "text": "Residence_type (mean): 0.872",
         "type": "scatter",
         "x": [
          0.8715800124284483
         ],
         "y": [
          0
         ]
        },
        {
         "hoverinfo": "text",
         "marker": {
          "color": [
           0.8667000000000001,
           0.5572,
           0.5748,
           0.597
          ],
          "colorscale": [
           [
            0,
            "rgb(103,0,31)"
           ],
           [
            0.1,
            "rgb(178,24,43)"
           ],
           [
            0.2,
            "rgb(214,96,77)"
           ],
           [
            0.3,
            "rgb(244,165,130)"
           ],
           [
            0.4,
            "rgb(253,219,199)"
           ],
           [
            0.5,
            "rgb(247,247,247)"
           ],
           [
            0.6,
            "rgb(209,229,240)"
           ],
           [
            0.7,
            "rgb(146,197,222)"
           ],
           [
            0.8,
            "rgb(67,147,195)"
           ],
           [
            0.9,
            "rgb(33,102,172)"
           ],
           [
            1,
            "rgb(5,48,97)"
           ]
          ],
          "line": {
           "width": 0
          },
          "opacity": 0.7,
          "size": 10
         },
         "mode": "markers",
         "showlegend": false,
         "text": [
          "gender: 1.720",
          "gender: 1.017",
          "gender: 1.081",
          "gender: 1.127"
         ],
         "type": "scatter",
         "x": [
          1.7199857490709511,
          1.0173383574926727,
          1.081296157964634,
          1.1270616134887086
         ],
         "y": [
          1,
          1,
          1,
          1
         ]
        },
        {
         "box": {
          "visible": false
         },
         "fillcolor": "rgba(180, 180, 180, 0.3)",
         "hoverinfo": "none",
         "line": {
          "color": "rgba(0, 0, 0, 0)"
         },
         "orientation": "h",
         "points": false,
         "showlegend": false,
         "side": "both",
         "type": "violin",
         "width": 0.6,
         "x": [
          1.7199857490709511,
          1.0173383574926727,
          1.081296157964634,
          1.1270616134887086
         ],
         "y": [
          1,
          1,
          1,
          1
         ]
        },
        {
         "hoverinfo": "text",
         "marker": {
          "color": 0.648925,
          "colorscale": [
           [
            0,
            "rgb(103,0,31)"
           ],
           [
            0.1,
            "rgb(178,24,43)"
           ],
           [
            0.2,
            "rgb(214,96,77)"
           ],
           [
            0.3,
            "rgb(244,165,130)"
           ],
           [
            0.4,
            "rgb(253,219,199)"
           ],
           [
            0.5,
            "rgb(247,247,247)"
           ],
           [
            0.6,
            "rgb(209,229,240)"
           ],
           [
            0.7,
            "rgb(146,197,222)"
           ],
           [
            0.8,
            "rgb(67,147,195)"
           ],
           [
            0.9,
            "rgb(33,102,172)"
           ],
           [
            1,
            "rgb(5,48,97)"
           ]
          ],
          "line": {
           "color": "black",
           "width": 1
          },
          "opacity": 1,
          "size": 14
         },
         "mode": "markers",
         "showlegend": false,
         "text": "gender (mean): 1.236",
         "type": "scatter",
         "x": [
          1.2364204695042416
         ],
         "y": [
          1
         ]
        },
        {
         "hoverinfo": "text",
         "marker": {
          "color": [
           1,
           1,
           1,
           0.9963
          ],
          "colorscale": [
           [
            0,
            "rgb(103,0,31)"
           ],
           [
            0.1,
            "rgb(178,24,43)"
           ],
           [
            0.2,
            "rgb(214,96,77)"
           ],
           [
            0.3,
            "rgb(244,165,130)"
           ],
           [
            0.4,
            "rgb(253,219,199)"
           ],
           [
            0.5,
            "rgb(247,247,247)"
           ],
           [
            0.6,
            "rgb(209,229,240)"
           ],
           [
            0.7,
            "rgb(146,197,222)"
           ],
           [
            0.8,
            "rgb(67,147,195)"
           ],
           [
            0.9,
            "rgb(33,102,172)"
           ],
           [
            1,
            "rgb(5,48,97)"
           ]
          ],
          "line": {
           "width": 0
          },
          "opacity": 0.7,
          "size": 10
         },
         "mode": "markers",
         "showlegend": false,
         "text": [
          "ever_married: 3.302",
          "ever_married: 3.667",
          "ever_married: 2.959",
          "ever_married: 2.171"
         ],
         "type": "scatter",
         "x": [
          3.3023492018496796,
          3.6670488637783683,
          2.958753512366059,
          2.171042528643667
         ],
         "y": [
          2,
          2,
          2,
          2
         ]
        },
        {
         "box": {
          "visible": false
         },
         "fillcolor": "rgba(180, 180, 180, 0.3)",
         "hoverinfo": "none",
         "line": {
          "color": "rgba(0, 0, 0, 0)"
         },
         "orientation": "h",
         "points": false,
         "showlegend": false,
         "side": "both",
         "type": "violin",
         "width": 0.6,
         "x": [
          3.3023492018496796,
          3.6670488637783683,
          2.958753512366059,
          2.171042528643667
         ],
         "y": [
          2,
          2,
          2,
          2
         ]
        },
        {
         "hoverinfo": "text",
         "marker": {
          "color": 0.9990749999999999,
          "colorscale": [
           [
            0,
            "rgb(103,0,31)"
           ],
           [
            0.1,
            "rgb(178,24,43)"
           ],
           [
            0.2,
            "rgb(214,96,77)"
           ],
           [
            0.3,
            "rgb(244,165,130)"
           ],
           [
            0.4,
            "rgb(253,219,199)"
           ],
           [
            0.5,
            "rgb(247,247,247)"
           ],
           [
            0.6,
            "rgb(209,229,240)"
           ],
           [
            0.7,
            "rgb(146,197,222)"
           ],
           [
            0.8,
            "rgb(67,147,195)"
           ],
           [
            0.9,
            "rgb(33,102,172)"
           ],
           [
            1,
            "rgb(5,48,97)"
           ]
          ],
          "line": {
           "color": "black",
           "width": 1
          },
          "opacity": 1,
          "size": 14
         },
         "mode": "markers",
         "showlegend": false,
         "text": "ever_married (mean): 3.025",
         "type": "scatter",
         "x": [
          3.0247985266594437
         ],
         "y": [
          2
         ]
        },
        {
         "hoverinfo": "text",
         "marker": {
          "color": [
           1,
           1,
           1,
           1
          ],
          "colorscale": [
           [
            0,
            "rgb(103,0,31)"
           ],
           [
            0.1,
            "rgb(178,24,43)"
           ],
           [
            0.2,
            "rgb(214,96,77)"
           ],
           [
            0.3,
            "rgb(244,165,130)"
           ],
           [
            0.4,
            "rgb(253,219,199)"
           ],
           [
            0.5,
            "rgb(247,247,247)"
           ],
           [
            0.6,
            "rgb(209,229,240)"
           ],
           [
            0.7,
            "rgb(146,197,222)"
           ],
           [
            0.8,
            "rgb(67,147,195)"
           ],
           [
            0.9,
            "rgb(33,102,172)"
           ],
           [
            1,
            "rgb(5,48,97)"
           ]
          ],
          "line": {
           "width": 0
          },
          "opacity": 0.7,
          "size": 10
         },
         "mode": "markers",
         "showlegend": false,
         "text": [
          "age: 4.700",
          "age: 5.018",
          "age: 4.610",
          "age: 4.911"
         ],
         "type": "scatter",
         "x": [
          4.699663740694194,
          5.018086921974356,
          4.610286166471983,
          4.910605782225633
         ],
         "y": [
          3,
          3,
          3,
          3
         ]
        },
        {
         "box": {
          "visible": false
         },
         "fillcolor": "rgba(180, 180, 180, 0.3)",
         "hoverinfo": "none",
         "line": {
          "color": "rgba(0, 0, 0, 0)"
         },
         "orientation": "h",
         "points": false,
         "showlegend": false,
         "side": "both",
         "type": "violin",
         "width": 0.6,
         "x": [
          4.699663740694194,
          5.018086921974356,
          4.610286166471983,
          4.910605782225633
         ],
         "y": [
          3,
          3,
          3,
          3
         ]
        },
        {
         "hoverinfo": "text",
         "marker": {
          "color": 1,
          "colorscale": [
           [
            0,
            "rgb(103,0,31)"
           ],
           [
            0.1,
            "rgb(178,24,43)"
           ],
           [
            0.2,
            "rgb(214,96,77)"
           ],
           [
            0.3,
            "rgb(244,165,130)"
           ],
           [
            0.4,
            "rgb(253,219,199)"
           ],
           [
            0.5,
            "rgb(247,247,247)"
           ],
           [
            0.6,
            "rgb(209,229,240)"
           ],
           [
            0.7,
            "rgb(146,197,222)"
           ],
           [
            0.8,
            "rgb(67,147,195)"
           ],
           [
            0.9,
            "rgb(33,102,172)"
           ],
           [
            1,
            "rgb(5,48,97)"
           ]
          ],
          "line": {
           "color": "black",
           "width": 1
          },
          "opacity": 1,
          "size": 14
         },
         "mode": "markers",
         "showlegend": false,
         "text": "age (mean): 4.810",
         "type": "scatter",
         "x": [
          4.809660652841542
         ],
         "y": [
          3
         ]
        }
       ],
       "layout": {
        "coloraxis": {
         "colorbar": {
          "ticktext": [
           "Low",
           "High"
          ],
          "tickvals": [
           0,
           1
          ],
          "title": {
           "text": "Feature value"
          }
         },
         "colorscale": [
          [
           0,
           "rgb(103,0,31)"
          ],
          [
           0.1,
           "rgb(178,24,43)"
          ],
          [
           0.2,
           "rgb(214,96,77)"
          ],
          [
           0.3,
           "rgb(244,165,130)"
          ],
          [
           0.4,
           "rgb(253,219,199)"
          ],
          [
           0.5,
           "rgb(247,247,247)"
          ],
          [
           0.6,
           "rgb(209,229,240)"
          ],
          [
           0.7,
           "rgb(146,197,222)"
          ],
          [
           0.8,
           "rgb(67,147,195)"
          ],
          [
           0.9,
           "rgb(33,102,172)"
          ],
          [
           1,
           "rgb(5,48,97)"
          ]
         ]
        },
        "height": 400,
        "margin": {
         "l": 150
        },
        "plot_bgcolor": "rgba(255, 255, 255, 1)",
        "template": {
         "data": {
          "bar": [
           {
            "error_x": {
             "color": "#2a3f5f"
            },
            "error_y": {
             "color": "#2a3f5f"
            },
            "marker": {
             "line": {
              "color": "#E5ECF6",
              "width": 0.5
             },
             "pattern": {
              "fillmode": "overlay",
              "size": 10,
              "solidity": 0.2
             }
            },
            "type": "bar"
           }
          ],
          "barpolar": [
           {
            "marker": {
             "line": {
              "color": "#E5ECF6",
              "width": 0.5
             },
             "pattern": {
              "fillmode": "overlay",
              "size": 10,
              "solidity": 0.2
             }
            },
            "type": "barpolar"
           }
          ],
          "carpet": [
           {
            "aaxis": {
             "endlinecolor": "#2a3f5f",
             "gridcolor": "white",
             "linecolor": "white",
             "minorgridcolor": "white",
             "startlinecolor": "#2a3f5f"
            },
            "baxis": {
             "endlinecolor": "#2a3f5f",
             "gridcolor": "white",
             "linecolor": "white",
             "minorgridcolor": "white",
             "startlinecolor": "#2a3f5f"
            },
            "type": "carpet"
           }
          ],
          "choropleth": [
           {
            "colorbar": {
             "outlinewidth": 0,
             "ticks": ""
            },
            "type": "choropleth"
           }
          ],
          "contour": [
           {
            "colorbar": {
             "outlinewidth": 0,
             "ticks": ""
            },
            "colorscale": [
             [
              0,
              "#0d0887"
             ],
             [
              0.1111111111111111,
              "#46039f"
             ],
             [
              0.2222222222222222,
              "#7201a8"
             ],
             [
              0.3333333333333333,
              "#9c179e"
             ],
             [
              0.4444444444444444,
              "#bd3786"
             ],
             [
              0.5555555555555556,
              "#d8576b"
             ],
             [
              0.6666666666666666,
              "#ed7953"
             ],
             [
              0.7777777777777778,
              "#fb9f3a"
             ],
             [
              0.8888888888888888,
              "#fdca26"
             ],
             [
              1,
              "#f0f921"
             ]
            ],
            "type": "contour"
           }
          ],
          "contourcarpet": [
           {
            "colorbar": {
             "outlinewidth": 0,
             "ticks": ""
            },
            "type": "contourcarpet"
           }
          ],
          "heatmap": [
           {
            "colorbar": {
             "outlinewidth": 0,
             "ticks": ""
            },
            "colorscale": [
             [
              0,
              "#0d0887"
             ],
             [
              0.1111111111111111,
              "#46039f"
             ],
             [
              0.2222222222222222,
              "#7201a8"
             ],
             [
              0.3333333333333333,
              "#9c179e"
             ],
             [
              0.4444444444444444,
              "#bd3786"
             ],
             [
              0.5555555555555556,
              "#d8576b"
             ],
             [
              0.6666666666666666,
              "#ed7953"
             ],
             [
              0.7777777777777778,
              "#fb9f3a"
             ],
             [
              0.8888888888888888,
              "#fdca26"
             ],
             [
              1,
              "#f0f921"
             ]
            ],
            "type": "heatmap"
           }
          ],
          "histogram": [
           {
            "marker": {
             "pattern": {
              "fillmode": "overlay",
              "size": 10,
              "solidity": 0.2
             }
            },
            "type": "histogram"
           }
          ],
          "histogram2d": [
           {
            "colorbar": {
             "outlinewidth": 0,
             "ticks": ""
            },
            "colorscale": [
             [
              0,
              "#0d0887"
             ],
             [
              0.1111111111111111,
              "#46039f"
             ],
             [
              0.2222222222222222,
              "#7201a8"
             ],
             [
              0.3333333333333333,
              "#9c179e"
             ],
             [
              0.4444444444444444,
              "#bd3786"
             ],
             [
              0.5555555555555556,
              "#d8576b"
             ],
             [
              0.6666666666666666,
              "#ed7953"
             ],
             [
              0.7777777777777778,
              "#fb9f3a"
             ],
             [
              0.8888888888888888,
              "#fdca26"
             ],
             [
              1,
              "#f0f921"
             ]
            ],
            "type": "histogram2d"
           }
          ],
          "histogram2dcontour": [
           {
            "colorbar": {
             "outlinewidth": 0,
             "ticks": ""
            },
            "colorscale": [
             [
              0,
              "#0d0887"
             ],
             [
              0.1111111111111111,
              "#46039f"
             ],
             [
              0.2222222222222222,
              "#7201a8"
             ],
             [
              0.3333333333333333,
              "#9c179e"
             ],
             [
              0.4444444444444444,
              "#bd3786"
             ],
             [
              0.5555555555555556,
              "#d8576b"
             ],
             [
              0.6666666666666666,
              "#ed7953"
             ],
             [
              0.7777777777777778,
              "#fb9f3a"
             ],
             [
              0.8888888888888888,
              "#fdca26"
             ],
             [
              1,
              "#f0f921"
             ]
            ],
            "type": "histogram2dcontour"
           }
          ],
          "mesh3d": [
           {
            "colorbar": {
             "outlinewidth": 0,
             "ticks": ""
            },
            "type": "mesh3d"
           }
          ],
          "parcoords": [
           {
            "line": {
             "colorbar": {
              "outlinewidth": 0,
              "ticks": ""
             }
            },
            "type": "parcoords"
           }
          ],
          "pie": [
           {
            "automargin": true,
            "type": "pie"
           }
          ],
          "scatter": [
           {
            "fillpattern": {
             "fillmode": "overlay",
             "size": 10,
             "solidity": 0.2
            },
            "type": "scatter"
           }
          ],
          "scatter3d": [
           {
            "line": {
             "colorbar": {
              "outlinewidth": 0,
              "ticks": ""
             }
            },
            "marker": {
             "colorbar": {
              "outlinewidth": 0,
              "ticks": ""
             }
            },
            "type": "scatter3d"
           }
          ],
          "scattercarpet": [
           {
            "marker": {
             "colorbar": {
              "outlinewidth": 0,
              "ticks": ""
             }
            },
            "type": "scattercarpet"
           }
          ],
          "scattergeo": [
           {
            "marker": {
             "colorbar": {
              "outlinewidth": 0,
              "ticks": ""
             }
            },
            "type": "scattergeo"
           }
          ],
          "scattergl": [
           {
            "marker": {
             "colorbar": {
              "outlinewidth": 0,
              "ticks": ""
             }
            },
            "type": "scattergl"
           }
          ],
          "scattermap": [
           {
            "marker": {
             "colorbar": {
              "outlinewidth": 0,
              "ticks": ""
             }
            },
            "type": "scattermap"
           }
          ],
          "scattermapbox": [
           {
            "marker": {
             "colorbar": {
              "outlinewidth": 0,
              "ticks": ""
             }
            },
            "type": "scattermapbox"
           }
          ],
          "scatterpolar": [
           {
            "marker": {
             "colorbar": {
              "outlinewidth": 0,
              "ticks": ""
             }
            },
            "type": "scatterpolar"
           }
          ],
          "scatterpolargl": [
           {
            "marker": {
             "colorbar": {
              "outlinewidth": 0,
              "ticks": ""
             }
            },
            "type": "scatterpolargl"
           }
          ],
          "scatterternary": [
           {
            "marker": {
             "colorbar": {
              "outlinewidth": 0,
              "ticks": ""
             }
            },
            "type": "scatterternary"
           }
          ],
          "surface": [
           {
            "colorbar": {
             "outlinewidth": 0,
             "ticks": ""
            },
            "colorscale": [
             [
              0,
              "#0d0887"
             ],
             [
              0.1111111111111111,
              "#46039f"
             ],
             [
              0.2222222222222222,
              "#7201a8"
             ],
             [
              0.3333333333333333,
              "#9c179e"
             ],
             [
              0.4444444444444444,
              "#bd3786"
             ],
             [
              0.5555555555555556,
              "#d8576b"
             ],
             [
              0.6666666666666666,
              "#ed7953"
             ],
             [
              0.7777777777777778,
              "#fb9f3a"
             ],
             [
              0.8888888888888888,
              "#fdca26"
             ],
             [
              1,
              "#f0f921"
             ]
            ],
            "type": "surface"
           }
          ],
          "table": [
           {
            "cells": {
             "fill": {
              "color": "#EBF0F8"
             },
             "line": {
              "color": "white"
             }
            },
            "header": {
             "fill": {
              "color": "#C8D4E3"
             },
             "line": {
              "color": "white"
             }
            },
            "type": "table"
           }
          ]
         },
         "layout": {
          "annotationdefaults": {
           "arrowcolor": "#2a3f5f",
           "arrowhead": 0,
           "arrowwidth": 1
          },
          "autotypenumbers": "strict",
          "coloraxis": {
           "colorbar": {
            "outlinewidth": 0,
            "ticks": ""
           }
          },
          "colorscale": {
           "diverging": [
            [
             0,
             "#8e0152"
            ],
            [
             0.1,
             "#c51b7d"
            ],
            [
             0.2,
             "#de77ae"
            ],
            [
             0.3,
             "#f1b6da"
            ],
            [
             0.4,
             "#fde0ef"
            ],
            [
             0.5,
             "#f7f7f7"
            ],
            [
             0.6,
             "#e6f5d0"
            ],
            [
             0.7,
             "#b8e186"
            ],
            [
             0.8,
             "#7fbc41"
            ],
            [
             0.9,
             "#4d9221"
            ],
            [
             1,
             "#276419"
            ]
           ],
           "sequential": [
            [
             0,
             "#0d0887"
            ],
            [
             0.1111111111111111,
             "#46039f"
            ],
            [
             0.2222222222222222,
             "#7201a8"
            ],
            [
             0.3333333333333333,
             "#9c179e"
            ],
            [
             0.4444444444444444,
             "#bd3786"
            ],
            [
             0.5555555555555556,
             "#d8576b"
            ],
            [
             0.6666666666666666,
             "#ed7953"
            ],
            [
             0.7777777777777778,
             "#fb9f3a"
            ],
            [
             0.8888888888888888,
             "#fdca26"
            ],
            [
             1,
             "#f0f921"
            ]
           ],
           "sequentialminus": [
            [
             0,
             "#0d0887"
            ],
            [
             0.1111111111111111,
             "#46039f"
            ],
            [
             0.2222222222222222,
             "#7201a8"
            ],
            [
             0.3333333333333333,
             "#9c179e"
            ],
            [
             0.4444444444444444,
             "#bd3786"
            ],
            [
             0.5555555555555556,
             "#d8576b"
            ],
            [
             0.6666666666666666,
             "#ed7953"
            ],
            [
             0.7777777777777778,
             "#fb9f3a"
            ],
            [
             0.8888888888888888,
             "#fdca26"
            ],
            [
             1,
             "#f0f921"
            ]
           ]
          },
          "colorway": [
           "#636efa",
           "#EF553B",
           "#00cc96",
           "#ab63fa",
           "#FFA15A",
           "#19d3f3",
           "#FF6692",
           "#B6E880",
           "#FF97FF",
           "#FECB52"
          ],
          "font": {
           "color": "#2a3f5f"
          },
          "geo": {
           "bgcolor": "white",
           "lakecolor": "white",
           "landcolor": "#E5ECF6",
           "showlakes": true,
           "showland": true,
           "subunitcolor": "white"
          },
          "hoverlabel": {
           "align": "left"
          },
          "hovermode": "closest",
          "mapbox": {
           "style": "light"
          },
          "paper_bgcolor": "white",
          "plot_bgcolor": "#E5ECF6",
          "polar": {
           "angularaxis": {
            "gridcolor": "white",
            "linecolor": "white",
            "ticks": ""
           },
           "bgcolor": "#E5ECF6",
           "radialaxis": {
            "gridcolor": "white",
            "linecolor": "white",
            "ticks": ""
           }
          },
          "scene": {
           "xaxis": {
            "backgroundcolor": "#E5ECF6",
            "gridcolor": "white",
            "gridwidth": 2,
            "linecolor": "white",
            "showbackground": true,
            "ticks": "",
            "zerolinecolor": "white"
           },
           "yaxis": {
            "backgroundcolor": "#E5ECF6",
            "gridcolor": "white",
            "gridwidth": 2,
            "linecolor": "white",
            "showbackground": true,
            "ticks": "",
            "zerolinecolor": "white"
           },
           "zaxis": {
            "backgroundcolor": "#E5ECF6",
            "gridcolor": "white",
            "gridwidth": 2,
            "linecolor": "white",
            "showbackground": true,
            "ticks": "",
            "zerolinecolor": "white"
           }
          },
          "shapedefaults": {
           "line": {
            "color": "#2a3f5f"
           }
          },
          "ternary": {
           "aaxis": {
            "gridcolor": "white",
            "linecolor": "white",
            "ticks": ""
           },
           "baxis": {
            "gridcolor": "white",
            "linecolor": "white",
            "ticks": ""
           },
           "bgcolor": "#E5ECF6",
           "caxis": {
            "gridcolor": "white",
            "linecolor": "white",
            "ticks": ""
           }
          },
          "title": {
           "x": 0.05
          },
          "xaxis": {
           "automargin": true,
           "gridcolor": "white",
           "linecolor": "white",
           "ticks": "",
           "title": {
            "standoff": 15
           },
           "zerolinecolor": "white",
           "zerolinewidth": 2
          },
          "yaxis": {
           "automargin": true,
           "gridcolor": "white",
           "linecolor": "white",
           "ticks": "",
           "title": {
            "standoff": 15
           },
           "zerolinecolor": "white",
           "zerolinewidth": 2
          }
         }
        },
        "title": {
         "text": "Classifier Fairness Impact by Attribute"
        },
        "width": 900,
        "xaxis": {
         "range": [
          0.3293533683669922,
          5.218086921974356
         ],
         "title": {
          "text": "Fairness Score (impact on model output)"
         },
         "zeroline": false
        },
        "yaxis": {
         "showgrid": false,
         "ticktext": [
          "Residence_type",
          "gender",
          "ever_married",
          "age"
         ],
         "tickvals": [
          0,
          1,
          2,
          3
         ],
         "title": {
          "text": ""
         }
        }
       }
      }
     },
     "metadata": {},
     "output_type": "display_data"
    }
   ],
   "source": [
    "import plotly.graph_objects as go\n",
    "import numpy as np\n",
    "\n",
    "def create_fairness_visualization(attributes, raw_scores, normalized_scores, title=\"Attribute Fairness Impact\"):\n",
    "    \"\"\"\n",
    "    Create a visualization of fairness scores with actual data values.\n",
    "    \n",
    "    Parameters:\n",
    "    -----------\n",
    "    attributes : list\n",
    "        List of attribute names\n",
    "    raw_scores : list of lists\n",
    "        Raw fairness scores for each attribute across multiple measurement points\n",
    "    normalized_scores : list of lists\n",
    "        Normalized fairness scores corresponding to raw scores\n",
    "    title : str\n",
    "        Title for the plot\n",
    "    \n",
    "    Returns:\n",
    "    --------\n",
    "    fig : plotly.graph_objects.Figure\n",
    "        The plotly figure object\n",
    "    \"\"\"\n",
    "    # Create figure\n",
    "    fig = go.Figure()\n",
    "    \n",
    "    # Calculate average raw scores for sorting\n",
    "    avg_raw_scores = [sum(scores)/len(scores) for scores in raw_scores]\n",
    "    \n",
    "    # Create sorting indices based on average raw scores\n",
    "    sort_indices = np.argsort(avg_raw_scores)\n",
    "    \n",
    "    # Sort attributes and scores\n",
    "    sorted_attributes = [attributes[i] for i in sort_indices]\n",
    "    sorted_raw_scores = [raw_scores[i] for i in sort_indices]\n",
    "    sorted_norm_scores = [normalized_scores[i] for i in sort_indices]\n",
    "    \n",
    "    # Set y-axis labels (attributes)\n",
    "    y_values = sorted_attributes\n",
    "    \n",
    "    # Add scatter points for each attribute\n",
    "    for i, (attr, raw_list, norm_list) in enumerate(zip(sorted_attributes, sorted_raw_scores, sorted_norm_scores)):\n",
    "        # Use actual data points instead of generated ones\n",
    "        x_values = raw_list\n",
    "        color_values = norm_list\n",
    "        point_count = len(x_values)\n",
    "        \n",
    "        # Add the points with a scatter plot\n",
    "        fig.add_trace(go.Scatter(\n",
    "            x=x_values,\n",
    "            y=[i] * point_count,\n",
    "            mode='markers',\n",
    "            marker=dict(\n",
    "                size=10,\n",
    "                color=color_values,\n",
    "                colorscale='RdBu',\n",
    "                line=dict(width=0),\n",
    "                opacity=0.7\n",
    "            ),\n",
    "            showlegend=False,\n",
    "            hoverinfo='text',\n",
    "            text=[f\"{attr}: {raw:.3f}\" for raw in x_values]\n",
    "        ))\n",
    "        \n",
    "        # Add a violin plot for density visualization using actual data\n",
    "        fig.add_trace(go.Violin(\n",
    "            x=x_values,\n",
    "            y=[i] * point_count,\n",
    "            box_visible=False,\n",
    "            points=False,\n",
    "            line_color='rgba(0, 0, 0, 0)',\n",
    "            fillcolor='rgba(180, 180, 180, 0.3)',\n",
    "            width=0.6,\n",
    "            side='both',\n",
    "            orientation='h',\n",
    "            showlegend=False,\n",
    "            hoverinfo='none'\n",
    "        ))\n",
    "        \n",
    "        # Add a larger point to highlight the mean raw score\n",
    "        mean_raw = sum(raw_list) / len(raw_list)\n",
    "        mean_norm = sum(norm_list) / len(norm_list)\n",
    "        fig.add_trace(go.Scatter(\n",
    "            x=[mean_raw],\n",
    "            y=[i],\n",
    "            mode='markers',\n",
    "            marker=dict(\n",
    "                size=14,\n",
    "                color=mean_norm,\n",
    "                colorscale='RdBu',\n",
    "                line=dict(width=1, color='black'),\n",
    "                opacity=1.0\n",
    "            ),\n",
    "            showlegend=False,\n",
    "            hoverinfo='text',\n",
    "            text=f\"{attr} (mean): {mean_raw:.3f}\"\n",
    "        ))\n",
    "    \n",
    "    # Configure layout\n",
    "    fig.update_layout(\n",
    "        title=title,\n",
    "        xaxis=dict(\n",
    "            title='Fairness Score (impact on model output)',\n",
    "            zeroline=False,\n",
    "            range=[min([min(scores) for scores in sorted_raw_scores]) - 0.2, \n",
    "                  max([max(scores) for scores in sorted_raw_scores]) + 0.2]\n",
    "        ),\n",
    "        yaxis=dict(\n",
    "            title='',\n",
    "            tickvals=list(range(len(y_values))),\n",
    "            ticktext=y_values,\n",
    "            showgrid=False\n",
    "        ),\n",
    "        height=max(400, len(sorted_attributes) * 40),  # Adjust height based on number of attributes\n",
    "        width=900,\n",
    "        coloraxis=dict(\n",
    "            colorbar=dict(\n",
    "                title=\"Feature value\",\n",
    "                tickvals=[0, 1],\n",
    "                ticktext=[\"Low\", \"High\"]\n",
    "            ),\n",
    "            colorscale='RdBu'\n",
    "        ),\n",
    "        plot_bgcolor='rgba(255, 255, 255, 1)',\n",
    "        margin=dict(l=150)  # Ensure enough space for attribute names\n",
    "    )\n",
    "    \n",
    "    return fig\n",
    "\n",
    "attributes = [att[0] for att in tab_lr[1:]]\n",
    "raw_scores = [[lr[1], mlp[1], xgb[1], cat[1]] for lr, mlp, xgb, cat in zip(tab_lr[1:], tab_mlp[1:], tab_xgb[1:], tab_cat[1:])]\n",
    "normalized_scores = [[lr[2], mlp[2], xgb[2], cat[2]] for lr, mlp, xgb, cat in zip(tab_lr[1:], tab_mlp[1:], tab_xgb[1:], tab_cat[1:])]\n",
    "\n",
    "fig = create_fairness_visualization(attributes, raw_scores, normalized_scores, \n",
    "                                  title=\"Classifier Fairness Impact by Attribute\")\n",
    "fig.show()"
   ]
  },
  {
   "cell_type": "code",
   "execution_count": null,
   "id": "e0c870b7-a454-4643-82e8-8fcae82bce58",
   "metadata": {},
   "outputs": [],
   "source": []
  }
 ],
 "metadata": {
  "kernelspec": {
   "display_name": "test",
   "language": "python",
   "name": "python3"
  },
  "language_info": {
   "codemirror_mode": {
    "name": "ipython",
    "version": 3
   },
   "file_extension": ".py",
   "mimetype": "text/x-python",
   "name": "python",
   "nbconvert_exporter": "python",
   "pygments_lexer": "ipython3",
   "version": "3.11.13"
  }
 },
 "nbformat": 4,
 "nbformat_minor": 5
}
