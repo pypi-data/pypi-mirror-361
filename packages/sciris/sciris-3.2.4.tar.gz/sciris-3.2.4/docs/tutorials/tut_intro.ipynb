{
 "cells": [
  {
   "cell_type": "markdown",
   "metadata": {
    "tags": []
   },
   "source": [
    "# Whirlwind tour"
   ]
  },
  {
   "cell_type": "markdown",
   "metadata": {},
   "source": [
    "Doing science in Python is fun. But it can also be a pain. Sciris can't make it any more fun, but hopefully it can make it less of a pain. This tutorial showcases some of Sciris' most commonly used features, which are intended to help Python get out of the way of your science. It won't write your code for you like [ChatGPT](https://chat.openai.com), but it does mean you have less code to write."
   ]
  },
  {
   "cell_type": "markdown",
   "metadata": {},
   "source": [
    "<div class=\"alert alert-info\">\n",
    "    \n",
    "Click [here](https://mybinder.org/v2/gh/sciris/sciris/HEAD?labpath=docs%2Ftutorials%2Ftut_intro.ipynb) to open an interactive version of this notebook.\n",
    "    \n",
    "</div>"
   ]
  },
  {
   "cell_type": "markdown",
   "metadata": {},
   "source": [
    "## Simple data operations\n",
    "\n",
    "While Sciris does add some new features (we'll get to those later), its main purpose is to let you do the things you're already doing more easily. For example, finding values in an array:"
   ]
  },
  {
   "cell_type": "code",
   "execution_count": null,
   "metadata": {},
   "outputs": [],
   "source": [
    "import numpy as np\n",
    "import sciris as sc\n",
    "\n",
    "data = np.random.rand(50)\n",
    "inds = sc.findinds(data>0.9)\n",
    "\n",
    "print(f'While the mean of the data was {sc.arraymean(data)}, '\n",
    "      f'there were {len(inds)} values over 0.9: '\n",
    "      f'these were {sc.strjoin(inds)}.')"
   ]
  },
  {
   "cell_type": "markdown",
   "metadata": {},
   "source": [
    "I'm sure you already knew how to find indices of an array, calculate the mean and standard deviation, and turn a list of values into a string. But it's nice if those things can be made easier, right?"
   ]
  },
  {
   "cell_type": "markdown",
   "metadata": {},
   "source": [
    "## Simple data containers and plotting\n",
    "\n",
    "Matplotlib, NumPy, and pandas are all fantastic -- but often they provide lower-level interfaces than what is commonly needed, meaning that some tasks can be made even simpler."
   ]
  },
  {
   "cell_type": "code",
   "execution_count": null,
   "metadata": {
    "tags": []
   },
   "outputs": [],
   "source": [
    "import matplotlib.pyplot as plt\n",
    "\n",
    "# Create some data\n",
    "dates = sc.daterange('2022-01-01', '2022-02-28', as_date=True) # Create a list of dates\n",
    "values = 1e6*np.random.randn(31+28)**2 # Generate some values\n",
    "outliers = values > 2*values.mean() # Find outliers\n",
    "\n",
    "# Plot\n",
    "data = sc.dataframe(x=dates, y=values, outliers=outliers) # Shortcut to pd.DataFrame\n",
    "plt.scatter(data.x, data.y, c=data.outliers) # Vanilla Matplotlib!\n",
    "sc.dateformatter() # Format a date axis nicely\n",
    "sc.SIticks() # Convert the y-axis to use SI notation\n",
    "plt.show()\n",
    "\n",
    "# Describe results\n",
    "mean = sc.sigfig(data.y.mean(), 3, sep=True)\n",
    "print(f'The data had mean {mean} and there were {data.outliers.sum()} outliers.')"
   ]
  },
  {
   "cell_type": "markdown",
   "metadata": {},
   "source": [
    "## Simple containers\n",
    "\n",
    "Can't decide if something should be a dict or an object? Do you want the flexibility of a dict, but the convenience and explicitness of an object? Well, why not use both?"
   ]
  },
  {
   "cell_type": "code",
   "execution_count": null,
   "metadata": {},
   "outputs": [],
   "source": [
    "data = sc.objdict(a=[1,2,3], b=[4,5,6]) \n",
    "\n",
    "assert data.a == data['a'] == data[0] # Flexible options for indexing\n",
    "assert data[:].sum() == 21 # You can sum a dict!\n",
    "for i, key, value in data.enumitems():\n",
    "  print(f'Item {i} is named \"{key}\" and has value {value}')"
   ]
  },
  {
   "cell_type": "markdown",
   "metadata": {},
   "source": [
    "## Loading and saving\n",
    "\n",
    "Do you have a custom object that it would be nice to be able to save and pick up where you left off?"
   ]
  },
  {
   "cell_type": "code",
   "execution_count": null,
   "metadata": {},
   "outputs": [],
   "source": [
    "class Sim:\n",
    "    \n",
    "    def __init__(self, days, trials):\n",
    "        self.days = days\n",
    "        self.trials = trials\n",
    "    \n",
    "    def run(self):\n",
    "        self.x = np.arange(self.days)\n",
    "        self.y = np.cumsum(np.random.randn(self.days, self.trials)**3, axis=0)\n",
    "    \n",
    "    def plot(self):\n",
    "        with plt.style.context('sciris.fancy'): # Custom plot style\n",
    "            plt.plot(self.x, self.y, alpha=0.6)\n",
    "\n",
    "# Run and save\n",
    "sim = Sim(days=100, trials=10)\n",
    "sim.run()\n",
    "sc.save('my-sim.obj', sim) # Save any Python object to disk\n",
    "\n",
    "# Load and plot\n",
    "new_sim = sc.load('my-sim.obj') # Load any Python object\n",
    "new_sim.plot()"
   ]
  },
  {
   "cell_type": "markdown",
   "metadata": {},
   "source": [
    "## Parallelization\n",
    "\n",
    "Have you ever thought \"Gosh, I should really parallelize this code, but it's going to take too long, and besides doctors say you should get up and stretch everyone once in a while, so it's OK that I'm waiting for 9 minutes out of every 10 while my code runs\"? This might be for you."
   ]
  },
  {
   "cell_type": "code",
   "execution_count": null,
   "metadata": {},
   "outputs": [],
   "source": [
    "# Define the function to parallelize\n",
    "def func(scale, x_offset, y_offset):\n",
    "    np.random.seed(scale)\n",
    "    data = sc.objdict()\n",
    "    data.scale = scale\n",
    "    data.x = x_offset+scale*np.random.randn(100)\n",
    "    data.y = y_offset+scale*np.random.randn(100)\n",
    "    return data\n",
    "\n",
    "# Run in parallel\n",
    "scales = [40,30,20,10] # Reverse order is easier to see when plotted\n",
    "results = sc.parallelize(func, iterkwargs=dict(scale=scales), x_offset=5, y_offset=10)\n",
    "\n",
    "# Plot\n",
    "sc.options(dpi=120, jupyter=True) # Set the figure DPI and backend\n",
    "for data in results:\n",
    "    plt.scatter(data.x, data.y, alpha=0.5, label=f'Scale {data.scale}')\n",
    "plt.legend()\n",
    "sc.boxoff(); # Remove top and right spines"
   ]
  },
  {
   "cell_type": "markdown",
   "metadata": {},
   "source": [
    "## Putting it all together\n",
    "\n",
    "Here's the \"showcase\" example of the wave generator from the [getting started](http://docs.sciris.org/overview.html) page, which hopefully now makes more sense!"
   ]
  },
  {
   "cell_type": "code",
   "execution_count": null,
   "metadata": {},
   "outputs": [],
   "source": [
    "# Define random wave generator\n",
    "def randwave(std, xmin=0, xmax=10, npts=50):\n",
    "    np.random.seed(int(100*std)) # Ensure differences between runs\n",
    "    a = np.cos(np.linspace(xmin, xmax, npts))\n",
    "    b = np.random.randn(npts)\n",
    "    return a + b*std\n",
    "\n",
    "# Start timing\n",
    "T = sc.timer()\n",
    "\n",
    "# Calculate output in parallel\n",
    "waves = sc.parallelize(randwave, np.linspace(0, 1, 11))\n",
    "\n",
    "# Save to files\n",
    "filenames = [sc.save(f'wave{i}.obj', wave) for i,wave in enumerate(waves)]\n",
    "\n",
    "# Create dict from files\n",
    "data = sc.odict({fname:sc.load(fname) for fname in filenames})\n",
    "\n",
    "# Create 3D plot\n",
    "sc.surf3d(data[:], cmap='orangeblue')\n",
    "plt.show()\n",
    "\n",
    "# Print elapsed time\n",
    "T.toc('Congratulations, you finished the first tutorial')"
   ]
  }
 ],
 "metadata": {
  "kernelspec": {
   "display_name": "Python 3 (ipykernel)",
   "language": "python",
   "name": "python3"
  },
  "language_info": {
   "codemirror_mode": {
    "name": "ipython",
    "version": 3
   },
   "file_extension": ".py",
   "mimetype": "text/x-python",
   "name": "python",
   "nbconvert_exporter": "python",
   "pygments_lexer": "ipython3",
   "version": "3.9.16"
  },
  "toc": {
   "base_numbering": 1,
   "nav_menu": {},
   "number_sections": true,
   "sideBar": true,
   "skip_h1_title": false,
   "title_cell": "Table of Contents",
   "title_sidebar": "Contents",
   "toc_cell": false,
   "toc_position": {},
   "toc_section_display": true,
   "toc_window_display": false
  }
 },
 "nbformat": 4,
 "nbformat_minor": 4
}
