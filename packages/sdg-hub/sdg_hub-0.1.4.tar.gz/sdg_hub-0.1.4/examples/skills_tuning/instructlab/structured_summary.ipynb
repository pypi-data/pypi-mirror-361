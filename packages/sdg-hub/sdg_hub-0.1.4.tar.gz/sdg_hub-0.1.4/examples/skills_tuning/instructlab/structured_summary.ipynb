{
 "cells": [
  {
   "cell_type": "code",
   "execution_count": 1,
   "metadata": {},
   "outputs": [],
   "source": [
    "%load_ext autoreload\n",
    "%autoreload 2"
   ]
  },
  {
   "cell_type": "code",
   "execution_count": 2,
   "metadata": {},
   "outputs": [
    {
     "name": "stderr",
     "output_type": "stream",
     "text": [
      "/home/lab/.conda/envs/sdg_hub/lib/python3.11/site-packages/tqdm/auto.py:21: TqdmWarning: IProgress not found. Please update jupyter and ipywidgets. See https://ipywidgets.readthedocs.io/en/stable/user_install.html\n",
      "  from .autonotebook import tqdm as notebook_tqdm\n"
     ]
    }
   ],
   "source": [
    "# Standard\n",
    "import random\n",
    "\n",
    "# Third Party\n",
    "from datasets import Dataset, load_dataset\n",
    "from openai import OpenAI\n",
    "from rich import print\n",
    "from rich.console import Console\n",
    "from rich.panel import Panel\n",
    "from rich.syntax import Syntax\n",
    "import yaml\n",
    "\n",
    "# First Party\n",
    "from sdg_hub.flow import Flow\n",
    "from sdg_hub.sdg import SDG\n",
    "from blocks import *"
   ]
  },
  {
   "cell_type": "markdown",
   "metadata": {},
   "source": [
    "## 🧾 Use Case 3: Structured Summary from Conversations\n",
    "\n",
    "In many enterprise workflows, unstructured conversations—like meeting transcripts, support calls, or financial briefings—contain valuable insights that need to be distilled into structured formats for downstream processing.\n",
    "\n",
    "In this use case, we aim to extract **structured summaries** from raw conversational transcripts. Specifically, we want the model to extract:\n",
    "\n",
    "- A concise **summary** of the conversation\n",
    "- Relevant **keywords**\n",
    "- **Named entities** such as people, organizations, and dates\n",
    "- The **sentiment** of the discussion\n",
    "\n",
    "\n",
    "### Why is this useful?\n",
    "\n",
    "Rather than just generating freeform text, this task helps transform unstructured inputs into **machine-readable structured outputs**, making it suitable for:\n",
    "\n",
    "- Reporting dashboards  \n",
    "- Automated indexing and retrieval  \n",
    "- Analytics pipelines  \n",
    "- Compliance and auditing tools\n",
    "\n",
    "### PDF Data \n",
    "\n",
    "You can find the pdf data here: [seed_data/financial_call_transcripts](seed_data/financial_call_transcripts)"
   ]
  },
  {
   "cell_type": "markdown",
   "metadata": {},
   "source": [
    "## 🧑‍🏫 Step 1: Set Up the Teacher Model\n",
    "\n",
    "This demo expects an openai compatible endpoint. You can use your favorite inference server like vLLM, HFInferenceServer, LlamaStack, etc. For more details on how to setup an inference server using vLLM, please refer to the [README](README.md).\n",
    "\n",
    "For this demo we will use Llama-3.3-70B-Instruct as our teacher model.\n",
    "\n",
    "#### Let's test the connection"
   ]
  },
  {
   "cell_type": "code",
   "execution_count": 3,
   "metadata": {},
   "outputs": [
    {
     "data": {
      "text/html": [
       "<pre style=\"white-space:pre;overflow-x:auto;line-height:normal;font-family:Menlo,'DejaVu Sans Mono',consolas,'Courier New',monospace\"><span style=\"color: #7fbfbf; text-decoration-color: #7fbfbf\">[19:30:15] </span><span style=\"color: #000080; text-decoration-color: #000080\">INFO    </span> HTTP Request: <span style=\"color: #808000; text-decoration-color: #808000; font-weight: bold\">GET</span> <span style=\"color: #0000ff; text-decoration-color: #0000ff; text-decoration: underline\">http://0.0.0.0:8000/v1/models</span> <span style=\"color: #008000; text-decoration-color: #008000\">\"HTTP/1.1 200 OK\"</span>               <a href=\"file:///home/lab/.conda/envs/sdg_hub/lib/python3.11/site-packages/httpx/_client.py\" target=\"_blank\"><span style=\"color: #7f7f7f; text-decoration-color: #7f7f7f\">_client.py</span></a><span style=\"color: #7f7f7f; text-decoration-color: #7f7f7f\">:</span><a href=\"file:///home/lab/.conda/envs/sdg_hub/lib/python3.11/site-packages/httpx/_client.py#1025\" target=\"_blank\"><span style=\"color: #7f7f7f; text-decoration-color: #7f7f7f\">1025</span></a>\n",
       "</pre>\n"
      ],
      "text/plain": [
       "\u001b[2;36m[19:30:15]\u001b[0m\u001b[2;36m \u001b[0m\u001b[34mINFO    \u001b[0m HTTP Request: \u001b[1;33mGET\u001b[0m \u001b[4;94mhttp://0.0.0.0:8000/v1/models\u001b[0m \u001b[32m\"HTTP/1.1 200 OK\"\u001b[0m               \u001b]8;id=589681;file:///home/lab/.conda/envs/sdg_hub/lib/python3.11/site-packages/httpx/_client.py\u001b\\\u001b[2m_client.py\u001b[0m\u001b]8;;\u001b\\\u001b[2m:\u001b[0m\u001b]8;id=528115;file:///home/lab/.conda/envs/sdg_hub/lib/python3.11/site-packages/httpx/_client.py#1025\u001b\\\u001b[2m1025\u001b[0m\u001b]8;;\u001b\\\n"
      ]
     },
     "metadata": {},
     "output_type": "display_data"
    },
    {
     "data": {
      "text/html": [
       "<pre style=\"white-space:pre;overflow-x:auto;line-height:normal;font-family:Menlo,'DejaVu Sans Mono',consolas,'Courier New',monospace\"><span style=\"color: #7fbfbf; text-decoration-color: #7fbfbf\">[19:30:16] </span><span style=\"color: #000080; text-decoration-color: #000080\">INFO    </span> HTTP Request: <span style=\"color: #808000; text-decoration-color: #808000; font-weight: bold\">POST</span> <span style=\"color: #0000ff; text-decoration-color: #0000ff; text-decoration: underline\">http://0.0.0.0:8000/v1/chat/completions</span> <span style=\"color: #008000; text-decoration-color: #008000\">\"HTTP/1.1 200 OK\"</span>    <a href=\"file:///home/lab/.conda/envs/sdg_hub/lib/python3.11/site-packages/httpx/_client.py\" target=\"_blank\"><span style=\"color: #7f7f7f; text-decoration-color: #7f7f7f\">_client.py</span></a><span style=\"color: #7f7f7f; text-decoration-color: #7f7f7f\">:</span><a href=\"file:///home/lab/.conda/envs/sdg_hub/lib/python3.11/site-packages/httpx/_client.py#1025\" target=\"_blank\"><span style=\"color: #7f7f7f; text-decoration-color: #7f7f7f\">1025</span></a>\n",
       "</pre>\n"
      ],
      "text/plain": [
       "\u001b[2;36m[19:30:16]\u001b[0m\u001b[2;36m \u001b[0m\u001b[34mINFO    \u001b[0m HTTP Request: \u001b[1;33mPOST\u001b[0m \u001b[4;94mhttp://0.0.0.0:8000/v1/chat/completions\u001b[0m \u001b[32m\"HTTP/1.1 200 OK\"\u001b[0m    \u001b]8;id=835684;file:///home/lab/.conda/envs/sdg_hub/lib/python3.11/site-packages/httpx/_client.py\u001b\\\u001b[2m_client.py\u001b[0m\u001b]8;;\u001b\\\u001b[2m:\u001b[0m\u001b]8;id=977004;file:///home/lab/.conda/envs/sdg_hub/lib/python3.11/site-packages/httpx/_client.py#1025\u001b\\\u001b[2m1025\u001b[0m\u001b]8;;\u001b\\\n"
      ]
     },
     "metadata": {},
     "output_type": "display_data"
    },
    {
     "data": {
      "text/html": [
       "<pre style=\"white-space:pre;overflow-x:auto;line-height:normal;font-family:Menlo,'DejaVu Sans Mono',consolas,'Courier New',monospace\">Connection successful! meta-llama/Llama-<span style=\"color: #008080; text-decoration-color: #008080; font-weight: bold\">3.3</span>-70B-Instruct: Hello. How can I help you today?\n",
       "</pre>\n"
      ],
      "text/plain": [
       "Connection successful! meta-llama/Llama-\u001b[1;36m3.3\u001b[0m-70B-Instruct: Hello. How can I help you today?\n"
      ]
     },
     "metadata": {},
     "output_type": "display_data"
    }
   ],
   "source": [
    "openai_api_key = \"EMPTY\"  # replace with your inference server api key\n",
    "openai_api_base = (\n",
    "    \"http://0.0.0.0:8000/v1\"  # replace with your inference server endpoint\n",
    ")\n",
    "\n",
    "\n",
    "client = OpenAI(\n",
    "    api_key=openai_api_key,\n",
    "    base_url=openai_api_base,\n",
    ")\n",
    "\n",
    "models = client.models.list()\n",
    "teacher_model = models.data[0].id\n",
    "\n",
    "# Test the connection with a simple completion\n",
    "response = client.chat.completions.create(\n",
    "    model=teacher_model,\n",
    "    messages=[{\"role\": \"user\", \"content\": \"Hello!\"}],\n",
    "    temperature=0.0,\n",
    "    max_tokens=10,\n",
    ")\n",
    "completion = response.choices[0].message.content\n",
    "\n",
    "print(f\"Connection successful! {teacher_model}: {completion}\")"
   ]
  },
  {
   "cell_type": "code",
   "execution_count": 4,
   "metadata": {},
   "outputs": [
    {
     "data": {
      "text/plain": [
       "{'conversation_id': 'c47a92e006b54d014a79b447528c55a7',\n",
       " 'pdf_path': 'seed_data/financial_call_transcripts/c47a92e006b54d014a79b447528c55a7.pdf'}"
      ]
     },
     "execution_count": 4,
     "metadata": {},
     "output_type": "execute_result"
    }
   ],
   "source": [
    "seed_data = load_dataset(\n",
    "    \"json\", data_files=\"seed_data/financial_call_transcripts.jsonl\", split=\"train\"\n",
    ")\n",
    "\n",
    "seed_data[0]"
   ]
  },
  {
   "cell_type": "markdown",
   "metadata": {},
   "source": [
    "## Setting up the pipeline\n",
    "\n",
    "\n",
    "In this section, we walk through a pipeline designed to process financial call transcripts (in PDF format) and extract structured insights using LLM-powered blocks. This is a classic example of transforming unstructured text into structured JSON for downstream analysis.\n",
    "\n",
    "\n",
    "\n",
    "This YAML defines a flow that reads PDF transcripts, parses them into text, and then uses LLMs to extract:\n",
    "* ✅ Summary of the transcript\n",
    "* ✅ Key topics or keywords\n",
    "* ✅ Mentioned named entities (people, organizations, locations, etc.)\n",
    "* ✅ Overall sentiment of the call\n",
    "\n",
    "All of these are combined into a final structured json_output.\n",
    "\n",
    "\n",
    "```mermaid \n",
    "graph LR\n",
    "    A[PDF Transcript] --> B[parse_transcript<br/>DoclingParsePDF]\n",
    "    B --> C[conversation]\n",
    "    C --> D[add_question<br/>AddStaticValue]\n",
    "    D --> E[gen_summary<br/>LLMBlock]\n",
    "    E --> F[gen_keywords<br/>LLMBlock]\n",
    "    F --> G[gen_named_entities<br/>LLMBlock]\n",
    "    G --> H[gen_sentiment<br/>LLMBlock]\n",
    "\n",
    "    H --> I[format_json<br/>JSONFormat]\n",
    "    I --> J[json_output]\n",
    "```"
   ]
  },
  {
   "cell_type": "code",
   "execution_count": 5,
   "metadata": {},
   "outputs": [
    {
     "data": {
      "text/html": [
       "<pre style=\"white-space:pre;overflow-x:auto;line-height:normal;font-family:Menlo,'DejaVu Sans Mono',consolas,'Courier New',monospace\">╭────────────────────────────── 🔧 Flow Configuration: Grounded Summary Extraction ───────────────────────────────╮\n",
       "│ <span style=\"background-color: #f8f8f8\">-</span><span style=\"color: #bbbbbb; text-decoration-color: #bbbbbb; background-color: #f8f8f8\"> </span><span style=\"color: #008000; text-decoration-color: #008000; background-color: #f8f8f8; font-weight: bold\">block_type</span><span style=\"color: #000000; text-decoration-color: #000000; background-color: #f8f8f8\">:</span><span style=\"color: #bbbbbb; text-decoration-color: #bbbbbb; background-color: #f8f8f8\"> </span><span style=\"background-color: #f8f8f8\">DoclingParsePDF                                                                                  </span> │\n",
       "│ <span style=\"color: #bbbbbb; text-decoration-color: #bbbbbb; background-color: #f8f8f8\">  </span><span style=\"color: #008000; text-decoration-color: #008000; background-color: #f8f8f8; font-weight: bold\">block_config</span><span style=\"color: #000000; text-decoration-color: #000000; background-color: #f8f8f8\">:</span><span style=\"background-color: #f8f8f8\">                                                                                                </span> │\n",
       "│ <span style=\"color: #bbbbbb; text-decoration-color: #bbbbbb; background-color: #f8f8f8\">    </span><span style=\"color: #008000; text-decoration-color: #008000; background-color: #f8f8f8; font-weight: bold\">block_name</span><span style=\"color: #000000; text-decoration-color: #000000; background-color: #f8f8f8\">:</span><span style=\"color: #bbbbbb; text-decoration-color: #bbbbbb; background-color: #f8f8f8\"> </span><span style=\"background-color: #f8f8f8\">parse_transcript                                                                               </span> │\n",
       "│ <span style=\"color: #bbbbbb; text-decoration-color: #bbbbbb; background-color: #f8f8f8\">    </span><span style=\"color: #008000; text-decoration-color: #008000; background-color: #f8f8f8; font-weight: bold\">pdf_path_column</span><span style=\"color: #000000; text-decoration-color: #000000; background-color: #f8f8f8\">:</span><span style=\"color: #bbbbbb; text-decoration-color: #bbbbbb; background-color: #f8f8f8\"> </span><span style=\"background-color: #f8f8f8\">pdf_path                                                                                  </span> │\n",
       "│ <span style=\"color: #bbbbbb; text-decoration-color: #bbbbbb; background-color: #f8f8f8\">    </span><span style=\"color: #008000; text-decoration-color: #008000; background-color: #f8f8f8; font-weight: bold\">output_column</span><span style=\"color: #000000; text-decoration-color: #000000; background-color: #f8f8f8\">:</span><span style=\"color: #bbbbbb; text-decoration-color: #bbbbbb; background-color: #f8f8f8\"> </span><span style=\"background-color: #f8f8f8\">conversation                                                                                </span> │\n",
       "│ <span style=\"background-color: #f8f8f8\">-</span><span style=\"color: #bbbbbb; text-decoration-color: #bbbbbb; background-color: #f8f8f8\"> </span><span style=\"color: #008000; text-decoration-color: #008000; background-color: #f8f8f8; font-weight: bold\">block_type</span><span style=\"color: #000000; text-decoration-color: #000000; background-color: #f8f8f8\">:</span><span style=\"color: #bbbbbb; text-decoration-color: #bbbbbb; background-color: #f8f8f8\"> </span><span style=\"background-color: #f8f8f8\">AddStaticValue                                                                                   </span> │\n",
       "│ <span style=\"color: #bbbbbb; text-decoration-color: #bbbbbb; background-color: #f8f8f8\">  </span><span style=\"color: #008000; text-decoration-color: #008000; background-color: #f8f8f8; font-weight: bold\">block_config</span><span style=\"color: #000000; text-decoration-color: #000000; background-color: #f8f8f8\">:</span><span style=\"background-color: #f8f8f8\">                                                                                                </span> │\n",
       "│ <span style=\"color: #bbbbbb; text-decoration-color: #bbbbbb; background-color: #f8f8f8\">    </span><span style=\"color: #008000; text-decoration-color: #008000; background-color: #f8f8f8; font-weight: bold\">block_name</span><span style=\"color: #000000; text-decoration-color: #000000; background-color: #f8f8f8\">:</span><span style=\"color: #bbbbbb; text-decoration-color: #bbbbbb; background-color: #f8f8f8\"> </span><span style=\"background-color: #f8f8f8\">add_question                                                                                   </span> │\n",
       "│ <span style=\"color: #bbbbbb; text-decoration-color: #bbbbbb; background-color: #f8f8f8\">    </span><span style=\"color: #008000; text-decoration-color: #008000; background-color: #f8f8f8; font-weight: bold\">column_name</span><span style=\"color: #000000; text-decoration-color: #000000; background-color: #f8f8f8\">:</span><span style=\"color: #bbbbbb; text-decoration-color: #bbbbbb; background-color: #f8f8f8\"> </span><span style=\"background-color: #f8f8f8\">question                                                                                      </span> │\n",
       "│ <span style=\"color: #bbbbbb; text-decoration-color: #bbbbbb; background-color: #f8f8f8\">    </span><span style=\"color: #008000; text-decoration-color: #008000; background-color: #f8f8f8; font-weight: bold\">static_value</span><span style=\"color: #000000; text-decoration-color: #000000; background-color: #f8f8f8\">:</span><span style=\"color: #bbbbbb; text-decoration-color: #bbbbbb; background-color: #f8f8f8\"> </span><span style=\"background-color: #f8f8f8\">Extract summary, keywords, named entities, and sentiment from the                            </span> │\n",
       "│ <span style=\"color: #bbbbbb; text-decoration-color: #bbbbbb; background-color: #f8f8f8\">      </span><span style=\"background-color: #f8f8f8\">transcript and return in JSON format.                                                                    </span> │\n",
       "│ <span style=\"background-color: #f8f8f8\">-</span><span style=\"color: #bbbbbb; text-decoration-color: #bbbbbb; background-color: #f8f8f8\"> </span><span style=\"color: #008000; text-decoration-color: #008000; background-color: #f8f8f8; font-weight: bold\">block_type</span><span style=\"color: #000000; text-decoration-color: #000000; background-color: #f8f8f8\">:</span><span style=\"color: #bbbbbb; text-decoration-color: #bbbbbb; background-color: #f8f8f8\"> </span><span style=\"background-color: #f8f8f8\">LLMBlock                                                                                         </span> │\n",
       "│ <span style=\"color: #bbbbbb; text-decoration-color: #bbbbbb; background-color: #f8f8f8\">  </span><span style=\"color: #008000; text-decoration-color: #008000; background-color: #f8f8f8; font-weight: bold\">block_config</span><span style=\"color: #000000; text-decoration-color: #000000; background-color: #f8f8f8\">:</span><span style=\"background-color: #f8f8f8\">                                                                                                </span> │\n",
       "│ <span style=\"color: #bbbbbb; text-decoration-color: #bbbbbb; background-color: #f8f8f8\">    </span><span style=\"color: #008000; text-decoration-color: #008000; background-color: #f8f8f8; font-weight: bold\">block_name</span><span style=\"color: #000000; text-decoration-color: #000000; background-color: #f8f8f8\">:</span><span style=\"color: #bbbbbb; text-decoration-color: #bbbbbb; background-color: #f8f8f8\"> </span><span style=\"background-color: #f8f8f8\">gen_summary                                                                                    </span> │\n",
       "│ <span style=\"color: #bbbbbb; text-decoration-color: #bbbbbb; background-color: #f8f8f8\">    </span><span style=\"color: #008000; text-decoration-color: #008000; background-color: #f8f8f8; font-weight: bold\">model_id</span><span style=\"color: #000000; text-decoration-color: #000000; background-color: #f8f8f8\">:</span><span style=\"color: #bbbbbb; text-decoration-color: #bbbbbb; background-color: #f8f8f8\"> </span><span style=\"background-color: #f8f8f8\">meta-llama/Llama-3.3-70B-Instruct                                                                </span> │\n",
       "│ <span style=\"color: #bbbbbb; text-decoration-color: #bbbbbb; background-color: #f8f8f8\">    </span><span style=\"color: #008000; text-decoration-color: #008000; background-color: #f8f8f8; font-weight: bold\">config_path</span><span style=\"color: #000000; text-decoration-color: #000000; background-color: #f8f8f8\">:</span><span style=\"color: #bbbbbb; text-decoration-color: #bbbbbb; background-color: #f8f8f8\"> </span><span style=\"background-color: #f8f8f8\">../prompts/summary.yaml                                                                       </span> │\n",
       "│ <span style=\"color: #bbbbbb; text-decoration-color: #bbbbbb; background-color: #f8f8f8\">    </span><span style=\"color: #008000; text-decoration-color: #008000; background-color: #f8f8f8; font-weight: bold\">output_cols</span><span style=\"color: #000000; text-decoration-color: #000000; background-color: #f8f8f8\">:</span><span style=\"background-color: #f8f8f8\">                                                                                               </span> │\n",
       "│ <span style=\"color: #bbbbbb; text-decoration-color: #bbbbbb; background-color: #f8f8f8\">    </span><span style=\"background-color: #f8f8f8\">-</span><span style=\"color: #bbbbbb; text-decoration-color: #bbbbbb; background-color: #f8f8f8\"> </span><span style=\"background-color: #f8f8f8\">summary                                                                                                  </span> │\n",
       "│ <span style=\"background-color: #f8f8f8\">-</span><span style=\"color: #bbbbbb; text-decoration-color: #bbbbbb; background-color: #f8f8f8\"> </span><span style=\"color: #008000; text-decoration-color: #008000; background-color: #f8f8f8; font-weight: bold\">block_type</span><span style=\"color: #000000; text-decoration-color: #000000; background-color: #f8f8f8\">:</span><span style=\"color: #bbbbbb; text-decoration-color: #bbbbbb; background-color: #f8f8f8\"> </span><span style=\"background-color: #f8f8f8\">LLMBlock                                                                                         </span> │\n",
       "│ <span style=\"color: #bbbbbb; text-decoration-color: #bbbbbb; background-color: #f8f8f8\">  </span><span style=\"color: #008000; text-decoration-color: #008000; background-color: #f8f8f8; font-weight: bold\">block_config</span><span style=\"color: #000000; text-decoration-color: #000000; background-color: #f8f8f8\">:</span><span style=\"background-color: #f8f8f8\">                                                                                                </span> │\n",
       "│ <span style=\"color: #bbbbbb; text-decoration-color: #bbbbbb; background-color: #f8f8f8\">    </span><span style=\"color: #008000; text-decoration-color: #008000; background-color: #f8f8f8; font-weight: bold\">block_name</span><span style=\"color: #000000; text-decoration-color: #000000; background-color: #f8f8f8\">:</span><span style=\"color: #bbbbbb; text-decoration-color: #bbbbbb; background-color: #f8f8f8\"> </span><span style=\"background-color: #f8f8f8\">gen_keywords                                                                                   </span> │\n",
       "│ <span style=\"color: #bbbbbb; text-decoration-color: #bbbbbb; background-color: #f8f8f8\">    </span><span style=\"color: #008000; text-decoration-color: #008000; background-color: #f8f8f8; font-weight: bold\">model_id</span><span style=\"color: #000000; text-decoration-color: #000000; background-color: #f8f8f8\">:</span><span style=\"color: #bbbbbb; text-decoration-color: #bbbbbb; background-color: #f8f8f8\"> </span><span style=\"background-color: #f8f8f8\">meta-llama/Llama-3.3-70B-Instruct                                                                </span> │\n",
       "│ <span style=\"color: #bbbbbb; text-decoration-color: #bbbbbb; background-color: #f8f8f8\">    </span><span style=\"color: #008000; text-decoration-color: #008000; background-color: #f8f8f8; font-weight: bold\">config_path</span><span style=\"color: #000000; text-decoration-color: #000000; background-color: #f8f8f8\">:</span><span style=\"color: #bbbbbb; text-decoration-color: #bbbbbb; background-color: #f8f8f8\"> </span><span style=\"background-color: #f8f8f8\">../prompts/keywords.yaml                                                                      </span> │\n",
       "│ <span style=\"color: #bbbbbb; text-decoration-color: #bbbbbb; background-color: #f8f8f8\">    </span><span style=\"color: #008000; text-decoration-color: #008000; background-color: #f8f8f8; font-weight: bold\">output_cols</span><span style=\"color: #000000; text-decoration-color: #000000; background-color: #f8f8f8\">:</span><span style=\"background-color: #f8f8f8\">                                                                                               </span> │\n",
       "│ <span style=\"color: #bbbbbb; text-decoration-color: #bbbbbb; background-color: #f8f8f8\">    </span><span style=\"background-color: #f8f8f8\">-</span><span style=\"color: #bbbbbb; text-decoration-color: #bbbbbb; background-color: #f8f8f8\"> </span><span style=\"background-color: #f8f8f8\">keywords                                                                                                 </span> │\n",
       "│ <span style=\"background-color: #f8f8f8\">-</span><span style=\"color: #bbbbbb; text-decoration-color: #bbbbbb; background-color: #f8f8f8\"> </span><span style=\"color: #008000; text-decoration-color: #008000; background-color: #f8f8f8; font-weight: bold\">block_type</span><span style=\"color: #000000; text-decoration-color: #000000; background-color: #f8f8f8\">:</span><span style=\"color: #bbbbbb; text-decoration-color: #bbbbbb; background-color: #f8f8f8\"> </span><span style=\"background-color: #f8f8f8\">LLMBlock                                                                                         </span> │\n",
       "│ <span style=\"color: #bbbbbb; text-decoration-color: #bbbbbb; background-color: #f8f8f8\">  </span><span style=\"color: #008000; text-decoration-color: #008000; background-color: #f8f8f8; font-weight: bold\">block_config</span><span style=\"color: #000000; text-decoration-color: #000000; background-color: #f8f8f8\">:</span><span style=\"background-color: #f8f8f8\">                                                                                                </span> │\n",
       "│ <span style=\"color: #bbbbbb; text-decoration-color: #bbbbbb; background-color: #f8f8f8\">    </span><span style=\"color: #008000; text-decoration-color: #008000; background-color: #f8f8f8; font-weight: bold\">block_name</span><span style=\"color: #000000; text-decoration-color: #000000; background-color: #f8f8f8\">:</span><span style=\"color: #bbbbbb; text-decoration-color: #bbbbbb; background-color: #f8f8f8\"> </span><span style=\"background-color: #f8f8f8\">gen_named_entities                                                                             </span> │\n",
       "│ <span style=\"color: #bbbbbb; text-decoration-color: #bbbbbb; background-color: #f8f8f8\">    </span><span style=\"color: #008000; text-decoration-color: #008000; background-color: #f8f8f8; font-weight: bold\">model_id</span><span style=\"color: #000000; text-decoration-color: #000000; background-color: #f8f8f8\">:</span><span style=\"color: #bbbbbb; text-decoration-color: #bbbbbb; background-color: #f8f8f8\"> </span><span style=\"background-color: #f8f8f8\">meta-llama/Llama-3.3-70B-Instruct                                                                </span> │\n",
       "│ <span style=\"color: #bbbbbb; text-decoration-color: #bbbbbb; background-color: #f8f8f8\">    </span><span style=\"color: #008000; text-decoration-color: #008000; background-color: #f8f8f8; font-weight: bold\">config_path</span><span style=\"color: #000000; text-decoration-color: #000000; background-color: #f8f8f8\">:</span><span style=\"color: #bbbbbb; text-decoration-color: #bbbbbb; background-color: #f8f8f8\"> </span><span style=\"background-color: #f8f8f8\">../prompts/named_entities.yaml                                                                </span> │\n",
       "│ <span style=\"color: #bbbbbb; text-decoration-color: #bbbbbb; background-color: #f8f8f8\">    </span><span style=\"color: #008000; text-decoration-color: #008000; background-color: #f8f8f8; font-weight: bold\">output_cols</span><span style=\"color: #000000; text-decoration-color: #000000; background-color: #f8f8f8\">:</span><span style=\"background-color: #f8f8f8\">                                                                                               </span> │\n",
       "│ <span style=\"color: #bbbbbb; text-decoration-color: #bbbbbb; background-color: #f8f8f8\">    </span><span style=\"background-color: #f8f8f8\">-</span><span style=\"color: #bbbbbb; text-decoration-color: #bbbbbb; background-color: #f8f8f8\"> </span><span style=\"background-color: #f8f8f8\">named_entities                                                                                           </span> │\n",
       "│ <span style=\"background-color: #f8f8f8\">-</span><span style=\"color: #bbbbbb; text-decoration-color: #bbbbbb; background-color: #f8f8f8\"> </span><span style=\"color: #008000; text-decoration-color: #008000; background-color: #f8f8f8; font-weight: bold\">block_type</span><span style=\"color: #000000; text-decoration-color: #000000; background-color: #f8f8f8\">:</span><span style=\"color: #bbbbbb; text-decoration-color: #bbbbbb; background-color: #f8f8f8\"> </span><span style=\"background-color: #f8f8f8\">LLMBlock                                                                                         </span> │\n",
       "│ <span style=\"color: #bbbbbb; text-decoration-color: #bbbbbb; background-color: #f8f8f8\">  </span><span style=\"color: #008000; text-decoration-color: #008000; background-color: #f8f8f8; font-weight: bold\">block_config</span><span style=\"color: #000000; text-decoration-color: #000000; background-color: #f8f8f8\">:</span><span style=\"background-color: #f8f8f8\">                                                                                                </span> │\n",
       "│ <span style=\"color: #bbbbbb; text-decoration-color: #bbbbbb; background-color: #f8f8f8\">    </span><span style=\"color: #008000; text-decoration-color: #008000; background-color: #f8f8f8; font-weight: bold\">block_name</span><span style=\"color: #000000; text-decoration-color: #000000; background-color: #f8f8f8\">:</span><span style=\"color: #bbbbbb; text-decoration-color: #bbbbbb; background-color: #f8f8f8\"> </span><span style=\"background-color: #f8f8f8\">gen_sentiment                                                                                  </span> │\n",
       "│ <span style=\"color: #bbbbbb; text-decoration-color: #bbbbbb; background-color: #f8f8f8\">    </span><span style=\"color: #008000; text-decoration-color: #008000; background-color: #f8f8f8; font-weight: bold\">model_id</span><span style=\"color: #000000; text-decoration-color: #000000; background-color: #f8f8f8\">:</span><span style=\"color: #bbbbbb; text-decoration-color: #bbbbbb; background-color: #f8f8f8\"> </span><span style=\"background-color: #f8f8f8\">meta-llama/Llama-3.3-70B-Instruct                                                                </span> │\n",
       "│ <span style=\"color: #bbbbbb; text-decoration-color: #bbbbbb; background-color: #f8f8f8\">    </span><span style=\"color: #008000; text-decoration-color: #008000; background-color: #f8f8f8; font-weight: bold\">config_path</span><span style=\"color: #000000; text-decoration-color: #000000; background-color: #f8f8f8\">:</span><span style=\"color: #bbbbbb; text-decoration-color: #bbbbbb; background-color: #f8f8f8\"> </span><span style=\"background-color: #f8f8f8\">../prompts/sentiment.yaml                                                                     </span> │\n",
       "│ <span style=\"color: #bbbbbb; text-decoration-color: #bbbbbb; background-color: #f8f8f8\">    </span><span style=\"color: #008000; text-decoration-color: #008000; background-color: #f8f8f8; font-weight: bold\">output_cols</span><span style=\"color: #000000; text-decoration-color: #000000; background-color: #f8f8f8\">:</span><span style=\"background-color: #f8f8f8\">                                                                                               </span> │\n",
       "│ <span style=\"color: #bbbbbb; text-decoration-color: #bbbbbb; background-color: #f8f8f8\">    </span><span style=\"background-color: #f8f8f8\">-</span><span style=\"color: #bbbbbb; text-decoration-color: #bbbbbb; background-color: #f8f8f8\"> </span><span style=\"background-color: #f8f8f8\">sentiment                                                                                                </span> │\n",
       "│ <span style=\"background-color: #f8f8f8\">-</span><span style=\"color: #bbbbbb; text-decoration-color: #bbbbbb; background-color: #f8f8f8\"> </span><span style=\"color: #008000; text-decoration-color: #008000; background-color: #f8f8f8; font-weight: bold\">block_type</span><span style=\"color: #000000; text-decoration-color: #000000; background-color: #f8f8f8\">:</span><span style=\"color: #bbbbbb; text-decoration-color: #bbbbbb; background-color: #f8f8f8\"> </span><span style=\"background-color: #f8f8f8\">JSONFormat                                                                                       </span> │\n",
       "│ <span style=\"color: #bbbbbb; text-decoration-color: #bbbbbb; background-color: #f8f8f8\">  </span><span style=\"color: #008000; text-decoration-color: #008000; background-color: #f8f8f8; font-weight: bold\">block_config</span><span style=\"color: #000000; text-decoration-color: #000000; background-color: #f8f8f8\">:</span><span style=\"background-color: #f8f8f8\">                                                                                                </span> │\n",
       "│ <span style=\"color: #bbbbbb; text-decoration-color: #bbbbbb; background-color: #f8f8f8\">    </span><span style=\"color: #008000; text-decoration-color: #008000; background-color: #f8f8f8; font-weight: bold\">block_name</span><span style=\"color: #000000; text-decoration-color: #000000; background-color: #f8f8f8\">:</span><span style=\"color: #bbbbbb; text-decoration-color: #bbbbbb; background-color: #f8f8f8\"> </span><span style=\"background-color: #f8f8f8\">format_json                                                                                    </span> │\n",
       "│ <span style=\"color: #bbbbbb; text-decoration-color: #bbbbbb; background-color: #f8f8f8\">    </span><span style=\"color: #008000; text-decoration-color: #008000; background-color: #f8f8f8; font-weight: bold\">output_column</span><span style=\"color: #000000; text-decoration-color: #000000; background-color: #f8f8f8\">:</span><span style=\"color: #bbbbbb; text-decoration-color: #bbbbbb; background-color: #f8f8f8\"> </span><span style=\"background-color: #f8f8f8\">json_output                                                                                 </span> │\n",
       "│ <span style=\"color: #bbbbbb; text-decoration-color: #bbbbbb; background-color: #f8f8f8\">  </span><span style=\"color: #008000; text-decoration-color: #008000; background-color: #f8f8f8; font-weight: bold\">drop_columns</span><span style=\"color: #000000; text-decoration-color: #000000; background-color: #f8f8f8\">:</span><span style=\"background-color: #f8f8f8\">                                                                                                </span> │\n",
       "│ <span style=\"color: #bbbbbb; text-decoration-color: #bbbbbb; background-color: #f8f8f8\">  </span><span style=\"background-color: #f8f8f8\">-</span><span style=\"color: #bbbbbb; text-decoration-color: #bbbbbb; background-color: #f8f8f8\"> </span><span style=\"background-color: #f8f8f8\">summary                                                                                                    </span> │\n",
       "│ <span style=\"color: #bbbbbb; text-decoration-color: #bbbbbb; background-color: #f8f8f8\">  </span><span style=\"background-color: #f8f8f8\">-</span><span style=\"color: #bbbbbb; text-decoration-color: #bbbbbb; background-color: #f8f8f8\"> </span><span style=\"background-color: #f8f8f8\">keywords                                                                                                   </span> │\n",
       "│ <span style=\"color: #bbbbbb; text-decoration-color: #bbbbbb; background-color: #f8f8f8\">  </span><span style=\"background-color: #f8f8f8\">-</span><span style=\"color: #bbbbbb; text-decoration-color: #bbbbbb; background-color: #f8f8f8\"> </span><span style=\"background-color: #f8f8f8\">named_entities                                                                                             </span> │\n",
       "│ <span style=\"color: #bbbbbb; text-decoration-color: #bbbbbb; background-color: #f8f8f8\">  </span><span style=\"background-color: #f8f8f8\">-</span><span style=\"color: #bbbbbb; text-decoration-color: #bbbbbb; background-color: #f8f8f8\"> </span><span style=\"background-color: #f8f8f8\">sentiment                                                                                                  </span> │\n",
       "│ <span style=\"background-color: #f8f8f8\">                                                                                                               </span> │\n",
       "╰────────────────────── 📋 Pipeline for extracting structured insights from PDF transcripts ──────────────────────╯\n",
       "</pre>\n"
      ],
      "text/plain": [
       "╭────────────────────────────── 🔧 Flow Configuration: Grounded Summary Extraction ───────────────────────────────╮\n",
       "│ \u001b[48;2;248;248;248m-\u001b[0m\u001b[38;2;187;187;187;48;2;248;248;248m \u001b[0m\u001b[1;38;2;0;128;0;48;2;248;248;248mblock_type\u001b[0m\u001b[38;2;0;0;0;48;2;248;248;248m:\u001b[0m\u001b[38;2;187;187;187;48;2;248;248;248m \u001b[0m\u001b[48;2;248;248;248mDoclingParsePDF                                                                                  \u001b[0m │\n",
       "│ \u001b[38;2;187;187;187;48;2;248;248;248m  \u001b[0m\u001b[1;38;2;0;128;0;48;2;248;248;248mblock_config\u001b[0m\u001b[38;2;0;0;0;48;2;248;248;248m:\u001b[0m\u001b[48;2;248;248;248m                                                                                                \u001b[0m │\n",
       "│ \u001b[38;2;187;187;187;48;2;248;248;248m    \u001b[0m\u001b[1;38;2;0;128;0;48;2;248;248;248mblock_name\u001b[0m\u001b[38;2;0;0;0;48;2;248;248;248m:\u001b[0m\u001b[38;2;187;187;187;48;2;248;248;248m \u001b[0m\u001b[48;2;248;248;248mparse_transcript                                                                               \u001b[0m │\n",
       "│ \u001b[38;2;187;187;187;48;2;248;248;248m    \u001b[0m\u001b[1;38;2;0;128;0;48;2;248;248;248mpdf_path_column\u001b[0m\u001b[38;2;0;0;0;48;2;248;248;248m:\u001b[0m\u001b[38;2;187;187;187;48;2;248;248;248m \u001b[0m\u001b[48;2;248;248;248mpdf_path                                                                                  \u001b[0m │\n",
       "│ \u001b[38;2;187;187;187;48;2;248;248;248m    \u001b[0m\u001b[1;38;2;0;128;0;48;2;248;248;248moutput_column\u001b[0m\u001b[38;2;0;0;0;48;2;248;248;248m:\u001b[0m\u001b[38;2;187;187;187;48;2;248;248;248m \u001b[0m\u001b[48;2;248;248;248mconversation                                                                                \u001b[0m │\n",
       "│ \u001b[48;2;248;248;248m-\u001b[0m\u001b[38;2;187;187;187;48;2;248;248;248m \u001b[0m\u001b[1;38;2;0;128;0;48;2;248;248;248mblock_type\u001b[0m\u001b[38;2;0;0;0;48;2;248;248;248m:\u001b[0m\u001b[38;2;187;187;187;48;2;248;248;248m \u001b[0m\u001b[48;2;248;248;248mAddStaticValue                                                                                   \u001b[0m │\n",
       "│ \u001b[38;2;187;187;187;48;2;248;248;248m  \u001b[0m\u001b[1;38;2;0;128;0;48;2;248;248;248mblock_config\u001b[0m\u001b[38;2;0;0;0;48;2;248;248;248m:\u001b[0m\u001b[48;2;248;248;248m                                                                                                \u001b[0m │\n",
       "│ \u001b[38;2;187;187;187;48;2;248;248;248m    \u001b[0m\u001b[1;38;2;0;128;0;48;2;248;248;248mblock_name\u001b[0m\u001b[38;2;0;0;0;48;2;248;248;248m:\u001b[0m\u001b[38;2;187;187;187;48;2;248;248;248m \u001b[0m\u001b[48;2;248;248;248madd_question                                                                                   \u001b[0m │\n",
       "│ \u001b[38;2;187;187;187;48;2;248;248;248m    \u001b[0m\u001b[1;38;2;0;128;0;48;2;248;248;248mcolumn_name\u001b[0m\u001b[38;2;0;0;0;48;2;248;248;248m:\u001b[0m\u001b[38;2;187;187;187;48;2;248;248;248m \u001b[0m\u001b[48;2;248;248;248mquestion                                                                                      \u001b[0m │\n",
       "│ \u001b[38;2;187;187;187;48;2;248;248;248m    \u001b[0m\u001b[1;38;2;0;128;0;48;2;248;248;248mstatic_value\u001b[0m\u001b[38;2;0;0;0;48;2;248;248;248m:\u001b[0m\u001b[38;2;187;187;187;48;2;248;248;248m \u001b[0m\u001b[48;2;248;248;248mExtract summary, keywords, named entities, and sentiment from the                            \u001b[0m │\n",
       "│ \u001b[38;2;187;187;187;48;2;248;248;248m      \u001b[0m\u001b[48;2;248;248;248mtranscript and return in JSON format.                                                                    \u001b[0m │\n",
       "│ \u001b[48;2;248;248;248m-\u001b[0m\u001b[38;2;187;187;187;48;2;248;248;248m \u001b[0m\u001b[1;38;2;0;128;0;48;2;248;248;248mblock_type\u001b[0m\u001b[38;2;0;0;0;48;2;248;248;248m:\u001b[0m\u001b[38;2;187;187;187;48;2;248;248;248m \u001b[0m\u001b[48;2;248;248;248mLLMBlock                                                                                         \u001b[0m │\n",
       "│ \u001b[38;2;187;187;187;48;2;248;248;248m  \u001b[0m\u001b[1;38;2;0;128;0;48;2;248;248;248mblock_config\u001b[0m\u001b[38;2;0;0;0;48;2;248;248;248m:\u001b[0m\u001b[48;2;248;248;248m                                                                                                \u001b[0m │\n",
       "│ \u001b[38;2;187;187;187;48;2;248;248;248m    \u001b[0m\u001b[1;38;2;0;128;0;48;2;248;248;248mblock_name\u001b[0m\u001b[38;2;0;0;0;48;2;248;248;248m:\u001b[0m\u001b[38;2;187;187;187;48;2;248;248;248m \u001b[0m\u001b[48;2;248;248;248mgen_summary                                                                                    \u001b[0m │\n",
       "│ \u001b[38;2;187;187;187;48;2;248;248;248m    \u001b[0m\u001b[1;38;2;0;128;0;48;2;248;248;248mmodel_id\u001b[0m\u001b[38;2;0;0;0;48;2;248;248;248m:\u001b[0m\u001b[38;2;187;187;187;48;2;248;248;248m \u001b[0m\u001b[48;2;248;248;248mmeta-llama/Llama-3.3-70B-Instruct                                                                \u001b[0m │\n",
       "│ \u001b[38;2;187;187;187;48;2;248;248;248m    \u001b[0m\u001b[1;38;2;0;128;0;48;2;248;248;248mconfig_path\u001b[0m\u001b[38;2;0;0;0;48;2;248;248;248m:\u001b[0m\u001b[38;2;187;187;187;48;2;248;248;248m \u001b[0m\u001b[48;2;248;248;248m../prompts/summary.yaml                                                                       \u001b[0m │\n",
       "│ \u001b[38;2;187;187;187;48;2;248;248;248m    \u001b[0m\u001b[1;38;2;0;128;0;48;2;248;248;248moutput_cols\u001b[0m\u001b[38;2;0;0;0;48;2;248;248;248m:\u001b[0m\u001b[48;2;248;248;248m                                                                                               \u001b[0m │\n",
       "│ \u001b[38;2;187;187;187;48;2;248;248;248m    \u001b[0m\u001b[48;2;248;248;248m-\u001b[0m\u001b[38;2;187;187;187;48;2;248;248;248m \u001b[0m\u001b[48;2;248;248;248msummary                                                                                                  \u001b[0m │\n",
       "│ \u001b[48;2;248;248;248m-\u001b[0m\u001b[38;2;187;187;187;48;2;248;248;248m \u001b[0m\u001b[1;38;2;0;128;0;48;2;248;248;248mblock_type\u001b[0m\u001b[38;2;0;0;0;48;2;248;248;248m:\u001b[0m\u001b[38;2;187;187;187;48;2;248;248;248m \u001b[0m\u001b[48;2;248;248;248mLLMBlock                                                                                         \u001b[0m │\n",
       "│ \u001b[38;2;187;187;187;48;2;248;248;248m  \u001b[0m\u001b[1;38;2;0;128;0;48;2;248;248;248mblock_config\u001b[0m\u001b[38;2;0;0;0;48;2;248;248;248m:\u001b[0m\u001b[48;2;248;248;248m                                                                                                \u001b[0m │\n",
       "│ \u001b[38;2;187;187;187;48;2;248;248;248m    \u001b[0m\u001b[1;38;2;0;128;0;48;2;248;248;248mblock_name\u001b[0m\u001b[38;2;0;0;0;48;2;248;248;248m:\u001b[0m\u001b[38;2;187;187;187;48;2;248;248;248m \u001b[0m\u001b[48;2;248;248;248mgen_keywords                                                                                   \u001b[0m │\n",
       "│ \u001b[38;2;187;187;187;48;2;248;248;248m    \u001b[0m\u001b[1;38;2;0;128;0;48;2;248;248;248mmodel_id\u001b[0m\u001b[38;2;0;0;0;48;2;248;248;248m:\u001b[0m\u001b[38;2;187;187;187;48;2;248;248;248m \u001b[0m\u001b[48;2;248;248;248mmeta-llama/Llama-3.3-70B-Instruct                                                                \u001b[0m │\n",
       "│ \u001b[38;2;187;187;187;48;2;248;248;248m    \u001b[0m\u001b[1;38;2;0;128;0;48;2;248;248;248mconfig_path\u001b[0m\u001b[38;2;0;0;0;48;2;248;248;248m:\u001b[0m\u001b[38;2;187;187;187;48;2;248;248;248m \u001b[0m\u001b[48;2;248;248;248m../prompts/keywords.yaml                                                                      \u001b[0m │\n",
       "│ \u001b[38;2;187;187;187;48;2;248;248;248m    \u001b[0m\u001b[1;38;2;0;128;0;48;2;248;248;248moutput_cols\u001b[0m\u001b[38;2;0;0;0;48;2;248;248;248m:\u001b[0m\u001b[48;2;248;248;248m                                                                                               \u001b[0m │\n",
       "│ \u001b[38;2;187;187;187;48;2;248;248;248m    \u001b[0m\u001b[48;2;248;248;248m-\u001b[0m\u001b[38;2;187;187;187;48;2;248;248;248m \u001b[0m\u001b[48;2;248;248;248mkeywords                                                                                                 \u001b[0m │\n",
       "│ \u001b[48;2;248;248;248m-\u001b[0m\u001b[38;2;187;187;187;48;2;248;248;248m \u001b[0m\u001b[1;38;2;0;128;0;48;2;248;248;248mblock_type\u001b[0m\u001b[38;2;0;0;0;48;2;248;248;248m:\u001b[0m\u001b[38;2;187;187;187;48;2;248;248;248m \u001b[0m\u001b[48;2;248;248;248mLLMBlock                                                                                         \u001b[0m │\n",
       "│ \u001b[38;2;187;187;187;48;2;248;248;248m  \u001b[0m\u001b[1;38;2;0;128;0;48;2;248;248;248mblock_config\u001b[0m\u001b[38;2;0;0;0;48;2;248;248;248m:\u001b[0m\u001b[48;2;248;248;248m                                                                                                \u001b[0m │\n",
       "│ \u001b[38;2;187;187;187;48;2;248;248;248m    \u001b[0m\u001b[1;38;2;0;128;0;48;2;248;248;248mblock_name\u001b[0m\u001b[38;2;0;0;0;48;2;248;248;248m:\u001b[0m\u001b[38;2;187;187;187;48;2;248;248;248m \u001b[0m\u001b[48;2;248;248;248mgen_named_entities                                                                             \u001b[0m │\n",
       "│ \u001b[38;2;187;187;187;48;2;248;248;248m    \u001b[0m\u001b[1;38;2;0;128;0;48;2;248;248;248mmodel_id\u001b[0m\u001b[38;2;0;0;0;48;2;248;248;248m:\u001b[0m\u001b[38;2;187;187;187;48;2;248;248;248m \u001b[0m\u001b[48;2;248;248;248mmeta-llama/Llama-3.3-70B-Instruct                                                                \u001b[0m │\n",
       "│ \u001b[38;2;187;187;187;48;2;248;248;248m    \u001b[0m\u001b[1;38;2;0;128;0;48;2;248;248;248mconfig_path\u001b[0m\u001b[38;2;0;0;0;48;2;248;248;248m:\u001b[0m\u001b[38;2;187;187;187;48;2;248;248;248m \u001b[0m\u001b[48;2;248;248;248m../prompts/named_entities.yaml                                                                \u001b[0m │\n",
       "│ \u001b[38;2;187;187;187;48;2;248;248;248m    \u001b[0m\u001b[1;38;2;0;128;0;48;2;248;248;248moutput_cols\u001b[0m\u001b[38;2;0;0;0;48;2;248;248;248m:\u001b[0m\u001b[48;2;248;248;248m                                                                                               \u001b[0m │\n",
       "│ \u001b[38;2;187;187;187;48;2;248;248;248m    \u001b[0m\u001b[48;2;248;248;248m-\u001b[0m\u001b[38;2;187;187;187;48;2;248;248;248m \u001b[0m\u001b[48;2;248;248;248mnamed_entities                                                                                           \u001b[0m │\n",
       "│ \u001b[48;2;248;248;248m-\u001b[0m\u001b[38;2;187;187;187;48;2;248;248;248m \u001b[0m\u001b[1;38;2;0;128;0;48;2;248;248;248mblock_type\u001b[0m\u001b[38;2;0;0;0;48;2;248;248;248m:\u001b[0m\u001b[38;2;187;187;187;48;2;248;248;248m \u001b[0m\u001b[48;2;248;248;248mLLMBlock                                                                                         \u001b[0m │\n",
       "│ \u001b[38;2;187;187;187;48;2;248;248;248m  \u001b[0m\u001b[1;38;2;0;128;0;48;2;248;248;248mblock_config\u001b[0m\u001b[38;2;0;0;0;48;2;248;248;248m:\u001b[0m\u001b[48;2;248;248;248m                                                                                                \u001b[0m │\n",
       "│ \u001b[38;2;187;187;187;48;2;248;248;248m    \u001b[0m\u001b[1;38;2;0;128;0;48;2;248;248;248mblock_name\u001b[0m\u001b[38;2;0;0;0;48;2;248;248;248m:\u001b[0m\u001b[38;2;187;187;187;48;2;248;248;248m \u001b[0m\u001b[48;2;248;248;248mgen_sentiment                                                                                  \u001b[0m │\n",
       "│ \u001b[38;2;187;187;187;48;2;248;248;248m    \u001b[0m\u001b[1;38;2;0;128;0;48;2;248;248;248mmodel_id\u001b[0m\u001b[38;2;0;0;0;48;2;248;248;248m:\u001b[0m\u001b[38;2;187;187;187;48;2;248;248;248m \u001b[0m\u001b[48;2;248;248;248mmeta-llama/Llama-3.3-70B-Instruct                                                                \u001b[0m │\n",
       "│ \u001b[38;2;187;187;187;48;2;248;248;248m    \u001b[0m\u001b[1;38;2;0;128;0;48;2;248;248;248mconfig_path\u001b[0m\u001b[38;2;0;0;0;48;2;248;248;248m:\u001b[0m\u001b[38;2;187;187;187;48;2;248;248;248m \u001b[0m\u001b[48;2;248;248;248m../prompts/sentiment.yaml                                                                     \u001b[0m │\n",
       "│ \u001b[38;2;187;187;187;48;2;248;248;248m    \u001b[0m\u001b[1;38;2;0;128;0;48;2;248;248;248moutput_cols\u001b[0m\u001b[38;2;0;0;0;48;2;248;248;248m:\u001b[0m\u001b[48;2;248;248;248m                                                                                               \u001b[0m │\n",
       "│ \u001b[38;2;187;187;187;48;2;248;248;248m    \u001b[0m\u001b[48;2;248;248;248m-\u001b[0m\u001b[38;2;187;187;187;48;2;248;248;248m \u001b[0m\u001b[48;2;248;248;248msentiment                                                                                                \u001b[0m │\n",
       "│ \u001b[48;2;248;248;248m-\u001b[0m\u001b[38;2;187;187;187;48;2;248;248;248m \u001b[0m\u001b[1;38;2;0;128;0;48;2;248;248;248mblock_type\u001b[0m\u001b[38;2;0;0;0;48;2;248;248;248m:\u001b[0m\u001b[38;2;187;187;187;48;2;248;248;248m \u001b[0m\u001b[48;2;248;248;248mJSONFormat                                                                                       \u001b[0m │\n",
       "│ \u001b[38;2;187;187;187;48;2;248;248;248m  \u001b[0m\u001b[1;38;2;0;128;0;48;2;248;248;248mblock_config\u001b[0m\u001b[38;2;0;0;0;48;2;248;248;248m:\u001b[0m\u001b[48;2;248;248;248m                                                                                                \u001b[0m │\n",
       "│ \u001b[38;2;187;187;187;48;2;248;248;248m    \u001b[0m\u001b[1;38;2;0;128;0;48;2;248;248;248mblock_name\u001b[0m\u001b[38;2;0;0;0;48;2;248;248;248m:\u001b[0m\u001b[38;2;187;187;187;48;2;248;248;248m \u001b[0m\u001b[48;2;248;248;248mformat_json                                                                                    \u001b[0m │\n",
       "│ \u001b[38;2;187;187;187;48;2;248;248;248m    \u001b[0m\u001b[1;38;2;0;128;0;48;2;248;248;248moutput_column\u001b[0m\u001b[38;2;0;0;0;48;2;248;248;248m:\u001b[0m\u001b[38;2;187;187;187;48;2;248;248;248m \u001b[0m\u001b[48;2;248;248;248mjson_output                                                                                 \u001b[0m │\n",
       "│ \u001b[38;2;187;187;187;48;2;248;248;248m  \u001b[0m\u001b[1;38;2;0;128;0;48;2;248;248;248mdrop_columns\u001b[0m\u001b[38;2;0;0;0;48;2;248;248;248m:\u001b[0m\u001b[48;2;248;248;248m                                                                                                \u001b[0m │\n",
       "│ \u001b[38;2;187;187;187;48;2;248;248;248m  \u001b[0m\u001b[48;2;248;248;248m-\u001b[0m\u001b[38;2;187;187;187;48;2;248;248;248m \u001b[0m\u001b[48;2;248;248;248msummary                                                                                                    \u001b[0m │\n",
       "│ \u001b[38;2;187;187;187;48;2;248;248;248m  \u001b[0m\u001b[48;2;248;248;248m-\u001b[0m\u001b[38;2;187;187;187;48;2;248;248;248m \u001b[0m\u001b[48;2;248;248;248mkeywords                                                                                                   \u001b[0m │\n",
       "│ \u001b[38;2;187;187;187;48;2;248;248;248m  \u001b[0m\u001b[48;2;248;248;248m-\u001b[0m\u001b[38;2;187;187;187;48;2;248;248;248m \u001b[0m\u001b[48;2;248;248;248mnamed_entities                                                                                             \u001b[0m │\n",
       "│ \u001b[38;2;187;187;187;48;2;248;248;248m  \u001b[0m\u001b[48;2;248;248;248m-\u001b[0m\u001b[38;2;187;187;187;48;2;248;248;248m \u001b[0m\u001b[48;2;248;248;248msentiment                                                                                                  \u001b[0m │\n",
       "│ \u001b[48;2;248;248;248m                                                                                                               \u001b[0m │\n",
       "╰────────────────────── 📋 Pipeline for extracting structured insights from PDF transcripts ──────────────────────╯\n"
      ]
     },
     "metadata": {},
     "output_type": "display_data"
    }
   ],
   "source": [
    "# Lets look at the skills flow we will be using\n",
    "# flows/grounded_summary_extraction.yaml\n",
    "\n",
    "with open(\"flows/grounded_summary_extraction.yaml\", \"r\") as f:\n",
    "    flow_config = yaml.safe_load(f)\n",
    "\n",
    "# Convert to YAML string with indentation for pretty printing\n",
    "yaml_str = yaml.dump(flow_config, indent=2, default_flow_style=False, sort_keys=False)\n",
    "\n",
    "# Create syntax highlighted YAML\n",
    "syntax = Syntax(yaml_str, \"yaml\", theme=\"github\")\n",
    "\n",
    "# Display it inside a panel with a descriptive title\n",
    "console = Console()\n",
    "console.print(Panel(\n",
    "    syntax, \n",
    "    title=\"🔧 Flow Configuration: Grounded Summary Extraction\", \n",
    "    subtitle=\"📋 Pipeline for extracting structured insights from PDF transcripts\",\n",
    "))"
   ]
  },
  {
   "cell_type": "code",
   "execution_count": 6,
   "metadata": {},
   "outputs": [],
   "source": [
    "# Load the flow\n",
    "flow = Flow(client).get_flow_from_file(\"flows/grounded_summary_extraction.yaml\")\n",
    "\n",
    "# Initialize the synthetic data generator\n",
    "generator = SDG(flows=[flow])"
   ]
  },
  {
   "cell_type": "code",
   "execution_count": null,
   "metadata": {},
   "outputs": [],
   "source": [
    "seed_data = seed_data.select(range(10)) # note: this is just for demo purposes, in practice you can use the entire dataset\n",
    "generated_data = generator.generate(seed_data)"
   ]
  },
  {
   "cell_type": "code",
   "execution_count": 10,
   "metadata": {},
   "outputs": [
    {
     "data": {
      "text/html": [
       "<pre style=\"white-space:pre;overflow-x:auto;line-height:normal;font-family:Menlo,'DejaVu Sans Mono',consolas,'Courier New',monospace\">╭───────────────────────────────────────────── 📊 Extracted Summary ──────────────────────────────────────────────╮\n",
       "│ <span style=\"color: #000000; text-decoration-color: #000000; background-color: #f8f8f8\">{</span><span style=\"background-color: #f8f8f8\">                                                                                                              </span> │\n",
       "│ <span style=\"color: #bbbbbb; text-decoration-color: #bbbbbb; background-color: #f8f8f8\">  </span><span style=\"color: #008000; text-decoration-color: #008000; background-color: #f8f8f8; font-weight: bold\">\"summary\"</span><span style=\"color: #000000; text-decoration-color: #000000; background-color: #f8f8f8\">:</span><span style=\"color: #bbbbbb; text-decoration-color: #bbbbbb; background-color: #f8f8f8\"> </span><span style=\"color: #ba2121; text-decoration-color: #ba2121; background-color: #f8f8f8\">\"American Airlines Group reported a strong third quarter despite weather and operational challenge</span> │\n",
       "│ <span style=\"color: #bbbbbb; text-decoration-color: #bbbbbb; background-color: #f8f8f8\">  </span><span style=\"color: #008000; text-decoration-color: #008000; background-color: #f8f8f8; font-weight: bold\">\"keywords\"</span><span style=\"color: #000000; text-decoration-color: #000000; background-color: #f8f8f8\">:</span><span style=\"color: #bbbbbb; text-decoration-color: #bbbbbb; background-color: #f8f8f8\"> </span><span style=\"color: #000000; text-decoration-color: #000000; background-color: #f8f8f8\">[</span><span style=\"background-color: #f8f8f8\">                                                                                                </span> │\n",
       "│ <span style=\"color: #bbbbbb; text-decoration-color: #bbbbbb; background-color: #f8f8f8\">    </span><span style=\"color: #ba2121; text-decoration-color: #ba2121; background-color: #f8f8f8\">\"American Airlines\"</span><span style=\"color: #000000; text-decoration-color: #000000; background-color: #f8f8f8\">,</span><span style=\"background-color: #f8f8f8\">                                                                                       </span> │\n",
       "│ <span style=\"color: #bbbbbb; text-decoration-color: #bbbbbb; background-color: #f8f8f8\">    </span><span style=\"color: #ba2121; text-decoration-color: #ba2121; background-color: #f8f8f8\">\"Q3 earnings\"</span><span style=\"color: #000000; text-decoration-color: #000000; background-color: #f8f8f8\">,</span><span style=\"background-color: #f8f8f8\">                                                                                             </span> │\n",
       "│ <span style=\"color: #bbbbbb; text-decoration-color: #bbbbbb; background-color: #f8f8f8\">    </span><span style=\"color: #ba2121; text-decoration-color: #ba2121; background-color: #f8f8f8\">\"revenue outlook\"</span><span style=\"color: #000000; text-decoration-color: #000000; background-color: #f8f8f8\">,</span><span style=\"background-color: #f8f8f8\">                                                                                         </span> │\n",
       "│ <span style=\"color: #bbbbbb; text-decoration-color: #bbbbbb; background-color: #f8f8f8\">    </span><span style=\"color: #ba2121; text-decoration-color: #ba2121; background-color: #f8f8f8\">\"Premium Economy\"</span><span style=\"color: #000000; text-decoration-color: #000000; background-color: #f8f8f8\">,</span><span style=\"background-color: #f8f8f8\">                                                                                         </span> │\n",
       "│ <span style=\"color: #bbbbbb; text-decoration-color: #bbbbbb; background-color: #f8f8f8\">    </span><span style=\"color: #ba2121; text-decoration-color: #ba2121; background-color: #f8f8f8\">\"Basic Economy\"</span><span style=\"color: #000000; text-decoration-color: #000000; background-color: #f8f8f8\">,</span><span style=\"background-color: #f8f8f8\">                                                                                           </span> │\n",
       "│ <span style=\"color: #bbbbbb; text-decoration-color: #bbbbbb; background-color: #f8f8f8\">    </span><span style=\"color: #ba2121; text-decoration-color: #ba2121; background-color: #f8f8f8\">\"AAdvantage program\"</span><span style=\"color: #000000; text-decoration-color: #000000; background-color: #f8f8f8\">,</span><span style=\"background-color: #f8f8f8\">                                                                                      </span> │\n",
       "│ <span style=\"color: #bbbbbb; text-decoration-color: #bbbbbb; background-color: #f8f8f8\">    </span><span style=\"color: #ba2121; text-decoration-color: #ba2121; background-color: #f8f8f8\">\"capacity management\"</span><span style=\"color: #000000; text-decoration-color: #000000; background-color: #f8f8f8\">,</span><span style=\"background-color: #f8f8f8\">                                                                                     </span> │\n",
       "│ <span style=\"color: #bbbbbb; text-decoration-color: #bbbbbb; background-color: #f8f8f8\">    </span><span style=\"color: #ba2121; text-decoration-color: #ba2121; background-color: #f8f8f8\">\"fuel prices\"</span><span style=\"color: #000000; text-decoration-color: #000000; background-color: #f8f8f8\">,</span><span style=\"background-color: #f8f8f8\">                                                                                             </span> │\n",
       "│ <span style=\"color: #bbbbbb; text-decoration-color: #bbbbbb; background-color: #f8f8f8\">    </span><span style=\"color: #ba2121; text-decoration-color: #ba2121; background-color: #f8f8f8\">\"guidance\"</span><span style=\"color: #000000; text-decoration-color: #000000; background-color: #f8f8f8\">,</span><span style=\"background-color: #f8f8f8\">                                                                                                </span> │\n",
       "│ <span style=\"color: #bbbbbb; text-decoration-color: #bbbbbb; background-color: #f8f8f8\">    </span><span style=\"color: #ba2121; text-decoration-color: #ba2121; background-color: #f8f8f8\">\"shareholder value\"</span><span style=\"background-color: #f8f8f8\">                                                                                        </span> │\n",
       "│ <span style=\"color: #bbbbbb; text-decoration-color: #bbbbbb; background-color: #f8f8f8\">  </span><span style=\"color: #000000; text-decoration-color: #000000; background-color: #f8f8f8\">],</span><span style=\"background-color: #f8f8f8\">                                                                                                           </span> │\n",
       "│ <span style=\"color: #bbbbbb; text-decoration-color: #bbbbbb; background-color: #f8f8f8\">  </span><span style=\"color: #008000; text-decoration-color: #008000; background-color: #f8f8f8; font-weight: bold\">\"named_entities\"</span><span style=\"color: #000000; text-decoration-color: #000000; background-color: #f8f8f8\">:</span><span style=\"color: #bbbbbb; text-decoration-color: #bbbbbb; background-color: #f8f8f8\"> </span><span style=\"color: #000000; text-decoration-color: #000000; background-color: #f8f8f8\">{</span><span style=\"background-color: #f8f8f8\">                                                                                          </span> │\n",
       "│ <span style=\"color: #bbbbbb; text-decoration-color: #bbbbbb; background-color: #f8f8f8\">    </span><span style=\"color: #008000; text-decoration-color: #008000; background-color: #f8f8f8; font-weight: bold\">\"organizations\"</span><span style=\"color: #000000; text-decoration-color: #000000; background-color: #f8f8f8\">:</span><span style=\"color: #bbbbbb; text-decoration-color: #bbbbbb; background-color: #f8f8f8\"> </span><span style=\"color: #000000; text-decoration-color: #000000; background-color: #f8f8f8\">[</span><span style=\"background-color: #f8f8f8\">                                                                                         </span> │\n",
       "│ <span style=\"color: #bbbbbb; text-decoration-color: #bbbbbb; background-color: #f8f8f8\">      </span><span style=\"color: #ba2121; text-decoration-color: #ba2121; background-color: #f8f8f8\">\"American Airlines Group\"</span><span style=\"color: #000000; text-decoration-color: #000000; background-color: #f8f8f8\">,</span><span style=\"background-color: #f8f8f8\">                                                                               </span> │\n",
       "│ <span style=\"color: #bbbbbb; text-decoration-color: #bbbbbb; background-color: #f8f8f8\">      </span><span style=\"color: #ba2121; text-decoration-color: #ba2121; background-color: #f8f8f8\">\"NAACP\"</span><span style=\"background-color: #f8f8f8\">                                                                                                  </span> │\n",
       "│ <span style=\"color: #bbbbbb; text-decoration-color: #bbbbbb; background-color: #f8f8f8\">    </span><span style=\"color: #000000; text-decoration-color: #000000; background-color: #f8f8f8\">],</span><span style=\"background-color: #f8f8f8\">                                                                                                         </span> │\n",
       "│ <span style=\"color: #bbbbbb; text-decoration-color: #bbbbbb; background-color: #f8f8f8\">    </span><span style=\"color: #008000; text-decoration-color: #008000; background-color: #f8f8f8; font-weight: bold\">\"people\"</span><span style=\"color: #000000; text-decoration-color: #000000; background-color: #f8f8f8\">:</span><span style=\"color: #bbbbbb; text-decoration-color: #bbbbbb; background-color: #f8f8f8\"> </span><span style=\"color: #000000; text-decoration-color: #000000; background-color: #f8f8f8\">[</span><span style=\"background-color: #f8f8f8\">                                                                                                </span> │\n",
       "│ <span style=\"color: #bbbbbb; text-decoration-color: #bbbbbb; background-color: #f8f8f8\">      </span><span style=\"color: #ba2121; text-decoration-color: #ba2121; background-color: #f8f8f8\">\"Derek\"</span><span style=\"color: #000000; text-decoration-color: #000000; background-color: #f8f8f8\">,</span><span style=\"background-color: #f8f8f8\">                                                                                                 </span> │\n",
       "│ <span style=\"color: #bbbbbb; text-decoration-color: #bbbbbb; background-color: #f8f8f8\">      </span><span style=\"color: #ba2121; text-decoration-color: #ba2121; background-color: #f8f8f8\">\"Robert\"</span><span style=\"background-color: #f8f8f8\">                                                                                                 </span> │\n",
       "│ <span style=\"color: #bbbbbb; text-decoration-color: #bbbbbb; background-color: #f8f8f8\">    </span><span style=\"color: #000000; text-decoration-color: #000000; background-color: #f8f8f8\">],</span><span style=\"background-color: #f8f8f8\">                                                                                                         </span> │\n",
       "│ <span style=\"color: #bbbbbb; text-decoration-color: #bbbbbb; background-color: #f8f8f8\">    </span><span style=\"color: #008000; text-decoration-color: #008000; background-color: #f8f8f8; font-weight: bold\">\"locations\"</span><span style=\"color: #000000; text-decoration-color: #000000; background-color: #f8f8f8\">:</span><span style=\"color: #bbbbbb; text-decoration-color: #bbbbbb; background-color: #f8f8f8\"> </span><span style=\"color: #000000; text-decoration-color: #000000; background-color: #f8f8f8\">[</span><span style=\"background-color: #f8f8f8\">                                                                                             </span> │\n",
       "│ <span style=\"color: #bbbbbb; text-decoration-color: #bbbbbb; background-color: #f8f8f8\">      </span><span style=\"color: #ba2121; text-decoration-color: #ba2121; background-color: #f8f8f8\">\"Miami\"</span><span style=\"color: #000000; text-decoration-color: #000000; background-color: #f8f8f8\">,</span><span style=\"background-color: #f8f8f8\">                                                                                                 </span> │\n",
       "│ <span style=\"color: #bbbbbb; text-decoration-color: #bbbbbb; background-color: #f8f8f8\">      </span><span style=\"color: #ba2121; text-decoration-color: #ba2121; background-color: #f8f8f8\">\"Florida\"</span><span style=\"color: #000000; text-decoration-color: #000000; background-color: #f8f8f8\">,</span><span style=\"background-color: #f8f8f8\">                                                                                               </span> │\n",
       "│ <span style=\"color: #bbbbbb; text-decoration-color: #bbbbbb; background-color: #f8f8f8\">      </span><span style=\"color: #ba2121; text-decoration-color: #ba2121; background-color: #f8f8f8\">\"Puerto Rico\"</span><span style=\"color: #000000; text-decoration-color: #000000; background-color: #f8f8f8\">,</span><span style=\"background-color: #f8f8f8\">                                                                                           </span> │\n",
       "│ <span style=\"color: #bbbbbb; text-decoration-color: #bbbbbb; background-color: #f8f8f8\">      </span><span style=\"color: #ba2121; text-decoration-color: #ba2121; background-color: #f8f8f8\">\"Caribbean\"</span><span style=\"color: #000000; text-decoration-color: #000000; background-color: #f8f8f8\">,</span><span style=\"background-color: #f8f8f8\">                                                                                             </span> │\n",
       "│ <span style=\"color: #bbbbbb; text-decoration-color: #bbbbbb; background-color: #f8f8f8\">      </span><span style=\"color: #ba2121; text-decoration-color: #ba2121; background-color: #f8f8f8\">\"Mexico City\"</span><span style=\"background-color: #f8f8f8\">                                                                                            </span> │\n",
       "│ <span style=\"color: #bbbbbb; text-decoration-color: #bbbbbb; background-color: #f8f8f8\">    </span><span style=\"color: #000000; text-decoration-color: #000000; background-color: #f8f8f8\">],</span><span style=\"background-color: #f8f8f8\">                                                                                                         </span> │\n",
       "│ <span style=\"color: #bbbbbb; text-decoration-color: #bbbbbb; background-color: #f8f8f8\">    </span><span style=\"color: #008000; text-decoration-color: #008000; background-color: #f8f8f8; font-weight: bold\">\"dates\"</span><span style=\"color: #000000; text-decoration-color: #000000; background-color: #f8f8f8\">:</span><span style=\"color: #bbbbbb; text-decoration-color: #bbbbbb; background-color: #f8f8f8\"> </span><span style=\"color: #000000; text-decoration-color: #000000; background-color: #f8f8f8\">[</span><span style=\"background-color: #f8f8f8\">                                                                                                 </span> │\n",
       "│ <span style=\"color: #bbbbbb; text-decoration-color: #bbbbbb; background-color: #f8f8f8\">      </span><span style=\"color: #ba2121; text-decoration-color: #ba2121; background-color: #f8f8f8\">\"Third Quarter 2017\"</span><span style=\"color: #000000; text-decoration-color: #000000; background-color: #f8f8f8\">,</span><span style=\"background-color: #f8f8f8\">                                                                                    </span> │\n",
       "│ <span style=\"color: #bbbbbb; text-decoration-color: #bbbbbb; background-color: #f8f8f8\">      </span><span style=\"color: #666666; text-decoration-color: #666666; background-color: #f8f8f8\">2018</span><span style=\"color: #000000; text-decoration-color: #000000; background-color: #f8f8f8\">,</span><span style=\"background-color: #f8f8f8\">                                                                                                    </span> │\n",
       "│ <span style=\"color: #bbbbbb; text-decoration-color: #bbbbbb; background-color: #f8f8f8\">      </span><span style=\"color: #ba2121; text-decoration-color: #ba2121; background-color: #f8f8f8\">\"September 5\"</span><span style=\"color: #000000; text-decoration-color: #000000; background-color: #f8f8f8\">,</span><span style=\"background-color: #f8f8f8\">                                                                                           </span> │\n",
       "│ <span style=\"color: #bbbbbb; text-decoration-color: #bbbbbb; background-color: #f8f8f8\">      </span><span style=\"color: #ba2121; text-decoration-color: #ba2121; background-color: #f8f8f8\">\"July\"</span><span style=\"color: #000000; text-decoration-color: #000000; background-color: #f8f8f8\">,</span><span style=\"background-color: #f8f8f8\">                                                                                                  </span> │\n",
       "│ <span style=\"color: #bbbbbb; text-decoration-color: #bbbbbb; background-color: #f8f8f8\">      </span><span style=\"color: #ba2121; text-decoration-color: #ba2121; background-color: #f8f8f8\">\"December\"</span><span style=\"color: #000000; text-decoration-color: #000000; background-color: #f8f8f8\">,</span><span style=\"background-color: #f8f8f8\">                                                                                              </span> │\n",
       "│ <span style=\"color: #bbbbbb; text-decoration-color: #bbbbbb; background-color: #f8f8f8\">      </span><span style=\"color: #ba2121; text-decoration-color: #ba2121; background-color: #f8f8f8\">\"Q2\"</span><span style=\"color: #000000; text-decoration-color: #000000; background-color: #f8f8f8\">,</span><span style=\"background-color: #f8f8f8\">                                                                                                    </span> │\n",
       "│ <span style=\"color: #bbbbbb; text-decoration-color: #bbbbbb; background-color: #f8f8f8\">      </span><span style=\"color: #ba2121; text-decoration-color: #ba2121; background-color: #f8f8f8\">\"Q4\"</span><span style=\"background-color: #f8f8f8\">                                                                                                     </span> │\n",
       "│ <span style=\"color: #bbbbbb; text-decoration-color: #bbbbbb; background-color: #f8f8f8\">    </span><span style=\"color: #000000; text-decoration-color: #000000; background-color: #f8f8f8\">]</span><span style=\"background-color: #f8f8f8\">                                                                                                          </span> │\n",
       "│ <span style=\"color: #bbbbbb; text-decoration-color: #bbbbbb; background-color: #f8f8f8\">  </span><span style=\"color: #000000; text-decoration-color: #000000; background-color: #f8f8f8\">},</span><span style=\"background-color: #f8f8f8\">                                                                                                           </span> │\n",
       "│ <span style=\"color: #bbbbbb; text-decoration-color: #bbbbbb; background-color: #f8f8f8\">  </span><span style=\"color: #008000; text-decoration-color: #008000; background-color: #f8f8f8; font-weight: bold\">\"sentiment\"</span><span style=\"color: #000000; text-decoration-color: #000000; background-color: #f8f8f8\">:</span><span style=\"color: #bbbbbb; text-decoration-color: #bbbbbb; background-color: #f8f8f8\"> </span><span style=\"color: #ba2121; text-decoration-color: #ba2121; background-color: #f8f8f8\">\"Positive\"</span><span style=\"background-color: #f8f8f8\">                                                                                      </span> │\n",
       "│ <span style=\"color: #000000; text-decoration-color: #000000; background-color: #f8f8f8\">}</span><span style=\"background-color: #f8f8f8\">                                                                                                              </span> │\n",
       "╰─────────────────────────────────────────────────────────────────────────────────────────────────────────────────╯\n",
       "</pre>\n"
      ],
      "text/plain": [
       "╭───────────────────────────────────────────── 📊 Extracted Summary ──────────────────────────────────────────────╮\n",
       "│ \u001b[38;2;0;0;0;48;2;248;248;248m{\u001b[0m\u001b[48;2;248;248;248m                                                                                                              \u001b[0m │\n",
       "│ \u001b[38;2;187;187;187;48;2;248;248;248m  \u001b[0m\u001b[1;38;2;0;128;0;48;2;248;248;248m\"summary\"\u001b[0m\u001b[38;2;0;0;0;48;2;248;248;248m:\u001b[0m\u001b[38;2;187;187;187;48;2;248;248;248m \u001b[0m\u001b[38;2;186;33;33;48;2;248;248;248m\"American Airlines Group reported a strong third quarter despite weather and operational challenge\u001b[0m │\n",
       "│ \u001b[38;2;187;187;187;48;2;248;248;248m  \u001b[0m\u001b[1;38;2;0;128;0;48;2;248;248;248m\"keywords\"\u001b[0m\u001b[38;2;0;0;0;48;2;248;248;248m:\u001b[0m\u001b[38;2;187;187;187;48;2;248;248;248m \u001b[0m\u001b[38;2;0;0;0;48;2;248;248;248m[\u001b[0m\u001b[48;2;248;248;248m                                                                                                \u001b[0m │\n",
       "│ \u001b[38;2;187;187;187;48;2;248;248;248m    \u001b[0m\u001b[38;2;186;33;33;48;2;248;248;248m\"American Airlines\"\u001b[0m\u001b[38;2;0;0;0;48;2;248;248;248m,\u001b[0m\u001b[48;2;248;248;248m                                                                                       \u001b[0m │\n",
       "│ \u001b[38;2;187;187;187;48;2;248;248;248m    \u001b[0m\u001b[38;2;186;33;33;48;2;248;248;248m\"Q3 earnings\"\u001b[0m\u001b[38;2;0;0;0;48;2;248;248;248m,\u001b[0m\u001b[48;2;248;248;248m                                                                                             \u001b[0m │\n",
       "│ \u001b[38;2;187;187;187;48;2;248;248;248m    \u001b[0m\u001b[38;2;186;33;33;48;2;248;248;248m\"revenue outlook\"\u001b[0m\u001b[38;2;0;0;0;48;2;248;248;248m,\u001b[0m\u001b[48;2;248;248;248m                                                                                         \u001b[0m │\n",
       "│ \u001b[38;2;187;187;187;48;2;248;248;248m    \u001b[0m\u001b[38;2;186;33;33;48;2;248;248;248m\"Premium Economy\"\u001b[0m\u001b[38;2;0;0;0;48;2;248;248;248m,\u001b[0m\u001b[48;2;248;248;248m                                                                                         \u001b[0m │\n",
       "│ \u001b[38;2;187;187;187;48;2;248;248;248m    \u001b[0m\u001b[38;2;186;33;33;48;2;248;248;248m\"Basic Economy\"\u001b[0m\u001b[38;2;0;0;0;48;2;248;248;248m,\u001b[0m\u001b[48;2;248;248;248m                                                                                           \u001b[0m │\n",
       "│ \u001b[38;2;187;187;187;48;2;248;248;248m    \u001b[0m\u001b[38;2;186;33;33;48;2;248;248;248m\"AAdvantage program\"\u001b[0m\u001b[38;2;0;0;0;48;2;248;248;248m,\u001b[0m\u001b[48;2;248;248;248m                                                                                      \u001b[0m │\n",
       "│ \u001b[38;2;187;187;187;48;2;248;248;248m    \u001b[0m\u001b[38;2;186;33;33;48;2;248;248;248m\"capacity management\"\u001b[0m\u001b[38;2;0;0;0;48;2;248;248;248m,\u001b[0m\u001b[48;2;248;248;248m                                                                                     \u001b[0m │\n",
       "│ \u001b[38;2;187;187;187;48;2;248;248;248m    \u001b[0m\u001b[38;2;186;33;33;48;2;248;248;248m\"fuel prices\"\u001b[0m\u001b[38;2;0;0;0;48;2;248;248;248m,\u001b[0m\u001b[48;2;248;248;248m                                                                                             \u001b[0m │\n",
       "│ \u001b[38;2;187;187;187;48;2;248;248;248m    \u001b[0m\u001b[38;2;186;33;33;48;2;248;248;248m\"guidance\"\u001b[0m\u001b[38;2;0;0;0;48;2;248;248;248m,\u001b[0m\u001b[48;2;248;248;248m                                                                                                \u001b[0m │\n",
       "│ \u001b[38;2;187;187;187;48;2;248;248;248m    \u001b[0m\u001b[38;2;186;33;33;48;2;248;248;248m\"shareholder value\"\u001b[0m\u001b[48;2;248;248;248m                                                                                        \u001b[0m │\n",
       "│ \u001b[38;2;187;187;187;48;2;248;248;248m  \u001b[0m\u001b[38;2;0;0;0;48;2;248;248;248m],\u001b[0m\u001b[48;2;248;248;248m                                                                                                           \u001b[0m │\n",
       "│ \u001b[38;2;187;187;187;48;2;248;248;248m  \u001b[0m\u001b[1;38;2;0;128;0;48;2;248;248;248m\"named_entities\"\u001b[0m\u001b[38;2;0;0;0;48;2;248;248;248m:\u001b[0m\u001b[38;2;187;187;187;48;2;248;248;248m \u001b[0m\u001b[38;2;0;0;0;48;2;248;248;248m{\u001b[0m\u001b[48;2;248;248;248m                                                                                          \u001b[0m │\n",
       "│ \u001b[38;2;187;187;187;48;2;248;248;248m    \u001b[0m\u001b[1;38;2;0;128;0;48;2;248;248;248m\"organizations\"\u001b[0m\u001b[38;2;0;0;0;48;2;248;248;248m:\u001b[0m\u001b[38;2;187;187;187;48;2;248;248;248m \u001b[0m\u001b[38;2;0;0;0;48;2;248;248;248m[\u001b[0m\u001b[48;2;248;248;248m                                                                                         \u001b[0m │\n",
       "│ \u001b[38;2;187;187;187;48;2;248;248;248m      \u001b[0m\u001b[38;2;186;33;33;48;2;248;248;248m\"American Airlines Group\"\u001b[0m\u001b[38;2;0;0;0;48;2;248;248;248m,\u001b[0m\u001b[48;2;248;248;248m                                                                               \u001b[0m │\n",
       "│ \u001b[38;2;187;187;187;48;2;248;248;248m      \u001b[0m\u001b[38;2;186;33;33;48;2;248;248;248m\"NAACP\"\u001b[0m\u001b[48;2;248;248;248m                                                                                                  \u001b[0m │\n",
       "│ \u001b[38;2;187;187;187;48;2;248;248;248m    \u001b[0m\u001b[38;2;0;0;0;48;2;248;248;248m],\u001b[0m\u001b[48;2;248;248;248m                                                                                                         \u001b[0m │\n",
       "│ \u001b[38;2;187;187;187;48;2;248;248;248m    \u001b[0m\u001b[1;38;2;0;128;0;48;2;248;248;248m\"people\"\u001b[0m\u001b[38;2;0;0;0;48;2;248;248;248m:\u001b[0m\u001b[38;2;187;187;187;48;2;248;248;248m \u001b[0m\u001b[38;2;0;0;0;48;2;248;248;248m[\u001b[0m\u001b[48;2;248;248;248m                                                                                                \u001b[0m │\n",
       "│ \u001b[38;2;187;187;187;48;2;248;248;248m      \u001b[0m\u001b[38;2;186;33;33;48;2;248;248;248m\"Derek\"\u001b[0m\u001b[38;2;0;0;0;48;2;248;248;248m,\u001b[0m\u001b[48;2;248;248;248m                                                                                                 \u001b[0m │\n",
       "│ \u001b[38;2;187;187;187;48;2;248;248;248m      \u001b[0m\u001b[38;2;186;33;33;48;2;248;248;248m\"Robert\"\u001b[0m\u001b[48;2;248;248;248m                                                                                                 \u001b[0m │\n",
       "│ \u001b[38;2;187;187;187;48;2;248;248;248m    \u001b[0m\u001b[38;2;0;0;0;48;2;248;248;248m],\u001b[0m\u001b[48;2;248;248;248m                                                                                                         \u001b[0m │\n",
       "│ \u001b[38;2;187;187;187;48;2;248;248;248m    \u001b[0m\u001b[1;38;2;0;128;0;48;2;248;248;248m\"locations\"\u001b[0m\u001b[38;2;0;0;0;48;2;248;248;248m:\u001b[0m\u001b[38;2;187;187;187;48;2;248;248;248m \u001b[0m\u001b[38;2;0;0;0;48;2;248;248;248m[\u001b[0m\u001b[48;2;248;248;248m                                                                                             \u001b[0m │\n",
       "│ \u001b[38;2;187;187;187;48;2;248;248;248m      \u001b[0m\u001b[38;2;186;33;33;48;2;248;248;248m\"Miami\"\u001b[0m\u001b[38;2;0;0;0;48;2;248;248;248m,\u001b[0m\u001b[48;2;248;248;248m                                                                                                 \u001b[0m │\n",
       "│ \u001b[38;2;187;187;187;48;2;248;248;248m      \u001b[0m\u001b[38;2;186;33;33;48;2;248;248;248m\"Florida\"\u001b[0m\u001b[38;2;0;0;0;48;2;248;248;248m,\u001b[0m\u001b[48;2;248;248;248m                                                                                               \u001b[0m │\n",
       "│ \u001b[38;2;187;187;187;48;2;248;248;248m      \u001b[0m\u001b[38;2;186;33;33;48;2;248;248;248m\"Puerto Rico\"\u001b[0m\u001b[38;2;0;0;0;48;2;248;248;248m,\u001b[0m\u001b[48;2;248;248;248m                                                                                           \u001b[0m │\n",
       "│ \u001b[38;2;187;187;187;48;2;248;248;248m      \u001b[0m\u001b[38;2;186;33;33;48;2;248;248;248m\"Caribbean\"\u001b[0m\u001b[38;2;0;0;0;48;2;248;248;248m,\u001b[0m\u001b[48;2;248;248;248m                                                                                             \u001b[0m │\n",
       "│ \u001b[38;2;187;187;187;48;2;248;248;248m      \u001b[0m\u001b[38;2;186;33;33;48;2;248;248;248m\"Mexico City\"\u001b[0m\u001b[48;2;248;248;248m                                                                                            \u001b[0m │\n",
       "│ \u001b[38;2;187;187;187;48;2;248;248;248m    \u001b[0m\u001b[38;2;0;0;0;48;2;248;248;248m],\u001b[0m\u001b[48;2;248;248;248m                                                                                                         \u001b[0m │\n",
       "│ \u001b[38;2;187;187;187;48;2;248;248;248m    \u001b[0m\u001b[1;38;2;0;128;0;48;2;248;248;248m\"dates\"\u001b[0m\u001b[38;2;0;0;0;48;2;248;248;248m:\u001b[0m\u001b[38;2;187;187;187;48;2;248;248;248m \u001b[0m\u001b[38;2;0;0;0;48;2;248;248;248m[\u001b[0m\u001b[48;2;248;248;248m                                                                                                 \u001b[0m │\n",
       "│ \u001b[38;2;187;187;187;48;2;248;248;248m      \u001b[0m\u001b[38;2;186;33;33;48;2;248;248;248m\"Third Quarter 2017\"\u001b[0m\u001b[38;2;0;0;0;48;2;248;248;248m,\u001b[0m\u001b[48;2;248;248;248m                                                                                    \u001b[0m │\n",
       "│ \u001b[38;2;187;187;187;48;2;248;248;248m      \u001b[0m\u001b[38;2;102;102;102;48;2;248;248;248m2018\u001b[0m\u001b[38;2;0;0;0;48;2;248;248;248m,\u001b[0m\u001b[48;2;248;248;248m                                                                                                    \u001b[0m │\n",
       "│ \u001b[38;2;187;187;187;48;2;248;248;248m      \u001b[0m\u001b[38;2;186;33;33;48;2;248;248;248m\"September 5\"\u001b[0m\u001b[38;2;0;0;0;48;2;248;248;248m,\u001b[0m\u001b[48;2;248;248;248m                                                                                           \u001b[0m │\n",
       "│ \u001b[38;2;187;187;187;48;2;248;248;248m      \u001b[0m\u001b[38;2;186;33;33;48;2;248;248;248m\"July\"\u001b[0m\u001b[38;2;0;0;0;48;2;248;248;248m,\u001b[0m\u001b[48;2;248;248;248m                                                                                                  \u001b[0m │\n",
       "│ \u001b[38;2;187;187;187;48;2;248;248;248m      \u001b[0m\u001b[38;2;186;33;33;48;2;248;248;248m\"December\"\u001b[0m\u001b[38;2;0;0;0;48;2;248;248;248m,\u001b[0m\u001b[48;2;248;248;248m                                                                                              \u001b[0m │\n",
       "│ \u001b[38;2;187;187;187;48;2;248;248;248m      \u001b[0m\u001b[38;2;186;33;33;48;2;248;248;248m\"Q2\"\u001b[0m\u001b[38;2;0;0;0;48;2;248;248;248m,\u001b[0m\u001b[48;2;248;248;248m                                                                                                    \u001b[0m │\n",
       "│ \u001b[38;2;187;187;187;48;2;248;248;248m      \u001b[0m\u001b[38;2;186;33;33;48;2;248;248;248m\"Q4\"\u001b[0m\u001b[48;2;248;248;248m                                                                                                     \u001b[0m │\n",
       "│ \u001b[38;2;187;187;187;48;2;248;248;248m    \u001b[0m\u001b[38;2;0;0;0;48;2;248;248;248m]\u001b[0m\u001b[48;2;248;248;248m                                                                                                          \u001b[0m │\n",
       "│ \u001b[38;2;187;187;187;48;2;248;248;248m  \u001b[0m\u001b[38;2;0;0;0;48;2;248;248;248m},\u001b[0m\u001b[48;2;248;248;248m                                                                                                           \u001b[0m │\n",
       "│ \u001b[38;2;187;187;187;48;2;248;248;248m  \u001b[0m\u001b[1;38;2;0;128;0;48;2;248;248;248m\"sentiment\"\u001b[0m\u001b[38;2;0;0;0;48;2;248;248;248m:\u001b[0m\u001b[38;2;187;187;187;48;2;248;248;248m \u001b[0m\u001b[38;2;186;33;33;48;2;248;248;248m\"Positive\"\u001b[0m\u001b[48;2;248;248;248m                                                                                      \u001b[0m │\n",
       "│ \u001b[38;2;0;0;0;48;2;248;248;248m}\u001b[0m\u001b[48;2;248;248;248m                                                                                                              \u001b[0m │\n",
       "╰─────────────────────────────────────────────────────────────────────────────────────────────────────────────────╯\n"
      ]
     },
     "metadata": {},
     "output_type": "display_data"
    }
   ],
   "source": [
    "from rich.console import Console\n",
    "from rich.panel import Panel\n",
    "from rich.syntax import Syntax\n",
    "import random\n",
    "import json\n",
    "\n",
    "\n",
    "rand_idx = random.choice(range(len(generated_data)))\n",
    "# Your data\n",
    "data = json.loads(generated_data[rand_idx][\"json_output\"])\n",
    "\n",
    "# Convert to JSON string with indentation for pretty printing\n",
    "json_str = json.dumps(data, indent=2)\n",
    "\n",
    "# Create syntax highlighted JSON\n",
    "syntax = Syntax(json_str, \"json\", theme=\"github\", line_numbers=False)\n",
    "\n",
    "# Display it inside a panel\n",
    "console = Console()\n",
    "console.print(Panel(syntax, title=\"📊 Extracted Summary\", expand=True))"
   ]
  },
  {
   "cell_type": "markdown",
   "metadata": {},
   "source": [
    "## ✅ Conclusion\n",
    "\n",
    "In this section, we demonstrated how to construct an end-to-end pipeline that transforms unstructured PDF transcripts into structured JSON insights using modular building blocks. By parsing the document, prompting an LLM to extract specific features, and formatting the results, we’ve created a scalable workflow for financial document analysis—or any use case involving long-form text.\n",
    "\n",
    "## 📝 Homework: Extend the Pipeline\n",
    "\n",
    "Your task is to add a new block that extracts a different kind of structured insight from the conversation context.\n",
    "\n",
    "Some examples include:\n",
    "* 🧩 Risk factors mentioned in the call\n",
    "* 📊 Numerical metrics (e.g., revenue, margin, headcount)\n",
    "* 📌 Action items or decisions discussed\n",
    "\n",
    "Once you’ve done that, you’ll have taken the first step toward custom skill authoring, opening the door to richer document understanding tailored to your own domain needs. "
   ]
  }
 ],
 "metadata": {
  "kernelspec": {
   "display_name": "sdg_hub",
   "language": "python",
   "name": "python3"
  },
  "language_info": {
   "codemirror_mode": {
    "name": "ipython",
    "version": 3
   },
   "file_extension": ".py",
   "mimetype": "text/x-python",
   "name": "python",
   "nbconvert_exporter": "python",
   "pygments_lexer": "ipython3",
   "version": "3.11.11"
  }
 },
 "nbformat": 4,
 "nbformat_minor": 2
}
