{
 "cells": [
  {
   "cell_type": "code",
   "execution_count": null,
   "id": "05966d74",
   "metadata": {},
   "outputs": [],
   "source": [
    "import os\n",
    "\n",
    "from fast_depends import Depends\n",
    "from good_clickhouse.query import sql\n",
    "\n",
    "try:\n",
    "    import chdb\n",
    "except ImportError:\n",
    "    import warnings\n",
    "\n",
    "    warnings.warn(\"chdb not found\")\n",
    "\n",
    "\n",
    "@sql\n",
    "def remote_table_secure(host: str, database: str, table: str, user: str, password: str):\n",
    "    \"\"\"\n",
    "    remoteSecure('{{host}}', '{{database}}', '{{table}}', '{{user}}', '{{password}}')\n",
    "    \"\"\"\n",
    "\n",
    "\n",
    "def _inject_env_variable(name: str):\n",
    "    def _internal():\n",
    "        return os.environ[name]\n",
    "\n",
    "    return _internal\n",
    "\n",
    "\n",
    "@sql\n",
    "def remote_table_secure_ch_cloud(\n",
    "    database: str,\n",
    "    table: str,\n",
    "    host: str = Depends(_inject_env_variable(\"CLICKHOUSE_CLOUD_HOST\")),\n",
    "    password: str = Depends(_inject_env_variable(\"CLICKHOUSE_CLOUD_PASSWORD\")),\n",
    "):\n",
    "    \"\"\"\n",
    "    remoteSecure('{{host}}', '{{database}}', '{{table}}', 'default', '{{password}}')\n",
    "    \"\"\"\n"
   ]
  },
  {
   "cell_type": "code",
   "execution_count": 2,
   "id": "089c5db7",
   "metadata": {},
   "outputs": [
    {
     "ename": "TypeError",
     "evalue": "missing a required argument: 'host'",
     "output_type": "error",
     "traceback": [
      "\u001b[31m---------------------------------------------------------------------------\u001b[39m",
      "\u001b[31mTypeError\u001b[39m                                 Traceback (most recent call last)",
      "\u001b[36mCell\u001b[39m\u001b[36m \u001b[39m\u001b[32mIn[2]\u001b[39m\u001b[32m, line 1\u001b[39m\n\u001b[32m----> \u001b[39m\u001b[32m1\u001b[39m \u001b[43mremote_table_secure\u001b[49m\u001b[43m(\u001b[49m\n\u001b[32m      2\u001b[39m \u001b[43m    \u001b[49m\u001b[43mdatabase\u001b[49m\u001b[43m=\u001b[49m\u001b[33;43m\"\u001b[39;49m\u001b[33;43mdefault\u001b[39;49m\u001b[33;43m\"\u001b[39;49m\u001b[43m,\u001b[49m\n\u001b[32m      3\u001b[39m \u001b[43m    \u001b[49m\u001b[43mtable\u001b[49m\u001b[43m=\u001b[49m\u001b[33;43m\"\u001b[39;49m\u001b[33;43mtest_table\u001b[39;49m\u001b[33;43m\"\u001b[39;49m\u001b[43m,\u001b[49m\n\u001b[32m      4\u001b[39m \u001b[43m)\u001b[49m\n",
      "\u001b[36mFile \u001b[39m\u001b[32m~/Code/goodkiwi/projects/good-libraries/libs/good-clickhouse/src/good_clickhouse/query.py:590\u001b[39m, in \u001b[36mSQL.__call__\u001b[39m\u001b[34m(self, *args, **kwargs)\u001b[39m\n\u001b[32m    588\u001b[39m     \u001b[38;5;28;01mreturn\u001b[39;00m \u001b[38;5;28mself\u001b[39m.render_async(*args, **kwargs)\n\u001b[32m    589\u001b[39m \u001b[38;5;28;01melse\u001b[39;00m:\n\u001b[32m--> \u001b[39m\u001b[32m590\u001b[39m     \u001b[38;5;28;01mreturn\u001b[39;00m \u001b[38;5;28;43mself\u001b[39;49m\u001b[43m.\u001b[49m\u001b[43mrender_sync\u001b[49m\u001b[43m(\u001b[49m\u001b[43m*\u001b[49m\u001b[43margs\u001b[49m\u001b[43m,\u001b[49m\u001b[43m \u001b[49m\u001b[43m*\u001b[49m\u001b[43m*\u001b[49m\u001b[43mkwargs\u001b[49m\u001b[43m)\u001b[49m\n",
      "\u001b[36mFile \u001b[39m\u001b[32m~/Code/goodkiwi/projects/good-libraries/libs/good-clickhouse/src/good_clickhouse/query.py:503\u001b[39m, in \u001b[36mSQL.render_sync\u001b[39m\u001b[34m(self, *args, **kwargs)\u001b[39m\n\u001b[32m    499\u001b[39m \u001b[38;5;28;01mdef\u001b[39;00m\u001b[38;5;250m \u001b[39m\u001b[34mrender_sync\u001b[39m(\u001b[38;5;28mself\u001b[39m, *args, **kwargs):\n\u001b[32m    500\u001b[39m     \u001b[38;5;28;01mif\u001b[39;00m FAST_DEPENDS_VERSION_3:\n\u001b[32m    501\u001b[39m         \u001b[38;5;66;03m# For fast-depends 3.0+, we still need to validate arguments\u001b[39;00m\n\u001b[32m    502\u001b[39m         \u001b[38;5;66;03m# Use bind() for validation, but don't pass bound.arguments to solve()\u001b[39;00m\n\u001b[32m--> \u001b[39m\u001b[32m503\u001b[39m         bound_arguments = \u001b[38;5;28;43mself\u001b[39;49m\u001b[43m.\u001b[49m\u001b[43msignature\u001b[49m\u001b[43m.\u001b[49m\u001b[43mbind\u001b[49m\u001b[43m(\u001b[49m\u001b[43m*\u001b[49m\u001b[43margs\u001b[49m\u001b[43m,\u001b[49m\u001b[43m \u001b[49m\u001b[43m*\u001b[49m\u001b[43m*\u001b[49m\u001b[43mkwargs\u001b[49m\u001b[43m)\u001b[49m\n\u001b[32m    504\u001b[39m         \u001b[38;5;66;03m# bind() will raise TypeError for missing required arguments\u001b[39;00m\n\u001b[32m    506\u001b[39m         \u001b[38;5;28;01mwith\u001b[39;00m ExitStack() \u001b[38;5;28;01mas\u001b[39;00m stack:\n",
      "\u001b[36mFile \u001b[39m\u001b[32m~/.local/share/uv/python/cpython-3.12.8-macos-aarch64-none/lib/python3.12/inspect.py:3277\u001b[39m, in \u001b[36mSignature.bind\u001b[39m\u001b[34m(self, *args, **kwargs)\u001b[39m\n\u001b[32m   3272\u001b[39m \u001b[38;5;28;01mdef\u001b[39;00m\u001b[38;5;250m \u001b[39m\u001b[34mbind\u001b[39m(\u001b[38;5;28mself\u001b[39m, /, *args, **kwargs):\n\u001b[32m   3273\u001b[39m \u001b[38;5;250m    \u001b[39m\u001b[33;03m\"\"\"Get a BoundArguments object, that maps the passed `args`\u001b[39;00m\n\u001b[32m   3274\u001b[39m \u001b[33;03m    and `kwargs` to the function's signature.  Raises `TypeError`\u001b[39;00m\n\u001b[32m   3275\u001b[39m \u001b[33;03m    if the passed arguments can not be bound.\u001b[39;00m\n\u001b[32m   3276\u001b[39m \u001b[33;03m    \"\"\"\u001b[39;00m\n\u001b[32m-> \u001b[39m\u001b[32m3277\u001b[39m     \u001b[38;5;28;01mreturn\u001b[39;00m \u001b[38;5;28;43mself\u001b[39;49m\u001b[43m.\u001b[49m\u001b[43m_bind\u001b[49m\u001b[43m(\u001b[49m\u001b[43margs\u001b[49m\u001b[43m,\u001b[49m\u001b[43m \u001b[49m\u001b[43mkwargs\u001b[49m\u001b[43m)\u001b[49m\n",
      "\u001b[36mFile \u001b[39m\u001b[32m~/.local/share/uv/python/cpython-3.12.8-macos-aarch64-none/lib/python3.12/inspect.py:3190\u001b[39m, in \u001b[36mSignature._bind\u001b[39m\u001b[34m(self, args, kwargs, partial)\u001b[39m\n\u001b[32m   3188\u001b[39m                 msg = \u001b[33m'\u001b[39m\u001b[33mmissing a required\u001b[39m\u001b[38;5;132;01m{argtype}\u001b[39;00m\u001b[33m argument: \u001b[39m\u001b[38;5;132;01m{arg!r}\u001b[39;00m\u001b[33m'\u001b[39m\n\u001b[32m   3189\u001b[39m                 msg = msg.format(arg=param.name, argtype=argtype)\n\u001b[32m-> \u001b[39m\u001b[32m3190\u001b[39m                 \u001b[38;5;28;01mraise\u001b[39;00m \u001b[38;5;167;01mTypeError\u001b[39;00m(msg) \u001b[38;5;28;01mfrom\u001b[39;00m\u001b[38;5;250m \u001b[39m\u001b[38;5;28;01mNone\u001b[39;00m\n\u001b[32m   3191\u001b[39m \u001b[38;5;28;01melse\u001b[39;00m:\n\u001b[32m   3192\u001b[39m     \u001b[38;5;66;03m# We have a positional argument to process\u001b[39;00m\n\u001b[32m   3193\u001b[39m     \u001b[38;5;28;01mtry\u001b[39;00m:\n",
      "\u001b[31mTypeError\u001b[39m: missing a required argument: 'host'"
     ]
    }
   ],
   "source": [
    "remote_table_secure(\n",
    "    database=\"default\",\n",
    "    table=\"test_table\",\n",
    ")"
   ]
  },
  {
   "cell_type": "code",
   "execution_count": null,
   "id": "730d875a",
   "metadata": {},
   "outputs": [],
   "source": []
  }
 ],
 "metadata": {
  "kernelspec": {
   "display_name": "good-libraries (3.12.8)",
   "language": "python",
   "name": "python3"
  },
  "language_info": {
   "codemirror_mode": {
    "name": "ipython",
    "version": 3
   },
   "file_extension": ".py",
   "mimetype": "text/x-python",
   "name": "python",
   "nbconvert_exporter": "python",
   "pygments_lexer": "ipython3",
   "version": "3.12.8"
  }
 },
 "nbformat": 4,
 "nbformat_minor": 5
}
