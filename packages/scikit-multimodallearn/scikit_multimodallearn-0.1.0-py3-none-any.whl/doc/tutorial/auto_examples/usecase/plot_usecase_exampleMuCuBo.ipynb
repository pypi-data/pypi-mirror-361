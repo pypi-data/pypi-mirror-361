{
  "cells": [
    {
      "cell_type": "code",
      "execution_count": null,
      "metadata": {
        "collapsed": false
      },
      "outputs": [],
      "source": [
        "%matplotlib inline"
      ]
    },
    {
      "cell_type": "markdown",
      "metadata": {},
      "source": [
        "\n# Use Case MuCumBo on digit\n\nUse case for all classifier of multimodallearn  MuCumBo\n\nmulti class digit from sklearn, multivue\n - vue 0 digit data (color of sklearn)\n - vue 1 gradiant of image in first direction\n - vue 2 gradiant of image in second direction\n\n\n"
      ]
    },
    {
      "cell_type": "code",
      "execution_count": null,
      "metadata": {
        "collapsed": false
      },
      "outputs": [],
      "source": [
        "import numpy as np\nimport matplotlib.pyplot as plt\nfrom sklearn.model_selection import train_test_split\nfrom sklearn.tree import DecisionTreeClassifier\nfrom multimodal.datasets.base import load_dict, save_dict\nfrom multimodal.tests.data.get_dataset_path import get_dataset_path\nfrom multimodal.datasets.data_sample import MultiModalArray\n\nfrom multimodal.boosting.cumbo import MuCumboClassifier\nimport numpy as np\nimport matplotlib.pyplot as plt\nimport matplotlib._color_data as mcd\n\n\ndef plot_subplot(X, Y, Y_pred, vue, subplot, title):\n    cn = mcd.CSS4_COLORS\n    classes = np.unique(Y)\n    n_classes = len(np.unique(Y))\n    axs = plt.subplot(subplot[0],subplot[1],subplot[2])\n    axs.set_title(title)\n    #plt.scatter(X._extract_view(vue), X._extract_view(vue), s=40, c='gray',\n    #            edgecolors=(0, 0, 0))\n    for index, k in zip(range(n_classes), cn.keys()):\n         Y_class, = np.where(Y==classes[index])\n         Y_class_pred = np.intersect1d(np.where(Y_pred==classes[index])[0], np.where(Y_pred==Y)[0])\n         plt.scatter(X._extract_view(vue)[Y_class],\n                     X._extract_view(vue)[Y_class],\n                     s=40, c=cn[k], edgecolors='blue', linewidths=2, label=\"class real class: \"+str(index)) #\n         plt.scatter(X._extract_view(vue)[Y_class_pred],\n                     X._extract_view(vue)[Y_class_pred],\n                     s=160, edgecolors='orange', linewidths=2, label=\"class prediction: \"+str(index))\n\n\n\nif __name__ == '__main__':\n    # file = get_dataset_path(\"digit_histogram.npy\")\n    file = get_dataset_path(\"digit_col_grad.npy\")\n    y = np.load(get_dataset_path(\"digit_y.npy\"))\n    base_estimator = DecisionTreeClassifier(max_depth=4)\n    dic_digit = load_dict(file)\n    XX =MultiModalArray(dic_digit)\n    X_train, X_test, y_train, y_test = train_test_split(XX, y)\n    est3 = MuCumboClassifier(base_estimator=base_estimator).fit(X_train, y_train)\n    y_pred3 = est3.predict(X_test)\n    y_pred33 = est3.predict(X_train)\n    print(\"result of MuCumboClassifier on digit \")\n    result3 = np.mean(y_pred3.ravel() == y_test.ravel()) * 100\n    print(result3)\n\n    fig = plt.figure(figsize=(12., 11.))\n    fig.suptitle(\"MuCumbo: result\" + str(result3), fontsize=16)\n    plot_subplot(X_train, y_train, y_pred33  ,0, (4, 1, 1), \"train vue 0 color\" )\n    plot_subplot(X_test, y_test,y_pred3 , 0, (4, 1, 2), \"test vue 0 color\" )\n    plot_subplot(X_test, y_test, y_pred3,1, (4, 1, 3), \"test vue 1 gradiant 0\" )\n    plot_subplot(X_test, y_test,y_pred3, 2, (4, 1, 4), \"test vue 2 gradiant 1\" )\n    # plt.legend()\n    plt.show()"
      ]
    }
  ],
  "metadata": {
    "kernelspec": {
      "display_name": "Python 3",
      "language": "python",
      "name": "python3"
    },
    "language_info": {
      "codemirror_mode": {
        "name": "ipython",
        "version": 3
      },
      "file_extension": ".py",
      "mimetype": "text/x-python",
      "name": "python",
      "nbconvert_exporter": "python",
      "pygments_lexer": "ipython3",
      "version": "3.6.8"
    }
  },
  "nbformat": 4,
  "nbformat_minor": 0
}