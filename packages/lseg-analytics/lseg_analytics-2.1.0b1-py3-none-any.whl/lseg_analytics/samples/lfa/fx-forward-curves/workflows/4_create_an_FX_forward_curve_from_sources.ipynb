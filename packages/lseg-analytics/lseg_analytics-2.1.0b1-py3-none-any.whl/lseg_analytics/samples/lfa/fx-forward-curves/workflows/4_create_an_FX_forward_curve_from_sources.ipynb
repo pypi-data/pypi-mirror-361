{
 "cells": [
  {
   "cell_type": "markdown",
   "metadata": {},
   "source": [
    "# Create and save an FX Forward curve from sources\n",
    "\n",
    "This notebook explains how to create and save a user defined FX Forward curve. This method creates the curve by using helper functions. Two examples are shown - building a curve from FX Forwards and building a curve from deposits. "
   ]
  },
  {
   "cell_type": "markdown",
   "metadata": {},
   "source": [
    "## Start by importing the required libraries"
   ]
  },
  {
   "cell_type": "code",
   "execution_count": 1,
   "metadata": {
    "execution": {
     "iopub.execute_input": "2025-06-27T09:42:40.371204Z",
     "iopub.status.busy": "2025-06-27T09:42:40.371001Z",
     "iopub.status.idle": "2025-06-27T09:42:40.830328Z",
     "shell.execute_reply": "2025-06-27T09:42:40.829516Z"
    }
   },
   "outputs": [],
   "source": [
    "from lseg_analytics.market_data import fx_forward_curves\n",
    "from lseg_analytics.market_data.fx_forward_curves import IndirectSourcesSwaps\n",
    "from lseg_analytics.common import TenorType"
   ]
  },
  {
   "cell_type": "markdown",
   "metadata": {},
   "source": [
    "## Build the curve from FX Forwards\n",
    "Provide at least the cross_currency to build the curve using the 'create_from_fx_forwards' method. You can also outline the reference currency, any additional tenor types in addition to the standard tenor and the sources containing the market data for the instruments used to create the curve. "
   ]
  },
  {
   "cell_type": "code",
   "execution_count": 2,
   "metadata": {
    "execution": {
     "iopub.execute_input": "2025-06-27T09:42:40.835793Z",
     "iopub.status.busy": "2025-06-27T09:42:40.833318Z",
     "iopub.status.idle": "2025-06-27T09:42:41.912316Z",
     "shell.execute_reply": "2025-06-27T09:42:41.911716Z"
    }
   },
   "outputs": [
    {
     "data": {
      "text/plain": [
       "True"
      ]
     },
     "execution_count": 2,
     "metadata": {},
     "output_type": "execute_result"
    }
   ],
   "source": [
    "# Build a new curve from FX Forwards\n",
    "my_eurgbp_curve = fx_forward_curves.create_from_fx_forwards(\n",
    "    cross_currency=\"EURGBP\",\n",
    "    reference_currency=\"USD\",\n",
    "    sources=IndirectSourcesSwaps(\n",
    "        base_fx_forwards=\"RFB\"\n",
    "        ),\n",
    "    additional_tenor_types=[TenorType.ODD, TenorType.LONG]\n",
    ")\n",
    "\n",
    "my_eurgbp_curve.description.summary = \"My EURGBP curve from FxForward\"\n",
    "\n",
    "# Save the curve in the user storage space\n",
    "my_eurgbp_curve.save(space=\"HOME\", name=\"EURGBP_curve_from_FxForward\")"
   ]
  },
  {
   "cell_type": "markdown",
   "metadata": {},
   "source": [
    "## Build the curve from deposits\n",
    "Alternatively, use the 'create_from_deposits' method to build the curve from deposits. Again, provide at least the cross_currency. "
   ]
  },
  {
   "cell_type": "code",
   "execution_count": 3,
   "metadata": {
    "execution": {
     "iopub.execute_input": "2025-06-27T09:42:41.915174Z",
     "iopub.status.busy": "2025-06-27T09:42:41.914745Z",
     "iopub.status.idle": "2025-06-27T09:42:42.378002Z",
     "shell.execute_reply": "2025-06-27T09:42:42.377258Z"
    }
   },
   "outputs": [
    {
     "data": {
      "text/plain": [
       "True"
      ]
     },
     "execution_count": 3,
     "metadata": {},
     "output_type": "execute_result"
    }
   ],
   "source": [
    "# Build a new curve from Deposits\n",
    "my_eurgbp_curve = fx_forward_curves.create_from_deposits(\n",
    "    cross_currency=\"EURGBP\",\n",
    "    additional_tenor_types=[TenorType.ODD, TenorType.LONG]\n",
    ")\n",
    "\n",
    "my_eurgbp_curve.description.summary = \"My EURGBP curve from Deposits\"\n",
    "\n",
    "# Save the curve in the user storage space\n",
    "my_eurgbp_curve.save(space=\"HOME\", name=\"EURGBP_curve_from_Deposits\")"
   ]
  },
  {
   "cell_type": "markdown",
   "metadata": {},
   "source": [
    "## If you want to clean up your space you can delete the curves"
   ]
  },
  {
   "cell_type": "code",
   "execution_count": 4,
   "metadata": {
    "execution": {
     "iopub.execute_input": "2025-06-27T09:42:42.380682Z",
     "iopub.status.busy": "2025-06-27T09:42:42.380491Z",
     "iopub.status.idle": "2025-06-27T09:42:42.942981Z",
     "shell.execute_reply": "2025-06-27T09:42:42.942329Z"
    }
   },
   "outputs": [
    {
     "data": {
      "text/plain": [
       "True"
      ]
     },
     "execution_count": 4,
     "metadata": {},
     "output_type": "execute_result"
    }
   ],
   "source": [
    "# ------------------------------------------------------------------------------\n",
    "# Clean up\n",
    "fx_forward_curves.delete(space=\"HOME\", name=\"EURGBP_curve_from_Deposits\")\n",
    "fx_forward_curves.delete(space=\"HOME\", name=\"EURGBP_curve_from_FxForward\")"
   ]
  }
 ],
 "metadata": {
  "kernelspec": {
   "display_name": ".venv",
   "language": "python",
   "name": "python3"
  },
  "language_info": {
   "codemirror_mode": {
    "name": "ipython",
    "version": 3
   },
   "file_extension": ".py",
   "mimetype": "text/x-python",
   "name": "python",
   "nbconvert_exporter": "python",
   "pygments_lexer": "ipython3",
   "version": "3.11.6"
  }
 },
 "nbformat": 4,
 "nbformat_minor": 2
}
