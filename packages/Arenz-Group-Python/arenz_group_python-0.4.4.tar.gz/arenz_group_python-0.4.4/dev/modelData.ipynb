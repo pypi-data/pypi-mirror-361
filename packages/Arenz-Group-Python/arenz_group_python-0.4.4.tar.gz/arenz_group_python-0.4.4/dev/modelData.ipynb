{
 "cells": [
  {
   "cell_type": "code",
   "execution_count": 1,
   "metadata": {},
   "outputs": [
    {
     "name": "stdout",
     "output_type": "stream",
     "text": [
      "c:\\Users\\gusta\\Documents\\GitHub\\Arenz_Group_Python\\dev\\src\n",
      "c:\\Users\\gusta\\Documents\\GitHub\\Arenz_Group_Python\\dev\\test\n",
      "C:\\Users\\gusta\\AppData\\Local\\Programs\\Python\\Python312\\python312.zip\n",
      "C:\\Users\\gusta\\AppData\\Local\\Programs\\Python\\Python312\\DLLs\n",
      "C:\\Users\\gusta\\AppData\\Local\\Programs\\Python\\Python312\\Lib\n",
      "C:\\Users\\gusta\\AppData\\Local\\Programs\\Python\\Python312\n",
      "c:\\Users\\gusta\\Documents\\GitHub\\Arenz_Group_Python\\.venv\n",
      "\n",
      "c:\\Users\\gusta\\Documents\\GitHub\\Arenz_Group_Python\\.venv\\Lib\\site-packages\n",
      "C:\\Users\\gusta\\Documents\\GitHub\\Arenz_Group_Python\\src\n",
      "c:\\Users\\gusta\\Documents\\GitHub\\Arenz_Group_Python\\.venv\\Lib\\site-packages\\win32\n",
      "c:\\Users\\gusta\\Documents\\GitHub\\Arenz_Group_Python\\.venv\\Lib\\site-packages\\win32\\lib\n",
      "c:\\Users\\gusta\\Documents\\GitHub\\Arenz_Group_Python\\.venv\\Lib\\site-packages\\Pythonwin\n"
     ]
    }
   ],
   "source": [
    "import sys\n",
    "for l in sys.path:\n",
    "    print (l)"
   ]
  },
  {
   "cell_type": "code",
   "execution_count": 9,
   "metadata": {},
   "outputs": [
    {
     "name": "stdout",
     "output_type": "stream",
     "text": [
      "hello world\n"
     ]
    }
   ],
   "source": [
    "\n",
    "import my_Module\n",
    "  \n",
    "my_Module.hello()"
   ]
  },
  {
   "cell_type": "markdown",
   "metadata": {},
   "source": []
  },
  {
   "cell_type": "code",
   "execution_count": 3,
   "metadata": {},
   "outputs": [],
   "source": [
    "import my_Module as my_Module2\n"
   ]
  }
 ],
 "metadata": {
  "kernelspec": {
   "display_name": ".venv",
   "language": "python",
   "name": "python3"
  },
  "language_info": {
   "codemirror_mode": {
    "name": "ipython",
    "version": 3
   },
   "file_extension": ".py",
   "mimetype": "text/x-python",
   "name": "python",
   "nbconvert_exporter": "python",
   "pygments_lexer": "ipython3",
   "version": "3.12.1"
  }
 },
 "nbformat": 4,
 "nbformat_minor": 2
}
