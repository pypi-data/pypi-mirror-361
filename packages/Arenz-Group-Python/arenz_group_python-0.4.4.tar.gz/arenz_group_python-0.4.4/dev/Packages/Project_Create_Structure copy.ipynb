{
 "cells": [
  {
   "cell_type": "markdown",
   "metadata": {},
   "source": [
    "# General installation from github\n",
    "This notebook creates a basic project structure. \n",
    "It is based on the article:\n",
    "\n",
    "https://towardsdatascience.com/its-time-to-structure-your-data-science-project-1fa064fbe46\n"
   ]
  },
  {
   "cell_type": "code",
   "execution_count": 1,
   "metadata": {},
   "outputs": [
    {
     "name": "stdout",
     "output_type": "stream",
     "text": [
      "\"data_raw\" could not be found as a branch of the folder tree form the notebook.\n",
      "Please use standard project structure.\n",
      "\"data_treated\" could not be found as a branch of the folder tree form the notebook.\n",
      "Please use standard project structure.\n"
     ]
    },
    {
     "ename": "UnboundLocalError",
     "evalue": "cannot access local variable 'k' where it is not associated with a value",
     "output_type": "error",
     "traceback": [
      "\u001b[1;31m---------------------------------------------------------------------------\u001b[0m",
      "\u001b[1;31mUnboundLocalError\u001b[0m                         Traceback (most recent call last)",
      "Cell \u001b[1;32mIn[1], line 1\u001b[0m\n\u001b[1;32m----> 1\u001b[0m \u001b[38;5;28;01mfrom\u001b[39;00m \u001b[38;5;21;01marenz_group_python\u001b[39;00m \u001b[38;5;28;01mimport\u001b[39;00m Project_Paths\n\u001b[0;32m      3\u001b[0m \u001b[38;5;66;03m#Path of the file.\u001b[39;00m\n\u001b[0;32m      5\u001b[0m main_dir \u001b[38;5;241m=\u001b[39m Path(os\u001b[38;5;241m.\u001b[39mgetcwd())\n",
      "File \u001b[1;32m~\\Documents\\GitHub\\BERN\\Arenz_Group_Python\\src\\arenz_group_python\\__init__.py:7\u001b[0m\n\u001b[0;32m      1\u001b[0m \u001b[38;5;66;03m# Leave it empty. This is just a special file that tells pip that your main module is in this folder. \u001b[39;00m\n\u001b[0;32m      2\u001b[0m \u001b[38;5;66;03m# No need to add anything here. Feel free to delete this line when you make your own package.\u001b[39;00m\n\u001b[0;32m      3\u001b[0m \n\u001b[0;32m      4\u001b[0m \u001b[38;5;66;03m#from any import EC_Data\u001b[39;00m\n\u001b[1;32m----> 7\u001b[0m \u001b[38;5;28;01mfrom\u001b[39;00m \u001b[38;5;21;01m.\u001b[39;00m\u001b[38;5;21;01mproject\u001b[39;00m\u001b[38;5;21;01m.\u001b[39;00m\u001b[38;5;21;01mutil_paths\u001b[39;00m \u001b[38;5;28;01mimport\u001b[39;00m Project_Paths, pDATA_RAW, pDATA_TREATED\n\u001b[0;32m      8\u001b[0m \u001b[38;5;28;01mfrom\u001b[39;00m \u001b[38;5;21;01m.\u001b[39;00m\u001b[38;5;21;01mfile\u001b[39;00m\u001b[38;5;21;01m.\u001b[39;00m\u001b[38;5;21;01mfile_dict\u001b[39;00m \u001b[38;5;28;01mimport\u001b[39;00m save_dict_to_file, load_dict_from_file, save_dict_to_tableFile\n\u001b[0;32m      9\u001b[0m \u001b[38;5;28;01mfrom\u001b[39;00m \u001b[38;5;21;01m.\u001b[39;00m\u001b[38;5;21;01mdata_treatment\u001b[39;00m \u001b[38;5;28;01mimport\u001b[39;00m AutoClaveSynthesis\n",
      "File \u001b[1;32m~\\Documents\\GitHub\\BERN\\Arenz_Group_Python\\src\\arenz_group_python\\project\\__init__.py:5\u001b[0m\n\u001b[0;32m      1\u001b[0m \u001b[38;5;124;03m\"\"\" ## Create Project Structure\u001b[39;00m\n\u001b[0;32m      2\u001b[0m \u001b[38;5;124;03mModule for creating default folder structure of a project.\u001b[39;00m\n\u001b[0;32m      3\u001b[0m \u001b[38;5;124;03m\"\"\"\u001b[39;00m\n\u001b[1;32m----> 5\u001b[0m \u001b[38;5;28;01mfrom\u001b[39;00m \u001b[38;5;21;01m.\u001b[39;00m\u001b[38;5;21;01mutil_paths\u001b[39;00m \u001b[38;5;28;01mimport\u001b[39;00m Project_Paths,pDATA_RAW,pDATA_TREATED \n\u001b[0;32m      7\u001b[0m __all__ \u001b[38;5;241m=\u001b[39m [\u001b[38;5;124m\"\u001b[39m\u001b[38;5;124mutil_paths\u001b[39m\u001b[38;5;124m\"\u001b[39m,\u001b[38;5;124m\"\u001b[39m\u001b[38;5;124mProject_Paths\u001b[39m\u001b[38;5;124m\"\u001b[39m,\u001b[38;5;124m\"\u001b[39m\u001b[38;5;124mpDATA_RAW\u001b[39m\u001b[38;5;124m\"\u001b[39m,\u001b[38;5;124m\"\u001b[39m\u001b[38;5;124mpDATA_TREATED\u001b[39m\u001b[38;5;124m\"\u001b[39m]\n\u001b[0;32m     10\u001b[0m \u001b[38;5;66;03m#Import the submodules\u001b[39;00m\n\u001b[0;32m     11\u001b[0m \u001b[38;5;66;03m#from . import ec_data\u001b[39;00m\n",
      "File \u001b[1;32m~\\Documents\\GitHub\\BERN\\Arenz_Group_Python\\src\\arenz_group_python\\project\\util_paths.py:268\u001b[0m\n\u001b[0;32m    265\u001b[0m pDATA_RAW \u001b[38;5;241m=\u001b[39m Project_Paths()\u001b[38;5;241m.\u001b[39m_rawdata_path()\n\u001b[0;32m    266\u001b[0m \u001b[38;5;124;03m\"\"\"Pathlib Path to the project's \"raw_data\" folder.\u001b[39;00m\n\u001b[0;32m    267\u001b[0m \u001b[38;5;124;03m\"\"\"\u001b[39;00m\n\u001b[1;32m--> 268\u001b[0m pDATA_TREATED \u001b[38;5;241m=\u001b[39m \u001b[43mProject_Paths\u001b[49m\u001b[43m(\u001b[49m\u001b[43m)\u001b[49m\u001b[38;5;241;43m.\u001b[39;49m\u001b[43m_treated_data_path\u001b[49m\u001b[43m(\u001b[49m\u001b[43m)\u001b[49m\n\u001b[0;32m    269\u001b[0m \u001b[38;5;124;03m\"\"\"Pathlib Path to the project's \"treated_data\" folder.\u001b[39;00m\n\u001b[0;32m    270\u001b[0m \u001b[38;5;124;03m\"\"\"\u001b[39;00m\n",
      "File \u001b[1;32m~\\Documents\\GitHub\\BERN\\Arenz_Group_Python\\src\\arenz_group_python\\project\\util_paths.py:90\u001b[0m, in \u001b[0;36mProject_Paths._treated_data_path\u001b[1;34m(self, path_to_caller)\u001b[0m\n\u001b[0;32m     87\u001b[0m \u001b[38;5;28;01mexcept\u001b[39;00m \u001b[38;5;167;01mNotADirectoryError\u001b[39;00m \u001b[38;5;28;01mas\u001b[39;00m err:\n\u001b[0;32m     88\u001b[0m     \u001b[38;5;28mprint\u001b[39m(err)\n\u001b[1;32m---> 90\u001b[0m \u001b[38;5;28;01mreturn\u001b[39;00m \u001b[43mk\u001b[49m\n",
      "\u001b[1;31mUnboundLocalError\u001b[0m: cannot access local variable 'k' where it is not associated with a value"
     ]
    }
   ],
   "source": [
    "from arenz_group_python import Project_Paths\n",
    "\n",
    "#Path of the file.\n",
    "\n",
    "main_dir = Path(os.getcwd())\n",
    "print(main_dir)"
   ]
  },
  {
   "cell_type": "code",
   "execution_count": null,
   "metadata": {},
   "outputs": [
    {
     "name": "stdout",
     "output_type": "stream",
     "text": [
      "-\"rawdata\" exists already as a folder\n",
      "-\"data\" exists already as a folder\n",
      "-\"py_scripts\" exists already as a folder\n",
      "-\"notebooks_models\" exists already as a folder\n",
      "-\"notebooks_exploration_cleaning\" exists already as a folder\n",
      "\n",
      "creating files:\n",
      "\n",
      "-\"notebooks_models/modelData.ipynb\" already exists\n",
      "-\"py_scripts/my_Module.py\" already exists\n",
      "-\"__init__.py\" already exists\n",
      "+\"README.md\" was created\n",
      "-\"README.md\" already exists\n",
      "-\"extractData.ipynb\" already exists\n"
     ]
    }
   ],
   "source": [
    "project_folders = [\n",
    "    \"rawdata\",\n",
    "    \"data\",\n",
    "    \"py_scripts\",\n",
    "    \"notebooks_models\",\n",
    "    \"notebooks_exploration_cleaning\" \n",
    "    ]\n",
    "for folderPath in project_folders:\n",
    "    try:\n",
    "        os.makedirs(folderPath)\n",
    "        print(f\"+\\\"{folderPath}\\\" was created\")\n",
    "    except FileExistsError:\n",
    "        print(f\"-\\\"{folderPath}\\\" exists already as a folder\")\n",
    "\n",
    "print(\"\\ncreating files:\\n\")\n",
    "def_files = [\n",
    "    \"notebooks_models/modelData.ipynb\",\n",
    "    \"py_scripts/my_Module.py\"\n",
    "]\n",
    "for file in def_files:\n",
    "    try:\n",
    "        fo= open(file,\"x\")\n",
    "        fo.close()\n",
    "        print(f\"+\\\"{file}\\\" was created\")\n",
    "    except FileExistsError:\n",
    "        print(f\"-\\\"{file}\\\" already exists\")\n",
    "\n",
    "path = main_dir / \"py_scripts\" / \"__init__.py\"\n",
    "try:\n",
    "    with open(path,\"x\") as f:\n",
    "        f.write(\"# Leave it empty. This is just a special file that tells pip that your main module is in this folder.\\n# No need to add anything here. Feel free to delete this line when you make your own package.\")\n",
    "        f.close()\n",
    "    print(\"+\\\"__init__.py\\\" was created\")\n",
    "except FileExistsError :\n",
    "    print(\"-\\\"__init__.py\\\" already exists\")\n",
    "\n",
    "path = main_dir / \"rawdata\" / \"README.txt\"\n",
    "try:\n",
    "    with open(path,\"x\") as f:\n",
    "        f.write(\"# Use the rawdata folder to store all experimental data. ONLY!!!!.\")\n",
    "        f.close()\n",
    "    print(\"+\\\"README.md\\\" was created\")\n",
    "except FileExistsError :\n",
    "    print(\"-\\\"README.md\\\" already exists\")\n",
    "    path = main_dir / \"data\" / \"README.txt\"\n",
    "try:\n",
    "    with open(path,\"x\") as f:\n",
    "        f.write(\"# Use the data folder to store all extracted values from data manipulation. NO RAW DATA!!!!.\")\n",
    "        f.close()\n",
    "    print(\"+\\\"README.md\\\" was created\")\n",
    "except FileExistsError :\n",
    "    print(\"-\\\"README.md\\\" already exists\")\n",
    "\n",
    "\n",
    "path = main_dir / \"notebooks_exploration_cleaning\" / \"extractData.ipynb\"\n",
    "try:\n",
    "    with open(path,\"x\") as f:\n",
    "        f.write('''{\n",
    " \"cells\": [\n",
    "  {\n",
    "   \"cell_type\": \"markdown\",\n",
    "   \"metadata\": {},\n",
    "   \"source\": [\n",
    "    \"# Exploring the data\\n\",\n",
    "    \"use this notebook and others to extract data.\\n\",\n",
    "    \"To use with electrochemistry data, use the following import\\n\",\n",
    "    \"from arenz_group_python.ec_data import EC_Data\"\n",
    "   ]\n",
    "  },\n",
    "  {\n",
    "   \"cell_type\": \"code\",\n",
    "   \"execution_count\": null,\n",
    "   \"metadata\": {},\n",
    "   \"outputs\": [],\n",
    "   \"source\": [\n",
    "    \"from arenz_group_python.ec_data import EC_Data\\n\",\n",
    "    \"\\n\",\n",
    "    \"#file1 = EC_Data(\\\"PATH_TO_FILE\\\")\\n\",\n",
    "    \"#file1.plot(\\\"E\\\",\\\"i\\\") for a i vs E \"\n",
    "   ]\n",
    "  }\n",
    " ],\n",
    " \"metadata\": {\n",
    "  \"kernelspec\": {\n",
    "   \"display_name\": \"Python 3\",\n",
    "   \"language\": \"python\",\n",
    "   \"name\": \"python3\"\n",
    "  },\n",
    "  \"language_info\": {\n",
    "   \"name\": \"python\",\n",
    "   \"version\": \"3.11.5\"\n",
    "  }\n",
    " },\n",
    " \"nbformat\": 4,\n",
    " \"nbformat_minor\": 2\n",
    "}''')\n",
    "except FileExistsError:\n",
    "    print(\"-\\\"extractData.ipynb\\\" already exists\")\n"
   ]
  }
 ],
 "metadata": {
  "kernelspec": {
   "display_name": "Python 3",
   "language": "python",
   "name": "python3"
  },
  "language_info": {
   "codemirror_mode": {
    "name": "ipython",
    "version": 3
   },
   "file_extension": ".py",
   "mimetype": "text/x-python",
   "name": "python",
   "nbconvert_exporter": "python",
   "pygments_lexer": "ipython3",
   "version": "3.11.5"
  }
 },
 "nbformat": 4,
 "nbformat_minor": 2
}
