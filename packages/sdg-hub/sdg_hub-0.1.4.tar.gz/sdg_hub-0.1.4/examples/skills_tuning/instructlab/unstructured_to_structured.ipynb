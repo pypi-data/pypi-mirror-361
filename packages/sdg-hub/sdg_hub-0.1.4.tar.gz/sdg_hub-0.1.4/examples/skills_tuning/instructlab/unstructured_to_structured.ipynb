{
 "cells": [
  {
   "cell_type": "code",
   "execution_count": 1,
   "metadata": {},
   "outputs": [],
   "source": [
    "%load_ext autoreload\n",
    "%autoreload 2"
   ]
  },
  {
   "cell_type": "code",
   "execution_count": null,
   "metadata": {},
   "outputs": [],
   "source": [
    "# Standard\n",
    "import random\n",
    "\n",
    "# Third Party\n",
    "from datasets import Dataset\n",
    "from openai import OpenAI\n",
    "from rich import print\n",
    "from rich.console import Console\n",
    "from rich.panel import Panel\n",
    "from rich.syntax import Syntax\n",
    "import yaml\n",
    "\n",
    "# First Party\n",
    "import sdg_hub\n",
    "from sdg_hub.flow import Flow\n",
    "from sdg_hub.sdg import SDG\n",
    "from blocks import *"
   ]
  },
  {
   "cell_type": "markdown",
   "metadata": {},
   "source": [
    "## Teaching a Language Model the Skill: Unstructured Text → Markdown Table\n",
    "\n",
    "Company X receives large volumes of user feedback through support emails, in-app surveys, and app store reviews. These messages often contain valuable product insights, but the content is unstructured and difficult to analyze at scale.\n",
    "\n",
    "To streamline internal workflows, an AI team at Company X wants to teach a language model how to convert raw user feedback into structured markdown tables. These tables summarize key topics, user sentiment, and issues in a format that’s easy to scan, report, or push into dashboards and tracking systems.\n",
    "\n",
    "We can do this using InstructLab!\n",
    "\n",
    "#### 🧾 Example Input and Output\n",
    "\n",
    "📥 Input (Unstructured Feedback)\n",
    "```\n",
    "Hey team — I’ve been using the new update for about a week now.\n",
    "\n",
    "Couple of things:\n",
    "- The dark mode is awesome, great job!\n",
    "- But the loading time after login feels slower than before. Not a deal breaker but noticeable.\n",
    "- I also noticed that the calendar widget doesn’t update properly if I change time zones.\n",
    "\n",
    "Overall, I love where this is going. Just needs a few tweaks.\n",
    "```\n",
    "📤 Output (Markdown Table)\n",
    "\n",
    "| Feature           | Feedback                                                               | Sentiment |\n",
    "|------------------|------------------------------------------------------------------------|-----------|\n",
    "| Dark Mode        | Works well, user is satisfied.                                          | Positive  |\n",
    "| Login Performance| Loading time after login is slower than previous version.               | Negative  |\n",
    "| Calendar Widget  | Doesn't update correctly when time zones change.                        | Negative  |\n",
    "| Overall          | User is happy with the direction of the product, but suggests tweaks.   | Positive  |"
   ]
  },
  {
   "cell_type": "markdown",
   "metadata": {},
   "source": [
    "## Recap: Setting up data generation pipeline\n",
    "\n",
    "```mermaid\n",
    "flowchart LR\n",
    "    A[Flows] --> B[Blocks] --> C[Prompts]\n",
    "    C --> D[Synthetic Data!]\n",
    "```"
   ]
  },
  {
   "cell_type": "markdown",
   "metadata": {},
   "source": [
    "## 🧑‍🏫 Step 1: Serving Teacher Model\n",
    "\n",
    "This demo expects an openai compatible endpoint. You can use your favorite inference server like vLLM, HFInferenceServer, LlamaStack, etc. For more details on how to setup an inference server using vLLM, please refer to the [README](README.md).\n",
    "\n",
    "For this demo we will use meta-llama/Llama-3.3-70B-Instruct as our teacher model.\n",
    "\n",
    "#### Let's test the connection"
   ]
  },
  {
   "cell_type": "code",
   "execution_count": null,
   "metadata": {},
   "outputs": [],
   "source": [
    "openai_api_key = \"EMPTY\"\n",
    "openai_api_base = \"http://0.0.0.0:8000/v1\"\n",
    "\n",
    "\n",
    "client = OpenAI(\n",
    "    api_key=openai_api_key,\n",
    "    base_url=openai_api_base,\n",
    ")\n",
    "\n",
    "models = client.models.list()\n",
    "teacher_model = models.data[0].id\n",
    "\n",
    "# Test the connection with a simple completion\n",
    "response = client.chat.completions.create(\n",
    "    model=teacher_model,\n",
    "    messages=[{\"role\": \"user\", \"content\": \"Hello!\"}],\n",
    "    temperature=0.0,\n",
    "    max_tokens=10\n",
    ")\n",
    "completion = response.choices[0].message.content\n",
    "\n",
    "print(f\"Connection successful! {teacher_model}: {completion}\")"
   ]
  },
  {
   "cell_type": "markdown",
   "metadata": {},
   "source": [
    "## ✍️ Step 2: Provide Custom Examples\n",
    "\n",
    "As outlined in the LAB paper, the first step is to provide a small number of **seed examples** (typically 5) to bootstrap the skill. These examples are passed into the generation pipeline as input and are stored in a `qna.yaml` file.\n",
    "\n",
    "For this demo, we’ll use the pre-populated seed file located at: [unstructured_to_structured_qna.yaml](seed_data/unstructured_to_structured_qna.yaml)\n",
    "\n",
    "```yaml\n",
    "created_by: Red Hat AI Innovation Team\n",
    "domain: Information Extraction\n",
    "task_description: Convert the following unstructured user feedback into a structured markdown table.\n",
    "seed_examples:\n",
    "  - context: \"Been using the new dashboard for a few days. It's way faster than the previous one, really appreciate the snappy filters. But export to CSV seems broken — nothing happens when I click it. Also, dark mode resets every time I log in.\"\n",
    "    question: Convert the above feedback into a markdown table with columns for Feature, Feedback, and Sentiment?\n",
    "    answer: |\n",
    "      | Feature        | Feedback                                                           | Sentiment |\n",
    "      |----------------|--------------------------------------------------------------------|-----------|\n",
    "      | Dashboard      | Much faster than previous version, filters are responsive.         | Positive  |\n",
    "      | Export to CSV  | Clicking the export button doesn't trigger a download.             | Negative  |\n",
    "      | Dark Mode      | Resets to light mode on login.                                     | Negative  |\n",
    "```\n",
    "\n",
    "Lets convert the yaml into a jsonl file which can be used to bootstrap the skill."
   ]
  },
  {
   "cell_type": "code",
   "execution_count": 4,
   "metadata": {},
   "outputs": [
    {
     "data": {
      "text/html": [
       "<pre style=\"white-space:pre;overflow-x:auto;line-height:normal;font-family:Menlo,'DejaVu Sans Mono',consolas,'Courier New',monospace\">╭─────────────────────────────────────────────── Seed Data Example ───────────────────────────────────────────────╮\n",
       "│ <span style=\"font-weight: bold\">task_description:</span>                                                                                               │\n",
       "│                                                                                                                 │\n",
       "│ Convert the following unstructured user feedback into a structured markdown table.                              │\n",
       "│                                                                                                                 │\n",
       "│ <span style=\"font-weight: bold\">seed_context:</span>                                                                                                   │\n",
       "│                                                                                                                 │\n",
       "│ Been using the new dashboard for a few days. It's way faster than the previous one, really appreciate the       │\n",
       "│ snappy filters. But export to CSV seems broken — nothing happens when I click it. Also, dark mode resets every  │\n",
       "│ time I log in.                                                                                                  │\n",
       "│                                                                                                                 │\n",
       "│ <span style=\"font-weight: bold\">seed_question:</span>                                                                                                  │\n",
       "│                                                                                                                 │\n",
       "│ Convert the above feedback into a markdown table with columns for Feature, Feedback, and Sentiment?             │\n",
       "│                                                                                                                 │\n",
       "│ <span style=\"font-weight: bold\">seed_response:</span>                                                                                                  │\n",
       "│                                                                                                                 │\n",
       "│ | Feature        | Feedback                                                           | Sentiment |             │\n",
       "│ |----------------|--------------------------------------------------------------------|-----------|             │\n",
       "│ | Dashboard      | Much faster than previous version, filters are responsive.         | Positive  |             │\n",
       "│ | Export to CSV  | Clicking the export button doesn't trigger a download.             | Negative  |             │\n",
       "│ | Dark Mode      | Resets to light mode on login.                                     | Negative  |             │\n",
       "│                                                                                                                 │\n",
       "╰─────────────────────────────────────────────────────────────────────────────────────────────────────────────────╯\n",
       "</pre>\n"
      ],
      "text/plain": [
       "╭─────────────────────────────────────────────── Seed Data Example ───────────────────────────────────────────────╮\n",
       "│ \u001b[1mtask_description:\u001b[0m                                                                                               │\n",
       "│                                                                                                                 │\n",
       "│ Convert the following unstructured user feedback into a structured markdown table.                              │\n",
       "│                                                                                                                 │\n",
       "│ \u001b[1mseed_context:\u001b[0m                                                                                                   │\n",
       "│                                                                                                                 │\n",
       "│ Been using the new dashboard for a few days. It's way faster than the previous one, really appreciate the       │\n",
       "│ snappy filters. But export to CSV seems broken — nothing happens when I click it. Also, dark mode resets every  │\n",
       "│ time I log in.                                                                                                  │\n",
       "│                                                                                                                 │\n",
       "│ \u001b[1mseed_question:\u001b[0m                                                                                                  │\n",
       "│                                                                                                                 │\n",
       "│ Convert the above feedback into a markdown table with columns for Feature, Feedback, and Sentiment?             │\n",
       "│                                                                                                                 │\n",
       "│ \u001b[1mseed_response:\u001b[0m                                                                                                  │\n",
       "│                                                                                                                 │\n",
       "│ | Feature        | Feedback                                                           | Sentiment |             │\n",
       "│ |----------------|--------------------------------------------------------------------|-----------|             │\n",
       "│ | Dashboard      | Much faster than previous version, filters are responsive.         | Positive  |             │\n",
       "│ | Export to CSV  | Clicking the export button doesn't trigger a download.             | Negative  |             │\n",
       "│ | Dark Mode      | Resets to light mode on login.                                     | Negative  |             │\n",
       "│                                                                                                                 │\n",
       "╰─────────────────────────────────────────────────────────────────────────────────────────────────────────────────╯\n"
      ]
     },
     "metadata": {},
     "output_type": "display_data"
    }
   ],
   "source": [
    "def convert_yaml_to_jsonl(yaml_path):\n",
    "    # Load YAML file\n",
    "    with open(yaml_path, 'r') as f:\n",
    "        yaml_data = yaml.safe_load(f)\n",
    "    \n",
    "    # Extract examples into list of dicts\n",
    "    examples = []\n",
    "    for example in yaml_data['seed_examples']:\n",
    "        examples.append({\n",
    "            'task_description': yaml_data['task_description'],\n",
    "            'seed_context': example['context'],\n",
    "            'seed_question': example['question'],\n",
    "            'seed_response': example['answer']\n",
    "        })\n",
    "    \n",
    "    # Convert to HF Dataset\n",
    "    dataset = Dataset.from_list(examples)\n",
    "    return dataset\n",
    "\n",
    "# Load and convert the seed data\n",
    "seed_data = convert_yaml_to_jsonl('seed_data/unstructured_to_structured_qna.yaml')\n",
    "\n",
    "\n",
    "\n",
    "print(Panel(\n",
    "    \"\\n\\n\".join(f\"[bold]{k}:[/bold] \\n\\n{v}\" for k,v in seed_data[0].items()),\n",
    "    title=\"Seed Data Example\"\n",
    "))\n"
   ]
  },
  {
   "cell_type": "markdown",
   "metadata": {},
   "source": [
    "## 🚀 Step 3: Generate Synthetic Data\n",
    "\n",
    "Now that we have our seed data ready, we can use LAB’s Skill Data Generator to create **high-quality synthetic training examples** for our custom skill.\n",
    "\n",
    "This step leverages a predefined **flow configuration** that encodes how seed examples are expanded — by generating new contexts, questions, and responses, and filtering them for quality.\n",
    "\n",
    "In this demo, we'll use the `flows/unstructured_to_structured.yaml` pipeline to generate synthetic data."
   ]
  },
  {
   "cell_type": "markdown",
   "metadata": {},
   "source": [
    "### Flows\n",
    "\n",
    "```mermaid\n",
    " flowchart LR\n",
    "     A[LLMBlock<br/>gen_contexts<br/>⟶ context] --> B[AddStaticValue<br/>add_question<br/>⟶ question]\n",
    "     B --> C[LLMBlock<br/>gen_responses<br/>⟶ response]\n",
    "     C --> D[LLMBlock<br/>evaluate_qa_pair<br/>⟶ evaluation, score]\n",
    "     D --> E[FilterByValueBlock<br/>filter_qa_pair<br/>score >= 2.0]\n",
    "     E --> F[Generated Data]\n",
    "```"
   ]
  },
  {
   "cell_type": "markdown",
   "metadata": {},
   "source": [
    "### Blocks: Adding Custom Blocks\n",
    "\n",
    "One of the core design goals of SDG Hub is **modularity and extensibility**. Creating a new block is as simple as writing a Python class. Any Pythonic transformation or logic—no matter how simple or complex—can be encapsulated as a block and plugged into a pipeline.\n",
    "\n",
    "Here’s an example of how to create a custom block that adds a static value to every row in the dataset: [add_question.py](blocks/add_question.py)\n",
    "\n",
    "✨ Why This Matters\n",
    "* Simplicity: You can wrap any custom Python function into a block—no special framework or boilerplate needed.\n",
    "* Composable: Once registered, blocks can be easily used in your YAML workflows alongside LLM-based and filtering blocks.\n",
    "* Parallel-ready: Custom blocks can leverage the existing multiprocessing implementation."
   ]
  },
  {
   "cell_type": "code",
   "execution_count": 5,
   "metadata": {},
   "outputs": [
    {
     "data": {
      "text/html": [
       "<pre style=\"white-space:pre;overflow-x:auto;line-height:normal;font-family:Menlo,'DejaVu Sans Mono',consolas,'Courier New',monospace\">╭─────────────────────────────── 🔧 Flow Configuration: Grounded Skills Generation ───────────────────────────────╮\n",
       "│ <span style=\"background-color: #f8f8f8\">-</span><span style=\"color: #bbbbbb; text-decoration-color: #bbbbbb; background-color: #f8f8f8\"> </span><span style=\"color: #008000; text-decoration-color: #008000; background-color: #f8f8f8; font-weight: bold\">block_type</span><span style=\"color: #000000; text-decoration-color: #000000; background-color: #f8f8f8\">:</span><span style=\"color: #bbbbbb; text-decoration-color: #bbbbbb; background-color: #f8f8f8\"> </span><span style=\"background-color: #f8f8f8\">LLMBlock                                                                                         </span> │\n",
       "│ <span style=\"color: #bbbbbb; text-decoration-color: #bbbbbb; background-color: #f8f8f8\">  </span><span style=\"color: #008000; text-decoration-color: #008000; background-color: #f8f8f8; font-weight: bold\">block_config</span><span style=\"color: #000000; text-decoration-color: #000000; background-color: #f8f8f8\">:</span><span style=\"background-color: #f8f8f8\">                                                                                                </span> │\n",
       "│ <span style=\"color: #bbbbbb; text-decoration-color: #bbbbbb; background-color: #f8f8f8\">    </span><span style=\"color: #008000; text-decoration-color: #008000; background-color: #f8f8f8; font-weight: bold\">block_name</span><span style=\"color: #000000; text-decoration-color: #000000; background-color: #f8f8f8\">:</span><span style=\"color: #bbbbbb; text-decoration-color: #bbbbbb; background-color: #f8f8f8\"> </span><span style=\"background-color: #f8f8f8\">gen_contexts                                                                                   </span> │\n",
       "│ <span style=\"color: #bbbbbb; text-decoration-color: #bbbbbb; background-color: #f8f8f8\">    </span><span style=\"color: #008000; text-decoration-color: #008000; background-color: #f8f8f8; font-weight: bold\">config_path</span><span style=\"color: #000000; text-decoration-color: #000000; background-color: #f8f8f8\">:</span><span style=\"color: #bbbbbb; text-decoration-color: #bbbbbb; background-color: #f8f8f8\"> </span><span style=\"background-color: #f8f8f8\">configs/skills/contexts.yaml                                                                  </span> │\n",
       "│ <span style=\"color: #bbbbbb; text-decoration-color: #bbbbbb; background-color: #f8f8f8\">    </span><span style=\"color: #008000; text-decoration-color: #008000; background-color: #f8f8f8; font-weight: bold\">model_id</span><span style=\"color: #000000; text-decoration-color: #000000; background-color: #f8f8f8\">:</span><span style=\"color: #bbbbbb; text-decoration-color: #bbbbbb; background-color: #f8f8f8\"> </span><span style=\"background-color: #f8f8f8\">meta-llama/Llama-3.3-70B-Instruct                                                                </span> │\n",
       "│ <span style=\"color: #bbbbbb; text-decoration-color: #bbbbbb; background-color: #f8f8f8\">    </span><span style=\"color: #008000; text-decoration-color: #008000; background-color: #f8f8f8; font-weight: bold\">output_cols</span><span style=\"color: #000000; text-decoration-color: #000000; background-color: #f8f8f8\">:</span><span style=\"background-color: #f8f8f8\">                                                                                               </span> │\n",
       "│ <span style=\"color: #bbbbbb; text-decoration-color: #bbbbbb; background-color: #f8f8f8\">    </span><span style=\"background-color: #f8f8f8\">-</span><span style=\"color: #bbbbbb; text-decoration-color: #bbbbbb; background-color: #f8f8f8\"> </span><span style=\"background-color: #f8f8f8\">context                                                                                                  </span> │\n",
       "│ <span style=\"color: #bbbbbb; text-decoration-color: #bbbbbb; background-color: #f8f8f8\">  </span><span style=\"color: #008000; text-decoration-color: #008000; background-color: #f8f8f8; font-weight: bold\">gen_kwargs</span><span style=\"color: #000000; text-decoration-color: #000000; background-color: #f8f8f8\">:</span><span style=\"background-color: #f8f8f8\">                                                                                                  </span> │\n",
       "│ <span style=\"color: #bbbbbb; text-decoration-color: #bbbbbb; background-color: #f8f8f8\">    </span><span style=\"color: #008000; text-decoration-color: #008000; background-color: #f8f8f8; font-weight: bold\">temperature</span><span style=\"color: #000000; text-decoration-color: #000000; background-color: #f8f8f8\">:</span><span style=\"color: #bbbbbb; text-decoration-color: #bbbbbb; background-color: #f8f8f8\"> </span><span style=\"background-color: #f8f8f8\">0.7                                                                                           </span> │\n",
       "│ <span style=\"color: #bbbbbb; text-decoration-color: #bbbbbb; background-color: #f8f8f8\">    </span><span style=\"color: #008000; text-decoration-color: #008000; background-color: #f8f8f8; font-weight: bold\">max_tokens</span><span style=\"color: #000000; text-decoration-color: #000000; background-color: #f8f8f8\">:</span><span style=\"color: #bbbbbb; text-decoration-color: #bbbbbb; background-color: #f8f8f8\"> </span><span style=\"background-color: #f8f8f8\">4096                                                                                           </span> │\n",
       "│ <span style=\"color: #bbbbbb; text-decoration-color: #bbbbbb; background-color: #f8f8f8\">    </span><span style=\"color: #008000; text-decoration-color: #008000; background-color: #f8f8f8; font-weight: bold\">n</span><span style=\"color: #000000; text-decoration-color: #000000; background-color: #f8f8f8\">:</span><span style=\"color: #bbbbbb; text-decoration-color: #bbbbbb; background-color: #f8f8f8\"> </span><span style=\"background-color: #f8f8f8\">10                                                                                                      </span> │\n",
       "│ <span style=\"color: #bbbbbb; text-decoration-color: #bbbbbb; background-color: #f8f8f8\">    </span><span style=\"color: #008000; text-decoration-color: #008000; background-color: #f8f8f8; font-weight: bold\">seed</span><span style=\"color: #000000; text-decoration-color: #000000; background-color: #f8f8f8\">:</span><span style=\"color: #bbbbbb; text-decoration-color: #bbbbbb; background-color: #f8f8f8\"> </span><span style=\"background-color: #f8f8f8\">42                                                                                                   </span> │\n",
       "│ <span style=\"color: #bbbbbb; text-decoration-color: #bbbbbb; background-color: #f8f8f8\">  </span><span style=\"color: #008000; text-decoration-color: #008000; background-color: #f8f8f8; font-weight: bold\">drop_duplicates</span><span style=\"color: #000000; text-decoration-color: #000000; background-color: #f8f8f8\">:</span><span style=\"background-color: #f8f8f8\">                                                                                             </span> │\n",
       "│ <span style=\"color: #bbbbbb; text-decoration-color: #bbbbbb; background-color: #f8f8f8\">  </span><span style=\"background-color: #f8f8f8\">-</span><span style=\"color: #bbbbbb; text-decoration-color: #bbbbbb; background-color: #f8f8f8\"> </span><span style=\"background-color: #f8f8f8\">context                                                                                                    </span> │\n",
       "│ <span style=\"background-color: #f8f8f8\">-</span><span style=\"color: #bbbbbb; text-decoration-color: #bbbbbb; background-color: #f8f8f8\"> </span><span style=\"color: #008000; text-decoration-color: #008000; background-color: #f8f8f8; font-weight: bold\">block_type</span><span style=\"color: #000000; text-decoration-color: #000000; background-color: #f8f8f8\">:</span><span style=\"color: #bbbbbb; text-decoration-color: #bbbbbb; background-color: #f8f8f8\"> </span><span style=\"background-color: #f8f8f8\">AddStaticValue                                                                                   </span> │\n",
       "│ <span style=\"color: #bbbbbb; text-decoration-color: #bbbbbb; background-color: #f8f8f8\">  </span><span style=\"color: #008000; text-decoration-color: #008000; background-color: #f8f8f8; font-weight: bold\">block_config</span><span style=\"color: #000000; text-decoration-color: #000000; background-color: #f8f8f8\">:</span><span style=\"background-color: #f8f8f8\">                                                                                                </span> │\n",
       "│ <span style=\"color: #bbbbbb; text-decoration-color: #bbbbbb; background-color: #f8f8f8\">    </span><span style=\"color: #008000; text-decoration-color: #008000; background-color: #f8f8f8; font-weight: bold\">block_name</span><span style=\"color: #000000; text-decoration-color: #000000; background-color: #f8f8f8\">:</span><span style=\"color: #bbbbbb; text-decoration-color: #bbbbbb; background-color: #f8f8f8\"> </span><span style=\"background-color: #f8f8f8\">add_question                                                                                   </span> │\n",
       "│ <span style=\"color: #bbbbbb; text-decoration-color: #bbbbbb; background-color: #f8f8f8\">    </span><span style=\"color: #008000; text-decoration-color: #008000; background-color: #f8f8f8; font-weight: bold\">column_name</span><span style=\"color: #000000; text-decoration-color: #000000; background-color: #f8f8f8\">:</span><span style=\"color: #bbbbbb; text-decoration-color: #bbbbbb; background-color: #f8f8f8\"> </span><span style=\"background-color: #f8f8f8\">question                                                                                      </span> │\n",
       "│ <span style=\"color: #bbbbbb; text-decoration-color: #bbbbbb; background-color: #f8f8f8\">    </span><span style=\"color: #008000; text-decoration-color: #008000; background-color: #f8f8f8; font-weight: bold\">static_value</span><span style=\"color: #000000; text-decoration-color: #000000; background-color: #f8f8f8\">:</span><span style=\"color: #bbbbbb; text-decoration-color: #bbbbbb; background-color: #f8f8f8\"> </span><span style=\"background-color: #f8f8f8\">Convert the above feedback into a markdown table with columns for                            </span> │\n",
       "│ <span style=\"color: #bbbbbb; text-decoration-color: #bbbbbb; background-color: #f8f8f8\">      </span><span style=\"background-color: #f8f8f8\">Feature, Feedback, and Sentiment?                                                                        </span> │\n",
       "│ <span style=\"background-color: #f8f8f8\">-</span><span style=\"color: #bbbbbb; text-decoration-color: #bbbbbb; background-color: #f8f8f8\"> </span><span style=\"color: #008000; text-decoration-color: #008000; background-color: #f8f8f8; font-weight: bold\">block_type</span><span style=\"color: #000000; text-decoration-color: #000000; background-color: #f8f8f8\">:</span><span style=\"color: #bbbbbb; text-decoration-color: #bbbbbb; background-color: #f8f8f8\"> </span><span style=\"background-color: #f8f8f8\">LLMBlock                                                                                         </span> │\n",
       "│ <span style=\"color: #bbbbbb; text-decoration-color: #bbbbbb; background-color: #f8f8f8\">  </span><span style=\"color: #008000; text-decoration-color: #008000; background-color: #f8f8f8; font-weight: bold\">block_config</span><span style=\"color: #000000; text-decoration-color: #000000; background-color: #f8f8f8\">:</span><span style=\"background-color: #f8f8f8\">                                                                                                </span> │\n",
       "│ <span style=\"color: #bbbbbb; text-decoration-color: #bbbbbb; background-color: #f8f8f8\">    </span><span style=\"color: #008000; text-decoration-color: #008000; background-color: #f8f8f8; font-weight: bold\">block_name</span><span style=\"color: #000000; text-decoration-color: #000000; background-color: #f8f8f8\">:</span><span style=\"color: #bbbbbb; text-decoration-color: #bbbbbb; background-color: #f8f8f8\"> </span><span style=\"background-color: #f8f8f8\">gen_grounded_responses                                                                         </span> │\n",
       "│ <span style=\"color: #bbbbbb; text-decoration-color: #bbbbbb; background-color: #f8f8f8\">    </span><span style=\"color: #008000; text-decoration-color: #008000; background-color: #f8f8f8; font-weight: bold\">config_path</span><span style=\"color: #000000; text-decoration-color: #000000; background-color: #f8f8f8\">:</span><span style=\"color: #bbbbbb; text-decoration-color: #bbbbbb; background-color: #f8f8f8\"> </span><span style=\"background-color: #f8f8f8\">configs/skills/grounded_responses.yaml                                                        </span> │\n",
       "│ <span style=\"color: #bbbbbb; text-decoration-color: #bbbbbb; background-color: #f8f8f8\">    </span><span style=\"color: #008000; text-decoration-color: #008000; background-color: #f8f8f8; font-weight: bold\">model_id</span><span style=\"color: #000000; text-decoration-color: #000000; background-color: #f8f8f8\">:</span><span style=\"color: #bbbbbb; text-decoration-color: #bbbbbb; background-color: #f8f8f8\"> </span><span style=\"background-color: #f8f8f8\">meta-llama/Llama-3.3-70B-Instruct                                                                </span> │\n",
       "│ <span style=\"color: #bbbbbb; text-decoration-color: #bbbbbb; background-color: #f8f8f8\">    </span><span style=\"color: #008000; text-decoration-color: #008000; background-color: #f8f8f8; font-weight: bold\">output_cols</span><span style=\"color: #000000; text-decoration-color: #000000; background-color: #f8f8f8\">:</span><span style=\"background-color: #f8f8f8\">                                                                                               </span> │\n",
       "│ <span style=\"color: #bbbbbb; text-decoration-color: #bbbbbb; background-color: #f8f8f8\">    </span><span style=\"background-color: #f8f8f8\">-</span><span style=\"color: #bbbbbb; text-decoration-color: #bbbbbb; background-color: #f8f8f8\"> </span><span style=\"background-color: #f8f8f8\">response                                                                                                 </span> │\n",
       "│ <span style=\"background-color: #f8f8f8\">-</span><span style=\"color: #bbbbbb; text-decoration-color: #bbbbbb; background-color: #f8f8f8\"> </span><span style=\"color: #008000; text-decoration-color: #008000; background-color: #f8f8f8; font-weight: bold\">block_type</span><span style=\"color: #000000; text-decoration-color: #000000; background-color: #f8f8f8\">:</span><span style=\"color: #bbbbbb; text-decoration-color: #bbbbbb; background-color: #f8f8f8\"> </span><span style=\"background-color: #f8f8f8\">LLMBlock                                                                                         </span> │\n",
       "│ <span style=\"color: #bbbbbb; text-decoration-color: #bbbbbb; background-color: #f8f8f8\">  </span><span style=\"color: #008000; text-decoration-color: #008000; background-color: #f8f8f8; font-weight: bold\">block_config</span><span style=\"color: #000000; text-decoration-color: #000000; background-color: #f8f8f8\">:</span><span style=\"background-color: #f8f8f8\">                                                                                                </span> │\n",
       "│ <span style=\"color: #bbbbbb; text-decoration-color: #bbbbbb; background-color: #f8f8f8\">    </span><span style=\"color: #008000; text-decoration-color: #008000; background-color: #f8f8f8; font-weight: bold\">block_name</span><span style=\"color: #000000; text-decoration-color: #000000; background-color: #f8f8f8\">:</span><span style=\"color: #bbbbbb; text-decoration-color: #bbbbbb; background-color: #f8f8f8\"> </span><span style=\"background-color: #f8f8f8\">evaluate_grounded_qa_pair                                                                      </span> │\n",
       "│ <span style=\"color: #bbbbbb; text-decoration-color: #bbbbbb; background-color: #f8f8f8\">    </span><span style=\"color: #008000; text-decoration-color: #008000; background-color: #f8f8f8; font-weight: bold\">config_path</span><span style=\"color: #000000; text-decoration-color: #000000; background-color: #f8f8f8\">:</span><span style=\"color: #bbbbbb; text-decoration-color: #bbbbbb; background-color: #f8f8f8\"> </span><span style=\"background-color: #f8f8f8\">configs/skills/evaluate_grounded_pair.yaml                                                    </span> │\n",
       "│ <span style=\"color: #bbbbbb; text-decoration-color: #bbbbbb; background-color: #f8f8f8\">    </span><span style=\"color: #008000; text-decoration-color: #008000; background-color: #f8f8f8; font-weight: bold\">model_id</span><span style=\"color: #000000; text-decoration-color: #000000; background-color: #f8f8f8\">:</span><span style=\"color: #bbbbbb; text-decoration-color: #bbbbbb; background-color: #f8f8f8\"> </span><span style=\"background-color: #f8f8f8\">meta-llama/Llama-3.3-70B-Instruct                                                                </span> │\n",
       "│ <span style=\"color: #bbbbbb; text-decoration-color: #bbbbbb; background-color: #f8f8f8\">    </span><span style=\"color: #008000; text-decoration-color: #008000; background-color: #f8f8f8; font-weight: bold\">output_cols</span><span style=\"color: #000000; text-decoration-color: #000000; background-color: #f8f8f8\">:</span><span style=\"background-color: #f8f8f8\">                                                                                               </span> │\n",
       "│ <span style=\"color: #bbbbbb; text-decoration-color: #bbbbbb; background-color: #f8f8f8\">    </span><span style=\"background-color: #f8f8f8\">-</span><span style=\"color: #bbbbbb; text-decoration-color: #bbbbbb; background-color: #f8f8f8\"> </span><span style=\"background-color: #f8f8f8\">evaluation                                                                                               </span> │\n",
       "│ <span style=\"color: #bbbbbb; text-decoration-color: #bbbbbb; background-color: #f8f8f8\">    </span><span style=\"background-color: #f8f8f8\">-</span><span style=\"color: #bbbbbb; text-decoration-color: #bbbbbb; background-color: #f8f8f8\"> </span><span style=\"background-color: #f8f8f8\">score                                                                                                    </span> │\n",
       "│ <span style=\"background-color: #f8f8f8\">-</span><span style=\"color: #bbbbbb; text-decoration-color: #bbbbbb; background-color: #f8f8f8\"> </span><span style=\"color: #008000; text-decoration-color: #008000; background-color: #f8f8f8; font-weight: bold\">block_type</span><span style=\"color: #000000; text-decoration-color: #000000; background-color: #f8f8f8\">:</span><span style=\"color: #bbbbbb; text-decoration-color: #bbbbbb; background-color: #f8f8f8\"> </span><span style=\"background-color: #f8f8f8\">FilterByValueBlock                                                                               </span> │\n",
       "│ <span style=\"color: #bbbbbb; text-decoration-color: #bbbbbb; background-color: #f8f8f8\">  </span><span style=\"color: #008000; text-decoration-color: #008000; background-color: #f8f8f8; font-weight: bold\">block_config</span><span style=\"color: #000000; text-decoration-color: #000000; background-color: #f8f8f8\">:</span><span style=\"background-color: #f8f8f8\">                                                                                                </span> │\n",
       "│ <span style=\"color: #bbbbbb; text-decoration-color: #bbbbbb; background-color: #f8f8f8\">    </span><span style=\"color: #008000; text-decoration-color: #008000; background-color: #f8f8f8; font-weight: bold\">block_name</span><span style=\"color: #000000; text-decoration-color: #000000; background-color: #f8f8f8\">:</span><span style=\"color: #bbbbbb; text-decoration-color: #bbbbbb; background-color: #f8f8f8\"> </span><span style=\"background-color: #f8f8f8\">filter_grounded_qa_pair                                                                        </span> │\n",
       "│ <span style=\"color: #bbbbbb; text-decoration-color: #bbbbbb; background-color: #f8f8f8\">    </span><span style=\"color: #008000; text-decoration-color: #008000; background-color: #f8f8f8; font-weight: bold\">filter_column</span><span style=\"color: #000000; text-decoration-color: #000000; background-color: #f8f8f8\">:</span><span style=\"color: #bbbbbb; text-decoration-color: #bbbbbb; background-color: #f8f8f8\"> </span><span style=\"background-color: #f8f8f8\">score                                                                                       </span> │\n",
       "│ <span style=\"color: #bbbbbb; text-decoration-color: #bbbbbb; background-color: #f8f8f8\">    </span><span style=\"color: #008000; text-decoration-color: #008000; background-color: #f8f8f8; font-weight: bold\">filter_value</span><span style=\"color: #000000; text-decoration-color: #000000; background-color: #f8f8f8\">:</span><span style=\"color: #bbbbbb; text-decoration-color: #bbbbbb; background-color: #f8f8f8\"> </span><span style=\"background-color: #f8f8f8\">2.0                                                                                          </span> │\n",
       "│ <span style=\"color: #bbbbbb; text-decoration-color: #bbbbbb; background-color: #f8f8f8\">    </span><span style=\"color: #008000; text-decoration-color: #008000; background-color: #f8f8f8; font-weight: bold\">operation</span><span style=\"color: #000000; text-decoration-color: #000000; background-color: #f8f8f8\">:</span><span style=\"color: #bbbbbb; text-decoration-color: #bbbbbb; background-color: #f8f8f8\"> </span><span style=\"background-color: #f8f8f8\">operator.ge                                                                                     </span> │\n",
       "│ <span style=\"color: #bbbbbb; text-decoration-color: #bbbbbb; background-color: #f8f8f8\">    </span><span style=\"color: #008000; text-decoration-color: #008000; background-color: #f8f8f8; font-weight: bold\">convert_dtype</span><span style=\"color: #000000; text-decoration-color: #000000; background-color: #f8f8f8\">:</span><span style=\"color: #bbbbbb; text-decoration-color: #bbbbbb; background-color: #f8f8f8\"> </span><span style=\"background-color: #f8f8f8\">float                                                                                       </span> │\n",
       "│ <span style=\"color: #bbbbbb; text-decoration-color: #bbbbbb; background-color: #f8f8f8\">    </span><span style=\"color: #008000; text-decoration-color: #008000; background-color: #f8f8f8; font-weight: bold\">batch_kwargs</span><span style=\"color: #000000; text-decoration-color: #000000; background-color: #f8f8f8\">:</span><span style=\"background-color: #f8f8f8\">                                                                                              </span> │\n",
       "│ <span style=\"color: #bbbbbb; text-decoration-color: #bbbbbb; background-color: #f8f8f8\">      </span><span style=\"color: #008000; text-decoration-color: #008000; background-color: #f8f8f8; font-weight: bold\">num_procs</span><span style=\"color: #000000; text-decoration-color: #000000; background-color: #f8f8f8\">:</span><span style=\"color: #bbbbbb; text-decoration-color: #bbbbbb; background-color: #f8f8f8\"> </span><span style=\"background-color: #f8f8f8\">8                                                                                             </span> │\n",
       "│ <span style=\"background-color: #f8f8f8\">                                                                                                               </span> │\n",
       "╰────────────────────────────────── 📋 Pipeline for generating grounded skills ───────────────────────────────────╯\n",
       "</pre>\n"
      ],
      "text/plain": [
       "╭─────────────────────────────── 🔧 Flow Configuration: Grounded Skills Generation ───────────────────────────────╮\n",
       "│ \u001b[48;2;248;248;248m-\u001b[0m\u001b[38;2;187;187;187;48;2;248;248;248m \u001b[0m\u001b[1;38;2;0;128;0;48;2;248;248;248mblock_type\u001b[0m\u001b[38;2;0;0;0;48;2;248;248;248m:\u001b[0m\u001b[38;2;187;187;187;48;2;248;248;248m \u001b[0m\u001b[48;2;248;248;248mLLMBlock                                                                                         \u001b[0m │\n",
       "│ \u001b[38;2;187;187;187;48;2;248;248;248m  \u001b[0m\u001b[1;38;2;0;128;0;48;2;248;248;248mblock_config\u001b[0m\u001b[38;2;0;0;0;48;2;248;248;248m:\u001b[0m\u001b[48;2;248;248;248m                                                                                                \u001b[0m │\n",
       "│ \u001b[38;2;187;187;187;48;2;248;248;248m    \u001b[0m\u001b[1;38;2;0;128;0;48;2;248;248;248mblock_name\u001b[0m\u001b[38;2;0;0;0;48;2;248;248;248m:\u001b[0m\u001b[38;2;187;187;187;48;2;248;248;248m \u001b[0m\u001b[48;2;248;248;248mgen_contexts                                                                                   \u001b[0m │\n",
       "│ \u001b[38;2;187;187;187;48;2;248;248;248m    \u001b[0m\u001b[1;38;2;0;128;0;48;2;248;248;248mconfig_path\u001b[0m\u001b[38;2;0;0;0;48;2;248;248;248m:\u001b[0m\u001b[38;2;187;187;187;48;2;248;248;248m \u001b[0m\u001b[48;2;248;248;248mconfigs/skills/contexts.yaml                                                                  \u001b[0m │\n",
       "│ \u001b[38;2;187;187;187;48;2;248;248;248m    \u001b[0m\u001b[1;38;2;0;128;0;48;2;248;248;248mmodel_id\u001b[0m\u001b[38;2;0;0;0;48;2;248;248;248m:\u001b[0m\u001b[38;2;187;187;187;48;2;248;248;248m \u001b[0m\u001b[48;2;248;248;248mmeta-llama/Llama-3.3-70B-Instruct                                                                \u001b[0m │\n",
       "│ \u001b[38;2;187;187;187;48;2;248;248;248m    \u001b[0m\u001b[1;38;2;0;128;0;48;2;248;248;248moutput_cols\u001b[0m\u001b[38;2;0;0;0;48;2;248;248;248m:\u001b[0m\u001b[48;2;248;248;248m                                                                                               \u001b[0m │\n",
       "│ \u001b[38;2;187;187;187;48;2;248;248;248m    \u001b[0m\u001b[48;2;248;248;248m-\u001b[0m\u001b[38;2;187;187;187;48;2;248;248;248m \u001b[0m\u001b[48;2;248;248;248mcontext                                                                                                  \u001b[0m │\n",
       "│ \u001b[38;2;187;187;187;48;2;248;248;248m  \u001b[0m\u001b[1;38;2;0;128;0;48;2;248;248;248mgen_kwargs\u001b[0m\u001b[38;2;0;0;0;48;2;248;248;248m:\u001b[0m\u001b[48;2;248;248;248m                                                                                                  \u001b[0m │\n",
       "│ \u001b[38;2;187;187;187;48;2;248;248;248m    \u001b[0m\u001b[1;38;2;0;128;0;48;2;248;248;248mtemperature\u001b[0m\u001b[38;2;0;0;0;48;2;248;248;248m:\u001b[0m\u001b[38;2;187;187;187;48;2;248;248;248m \u001b[0m\u001b[48;2;248;248;248m0.7                                                                                           \u001b[0m │\n",
       "│ \u001b[38;2;187;187;187;48;2;248;248;248m    \u001b[0m\u001b[1;38;2;0;128;0;48;2;248;248;248mmax_tokens\u001b[0m\u001b[38;2;0;0;0;48;2;248;248;248m:\u001b[0m\u001b[38;2;187;187;187;48;2;248;248;248m \u001b[0m\u001b[48;2;248;248;248m4096                                                                                           \u001b[0m │\n",
       "│ \u001b[38;2;187;187;187;48;2;248;248;248m    \u001b[0m\u001b[1;38;2;0;128;0;48;2;248;248;248mn\u001b[0m\u001b[38;2;0;0;0;48;2;248;248;248m:\u001b[0m\u001b[38;2;187;187;187;48;2;248;248;248m \u001b[0m\u001b[48;2;248;248;248m10                                                                                                      \u001b[0m │\n",
       "│ \u001b[38;2;187;187;187;48;2;248;248;248m    \u001b[0m\u001b[1;38;2;0;128;0;48;2;248;248;248mseed\u001b[0m\u001b[38;2;0;0;0;48;2;248;248;248m:\u001b[0m\u001b[38;2;187;187;187;48;2;248;248;248m \u001b[0m\u001b[48;2;248;248;248m42                                                                                                   \u001b[0m │\n",
       "│ \u001b[38;2;187;187;187;48;2;248;248;248m  \u001b[0m\u001b[1;38;2;0;128;0;48;2;248;248;248mdrop_duplicates\u001b[0m\u001b[38;2;0;0;0;48;2;248;248;248m:\u001b[0m\u001b[48;2;248;248;248m                                                                                             \u001b[0m │\n",
       "│ \u001b[38;2;187;187;187;48;2;248;248;248m  \u001b[0m\u001b[48;2;248;248;248m-\u001b[0m\u001b[38;2;187;187;187;48;2;248;248;248m \u001b[0m\u001b[48;2;248;248;248mcontext                                                                                                    \u001b[0m │\n",
       "│ \u001b[48;2;248;248;248m-\u001b[0m\u001b[38;2;187;187;187;48;2;248;248;248m \u001b[0m\u001b[1;38;2;0;128;0;48;2;248;248;248mblock_type\u001b[0m\u001b[38;2;0;0;0;48;2;248;248;248m:\u001b[0m\u001b[38;2;187;187;187;48;2;248;248;248m \u001b[0m\u001b[48;2;248;248;248mAddStaticValue                                                                                   \u001b[0m │\n",
       "│ \u001b[38;2;187;187;187;48;2;248;248;248m  \u001b[0m\u001b[1;38;2;0;128;0;48;2;248;248;248mblock_config\u001b[0m\u001b[38;2;0;0;0;48;2;248;248;248m:\u001b[0m\u001b[48;2;248;248;248m                                                                                                \u001b[0m │\n",
       "│ \u001b[38;2;187;187;187;48;2;248;248;248m    \u001b[0m\u001b[1;38;2;0;128;0;48;2;248;248;248mblock_name\u001b[0m\u001b[38;2;0;0;0;48;2;248;248;248m:\u001b[0m\u001b[38;2;187;187;187;48;2;248;248;248m \u001b[0m\u001b[48;2;248;248;248madd_question                                                                                   \u001b[0m │\n",
       "│ \u001b[38;2;187;187;187;48;2;248;248;248m    \u001b[0m\u001b[1;38;2;0;128;0;48;2;248;248;248mcolumn_name\u001b[0m\u001b[38;2;0;0;0;48;2;248;248;248m:\u001b[0m\u001b[38;2;187;187;187;48;2;248;248;248m \u001b[0m\u001b[48;2;248;248;248mquestion                                                                                      \u001b[0m │\n",
       "│ \u001b[38;2;187;187;187;48;2;248;248;248m    \u001b[0m\u001b[1;38;2;0;128;0;48;2;248;248;248mstatic_value\u001b[0m\u001b[38;2;0;0;0;48;2;248;248;248m:\u001b[0m\u001b[38;2;187;187;187;48;2;248;248;248m \u001b[0m\u001b[48;2;248;248;248mConvert the above feedback into a markdown table with columns for                            \u001b[0m │\n",
       "│ \u001b[38;2;187;187;187;48;2;248;248;248m      \u001b[0m\u001b[48;2;248;248;248mFeature, Feedback, and Sentiment?                                                                        \u001b[0m │\n",
       "│ \u001b[48;2;248;248;248m-\u001b[0m\u001b[38;2;187;187;187;48;2;248;248;248m \u001b[0m\u001b[1;38;2;0;128;0;48;2;248;248;248mblock_type\u001b[0m\u001b[38;2;0;0;0;48;2;248;248;248m:\u001b[0m\u001b[38;2;187;187;187;48;2;248;248;248m \u001b[0m\u001b[48;2;248;248;248mLLMBlock                                                                                         \u001b[0m │\n",
       "│ \u001b[38;2;187;187;187;48;2;248;248;248m  \u001b[0m\u001b[1;38;2;0;128;0;48;2;248;248;248mblock_config\u001b[0m\u001b[38;2;0;0;0;48;2;248;248;248m:\u001b[0m\u001b[48;2;248;248;248m                                                                                                \u001b[0m │\n",
       "│ \u001b[38;2;187;187;187;48;2;248;248;248m    \u001b[0m\u001b[1;38;2;0;128;0;48;2;248;248;248mblock_name\u001b[0m\u001b[38;2;0;0;0;48;2;248;248;248m:\u001b[0m\u001b[38;2;187;187;187;48;2;248;248;248m \u001b[0m\u001b[48;2;248;248;248mgen_grounded_responses                                                                         \u001b[0m │\n",
       "│ \u001b[38;2;187;187;187;48;2;248;248;248m    \u001b[0m\u001b[1;38;2;0;128;0;48;2;248;248;248mconfig_path\u001b[0m\u001b[38;2;0;0;0;48;2;248;248;248m:\u001b[0m\u001b[38;2;187;187;187;48;2;248;248;248m \u001b[0m\u001b[48;2;248;248;248mconfigs/skills/grounded_responses.yaml                                                        \u001b[0m │\n",
       "│ \u001b[38;2;187;187;187;48;2;248;248;248m    \u001b[0m\u001b[1;38;2;0;128;0;48;2;248;248;248mmodel_id\u001b[0m\u001b[38;2;0;0;0;48;2;248;248;248m:\u001b[0m\u001b[38;2;187;187;187;48;2;248;248;248m \u001b[0m\u001b[48;2;248;248;248mmeta-llama/Llama-3.3-70B-Instruct                                                                \u001b[0m │\n",
       "│ \u001b[38;2;187;187;187;48;2;248;248;248m    \u001b[0m\u001b[1;38;2;0;128;0;48;2;248;248;248moutput_cols\u001b[0m\u001b[38;2;0;0;0;48;2;248;248;248m:\u001b[0m\u001b[48;2;248;248;248m                                                                                               \u001b[0m │\n",
       "│ \u001b[38;2;187;187;187;48;2;248;248;248m    \u001b[0m\u001b[48;2;248;248;248m-\u001b[0m\u001b[38;2;187;187;187;48;2;248;248;248m \u001b[0m\u001b[48;2;248;248;248mresponse                                                                                                 \u001b[0m │\n",
       "│ \u001b[48;2;248;248;248m-\u001b[0m\u001b[38;2;187;187;187;48;2;248;248;248m \u001b[0m\u001b[1;38;2;0;128;0;48;2;248;248;248mblock_type\u001b[0m\u001b[38;2;0;0;0;48;2;248;248;248m:\u001b[0m\u001b[38;2;187;187;187;48;2;248;248;248m \u001b[0m\u001b[48;2;248;248;248mLLMBlock                                                                                         \u001b[0m │\n",
       "│ \u001b[38;2;187;187;187;48;2;248;248;248m  \u001b[0m\u001b[1;38;2;0;128;0;48;2;248;248;248mblock_config\u001b[0m\u001b[38;2;0;0;0;48;2;248;248;248m:\u001b[0m\u001b[48;2;248;248;248m                                                                                                \u001b[0m │\n",
       "│ \u001b[38;2;187;187;187;48;2;248;248;248m    \u001b[0m\u001b[1;38;2;0;128;0;48;2;248;248;248mblock_name\u001b[0m\u001b[38;2;0;0;0;48;2;248;248;248m:\u001b[0m\u001b[38;2;187;187;187;48;2;248;248;248m \u001b[0m\u001b[48;2;248;248;248mevaluate_grounded_qa_pair                                                                      \u001b[0m │\n",
       "│ \u001b[38;2;187;187;187;48;2;248;248;248m    \u001b[0m\u001b[1;38;2;0;128;0;48;2;248;248;248mconfig_path\u001b[0m\u001b[38;2;0;0;0;48;2;248;248;248m:\u001b[0m\u001b[38;2;187;187;187;48;2;248;248;248m \u001b[0m\u001b[48;2;248;248;248mconfigs/skills/evaluate_grounded_pair.yaml                                                    \u001b[0m │\n",
       "│ \u001b[38;2;187;187;187;48;2;248;248;248m    \u001b[0m\u001b[1;38;2;0;128;0;48;2;248;248;248mmodel_id\u001b[0m\u001b[38;2;0;0;0;48;2;248;248;248m:\u001b[0m\u001b[38;2;187;187;187;48;2;248;248;248m \u001b[0m\u001b[48;2;248;248;248mmeta-llama/Llama-3.3-70B-Instruct                                                                \u001b[0m │\n",
       "│ \u001b[38;2;187;187;187;48;2;248;248;248m    \u001b[0m\u001b[1;38;2;0;128;0;48;2;248;248;248moutput_cols\u001b[0m\u001b[38;2;0;0;0;48;2;248;248;248m:\u001b[0m\u001b[48;2;248;248;248m                                                                                               \u001b[0m │\n",
       "│ \u001b[38;2;187;187;187;48;2;248;248;248m    \u001b[0m\u001b[48;2;248;248;248m-\u001b[0m\u001b[38;2;187;187;187;48;2;248;248;248m \u001b[0m\u001b[48;2;248;248;248mevaluation                                                                                               \u001b[0m │\n",
       "│ \u001b[38;2;187;187;187;48;2;248;248;248m    \u001b[0m\u001b[48;2;248;248;248m-\u001b[0m\u001b[38;2;187;187;187;48;2;248;248;248m \u001b[0m\u001b[48;2;248;248;248mscore                                                                                                    \u001b[0m │\n",
       "│ \u001b[48;2;248;248;248m-\u001b[0m\u001b[38;2;187;187;187;48;2;248;248;248m \u001b[0m\u001b[1;38;2;0;128;0;48;2;248;248;248mblock_type\u001b[0m\u001b[38;2;0;0;0;48;2;248;248;248m:\u001b[0m\u001b[38;2;187;187;187;48;2;248;248;248m \u001b[0m\u001b[48;2;248;248;248mFilterByValueBlock                                                                               \u001b[0m │\n",
       "│ \u001b[38;2;187;187;187;48;2;248;248;248m  \u001b[0m\u001b[1;38;2;0;128;0;48;2;248;248;248mblock_config\u001b[0m\u001b[38;2;0;0;0;48;2;248;248;248m:\u001b[0m\u001b[48;2;248;248;248m                                                                                                \u001b[0m │\n",
       "│ \u001b[38;2;187;187;187;48;2;248;248;248m    \u001b[0m\u001b[1;38;2;0;128;0;48;2;248;248;248mblock_name\u001b[0m\u001b[38;2;0;0;0;48;2;248;248;248m:\u001b[0m\u001b[38;2;187;187;187;48;2;248;248;248m \u001b[0m\u001b[48;2;248;248;248mfilter_grounded_qa_pair                                                                        \u001b[0m │\n",
       "│ \u001b[38;2;187;187;187;48;2;248;248;248m    \u001b[0m\u001b[1;38;2;0;128;0;48;2;248;248;248mfilter_column\u001b[0m\u001b[38;2;0;0;0;48;2;248;248;248m:\u001b[0m\u001b[38;2;187;187;187;48;2;248;248;248m \u001b[0m\u001b[48;2;248;248;248mscore                                                                                       \u001b[0m │\n",
       "│ \u001b[38;2;187;187;187;48;2;248;248;248m    \u001b[0m\u001b[1;38;2;0;128;0;48;2;248;248;248mfilter_value\u001b[0m\u001b[38;2;0;0;0;48;2;248;248;248m:\u001b[0m\u001b[38;2;187;187;187;48;2;248;248;248m \u001b[0m\u001b[48;2;248;248;248m2.0                                                                                          \u001b[0m │\n",
       "│ \u001b[38;2;187;187;187;48;2;248;248;248m    \u001b[0m\u001b[1;38;2;0;128;0;48;2;248;248;248moperation\u001b[0m\u001b[38;2;0;0;0;48;2;248;248;248m:\u001b[0m\u001b[38;2;187;187;187;48;2;248;248;248m \u001b[0m\u001b[48;2;248;248;248moperator.ge                                                                                     \u001b[0m │\n",
       "│ \u001b[38;2;187;187;187;48;2;248;248;248m    \u001b[0m\u001b[1;38;2;0;128;0;48;2;248;248;248mconvert_dtype\u001b[0m\u001b[38;2;0;0;0;48;2;248;248;248m:\u001b[0m\u001b[38;2;187;187;187;48;2;248;248;248m \u001b[0m\u001b[48;2;248;248;248mfloat                                                                                       \u001b[0m │\n",
       "│ \u001b[38;2;187;187;187;48;2;248;248;248m    \u001b[0m\u001b[1;38;2;0;128;0;48;2;248;248;248mbatch_kwargs\u001b[0m\u001b[38;2;0;0;0;48;2;248;248;248m:\u001b[0m\u001b[48;2;248;248;248m                                                                                              \u001b[0m │\n",
       "│ \u001b[38;2;187;187;187;48;2;248;248;248m      \u001b[0m\u001b[1;38;2;0;128;0;48;2;248;248;248mnum_procs\u001b[0m\u001b[38;2;0;0;0;48;2;248;248;248m:\u001b[0m\u001b[38;2;187;187;187;48;2;248;248;248m \u001b[0m\u001b[48;2;248;248;248m8                                                                                             \u001b[0m │\n",
       "│ \u001b[48;2;248;248;248m                                                                                                               \u001b[0m │\n",
       "╰────────────────────────────────── 📋 Pipeline for generating grounded skills ───────────────────────────────────╯\n"
      ]
     },
     "metadata": {},
     "output_type": "display_data"
    }
   ],
   "source": [
    "# Lets look at the skills flow we will be using\n",
    "\n",
    "flow_path = \"flows/unstructured_to_structured.yaml\"\n",
    "with open(flow_path, \"r\") as f:\n",
    "    flow_config = yaml.safe_load(f)\n",
    "\n",
    "# Convert to YAML string with indentation for pretty printing\n",
    "yaml_str = yaml.dump(flow_config, indent=2, default_flow_style=False, sort_keys=False)\n",
    "\n",
    "# Create syntax highlighted YAML\n",
    "syntax = Syntax(yaml_str, \"yaml\", theme=\"github\")\n",
    "\n",
    "# Display it inside a panel with a descriptive title\n",
    "console = Console()\n",
    "console.print(Panel(\n",
    "    syntax, \n",
    "    title=\"🔧 Flow Configuration: Grounded Skills Generation\", \n",
    "    subtitle=\"📋 Pipeline for generating grounded skills\",\n",
    "))"
   ]
  },
  {
   "cell_type": "code",
   "execution_count": null,
   "metadata": {},
   "outputs": [],
   "source": [
    "# Load the flow\n",
    "flow = Flow(client).get_flow_from_file(\"flows/unstructured_to_structured.yaml\")\n",
    "\n",
    "# Initialize the synthetic data generator\n",
    "generator = SDG(flows=[flow])\n",
    "\n",
    "# generate data\n",
    "generated_data = generator.generate(seed_data)"
   ]
  },
  {
   "cell_type": "markdown",
   "metadata": {},
   "source": [
    "## 🔍 Step 4: Explore and Validate the Synthetically Generated Data\n",
    "\n",
    "Once the skill generation pipeline has been executed, the output is a set of **synthetically generated examples** — new context-question-response triples that follow the same structure as the seed data but are expanded and refined by the teacher model.\n",
    "\n",
    "Below is an example of one generated entry:"
   ]
  },
  {
   "cell_type": "code",
   "execution_count": 7,
   "metadata": {},
   "outputs": [
    {
     "data": {
      "text/html": [
       "<pre style=\"white-space:pre;overflow-x:auto;line-height:normal;font-family:Menlo,'DejaVu Sans Mono',consolas,'Courier New',monospace\">╭─────────────────────────────────────────────────────────────────────────────────────────────────────────────────╮\n",
       "│ <span style=\"color: #ffaf00; text-decoration-color: #ffaf00; font-weight: bold\">Context:</span>                                                                                                        │\n",
       "│ The application's search function is generally good, but it has a few issues. It doesn't always find the most   │\n",
       "│ relevant results, and sometimes it takes a while to load. Also, the filter options are not very intuitive and   │\n",
       "│ could be improved for better user experience. Additionally, there's a suggestion to include a feature for       │\n",
       "│ saving frequent searches for easier access later.                                                               │\n",
       "│                                                                                                                 │\n",
       "│ <span style=\"color: #008080; text-decoration-color: #008080; font-weight: bold\">Question:</span>                                                                                                       │\n",
       "│ Convert the above feedback into a markdown table with columns for Feature, Feedback, and Sentiment?             │\n",
       "│                                                                                                                 │\n",
       "│ <span style=\"color: #008000; text-decoration-color: #008000; font-weight: bold\">Response:</span>                                                                                                       │\n",
       "│ | Feature           | Feedback                                               | Sentiment |                      │\n",
       "│ |-------------------|--------------------------------------------------------|-----------|                      │\n",
       "│ | Search Function   | Generally good but doesn't always find the most relevant results. | Neutral   |           │\n",
       "│ | Search Loading    | Sometimes takes a while to load.                       | Negative  |                      │\n",
       "│ | Filter Options    | Not very intuitive and could be improved.              | Negative  |                      │\n",
       "│ | Saved Searches    | Suggestion to include a feature for saving frequent searches. | Neutral   |               │\n",
       "╰─────────────────────────────────────────────────────────────────────────────────────────────────────────────────╯\n",
       "</pre>\n"
      ],
      "text/plain": [
       "╭─────────────────────────────────────────────────────────────────────────────────────────────────────────────────╮\n",
       "│ \u001b[1;38;5;214mContext:\u001b[0m                                                                                                        │\n",
       "│ The application's search function is generally good, but it has a few issues. It doesn't always find the most   │\n",
       "│ relevant results, and sometimes it takes a while to load. Also, the filter options are not very intuitive and   │\n",
       "│ could be improved for better user experience. Additionally, there's a suggestion to include a feature for       │\n",
       "│ saving frequent searches for easier access later.                                                               │\n",
       "│                                                                                                                 │\n",
       "│ \u001b[1;36mQuestion:\u001b[0m                                                                                                       │\n",
       "│ Convert the above feedback into a markdown table with columns for Feature, Feedback, and Sentiment?             │\n",
       "│                                                                                                                 │\n",
       "│ \u001b[1;32mResponse:\u001b[0m                                                                                                       │\n",
       "│ | Feature           | Feedback                                               | Sentiment |                      │\n",
       "│ |-------------------|--------------------------------------------------------|-----------|                      │\n",
       "│ | Search Function   | Generally good but doesn't always find the most relevant results. | Neutral   |           │\n",
       "│ | Search Loading    | Sometimes takes a while to load.                       | Negative  |                      │\n",
       "│ | Filter Options    | Not very intuitive and could be improved.              | Negative  |                      │\n",
       "│ | Saved Searches    | Suggestion to include a feature for saving frequent searches. | Neutral   |               │\n",
       "╰─────────────────────────────────────────────────────────────────────────────────────────────────────────────────╯\n"
      ]
     },
     "metadata": {},
     "output_type": "display_data"
    },
    {
     "data": {
      "text/html": [
       "<pre style=\"white-space:pre;overflow-x:auto;line-height:normal;font-family:Menlo,'DejaVu Sans Mono',consolas,'Courier New',monospace\"><span style=\"color: #ffffff; text-decoration-color: #ffffff\">───────────────────────────────────────────────────────────────────────────────────────────────────────────────────</span>\n",
       "</pre>\n"
      ],
      "text/plain": [
       "\u001b[97m───────────────────────────────────────────────────────────────────────────────────────────────────────────────────\u001b[0m\n"
      ]
     },
     "metadata": {},
     "output_type": "display_data"
    }
   ],
   "source": [
    "console = Console()\n",
    "rand_idx = random.choice(range(len(generated_data)))\n",
    "\n",
    "# Pretty print the generated examples using rich\n",
    "example = generated_data[rand_idx]\n",
    "console.print(Panel.fit(\n",
    "    f\"[bold orange1]Context:[/bold orange1]\\n{example['context']}\\n\\n\"\n",
    "    f\"[bold cyan]Question:[/bold cyan]\\n{example['question']}\\n\\n\" \n",
    "    f\"[bold green]Response:[/bold green]\\n{example['response']}\"\n",
    "))\n",
    "console.rule(style=\"bright_white\")"
   ]
  },
  {
   "cell_type": "markdown",
   "metadata": {},
   "source": [
    "## 💾 Save the generated data\n",
    "\n",
    "```python\n",
    "generated_data.to_json(\"llama_generated_unstructured_to_structured.jsonl\", orient=\"records\", lines=True)\n",
    "```"
   ]
  },
  {
   "cell_type": "markdown",
   "metadata": {},
   "source": [
    "## 🏁 Conclusion\n",
    "\n",
    "In this notebook, we demonstrated how to teach a custom skill to a language model using the InstructLab Skill Data Generator (SDG). Starting from a small set of seed examples, we walked through the full synthetic data generation pipeline — including context creation, question generation, response synthesis, evaluation, and filtering.\n",
    "\n",
    "We explored a real-world use case: **transforming unstructured user feedback into structured markdown tables**, and showed how the LAB framework can automate the generation of high-quality, instructional training data at scale.\n",
    "\n",
    "This approach is especially powerful for procedural or domain-specific tasks where labeled data is scarce but consistent task logic can be modeled. With just a few carefully curated seed examples, you can unlock scalable skill creation and push new capabilities into LLMs with minimal manual effort.\n",
    "\n",
    "You’re now ready to use these synthetic examples for Fine-tuning small models! \n",
    "\n",
    "Next steps? \n",
    "\n",
    "* Try changing the parameters of the flow to see how the generated data changes (e.g. change the `num_samples` or try generating with different temperature)\n",
    "* Try adapting this pipeline to your own task, domain, or format — whether it’s triaging support tickets, extracting structured data, or following domain-specific workflows. The skills are yours to create."
   ]
  }
 ],
 "metadata": {
  "kernelspec": {
   "display_name": "sdg_hub",
   "language": "python",
   "name": "python3"
  },
  "language_info": {
   "codemirror_mode": {
    "name": "ipython",
    "version": 3
   },
   "file_extension": ".py",
   "mimetype": "text/x-python",
   "name": "python",
   "nbconvert_exporter": "python",
   "pygments_lexer": "ipython3",
   "version": "3.11.11"
  }
 },
 "nbformat": 4,
 "nbformat_minor": 2
}
