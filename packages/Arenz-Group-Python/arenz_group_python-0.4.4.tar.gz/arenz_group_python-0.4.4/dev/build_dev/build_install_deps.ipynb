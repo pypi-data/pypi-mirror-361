{
 "cells": [
  {
   "cell_type": "markdown",
   "metadata": {},
   "source": [
    "# General installation from github\n",
    "pip install \"Package\" @ git+\"URL of the repository#subdirectory=path\"\n",
    "\n",
    "Here, we want to install Arenz_Group Python package."
   ]
  },
  {
   "cell_type": "code",
   "execution_count": 2,
   "metadata": {},
   "outputs": [
    {
     "name": "stdout",
     "output_type": "stream",
     "text": [
      "Requirement already satisfied: pip in c:\\users\\gusta\\appdata\\local\\programs\\python\\python313\\lib\\site-packages (24.2)\n",
      "Note: you may need to restart the kernel to use updated packages.\n",
      "Requirement already satisfied: toml in c:\\users\\gusta\\appdata\\local\\programs\\python\\python313\\lib\\site-packages (0.10.2)\n",
      "Note: you may need to restart the kernel to use updated packages.\n",
      "Collecting twine\n",
      "  Downloading twine-5.1.1-py3-none-any.whl.metadata (3.5 kB)\n",
      "Collecting pkginfo>=1.8.1 (from twine)\n",
      "  Downloading pkginfo-1.11.2-py3-none-any.whl.metadata (11 kB)\n",
      "Collecting readme-renderer>=35.0 (from twine)\n",
      "  Downloading readme_renderer-44.0-py3-none-any.whl.metadata (2.8 kB)\n",
      "Collecting requests>=2.20 (from twine)\n",
      "  Using cached requests-2.32.3-py3-none-any.whl.metadata (4.6 kB)\n",
      "Collecting requests-toolbelt!=0.9.0,>=0.8.0 (from twine)\n",
      "  Downloading requests_toolbelt-1.0.0-py2.py3-none-any.whl.metadata (14 kB)\n",
      "Collecting urllib3>=1.26.0 (from twine)\n",
      "  Downloading urllib3-2.2.3-py3-none-any.whl.metadata (6.5 kB)\n",
      "Collecting importlib-metadata>=3.6 (from twine)\n",
      "  Downloading importlib_metadata-8.5.0-py3-none-any.whl.metadata (4.8 kB)\n",
      "Collecting keyring>=15.1 (from twine)\n",
      "  Downloading keyring-25.4.1-py3-none-any.whl.metadata (20 kB)\n",
      "Collecting rfc3986>=1.4.0 (from twine)\n",
      "  Downloading rfc3986-2.0.0-py2.py3-none-any.whl.metadata (6.6 kB)\n",
      "Collecting rich>=12.0.0 (from twine)\n",
      "  Downloading rich-13.9.3-py3-none-any.whl.metadata (18 kB)\n",
      "Collecting pkginfo>=1.8.1 (from twine)\n",
      "  Downloading pkginfo-1.10.0-py3-none-any.whl.metadata (11 kB)\n",
      "Collecting zipp>=3.20 (from importlib-metadata>=3.6->twine)\n",
      "  Downloading zipp-3.20.2-py3-none-any.whl.metadata (3.7 kB)\n",
      "Collecting jaraco.classes (from keyring>=15.1->twine)\n",
      "  Downloading jaraco.classes-3.4.0-py3-none-any.whl.metadata (2.6 kB)\n",
      "Collecting jaraco.functools (from keyring>=15.1->twine)\n",
      "  Downloading jaraco.functools-4.1.0-py3-none-any.whl.metadata (2.9 kB)\n",
      "Collecting jaraco.context (from keyring>=15.1->twine)\n",
      "  Downloading jaraco.context-6.0.1-py3-none-any.whl.metadata (4.1 kB)\n",
      "Collecting pywin32-ctypes>=0.2.0 (from keyring>=15.1->twine)\n",
      "  Downloading pywin32_ctypes-0.2.3-py3-none-any.whl.metadata (3.9 kB)\n",
      "Collecting nh3>=0.2.14 (from readme-renderer>=35.0->twine)\n",
      "  Downloading nh3-0.2.18-cp37-abi3-win_amd64.whl.metadata (1.8 kB)\n",
      "Collecting docutils>=0.21.2 (from readme-renderer>=35.0->twine)\n",
      "  Downloading docutils-0.21.2-py3-none-any.whl.metadata (2.8 kB)\n",
      "Requirement already satisfied: Pygments>=2.5.1 in c:\\users\\gusta\\appdata\\roaming\\python\\python313\\site-packages (from readme-renderer>=35.0->twine) (2.18.0)\n",
      "Collecting charset-normalizer<4,>=2 (from requests>=2.20->twine)\n",
      "  Downloading charset_normalizer-3.4.0-cp313-cp313-win_amd64.whl.metadata (34 kB)\n",
      "Collecting idna<4,>=2.5 (from requests>=2.20->twine)\n",
      "  Downloading idna-3.10-py3-none-any.whl.metadata (10 kB)\n",
      "Collecting certifi>=2017.4.17 (from requests>=2.20->twine)\n",
      "  Downloading certifi-2024.8.30-py3-none-any.whl.metadata (2.2 kB)\n",
      "Collecting markdown-it-py>=2.2.0 (from rich>=12.0.0->twine)\n",
      "  Downloading markdown_it_py-3.0.0-py3-none-any.whl.metadata (6.9 kB)\n",
      "Collecting mdurl~=0.1 (from markdown-it-py>=2.2.0->rich>=12.0.0->twine)\n",
      "  Downloading mdurl-0.1.2-py3-none-any.whl.metadata (1.6 kB)\n",
      "Collecting more-itertools (from jaraco.classes->keyring>=15.1->twine)\n",
      "  Downloading more_itertools-10.5.0-py3-none-any.whl.metadata (36 kB)\n",
      "Downloading twine-5.1.1-py3-none-any.whl (38 kB)\n",
      "Downloading importlib_metadata-8.5.0-py3-none-any.whl (26 kB)\n",
      "Downloading keyring-25.4.1-py3-none-any.whl (38 kB)\n",
      "Downloading pkginfo-1.10.0-py3-none-any.whl (30 kB)\n",
      "Downloading readme_renderer-44.0-py3-none-any.whl (13 kB)\n",
      "Using cached requests-2.32.3-py3-none-any.whl (64 kB)\n",
      "Downloading requests_toolbelt-1.0.0-py2.py3-none-any.whl (54 kB)\n",
      "Downloading rfc3986-2.0.0-py2.py3-none-any.whl (31 kB)\n",
      "Downloading rich-13.9.3-py3-none-any.whl (242 kB)\n",
      "Downloading urllib3-2.2.3-py3-none-any.whl (126 kB)\n",
      "Downloading certifi-2024.8.30-py3-none-any.whl (167 kB)\n",
      "Downloading charset_normalizer-3.4.0-cp313-cp313-win_amd64.whl (102 kB)\n",
      "Downloading docutils-0.21.2-py3-none-any.whl (587 kB)\n",
      "   ---------------------------------------- 0.0/587.4 kB ? eta -:--:--\n",
      "   ----------------- ---------------------- 262.1/587.4 kB ? eta -:--:--\n",
      "   ---------------------------------------- 587.4/587.4 kB 1.9 MB/s eta 0:00:00\n",
      "Downloading idna-3.10-py3-none-any.whl (70 kB)\n",
      "Downloading markdown_it_py-3.0.0-py3-none-any.whl (87 kB)\n",
      "Downloading nh3-0.2.18-cp37-abi3-win_amd64.whl (579 kB)\n",
      "   ---------------------------------------- 0.0/579.0 kB ? eta -:--:--\n",
      "   ------------------ --------------------- 262.1/579.0 kB ? eta -:--:--\n",
      "   ---------------------------------------- 579.0/579.0 kB 1.6 MB/s eta 0:00:00\n",
      "Downloading pywin32_ctypes-0.2.3-py3-none-any.whl (30 kB)\n",
      "Downloading zipp-3.20.2-py3-none-any.whl (9.2 kB)\n",
      "Downloading jaraco.classes-3.4.0-py3-none-any.whl (6.8 kB)\n",
      "Downloading jaraco.context-6.0.1-py3-none-any.whl (6.8 kB)\n",
      "Downloading jaraco.functools-4.1.0-py3-none-any.whl (10 kB)\n",
      "Downloading mdurl-0.1.2-py3-none-any.whl (10.0 kB)\n",
      "Downloading more_itertools-10.5.0-py3-none-any.whl (60 kB)\n",
      "Installing collected packages: nh3, zipp, urllib3, rfc3986, pywin32-ctypes, pkginfo, more-itertools, mdurl, jaraco.context, idna, docutils, charset-normalizer, certifi, requests, readme-renderer, markdown-it-py, jaraco.functools, jaraco.classes, importlib-metadata, rich, requests-toolbelt, keyring, twine\n",
      "Successfully installed certifi-2024.8.30 charset-normalizer-3.4.0 docutils-0.21.2 idna-3.10 importlib-metadata-8.5.0 jaraco.classes-3.4.0 jaraco.context-6.0.1 jaraco.functools-4.1.0 keyring-25.4.1 markdown-it-py-3.0.0 mdurl-0.1.2 more-itertools-10.5.0 nh3-0.2.18 pkginfo-1.10.0 pywin32-ctypes-0.2.3 readme-renderer-44.0 requests-2.32.3 requests-toolbelt-1.0.0 rfc3986-2.0.0 rich-13.9.3 twine-5.1.1 urllib3-2.2.3 zipp-3.20.2\n",
      "Note: you may need to restart the kernel to use updated packages.\n"
     ]
    },
    {
     "name": "stderr",
     "output_type": "stream",
     "text": [
      "  WARNING: The script pkginfo.exe is installed in 'c:\\Users\\gusta\\AppData\\Local\\Programs\\Python\\Python313\\Scripts' which is not on PATH.\n",
      "  Consider adding this directory to PATH or, if you prefer to suppress this warning, use --no-warn-script-location.\n",
      "  WARNING: The scripts docutils.exe, rst2html.exe, rst2html4.exe, rst2html5.exe, rst2latex.exe, rst2man.exe, rst2odt.exe, rst2pseudoxml.exe, rst2s5.exe, rst2xetex.exe and rst2xml.exe are installed in 'c:\\Users\\gusta\\AppData\\Local\\Programs\\Python\\Python313\\Scripts' which is not on PATH.\n",
      "  Consider adding this directory to PATH or, if you prefer to suppress this warning, use --no-warn-script-location.\n",
      "  WARNING: The script normalizer.exe is installed in 'c:\\Users\\gusta\\AppData\\Local\\Programs\\Python\\Python313\\Scripts' which is not on PATH.\n",
      "  Consider adding this directory to PATH or, if you prefer to suppress this warning, use --no-warn-script-location.\n",
      "  WARNING: The script markdown-it.exe is installed in 'c:\\Users\\gusta\\AppData\\Local\\Programs\\Python\\Python313\\Scripts' which is not on PATH.\n",
      "  Consider adding this directory to PATH or, if you prefer to suppress this warning, use --no-warn-script-location.\n",
      "  WARNING: The script keyring.exe is installed in 'c:\\Users\\gusta\\AppData\\Local\\Programs\\Python\\Python313\\Scripts' which is not on PATH.\n",
      "  Consider adding this directory to PATH or, if you prefer to suppress this warning, use --no-warn-script-location.\n",
      "  WARNING: The script twine.exe is installed in 'c:\\Users\\gusta\\AppData\\Local\\Programs\\Python\\Python313\\Scripts' which is not on PATH.\n",
      "  Consider adding this directory to PATH or, if you prefer to suppress this warning, use --no-warn-script-location.\n"
     ]
    }
   ],
   "source": [
    "%pip install --upgrade pip\n",
    "%pip install toml -U\n",
    "%pip install twine -U"
   ]
  },
  {
   "cell_type": "code",
   "execution_count": 2,
   "metadata": {},
   "outputs": [
    {
     "name": "stdout",
     "output_type": "stream",
     "text": [
      "Requirement already satisfied: twine in c:\\users\\gustav.wiberg\\appdata\\local\\programs\\python\\python311\\lib\\site-packages (5.1.1)\n",
      "Requirement already satisfied: pkginfo>=1.8.1 in c:\\users\\gustav.wiberg\\appdata\\local\\programs\\python\\python311\\lib\\site-packages (from twine) (1.10.0)\n",
      "Requirement already satisfied: readme-renderer>=35.0 in c:\\users\\gustav.wiberg\\appdata\\local\\programs\\python\\python311\\lib\\site-packages (from twine) (43.0)\n",
      "Requirement already satisfied: requests>=2.20 in c:\\users\\gustav.wiberg\\appdata\\local\\programs\\python\\python311\\lib\\site-packages (from twine) (2.31.0)\n",
      "Requirement already satisfied: requests-toolbelt!=0.9.0,>=0.8.0 in c:\\users\\gustav.wiberg\\appdata\\local\\programs\\python\\python311\\lib\\site-packages (from twine) (1.0.0)\n",
      "Requirement already satisfied: urllib3>=1.26.0 in c:\\users\\gustav.wiberg\\appdata\\local\\programs\\python\\python311\\lib\\site-packages (from twine) (2.0.5)\n",
      "Requirement already satisfied: importlib-metadata>=3.6 in c:\\users\\gustav.wiberg\\appdata\\local\\programs\\python\\python311\\lib\\site-packages (from twine) (8.0.0)\n",
      "Requirement already satisfied: keyring>=15.1 in c:\\users\\gustav.wiberg\\appdata\\local\\programs\\python\\python311\\lib\\site-packages (from twine) (25.2.1)\n",
      "Requirement already satisfied: rfc3986>=1.4.0 in c:\\users\\gustav.wiberg\\appdata\\local\\programs\\python\\python311\\lib\\site-packages (from twine) (2.0.0)\n",
      "Requirement already satisfied: rich>=12.0.0 in c:\\users\\gustav.wiberg\\appdata\\local\\programs\\python\\python311\\lib\\site-packages (from twine) (13.7.1)\n",
      "Requirement already satisfied: zipp>=0.5 in c:\\users\\gustav.wiberg\\appdata\\local\\programs\\python\\python311\\lib\\site-packages (from importlib-metadata>=3.6->twine) (3.19.2)\n",
      "Requirement already satisfied: jaraco.classes in c:\\users\\gustav.wiberg\\appdata\\local\\programs\\python\\python311\\lib\\site-packages (from keyring>=15.1->twine) (3.4.0)\n",
      "Requirement already satisfied: jaraco.functools in c:\\users\\gustav.wiberg\\appdata\\local\\programs\\python\\python311\\lib\\site-packages (from keyring>=15.1->twine) (4.0.1)\n",
      "Requirement already satisfied: jaraco.context in c:\\users\\gustav.wiberg\\appdata\\local\\programs\\python\\python311\\lib\\site-packages (from keyring>=15.1->twine) (5.3.0)\n",
      "Requirement already satisfied: pywin32-ctypes>=0.2.0 in c:\\users\\gustav.wiberg\\appdata\\local\\programs\\python\\python311\\lib\\site-packages (from keyring>=15.1->twine) (0.2.2)\n",
      "Requirement already satisfied: nh3>=0.2.14 in c:\\users\\gustav.wiberg\\appdata\\local\\programs\\python\\python311\\lib\\site-packages (from readme-renderer>=35.0->twine) (0.2.17)\n",
      "Requirement already satisfied: docutils>=0.13.1 in c:\\users\\gustav.wiberg\\appdata\\local\\programs\\python\\python311\\lib\\site-packages (from readme-renderer>=35.0->twine) (0.21.2)\n",
      "Requirement already satisfied: Pygments>=2.5.1 in c:\\users\\gustav.wiberg\\appdata\\local\\programs\\python\\python311\\lib\\site-packages (from readme-renderer>=35.0->twine) (2.15.1)\n",
      "Requirement already satisfied: charset-normalizer<4,>=2 in c:\\users\\gustav.wiberg\\appdata\\local\\programs\\python\\python311\\lib\\site-packages (from requests>=2.20->twine) (3.2.0)\n",
      "Requirement already satisfied: idna<4,>=2.5 in c:\\users\\gustav.wiberg\\appdata\\local\\programs\\python\\python311\\lib\\site-packages (from requests>=2.20->twine) (3.4)\n",
      "Requirement already satisfied: certifi>=2017.4.17 in c:\\users\\gustav.wiberg\\appdata\\local\\programs\\python\\python311\\lib\\site-packages (from requests>=2.20->twine) (2023.7.22)\n",
      "Requirement already satisfied: markdown-it-py>=2.2.0 in c:\\users\\gustav.wiberg\\appdata\\local\\programs\\python\\python311\\lib\\site-packages (from rich>=12.0.0->twine) (3.0.0)\n",
      "Requirement already satisfied: mdurl~=0.1 in c:\\users\\gustav.wiberg\\appdata\\local\\programs\\python\\python311\\lib\\site-packages (from markdown-it-py>=2.2.0->rich>=12.0.0->twine) (0.1.2)\n",
      "Requirement already satisfied: more-itertools in c:\\users\\gustav.wiberg\\appdata\\local\\programs\\python\\python311\\lib\\site-packages (from jaraco.classes->keyring>=15.1->twine) (10.3.0)\n",
      "Requirement already satisfied: backports.tarfile in c:\\users\\gustav.wiberg\\appdata\\local\\programs\\python\\python311\\lib\\site-packages (from jaraco.context->keyring>=15.1->twine) (1.2.0)\n",
      "Note: you may need to restart the kernel to use updated packages.\n"
     ]
    }
   ],
   "source": [
    "%pip install twine"
   ]
  }
 ],
 "metadata": {
  "kernelspec": {
   "display_name": "Python 3",
   "language": "python",
   "name": "python3"
  },
  "language_info": {
   "codemirror_mode": {
    "name": "ipython",
    "version": 3
   },
   "file_extension": ".py",
   "mimetype": "text/x-python",
   "name": "python",
   "nbconvert_exporter": "python",
   "pygments_lexer": "ipython3",
   "version": "3.13.0"
  }
 },
 "nbformat": 4,
 "nbformat_minor": 2
}
