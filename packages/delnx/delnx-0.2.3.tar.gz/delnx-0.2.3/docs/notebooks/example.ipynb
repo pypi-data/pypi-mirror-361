{
 "cells": [
  {
   "cell_type": "markdown",
   "id": "4ff31abb",
   "metadata": {},
   "source": [
    "# Overview\n",
    "\n",
    "`delnx` is a Python package for differential expression analysis of single-cell RNA-seq data. For the most part, it's actually just one function {func}`~delnx.tl.de` that provides a unified interface to several ways of performing differential expression analysis with (generalized) linear models. These include other established packages such as [statsmodels](https://www.statsmodels.org/stable/index.html) and [PyDESeq2](https://pydeseq2.readthedocs.io/en/stable/) but we also implemented our own linear models in [JAX](https://jax.readthedocs.io/en/latest/) to enable lightning-fast DE testing on GPUs. To get you started, here's a basic example of how to use `delnx` for differential expression analysis:"
   ]
  },
  {
   "cell_type": "code",
   "execution_count": 12,
   "id": "cef2b07c",
   "metadata": {},
   "outputs": [
    {
     "name": "stdout",
     "output_type": "stream",
     "text": [
      "AnnData object with n_obs × n_vars = 22410 × 18653\n",
      "    obs: 'organoid', 'GLI3_KO', 'cell_type'\n",
      "    uns: 'log1p'\n",
      "    obsm: 'pca', 'umap'\n",
      "    layers: 'counts'\n"
     ]
    }
   ],
   "source": [
    "import delnx as dx\n",
    "import scanpy as sc\n",
    "\n",
    "\n",
    "# Load example data\n",
    "adata = sc.read_h5ad(\"data/GLI3_KO_45d.h5ad\")\n",
    "adata.layers[\"counts\"] = adata.X.copy()  # Store raw counts in a separate layer\n",
    "\n",
    "# Some basic preprocessing\n",
    "sc.pp.normalize_total(adata, target_sum=1e4)\n",
    "sc.pp.log1p(adata)\n",
    "\n",
    "print(adata)"
   ]
  },
  {
   "cell_type": "code",
   "execution_count": null,
   "id": "7ef37328",
   "metadata": {},
   "outputs": [
    {
     "name": "stdout",
     "output_type": "stream",
     "text": [
      "Inferred data type: lognorm\n",
      "16199 features passed log2fc threshold of 0.0\n"
     ]
    },
    {
     "name": "stderr",
     "output_type": "stream",
     "text": [
      "100%|██████████| 8/8 [00:19<00:00,  2.38s/it]\n"
     ]
    },
    {
     "name": "stdout",
     "output_type": "stream",
     "text": [
      "       feature  test_condition  ref_condition     log2fc     auroc       coef  \\\n",
      "0          EN1           False           True -10.000000  0.489666 -16.067822   \n",
      "1       NKX2-1           False           True  -9.768157  0.406106  -5.291508   \n",
      "2        SFTA3           False           True  -8.790968  0.427252  -4.085033   \n",
      "3         LHX8           False           True  -9.115255  0.456056  -3.926080   \n",
      "4       NKX6-2           False           True  -5.469905  0.490169  -3.553129   \n",
      "...        ...             ...            ...        ...       ...        ...   \n",
      "16194    EPHA1           False           True   0.053959  0.500040   0.152943   \n",
      "16195   AMDHD1           False           True   0.209194  0.500001   0.180583   \n",
      "16196  PABPC4L           False           True   0.260047  0.500040   0.289223   \n",
      "16197   ANXA2R           False           True   0.942715  0.499981   0.342610   \n",
      "16198    NRSN1           False           True  -0.129153  0.501732   1.043447   \n",
      "\n",
      "               pval          padj  \n",
      "0      1.000000e-50  6.835021e-49  \n",
      "1      1.000000e-50  6.835021e-49  \n",
      "2      1.000000e-50  6.835021e-49  \n",
      "3      1.000000e-50  6.835021e-49  \n",
      "4      1.000000e-50  6.835021e-49  \n",
      "...             ...           ...  \n",
      "16194  1.000000e+00  1.000000e+00  \n",
      "16195  1.000000e+00  1.000000e+00  \n",
      "16196  1.000000e+00  1.000000e+00  \n",
      "16197  1.000000e+00  1.000000e+00  \n",
      "16198  1.000000e+00  1.000000e+00  \n",
      "\n",
      "[16199 rows x 8 columns]\n"
     ]
    }
   ],
   "source": [
    "# Run differential expression analysis between conditions (here knockout vs. control)\n",
    "de_results = dx.tl.de(\n",
    "    adata,\n",
    "    method=\"lr\",  # DE method to use: \"lr\" for logistic regression\n",
    "    condition_key=\"GLI3_KO\",  # Condition key for DE analysis\n",
    ")\n",
    "\n",
    "print(de_results)"
   ]
  },
  {
   "cell_type": "markdown",
   "id": "47fd4d26",
   "metadata": {},
   "source": [
    "What you get back from {func}`~delnx.tl.de` is a {class}`~pandas.DataFrame` with the results of the differential expression analysis. The rows are genes and the columns are the results of the DE testing, such as p-values, log fold changes, etc. "
   ]
  },
  {
   "cell_type": "markdown",
   "id": "ad16b812",
   "metadata": {},
   "source": [
    "## Grouping\n",
    "Often, we want to split the dataset into groups, to perform testing e.g. within each cell type. `delnx` allows you to do this with the `group_key` argument, pointing to the column in the `adata.obs` to group by."
   ]
  },
  {
   "cell_type": "code",
   "execution_count": null,
   "id": "63f357a1",
   "metadata": {},
   "outputs": [
    {
     "name": "stdout",
     "output_type": "stream",
     "text": [
      "Inferred data type: lognorm\n",
      "15443 features passed log2fc threshold of 0.0\n"
     ]
    },
    {
     "name": "stderr",
     "output_type": "stream",
     "text": [
      "100%|██████████| 8/8 [00:03<00:00,  2.02it/s]\n"
     ]
    },
    {
     "name": "stdout",
     "output_type": "stream",
     "text": [
      "Inferred data type: lognorm\n",
      "15320 features passed log2fc threshold of 0.0\n"
     ]
    },
    {
     "name": "stderr",
     "output_type": "stream",
     "text": [
      "100%|██████████| 8/8 [00:02<00:00,  3.52it/s]\n"
     ]
    },
    {
     "name": "stdout",
     "output_type": "stream",
     "text": [
      "Inferred data type: lognorm\n",
      "14080 features passed log2fc threshold of 0.0\n"
     ]
    },
    {
     "name": "stderr",
     "output_type": "stream",
     "text": [
      "100%|██████████| 7/7 [00:00<00:00,  8.46it/s]\n"
     ]
    },
    {
     "name": "stdout",
     "output_type": "stream",
     "text": [
      "Inferred data type: lognorm\n",
      "14462 features passed log2fc threshold of 0.0\n"
     ]
    },
    {
     "name": "stderr",
     "output_type": "stream",
     "text": [
      "100%|██████████| 8/8 [00:00<00:00, 10.44it/s]\n"
     ]
    },
    {
     "name": "stdout",
     "output_type": "stream",
     "text": [
      "Inferred data type: lognorm\n",
      "14906 features passed log2fc threshold of 0.0\n"
     ]
    },
    {
     "name": "stderr",
     "output_type": "stream",
     "text": [
      "100%|██████████| 8/8 [00:00<00:00, 10.99it/s]\n"
     ]
    },
    {
     "name": "stdout",
     "output_type": "stream",
     "text": [
      "Inferred data type: lognorm\n",
      "12147 features passed log2fc threshold of 0.0\n"
     ]
    },
    {
     "name": "stderr",
     "output_type": "stream",
     "text": [
      "100%|██████████| 6/6 [00:00<00:00, 16.85it/s]\n"
     ]
    },
    {
     "name": "stdout",
     "output_type": "stream",
     "text": [
      "Inferred data type: lognorm\n",
      "13129 features passed log2fc threshold of 0.0\n"
     ]
    },
    {
     "name": "stderr",
     "output_type": "stream",
     "text": [
      "100%|██████████| 7/7 [00:00<00:00, 13.64it/s]"
     ]
    },
    {
     "name": "stdout",
     "output_type": "stream",
     "text": [
      "      feature  test_condition  ref_condition      group     log2fc     auroc  \\\n",
      "0      NKX2-1           False           True     ge_npc -10.000000  0.296055   \n",
      "1         EN1           False           True   mesen_ex -10.000000  0.463525   \n",
      "2      NKX2-1           False           True  mesen_npc  -8.316442  0.469342   \n",
      "3       SFTA3           False           True     ge_npc  -9.799723  0.302916   \n",
      "4      SHISA3           False           True  mesen_npc  -6.515883  0.460307   \n",
      "...       ...             ...            ...        ...        ...       ...   \n",
      "99482   SPRY2           False           True    ctx_npc  -1.618940  0.495519   \n",
      "99483   FBXL4           False           True    ctx_npc  -1.224567  0.493761   \n",
      "99484    GANC           False           True     ctx_ex  -2.922253  0.477551   \n",
      "99485   VPS50           False           True    ctx_npc  -0.221592  0.500210   \n",
      "99486   AHDC1           False           True    ctx_npc  -0.200196  0.496689   \n",
      "\n",
      "            coef          pval          padj  \n",
      "0     -22.486042  1.000000e-50  6.545197e-48  \n",
      "1     -19.410450  1.000000e-50  6.545197e-48  \n",
      "2      -4.829100  1.000000e-50  6.545197e-48  \n",
      "3      -4.747976  1.000000e-50  6.545197e-48  \n",
      "4      -4.377398  1.000000e-50  6.545197e-48  \n",
      "...          ...           ...           ...  \n",
      "99482   3.240943  1.000000e+00  1.000000e+00  \n",
      "99483   3.488917  1.000000e+00  1.000000e+00  \n",
      "99484   6.723835  1.000000e+00  1.000000e+00  \n",
      "99485  10.224096  1.000000e+00  1.000000e+00  \n",
      "99486  11.309708  1.000000e+00  1.000000e+00  \n",
      "\n",
      "[99487 rows x 9 columns]\n"
     ]
    },
    {
     "name": "stderr",
     "output_type": "stream",
     "text": [
      "\n"
     ]
    }
   ],
   "source": [
    "# Run differential expression analysis witin groups\n",
    "de_results = dx.tl.de(\n",
    "    adata,\n",
    "    method=\"lr\",  # DE method to use: \"lr\" for logistic regression\n",
    "    condition_key=\"GLI3_KO\",  # Condition key for DE analysis\n",
    "    group_key=\"cell_type\",  # Group by cell type\n",
    ")\n",
    "\n",
    "print(de_results)"
   ]
  },
  {
   "cell_type": "markdown",
   "id": "86d8dcab",
   "metadata": {},
   "source": [
    "Now the result has one additional column, `group`, which indicates the group the gene was tested in. "
   ]
  },
  {
   "cell_type": "markdown",
   "id": "b157bd2e",
   "metadata": {},
   "source": [
    "## Pseudo-bulking\n",
    "It is often advisable to not test on the single-cell level, but to aggregate the data to a (pseudo-)bulk level first. This better accounts for variation between actual biological replicates. `delnx` provides a thin wrapper around the [decoupler](https://decoupler.readthedocs.io/en/latest) function to do this:"
   ]
  },
  {
   "cell_type": "code",
   "execution_count": 15,
   "id": "fa5c8cce",
   "metadata": {},
   "outputs": [
    {
     "name": "stdout",
     "output_type": "stream",
     "text": [
      "AnnData object with n_obs × n_vars = 81 × 16199\n",
      "    obs: 'psbulk_replicate', 'cell_type', 'organoid', 'GLI3_KO', 'psbulk_cells', 'psbulk_counts'\n",
      "    layers: 'psbulk_props'\n"
     ]
    }
   ],
   "source": [
    "adata_pb = dx.pp.pseudobulk(\n",
    "    adata,\n",
    "    sample_key=\"organoid\",  # Sample key for pseudobulk aggregation (the biological replicate)\n",
    "    group_key=\"cell_type\",  # Group key for pseudobulk aggregation\n",
    "    n_pseudoreps=2,  # Optionally, the data can be split into multiple pseudoreplicates. This can be useful if the number of actual biological replicates is low.\n",
    "    layer=\"counts\",  # Layer to use for pseudobulk aggregation, e.g. \"counts\" or None for adata.X\n",
    "    mode=\"sum\",\n",
    ")\n",
    "\n",
    "print(adata_pb)"
   ]
  },
  {
   "cell_type": "markdown",
   "id": "b4fe253a",
   "metadata": {},
   "source": [
    "## Available Methods\n",
    "`delnx` provides various methods for performing differential expression analysis, which you can specify with the `method` argument. The default is `\"lr\"` for logistic regression, which constructs a logistic regression model predicting group membership based on each feature individually and compares this to a null model with a likelihood ratio test. Here's an overview of the available methods:\n",
    "\n",
    "- `\"lr\"`: Constructs a logistic regression model predicting group membership based on each feature individually and compares this to a null model with a likelihood ratio test. Recommended for log-normalized single-cell data.\n",
    "\n",
    "- `\"deseq2\"`: DESeq2 method (through [PyDESeq2](https://pydeseq2.readthedocs.io/en/stable/)) based on a native binomial model. Recommended for (pseudo-)bulk RNA-seq count data.\n",
    "\n",
    "- `\"negbinom\"`: Wald test based on a negative binomial regression model. Conecptually very similar to DESeq2 but implemented with [JAX](https://jax.readthedocs.io/en/latest/) (or [statsmodels](https://www.statsmodels.org/stable/index.html)). Recommended for count single-cell and bulk RNA-seq data. See {doc}`nb` for more details.\n",
    "\n",
    "- `\"anova\"`: ANOVA based on linear model. Recommended for log-normalized or scaled single-cell data.\n",
    "\n",
    "- `\"anova_residual\"`: Linear model with residual F-test. Recommended for log-normalized or scaled single-cell data\n",
    "\n",
    "- `\"binomial\"`: Likelihood ratio test based on a binomial regression model. Recommended for binary data such as single-cell and bulk ATAC-seq."
   ]
  },
  {
   "cell_type": "markdown",
   "id": "ab889691",
   "metadata": {},
   "source": [
    "In addition to different methods, `delnx` also provides several backends to use for executing these methods. The default is `\"jax\"` which relies on regression models and statistical tests implemented in [JAX](https://jax.readthedocs.io/en/latest/). This is usually the the fastest option, especially on GPUs. However, most methods are also available with [`\"statsmodels\"`](https://www.statsmodels.org/stable/index.html) as the backend. The exception to this is the `\"deseq2\"` method, which really just calls [PyDESeq2](https://pydeseq2.readthedocs.io/en/stable/)."
   ]
  },
  {
   "cell_type": "markdown",
   "id": "0dc80bae",
   "metadata": {},
   "source": []
  }
 ],
 "metadata": {
  "kernelspec": {
   "display_name": "py312_de",
   "language": "python",
   "name": "python3"
  },
  "language_info": {
   "codemirror_mode": {
    "name": "ipython",
    "version": 3
   },
   "file_extension": ".py",
   "mimetype": "text/x-python",
   "name": "python",
   "nbconvert_exporter": "python",
   "pygments_lexer": "ipython3",
   "version": "3.12.0"
  }
 },
 "nbformat": 4,
 "nbformat_minor": 5
}
