{
 "cells": [
  {
   "cell_type": "code",
   "execution_count": 1,
   "id": "f2c1bce9",
   "metadata": {},
   "outputs": [],
   "source": [
    "import logging\n",
    "import warnings\n",
    "import os\n",
    "import sys\n",
    "module_path = os.path.abspath(os.path.join('..'))\n",
    "if module_path not in sys.path:\n",
    "    sys.path.append(module_path)\n",
    "\n",
    "warnings.filterwarnings(\"ignore\")\n",
    "\n",
    "logging.basicConfig(stream=sys.stdout, level=logging.INFO)"
   ]
  },
  {
   "cell_type": "code",
   "execution_count": 2,
   "id": "634eb6bc",
   "metadata": {},
   "outputs": [
    {
     "name": "stdout",
     "output_type": "stream",
     "text": [
      "INFO:root:./data/J19139_20250515_130747.mf4: 517296 rows\n"
     ]
    }
   ],
   "source": [
    "from src.pyaecal.delta import Delta\n",
    "fn = Delta()"
   ]
  },
  {
   "cell_type": "code",
   "execution_count": 3,
   "id": "8bb54709",
   "metadata": {},
   "outputs": [
    {
     "name": "stdout",
     "output_type": "stream",
     "text": [
      "INFO:root:./data/J19139_20250515_130747.mf4: 517296 rows\n"
     ]
    },
    {
     "data": {
      "text/html": [
       "<div><style>\n",
       ".dataframe > thead > tr,\n",
       ".dataframe > tbody > tr {\n",
       "  text-align: right;\n",
       "  white-space: pre-wrap;\n",
       "}\n",
       "</style>\n",
       "<small>shape: (517_296, 6)</small><table border=\"1\" class=\"dataframe\"><thead><tr><th>offset</th><th>n</th><th>tq</th><th>reqGear</th><th>curGear</th><th>transShiftInProc</th></tr><tr><td>f64</td><td>f64</td><td>u16</td><td>u8</td><td>u8</td><td>u8</td></tr></thead><tbody><tr><td>0.143266</td><td>0.0</td><td>null</td><td>null</td><td>null</td><td>null</td></tr><tr><td>0.146752</td><td>0.0</td><td>null</td><td>null</td><td>null</td><td>0</td></tr><tr><td>0.147318</td><td>0.0</td><td>null</td><td>null</td><td>127</td><td>0</td></tr><tr><td>0.147594</td><td>0.0</td><td>32500</td><td>null</td><td>127</td><td>0</td></tr><tr><td>0.153234</td><td>0.0</td><td>32500</td><td>null</td><td>127</td><td>0</td></tr><tr><td>&hellip;</td><td>&hellip;</td><td>&hellip;</td><td>&hellip;</td><td>&hellip;</td><td>&hellip;</td></tr><tr><td>1699.515073</td><td>0.0</td><td>32500</td><td>126</td><td>126</td><td>0</td></tr><tr><td>1699.518446</td><td>0.0</td><td>32500</td><td>126</td><td>126</td><td>0</td></tr><tr><td>1699.524448</td><td>0.0</td><td>32500</td><td>126</td><td>126</td><td>0</td></tr><tr><td>1699.525014</td><td>0.0</td><td>32500</td><td>126</td><td>126</td><td>0</td></tr><tr><td>1699.528442</td><td>0.0</td><td>32500</td><td>126</td><td>126</td><td>0</td></tr></tbody></table></div>"
      ],
      "text/plain": [
       "shape: (517_296, 6)\n",
       "┌─────────────┬─────┬───────┬─────────┬─────────┬──────────────────┐\n",
       "│ offset      ┆ n   ┆ tq    ┆ reqGear ┆ curGear ┆ transShiftInProc │\n",
       "│ ---         ┆ --- ┆ ---   ┆ ---     ┆ ---     ┆ ---              │\n",
       "│ f64         ┆ f64 ┆ u16   ┆ u8      ┆ u8      ┆ u8               │\n",
       "╞═════════════╪═════╪═══════╪═════════╪═════════╪══════════════════╡\n",
       "│ 0.143266    ┆ 0.0 ┆ null  ┆ null    ┆ null    ┆ null             │\n",
       "│ 0.146752    ┆ 0.0 ┆ null  ┆ null    ┆ null    ┆ 0                │\n",
       "│ 0.147318    ┆ 0.0 ┆ null  ┆ null    ┆ 127     ┆ 0                │\n",
       "│ 0.147594    ┆ 0.0 ┆ 32500 ┆ null    ┆ 127     ┆ 0                │\n",
       "│ 0.153234    ┆ 0.0 ┆ 32500 ┆ null    ┆ 127     ┆ 0                │\n",
       "│ …           ┆ …   ┆ …     ┆ …       ┆ …       ┆ …                │\n",
       "│ 1699.515073 ┆ 0.0 ┆ 32500 ┆ 126     ┆ 126     ┆ 0                │\n",
       "│ 1699.518446 ┆ 0.0 ┆ 32500 ┆ 126     ┆ 126     ┆ 0                │\n",
       "│ 1699.524448 ┆ 0.0 ┆ 32500 ┆ 126     ┆ 126     ┆ 0                │\n",
       "│ 1699.525014 ┆ 0.0 ┆ 32500 ┆ 126     ┆ 126     ┆ 0                │\n",
       "│ 1699.528442 ┆ 0.0 ┆ 32500 ┆ 126     ┆ 126     ┆ 0                │\n",
       "└─────────────┴─────┴───────┴─────────┴─────────┴──────────────────┘"
      ]
     },
     "metadata": {},
     "output_type": "display_data"
    }
   ],
   "source": [
    "fn.add_channel('motorSpeed','n')\n",
    "fn.add_channel('motorTorqueEstimated','tq')\n",
    "fn.add_channel('transRequestGear','reqGear')\n",
    "fn.add_channel('transCurrentGear','curGear')\n",
    "fn.add_channel('transShiftInProc')\n",
    "fn.set_trigger_pre('transShiftInProc')\n",
    "fn.set_trigger_post('transShiftInProc', False)\n",
    "data=fn.get_data('./data/J19139_20250515_130747.mf4')\n",
    "display(data)"
   ]
  },
  {
   "cell_type": "code",
   "execution_count": 4,
   "id": "9a9a086c",
   "metadata": {},
   "outputs": [
    {
     "data": {
      "text/html": [
       "<div><style>\n",
       ".dataframe > thead > tr,\n",
       ".dataframe > tbody > tr {\n",
       "  text-align: right;\n",
       "  white-space: pre-wrap;\n",
       "}\n",
       "</style>\n",
       "<small>shape: (39, 13)</small><table border=\"1\" class=\"dataframe\"><thead><tr><th>offset_pre</th><th>n_pre</th><th>tq_pre</th><th>reqGear_pre</th><th>curGear_pre</th><th>transShiftInProc_pre</th><th>offset_post</th><th>n_post</th><th>tq_post</th><th>reqGear_post</th><th>curGear_post</th><th>transShiftInProc_post</th><th>time_diff</th></tr><tr><td>f64</td><td>f64</td><td>u16</td><td>u8</td><td>u8</td><td>u8</td><td>f64</td><td>f64</td><td>u16</td><td>u8</td><td>u8</td><td>u8</td><td>f64</td></tr></thead><tbody><tr><td>134.007157</td><td>2538.0</td><td>32706</td><td>128</td><td>127</td><td>1</td><td>135.157123</td><td>1422.0</td><td>32860</td><td>128</td><td>128</td><td>0</td><td>1.149966</td></tr><tr><td>146.457232</td><td>942.0</td><td>32499</td><td>127</td><td>128</td><td>1</td><td>146.967261</td><td>1668.0</td><td>32509</td><td>127</td><td>127</td><td>0</td><td>0.510029</td></tr><tr><td>197.707599</td><td>714.0</td><td>32449</td><td>126</td><td>127</td><td>1</td><td>198.37756</td><td>1428.0</td><td>32429</td><td>126</td><td>127</td><td>0</td><td>0.669961</td></tr><tr><td>280.608134</td><td>2261.0</td><td>32619</td><td>127</td><td>126</td><td>1</td><td>282.068165</td><td>1003.0</td><td>32655</td><td>127</td><td>127</td><td>0</td><td>1.460031</td></tr><tr><td>286.958129</td><td>840.0</td><td>32686</td><td>126</td><td>127</td><td>1</td><td>288.148227</td><td>1619.0</td><td>32638</td><td>126</td><td>126</td><td>0</td><td>1.190098</td></tr><tr><td>&hellip;</td><td>&hellip;</td><td>&hellip;</td><td>&hellip;</td><td>&hellip;</td><td>&hellip;</td><td>&hellip;</td><td>&hellip;</td><td>&hellip;</td><td>&hellip;</td><td>&hellip;</td><td>&hellip;</td><td>&hellip;</td></tr><tr><td>1350.113688</td><td>833.0</td><td>32382</td><td>126</td><td>127</td><td>1</td><td>1350.863528</td><td>1644.0</td><td>32462</td><td>126</td><td>126</td><td>0</td><td>0.74984</td></tr><tr><td>1363.523659</td><td>2121.0</td><td>32647</td><td>127</td><td>126</td><td>1</td><td>1364.783696</td><td>1039.0</td><td>32592</td><td>127</td><td>127</td><td>0</td><td>1.260038</td></tr><tr><td>1397.713723</td><td>3033.0</td><td>33005</td><td>128</td><td>127</td><td>1</td><td>1399.513723</td><td>1686.0</td><td>33353</td><td>128</td><td>128</td><td>0</td><td>1.8</td></tr><tr><td>1438.763891</td><td>937.0</td><td>32281</td><td>127</td><td>128</td><td>1</td><td>1439.963894</td><td>1499.0</td><td>32336</td><td>127</td><td>127</td><td>0</td><td>1.200003</td></tr><tr><td>1506.114547</td><td>-21.0</td><td>32499</td><td>126</td><td>127</td><td>1</td><td>1506.694143</td><td>0.0</td><td>32500</td><td>126</td><td>127</td><td>0</td><td>0.579596</td></tr></tbody></table></div>"
      ],
      "text/plain": [
       "shape: (39, 13)\n",
       "┌────────────┬────────┬────────┬────────────┬───┬────────────┬────────────┬────────────┬───────────┐\n",
       "│ offset_pre ┆ n_pre  ┆ tq_pre ┆ reqGear_pr ┆ … ┆ reqGear_po ┆ curGear_po ┆ transShift ┆ time_diff │\n",
       "│ ---        ┆ ---    ┆ ---    ┆ e          ┆   ┆ st         ┆ st         ┆ InProc_pos ┆ ---       │\n",
       "│ f64        ┆ f64    ┆ u16    ┆ ---        ┆   ┆ ---        ┆ ---        ┆ t          ┆ f64       │\n",
       "│            ┆        ┆        ┆ u8         ┆   ┆ u8         ┆ u8         ┆ ---        ┆           │\n",
       "│            ┆        ┆        ┆            ┆   ┆            ┆            ┆ u8         ┆           │\n",
       "╞════════════╪════════╪════════╪════════════╪═══╪════════════╪════════════╪════════════╪═══════════╡\n",
       "│ 134.007157 ┆ 2538.0 ┆ 32706  ┆ 128        ┆ … ┆ 128        ┆ 128        ┆ 0          ┆ 1.149966  │\n",
       "│ 146.457232 ┆ 942.0  ┆ 32499  ┆ 127        ┆ … ┆ 127        ┆ 127        ┆ 0          ┆ 0.510029  │\n",
       "│ 197.707599 ┆ 714.0  ┆ 32449  ┆ 126        ┆ … ┆ 126        ┆ 127        ┆ 0          ┆ 0.669961  │\n",
       "│ 280.608134 ┆ 2261.0 ┆ 32619  ┆ 127        ┆ … ┆ 127        ┆ 127        ┆ 0          ┆ 1.460031  │\n",
       "│ 286.958129 ┆ 840.0  ┆ 32686  ┆ 126        ┆ … ┆ 126        ┆ 126        ┆ 0          ┆ 1.190098  │\n",
       "│ …          ┆ …      ┆ …      ┆ …          ┆ … ┆ …          ┆ …          ┆ …          ┆ …         │\n",
       "│ 1350.11368 ┆ 833.0  ┆ 32382  ┆ 126        ┆ … ┆ 126        ┆ 126        ┆ 0          ┆ 0.74984   │\n",
       "│ 8          ┆        ┆        ┆            ┆   ┆            ┆            ┆            ┆           │\n",
       "│ 1363.52365 ┆ 2121.0 ┆ 32647  ┆ 127        ┆ … ┆ 127        ┆ 127        ┆ 0          ┆ 1.260038  │\n",
       "│ 9          ┆        ┆        ┆            ┆   ┆            ┆            ┆            ┆           │\n",
       "│ 1397.71372 ┆ 3033.0 ┆ 33005  ┆ 128        ┆ … ┆ 128        ┆ 128        ┆ 0          ┆ 1.8       │\n",
       "│ 3          ┆        ┆        ┆            ┆   ┆            ┆            ┆            ┆           │\n",
       "│ 1438.76389 ┆ 937.0  ┆ 32281  ┆ 127        ┆ … ┆ 127        ┆ 127        ┆ 0          ┆ 1.200003  │\n",
       "│ 1          ┆        ┆        ┆            ┆   ┆            ┆            ┆            ┆           │\n",
       "│ 1506.11454 ┆ -21.0  ┆ 32499  ┆ 126        ┆ … ┆ 126        ┆ 127        ┆ 0          ┆ 0.579596  │\n",
       "│ 7          ┆        ┆        ┆            ┆   ┆            ┆            ┆            ┆           │\n",
       "└────────────┴────────┴────────┴────────────┴───┴────────────┴────────────┴────────────┴───────────┘"
      ]
     },
     "metadata": {},
     "output_type": "display_data"
    }
   ],
   "source": [
    "fn.add_file('./data/J19139_20250515_130747.mf4')\n",
    "data=fn.process()\n",
    "display(data['J19139_20250515_130747'])"
   ]
  }
 ],
 "metadata": {
  "kernelspec": {
   "display_name": ".venv",
   "language": "python",
   "name": "python3"
  },
  "language_info": {
   "codemirror_mode": {
    "name": "ipython",
    "version": 3
   },
   "file_extension": ".py",
   "mimetype": "text/x-python",
   "name": "python",
   "nbconvert_exporter": "python",
   "pygments_lexer": "ipython3",
   "version": "3.13.3"
  }
 },
 "nbformat": 4,
 "nbformat_minor": 5
}
