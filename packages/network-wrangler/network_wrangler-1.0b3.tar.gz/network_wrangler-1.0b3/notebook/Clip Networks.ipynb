{
 "cells": [
  {
   "cell_type": "markdown",
   "metadata": {},
   "source": [
    "# Clip Networks\n",
    "\n",
    "- Clip by boundary file\n",
    "- Clip by geographic jurisdiction\n",
    "- Clip by transit to roadway"
   ]
  },
  {
   "cell_type": "code",
   "execution_count": 15,
   "metadata": {},
   "outputs": [],
   "source": [
    "from pathlib import Path\n",
    "import geopandas as gpd\n",
    "from network_wrangler import load_roadway_from_dir\n",
    "from network_wrangler.roadway.clip import clip_roadway"
   ]
  },
  {
   "cell_type": "markdown",
   "metadata": {},
   "source": [
    "- Example directory"
   ]
  },
  {
   "cell_type": "code",
   "execution_count": null,
   "metadata": {},
   "outputs": [],
   "source": [
    "EXAMPLE_DIR = Path.cwd().parent / \"examples\"\n",
    "STPAUL = EXAMPLE_DIR / \"stpaul\"\n",
    "STPAUL.is_dir()"
   ]
  },
  {
   "cell_type": "markdown",
   "metadata": {},
   "source": [
    "## Clip Roadway Network to Boundary\n",
    "\n",
    "This section of the notebook recreates the logic in the script `/bin/clip_roadway.py`\n",
    "\n",
    "1. Read in roadway network"
   ]
  },
  {
   "cell_type": "code",
   "execution_count": null,
   "metadata": {},
   "outputs": [],
   "source": [
    "full_road_net = load_roadway_from_dir(STPAUL)"
   ]
  },
  {
   "cell_type": "markdown",
   "metadata": {},
   "source": [
    "- Make sure the node loaded correctly"
   ]
  },
  {
   "cell_type": "code",
   "execution_count": null,
   "metadata": {},
   "outputs": [],
   "source": [
    "mymap = full_road_net.nodes_df.sample(200).explore(\n",
    "    color=\"grey\", tiles=\"CartoDB positron\", name=\"sampled original points\"\n",
    ")\n",
    "mymap"
   ]
  },
  {
   "cell_type": "markdown",
   "metadata": {},
   "source": [
    "2. Load a boundary"
   ]
  },
  {
   "cell_type": "code",
   "execution_count": null,
   "metadata": {},
   "outputs": [],
   "source": [
    "BOUNDARY_DIR = Path.cwd().parent / \"tests\" / \"data\"\n",
    "list(BOUNDARY_DIR.glob(\"*.geojson\"))"
   ]
  },
  {
   "cell_type": "code",
   "execution_count": null,
   "metadata": {},
   "outputs": [],
   "source": [
    "unionstation_gdf = gpd.read_file(BOUNDARY_DIR / \"unionstation.geojson\")\n",
    "unionstation_gdf.explore(m=mymap, name=\"Union Station Boundary\", color=\"red\")"
   ]
  },
  {
   "cell_type": "markdown",
   "metadata": {},
   "source": [
    "3. Clip network to boundary"
   ]
  },
  {
   "cell_type": "code",
   "execution_count": null,
   "metadata": {},
   "outputs": [],
   "source": [
    "union_station_net = clip_roadway(full_road_net, boundary_gdf=unionstation_gdf)\n",
    "union_station_net.nodes_df.explore(m=mymap, color=\"green\")\n",
    "union_station_net.links_df.explore(\n",
    "    m=mymap, color=\"green\", style_kwds={\"opacity\": 0.5, \"weight\": 20}\n",
    ")"
   ]
  },
  {
   "cell_type": "markdown",
   "metadata": {},
   "source": [
    "## Clip to a geocoded place name from Open Street Map"
   ]
  },
  {
   "cell_type": "code",
   "execution_count": null,
   "metadata": {},
   "outputs": [],
   "source": [
    "summit_net = clip_roadway(full_road_net, boundary_geocode=\"Summit - University, St. Paul, MN\")\n",
    "summit_net.nodes_df.explore(m=mymap, color=\"blue\")\n",
    "summit_net.links_df.explore(\n",
    "    m=mymap, color=\"blue\", style_kwds={\"opacity\": 0.5, \"weight\": 20}\n",
    ")"
   ]
  },
  {
   "cell_type": "markdown",
   "metadata": {},
   "source": [
    "## Clip Transit Network to Roadway\n",
    "\n",
    "`clip_transit` clips the transit to either a boundary or a roadway network.\n",
    "\n",
    "The default is to only retain trips which have at least two stops within the boundary/network but\n",
    "it is parameterized so that you can change it."
   ]
  },
  {
   "cell_type": "code",
   "execution_count": null,
   "metadata": {},
   "outputs": [],
   "source": [
    "from network_wrangler.transit.io import load_transit\n",
    "\n",
    "stp_transit = load_transit(STPAUL)\n",
    "\n",
    "from network_wrangler.transit.clip import clip_transit\n",
    "\n",
    "union_station_transit = clip_transit(stp_transit, roadway_net=union_station_net)"
   ]
  },
  {
   "cell_type": "code",
   "execution_count": null,
   "metadata": {},
   "outputs": [],
   "source": [
    "stp_transit.shape_links_gdf.explore(\n",
    "    m=mymap, color=\"black\", style_kwds={\"opacity\": 0.5, \"weight\": 10}\n",
    ")\n",
    "stp_transit.stops_gdf.explore(\n",
    "    m=mymap, color=\"black\", marker_kwds={\"fill_opacity\": 0.5, \"line_opacity\": 0.7}\n",
    ")\n",
    "union_station_transit.shape_links_gdf.explore(m=mymap, color=\"palegreen\", style_kwds={\"weight\": 5})\n",
    "union_station_transit.stops_gdf.explore(\n",
    "    m=mymap, color=\"palegreen\", marker_kwds={\"fill_opacity\": 0.5, \"line_opacity\": 0.7}\n",
    ")"
   ]
  },
  {
   "cell_type": "code",
   "execution_count": null,
   "metadata": {},
   "outputs": [],
   "source": [
    "union_station_transit.feed.shapes"
   ]
  }
 ],
 "metadata": {
  "kernelspec": {
   "display_name": "wrangler",
   "language": "python",
   "name": "python3"
  },
  "language_info": {
   "codemirror_mode": {
    "name": "ipython",
    "version": 3
   },
   "file_extension": ".py",
   "mimetype": "text/x-python",
   "name": "python",
   "nbconvert_exporter": "python",
   "pygments_lexer": "ipython3",
   "version": "3.10.15"
  }
 },
 "nbformat": 4,
 "nbformat_minor": 2
}
