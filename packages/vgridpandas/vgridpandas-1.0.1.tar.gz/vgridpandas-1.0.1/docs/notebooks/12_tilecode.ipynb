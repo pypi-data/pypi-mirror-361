{
 "cells": [
  {
   "cell_type": "markdown",
   "id": "0",
   "metadata": {},
   "source": [
    "## TilecodePandas key features\n",
    "\n",
    "You can try out vgridpandas by using the cloud-computing platforms below without having to install anything on your computer:\n",
    "\n",
    "[![image](https://jupyterlite.rtfd.io/en/latest/_static/badge.svg)](https://vgridpandas.gishub.vn/lab/index.html?path=notebooks/12_tilecode.ipynb)\n",
    "[![image](https://colab.research.google.com/assets/colab-badge.svg)](https://colab.research.google.com/github/opengeoshub/vgridpandas/blob/master)\n",
    "[![image](https://mybinder.org/badge_logo.svg)](https://mybinder.org/v2/gh/opengeoshub/vgridpandas/HEAD)"
   ]
  },
  {
   "cell_type": "markdown",
   "id": "1",
   "metadata": {},
   "source": [
    "### Install vgridpandas"
   ]
  },
  {
   "cell_type": "code",
   "execution_count": 1,
   "id": "2",
   "metadata": {},
   "outputs": [],
   "source": [
    "# %pip install vgridpandas"
   ]
  },
  {
   "cell_type": "markdown",
   "id": "dc855c53",
   "metadata": {},
   "source": [
    "### Latlong to Tilecode"
   ]
  },
  {
   "cell_type": "code",
   "execution_count": 2,
   "id": "4",
   "metadata": {},
   "outputs": [
    {
     "data": {
      "text/html": [
       "<div>\n",
       "<style scoped>\n",
       "    .dataframe tbody tr th:only-of-type {\n",
       "        vertical-align: middle;\n",
       "    }\n",
       "\n",
       "    .dataframe tbody tr th {\n",
       "        vertical-align: top;\n",
       "    }\n",
       "\n",
       "    .dataframe thead th {\n",
       "        text-align: right;\n",
       "    }\n",
       "</style>\n",
       "<table border=\"1\" class=\"dataframe\">\n",
       "  <thead>\n",
       "    <tr style=\"text-align: right;\">\n",
       "      <th></th>\n",
       "      <th>lat</th>\n",
       "      <th>lon</th>\n",
       "    </tr>\n",
       "    <tr>\n",
       "      <th>tilecode_10</th>\n",
       "      <th></th>\n",
       "      <th></th>\n",
       "    </tr>\n",
       "  </thead>\n",
       "  <tbody>\n",
       "    <tr>\n",
       "      <th>z10x815y481</th>\n",
       "      <td>10.775300</td>\n",
       "      <td>106.706480</td>\n",
       "    </tr>\n",
       "    <tr>\n",
       "      <th>z10x819y481</th>\n",
       "      <td>10.787317</td>\n",
       "      <td>107.996264</td>\n",
       "    </tr>\n",
       "  </tbody>\n",
       "</table>\n",
       "</div>"
      ],
      "text/plain": [
       "                   lat         lon\n",
       "tilecode_10                       \n",
       "z10x815y481  10.775300  106.706480\n",
       "z10x819y481  10.787317  107.996264"
      ]
     },
     "execution_count": 2,
     "metadata": {},
     "output_type": "execute_result"
    }
   ],
   "source": [
    "import pandas as pd\n",
    "from vgridpandas import tilecodepandas\n",
    "df = pd.DataFrame({'lat': [10.775299665325505, 10.78731693], 'lon':[106.70647975040788,107.99626405]})\n",
    "resolution = 10\n",
    "df = df.tilecode.latlon2tilecode(resolution)\n",
    "df"
   ]
  },
  {
   "cell_type": "markdown",
   "id": "dc45a732",
   "metadata": {},
   "source": [
    "### Tilecode to geo boundary"
   ]
  },
  {
   "cell_type": "code",
   "execution_count": 3,
   "id": "5fbf48a2",
   "metadata": {},
   "outputs": [
    {
     "data": {
      "text/html": [
       "<div>\n",
       "<style scoped>\n",
       "    .dataframe tbody tr th:only-of-type {\n",
       "        vertical-align: middle;\n",
       "    }\n",
       "\n",
       "    .dataframe tbody tr th {\n",
       "        vertical-align: top;\n",
       "    }\n",
       "\n",
       "    .dataframe thead th {\n",
       "        text-align: right;\n",
       "    }\n",
       "</style>\n",
       "<table border=\"1\" class=\"dataframe\">\n",
       "  <thead>\n",
       "    <tr style=\"text-align: right;\">\n",
       "      <th></th>\n",
       "      <th>lat</th>\n",
       "      <th>lon</th>\n",
       "      <th>geometry</th>\n",
       "    </tr>\n",
       "    <tr>\n",
       "      <th>tilecode_10</th>\n",
       "      <th></th>\n",
       "      <th></th>\n",
       "      <th></th>\n",
       "    </tr>\n",
       "  </thead>\n",
       "  <tbody>\n",
       "    <tr>\n",
       "      <th>z10x815y481</th>\n",
       "      <td>10.775300</td>\n",
       "      <td>106.706480</td>\n",
       "      <td>POLYGON ((106.52344 10.48781, 106.875 10.48781...</td>\n",
       "    </tr>\n",
       "    <tr>\n",
       "      <th>z10x819y481</th>\n",
       "      <td>10.787317</td>\n",
       "      <td>107.996264</td>\n",
       "      <td>POLYGON ((107.92969 10.48781, 108.28125 10.487...</td>\n",
       "    </tr>\n",
       "  </tbody>\n",
       "</table>\n",
       "</div>"
      ],
      "text/plain": [
       "                   lat         lon  \\\n",
       "tilecode_10                          \n",
       "z10x815y481  10.775300  106.706480   \n",
       "z10x819y481  10.787317  107.996264   \n",
       "\n",
       "                                                      geometry  \n",
       "tilecode_10                                                     \n",
       "z10x815y481  POLYGON ((106.52344 10.48781, 106.875 10.48781...  \n",
       "z10x819y481  POLYGON ((107.92969 10.48781, 108.28125 10.487...  "
      ]
     },
     "execution_count": 3,
     "metadata": {},
     "output_type": "execute_result"
    }
   ],
   "source": [
    "df = df.tilecode.tilecode2geo()\n",
    "df"
   ]
  },
  {
   "cell_type": "markdown",
   "id": "a75d0385",
   "metadata": {},
   "source": [
    "### (Multi)Linestring/ (Multi)Polygon to Tilecode"
   ]
  },
  {
   "cell_type": "code",
   "execution_count": 9,
   "id": "12711ad2",
   "metadata": {},
   "outputs": [
    {
     "data": {
      "text/plain": [
       "<Axes: >"
      ]
     },
     "execution_count": 9,
     "metadata": {},
     "output_type": "execute_result"
    },
    {
     "data": {
      "image/png": "[encoded data removed]",
      "text/plain": [
       "<Figure size 640x480 with 1 Axes>"
      ]
     },
     "metadata": {},
     "output_type": "display_data"
    }
   ],
   "source": [
    "import geopandas as gpd\n",
    "from vgridpandas import geohashpandas\n",
    "\n",
    "gdf = gpd.read_file('https://raw.githubusercontent.com/opengeoshub/vopendata/refs/heads/main/shape/polygon.geojson')\n",
    "resolution = 20\n",
    "gdf_polyfill = gdf.tilecode.polyfill(resolution, predicate = \"intersects\", compact = True)\n",
    "gdf_polyfill = gdf_polyfill.tilecode.tilecode2geo(tilecode_column = \"tilecode_polyfill\")\n",
    "gdf_polyfill.plot()"
   ]
  },
  {
   "cell_type": "markdown",
   "id": "880cd3e8",
   "metadata": {},
   "source": [
    "### Tilecode point binning"
   ]
  },
  {
   "cell_type": "code",
   "execution_count": 10,
   "id": "c1fa657c",
   "metadata": {},
   "outputs": [
    {
     "data": {
      "image/png": "[encoded data removed]",
      "text/plain": [
       "<Figure size 640x480 with 1 Axes>"
      ]
     },
     "metadata": {},
     "output_type": "display_data"
    }
   ],
   "source": [
    "resolution = 18\n",
    "# df = pd.read_csv(\"https://raw.githubusercontent.com/opengeoshub/vopendata/refs/heads/main/csv/dist1_pois.csv\")\n",
    "df = gpd.read_file(\"https://raw.githubusercontent.com/opengeoshub/vopendata/refs/heads/main/shape/dist1_pois.geojson\")\n",
    "df.head()\n",
    "stats = \"count\"\n",
    "df_bin = df.tilecode.tilecodebin(resolution=resolution, stats = stats, return_geometry=True)\n",
    "df_bin.plot()"
   ]
  }
 ],
 "metadata": {
  "kernelspec": {
   "display_name": ".venv",
   "language": "python",
   "name": "python3"
  },
  "language_info": {
   "codemirror_mode": {
    "name": "ipython",
    "version": 3
   },
   "file_extension": ".py",
   "mimetype": "text/x-python",
   "name": "python",
   "nbconvert_exporter": "python",
   "pygments_lexer": "ipython3",
   "version": "3.12.11"
  }
 },
 "nbformat": 4,
 "nbformat_minor": 5
}
