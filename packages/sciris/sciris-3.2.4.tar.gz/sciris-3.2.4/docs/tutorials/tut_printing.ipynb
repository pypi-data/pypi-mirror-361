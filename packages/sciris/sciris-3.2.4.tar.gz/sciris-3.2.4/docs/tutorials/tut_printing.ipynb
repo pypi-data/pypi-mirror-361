{
 "cells": [
  {
   "cell_type": "markdown",
   "metadata": {},
   "source": [
    "# Printing\n",
    "\n",
    "Aside from plotting result, printing numbers is probably the main way you do science. (Or maybe your science consists entirely of listening to [birdsong](https://www.nature.com/articles/nrn2931).) This tutorial can't help make the numbers in your science better, but it can help you figure out more quickly if they're good numbers or not."
   ]
  },
  {
   "cell_type": "markdown",
   "metadata": {},
   "source": [
    "<div class=\"alert alert-info\">\n",
    "    \n",
    "Click [here](https://mybinder.org/v2/gh/sciris/sciris/HEAD?labpath=docs%2Ftutorials%2Ftut_printing.ipynb) to open an interactive version of this notebook.\n",
    "    \n",
    "</div>\n"
   ]
  },
  {
   "cell_type": "markdown",
   "metadata": {
    "tags": []
   },
   "source": [
    "## Headings and colors\n",
    "\n",
    "No one in their right mind would make a black and white plot these days, but it's still pretty common to output monochrome text. Fair: color should be used sparingly. But when you do want a pop of color, Sciris has you covered. For example, you can easily make section headings to delineate [large blocks of text](https://philpapers.org/archive/BLUANS.pdf):"
   ]
  },
  {
   "cell_type": "code",
   "execution_count": null,
   "metadata": {},
   "outputs": [],
   "source": [
    "import sciris as sc\n",
    "import numpy as np\n",
    "\n",
    "sc.heading('A very long green story')\n",
    "string = '\"Once upon a time, there was a story that began: '\n",
    "sc.printgreen(sc.indent(string*20 + ' ...'))\n",
    "\n",
    "sc.heading('Some very dull blue data')\n",
    "sc.printblue(np.random.rand(10,6))"
   ]
  },
  {
   "cell_type": "markdown",
   "metadata": {},
   "source": [
    "(Note: if you're reading this on [docs.sciris.org](https://docs.sciris.org), there's a little button at the top right where you can change to dark mode if you prefer – the colors might make more sense then!)"
   ]
  },
  {
   "cell_type": "markdown",
   "metadata": {},
   "source": [
    "Incidentally, Sciris includes two functions for combining strings: `sc.strjoin()` and `sc.newlinejoin()`. These are just shortcuts to `', '.join()` and `'\\n'.join()`, respectively (plus automatic conversion to strings), but can make life easier, especially inside f-strings:"
   ]
  },
  {
   "cell_type": "code",
   "execution_count": null,
   "metadata": {},
   "outputs": [],
   "source": [
    "def get(key):\n",
    "    my_dict = dict(key1=1, key2=2, key3=3)\n",
    "    try:\n",
    "        my_dict[key]\n",
    "    except:\n",
    "        errormsg = f'Invalid key {key}; must be {sc.strjoin(my_dict.keys())}, which have values:\\n{sc.newlinejoin(my_dict.items())}'\n",
    "        print(errormsg)\n",
    "\n",
    "get('key4')"
   ]
  },
  {
   "cell_type": "markdown",
   "metadata": {},
   "source": [
    "## Printing objects\n",
    "\n",
    "Let's revisit our well-trodden sim:"
   ]
  },
  {
   "cell_type": "code",
   "execution_count": null,
   "metadata": {},
   "outputs": [],
   "source": [
    "import numpy as np\n",
    "import matplotlib.pyplot as plt\n",
    "\n",
    "class Sim:\n",
    "    def __init__(self, n=10, n_factors=5):\n",
    "        self.n = n\n",
    "        self.n_factors = n_factors\n",
    "        self.results = sc.objdict()\n",
    "        self.ready = False\n",
    "    \n",
    "    def run(self):\n",
    "        for i in range(self.n_factors):\n",
    "            label = f'i={i+1}'\n",
    "            result = np.random.randint(0, 10, self.n)**(i+1)\n",
    "            self.results[label] = result\n",
    "        self.ready = True\n",
    "    \n",
    "    def plot(self):\n",
    "        plt.plot(self.results[:])\n",
    "\n",
    "sim = Sim()\n",
    "sim.run()"
   ]
  },
  {
   "cell_type": "markdown",
   "metadata": {},
   "source": [
    "We can quickly view the full object with the \"pretty representation\", or `sc.pr()`:"
   ]
  },
  {
   "cell_type": "code",
   "execution_count": null,
   "metadata": {},
   "outputs": [],
   "source": [
    "sc.pr(sim)"
   ]
  },
  {
   "cell_type": "markdown",
   "metadata": {},
   "source": [
    "Compare this to the standard but less informative `dir()`:"
   ]
  },
  {
   "cell_type": "code",
   "execution_count": null,
   "metadata": {},
   "outputs": [],
   "source": [
    "dir(sim)"
   ]
  },
  {
   "cell_type": "markdown",
   "metadata": {},
   "source": [
    "Trying to figure out what this means is a lot more work! For example, from `dir()`, you would't know if `run` is an attribute (is it a flag indicating that the sim _was_ run?) or a method.\n",
    "\n",
    "In fact, this representation of an object is so useful, you can use it when you create the class. Then if you do `print(sim)`, you'll get the full representation rather than just the default (class name and memory address):"
   ]
  },
  {
   "cell_type": "code",
   "execution_count": null,
   "metadata": {},
   "outputs": [],
   "source": [
    "class PrettySim(sc.prettyobj): # This line is key, everything else is the same as before!\n",
    "    def __init__(self, n=10, n_factors=5):\n",
    "        self.n = n\n",
    "        self.n_factors = n_factors\n",
    "        self.results = sc.objdict()\n",
    "        self.ready = False\n",
    "    \n",
    "    def run(self):\n",
    "        for i in range(self.n_factors):\n",
    "            label = f'i={i+1}'\n",
    "            result = np.random.randint(0, 10, self.n)**(i+1)\n",
    "            self.results[label] = result\n",
    "        self.ready = True\n",
    "    \n",
    "    def plot(self):\n",
    "        plt.plot(self.results[:])\n",
    "\n",
    "sim = PrettySim()\n",
    "sim.run()\n",
    "print(sim)"
   ]
  },
  {
   "cell_type": "markdown",
   "metadata": {},
   "source": [
    "(Some readers may question whether this representation is more _useful_ than it is _pretty_. Point taken.)"
   ]
  },
  {
   "cell_type": "markdown",
   "metadata": {},
   "source": [
    "## Monitoring progress\n",
    "\n",
    "What if you have a really slow task and you want to check progress? You can use `sc.progressbar` for that, which builds on the excellent package [tqdm](https://tqdm.github.io/):"
   ]
  },
  {
   "cell_type": "code",
   "execution_count": null,
   "metadata": {},
   "outputs": [],
   "source": [
    "class SlowSim(PrettySim):\n",
    "    \n",
    "    def run_slow(self):\n",
    "        for i in sc.progressbar(range(self.n_factors)): # This is the only change!\n",
    "            sc.randsleep(0.2) # Make it slow\n",
    "            label = f'i={i+1}'\n",
    "            result = np.random.randint(0, 10, self.n)**(i+1)\n",
    "            self.results[label] = result\n",
    "        self.ready = True\n",
    "\n",
    "slowsim = SlowSim()\n",
    "slowsim.run_slow()"
   ]
  },
  {
   "cell_type": "markdown",
   "metadata": {},
   "source": [
    "Note that the progress bar looks better in a regular terminal than in Jupyter, and needless to say, it doesn't look like anything in a static web page!"
   ]
  }
 ],
 "metadata": {
  "kernelspec": {
   "display_name": "Python 3 (ipykernel)",
   "language": "python",
   "name": "python3"
  },
  "language_info": {
   "codemirror_mode": {
    "name": "ipython",
    "version": 3
   },
   "file_extension": ".py",
   "mimetype": "text/x-python",
   "name": "python",
   "nbconvert_exporter": "python",
   "pygments_lexer": "ipython3",
   "version": "3.9.16"
  },
  "toc": {
   "base_numbering": 1,
   "nav_menu": {},
   "number_sections": true,
   "sideBar": true,
   "skip_h1_title": false,
   "title_cell": "Table of Contents",
   "title_sidebar": "Contents",
   "toc_cell": false,
   "toc_position": {},
   "toc_section_display": true,
   "toc_window_display": false
  }
 },
 "nbformat": 4,
 "nbformat_minor": 4
}
