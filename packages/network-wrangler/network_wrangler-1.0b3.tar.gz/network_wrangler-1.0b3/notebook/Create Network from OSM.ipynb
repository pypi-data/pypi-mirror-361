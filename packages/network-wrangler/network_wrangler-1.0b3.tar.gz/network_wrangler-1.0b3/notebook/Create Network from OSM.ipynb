{
 "cells": [
  {
   "cell_type": "markdown",
   "metadata": {},
   "source": [
    "# Explore Creating Network from OSM\n",
    "\n",
    "Note this is an exploratory notebook for if you want to create the networks step-by-step and review and customize parts along the way.\n",
    "\n",
    "If you'd like to accept some gross defaults, then you can use `bin/build_basic_osm_roadnet.py` which puts all of this together."
   ]
  },
  {
   "cell_type": "code",
   "execution_count": 8,
   "metadata": {},
   "outputs": [],
   "source": [
    "import osmnx as ox"
   ]
  },
  {
   "cell_type": "code",
   "execution_count": 42,
   "metadata": {},
   "outputs": [],
   "source": [
    "g = ox.graph_from_place('Piedmont, California, USA', network_type='drive')"
   ]
  },
  {
   "cell_type": "code",
   "execution_count": 117,
   "metadata": {},
   "outputs": [],
   "source": [
    "nodes, edges = ox.graph_to_gdfs(g)"
   ]
  },
  {
   "cell_type": "code",
   "execution_count": null,
   "metadata": {},
   "outputs": [],
   "source": [
    "mymap = edges.explore(tiles = 'cartodb positron', color='blue', column='lanes', cmap='tab20', legend=True)\n",
    "nodes.explore(m=mymap, color='grey', alpha=0.5)"
   ]
  },
  {
   "cell_type": "markdown",
   "metadata": {},
   "source": [
    "#### Checking uniqueness\n",
    "\n",
    "When checking for uniqueness in uv, it looks like all of these are loops where it would be fine to delete the longer one for the purposes of routing....so that's what we will do."
   ]
  },
  {
   "cell_type": "code",
   "execution_count": null,
   "metadata": {},
   "outputs": [],
   "source": [
    "edges.reset_index(inplace=True)\n",
    "edges.loc[edges.duplicated(subset=['u','v'], keep=False)].sort_values(by=['u','v'])"
   ]
  },
  {
   "cell_type": "code",
   "execution_count": 92,
   "metadata": {},
   "outputs": [],
   "source": [
    "_links_df = edges.reset_index().sort_values('geometry').drop_duplicates(subset=['u','v'], keep='first')"
   ]
  },
  {
   "cell_type": "markdown",
   "metadata": {},
   "source": [
    "### Rename variables"
   ]
  },
  {
   "cell_type": "code",
   "execution_count": 95,
   "metadata": {},
   "outputs": [],
   "source": [
    "rename_cols = {\n",
    "    'u': 'A',\n",
    "    'v': 'B',\n",
    "    'name': 'name',\n",
    "    'geometry': 'geometry',\n",
    "    'lanes': 'lanes',\n",
    "    'highway': 'roadway',\n",
    "    'osmid': 'osm_link_id',\n",
    "}\n",
    "links_df  = _links_df.loc[:, list(rename_cols.keys())].rename(columns=rename_cols)"
   ]
  },
  {
   "cell_type": "markdown",
   "metadata": {},
   "source": [
    "#### Create Variables\n",
    "\n",
    "- Fill in lanes based on a lookup table\n",
    "- Create model_link_id from a hash of A and B"
   ]
  },
  {
   "cell_type": "code",
   "execution_count": 101,
   "metadata": {},
   "outputs": [],
   "source": [
    "def get_min_lane_value(lane):\n",
    "    if isinstance(lane, list):\n",
    "        return min(lane)\n",
    "    return lane\n",
    "\n",
    "links_df['lanes'] = links_df['lanes'].apply(get_min_lane_value)"
   ]
  },
  {
   "cell_type": "code",
   "execution_count": null,
   "metadata": {},
   "outputs": [],
   "source": [
    "links_df['lanes'].value_counts()"
   ]
  },
  {
   "cell_type": "code",
   "execution_count": null,
   "metadata": {},
   "outputs": [],
   "source": [
    "pd.crosstab(links_df['roadway'], links_df['lanes'])"
   ]
  },
  {
   "cell_type": "code",
   "execution_count": 104,
   "metadata": {},
   "outputs": [],
   "source": [
    "lanes_lookup = {\n",
    "    'residential': 1,\n",
    "    'tertiary': 1,\n",
    "    'secondary': 2,\n",
    "    'primary': 2,\n",
    "    'trunk': 2,\n",
    "    'motorway': 3,\n",
    "    'motorway_link': 1,\n",
    "    'primary_link': 1,\n",
    "    'secondary_link': 1,\n",
    "    'tertiary_link': 1,\n",
    "    'trunk_link': 1,\n",
    "    'service': 1,\n",
    "    'unclassified': 1,\n",
    "    'footpath': 0,\n",
    "    'cycleway': 0,\n",
    "    'busway': 1,\n",
    "    'steps': 0,\n",
    "}\n",
    "links_df['lanes'] = links_df['lanes'].fillna(links_df['roadway'].map(lanes_lookup))\n"
   ]
  },
  {
   "cell_type": "code",
   "execution_count": 109,
   "metadata": {},
   "outputs": [],
   "source": [
    "import hashlib\n",
    "\n",
    "def generate_unique_id(row):\n",
    "    unique_string = f\"{row['A']}_{row['B']}\"\n",
    "    return int(hashlib.sha256(unique_string.encode()).hexdigest(), 16) % 10**8\n",
    "\n",
    "links_df['model_link_id'] = links_df.apply(generate_unique_id, axis=1)\n",
    "assert links_df['model_link_id'].is_unique, \"model_link_id values are not unique\""
   ]
  },
  {
   "cell_type": "markdown",
   "metadata": {},
   "source": [
    "### Add access variables\n",
    "Based on roadway type (although the network I pulled from OSM is drive access already)"
   ]
  },
  {
   "cell_type": "code",
   "execution_count": 110,
   "metadata": {},
   "outputs": [],
   "source": [
    "links_df[\"rail_only\"] = links_df.roadway.str.contains(\"rail\")\n",
    "links_df[\"walk_access\"] = links_df.roadway.isin(['footway','path','steps'])\n",
    "links_df[\"bike_access\"] = links_df.roadway.isin(['path','cycleway','service','tertiary','residential'])\n",
    "links_df[\"drive_access\"] = links_df.roadway.isin(['footway','path','steps','cycleway',None])\n",
    "links_df[\"truck_access\"] = links_df[\"drive_access\"]\n"
   ]
  },
  {
   "cell_type": "code",
   "execution_count": null,
   "metadata": {},
   "outputs": [],
   "source": [
    "links_df.explore(tiles = 'CartoDB dark_matter', column='lanes', cmap='viridis', legend=True)"
   ]
  },
  {
   "cell_type": "markdown",
   "metadata": {},
   "source": [
    "This clearly doesn't look right for lanes. I think we should apply the lookup to ALL links, not just NA."
   ]
  },
  {
   "cell_type": "code",
   "execution_count": null,
   "metadata": {},
   "outputs": [],
   "source": [
    "links_df['lanes'] = links_df['roadway'].map(lanes_lookup)\n",
    "links_df.explore(tiles = 'CartoDB dark_matter', column='lanes', cmap='viridis', legend=True)"
   ]
  },
  {
   "cell_type": "code",
   "execution_count": 137,
   "metadata": {},
   "outputs": [],
   "source": [
    "links_df.A = links_df.A.astype(int)\n",
    "links_df.B = links_df.B.astype(int)"
   ]
  },
  {
   "cell_type": "markdown",
   "metadata": {},
   "source": [
    "## Create Nodes"
   ]
  },
  {
   "cell_type": "code",
   "execution_count": null,
   "metadata": {},
   "outputs": [],
   "source": [
    "nodes = nodes.reset_index()\n",
    "nodes['model_node_id'] = nodes.osmid.astype(int)\n",
    "nodes = nodes.rename(columns={'osmid': 'osm_node_id'})\n",
    "nodes.model_node_id.is_unique"
   ]
  },
  {
   "cell_type": "code",
   "execution_count": 151,
   "metadata": {
    "vscode": {
     "languageId": "javascript"
    }
   },
   "outputs": [],
   "source": [
    "column_rename_keep = {\n",
    "    'model_node_id': 'model_node_id',\n",
    "    'osm_node_id': 'osm_node_id',\n",
    "    'x': 'X',\n",
    "    'y': 'Y',\n",
    "    'geometry': 'geometry',\n",
    "}\n",
    "nodes_df = nodes.loc[:, list(column_rename_keep.keys())].rename(columns=column_rename_keep)\n",
    "nodes_df.head()"
   ]
  },
  {
   "cell_type": "markdown",
   "metadata": {},
   "source": [
    "## Import to Network Wrangler"
   ]
  },
  {
   "cell_type": "code",
   "execution_count": 153,
   "metadata": {},
   "outputs": [],
   "source": [
    "from network_wrangler.roadway.links.create import data_to_links_df\n",
    "from network_wrangler.roadway.network import RoadwayNetwork\n",
    "\n",
    "wr_links_df = data_to_links_df(links_df, nodes_df=nodes_df)\n",
    "road_net = RoadwayNetwork(nodes_df=nodes_df, links_df=wr_links_df)\n"
   ]
  }
 ],
 "metadata": {
  "kernelspec": {
   "display_name": "wrangler-dev",
   "language": "python",
   "name": "python3"
  },
  "language_info": {
   "codemirror_mode": {
    "name": "ipython",
    "version": 3
   },
   "file_extension": ".py",
   "mimetype": "text/x-python",
   "name": "python",
   "nbconvert_exporter": "python",
   "pygments_lexer": "ipython3",
   "version": "3.10.15"
  }
 },
 "nbformat": 4,
 "nbformat_minor": 2
}
