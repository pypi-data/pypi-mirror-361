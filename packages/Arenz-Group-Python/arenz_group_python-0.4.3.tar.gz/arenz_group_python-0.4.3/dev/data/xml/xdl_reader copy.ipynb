{
 "cells": [
  {
   "cell_type": "code",
   "execution_count": null,
   "id": "ac6b47f0",
   "metadata": {},
   "outputs": [],
   "source": [
    "import xml.etree.ElementTree as ET\n",
    "\n",
    "f = open(\"SPR-SN161.xdl\", \"r\")\n",
    "xml= f.read()\n",
    "f.close()\n",
    "\n",
    "# vxml = xml.replace('xdl','xml')\n",
    "# xml = xml.replace('2.0.0','1.0')\n",
    "#print(xml)\n"
   ]
  },
  {
   "cell_type": "code",
   "execution_count": null,
   "id": "274610c8",
   "metadata": {},
   "outputs": [
    {
     "name": "stdout",
     "output_type": "stream",
     "text": [
      "<Element 'XDL' at 0x000001A456516E30>\n",
      "File {'last_modified': '2024-08-16 16:29:20 GMT(+02:00)', 'mod_program': 'Spray.exe', 'mod_prog_ver': '13.0.1f2', 'mod_user': 'experiment'}\n",
      "Blueprint {'id': 'Ink_58_Optimization_SN'}\n",
      "Synthesis {}\n",
      "Metadata {}\n",
      "Hardware {}\n",
      "Reagents {}\n",
      "Procedure {}\n"
     ]
    }
   ],
   "source": [
    "tree = ET.fromstring(xml)\n",
    "root = tree.get(\"root\")\n",
    "print(tree)\n",
    "for child in tree:\n",
    "    print(child.tag, child.attrib)\n",
    "syn = tree.find(\"Synthesis\")\n",
    "for child in syn:\n",
    "    print(child.tag, child.attrib)\n",
    "\n",
    "\n"
   ]
  },
  {
   "cell_type": "code",
   "execution_count": null,
   "id": "d9787e5d",
   "metadata": {},
   "outputs": [
    {
     "name": "stdout",
     "output_type": "stream",
     "text": [
      "pt mass: 8.000E-4 g\n",
      "vol_aq: 1.392E-5 l\n",
      "vol_H2O: 8.900E-5 l\n",
      "vol_ISO: 3.810E-4 l\n",
      "TOTAL VOL: 0.00039492\n"
     ]
    }
   ],
   "source": [
    "Reagents  =syn.find(\"Reagents\")\n",
    "vol=0\n",
    "pt_mass =0\n",
    "vol_ISO =0\n",
    "vol_H20 =0 \n",
    "vol_aq =0 \n",
    "\n",
    "for child in Reagents :\n",
    "    #print(child.tag, child.attrib)\n",
    "    q = child.attrib[\"quantity\"]\n",
    "    #if q.find('l')!=-1:\n",
    "    #    vol =vol+ float(q.split()[0])\n",
    "    #    print(vol)\n",
    "    if(child.attrib[\"name\"] == \"TEC10E30E\"):\n",
    "        pt_mass = float(q.split()[0])\n",
    "        print(\"pt mass:\", q)\n",
    "        \n",
    "    if(child.attrib[\"name\"] == \"Aquivion Dispersion D79-25BS\"):\n",
    "        vol_aq = float(q.split()[0])\n",
    "        print(\"vol_aq:\", q)\n",
    "    if(child.attrib[\"id\"] == \"ISOPROPANOL\"):\n",
    "        vol_ISO = float(q.split()[0])\n",
    "        print(\"vol_ISO:\", q)\n",
    "    if(child.attrib[\"id\"] == \"WATER\"):\n",
    "        vol_H2O = float(q.split()[0])\n",
    "        print(\"vol_H2O:\", q)\n",
    "        \n",
    "Reagents  =syn.find(\"Reagents\")\n",
    "print(\"TOTAL VOL:\", vol_ISO+vol_H20+vol_aq)  "
   ]
  },
  {
   "cell_type": "code",
   "execution_count": null,
   "id": "bc0a8ac9",
   "metadata": {},
   "outputs": [
    {
     "name": "stdout",
     "output_type": "stream",
     "text": [
      "Component {'type': 'stock', 'id': 'stock1', 'name': 'Container with stock Ink_58_Optimization_SN', 'role': 'V_Ink_58_Optimization_SN'}\n"
     ]
    }
   ],
   "source": [
    "hardware =syn.find(\"Hardware\")\n",
    "for child in hardware:\n",
    "    print(child.tag, child.attrib)"
   ]
  }
 ],
 "metadata": {
  "kernelspec": {
   "display_name": "Python 3",
   "language": "python",
   "name": "python3"
  },
  "language_info": {
   "codemirror_mode": {
    "name": "ipython",
    "version": 3
   },
   "file_extension": ".py",
   "mimetype": "text/x-python",
   "name": "python",
   "nbconvert_exporter": "python",
   "pygments_lexer": "ipython3",
   "version": "3.11.5"
  }
 },
 "nbformat": 4,
 "nbformat_minor": 5
}
