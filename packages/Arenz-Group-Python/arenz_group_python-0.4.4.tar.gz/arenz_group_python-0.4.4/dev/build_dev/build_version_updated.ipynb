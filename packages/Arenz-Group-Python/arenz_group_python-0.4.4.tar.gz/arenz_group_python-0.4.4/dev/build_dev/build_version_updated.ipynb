{
 "cells": [
  {
   "cell_type": "markdown",
   "metadata": {},
   "source": [
    "#increase version of setup file"
   ]
  },
  {
   "cell_type": "code",
   "execution_count": 1,
   "metadata": {},
   "outputs": [
    {
     "name": "stdout",
     "output_type": "stream",
     "text": [
      "Project Version 0.3.10\n",
      "{'build-system': {'requires': ['hatchling'], 'build-backend': 'hatchling.build'}, 'project': {'name': 'Arenz_Group_Python', 'version': '0.3.9', 'dependencies': ['nptdms', 'matplotlib', 'pathlib', 'scipy', 'numpy', 'pandas', 'EC4py'], 'requires-python': '>=3.11', 'description': 'a pip-installable package with function for Arenz Group', 'readme': 'README.md', 'keywords': ['python', 'arenz group', 'tdms'], 'classifiers': ['Development Status :: 4 - Beta', 'Operating System :: OS Independent', 'Programming Language :: Python'], 'authors': [{'name': 'Gustav Wiberg', 'email': 'gustav.wiberg@unibe.ch'}], 'maintainers': [{'name': 'Gustav Wiberg', 'email': 'gustav.wiberg@unibe.ch'}], 'license': {'file': 'LICENSE'}, 'urls': {'Homepage': 'https://github.com/NanoElectroCatalysis/Arenz_Group_Python', 'Documentation': 'https://nanoelectrocatalysis.github.io/Arenz_Group_Python', 'Repository': 'https://github.com/NanoElectroCatalysis/Arenz_Group_Python', 'Issues': 'https://github.com/NanoElectroCatalysis/Arenz_Group_Python', 'Changelog': 'https://github.com/NanoElectroCatalysis/Arenz_Group_Python'}}, 'tool': {'setuptools': {'packages': {'find': {'where': ['src']}}}}}\n",
      "package file was updated\n"
     ]
    }
   ],
   "source": [
    "#%pip install toml\n",
    "from ver_update import version_updated\n",
    "import re\n",
    "version_updated()\n",
    "\n"
   ]
  },
  {
   "cell_type": "code",
   "execution_count": 2,
   "metadata": {},
   "outputs": [
    {
     "data": {
      "text/plain": [
       "'__version__ = \"project_version\"'"
      ]
     },
     "execution_count": 2,
     "metadata": {},
     "output_type": "execute_result"
    }
   ],
   "source": [
    "a= '__version__ = \"0.3.6\"'\n",
    "re.sub('__version__ = \\\"[0-9.]+\\\"',\"__version__ = \\\"\" + \"project_version\"+\"\\\"\",a)"
   ]
  }
 ],
 "metadata": {
  "kernelspec": {
   "display_name": "Python 3",
   "language": "python",
   "name": "python3"
  },
  "language_info": {
   "codemirror_mode": {
    "name": "ipython",
    "version": 3
   },
   "file_extension": ".py",
   "mimetype": "text/x-python",
   "name": "python",
   "nbconvert_exporter": "python",
   "pygments_lexer": "ipython3",
   "version": "3.11.5"
  }
 },
 "nbformat": 4,
 "nbformat_minor": 2
}
