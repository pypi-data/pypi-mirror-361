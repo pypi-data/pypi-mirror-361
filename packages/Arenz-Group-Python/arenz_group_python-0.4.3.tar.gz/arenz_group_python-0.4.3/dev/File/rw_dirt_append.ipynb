{
 "cells": [
  {
   "cell_type": "code",
   "execution_count": 4,
   "metadata": {},
   "outputs": [],
   "source": [
    "\n",
    "import pandas as pd\n"
   ]
  },
  {
   "cell_type": "code",
   "execution_count": 2,
   "metadata": {},
   "outputs": [],
   "source": [
    "file_name = \"dict_append.cvs\""
   ]
  },
  {
   "cell_type": "code",
   "execution_count": 3,
   "metadata": {},
   "outputs": [],
   "source": [
    "df = pd.DataFrame({'name': ['Raphael', 'Donatello'],\n",
    "                   'mask': ['red', 'purple'],\n",
    "                   'weapon': ['sai', 'bo staff']})\n",
    "df.to_csv(file_name, index=False,sep=\",\")"
   ]
  },
  {
   "cell_type": "code",
   "execution_count": 4,
   "metadata": {},
   "outputs": [
    {
     "data": {
      "text/html": [
       "<div>\n",
       "<style scoped>\n",
       "    .dataframe tbody tr th:only-of-type {\n",
       "        vertical-align: middle;\n",
       "    }\n",
       "\n",
       "    .dataframe tbody tr th {\n",
       "        vertical-align: top;\n",
       "    }\n",
       "\n",
       "    .dataframe thead th {\n",
       "        text-align: right;\n",
       "    }\n",
       "</style>\n",
       "<table border=\"1\" class=\"dataframe\">\n",
       "  <thead>\n",
       "    <tr style=\"text-align: right;\">\n",
       "      <th></th>\n",
       "      <th>name</th>\n",
       "      <th>mask</th>\n",
       "      <th>weapon</th>\n",
       "    </tr>\n",
       "  </thead>\n",
       "  <tbody>\n",
       "    <tr>\n",
       "      <th>0</th>\n",
       "      <td>Raphael</td>\n",
       "      <td>red</td>\n",
       "      <td>sai</td>\n",
       "    </tr>\n",
       "    <tr>\n",
       "      <th>1</th>\n",
       "      <td>Donatello</td>\n",
       "      <td>purple</td>\n",
       "      <td>bo staff</td>\n",
       "    </tr>\n",
       "  </tbody>\n",
       "</table>\n",
       "</div>"
      ],
      "text/plain": [
       "        name    mask    weapon\n",
       "0    Raphael     red       sai\n",
       "1  Donatello  purple  bo staff"
      ]
     },
     "execution_count": 4,
     "metadata": {},
     "output_type": "execute_result"
    }
   ],
   "source": [
    "df_r = pd.read_csv(file_name)\n",
    "df_r\n"
   ]
  },
  {
   "cell_type": "code",
   "execution_count": 5,
   "metadata": {},
   "outputs": [],
   "source": [
    "n = {\"name\" : \"Gustav\", \"mask\" : \"black\", \"weapon\" : \"sword3\" , \"aa\":\"test\"}\n",
    "m =dict()\n",
    "for k,v in n.items():\n",
    "    m[k]= [v]\n",
    "\n",
    "a = pd.DataFrame.from_dict(m)\n",
    "\n",
    "\n"
   ]
  },
  {
   "cell_type": "code",
   "execution_count": 6,
   "metadata": {},
   "outputs": [
    {
     "name": "stdout",
     "output_type": "stream",
     "text": [
      "0      Raphael\n",
      "1    Donatello\n",
      "Name: name, dtype: object\n"
     ]
    }
   ],
   "source": [
    "print(df_r.iloc[:,0])"
   ]
  },
  {
   "cell_type": "code",
   "execution_count": 7,
   "metadata": {},
   "outputs": [
    {
     "name": "stdout",
     "output_type": "stream",
     "text": [
      "False 2\n"
     ]
    }
   ],
   "source": [
    "\n",
    "\n",
    "in_list = False\n",
    "\n",
    "row = 0\n",
    "for keyName in df_r.iloc[:,0]:\n",
    "    if keyName == n[\"name\"]:\n",
    "        print(keyName, \"is in list\")\n",
    "        in_list = True\n",
    "        break\n",
    "    else:\n",
    "        row=row+1\n",
    "print(in_list,row)"
   ]
  },
  {
   "cell_type": "code",
   "execution_count": 8,
   "metadata": {},
   "outputs": [],
   "source": [
    "def append_row(df, row):\n",
    "    row =pd.Series(row)\n",
    "    return pd.concat([\n",
    "                df, \n",
    "                pd.DataFrame([row], columns=row.index)]\n",
    "           ).reset_index(drop=True)\n",
    "\n"
   ]
  },
  {
   "cell_type": "code",
   "execution_count": 9,
   "metadata": {},
   "outputs": [],
   "source": [
    "def add_dict_to_DataFrame(df, n:dict , key=\"name\"):\n",
    "    row = 0\n",
    "    cols = list(df.columns)\n",
    "    keyCol=cols[0]\n",
    "    in_list =False\n",
    "    for keyName in df.iloc[:,0]:\n",
    "        if keyName == n[keyCol]:\n",
    "            print(keyName, \"is in list\")\n",
    "            in_list = True\n",
    "            break\n",
    "        else:\n",
    "            row=row+1\n",
    "    print(in_list,row)\n",
    "    ## add:\n",
    "    if not in_list:\n",
    "        df = append_row(df, n)\n",
    "        print(row)\n",
    "    else:\n",
    "        df_cols =df.columns\n",
    "        for colName in df_cols:\n",
    "            df.at[row,colName] = n[colName]\n",
    "        ex = {\"name\":[n[\"name\"]]}\n",
    "        for k,v in n.items():\n",
    "            if k not in df_cols:\n",
    "                ex[k] = [v]\n",
    "        print(ex)\n",
    "        new_cols_data = pd.DataFrame.from_dict(ex)\n",
    "        print(new_cols_data)\n",
    "        df = df.join(new_cols_data.set_index(keyCol), on=keyCol)\n",
    "    return df"
   ]
  },
  {
   "cell_type": "code",
   "execution_count": 10,
   "metadata": {},
   "outputs": [
    {
     "ename": "NameError",
     "evalue": "name 'fx' is not defined",
     "output_type": "error",
     "traceback": [
      "\u001b[1;31m---------------------------------------------------------------------------\u001b[0m",
      "\u001b[1;31mNameError\u001b[0m                                 Traceback (most recent call last)",
      "Cell \u001b[1;32mIn[10], line 4\u001b[0m\n\u001b[0;32m      1\u001b[0m df_2 \u001b[38;5;241m=\u001b[39m pd\u001b[38;5;241m.\u001b[39mread_csv(file_name)\n\u001b[0;32m      3\u001b[0m n \u001b[38;5;241m=\u001b[39m {\u001b[38;5;124m\"\u001b[39m\u001b[38;5;124mname\u001b[39m\u001b[38;5;124m\"\u001b[39m : \u001b[38;5;124m\"\u001b[39m\u001b[38;5;124mGustav\u001b[39m\u001b[38;5;124m\"\u001b[39m, \u001b[38;5;124m\"\u001b[39m\u001b[38;5;124mmask\u001b[39m\u001b[38;5;124m\"\u001b[39m : \u001b[38;5;124m\"\u001b[39m\u001b[38;5;124mblack\u001b[39m\u001b[38;5;124m\"\u001b[39m, \u001b[38;5;124m\"\u001b[39m\u001b[38;5;124mweapon\u001b[39m\u001b[38;5;124m\"\u001b[39m : \u001b[38;5;124m\"\u001b[39m\u001b[38;5;124msword3\u001b[39m\u001b[38;5;124m\"\u001b[39m , \u001b[38;5;124m\"\u001b[39m\u001b[38;5;124maa\u001b[39m\u001b[38;5;124m\"\u001b[39m:\u001b[38;5;124m\"\u001b[39m\u001b[38;5;124mtest\u001b[39m\u001b[38;5;124m\"\u001b[39m}\n\u001b[1;32m----> 4\u001b[0m df_3 \u001b[38;5;241m=\u001b[39m\u001b[43mfx\u001b[49m(df_2,n)\n\u001b[0;32m      5\u001b[0m df_3\n",
      "\u001b[1;31mNameError\u001b[0m: name 'fx' is not defined"
     ]
    }
   ],
   "source": [
    "df_2 = pd.read_csv(file_name)\n",
    "\n",
    "n = {\"name\" : \"Gustav\", \"mask\" : \"black\", \"weapon\" : \"sword3\" , \"aa\":\"test\"}\n",
    "df_3 =fx(df_2,n)\n",
    "df_3"
   ]
  },
  {
   "cell_type": "code",
   "execution_count": null,
   "metadata": {},
   "outputs": [
    {
     "name": "stdout",
     "output_type": "stream",
     "text": [
      "Gustav is in list\n",
      "True 2\n",
      "{'name': ['Gustav'], 'bb': [43]}\n",
      "     name  bb\n",
      "0  Gustav  43\n"
     ]
    },
    {
     "data": {
      "text/html": [
       "<div>\n",
       "<style scoped>\n",
       "    .dataframe tbody tr th:only-of-type {\n",
       "        vertical-align: middle;\n",
       "    }\n",
       "\n",
       "    .dataframe tbody tr th {\n",
       "        vertical-align: top;\n",
       "    }\n",
       "\n",
       "    .dataframe thead th {\n",
       "        text-align: right;\n",
       "    }\n",
       "</style>\n",
       "<table border=\"1\" class=\"dataframe\">\n",
       "  <thead>\n",
       "    <tr style=\"text-align: right;\">\n",
       "      <th></th>\n",
       "      <th>name</th>\n",
       "      <th>mask</th>\n",
       "      <th>weapon</th>\n",
       "      <th>aa</th>\n",
       "      <th>bb</th>\n",
       "    </tr>\n",
       "  </thead>\n",
       "  <tbody>\n",
       "    <tr>\n",
       "      <th>0</th>\n",
       "      <td>Raphael</td>\n",
       "      <td>red</td>\n",
       "      <td>sai</td>\n",
       "      <td>NaN</td>\n",
       "      <td>NaN</td>\n",
       "    </tr>\n",
       "    <tr>\n",
       "      <th>1</th>\n",
       "      <td>Donatello</td>\n",
       "      <td>purple</td>\n",
       "      <td>bo staff</td>\n",
       "      <td>NaN</td>\n",
       "      <td>NaN</td>\n",
       "    </tr>\n",
       "    <tr>\n",
       "      <th>2</th>\n",
       "      <td>Gustav</td>\n",
       "      <td>black</td>\n",
       "      <td>sword4</td>\n",
       "      <td>test</td>\n",
       "      <td>43.0</td>\n",
       "    </tr>\n",
       "  </tbody>\n",
       "</table>\n",
       "</div>"
      ],
      "text/plain": [
       "        name    mask    weapon    aa    bb\n",
       "0    Raphael     red       sai   NaN   NaN\n",
       "1  Donatello  purple  bo staff   NaN   NaN\n",
       "2     Gustav   black    sword4  test  43.0"
      ]
     },
     "execution_count": 16,
     "metadata": {},
     "output_type": "execute_result"
    }
   ],
   "source": [
    "n = {\"name\" : \"Gustav\", \"mask\" : \"black\", \"weapon\" : \"sword4\" , \"aa\":\"test\",\"bb\":43}\n",
    "df_4 =fx(df_3,n)\n",
    "df_4"
   ]
  },
  {
   "cell_type": "code",
   "execution_count": null,
   "metadata": {},
   "outputs": [
    {
     "name": "stdout",
     "output_type": "stream",
     "text": [
      "2\n"
     ]
    },
    {
     "data": {
      "text/html": [
       "<div>\n",
       "<style scoped>\n",
       "    .dataframe tbody tr th:only-of-type {\n",
       "        vertical-align: middle;\n",
       "    }\n",
       "\n",
       "    .dataframe tbody tr th {\n",
       "        vertical-align: top;\n",
       "    }\n",
       "\n",
       "    .dataframe thead th {\n",
       "        text-align: right;\n",
       "    }\n",
       "</style>\n",
       "<table border=\"1\" class=\"dataframe\">\n",
       "  <thead>\n",
       "    <tr style=\"text-align: right;\">\n",
       "      <th></th>\n",
       "      <th>name</th>\n",
       "      <th>mask</th>\n",
       "      <th>weapon</th>\n",
       "      <th>aa</th>\n",
       "      <th>bb</th>\n",
       "    </tr>\n",
       "  </thead>\n",
       "  <tbody>\n",
       "    <tr>\n",
       "      <th>0</th>\n",
       "      <td>Raphael</td>\n",
       "      <td>red</td>\n",
       "      <td>sai</td>\n",
       "      <td>NaN</td>\n",
       "      <td>NaN</td>\n",
       "    </tr>\n",
       "    <tr>\n",
       "      <th>1</th>\n",
       "      <td>Donatello</td>\n",
       "      <td>purple</td>\n",
       "      <td>bo staff</td>\n",
       "      <td>NaN</td>\n",
       "      <td>NaN</td>\n",
       "    </tr>\n",
       "    <tr>\n",
       "      <th>2</th>\n",
       "      <td>Gustav</td>\n",
       "      <td>black</td>\n",
       "      <td>sword4</td>\n",
       "      <td>test</td>\n",
       "      <td>43.0</td>\n",
       "    </tr>\n",
       "  </tbody>\n",
       "</table>\n",
       "</div>"
      ],
      "text/plain": [
       "        name    mask    weapon    aa    bb\n",
       "0    Raphael     red       sai   NaN   NaN\n",
       "1  Donatello  purple  bo staff   NaN   NaN\n",
       "2     Gustav   black    sword4  test  43.0"
      ]
     },
     "execution_count": 12,
     "metadata": {},
     "output_type": "execute_result"
    }
   ],
   "source": [
    "\n",
    "if not in_list:\n",
    "    df_r = append_row(df_r, n)\n",
    "    print(row)\n",
    "else:\n",
    "    for colName in df_r.columns:\n",
    "        df_r.at[row,colName] = n[colName]\n",
    "\n",
    "    pass\n",
    "#df_r.replace(n, 100)\n",
    "df_r"
   ]
  },
  {
   "cell_type": "code",
   "execution_count": null,
   "metadata": {},
   "outputs": [
    {
     "name": "stdout",
     "output_type": "stream",
     "text": [
      "1\n",
      "{'name': ['Gustav']}\n",
      "aa\n",
      "aa\n"
     ]
    },
    {
     "data": {
      "text/html": [
       "<div>\n",
       "<style scoped>\n",
       "    .dataframe tbody tr th:only-of-type {\n",
       "        vertical-align: middle;\n",
       "    }\n",
       "\n",
       "    .dataframe tbody tr th {\n",
       "        vertical-align: top;\n",
       "    }\n",
       "\n",
       "    .dataframe thead th {\n",
       "        text-align: right;\n",
       "    }\n",
       "</style>\n",
       "<table border=\"1\" class=\"dataframe\">\n",
       "  <thead>\n",
       "    <tr style=\"text-align: right;\">\n",
       "      <th></th>\n",
       "      <th>name</th>\n",
       "    </tr>\n",
       "  </thead>\n",
       "  <tbody>\n",
       "    <tr>\n",
       "      <th>0</th>\n",
       "      <td>Gustav</td>\n",
       "    </tr>\n",
       "  </tbody>\n",
       "</table>\n",
       "</div>"
      ],
      "text/plain": [
       "     name\n",
       "0  Gustav"
      ]
     },
     "execution_count": 13,
     "metadata": {},
     "output_type": "execute_result"
    }
   ],
   "source": [
    "row_values = list()\n",
    "b = list ()\n",
    "print(df.index.max())\n",
    "for k in df_r.columns:\n",
    "    row_values.append(n[k])\n",
    "    \n",
    "ex = {\"name\":[n[\"name\"]]}\n",
    "for k,v in n.items():\n",
    "    if k not in df_r.columns:\n",
    "        b.append(k)\n",
    "        ex[k] = [v]\n",
    "print(ex)\n",
    "\n",
    "a = pd.DataFrame.from_dict(ex)\n",
    "s = pd.Series(ex)\n",
    "df_r.loc[df.index.max()+1] = row_values\n",
    "print(\"aa\")\n",
    "df_r.join(a.set_index('name'), on=\"name\")\n",
    "print(\"aa\")\n",
    "df_r\n",
    "a"
   ]
  },
  {
   "cell_type": "code",
   "execution_count": 28,
   "metadata": {},
   "outputs": [
    {
     "name": "stdout",
     "output_type": "stream",
     "text": [
      "name object Gustav  no\n",
      "name object Gustav3  no\n",
      "name object sample  no\n",
      "mask object black  no\n",
      "mask object black  no\n",
      "mask object nan fdsfsa nan  YES\n",
      "aa object test  no\n",
      "aa object test  no\n",
      "aa object nan fdsfsa nan  YES\n",
      "weapon object fvdf  no\n",
      "weapon object fvdf  no\n",
      "weapon object nan fdsfsa nan  YES\n",
      "b object nan fdsfsa nan  YES\n",
      "b object nan fdsfsa nan  YES\n",
      "b object aved  no\n",
      "c object nan fdsfsa nan  YES\n",
      "c object nan fdsfsa nan  YES\n",
      "c object dfe  no\n",
      "e object nan fdsfsa nan  YES\n",
      "e object nan fdsfsa nan  YES\n",
      "e object 2.300e+01 nm fdsfsa 2.300e+01 nm YES\n",
      "f object nan fdsfsa nan  YES\n",
      "f object nan fdsfsa nan  YES\n",
      "f object afd fefe efe  no\n"
     ]
    },
    {
     "name": "stderr",
     "output_type": "stream",
     "text": [
      "C:\\Users\\gustav.wiberg\\AppData\\Local\\Temp\\ipykernel_31496\\3971294775.py:13: SettingWithCopyWarning: \n",
      "A value is trying to be set on a copy of a slice from a DataFrame\n",
      "\n",
      "See the caveats in the documentation: https://pandas.pydata.org/pandas-docs/stable/user_guide/indexing.html#returning-a-view-versus-a-copy\n",
      "  df.iloc[i][col]=Q(o)\n"
     ]
    },
    {
     "data": {
      "text/html": [
       "<div>\n",
       "<style scoped>\n",
       "    .dataframe tbody tr th:only-of-type {\n",
       "        vertical-align: middle;\n",
       "    }\n",
       "\n",
       "    .dataframe tbody tr th {\n",
       "        vertical-align: top;\n",
       "    }\n",
       "\n",
       "    .dataframe thead th {\n",
       "        text-align: right;\n",
       "    }\n",
       "</style>\n",
       "<table border=\"1\" class=\"dataframe\">\n",
       "  <thead>\n",
       "    <tr style=\"text-align: right;\">\n",
       "      <th></th>\n",
       "      <th>name</th>\n",
       "      <th>mask</th>\n",
       "      <th>aa</th>\n",
       "      <th>bb</th>\n",
       "      <th>weapon</th>\n",
       "      <th>agftfgtr</th>\n",
       "      <th>b</th>\n",
       "      <th>c</th>\n",
       "      <th>d</th>\n",
       "      <th>e</th>\n",
       "      <th>f</th>\n",
       "    </tr>\n",
       "  </thead>\n",
       "  <tbody>\n",
       "    <tr>\n",
       "      <th>0</th>\n",
       "      <td>Gustav</td>\n",
       "      <td>black</td>\n",
       "      <td>test</td>\n",
       "      <td>48.0</td>\n",
       "      <td>fvdf</td>\n",
       "      <td>NaN</td>\n",
       "      <td>NaN</td>\n",
       "      <td>NaN</td>\n",
       "      <td>NaN</td>\n",
       "      <td>NaN</td>\n",
       "      <td>NaN</td>\n",
       "    </tr>\n",
       "    <tr>\n",
       "      <th>1</th>\n",
       "      <td>Gustav3</td>\n",
       "      <td>black</td>\n",
       "      <td>test</td>\n",
       "      <td>48.0</td>\n",
       "      <td>fvdf</td>\n",
       "      <td>NaN</td>\n",
       "      <td>NaN</td>\n",
       "      <td>NaN</td>\n",
       "      <td>NaN</td>\n",
       "      <td>NaN</td>\n",
       "      <td>NaN</td>\n",
       "    </tr>\n",
       "    <tr>\n",
       "      <th>2</th>\n",
       "      <td>sample</td>\n",
       "      <td>NaN</td>\n",
       "      <td>NaN</td>\n",
       "      <td>NaN</td>\n",
       "      <td>NaN</td>\n",
       "      <td>45.0</td>\n",
       "      <td>aved</td>\n",
       "      <td>dfe</td>\n",
       "      <td>23.0</td>\n",
       "      <td>2.300e+01 nm</td>\n",
       "      <td>afd fefe efe</td>\n",
       "    </tr>\n",
       "    <tr>\n",
       "      <th>3</th>\n",
       "      <td>Gustav4</td>\n",
       "      <td>black</td>\n",
       "      <td>test</td>\n",
       "      <td>48.0</td>\n",
       "      <td>fvdf</td>\n",
       "      <td>NaN</td>\n",
       "      <td>NaN</td>\n",
       "      <td>NaN</td>\n",
       "      <td>NaN</td>\n",
       "      <td>NaN</td>\n",
       "      <td>NaN</td>\n",
       "    </tr>\n",
       "  </tbody>\n",
       "</table>\n",
       "</div>"
      ],
      "text/plain": [
       "      name   mask    aa    bb weapon  agftfgtr     b    c     d             e  \\\n",
       "0   Gustav  black  test  48.0   fvdf       NaN   NaN  NaN   NaN           NaN   \n",
       "1  Gustav3  black  test  48.0   fvdf       NaN   NaN  NaN   NaN           NaN   \n",
       "2   sample    NaN   NaN   NaN    NaN      45.0  aved  dfe  23.0  2.300e+01 nm   \n",
       "3  Gustav4  black  test  48.0   fvdf       NaN   NaN  NaN   NaN           NaN   \n",
       "\n",
       "              f  \n",
       "0           NaN  \n",
       "1           NaN  \n",
       "2  afd fefe efe  \n",
       "3           NaN  "
      ]
     },
     "execution_count": 28,
     "metadata": {},
     "output_type": "execute_result"
    }
   ],
   "source": [
    "from arenz_group_python.file.file_dict import save_dict_to_tableFile, open_dict_from_file\n",
    "from arenz_group_python import Quantity_Value_Unit as Q\n",
    "\n",
    "import pandas as pd\n",
    "df = pd.read_csv(\"a.csv\")\n",
    "for col in df.columns:\n",
    "    #print(df[col].dtypes)\n",
    "    for i in range(df.index.max()):\n",
    "        o = df.iloc[i][col]\n",
    "        if df[col].dtypes == \"object\":\n",
    "            try:\n",
    "                print(col, df[col].dtypes,o,\"fdsfsa\",Q(o), \"YES\")\n",
    "                df.iloc[i][col]=Q(o)\n",
    "            except:\n",
    "                print(col,df[col].dtypes,o,\"\", \"no\")\n",
    "df            \n",
    "\n",
    "    "
   ]
  },
  {
   "cell_type": "code",
   "execution_count": 5,
   "metadata": {},
   "outputs": [
    {
     "name": "stdout",
     "output_type": "stream",
     "text": [
      "Gustav was already in the list: updating\n",
      "Gustav3 was already in the list: updating\n",
      "sample was already in the list: updating\n",
      "Gustav4 was already in the list: updating\n"
     ]
    }
   ],
   "source": [
    "from arenz_group_python.file.file_dict import save_dict_to_tableFile, open_dict_from_file\n",
    "n = {\"name\" : \"Gustav\", \"mask\" : \"black\",  \"aa\":\"test\",\"bb\":48, \"weapon\":\"fvdf\"}\n",
    "save_dict_to_tableFile(\"a.csv\",\"Gustav\", n)\n",
    "n = {\"name\" : \"Gustav3\", \"mask\" : \"black\",  \"aa\":\"test\",\"bb\":48, \"weapon\":\"fvdf\"}\n",
    "save_dict_to_tableFile(\"a.csv\",\"Gustav3\", n)\n",
    "\n",
    "\n",
    "kw2= open_dict_from_file(\"dict.txt\")\n",
    "save_dict_to_tableFile(\"a.csv\",\"sample\",kw2)\n",
    "n = {\"name\" : \"Gustav4\", \"mask\" : \"black\",  \"aa\":\"test\",\"bb\":48, \"weapon\":\"fvdf\"}\n",
    "save_dict_to_tableFile(\"a.csv\",\"Gustav4\", n)"
   ]
  },
  {
   "cell_type": "code",
   "execution_count": null,
   "metadata": {},
   "outputs": [
    {
     "ename": "NameError",
     "evalue": "name 'newRow' is not defined",
     "output_type": "error",
     "traceback": [
      "\u001b[1;31m---------------------------------------------------------------------------\u001b[0m",
      "\u001b[1;31mNameError\u001b[0m                                 Traceback (most recent call last)",
      "Cell \u001b[1;32mIn[14], line 1\u001b[0m\n\u001b[1;32m----> 1\u001b[0m d2\u001b[38;5;241m=\u001b[39mdf_r\u001b[38;5;241m.\u001b[39mjoin(\u001b[43mnewRow\u001b[49m\u001b[38;5;241m.\u001b[39mset_index(\u001b[38;5;124m'\u001b[39m\u001b[38;5;124mname\u001b[39m\u001b[38;5;124m'\u001b[39m), on\u001b[38;5;241m=\u001b[39m\u001b[38;5;124m\"\u001b[39m\u001b[38;5;124mname\u001b[39m\u001b[38;5;124m\"\u001b[39m,validate\u001b[38;5;241m=\u001b[39m\u001b[38;5;124m\"\u001b[39m\u001b[38;5;124mm:1\u001b[39m\u001b[38;5;124m\"\u001b[39m)\n\u001b[0;32m      2\u001b[0m \u001b[38;5;28mprint\u001b[39m(\u001b[38;5;124m\"\u001b[39m\u001b[38;5;124maa\u001b[39m\u001b[38;5;124m\"\u001b[39m)\n\u001b[0;32m      3\u001b[0m d2\n",
      "\u001b[1;31mNameError\u001b[0m: name 'newRow' is not defined"
     ]
    }
   ],
   "source": [
    "d2=df_r.join(newRow.set_index('name'), on=\"name\",validate=\"m:1\")\n",
    "print(\"aa\")\n",
    "d2"
   ]
  },
  {
   "cell_type": "code",
   "execution_count": null,
   "metadata": {},
   "outputs": [],
   "source": [
    "#Creating the first Dataframe using dictionary\n",
    "df1 = df = pd.DataFrame({\"a\":[1, 2, 3, 4],\n",
    "                        \"B\":[5, 6, 7, 8]})\n",
    "\n",
    "# Creating the Second Dataframe using dictionary\n",
    "df2 = pd.DataFrame({\"a\":[1, 2, 3],\n",
    "                    \"b\":[5, 6, 7]})\n",
    "\n",
    "df.loc[df.index.max() + 1]\n",
    "\n",
    "# Print df1\n",
    "print(\"Printing df1\")\n",
    "print(df1, \"\\n\")\n",
    "\n",
    "# Print df2\n",
    "print(\"Printing df2\")\n",
    "df2\n",
    "df3= df1.join(df2.set_index('a'))\n",
    "\n",
    "df3"
   ]
  },
  {
   "cell_type": "code",
   "execution_count": null,
   "metadata": {},
   "outputs": [],
   "source": [
    "other = pd.DataFrame({'a': ['K0', 'K1', 'K2','K8'],\n",
    "                      'B': ['B0', 'B1', 'B2','B4']})\n",
    "df = pd.DataFrame({'a': ['K0', 'K1', 'K1', 'K3', 'K0', 'K1'],\n",
    "                   'A': ['A0', 'A1', 'A2', 'A3', 'A4', 'A5']})\n",
    "df.join(other.set_index('a'), on='a',validate=\"m:1\")"
   ]
  }
 ],
 "metadata": {
  "kernelspec": {
   "display_name": ".venv",
   "language": "python",
   "name": "python3"
  },
  "language_info": {
   "codemirror_mode": {
    "name": "ipython",
    "version": 3
   },
   "file_extension": ".py",
   "mimetype": "text/x-python",
   "name": "python",
   "nbconvert_exporter": "python",
   "pygments_lexer": "ipython3",
   "version": "3.11.9"
  }
 },
 "nbformat": 4,
 "nbformat_minor": 2
}
