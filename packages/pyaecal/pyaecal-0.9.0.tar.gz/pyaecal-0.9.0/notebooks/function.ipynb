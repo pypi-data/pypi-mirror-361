{
 "cells": [
  {
   "cell_type": "code",
   "execution_count": 1,
   "id": "d4f2c961",
   "metadata": {},
   "outputs": [],
   "source": [
    "import logging\n",
    "import warnings\n",
    "import os\n",
    "import sys\n",
    "module_path = os.path.abspath(os.path.join('..'))\n",
    "if module_path not in sys.path:\n",
    "    sys.path.append(module_path)\n",
    "\n",
    "warnings.filterwarnings(\"ignore\")\n",
    "\n",
    "logging.basicConfig(stream=sys.stdout, level=logging.INFO)"
   ]
  },
  {
   "cell_type": "code",
   "execution_count": null,
   "id": "790834a6",
   "metadata": {},
   "outputs": [
    {
     "name": "stdout",
     "output_type": "stream",
     "text": [
      "INFO:root:n not in file ./data/ASAP2_Demo_V171.mf4\n",
      "INFO:root:n not in file ./data/ASAP2_Demo_V171.mf4\n",
      "INFO:root:n not in file ./data/J19139_20250515_130747.mf4\n",
      "INFO:root:n not in file ./data/J19139_20250515_123633.mf4\n",
      "INFO:root:n not in file ./data/J19139_20250515_131528.mf4\n"
     ]
    }
   ],
   "source": [
    "from src.pyaecal.function import Function\n",
    "fn = Function()"
   ]
  },
  {
   "cell_type": "code",
   "execution_count": 3,
   "id": "7f553674",
   "metadata": {},
   "outputs": [],
   "source": [
    "fn.add_channel('n_Eng','n')\n",
    "fn.add_channel('T_Eng_curr','tq')\n",
    "fn.add_channel('State_shift_spd','spd')"
   ]
  },
  {
   "cell_type": "code",
   "execution_count": 4,
   "id": "3013d111",
   "metadata": {},
   "outputs": [
    {
     "name": "stdout",
     "output_type": "stream",
     "text": [
      "INFO:root:n not in file ./data/J19139_20250515_130747.mf4\n",
      "INFO:root:n not in file ./data/J19139_20250515_123633.mf4\n",
      "INFO:root:n not in file ./data/J19139_20250515_131528.mf4\n"
     ]
    },
    {
     "data": {
      "text/plain": [
       "{}"
      ]
     },
     "execution_count": 4,
     "metadata": {},
     "output_type": "execute_result"
    }
   ],
   "source": [
    "fn.add_directory('./data')\n",
    "fn.process()"
   ]
  },
  {
   "cell_type": "code",
   "execution_count": 5,
   "id": "f6819e6c",
   "metadata": {},
   "outputs": [],
   "source": [
    "files, data = fn.start()"
   ]
  },
  {
   "cell_type": "code",
   "execution_count": 6,
   "id": "95c1727c",
   "metadata": {},
   "outputs": [
    {
     "data": {
      "text/plain": [
       "3"
      ]
     },
     "execution_count": 6,
     "metadata": {},
     "output_type": "execute_result"
    }
   ],
   "source": [
    "fn.add_directory('./data')\n",
    "fn.files.qsize()"
   ]
  },
  {
   "cell_type": "code",
   "execution_count": 7,
   "id": "bbc7bb7e",
   "metadata": {},
   "outputs": [],
   "source": [
    "for data in fn:\n",
    "    print(data)"
   ]
  },
  {
   "cell_type": "code",
   "execution_count": 8,
   "id": "ecaeaf1f",
   "metadata": {},
   "outputs": [],
   "source": [
    "import polars as pl\n",
    "\n",
    "class Test(Function):\n",
    "    def __init__(self, dataset=...):\n",
    "        super().__init__(dataset)\n",
    "\n",
    "    def evaluate(self, data):\n",
    "        data=data.with_columns((pl.col(\"n\")+1).alias(\"n+1\"))\n",
    "        return super().evaluate(data)"
   ]
  },
  {
   "cell_type": "code",
   "execution_count": null,
   "id": "3e986e02",
   "metadata": {},
   "outputs": [
    {
     "name": "stdout",
     "output_type": "stream",
     "text": [
      "ERROR:root:Error processing ./data/DEMO_AT.mdf: Can not find file ./data/DEMO_AT.mdf\n"
     ]
    },
    {
     "name": "stdout",
     "output_type": "stream",
     "text": [
      "INFO:root:n not in file ./data/ASAP2_Demo_V171.mf4\n",
      "INFO:root:n not in file ./data/J19139_20250515_130747.mf4\n",
      "INFO:root:n not in file ./data/J19139_20250515_123633.mf4\n",
      "INFO:root:n not in file ./data/J19139_20250515_131528.mf4\n"
     ]
    }
   ],
   "source": [
    "test= Test()\n",
    "test.add_channel('n_Eng','n')\n",
    "test.add_channel('T_Eng_curr','tq')\n",
    "test.get_data('./data/DEMO_AT.mdf')"
   ]
  },
  {
   "cell_type": "code",
   "execution_count": 10,
   "id": "4e69092d",
   "metadata": {},
   "outputs": [],
   "source": [
    "files, data = test.start()\n",
    "test.add_directory('./data')\n"
   ]
  },
  {
   "cell_type": "code",
   "execution_count": 11,
   "id": "024e2b8b",
   "metadata": {},
   "outputs": [],
   "source": [
    "for data in test:\n",
    "    print(data)"
   ]
  }
 ],
 "metadata": {
  "kernelspec": {
   "display_name": ".venv",
   "language": "python",
   "name": "python3"
  },
  "language_info": {
   "codemirror_mode": {
    "name": "ipython",
    "version": 3
   },
   "file_extension": ".py",
   "mimetype": "text/x-python",
   "name": "python",
   "nbconvert_exporter": "python",
   "pygments_lexer": "ipython3",
   "version": "3.13.3"
  }
 },
 "nbformat": 4,
 "nbformat_minor": 5
}
