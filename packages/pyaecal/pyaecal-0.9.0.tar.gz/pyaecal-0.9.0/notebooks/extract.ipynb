{
 "cells": [
  {
   "cell_type": "code",
   "execution_count": 1,
   "metadata": {},
   "outputs": [],
   "source": [
    "import logging\n",
    "import warnings\n",
    "import os\n",
    "import sys\n",
    "module_path = os.path.abspath(os.path.join('..'))\n",
    "if module_path not in sys.path:\n",
    "    sys.path.append(module_path)\n",
    "\n",
    "warnings.filterwarnings(\"ignore\")\n",
    "\n",
    "logging.basicConfig(stream=sys.stdout, level=logging.INFO)"
   ]
  },
  {
   "cell_type": "code",
   "execution_count": 2,
   "metadata": {},
   "outputs": [],
   "source": [
    "from src.pyaecal.extract import Extract\n",
    "extract = Extract()"
   ]
  },
  {
   "cell_type": "code",
   "execution_count": 3,
   "metadata": {},
   "outputs": [],
   "source": [
    "extract.add_channel('motorSpeed','n')\n",
    "extract.add_channel('motorTorqueEstimated','tq')\n",
    "extract.add_channel('transRequestGear','reqGear')\n",
    "extract.add_channel('transCurrentGear','curGear')\n",
    "\n",
    "#extract.add_channel('gmea_s_tcuTrnsShiftInProcess_B','sip', optional=True)"
   ]
  },
  {
   "cell_type": "code",
   "execution_count": 4,
   "metadata": {},
   "outputs": [
    {
     "name": "stdout",
     "output_type": "stream",
     "text": [
      "ERROR:root:Error processing ./data/Dana_20250515_130747.mf4: Can not find file ./data/Dana_20250515_130747.mf4\n"
     ]
    }
   ],
   "source": [
    "# standard extract\n",
    "extract.get_data('./data/Dana_20250515_130747.mf4')"
   ]
  },
  {
   "cell_type": "code",
   "execution_count": 5,
   "metadata": {},
   "outputs": [
    {
     "name": "stdout",
     "output_type": "stream",
     "text": [
      "INFO:root:n not in file ./data/ASAP2_Demo_V171.mf4\n",
      "INFO:root:./data/J19139_20250515_130747.mf4: 360463 rows\n",
      "INFO:root:./data/J19139_20250515_123633.mf4: 91608 rows\n",
      "INFO:root:./data/J19139_20250515_131528.mf4: 62339 rows\n"
     ]
    }
   ],
   "source": [
    "extract.add_directory('./data')\n",
    "res = extract.extract()"
   ]
  },
  {
   "cell_type": "code",
   "execution_count": 6,
   "metadata": {},
   "outputs": [],
   "source": [
    "# start thread\n",
    "files, data = extract.start()"
   ]
  },
  {
   "cell_type": "code",
   "execution_count": 7,
   "metadata": {},
   "outputs": [],
   "source": [
    "extract.add_directory('./data')"
   ]
  },
  {
   "cell_type": "code",
   "execution_count": 8,
   "metadata": {},
   "outputs": [
    {
     "name": "stdout",
     "output_type": "stream",
     "text": [
      "INFO:root:n not in file ./data/ASAP2_Demo_V171.mf4\n",
      "INFO:root:./data/J19139_20250515_130747.mf4: 360463 rows\n",
      "INFO:root:./data/J19139_20250515_123633.mf4: 91608 rows\n",
      "INFO:root:./data/J19139_20250515_131528.mf4: 62339 rows\n",
      "('ASAP2_Demo_V171', shape: (0, 0)\n",
      "┌┐\n",
      "╞╡\n",
      "└┘)\n",
      "('J19139_20250515_130747', shape: (360_463, 5)\n",
      "┌─────────────┬─────┬───────┬─────────┬─────────┐\n",
      "│ offset      ┆ n   ┆ tq    ┆ reqGear ┆ curGear │\n",
      "│ ---         ┆ --- ┆ ---   ┆ ---     ┆ ---     │\n",
      "│ f64         ┆ f64 ┆ u16   ┆ u8      ┆ u8      │\n",
      "╞═════════════╪═════╪═══════╪═════════╪═════════╡\n",
      "│ 0.143266    ┆ 0.0 ┆ null  ┆ null    ┆ null    │\n",
      "│ 0.147318    ┆ 0.0 ┆ null  ┆ null    ┆ 127     │\n",
      "│ 0.147594    ┆ 0.0 ┆ 32500 ┆ null    ┆ 127     │\n",
      "│ 0.153234    ┆ 0.0 ┆ 32500 ┆ null    ┆ 127     │\n",
      "│ 0.156911    ┆ 0.0 ┆ 32500 ┆ null    ┆ 127     │\n",
      "│ …           ┆ …   ┆ …     ┆ …       ┆ …       │\n",
      "│ 1699.508441 ┆ 0.0 ┆ 32500 ┆ 126     ┆ 126     │\n",
      "│ 1699.514436 ┆ 0.0 ┆ 32500 ┆ 126     ┆ 126     │\n",
      "│ 1699.518446 ┆ 0.0 ┆ 32500 ┆ 126     ┆ 126     │\n",
      "│ 1699.524448 ┆ 0.0 ┆ 32500 ┆ 126     ┆ 126     │\n",
      "│ 1699.528442 ┆ 0.0 ┆ 32500 ┆ 126     ┆ 126     │\n",
      "└─────────────┴─────┴───────┴─────────┴─────────┘)\n",
      "('J19139_20250515_123633', shape: (91_608, 5)\n",
      "┌────────────┬──────┬───────┬─────────┬─────────┐\n",
      "│ offset     ┆ n    ┆ tq    ┆ reqGear ┆ curGear │\n",
      "│ ---        ┆ ---  ┆ ---   ┆ ---     ┆ ---     │\n",
      "│ f64        ┆ f64  ┆ u16   ┆ u8      ┆ u8      │\n",
      "╞════════════╪══════╪═══════╪═════════╪═════════╡\n",
      "│ 0.002279   ┆ null ┆ 32500 ┆ null    ┆ null    │\n",
      "│ 0.007292   ┆ 0.0  ┆ 32500 ┆ null    ┆ null    │\n",
      "│ 0.008495   ┆ 0.0  ┆ 32500 ┆ null    ┆ 127     │\n",
      "│ 0.01228    ┆ 0.0  ┆ 32500 ┆ null    ┆ 127     │\n",
      "│ 0.017287   ┆ 0.0  ┆ 32500 ┆ null    ┆ 127     │\n",
      "│ …          ┆ …    ┆ …     ┆ …       ┆ …       │\n",
      "│ 436.636361 ┆ 0.0  ┆ 32500 ┆ 126     ┆ 126     │\n",
      "│ 436.642365 ┆ 0.0  ┆ 32500 ┆ 126     ┆ 126     │\n",
      "│ 436.646358 ┆ 0.0  ┆ 32500 ┆ 126     ┆ 126     │\n",
      "│ 436.652374 ┆ 0.0  ┆ 32500 ┆ 126     ┆ 126     │\n",
      "│ 436.65636  ┆ 0.0  ┆ 32500 ┆ 126     ┆ 126     │\n",
      "└────────────┴──────┴───────┴─────────┴─────────┘)\n",
      "('J19139_20250515_131528', shape: (62_339, 5)\n",
      "┌────────────┬───────┬───────┬─────────┬─────────┐\n",
      "│ offset     ┆ n     ┆ tq    ┆ reqGear ┆ curGear │\n",
      "│ ---        ┆ ---   ┆ ---   ┆ ---     ┆ ---     │\n",
      "│ f64        ┆ f64   ┆ u16   ┆ u8      ┆ u8      │\n",
      "╞════════════╪═══════╪═══════╪═════════╪═════════╡\n",
      "│ 0.140125   ┆ null  ┆ 32562 ┆ null    ┆ null    │\n",
      "│ 0.146125   ┆ 599.0 ┆ 32562 ┆ null    ┆ null    │\n",
      "│ 0.15013    ┆ 599.0 ┆ 32563 ┆ null    ┆ null    │\n",
      "│ 0.156121   ┆ 600.0 ┆ 32563 ┆ null    ┆ null    │\n",
      "│ 0.160127   ┆ 600.0 ┆ 32563 ┆ null    ┆ null    │\n",
      "│ …          ┆ …     ┆ …     ┆ …       ┆ …       │\n",
      "│ 292.336292 ┆ 0.0   ┆ 32500 ┆ 126     ┆ 126     │\n",
      "│ 292.340307 ┆ 0.0   ┆ 32500 ┆ 126     ┆ 126     │\n",
      "│ 292.346296 ┆ 0.0   ┆ 32500 ┆ 126     ┆ 126     │\n",
      "│ 292.350297 ┆ 0.0   ┆ 32500 ┆ 126     ┆ 126     │\n",
      "│ 292.351984 ┆ 0.0   ┆ 32500 ┆ 126     ┆ 126     │\n",
      "└────────────┴───────┴───────┴─────────┴─────────┘)\n"
     ]
    }
   ],
   "source": [
    "for data in extract:\n",
    "    print(data)"
   ]
  }
 ],
 "metadata": {
  "kernelspec": {
   "display_name": ".venv",
   "language": "python",
   "name": "python3"
  },
  "language_info": {
   "codemirror_mode": {
    "name": "ipython",
    "version": 3
   },
   "file_extension": ".py",
   "mimetype": "text/x-python",
   "name": "python",
   "nbconvert_exporter": "python",
   "pygments_lexer": "ipython3",
   "version": "3.13.3"
  }
 },
 "nbformat": 4,
 "nbformat_minor": 2
}
