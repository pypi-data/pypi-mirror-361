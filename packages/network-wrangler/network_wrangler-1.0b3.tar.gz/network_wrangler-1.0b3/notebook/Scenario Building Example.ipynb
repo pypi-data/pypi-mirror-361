{
 "cells": [
  {
   "attachments": {},
   "cell_type": "markdown",
   "metadata": {},
   "source": [
    "# Scenario Building\n",
    "The purpose of this notebook is to understand the various methods that Network Wrangler can use to define and build scenarios.\n",
    "\n",
    "The basic steps are:\n",
    "\n",
    "1. Define base scenario (networks, projects)\n",
    "2. Specify projects to add\n",
    "3. Build the scenario\n",
    "\n",
    "This notebook shows how this process can be used to build scenario upon scenario. "
   ]
  },
  {
   "cell_type": "code",
   "execution_count": 1,
   "metadata": {},
   "outputs": [],
   "source": [
    "import warnings\n",
    "from pathlib import Path\n",
    "import pandas as pd\n",
    "from network_wrangler import load_roadway_from_dir, load_transit\n",
    "\n",
    "%config IPCompleter.greedy=True\n",
    "pd.set_option(\"display.max_columns\", None)\n",
    "warnings.filterwarnings(\"ignore\")"
   ]
  },
  {
   "attachments": {},
   "cell_type": "markdown",
   "metadata": {},
   "source": [
    "## Define Base Scenario\n",
    "\n",
    "A base scenario is at a minimum a `RoadwayNetwork` and `TransitNetwork`, defined with a dictionary."
   ]
  },
  {
   "cell_type": "code",
   "execution_count": 2,
   "metadata": {},
   "outputs": [
    {
     "name": "stderr",
     "output_type": "stream",
     "text": [
      "Skipping field outboundReferenceIds: unsupported OGR type: 5\n",
      "Skipping field inboundReferenceIds: unsupported OGR type: 5\n"
     ]
    }
   ],
   "source": [
    "STPAUL_DIR = Path.cwd().parent / \"examples\" / \"stpaul\"\n",
    "road_net = load_roadway_from_dir(STPAUL_DIR)\n",
    "transit_net = load_transit(STPAUL_DIR)\n",
    "base_scenario = {\n",
    "    \"road_net\": road_net,\n",
    "    \"transit_net\": transit_net,\n",
    "}"
   ]
  },
  {
   "attachments": {},
   "cell_type": "markdown",
   "metadata": {},
   "source": [
    "## Define \"Future No Build\" Scenario\n",
    "\n",
    "In this case, we will create a future no-build scenario based on all projects in a directory with a certain filename pattern using the `glob_search` feature, but this could also be baed on a tag or whatever."
   ]
  },
  {
   "cell_type": "code",
   "execution_count": 3,
   "metadata": {},
   "outputs": [
    {
     "name": "stderr",
     "output_type": "stream",
     "text": [
      "Base_scenario doesn't contain ['road_net', 'transit_net', 'applied_projects', 'conflicts']\n",
      "Creating a deep copy of db object.            This will NOT update any references (e.g. from TransitNetwork)\n",
      "---- Error validating Widen Minnehaha Pkwy ----\n",
      "\n",
      "Relevant schema: {'$schema': 'http://json-schema.org/draft-07/schema', 'description': 'requirements for describing links in the `facility` section of a project card.', 'type': 'object', 'title': 'Roadway link selection', 'required': ['ignore_missing'], 'oneOf': [{'required': ['name']}, {'required': ['ref']}, {'required': ['osm_link_id']}, {'required': ['model_link_id']}, {'required': ['all']}], 'additionalProperties': True, 'not': {'anyOf': [{'required': ['from']}, {'required': ['to']}]}, 'examples': [{'name': ['Main St'], 'modes': ['drive']}, {'osm_link_id': ['123456789']}, {'model_link_id': [123456789], 'modes': ['walk']}, {'all': 'True', 'modes': ['transit']}], 'properties': {'all': {'enum': ['True', 'False']}, 'name': {'type': 'array', 'minItems': 1, 'items': {'type': 'string', 'examples': ['Elm Street', 'Raleigh Beltline', 'Capital Beltway', '3rd St,Willie Mays Blvd'], 'description': 'Name of Roadway facility. If multiple, can be contatenated with a comma.'}}, 'ref': {'type': 'array', 'minItems': 1, 'items': {'type': 'string', 'examples': ['I-40', 'US66', 'WA520'], 'description': 'Reference name of roadway, per Open Street Map definition.'}}, 'osm_link_id': {'type': 'array', 'minItems': 1, 'items': {'type': 'string', 'description': 'Reference to the corresponding Open Street Map link. Note that due to link splitting this may or may not be unique, and is not a required attribute.'}}, 'model_link_id': {'type': 'array', 'minItems': 1, 'items': {'type': 'integer', 'description': 'Unique id for facility.'}}, 'modes': {'type': 'array', 'items': {'$schema': 'http://json-schema.org/draft-07/schema#', 'type': 'string', 'title': 'mode', 'enum': ['drive', 'walk', 'bike', 'transit', 'any']}}, 'ignore_missing': {'type': 'boolean', 'description': 'If true, missing links for explicit ID selections will be ignored. Defaults to true.', 'default': True}}}\n",
      "Validator Value: [{'required': ['name']}, {'required': ['ref']}, {'required': ['osm_link_id']}, {'required': ['model_link_id']}, {'required': ['all']}]\n",
      "Validator: oneOf\n",
      "absolute_schema_path:deque(['properties', 'changes', 'items', 'properties', 'roadway_property_change', 'properties', 'facility', 'properties', 'links', 'oneOf'])\n",
      "absolute_path:deque(['changes', 0, 'roadway_property_change', 'facility', 'links'])\n"
     ]
    },
    {
     "ename": "ProjectCardValidationError",
     "evalue": "Validation error for project Widen Minnehaha Pkwy",
     "output_type": "error",
     "traceback": [
      "\u001b[0;31m---------------------------------------------------------------------------\u001b[0m",
      "\u001b[0;31mValidationError\u001b[0m                           Traceback (most recent call last)",
      "File \u001b[0;32m~/Documents/GitHub/projectcard/projectcard/validate.py:172\u001b[0m, in \u001b[0;36mvalidate_card\u001b[0;34m(jsondata, schema_path, parse_defaults)\u001b[0m\n\u001b[1;32m    171\u001b[0m         jsondata \u001b[38;5;241m=\u001b[39m update_dict_with_schema_defaults(jsondata, _schema_data)\n\u001b[0;32m--> 172\u001b[0m     \u001b[43mvalidate\u001b[49m\u001b[43m(\u001b[49m\u001b[43mjsondata\u001b[49m\u001b[43m,\u001b[49m\u001b[43m \u001b[49m\u001b[43mschema\u001b[49m\u001b[38;5;241;43m=\u001b[39;49m\u001b[43m_schema_data\u001b[49m\u001b[43m)\u001b[49m\n\u001b[1;32m    173\u001b[0m \u001b[38;5;28;01mexcept\u001b[39;00m ValidationError \u001b[38;5;28;01mas\u001b[39;00m e:\n",
      "File \u001b[0;32m/opt/miniconda3/envs/wrangler-dev/lib/python3.10/site-packages/jsonschema/validators.py:1332\u001b[0m, in \u001b[0;36mvalidate\u001b[0;34m(instance, schema, cls, *args, **kwargs)\u001b[0m\n\u001b[1;32m   1331\u001b[0m \u001b[38;5;28;01mif\u001b[39;00m error \u001b[38;5;129;01mis\u001b[39;00m \u001b[38;5;129;01mnot\u001b[39;00m \u001b[38;5;28;01mNone\u001b[39;00m:\n\u001b[0;32m-> 1332\u001b[0m     \u001b[38;5;28;01mraise\u001b[39;00m error\n",
      "\u001b[0;31mValidationError\u001b[0m: {'name': ['Minnehaha'], 'all': True, 'ignore_missing': True} is valid under each of {'required': ['all']}, {'required': ['name']}\n\nFailed validating 'oneOf' in schema['properties']['changes']['items']['properties']['roadway_property_change']['properties']['facility']['properties']['links']:\n    {'$schema': 'http://json-schema.org/draft-07/schema', 'description': 'requirements for describing links in the `facility` section of a project card.', 'type': 'object', 'title': 'Roadway link selection', 'required': ['ignore_missing'], 'oneOf': [{'required': ['name']}, {'required': ['ref']}, {'required': ['osm_link_id']}, {'required': ['model_link_id']}, {'required': ['all']}], 'additionalProperties': True, 'not': {'anyOf': [{'required': ['from']}, {'required': ['to']}]}, 'examples': [{'name': ['Main St'], 'modes': ['drive']}, {'osm_link_id': ['123456789']}, {'model_link_id': [123456789], 'modes': ['walk']}, {'all': 'True', 'modes': ['transit']}], 'properties': {'all': {'enum': ['True', 'False']}, 'name': {'type': 'array', 'minItems': 1, 'items': {'type': 'string', 'examples': ['Elm Street', 'Raleigh Beltline', 'Capital Beltway', '3rd St,Willie Mays Blvd'], 'description': 'Name of Roadway facility. If multiple, can be contatenated with a comma.'}}, 'ref': {'type': 'array', 'minItems': 1, 'items': {'type': 'string', 'examples': ['I-40', 'US66', 'WA520'], 'description': 'Reference name of roadway, per Open Street Map definition.'}}, 'osm_link_id': {'type': 'array', 'minItems': 1, 'items': {'type': 'string', 'description': 'Reference to the corresponding Open Street Map link. Note that due to link splitting this may or may not be unique, and is not a required attribute.'}}, 'model_link_id': {'type': 'array', 'minItems': 1, 'items': {'type': 'integer', 'description': 'Unique id for facility.'}}, 'modes': {'type': 'array', 'items': {'$schema': 'http://json-schema.org/draft-07/schema#', 'type': 'string', 'title': 'mode', 'enum': ['drive', 'walk', 'bike', 'transit', 'any']}}, 'ignore_missing': {'type': 'boolean', 'description': 'If true, missing links for explicit ID selections will be ignored. Defaults to true.', 'default': True}}}\n\nOn instance['changes'][0]['roadway_property_change']['facility']['links']:\n    {'name': ['Minnehaha'], 'all': True, 'ignore_missing': True}",
      "\nThe above exception was the direct cause of the following exception:\n",
      "\u001b[0;31mProjectCardValidationError\u001b[0m                Traceback (most recent call last)",
      "Cell \u001b[0;32mIn[3], line 2\u001b[0m\n\u001b[1;32m      1\u001b[0m \u001b[38;5;28;01mfrom\u001b[39;00m \u001b[38;5;21;01mnetwork_wrangler\u001b[39;00m \u001b[38;5;28;01mimport\u001b[39;00m create_scenario\n\u001b[0;32m----> 2\u001b[0m my_scenario_nobuild \u001b[38;5;241m=\u001b[39m \u001b[43mcreate_scenario\u001b[49m\u001b[43m(\u001b[49m\n\u001b[1;32m      3\u001b[0m \u001b[43m    \u001b[49m\u001b[43mbase_scenario\u001b[49m\u001b[38;5;241;43m=\u001b[39;49m\u001b[43mbase_scenario\u001b[49m\u001b[43m,\u001b[49m\n\u001b[1;32m      4\u001b[0m \u001b[43m    \u001b[49m\u001b[43mproject_card_filepath\u001b[49m\u001b[38;5;241;43m=\u001b[39;49m\u001b[43mSTPAUL_DIR\u001b[49m\u001b[43m \u001b[49m\u001b[38;5;241;43m/\u001b[39;49m\u001b[43m \u001b[49m\u001b[38;5;124;43m\"\u001b[39;49m\u001b[38;5;124;43mproject_cards\u001b[39;49m\u001b[38;5;124;43m\"\u001b[39;49m\u001b[43m,\u001b[49m\n\u001b[1;32m      5\u001b[0m \u001b[43m    \u001b[49m\u001b[43mfilter_tags\u001b[49m\u001b[38;5;241;43m=\u001b[39;49m\u001b[43m[\u001b[49m\u001b[38;5;124;43m\"\u001b[39;49m\u001b[38;5;124;43mbaseline\u001b[39;49m\u001b[38;5;124;43m\"\u001b[39;49m\u001b[43m]\u001b[49m\n\u001b[1;32m      6\u001b[0m \u001b[43m)\u001b[49m\n",
      "File \u001b[0;32m~/Documents/GitHub/network_wrangler/network_wrangler/scenario.py:834\u001b[0m, in \u001b[0;36mcreate_scenario\u001b[0;34m(base_scenario, name, project_card_list, project_card_filepath, filter_tags, config)\u001b[0m\n\u001b[1;32m    829\u001b[0m     project_card_list \u001b[38;5;241m+\u001b[39m\u001b[38;5;241m=\u001b[39m \u001b[38;5;28mlist\u001b[39m(\n\u001b[1;32m    830\u001b[0m         read_cards(project_card_filepath, filter_tags\u001b[38;5;241m=\u001b[39mfilter_tags)\u001b[38;5;241m.\u001b[39mvalues()\n\u001b[1;32m    831\u001b[0m     )\n\u001b[1;32m    833\u001b[0m \u001b[38;5;28;01mif\u001b[39;00m project_card_list:\n\u001b[0;32m--> 834\u001b[0m     \u001b[43mscenario\u001b[49m\u001b[38;5;241;43m.\u001b[39;49m\u001b[43madd_project_cards\u001b[49m\u001b[43m(\u001b[49m\u001b[43mproject_card_list\u001b[49m\u001b[43m,\u001b[49m\u001b[43m \u001b[49m\u001b[43mfilter_tags\u001b[49m\u001b[38;5;241;43m=\u001b[39;49m\u001b[43mfilter_tags\u001b[49m\u001b[43m)\u001b[49m\n\u001b[1;32m    836\u001b[0m \u001b[38;5;28;01mreturn\u001b[39;00m scenario\n",
      "File \u001b[0;32m~/Documents/GitHub/network_wrangler/network_wrangler/scenario.py:456\u001b[0m, in \u001b[0;36mScenario.add_project_cards\u001b[0;34m(self, project_card_list, validate, filter_tags)\u001b[0m\n\u001b[1;32m    454\u001b[0m filter_tags \u001b[38;5;241m=\u001b[39m filter_tags \u001b[38;5;129;01mor\u001b[39;00m []\n\u001b[1;32m    455\u001b[0m \u001b[38;5;28;01mfor\u001b[39;00m p \u001b[38;5;129;01min\u001b[39;00m project_card_list:\n\u001b[0;32m--> 456\u001b[0m     \u001b[38;5;28;43mself\u001b[39;49m\u001b[38;5;241;43m.\u001b[39;49m\u001b[43m_add_project\u001b[49m\u001b[43m(\u001b[49m\u001b[43mp\u001b[49m\u001b[43m,\u001b[49m\u001b[43m \u001b[49m\u001b[43mvalidate\u001b[49m\u001b[38;5;241;43m=\u001b[39;49m\u001b[43mvalidate\u001b[49m\u001b[43m,\u001b[49m\u001b[43m \u001b[49m\u001b[43mfilter_tags\u001b[49m\u001b[38;5;241;43m=\u001b[39;49m\u001b[43mfilter_tags\u001b[49m\u001b[43m)\u001b[49m\n",
      "File \u001b[0;32m~/Documents/GitHub/network_wrangler/network_wrangler/scenario.py:425\u001b[0m, in \u001b[0;36mScenario._add_project\u001b[0;34m(self, project_card, validate, filter_tags)\u001b[0m\n\u001b[1;32m    422\u001b[0m     \u001b[38;5;28;01mreturn\u001b[39;00m\n\u001b[1;32m    424\u001b[0m \u001b[38;5;28;01mif\u001b[39;00m validate:\n\u001b[0;32m--> 425\u001b[0m     \u001b[43mproject_card\u001b[49m\u001b[38;5;241;43m.\u001b[39;49m\u001b[43mvalidate\u001b[49m\u001b[43m(\u001b[49m\u001b[43m)\u001b[49m\n\u001b[1;32m    427\u001b[0m WranglerLogger\u001b[38;5;241m.\u001b[39minfo(\u001b[38;5;124mf\u001b[39m\u001b[38;5;124m\"\u001b[39m\u001b[38;5;124mAdding \u001b[39m\u001b[38;5;132;01m{\u001b[39;00mproject_name\u001b[38;5;132;01m}\u001b[39;00m\u001b[38;5;124m to scenario.\u001b[39m\u001b[38;5;124m\"\u001b[39m)\n\u001b[1;32m    428\u001b[0m \u001b[38;5;28mself\u001b[39m\u001b[38;5;241m.\u001b[39mproject_cards[project_name] \u001b[38;5;241m=\u001b[39m project_card\n",
      "File \u001b[0;32m~/Documents/GitHub/projectcard/projectcard/projectcard.py:76\u001b[0m, in \u001b[0;36mProjectCard.validate\u001b[0;34m(self)\u001b[0m\n\u001b[1;32m     74\u001b[0m \u001b[38;5;28;01mdef\u001b[39;00m \u001b[38;5;21mvalidate\u001b[39m(\u001b[38;5;28mself\u001b[39m) \u001b[38;5;241m-\u001b[39m\u001b[38;5;241m>\u001b[39m \u001b[38;5;28mbool\u001b[39m:\n\u001b[1;32m     75\u001b[0m \u001b[38;5;250m    \u001b[39m\u001b[38;5;124;03m\"\"\"Return True if project card is valid, False otherwise.\"\"\"\u001b[39;00m\n\u001b[0;32m---> 76\u001b[0m     \u001b[38;5;28;01mreturn\u001b[39;00m \u001b[43mvalidate_card\u001b[49m\u001b[43m(\u001b[49m\u001b[38;5;28;43mself\u001b[39;49m\u001b[38;5;241;43m.\u001b[39;49m\u001b[38;5;18;43m__dict__\u001b[39;49m\u001b[43m)\u001b[49m\n",
      "File \u001b[0;32m~/Documents/GitHub/projectcard/projectcard/validate.py:179\u001b[0m, in \u001b[0;36mvalidate_card\u001b[0;34m(jsondata, schema_path, parse_defaults)\u001b[0m\n\u001b[1;32m    177\u001b[0m     CardLogger\u001b[38;5;241m.\u001b[39merror(msg)\n\u001b[1;32m    178\u001b[0m     msg \u001b[38;5;241m=\u001b[39m \u001b[38;5;124mf\u001b[39m\u001b[38;5;124m\"\u001b[39m\u001b[38;5;124mValidation error for project \u001b[39m\u001b[38;5;132;01m{\u001b[39;00mjsondata[\u001b[38;5;124m'\u001b[39m\u001b[38;5;124mproject\u001b[39m\u001b[38;5;124m'\u001b[39m]\u001b[38;5;132;01m}\u001b[39;00m\u001b[38;5;124m\"\u001b[39m\n\u001b[0;32m--> 179\u001b[0m     \u001b[38;5;28;01mraise\u001b[39;00m ProjectCardValidationError(msg) \u001b[38;5;28;01mfrom\u001b[39;00m \u001b[38;5;21;01me\u001b[39;00m\n\u001b[1;32m    180\u001b[0m \u001b[38;5;28;01mexcept\u001b[39;00m SchemaError \u001b[38;5;28;01mas\u001b[39;00m e:\n\u001b[1;32m    181\u001b[0m     CardLogger\u001b[38;5;241m.\u001b[39merror(e)\n",
      "\u001b[0;31mProjectCardValidationError\u001b[0m: Validation error for project Widen Minnehaha Pkwy"
     ]
    }
   ],
   "source": [
    "from network_wrangler import create_scenario\n",
    "my_scenario_nobuild = create_scenario(\n",
    "    base_scenario=base_scenario,\n",
    "    project_card_filepath=STPAUL_DIR / \"project_cards\",\n",
    "    filter_tags=[\"baseline\"]\n",
    ")"
   ]
  },
  {
   "attachments": {},
   "cell_type": "markdown",
   "metadata": {},
   "source": [
    "**Check that the correct projects got added**\n",
    "\n",
    "- These projects haven't been applied (or \"built\") yet, they are just specified at this point."
   ]
  },
  {
   "cell_type": "code",
   "execution_count": 4,
   "metadata": {},
   "outputs": [
    {
     "data": {
      "text/plain": [
       "['widen minnehaha pkwy']"
      ]
     },
     "execution_count": 4,
     "metadata": {},
     "output_type": "execute_result"
    }
   ],
   "source": [
    "my_scenario_nobuild.queued_projects"
   ]
  },
  {
   "attachments": {},
   "cell_type": "markdown",
   "metadata": {},
   "source": [
    "## Build the \"Future No Build\" Scenario\n",
    " - This is where you are actually \"building\" the projects\n",
    " - You can check to see *all* the built projects using the `applied_projects` attribute"
   ]
  },
  {
   "cell_type": "code",
   "execution_count": 5,
   "metadata": {
    "scrolled": true
   },
   "outputs": [
    {
     "ename": "RoadwaySelectionFormatError",
     "evalue": "SelectFacility for links with `name` must also have `all` set to True unless you are defining `from` and `to` nodes (which were not specified).",
     "output_type": "error",
     "traceback": [
      "\u001b[0;31m---------------------------------------------------------------------------\u001b[0m",
      "\u001b[0;31mRoadwaySelectionFormatError\u001b[0m               Traceback (most recent call last)",
      "Cell \u001b[0;32mIn[5], line 1\u001b[0m\n\u001b[0;32m----> 1\u001b[0m \u001b[43mmy_scenario_nobuild\u001b[49m\u001b[38;5;241;43m.\u001b[39;49m\u001b[43mapply_all_projects\u001b[49m\u001b[43m(\u001b[49m\u001b[43m)\u001b[49m\n",
      "File \u001b[0;32m~/Documents/GitHub/network_wrangler/network_wrangler/scenario.py:604\u001b[0m, in \u001b[0;36mScenario.apply_all_projects\u001b[0;34m(self)\u001b[0m\n\u001b[1;32m    602\u001b[0m \u001b[38;5;66;03m# Use hidden variable.\u001b[39;00m\n\u001b[1;32m    603\u001b[0m \u001b[38;5;28;01mwhile\u001b[39;00m \u001b[38;5;28mself\u001b[39m\u001b[38;5;241m.\u001b[39m_queued_projects:\n\u001b[0;32m--> 604\u001b[0m     \u001b[38;5;28;43mself\u001b[39;49m\u001b[38;5;241;43m.\u001b[39;49m\u001b[43m_apply_project\u001b[49m\u001b[43m(\u001b[49m\u001b[38;5;28;43mself\u001b[39;49m\u001b[38;5;241;43m.\u001b[39;49m\u001b[43m_queued_projects\u001b[49m\u001b[38;5;241;43m.\u001b[39;49m\u001b[43mpopleft\u001b[49m\u001b[43m(\u001b[49m\u001b[43m)\u001b[49m\u001b[43m)\u001b[49m\n\u001b[1;32m    606\u001b[0m \u001b[38;5;66;03m# set this so it will trigger re-queuing any more projects.\u001b[39;00m\n\u001b[1;32m    607\u001b[0m \u001b[38;5;28mself\u001b[39m\u001b[38;5;241m.\u001b[39m_queued_projects \u001b[38;5;241m=\u001b[39m \u001b[38;5;28;01mNone\u001b[39;00m\n",
      "File \u001b[0;32m~/Documents/GitHub/network_wrangler/network_wrangler/scenario.py:656\u001b[0m, in \u001b[0;36mScenario._apply_project\u001b[0;34m(self, project_name)\u001b[0m\n\u001b[1;32m    654\u001b[0m     \u001b[38;5;28;01mfor\u001b[39;00m sp \u001b[38;5;129;01min\u001b[39;00m p\u001b[38;5;241m.\u001b[39m_sub_projects:\n\u001b[1;32m    655\u001b[0m         WranglerLogger\u001b[38;5;241m.\u001b[39mdebug(\u001b[38;5;124mf\u001b[39m\u001b[38;5;124m\"\u001b[39m\u001b[38;5;124m- applying subproject: \u001b[39m\u001b[38;5;132;01m{\u001b[39;00msp\u001b[38;5;241m.\u001b[39mchange_type\u001b[38;5;132;01m}\u001b[39;00m\u001b[38;5;124m\"\u001b[39m)\n\u001b[0;32m--> 656\u001b[0m         \u001b[38;5;28;43mself\u001b[39;49m\u001b[38;5;241;43m.\u001b[39;49m\u001b[43m_apply_change\u001b[49m\u001b[43m(\u001b[49m\u001b[43msp\u001b[49m\u001b[43m)\u001b[49m\n\u001b[1;32m    658\u001b[0m \u001b[38;5;28;01melse\u001b[39;00m:\n\u001b[1;32m    659\u001b[0m     \u001b[38;5;28mself\u001b[39m\u001b[38;5;241m.\u001b[39m_apply_change(p)\n",
      "File \u001b[0;32m~/Documents/GitHub/network_wrangler/network_wrangler/scenario.py:626\u001b[0m, in \u001b[0;36mScenario._apply_change\u001b[0;34m(self, change)\u001b[0m\n\u001b[1;32m    624\u001b[0m         \u001b[38;5;28mself\u001b[39m\u001b[38;5;241m.\u001b[39mroad_net\u001b[38;5;241m.\u001b[39mapply(change, transit_net\u001b[38;5;241m=\u001b[39m\u001b[38;5;28mself\u001b[39m\u001b[38;5;241m.\u001b[39mtransit_net)\n\u001b[1;32m    625\u001b[0m     \u001b[38;5;28;01melse\u001b[39;00m:\n\u001b[0;32m--> 626\u001b[0m         \u001b[38;5;28;43mself\u001b[39;49m\u001b[38;5;241;43m.\u001b[39;49m\u001b[43mroad_net\u001b[49m\u001b[38;5;241;43m.\u001b[39;49m\u001b[43mapply\u001b[49m\u001b[43m(\u001b[49m\u001b[43mchange\u001b[49m\u001b[43m)\u001b[49m\n\u001b[1;32m    627\u001b[0m \u001b[38;5;28;01mif\u001b[39;00m change\u001b[38;5;241m.\u001b[39mchange_type \u001b[38;5;129;01min\u001b[39;00m TRANSIT_CARD_TYPES:\n\u001b[1;32m    628\u001b[0m     \u001b[38;5;28;01mif\u001b[39;00m \u001b[38;5;129;01mnot\u001b[39;00m \u001b[38;5;28mself\u001b[39m\u001b[38;5;241m.\u001b[39mtransit_net:\n",
      "File \u001b[0;32m~/Documents/GitHub/network_wrangler/network_wrangler/roadway/network.py:371\u001b[0m, in \u001b[0;36mRoadwayNetwork.apply\u001b[0;34m(self, project_card, transit_net, **kwargs)\u001b[0m\n\u001b[1;32m    369\u001b[0m         \u001b[38;5;28mself\u001b[39m\u001b[38;5;241m.\u001b[39m_apply_change(sp, transit_net\u001b[38;5;241m=\u001b[39mtransit_net, \u001b[38;5;241m*\u001b[39m\u001b[38;5;241m*\u001b[39mkwargs)\n\u001b[1;32m    370\u001b[0m     \u001b[38;5;28;01mreturn\u001b[39;00m \u001b[38;5;28mself\u001b[39m\n\u001b[0;32m--> 371\u001b[0m \u001b[38;5;28;01mreturn\u001b[39;00m \u001b[38;5;28;43mself\u001b[39;49m\u001b[38;5;241;43m.\u001b[39;49m\u001b[43m_apply_change\u001b[49m\u001b[43m(\u001b[49m\u001b[43mproject_card\u001b[49m\u001b[43m,\u001b[49m\u001b[43m \u001b[49m\u001b[43mtransit_net\u001b[49m\u001b[38;5;241;43m=\u001b[39;49m\u001b[43mtransit_net\u001b[49m\u001b[43m,\u001b[49m\u001b[43m \u001b[49m\u001b[38;5;241;43m*\u001b[39;49m\u001b[38;5;241;43m*\u001b[39;49m\u001b[43mkwargs\u001b[49m\u001b[43m)\u001b[49m\n",
      "File \u001b[0;32m~/Documents/GitHub/network_wrangler/network_wrangler/roadway/network.py:385\u001b[0m, in \u001b[0;36mRoadwayNetwork._apply_change\u001b[0;34m(self, change, transit_net)\u001b[0m\n\u001b[1;32m    380\u001b[0m     WranglerLogger\u001b[38;5;241m.\u001b[39minfo(\u001b[38;5;124mf\u001b[39m\u001b[38;5;124m\"\u001b[39m\u001b[38;5;124mApplying Project to Roadway Network: \u001b[39m\u001b[38;5;132;01m{\u001b[39;00mchange\u001b[38;5;241m.\u001b[39mproject\u001b[38;5;132;01m}\u001b[39;00m\u001b[38;5;124m\"\u001b[39m)\n\u001b[1;32m    382\u001b[0m \u001b[38;5;28;01mif\u001b[39;00m change\u001b[38;5;241m.\u001b[39mchange_type \u001b[38;5;241m==\u001b[39m \u001b[38;5;124m\"\u001b[39m\u001b[38;5;124mroadway_property_change\u001b[39m\u001b[38;5;124m\"\u001b[39m:\n\u001b[1;32m    383\u001b[0m     \u001b[38;5;28;01mreturn\u001b[39;00m apply_roadway_property_change(\n\u001b[1;32m    384\u001b[0m         \u001b[38;5;28mself\u001b[39m,\n\u001b[0;32m--> 385\u001b[0m         \u001b[38;5;28;43mself\u001b[39;49m\u001b[38;5;241;43m.\u001b[39;49m\u001b[43mget_selection\u001b[49m\u001b[43m(\u001b[49m\u001b[43mchange\u001b[49m\u001b[38;5;241;43m.\u001b[39;49m\u001b[43mfacility\u001b[49m\u001b[43m)\u001b[49m,\n\u001b[1;32m    386\u001b[0m         change\u001b[38;5;241m.\u001b[39mroadway_property_change[\u001b[38;5;124m\"\u001b[39m\u001b[38;5;124mproperty_changes\u001b[39m\u001b[38;5;124m\"\u001b[39m],\n\u001b[1;32m    387\u001b[0m         project_name\u001b[38;5;241m=\u001b[39mchange\u001b[38;5;241m.\u001b[39mproject,\n\u001b[1;32m    388\u001b[0m     )\n\u001b[1;32m    390\u001b[0m \u001b[38;5;28;01mif\u001b[39;00m change\u001b[38;5;241m.\u001b[39mchange_type \u001b[38;5;241m==\u001b[39m \u001b[38;5;124m\"\u001b[39m\u001b[38;5;124mroadway_addition\u001b[39m\u001b[38;5;124m\"\u001b[39m:\n\u001b[1;32m    391\u001b[0m     \u001b[38;5;28;01mreturn\u001b[39;00m apply_new_roadway(\n\u001b[1;32m    392\u001b[0m         \u001b[38;5;28mself\u001b[39m,\n\u001b[1;32m    393\u001b[0m         change\u001b[38;5;241m.\u001b[39mroadway_addition,\n\u001b[1;32m    394\u001b[0m         project_name\u001b[38;5;241m=\u001b[39mchange\u001b[38;5;241m.\u001b[39mproject,\n\u001b[1;32m    395\u001b[0m     )\n",
      "File \u001b[0;32m~/Documents/GitHub/network_wrangler/network_wrangler/roadway/network.py:315\u001b[0m, in \u001b[0;36mRoadwayNetwork.get_selection\u001b[0;34m(self, selection_dict, overwrite)\u001b[0m\n\u001b[1;32m    313\u001b[0m WranglerLogger\u001b[38;5;241m.\u001b[39mdebug(\u001b[38;5;124mf\u001b[39m\u001b[38;5;124m\"\u001b[39m\u001b[38;5;124mGetting selection from key: \u001b[39m\u001b[38;5;132;01m{\u001b[39;00mkey\u001b[38;5;132;01m}\u001b[39;00m\u001b[38;5;124m\"\u001b[39m)\n\u001b[1;32m    314\u001b[0m \u001b[38;5;28;01mif\u001b[39;00m selection_data\u001b[38;5;241m.\u001b[39mfeature_types \u001b[38;5;129;01min\u001b[39;00m [\u001b[38;5;124m\"\u001b[39m\u001b[38;5;124mlinks\u001b[39m\u001b[38;5;124m\"\u001b[39m, \u001b[38;5;124m\"\u001b[39m\u001b[38;5;124msegment\u001b[39m\u001b[38;5;124m\"\u001b[39m]:\n\u001b[0;32m--> 315\u001b[0m     \u001b[38;5;28;01mreturn\u001b[39;00m \u001b[43mRoadwayLinkSelection\u001b[49m\u001b[43m(\u001b[49m\u001b[38;5;28;43mself\u001b[39;49m\u001b[43m,\u001b[49m\u001b[43m \u001b[49m\u001b[43mselection_dict\u001b[49m\u001b[43m)\u001b[49m\n\u001b[1;32m    316\u001b[0m \u001b[38;5;28;01mif\u001b[39;00m selection_data\u001b[38;5;241m.\u001b[39mfeature_types \u001b[38;5;241m==\u001b[39m \u001b[38;5;124m\"\u001b[39m\u001b[38;5;124mnodes\u001b[39m\u001b[38;5;124m\"\u001b[39m:\n\u001b[1;32m    317\u001b[0m     \u001b[38;5;28;01mreturn\u001b[39;00m RoadwayNodeSelection(\u001b[38;5;28mself\u001b[39m, selection_dict)\n",
      "File \u001b[0;32m~/Documents/GitHub/network_wrangler/network_wrangler/roadway/selection.py:80\u001b[0m, in \u001b[0;36mRoadwayLinkSelection.__init__\u001b[0;34m(self, net, selection_data)\u001b[0m\n\u001b[1;32m     77\u001b[0m \u001b[38;5;28mself\u001b[39m\u001b[38;5;241m.\u001b[39m_selected_links_df \u001b[38;5;241m=\u001b[39m \u001b[38;5;28;01mNone\u001b[39;00m\n\u001b[1;32m     78\u001b[0m \u001b[38;5;28mself\u001b[39m\u001b[38;5;241m.\u001b[39m_segment: Union[\u001b[38;5;28;01mNone\u001b[39;00m, Segment] \u001b[38;5;241m=\u001b[39m \u001b[38;5;28;01mNone\u001b[39;00m\n\u001b[0;32m---> 80\u001b[0m WranglerLogger\u001b[38;5;241m.\u001b[39mdebug(\u001b[38;5;124mf\u001b[39m\u001b[38;5;124m\"\u001b[39m\u001b[38;5;124mCreated LinkSelection of type: \u001b[39m\u001b[38;5;132;01m{\u001b[39;00m\u001b[38;5;28;43mself\u001b[39;49m\u001b[38;5;241;43m.\u001b[39;49m\u001b[43mselection_type\u001b[49m\u001b[38;5;132;01m}\u001b[39;00m\u001b[38;5;124m\"\u001b[39m)\n",
      "File \u001b[0;32m~/Documents/GitHub/network_wrangler/network_wrangler/roadway/selection.py:118\u001b[0m, in \u001b[0;36mRoadwayLinkSelection.selection_type\u001b[0;34m(self)\u001b[0m\n\u001b[1;32m    115\u001b[0m \u001b[38;5;129m@property\u001b[39m\n\u001b[1;32m    116\u001b[0m \u001b[38;5;28;01mdef\u001b[39;00m \u001b[38;5;21mselection_type\u001b[39m(\u001b[38;5;28mself\u001b[39m):\n\u001b[1;32m    117\u001b[0m \u001b[38;5;250m    \u001b[39m\u001b[38;5;124;03m\"\"\"Link selection type from SelectLinksDict: either `all`, `explicit_ids`, or `segment`.\"\"\"\u001b[39;00m\n\u001b[0;32m--> 118\u001b[0m     \u001b[38;5;28;01mreturn\u001b[39;00m \u001b[38;5;28;43mself\u001b[39;49m\u001b[38;5;241;43m.\u001b[39;49m\u001b[43mselection_data\u001b[49m\u001b[38;5;241;43m.\u001b[39;49m\u001b[43mselection_type\u001b[49m\n",
      "File \u001b[0;32m~/Documents/GitHub/network_wrangler/network_wrangler/models/projects/roadway_selection.py:303\u001b[0m, in \u001b[0;36mSelectFacility.selection_type\u001b[0;34m(self)\u001b[0m\n\u001b[1;32m    301\u001b[0m         \u001b[38;5;28;01melse\u001b[39;00m:\n\u001b[1;32m    302\u001b[0m             msg \u001b[38;5;241m=\u001b[39m \u001b[38;5;124m\"\u001b[39m\u001b[38;5;124mSelectFacility with segment selection link variables must also have `from` and `to` nodes specified.\u001b[39m\u001b[38;5;124m\"\u001b[39m\n\u001b[0;32m--> 303\u001b[0m         \u001b[38;5;28;01mraise\u001b[39;00m RoadwaySelectionFormatError(msg)\n\u001b[1;32m    304\u001b[0m     \u001b[38;5;28;01mreturn\u001b[39;00m \u001b[38;5;28mself\u001b[39m\u001b[38;5;241m.\u001b[39mlinks\u001b[38;5;241m.\u001b[39mselection_type\n\u001b[1;32m    305\u001b[0m \u001b[38;5;28;01mif\u001b[39;00m \u001b[38;5;28mself\u001b[39m\u001b[38;5;241m.\u001b[39mfeature_types \u001b[38;5;241m==\u001b[39m \u001b[38;5;124m\"\u001b[39m\u001b[38;5;124mnodes\u001b[39m\u001b[38;5;124m\"\u001b[39m:\n",
      "\u001b[0;31mRoadwaySelectionFormatError\u001b[0m: SelectFacility for links with `name` must also have `all` set to True unless you are defining `from` and `to` nodes (which were not specified)."
     ]
    }
   ],
   "source": [
    "my_scenario_nobuild.apply_all_projects()"
   ]
  },
  {
   "cell_type": "code",
   "execution_count": 8,
   "metadata": {},
   "outputs": [
    {
     "data": {
      "text/plain": [
       "['widen minnehaha pkwy']"
      ]
     },
     "execution_count": 8,
     "metadata": {},
     "output_type": "execute_result"
    }
   ],
   "source": [
    "my_scenario_nobuild.applied_projects"
   ]
  },
  {
   "attachments": {},
   "cell_type": "markdown",
   "metadata": {},
   "source": [
    "## Define \"Future Build\" Scenario\n",
    "\n",
    " - Specify specific cards to add for a build scenario\n",
    " - This scenario will be tiered off of the no-build scenario and will have 'knowledge' of what projects have already been applied when checking pre-requisites.\n",
    " \n",
    "\n",
    " - Here, we are going to specify a list of very specific build projects.\n",
    " - In this case, we need to create `ProjectCard` instances from the YML files and then add them to the `project_card_list` keyword. "
   ]
  },
  {
   "cell_type": "code",
   "execution_count": 10,
   "metadata": {},
   "outputs": [],
   "source": [
    "BUILD_CARD_FILENAMES = [\n",
    "    \"road.managed_lane.simple.yml\",\n",
    "]"
   ]
  },
  {
   "cell_type": "code",
   "execution_count": 11,
   "metadata": {},
   "outputs": [
    {
     "name": "stdout",
     "output_type": "stream",
     "text": [
      "2020-09-03 09:56:47, INFO: Creating Scenario\n",
      "2020-09-03 09:56:47, INFO: Creating Scenario\n"
     ]
    },
    {
     "data": {
      "text/plain": [
       "['6th Street Transitway',\n",
       " 'Improve Express Bus Frequency B',\n",
       " 'Blue Line Service Enhancement A',\n",
       " 'Blue Line Service Enhancement C',\n",
       " 'Blue Line Service Enhancement B',\n",
       " 'Blue Line Service Enhancement D',\n",
       " '6th St E Road Diet',\n",
       " 'Improve Express Bus Frequency']"
      ]
     },
     "execution_count": 11,
     "metadata": {},
     "output_type": "execute_result"
    }
   ],
   "source": [
    "my_scenario_build_alt1 = Scenario.create_scenario(\n",
    "    base_scenario=my_scenario_nobuild.__dict__,\n",
    "    project_card_filepath=BUILD_CARD_FILENAMES,\n",
    ")\n",
    "\n",
    "my_scenario_build_alt1.applied_projects"
   ]
  },
  {
   "cell_type": "code",
   "execution_count": 12,
   "metadata": {},
   "outputs": [],
   "source": [
    "## Apply Build Scenario Projects"
   ]
  },
  {
   "cell_type": "code",
   "execution_count": 13,
   "metadata": {},
   "outputs": [
    {
     "name": "stdout",
     "output_type": "stream",
     "text": [
      "2020-09-03 09:57:07, INFO: Applying test managed lane project\n",
      "2020-09-03 09:57:07, INFO: Applying test managed lane project\n",
      "2020-09-03 09:57:07, INFO: Applying Project to Roadway Network: test managed lane project\n",
      "2020-09-03 09:57:07, INFO: Applying Project to Roadway Network: test managed lane project\n"
     ]
    }
   ],
   "source": [
    "my_scenario_build_alt1.apply_all_projects()"
   ]
  },
  {
   "cell_type": "code",
   "execution_count": 14,
   "metadata": {},
   "outputs": [
    {
     "data": {
      "text/plain": [
       "['6th Street Transitway',\n",
       " 'Improve Express Bus Frequency B',\n",
       " 'Blue Line Service Enhancement A',\n",
       " 'Blue Line Service Enhancement C',\n",
       " 'Blue Line Service Enhancement B',\n",
       " 'Blue Line Service Enhancement D',\n",
       " '6th St E Road Diet',\n",
       " 'Improve Express Bus Frequency',\n",
       " 'test managed lane project']"
      ]
     },
     "execution_count": 14,
     "metadata": {},
     "output_type": "execute_result"
    }
   ],
   "source": [
    "my_scenario_build_alt1.applied_projects"
   ]
  },
  {
   "cell_type": "code",
   "execution_count": null,
   "metadata": {},
   "outputs": [],
   "source": []
  }
 ],
 "metadata": {
  "kernelspec": {
   "display_name": "wrangler-dev",
   "language": "python",
   "name": "python3"
  },
  "language_info": {
   "codemirror_mode": {
    "name": "ipython",
    "version": 3
   },
   "file_extension": ".py",
   "mimetype": "text/x-python",
   "name": "python",
   "nbconvert_exporter": "python",
   "pygments_lexer": "ipython3",
   "version": "3.10.15"
  }
 },
 "nbformat": 4,
 "nbformat_minor": 2
}
