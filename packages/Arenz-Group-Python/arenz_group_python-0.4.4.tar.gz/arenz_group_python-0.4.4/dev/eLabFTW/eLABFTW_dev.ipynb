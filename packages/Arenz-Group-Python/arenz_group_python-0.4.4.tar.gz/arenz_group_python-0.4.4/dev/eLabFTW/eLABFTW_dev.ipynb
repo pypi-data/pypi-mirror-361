{
 "cells": [
  {
   "cell_type": "markdown",
   "metadata": {},
   "source": [
    "# General installation from github\n",
    "This notebook creates a basic project structure. \n",
    "It is based on the article:\n",
    "https://github.com/elabftw/elabapi-python/tree/master/examples\n"
   ]
  },
  {
   "cell_type": "code",
   "execution_count": null,
   "metadata": {},
   "outputs": [],
   "source": [
    "from arenz_group_python import Project_Paths\n",
    "from arenz_group_python.elabftw.elabftw import API_HOST_URL,ITEM_API\n",
    "from arenz_group_python.elabftw import ELAB\n",
    "\n",
    "from arenz_group_python import elabftw\n",
    "import elabapi_python\n",
    "#Path of the file.\n"
   ]
  },
  {
   "cell_type": "code",
   "execution_count": null,
   "metadata": {},
   "outputs": [],
   "source": [
    "from arenz_group_python import elabftw\n",
    "elabftw.connect()"
   ]
  },
  {
   "cell_type": "code",
   "execution_count": null,
   "metadata": {},
   "outputs": [],
   "source": [
    "from arenz_group_python import elabftw\n",
    "\n",
    "elabftw.download_experiment(\"INK-JF060\")\n",
    "elabftw.get_item(5)"
   ]
  },
  {
   "cell_type": "code",
   "execution_count": null,
   "metadata": {},
   "outputs": [],
   "source": [
    "elabftw.get_item(133)"
   ]
  },
  {
   "cell_type": "code",
   "execution_count": null,
   "metadata": {},
   "outputs": [],
   "source": [
    "elabftw.list_item(133)"
   ]
  },
  {
   "cell_type": "code",
   "execution_count": null,
   "metadata": {},
   "outputs": [],
   "source": [
    "elabftw.download_experiment_rel_to_item(133)"
   ]
  },
  {
   "cell_type": "code",
   "execution_count": null,
   "metadata": {},
   "outputs": [],
   "source": [
    "API_HOST_URL= API_HOST_URL+ \"/api/v2\"\n",
    "elabftw.connect()\n",
    "print(API_HOST_URL+ \"/api/v2\")\n",
    "elabftw.get_experiment(\"INK-JF060\")"
   ]
  },
  {
   "cell_type": "code",
   "execution_count": null,
   "metadata": {},
   "outputs": [],
   "source": [
    "from arenz_group_python.elabftw.elabftw import EXPERIMENTS_API\n",
    "\n",
    "print(EXPERIMENTS_API.api_client.configuration.host)"
   ]
  },
  {
   "cell_type": "code",
   "execution_count": null,
   "metadata": {},
   "outputs": [],
   "source": []
  },
  {
   "cell_type": "code",
   "execution_count": null,
   "metadata": {},
   "outputs": [],
   "source": [
    "\n",
    "\n",
    "a = EXPERIMENTS_API.read_experiments(q=\"ATS-JF060\")\n",
    "len(a)\n",
    "for i in a:\n",
    "    print(i.title, i.id)"
   ]
  },
  {
   "cell_type": "code",
   "execution_count": null,
   "metadata": {},
   "outputs": [],
   "source": []
  },
  {
   "cell_type": "code",
   "execution_count": null,
   "metadata": {},
   "outputs": [],
   "source": [
    "display(elabftw.get_experiment_ID(\"INK-JF060\"))\n"
   ]
  },
  {
   "cell_type": "code",
   "execution_count": null,
   "metadata": {},
   "outputs": [],
   "source": [
    "display(elabftw.get_experiment_ID(\"INK-JF060\"))"
   ]
  },
  {
   "cell_type": "code",
   "execution_count": null,
   "metadata": {},
   "outputs": [],
   "source": [
    "elabftw.get_experiment(\"INK-JF060\")"
   ]
  },
  {
   "cell_type": "code",
   "execution_count": null,
   "metadata": {},
   "outputs": [],
   "source": [
    "d = elabftw.get_experiment(6)\n",
    "display(d.id)"
   ]
  },
  {
   "cell_type": "code",
   "execution_count": null,
   "metadata": {},
   "outputs": [],
   "source": [
    "a = elabftw.get_experiment(\"INK-JF060\")\n",
    "display(a)"
   ]
  },
  {
   "cell_type": "code",
   "execution_count": null,
   "metadata": {},
   "outputs": [],
   "source": [
    "elabftw.download_experiment(\"INK-JF060\")"
   ]
  },
  {
   "cell_type": "code",
   "execution_count": null,
   "metadata": {},
   "outputs": [],
   "source": [
    "\n",
    "def part1():\n",
    "    ##############################\n",
    "    # Part 1: the /info endpoint #\n",
    "    ##############################\n",
    "    # Doc: https://doc.elabftw.net/api/v2/#/Info/get-info\n",
    "    # Let's start with a very simple endpoint: /info. It only has a GET method and replies with information about the instance.\n",
    "    # It's an easy way to validate if all is working as expected.\n",
    "    # Everytime we want to use an endpoint, we need to create the corresponding object and give it the api_client (which itself holds the configuration)\n",
    "    info_client = elabapi_python.InfoApi(api_client)\n",
    "    api_response = info_client.get_info()\n",
    "    # Print the full response\n",
    "    print(\"\\n------------------------ START PART 1 ------------------------\\n\")\n",
    "    print(\"[request] GET /info\")\n",
    "    print(api_response)\n",
    "    print(\"\")\n",
    "    # Example usage\n",
    "    print(f\"[*] The instance at {API_HOST_URL} has {api_response.teams_count} teams and {api_response.all_users_count} users.\")\n",
    "    print(f\"[*] Total size of uploaded files: {api_response.uploads_filesize_sum_formatted}\")\n",
    "    print(\"\\n------------------------ END PART 1 ------------------------\\n\")\n",
    "#part1()"
   ]
  },
  {
   "cell_type": "code",
   "execution_count": null,
   "metadata": {},
   "outputs": [],
   "source": [
    "a = EXPERIMENTS_API.read_experiments()\n",
    "for i in a:\n",
    "    print(b)"
   ]
  }
 ],
 "metadata": {
  "kernelspec": {
   "display_name": ".venv (3.13.5)",
   "language": "python",
   "name": "python3"
  },
  "language_info": {
   "codemirror_mode": {
    "name": "ipython",
    "version": 3
   },
   "file_extension": ".py",
   "mimetype": "text/x-python",
   "name": "python",
   "nbconvert_exporter": "python",
   "pygments_lexer": "ipython3",
   "version": "3.13.5"
  }
 },
 "nbformat": 4,
 "nbformat_minor": 2
}
