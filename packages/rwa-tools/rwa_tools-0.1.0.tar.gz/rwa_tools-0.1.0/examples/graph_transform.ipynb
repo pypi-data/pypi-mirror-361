{
 "cells": [
  {
   "cell_type": "code",
   "execution_count": 1,
   "id": "584b86c0",
   "metadata": {},
   "outputs": [],
   "source": [
    "import matplotlib.pyplot as plt\n",
    "import networkx as nx\n",
    "import sympy as smp\n",
    "\n",
    "from rwa_tools import (\n",
    "    create_coupling_graph,\n",
    "    create_hamiltonian_symbolic,\n",
    "    create_hamiltonian_rwa,\n",
    ")\n",
    "from rwa_tools.graph_transform import create_transform_matrix"
   ]
  },
  {
   "cell_type": "code",
   "execution_count": 2,
   "id": "ebd57f35",
   "metadata": {},
   "outputs": [],
   "source": [
    "nstates = 5\n",
    "couplings = [[(0, 4), (1, 4)], [(2, 4), (3, 4)], [(1, 3)], [(0, 4), (1, 4)]]\n",
    "hamiltonian = create_hamiltonian_symbolic(couplings, nstates)\n",
    "coupling_graph = create_coupling_graph(couplings, nstates=nstates)"
   ]
  },
  {
   "cell_type": "code",
   "execution_count": 3,
   "id": "c91d4823",
   "metadata": {},
   "outputs": [
    {
     "data": {
      "text/latex": [
       "$\\displaystyle \\left[\\begin{matrix}E_{0} & 0 & 0 & 0 & \\frac{Ω_{0} e^{i t ω_{0}}}{2} + \\frac{Ω_{3} e^{i t ω_{3}}}{2}\\\\0 & E_{1} & 0 & \\frac{Ω_{2} e^{i t ω_{2}}}{2} & \\frac{Ω_{0} e^{i t ω_{0}}}{2} + \\frac{Ω_{3} e^{i t ω_{3}}}{2}\\\\0 & 0 & E_{2} & 0 & \\frac{Ω_{1} e^{i t ω_{1}}}{2}\\\\0 & \\frac{e^{- i t ω_{2}} \\overline{Ω_{2}}}{2} & 0 & E_{3} & \\frac{Ω_{1} e^{i t ω_{1}}}{2}\\\\\\frac{e^{- i t ω_{3}} \\overline{Ω_{3}}}{2} + \\frac{e^{- i t ω_{0}} \\overline{Ω_{0}}}{2} & \\frac{e^{- i t ω_{3}} \\overline{Ω_{3}}}{2} + \\frac{e^{- i t ω_{0}} \\overline{Ω_{0}}}{2} & \\frac{e^{- i t ω_{1}} \\overline{Ω_{1}}}{2} & \\frac{e^{- i t ω_{1}} \\overline{Ω_{1}}}{2} & E_{4}\\end{matrix}\\right]$"
      ],
      "text/plain": [
       "Matrix([\n",
       "[                                                         E0,                                                           0,                            0,                            0, Ω0*exp(I*t*ω0)/2 + Ω3*exp(I*t*ω3)/2],\n",
       "[                                                          0,                                                          E1,                            0,             Ω2*exp(I*t*ω2)/2, Ω0*exp(I*t*ω0)/2 + Ω3*exp(I*t*ω3)/2],\n",
       "[                                                          0,                                                           0,                           E2,                            0,                    Ω1*exp(I*t*ω1)/2],\n",
       "[                                                          0,                                exp(-I*t*ω2)*conjugate(Ω2)/2,                            0,                           E3,                    Ω1*exp(I*t*ω1)/2],\n",
       "[exp(-I*t*ω3)*conjugate(Ω3)/2 + exp(-I*t*ω0)*conjugate(Ω0)/2, exp(-I*t*ω3)*conjugate(Ω3)/2 + exp(-I*t*ω0)*conjugate(Ω0)/2, exp(-I*t*ω1)*conjugate(Ω1)/2, exp(-I*t*ω1)*conjugate(Ω1)/2,                                  E4]])"
      ]
     },
     "execution_count": 3,
     "metadata": {},
     "output_type": "execute_result"
    }
   ],
   "source": [
    "hamiltonian.total"
   ]
  },
  {
   "cell_type": "code",
   "execution_count": 4,
   "id": "d7998fc6",
   "metadata": {},
   "outputs": [
    {
     "data": {
      "text/plain": [
       "MultiEdgeView([(0, 4, 0), (0, 4, 1), (1, 4, 0), (1, 4, 1), (1, 3, 0), (2, 4, 0), (3, 4, 0)])"
      ]
     },
     "execution_count": 4,
     "metadata": {},
     "output_type": "execute_result"
    }
   ],
   "source": [
    "coupling_graph.edges"
   ]
  },
  {
   "cell_type": "code",
   "execution_count": 5,
   "id": "e51d7577",
   "metadata": {},
   "outputs": [
    {
     "data": {
      "image/png": "[encoded data removed]",
      "text/plain": [
       "<Figure size 640x480 with 1 Axes>"
      ]
     },
     "metadata": {},
     "output_type": "display_data"
    }
   ],
   "source": [
    "fig, ax = plt.subplots()\n",
    "nx.draw(coupling_graph)"
   ]
  },
  {
   "cell_type": "code",
   "execution_count": 6,
   "id": "ce4a8f37",
   "metadata": {},
   "outputs": [
    {
     "data": {
      "text/latex": [
       "$\\displaystyle \\left[\\begin{matrix}E_{0} & 0 & 0 & 0 & \\frac{Ω_{0} e^{i t ω_{0}}}{2} + \\frac{Ω_{3} e^{i t ω_{3}}}{2}\\\\0 & E_{1} & 0 & \\frac{Ω_{2} e^{i t ω_{2}}}{2} & \\frac{Ω_{0} e^{i t ω_{0}}}{2} + \\frac{Ω_{3} e^{i t ω_{3}}}{2}\\\\0 & 0 & E_{2} & 0 & \\frac{Ω_{1} e^{i t ω_{1}}}{2}\\\\0 & \\frac{e^{- i t ω_{2}} \\overline{Ω_{2}}}{2} & 0 & E_{3} & \\frac{Ω_{1} e^{i t ω_{1}}}{2}\\\\\\frac{e^{- i t ω_{3}} \\overline{Ω_{3}}}{2} + \\frac{e^{- i t ω_{0}} \\overline{Ω_{0}}}{2} & \\frac{e^{- i t ω_{3}} \\overline{Ω_{3}}}{2} + \\frac{e^{- i t ω_{0}} \\overline{Ω_{0}}}{2} & \\frac{e^{- i t ω_{1}} \\overline{Ω_{1}}}{2} & \\frac{e^{- i t ω_{1}} \\overline{Ω_{1}}}{2} & E_{4}\\end{matrix}\\right]$"
      ],
      "text/plain": [
       "Matrix([\n",
       "[                                                         E0,                                                           0,                            0,                            0, Ω0*exp(I*t*ω0)/2 + Ω3*exp(I*t*ω3)/2],\n",
       "[                                                          0,                                                          E1,                            0,             Ω2*exp(I*t*ω2)/2, Ω0*exp(I*t*ω0)/2 + Ω3*exp(I*t*ω3)/2],\n",
       "[                                                          0,                                                           0,                           E2,                            0,                    Ω1*exp(I*t*ω1)/2],\n",
       "[                                                          0,                                exp(-I*t*ω2)*conjugate(Ω2)/2,                            0,                           E3,                    Ω1*exp(I*t*ω1)/2],\n",
       "[exp(-I*t*ω3)*conjugate(Ω3)/2 + exp(-I*t*ω0)*conjugate(Ω0)/2, exp(-I*t*ω3)*conjugate(Ω3)/2 + exp(-I*t*ω0)*conjugate(Ω0)/2, exp(-I*t*ω1)*conjugate(Ω1)/2, exp(-I*t*ω1)*conjugate(Ω1)/2,                                  E4]])"
      ]
     },
     "execution_count": 6,
     "metadata": {},
     "output_type": "execute_result"
    }
   ],
   "source": [
    "hamiltonian.total"
   ]
  },
  {
   "cell_type": "code",
   "execution_count": 7,
   "id": "fcedfa1e",
   "metadata": {},
   "outputs": [
    {
     "data": {
      "text/latex": [
       "$\\displaystyle \\left[\\begin{matrix}0 & 0 & 0 & 0 & \\frac{Ω_{0} e^{i t ω_{0}}}{2} + \\frac{Ω_{3} e^{i t ω_{3}}}{2}\\\\0 & 0 & 0 & \\frac{Ω_{2} e^{i t ω_{2}}}{2} & \\frac{Ω_{0} e^{i t ω_{0}}}{2} + \\frac{Ω_{3} e^{i t ω_{3}}}{2}\\\\0 & 0 & 0 & 0 & \\frac{Ω_{1} e^{i t ω_{1}}}{2}\\\\0 & \\frac{e^{- i t ω_{2}} \\overline{Ω_{2}}}{2} & 0 & 0 & \\frac{Ω_{1} e^{i t ω_{1}}}{2}\\\\\\frac{e^{- i t ω_{3}} \\overline{Ω_{3}}}{2} + \\frac{e^{- i t ω_{0}} \\overline{Ω_{0}}}{2} & \\frac{e^{- i t ω_{3}} \\overline{Ω_{3}}}{2} + \\frac{e^{- i t ω_{0}} \\overline{Ω_{0}}}{2} & \\frac{e^{- i t ω_{1}} \\overline{Ω_{1}}}{2} & \\frac{e^{- i t ω_{1}} \\overline{Ω_{1}}}{2} & 0\\end{matrix}\\right]$"
      ],
      "text/plain": [
       "Matrix([\n",
       "[                                                          0,                                                           0,                            0,                            0, Ω0*exp(I*t*ω0)/2 + Ω3*exp(I*t*ω3)/2],\n",
       "[                                                          0,                                                           0,                            0,             Ω2*exp(I*t*ω2)/2, Ω0*exp(I*t*ω0)/2 + Ω3*exp(I*t*ω3)/2],\n",
       "[                                                          0,                                                           0,                            0,                            0,                    Ω1*exp(I*t*ω1)/2],\n",
       "[                                                          0,                                exp(-I*t*ω2)*conjugate(Ω2)/2,                            0,                            0,                    Ω1*exp(I*t*ω1)/2],\n",
       "[exp(-I*t*ω3)*conjugate(Ω3)/2 + exp(-I*t*ω0)*conjugate(Ω0)/2, exp(-I*t*ω3)*conjugate(Ω3)/2 + exp(-I*t*ω0)*conjugate(Ω0)/2, exp(-I*t*ω1)*conjugate(Ω1)/2, exp(-I*t*ω1)*conjugate(Ω1)/2,                                   0]])"
      ]
     },
     "execution_count": 7,
     "metadata": {},
     "output_type": "execute_result"
    }
   ],
   "source": [
    "hamiltonian.coupling_matrix"
   ]
  },
  {
   "cell_type": "code",
   "execution_count": 8,
   "id": "b712cbcf",
   "metadata": {},
   "outputs": [
    {
     "data": {
      "text/plain": [
       "{(0, 4): [ω0, ω3], (1, 4): [ω0, ω3], (2, 4): [ω1], (3, 4): [ω1], (1, 3): [ω2]}"
      ]
     },
     "execution_count": 8,
     "metadata": {},
     "output_type": "execute_result"
    }
   ],
   "source": [
    "hamiltonian.coupling_symbol_paths"
   ]
  },
  {
   "cell_type": "code",
   "execution_count": 9,
   "id": "0018ac4d",
   "metadata": {},
   "outputs": [],
   "source": [
    "T = create_transform_matrix(coupling_graph, hamiltonian.coupling_symbol_paths)"
   ]
  },
  {
   "cell_type": "code",
   "execution_count": 10,
   "id": "fc788e8f",
   "metadata": {},
   "outputs": [
    {
     "data": {
      "text/latex": [
       "$\\displaystyle \\left[\\begin{matrix}δ_{0} & 0 & 0 & 0 & \\frac{Ω_{0}}{2} + \\frac{Ω_{3} e^{- i t δ_{0} + i t δ_{3}}}{2}\\\\0 & - E_{0} + E_{1} + δ_{0} & 0 & \\frac{Ω_{2} e^{i t \\left(E_{0} - E_{1} - E_{2} + E_{3} - δ_{0} + δ_{1} + δ_{2}\\right)}}{2} & \\frac{Ω_{0}}{2} + \\frac{Ω_{3} e^{- i t δ_{0} + i t δ_{3}}}{2}\\\\0 & 0 & δ_{1} & 0 & \\frac{Ω_{1}}{2}\\\\0 & \\frac{e^{i t \\left(- E_{0} + E_{1} + E_{2} - E_{3} + δ_{0} - δ_{1} - δ_{2}\\right)} \\overline{Ω_{2}}}{2} & 0 & - E_{2} + E_{3} + δ_{1} & \\frac{Ω_{1}}{2}\\\\\\frac{e^{i t δ_{0} - i t δ_{3}} \\overline{Ω_{3}}}{2} + \\frac{\\overline{Ω_{0}}}{2} & \\frac{e^{i t δ_{0} - i t δ_{3}} \\overline{Ω_{3}}}{2} + \\frac{\\overline{Ω_{0}}}{2} & \\frac{\\overline{Ω_{1}}}{2} & \\frac{\\overline{Ω_{1}}}{2} & 0\\end{matrix}\\right]$"
      ],
      "text/plain": [
       "Matrix([\n",
       "[                                                    δ0,                                                            0,               0,                                                0, Ω0/2 + Ω3*exp(-I*t*δ0 + I*t*δ3)/2],\n",
       "[                                                     0,                                                -E0 + E1 + δ0,               0, Ω2*exp(I*t*(E0 - E1 - E2 + E3 - δ0 + δ1 + δ2))/2, Ω0/2 + Ω3*exp(-I*t*δ0 + I*t*δ3)/2],\n",
       "[                                                     0,                                                            0,              δ1,                                                0,                              Ω1/2],\n",
       "[                                                     0, exp(I*t*(-E0 + E1 + E2 - E3 + δ0 - δ1 - δ2))*conjugate(Ω2)/2,               0,                                    -E2 + E3 + δ1,                              Ω1/2],\n",
       "[exp(I*t*δ0 - I*t*δ3)*conjugate(Ω3)/2 + conjugate(Ω0)/2,       exp(I*t*δ0 - I*t*δ3)*conjugate(Ω3)/2 + conjugate(Ω0)/2, conjugate(Ω1)/2,                                  conjugate(Ω1)/2,                                 0]])"
      ]
     },
     "execution_count": 10,
     "metadata": {},
     "output_type": "execute_result"
    }
   ],
   "source": [
    "hamiltonian_rwa = create_hamiltonian_rwa(hamiltonian, T)\n",
    "hamiltonian_rwa.hamiltonian"
   ]
  },
  {
   "cell_type": "code",
   "execution_count": null,
   "id": "badba5fb",
   "metadata": {},
   "outputs": [],
   "source": []
  }
 ],
 "metadata": {
  "kernelspec": {
   "display_name": "rwa-tools",
   "language": "python",
   "name": "python3"
  },
  "language_info": {
   "codemirror_mode": {
    "name": "ipython",
    "version": 3
   },
   "file_extension": ".py",
   "mimetype": "text/x-python",
   "name": "python",
   "nbconvert_exporter": "python",
   "pygments_lexer": "ipython3",
   "version": "3.11.11"
  }
 },
 "nbformat": 4,
 "nbformat_minor": 5
}
