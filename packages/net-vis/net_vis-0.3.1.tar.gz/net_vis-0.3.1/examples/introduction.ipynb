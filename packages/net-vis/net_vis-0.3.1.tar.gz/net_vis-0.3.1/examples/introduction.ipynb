{
 "cells": [
  {
   "cell_type": "markdown",
   "metadata": {},
   "source": [
    "# Introduction"
   ]
  },
  {
   "cell_type": "code",
   "execution_count": 1,
   "metadata": {},
   "outputs": [],
   "source": [
    "import net_vis"
   ]
  },
  {
   "cell_type": "code",
   "execution_count": 2,
   "metadata": {},
   "outputs": [],
   "source": [
    "data = \"\"\"\n",
    "{\n",
    "  \"nodes\": [\n",
    "    {\n",
    "      \"page_id\": 1,\n",
    "      \"id\": \"Network\"\n",
    "    },\n",
    "    {\n",
    "      \"page_id\": 2,\n",
    "      \"id\": \"Graph\"\n",
    "    }\n",
    "  ],\n",
    "  \"links\": [\n",
    "    {\n",
    "      \"source\": \"Network\",\n",
    "      \"target\": \"Graph\"\n",
    "    }\n",
    "  ]\n",
    "}\n",
    "\"\"\""
   ]
  },
  {
   "cell_type": "code",
   "execution_count": 3,
   "metadata": {},
   "outputs": [
    {
     "data": {
      "text/plain": [
       "{'nodes': [{'page_id': 1, 'id': 'Network'}, {'page_id': 2, 'id': 'Graph'}],\n",
       " 'links': [{'source': 'Network', 'target': 'Graph'}]}"
      ]
     },
     "execution_count": 3,
     "metadata": {},
     "output_type": "execute_result"
    }
   ],
   "source": [
    "import json\n",
    "json.loads(data)"
   ]
  },
  {
   "cell_type": "code",
   "execution_count": 4,
   "metadata": {},
   "outputs": [
    {
     "data": {
      "application/vnd.jupyter.widget-view+json": {
       "model_id": "e6b8538beb4e4601b2dc2054ab1eb41a",
       "version_major": 2,
       "version_minor": 0
      },
      "text/plain": [
       "NetVis(value='\\n{\\n  \"nodes\": [\\n    {\\n      \"page_id\": 1,\\n      \"id\": \"Network\"\\n    },\\n    {\\n      \"page…"
      ]
     },
     "execution_count": 4,
     "metadata": {},
     "output_type": "execute_result"
    }
   ],
   "source": [
    "w = net_vis.NetVis(value=data)\n",
    "w"
   ]
  },
  {
   "cell_type": "code",
   "execution_count": 5,
   "metadata": {},
   "outputs": [],
   "source": [
    "assert w.value == data"
   ]
  },
  {
   "cell_type": "markdown",
   "metadata": {},
   "source": [
    "# Read sample.json"
   ]
  },
  {
   "cell_type": "code",
   "execution_count": 2,
   "metadata": {},
   "outputs": [],
   "source": [
    "with open(\"sample.json\", \"r\", encoding=\"utf-8\") as f:\n",
    "    sample_data = f.read()"
   ]
  },
  {
   "cell_type": "code",
   "execution_count": 3,
   "metadata": {},
   "outputs": [
    {
     "data": {
      "text/plain": [
       "{'directed': True,\n",
       " 'nodes': [{'name': 'Node_0',\n",
       "   'size': 13,\n",
       "   'category': 'Type B',\n",
       "   'description': 'ABCD',\n",
       "   'id': '0'},\n",
       "  {'name': 'Node_1',\n",
       "   'size': 13,\n",
       "   'category': 'Type C',\n",
       "   'description': 'ABCD',\n",
       "   'id': '1'},\n",
       "  {'name': 'Node_2',\n",
       "   'size': 35,\n",
       "   'category': 'Type A',\n",
       "   'description': 'ABCD',\n",
       "   'id': '2'},\n",
       "  {'name': 'Node_3',\n",
       "   'size': 14,\n",
       "   'category': 'Type C',\n",
       "   'description': 'ABCD',\n",
       "   'id': '3'},\n",
       "  {'name': 'Node_4',\n",
       "   'size': 64,\n",
       "   'category': 'Type C',\n",
       "   'description': 'ABCD',\n",
       "   'id': '4'},\n",
       "  {'name': 'Node_5',\n",
       "   'size': 40,\n",
       "   'category': 'Type A',\n",
       "   'description': 'ABCD',\n",
       "   'id': '5'},\n",
       "  {'name': 'Node_6',\n",
       "   'size': 18,\n",
       "   'category': 'Type B',\n",
       "   'description': 'ABCD',\n",
       "   'id': '6'},\n",
       "  {'name': 'Node_7',\n",
       "   'size': 57,\n",
       "   'category': 'Type B',\n",
       "   'description': 'ABCD',\n",
       "   'id': '7'},\n",
       "  {'name': 'Node_8',\n",
       "   'size': 74,\n",
       "   'category': 'Type B',\n",
       "   'description': 'ABCD',\n",
       "   'id': '8'},\n",
       "  {'name': 'Node_9',\n",
       "   'size': 56,\n",
       "   'category': 'Type A',\n",
       "   'description': 'ABCD',\n",
       "   'id': '9'}],\n",
       " 'links': [{'name': 'Edge_1',\n",
       "   'weight': 5.52,\n",
       "   'cost': 15,\n",
       "   'source': '1',\n",
       "   'target': '4'},\n",
       "  {'name': 'Edge_1', 'weight': 6.66, 'cost': 13, 'source': '1', 'target': '6'},\n",
       "  {'name': 'Edge_2', 'weight': 6.22, 'cost': 20, 'source': '2', 'target': '5'},\n",
       "  {'name': 'Edge_3', 'weight': 9.15, 'cost': 1, 'source': '3', 'target': '7'},\n",
       "  {'name': 'Edge_5', 'weight': 6.53, 'cost': 9, 'source': '5', 'target': '6'},\n",
       "  {'name': 'Edge_5', 'weight': 2.22, 'cost': 10, 'source': '5', 'target': '8'},\n",
       "  {'name': 'Edge_6', 'weight': 9.23, 'cost': 17, 'source': '6', 'target': '9'},\n",
       "  {'name': 'Edge_7', 'weight': 2.57, 'cost': 13, 'source': '7', 'target': '8'},\n",
       "  {'name': 'Edge_7', 'weight': 8.1, 'cost': 11, 'source': '7', 'target': '9'}]}"
      ]
     },
     "execution_count": 3,
     "metadata": {},
     "output_type": "execute_result"
    }
   ],
   "source": [
    "import json\n",
    "json.loads(sample_data)"
   ]
  },
  {
   "cell_type": "code",
   "execution_count": 13,
   "metadata": {
    "scrolled": true
   },
   "outputs": [
    {
     "data": {
      "application/vnd.jupyter.widget-view+json": {
       "model_id": "59ab4df860e74e4493985c3b2644c8d7",
       "version_major": 2,
       "version_minor": 0
      },
      "text/plain": [
       "NetVis(value='{\\n  \"directed\": true,\\n  \"nodes\": [\\n    {\\n      \"name\": \"Node_0\",\\n      \"size\": 13,\\n      \"…"
      ]
     },
     "execution_count": 13,
     "metadata": {},
     "output_type": "execute_result"
    }
   ],
   "source": [
    "w2 = net_vis.NetVis(value=sample_data)\n",
    "w2"
   ]
  },
  {
   "cell_type": "code",
   "execution_count": null,
   "metadata": {},
   "outputs": [],
   "source": []
  }
 ],
 "metadata": {
  "kernelspec": {
   "display_name": "Python 3 (ipykernel)",
   "language": "python",
   "name": "python3"
  },
  "language_info": {
   "codemirror_mode": {
    "name": "ipython",
    "version": 3
   },
   "file_extension": ".py",
   "mimetype": "text/x-python",
   "name": "python",
   "nbconvert_exporter": "python",
   "pygments_lexer": "ipython3",
   "version": "3.12.7"
  }
 },
 "nbformat": 4,
 "nbformat_minor": 4
}
