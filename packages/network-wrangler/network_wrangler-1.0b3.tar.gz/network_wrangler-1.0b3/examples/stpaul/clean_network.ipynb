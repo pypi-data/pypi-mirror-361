{
 "cells": [
  {
   "cell_type": "markdown",
   "metadata": {},
   "source": [
    "# Clean Network\n",
    "\n",
    "Cleans the network files to be only what is specified in the data model so as not to store extraneous data / minimize space.\n",
    "\n",
    "## Roadway"
   ]
  },
  {
   "cell_type": "code",
   "execution_count": 54,
   "metadata": {},
   "outputs": [],
   "source": [
    "from pathlib import Path\n",
    "\n",
    "from network_wrangler import load_roadway_from_dir, load_transit, write_roadway, write_transit\n",
    "from network_wrangler.models.gtfs.tables import (\n",
    "    RoutesTable,\n",
    "    WranglerFrequenciesTable,\n",
    "    WranglerShapesTable,\n",
    "    WranglerStopsTable,\n",
    "    WranglerStopTimesTable,\n",
    "    WranglerTripsTable,\n",
    ")\n",
    "from network_wrangler.models.roadway.tables import RoadLinksTable, RoadNodesTable, RoadShapesTable"
   ]
  },
  {
   "cell_type": "code",
   "execution_count": 43,
   "metadata": {},
   "outputs": [],
   "source": [
    "def shared_fields_w_datamodel(df, model):\n",
    "    \"\"\"Returns a list of fields that are in both the dataframe and the datamodel.\"\"\"\n",
    "    model_fields = list(model.__fields__.keys())\n",
    "    df_fields = list(df.columns)\n",
    "    return list(set(model_fields).intersection(df_fields))"
   ]
  },
  {
   "cell_type": "code",
   "execution_count": null,
   "metadata": {},
   "outputs": [],
   "source": [
    "og_net = load_roadway_from_dir(Path.cwd())"
   ]
  },
  {
   "cell_type": "code",
   "execution_count": 22,
   "metadata": {},
   "outputs": [],
   "source": [
    "links_data_model_fields = list(RoadLinksTable.__fields__.keys())\n",
    "shared_fields = set(links_data_model_fields).intersection(set(og_net.links_df.columns))\n",
    "DEL_FIELDS = [\"locationReferences\"]\n",
    "KEEP_FIELDS = [\"geometry\"]\n",
    "specified_fields = [\"model_link_id\", \"A\", \"B\", \"name\", \"osm_link_id\"]\n",
    "remaining_fields = list(\n",
    "    shared_fields.union(set(KEEP_FIELDS)) - set(DEL_FIELDS) - set(specified_fields)\n",
    ")\n",
    "final_fields = specified_fields + remaining_fields\n",
    "og_net.links_df = og_net.links_df[final_fields]"
   ]
  },
  {
   "cell_type": "code",
   "execution_count": 27,
   "metadata": {},
   "outputs": [],
   "source": [
    "nodes_data_model_fields = list(RoadNodesTable.__fields__.keys())\n",
    "shared_node_fields = list(set(nodes_data_model_fields).intersection(set(og_net.nodes_df.columns)))\n",
    "og_net.nodes_df = og_net.nodes_df[shared_node_fields]"
   ]
  },
  {
   "cell_type": "code",
   "execution_count": 32,
   "metadata": {},
   "outputs": [],
   "source": [
    "shapes_data_model_fields = list(RoadShapesTable.__fields__.keys())\n",
    "shared_shapes_fields = list(\n",
    "    set(shapes_data_model_fields).intersection(set(og_net.shapes_df.columns))\n",
    ")\n",
    "og_net.shapes_df = og_net.shapes_df[shared_shapes_fields]"
   ]
  },
  {
   "cell_type": "code",
   "execution_count": 36,
   "metadata": {},
   "outputs": [],
   "source": [
    "write_roadway(og_net, Path.cwd() / \"smaller\")"
   ]
  },
  {
   "cell_type": "code",
   "execution_count": 37,
   "metadata": {},
   "outputs": [],
   "source": [
    "smaller_net = load_roadway_from_dir(Path.cwd() / \"smaller\")\n",
    "smaller_net.links_df"
   ]
  },
  {
   "cell_type": "markdown",
   "metadata": {},
   "source": [
    "## Transit"
   ]
  },
  {
   "cell_type": "code",
   "execution_count": null,
   "metadata": {},
   "outputs": [],
   "source": [
    "og_transit = load_transit(Path.cwd())"
   ]
  },
  {
   "cell_type": "code",
   "execution_count": 49,
   "metadata": {},
   "outputs": [],
   "source": [
    "sh_f = shared_fields_w_datamodel(og_transit.feed.shapes, WranglerShapesTable)\n",
    "og_transit.feed.shapes = og_transit.feed.shapes[sh_f]"
   ]
  },
  {
   "cell_type": "code",
   "execution_count": 51,
   "metadata": {},
   "outputs": [],
   "source": [
    "sh_f = shared_fields_w_datamodel(og_transit.feed.trips, WranglerTripsTable)\n",
    "og_transit.feed.trips = og_transit.feed.trips[sh_f]"
   ]
  },
  {
   "cell_type": "code",
   "execution_count": 63,
   "metadata": {},
   "outputs": [],
   "source": [
    "write_transit(og_transit, Path.cwd() / \"smaller\")"
   ]
  },
  {
   "cell_type": "code",
   "execution_count": null,
   "metadata": {},
   "outputs": [],
   "source": [
    "smaller_transit = load_transit(Path.cwd() / \"smaller\")"
   ]
  }
 ],
 "metadata": {
  "kernelspec": {
   "display_name": "wrangler-dev",
   "language": "python",
   "name": "python3"
  },
  "language_info": {
   "codemirror_mode": {
    "name": "ipython",
    "version": 3
   },
   "file_extension": ".py",
   "mimetype": "text/x-python",
   "name": "python",
   "nbconvert_exporter": "python",
   "pygments_lexer": "ipython3",
   "version": "3.10.15"
  }
 },
 "nbformat": 4,
 "nbformat_minor": 2
}
