{
 "cells": [
  {
   "cell_type": "markdown",
   "id": "28a5b50c",
   "metadata": {},
   "source": [
    "# Cowell Propagation\n",
    "\n",
    "This example demonstrates thecapabilities of AstroDynX's numerical orbital propagation using Cowell's method. The example compares different integration approaches and showcases JAX's automatic differentiation for computing state transition matrices.\n",
    "\n",
    "## Key Features Demonstrated\n",
    "\n",
    "**Numerical Integration**\n",
    "- Cowell's method for orbital propagation\n",
    "- Event detection during integration\n",
    "- J2 perturbation effects\n",
    "\n",
    "**JAX Capabilities**\n",
    "- Automatic differentiation for state transition matrices\n",
    "- JIT compilation for performance optimization\n",
    "- Vectorized operations for batch processing"
   ]
  },
  {
   "cell_type": "markdown",
   "id": "setup_section",
   "metadata": {},
   "source": [
    "## Setup and Configuration\n",
    "\n",
    "First, we import the necessary libraries and configure JAX for high precision computation. We also check the available devices for potential GPU acceleration."
   ]
  },
  {
   "cell_type": "code",
   "execution_count": 1,
   "id": "c19da775",
   "metadata": {},
   "outputs": [
    {
     "data": {
      "text/plain": [
       "[CudaDevice(id=0), CudaDevice(id=1)]"
      ]
     },
     "execution_count": 1,
     "metadata": {},
     "output_type": "execute_result"
    }
   ],
   "source": [
    "%load_ext autoreload\n",
    "%autoreload 2 \n",
    "\n",
    "from jax import numpy as jnp\n",
    "import jax\n",
    "import diffrax\n",
    "import astrodynx as adx\n",
    "from matplotlib import pyplot as plt\n",
    "\n",
    "jax.config.update(\"jax_enable_x64\", True)\n",
    "jax.devices()"
   ]
  },
  {
   "cell_type": "markdown",
   "id": "propagation_explanation",
   "metadata": {},
   "source": [
    "## Orbital Propagation with Event Detection\n",
    "\n",
    "The above example demonstrates Cowell's method for orbital propagation with the following key features:\n",
    "\n",
    "- **Force Models**: We combine point mass gravity with J2 perturbations to model Earth's oblateness\n",
    "- **Event Detection**: The integration automatically stops when the satellite altitude drops below a minimum radius\n",
    "- **Adaptive Integration**: The solver uses adaptive time stepping for optimal accuracy and efficiency\n",
    "\n",
    "The trajectory shows the satellite's path in the x-y plane, with the gray circle representing the minimum allowed altitude. The integration terminates when the satellite would impact this boundary.\n",
    "\n",
    "## Mathematical Background\n",
    "\n",
    "**Cowell's Method**\n",
    "\n",
    "Direct numerical integration of the equations of motion:\n",
    "\n",
    "$$\\frac{d^2\\mathbf{r}}{dt^2} = -\\frac{\\mu}{r^3}\\mathbf{r} + \\mathbf{a}_{pert}$$\n",
    "\n",
    "**J2 Perturbation**\n",
    "\n",
    "Earth's oblateness effect:\n",
    "\n",
    "$$\\mathbf{a}_{J2} = -\\frac{3\\mu J_2 R_E^2}{2r^5}\\begin{bmatrix}\n",
    "x(5z^2/r^2 - 1) \\\\\n",
    "y(5z^2/r^2 - 1) \\\\\n",
    "z(5z^2/r^2 - 3)\n",
    "\\end{bmatrix}$$\n",
    "\n",
    "**Event Detection**\n",
    "\n",
    "The integration stops when the satellite falls below the minimum radius.\n",
    "$$r < r_{min}$$\n"
   ]
  },
  {
   "cell_type": "code",
   "execution_count": 2,
   "id": "58d81328",
   "metadata": {},
   "outputs": [
    {
     "name": "stdout",
     "output_type": "stream",
     "text": [
      "solution steps: 100\n",
      "ts shape: (69,)\n"
     ]
    },
    {
     "data": {
      "image/png": "[encoded data removed]",
      "text/plain": [
       "<Figure size 640x480 with 1 Axes>"
      ]
     },
     "metadata": {},
     "output_type": "display_data"
    }
   ],
   "source": [
    "def vector_field(t, x, args):\n",
    "    acc = adx.gravity.point_mass_grav(t, x, args)\n",
    "    acc += adx.gravity.j2_acc(t, x, args)\n",
    "    return jnp.concatenate([x[3:], acc])\n",
    "\n",
    "\n",
    "args = {\"mu\": 1.0, \"rmin\": 0.7, \"J2\": 1e-6, \"R_eq\": 1.0}\n",
    "t1 = 3.14\n",
    "ts = jnp.linspace(0, t1, 100)\n",
    "x0 = jnp.array([1.0, 0.0, 0.0, 0.0, 0.9, 0.0])\n",
    "saveat = diffrax.SaveAt(steps=True)\n",
    "event = diffrax.Event(adx.events.radius_toolow)\n",
    "term = diffrax.ODETerm(vector_field)\n",
    "sol = adx.spprop_steps(term, x0, t1, ts, args=args, event=event)\n",
    "\n",
    "ts = jax.device_get(sol.ts[jnp.isfinite(sol.ts)])\n",
    "print(f\"solution steps: {sol.ts.size}\")\n",
    "print(f\"ts shape: {ts.shape}\")\n",
    "\n",
    "fig, ax = plt.subplots()\n",
    "ax.plot(sol.ys[:, 0], sol.ys[:, 1], label=\"Trajectory\")\n",
    "circle = plt.Circle(\n",
    "    (0, 0), radius=args[\"rmin\"], color=\"lightgray\", label=f\"Min radius ({args['rmin']})\"\n",
    ")\n",
    "ax.add_patch(circle)\n",
    "ax.set_aspect(\"equal\")\n",
    "ax.set_xlim(-1.2, 1.2)\n",
    "ax.set_ylim(-1.2, 1.2)\n",
    "ax.legend()\n",
    "plt.show()"
   ]
  },
  {
   "cell_type": "markdown",
   "id": "4228678a",
   "metadata": {},
   "source": [
    "## State Transition Matrix Computation\n",
    "\n",
    "The above example demonstrates a powerful capability of JAX: computing exact derivatives through automatic differentiation. Here's what happened:\n",
    "\n",
    "1. **Automatic Jacobian**: `jax.jacrev(yf)(x0)` computes the Jacobian matrix $\\frac{\\partial \\mathbf{x}(t)}{\\partial \\mathbf{x}_0}$ automatically\n",
    "2. **Analytical Comparison**: We compare against the analytical two-body solution to verify accuracy\n",
    "3. **High Precision**: The results match to machine precision (1e-7 tolerance)\n",
    "\n",
    "**State Transition Matrix**\n",
    "\n",
    "The linearized dynamics around a reference trajectory:\n",
    "\n",
    "$$\\Phi(t, t_0) = \\frac{\\partial \\mathbf{x}(t)}{\\partial \\mathbf{x}_0}$$"
   ]
  },
  {
   "cell_type": "code",
   "execution_count": 3,
   "id": "f952b371",
   "metadata": {},
   "outputs": [],
   "source": [
    "deltat = 2.5803148345055149\n",
    "mu = 1.0\n",
    "\n",
    "# initial state\n",
    "r0_vec = jnp.array([-0.66234662571997105, 0.74919751798749190, -1.6259997018919074e-4])\n",
    "v0_vec = jnp.array([-0.8166746784630675, -0.32961417380268476, 0.006248107587795581])\n",
    "\n",
    "# final state\n",
    "r_vec = jnp.array([-0.24986234273434585, -0.69332384278075210, 4.9599012168662551e-3])\n",
    "v_vec = jnp.array([1.2189179487500401, 0.05977450696618754, -0.007101943980682161])"
   ]
  },
  {
   "cell_type": "markdown",
   "id": "bb35ce97",
   "metadata": {},
   "source": [
    "### Verify the finnal state"
   ]
  },
  {
   "cell_type": "code",
   "execution_count": 4,
   "id": "1fee24b2",
   "metadata": {},
   "outputs": [],
   "source": [
    "def vector_field(t, x, args):\n",
    "    acc = adx.gravity.point_mass_grav(t, x, args)\n",
    "    return jnp.concatenate([x[3:], acc])\n",
    "\n",
    "\n",
    "args = {\"mu\": mu}\n",
    "x0 = jnp.concatenate([r0_vec, v0_vec])\n",
    "x1 = jnp.concatenate([r_vec, v_vec])\n",
    "term = diffrax.ODETerm(vector_field)\n",
    "sol = adx.spprop_finnal(term, x0, deltat, args=args)\n",
    "assert jnp.allclose(sol.ys[-1], x1, atol=1e-7)"
   ]
  },
  {
   "cell_type": "markdown",
   "id": "0863d694",
   "metadata": {},
   "source": [
    "### Compute the State Transition Matrix"
   ]
  },
  {
   "cell_type": "code",
   "execution_count": 5,
   "id": "7cec19dd",
   "metadata": {},
   "outputs": [],
   "source": [
    "def yf(x):\n",
    "    return adx.spprop_finnal(term, x, deltat, args=args).ys[-1]\n",
    "\n",
    "\n",
    "jac_auto = jax.jacrev(yf)(x0)\n",
    "\n",
    "jac_analytic = adx.twobody.dxdx0(r_vec, v_vec, r0_vec, v0_vec, deltat)\n",
    "assert jnp.allclose(jac_auto, jac_analytic, atol=1e-7)"
   ]
  }
 ],
 "metadata": {
  "kernelspec": {
   "display_name": "Python 3",
   "language": "python",
   "name": "python3"
  },
  "language_info": {
   "codemirror_mode": {
    "name": "ipython",
    "version": 3
   },
   "file_extension": ".py",
   "mimetype": "text/x-python",
   "name": "python",
   "nbconvert_exporter": "python",
   "pygments_lexer": "ipython3",
   "version": "3.12.3"
  }
 },
 "nbformat": 4,
 "nbformat_minor": 5
}
