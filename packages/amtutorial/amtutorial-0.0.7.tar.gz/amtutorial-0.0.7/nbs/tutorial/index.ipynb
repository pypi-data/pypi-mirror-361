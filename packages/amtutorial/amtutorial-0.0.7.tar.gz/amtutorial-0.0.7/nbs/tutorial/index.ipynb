{
 "cells": [
  {
   "cell_type": "markdown",
   "id": "a96d1b8f",
   "metadata": {},
   "source": [
    "# Tutorials\n",
    "> A collection of computational notebooks and tutorials"
   ]
  },
  {
   "cell_type": "markdown",
   "id": "d9505d82",
   "metadata": {},
   "source": [
    "\n",
    "- [Dense Storage in binary networks](./00_dense_storage.ipynb). A whirlwind tour of the Classical Hopfield Network to Dense Associative Memory.\n",
    "- [Energy Transformer](./01_energy_transformer.ipynb). Rederiving the Transformer as a pure associative memory\n",
    "- [Diffusion as Memory](./02_diffusion_as_memory.ipynb). Diffusion models try to learn implicitly the energy of data explicitly modeled by AMs.\n",
    "- [Distributed memory](./03_distributed_memory.ipynb). A way to encode dense storage capacity in constant parameters.\n",
    "\n",
    ":::{.callout-note}\n",
    "These tutorials are under construction until July 14, 2025, when this tutorial will be presented at ICML 2025.\n",
    ":::"
   ]
  }
 ],
 "metadata": {
  "language_info": {
   "name": "python"
  }
 },
 "nbformat": 4,
 "nbformat_minor": 5
}
