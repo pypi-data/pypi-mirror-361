{
 "cells": [
  {
   "cell_type": "markdown",
   "id": "1a108871",
   "metadata": {},
   "source": [
    "# Single Instrument Cash Flow Advanced via Sync Post"
   ]
  },
  {
   "cell_type": "markdown",
   "id": "3a4cef20",
   "metadata": {},
   "source": [
    "This notebook demonstrates how to access and use the functinalities of **Cash Flow** which are part of our **Yiedbook** module within LSEG Financial Analytics SDK.\n",
    "\n",
    "Main goal of this notebook is to explore and display an approach in fetching Cash Flow information by using synchronous POST method."
   ]
  },
  {
   "cell_type": "markdown",
   "id": "7cd0ad84",
   "metadata": {},
   "source": [
    "## Imports"
   ]
  },
  {
   "cell_type": "markdown",
   "id": "37a963b7",
   "metadata": {},
   "source": [
    "Import the following necessary modules:\n",
    "\n",
    "- *post_cash_flow_sync* - main Synchronous POST method\n",
    "- *CashFlowGlobalSettings* - Class wrapper for Global Settings \n",
    "- *CashFlowInput* - Class wrapper for Input parameters\n",
    "- *json* - for display purposes "
   ]
  },
  {
   "cell_type": "code",
   "execution_count": 1,
   "id": "fb2218f1",
   "metadata": {
    "execution": {
     "iopub.execute_input": "2025-06-27T09:41:24.538375Z",
     "iopub.status.busy": "2025-06-27T09:41:24.537927Z",
     "iopub.status.idle": "2025-06-27T09:41:25.009401Z",
     "shell.execute_reply": "2025-06-27T09:41:25.008503Z"
    }
   },
   "outputs": [],
   "source": [
    "from lseg_analytics.yield_book_rest import (\n",
    "        post_cash_flow_sync,\n",
    "        CashFlowGlobalSettings, \n",
    "        CashFlowInput,\n",
    "        Volatility,\n",
    "        CurveTypeAndCurrency,\n",
    "        LossSettings,\n",
    "        RestPrepaySettings,\n",
    "        CashflowFloaterSettings,\n",
    "        CashflowMbsSettings,\n",
    "        MuniSettings\n",
    ")\n",
    "import json as js"
   ]
  },
  {
   "cell_type": "markdown",
   "id": "b9c3dd46",
   "metadata": {},
   "source": [
    "## Data Preparation"
   ]
  },
  {
   "cell_type": "markdown",
   "id": "99cc4078",
   "metadata": {},
   "source": [
    "Cash Flow Sync Post method consumes two input arguments: \n",
    "- Global settings \n",
    "    - settings applicable in overall cash flow calculation\n",
    "- Inputs\n",
    "    - separate parameters to describe and enable specific CF information"
   ]
  },
  {
   "cell_type": "code",
   "execution_count": 2,
   "id": "de772105",
   "metadata": {
    "execution": {
     "iopub.execute_input": "2025-06-27T09:41:25.015084Z",
     "iopub.status.busy": "2025-06-27T09:41:25.012405Z",
     "iopub.status.idle": "2025-06-27T09:41:25.032433Z",
     "shell.execute_reply": "2025-06-27T09:41:25.031606Z"
    }
   },
   "outputs": [],
   "source": [
    "# Formulate Request body parameters - Global Settings\n",
    "global_settings = CashFlowGlobalSettings(\n",
    "            pricing_date=\"2025-01-13\",\n",
    "            use_previous_close=True,\n",
    "            use_live_data=False,\n",
    "            volatility=Volatility(\n",
    "                type=\"Market\",\n",
    "                rate=1.11,\n",
    "            ),\n",
    "            retrieve_ppm_projection=True,\n",
    "            core_logic_collateral=\"DEFAULT\",\n",
    "        )\n",
    "\n",
    "\n",
    "# Formulate Request body parameters - Input \n",
    "input = CashFlowInput(\n",
    "            identifier=\"01F002628\",\n",
    "            id_type=\"CUSIP\",\n",
    "            curve=CurveTypeAndCurrency(\n",
    "                curve_type=\"GVT\",\n",
    "                currency=\"USD\",\n",
    "                retrieve_curve=True,\n",
    "                snapshot=\"EOD\",\n",
    "            ),\n",
    "            settlement_type=\"MARKET\",\n",
    "            settlement_date=\"2025-01-15\",\n",
    "            custom_settlement=\"custom_settlement\",\n",
    "            par_amount=\"10000\",\n",
    "            loss_settings=LossSettings(\n",
    "                default_type=\"SDA\",\n",
    "                default_rate=0.01,\n",
    "                severity_type=\"MODEL\",\n",
    "                severity_rate=0.01,\n",
    "                recovery_lag=1,\n",
    "                delinquency_type=\"PASS\",\n",
    "                delinquency_rate=0.01,\n",
    "                use_model_loan_modifications=True,\n",
    "                ignore_insurance=True,\n",
    "            ),\n",
    "            prepay=RestPrepaySettings(\n",
    "                type=\"Model\",\n",
    "                rate=0.01,\n",
    "            ),\n",
    "            floater_settings=CashflowFloaterSettings(\n",
    "                use_forward_index=True,\n",
    "                forward_index_rate=0.01,\n",
    "                calculate_to_maturity=True,\n",
    "            ),\n",
    "            muni_settings=MuniSettings(paydown_optional=True, ignore_call_info=True, use_stub_rate=True),\n",
    "            mbs_settings=CashflowMbsSettings(\n",
    "                use_roll_info=True, assume_call=True, step_down_fail=True, show_collateral_cash_flow=True\n",
    "            )\n",
    ")"
   ]
  },
  {
   "cell_type": "markdown",
   "id": "a120b720",
   "metadata": {},
   "source": [
    "## Synchronous POST Data retrieval"
   ]
  },
  {
   "cell_type": "markdown",
   "id": "0c5fcfe5",
   "metadata": {},
   "source": [
    "Once the data is prepared, it can be provided to the main method execution for data retrieval:"
   ]
  },
  {
   "cell_type": "code",
   "execution_count": 3,
   "id": "bb2ba0b4",
   "metadata": {
    "execution": {
     "iopub.execute_input": "2025-06-27T09:41:25.035399Z",
     "iopub.status.busy": "2025-06-27T09:41:25.035130Z",
     "iopub.status.idle": "2025-06-27T09:41:27.226507Z",
     "shell.execute_reply": "2025-06-27T09:41:27.225789Z"
    }
   },
   "outputs": [],
   "source": [
    "# Execute Post sync request with prepared inputs\n",
    "cf_async_get_response = post_cash_flow_sync(\n",
    "                            global_settings=global_settings,\n",
    "                            input=[input]\n",
    "                        )"
   ]
  },
  {
   "cell_type": "markdown",
   "id": "6b7ec6ed",
   "metadata": {},
   "source": [
    "## Display results"
   ]
  },
  {
   "cell_type": "markdown",
   "id": "5a4bd41e",
   "metadata": {},
   "source": [
    "Results data is structured in JSON format so it can be easily displayed using print function:"
   ]
  },
  {
   "cell_type": "code",
   "execution_count": 4,
   "id": "6be03632",
   "metadata": {
    "execution": {
     "iopub.execute_input": "2025-06-27T09:41:27.229739Z",
     "iopub.status.busy": "2025-06-27T09:41:27.229384Z",
     "iopub.status.idle": "2025-06-27T09:41:27.239604Z",
     "shell.execute_reply": "2025-06-27T09:41:27.239005Z"
    }
   },
   "outputs": [],
   "source": [
    "# Print output to a file, as CF output is too long for terminal printout\n",
    "print(js.dumps(cf_async_get_response, indent=4), file=open('CF_output.json', 'w+'))"
   ]
  }
 ],
 "metadata": {
  "kernelspec": {
   "display_name": "env",
   "language": "python",
   "name": "python3"
  },
  "language_info": {
   "codemirror_mode": {
    "name": "ipython",
    "version": 3
   },
   "file_extension": ".py",
   "mimetype": "text/x-python",
   "name": "python",
   "nbconvert_exporter": "python",
   "pygments_lexer": "ipython3",
   "version": "3.11.6"
  }
 },
 "nbformat": 4,
 "nbformat_minor": 5
}
