{
 "cells": [
  {
   "cell_type": "code",
   "execution_count": 1,
   "metadata": {},
   "outputs": [],
   "source": [
    "%load_ext autoreload\n",
    "%autoreload 2"
   ]
  },
  {
   "cell_type": "code",
   "execution_count": null,
   "metadata": {},
   "outputs": [],
   "source": [
    "import os\n",
    "\n",
    "data_base_path = os.getenv(\"DATA_BASE_PATH\", \"./data\")  # default or raise with message\n",
    "if not data_base_path:\n",
    "    raise RuntimeError(\n",
    "        \"DATA_BASE_PATH env-var is required – point it to your dataset root.\"\n",
    "    )"
   ]
  },
  {
   "cell_type": "markdown",
   "metadata": {},
   "source": [
    "### Intro\n",
    "- For this reasoning demo we will use the financeBench documents to customize a model on SEC fillings"
   ]
  },
  {
   "cell_type": "code",
   "execution_count": 8,
   "metadata": {},
   "outputs": [
    {
     "data": {
      "text/html": [
       "<pre style=\"white-space:pre;overflow-x:auto;line-height:normal;font-family:Menlo,'DejaVu Sans Mono',consolas,'Courier New',monospace\"><span style=\"color: #7fbfbf; text-decoration-color: #7fbfbf\">[14:57:13] </span><span style=\"color: #000080; text-decoration-color: #000080\">INFO    </span> HTTP Request: <span style=\"color: #808000; text-decoration-color: #808000; font-weight: bold\">GET</span> <span style=\"color: #0000ff; text-decoration-color: #0000ff; text-decoration: underline\">http://localhost:8000/v1/models</span> <span style=\"color: #008000; text-decoration-color: #008000\">\"HTTP/1.1 200 OK\"</span>             <a href=\"file:///home/lab/.conda/envs/research_sdg/lib/python3.10/site-packages/httpx/_client.py\" target=\"_blank\"><span style=\"color: #7f7f7f; text-decoration-color: #7f7f7f\">_client.py</span></a><span style=\"color: #7f7f7f; text-decoration-color: #7f7f7f\">:</span><a href=\"file:///home/lab/.conda/envs/research_sdg/lib/python3.10/site-packages/httpx/_client.py#1025\" target=\"_blank\"><span style=\"color: #7f7f7f; text-decoration-color: #7f7f7f\">1025</span></a>\n",
       "</pre>\n"
      ],
      "text/plain": [
       "\u001b[2;36m[14:57:13]\u001b[0m\u001b[2;36m \u001b[0m\u001b[34mINFO    \u001b[0m HTTP Request: \u001b[1;33mGET\u001b[0m \u001b[4;94mhttp://localhost:8000/v1/models\u001b[0m \u001b[32m\"HTTP/1.1 200 OK\"\u001b[0m             \u001b]8;id=613503;file:///home/lab/.conda/envs/research_sdg/lib/python3.10/site-packages/httpx/_client.py\u001b\\\u001b[2m_client.py\u001b[0m\u001b]8;;\u001b\\\u001b[2m:\u001b[0m\u001b]8;id=722975;file:///home/lab/.conda/envs/research_sdg/lib/python3.10/site-packages/httpx/_client.py#1025\u001b\\\u001b[2m1025\u001b[0m\u001b]8;;\u001b\\\n"
      ]
     },
     "metadata": {},
     "output_type": "display_data"
    }
   ],
   "source": [
    "from datasets import load_dataset, concatenate_datasets\n",
    "from openai import OpenAI\n",
    "\n",
    "endpoint = f\"http://localhost:8000/v1\"\n",
    "openai_api_key = \"EMPTY\"\n",
    "openai_api_base = endpoint\n",
    "\n",
    "client = OpenAI(\n",
    "    api_key=openai_api_key,\n",
    "    base_url=openai_api_base,\n",
    ")\n",
    "teacher_model = client.models.list().data[0].id"
   ]
  },
  {
   "cell_type": "markdown",
   "metadata": {},
   "source": [
    "### Do Document Processing on Finance Bench Documents\n",
    "- git clone https://github.com/patronus-ai/financebench.git to get pdfs\n",
    "- We will use docling and its hybrid chunker to parse and convert these pdfs into chunks"
   ]
  },
  {
   "cell_type": "code",
   "execution_count": null,
   "metadata": {},
   "outputs": [],
   "source": [
    "data_dir = 'document_collection/ibm-annual-report'\n",
    "!OMP_NUM_THREADS=32 mamba run -n docling python ../scripts/docparser_v2.py --input-dir financebench/finance_documents/ --output-dir financebench/finance_documents/ -c docling_v2_config.yaml"
   ]
  },
  {
   "cell_type": "code",
   "execution_count": 1,
   "metadata": {},
   "outputs": [],
   "source": [
    "import yaml\n",
    "config = {\n",
    "    \"pipeline\": {\n",
    "        \"ocr\": {\n",
    "            \"enabled\": True,      # Enable/disable OCR processing\n",
    "            \"languages\": [\"es\"],  # List of language codes (e.g., eng, fra, deu)\n",
    "        },\n",
    "        \"tables\": {\n",
    "            \"enabled\": True,        # Enable/disable table detection\n",
    "            \"cell_matching\": True,  # Enable/disable cell matching in tables\n",
    "        },\n",
    "        \"performance\": {\n",
    "            \"threads\": 32,          # Number of processing threads\n",
    "            \"device\": \"auto\"       # Device selection (auto, cpu, gpu)\n",
    "        }\n",
    "    },\n",
    "    \"export\": {\n",
    "        \"formats\": {\n",
    "            \"json\": False,      # Deep Search JSON format\n",
    "            \"text\": False,      # Plain text\n",
    "            \"markdown\": True,  # Markdown with structure\n",
    "            \"html\": True,     # HTML with styling\n",
    "            \"doctags\": False   # Document tokens\n",
    "        }\n",
    "    }\n",
    "}\n",
    "\n",
    "with open('docling_v2_config.yaml', 'w') as f:\n",
    "    yaml.dump(config, f)\n"
   ]
  },
  {
   "cell_type": "code",
   "execution_count": null,
   "metadata": {},
   "outputs": [],
   "source": [
    "import os\n",
    "from datasets import load_dataset\n",
    "\n",
    "ds = load_dataset(\"PatronusAI/financebench\", split=\"train\")\n",
    "ds.filter(lambda x: '3M' in x['doc_name'])\n",
    "all_docs = ds['doc_name']\n",
    "all_pdfs = [e.replace(\".pdf\", \"\") for e in os.listdir(\"financebench/pdfs/\")]\n",
    "all_pdfs = [e for e in all_pdfs if e in all_docs]\n",
    "import shutil\n",
    "# Copy the pdfs to the financebench/pdfs_filtered/ directory\n",
    "os.makedirs(\"financebench/pdfs_filtered/\", exist_ok=True)\n",
    "for pdf in all_pdfs:\n",
    "    shutil.copy(f\"financebench/pdfs/{pdf}.pdf\", f\"financebench/pdfs_filtered/{pdf}.pdf\")"
   ]
  },
  {
   "cell_type": "code",
   "execution_count": 98,
   "metadata": {},
   "outputs": [],
   "source": [
    "# We can reuse ICLs from the previous quality data\n",
    "icls = [{\n",
    "  \"icl_document\": \"\"\"**Investor Briefing Summary: 3M 2022 Financial Highlights**  \n",
    "\n",
    "**Total Company Performance (YoY Change)**  \n",
    "- **Revenue**: $34.229B (↓3.2% from $35.355B in 2021)  \n",
    "- **Operating Income**: $6.539B (↓11.3% from $7.369B in 2021)  \n",
    "- **Operating Margin**: 19.1% (↓1.7% from 20.8% in 2021)  \n",
    "\n",
    "**Segment Performance (YoY Changes)**  \n",
    "1. **Safety and Industrial**  \n",
    "   - Revenue: $11.604B (↓3.2%)  \n",
    "   - Operating Income: $1.199B (↓51.4%)  \n",
    "   *Sharp decline due to litigation costs (PFAS-related) and productivity headwinds.*  \n",
    "\n",
    "2. **Transportation and Electronics**  \n",
    "   - Revenue: $8.902B (↓3.9%)  \n",
    "   - Operating Income: $1.012B (↓46.2%)  \n",
    "   *Impacted by divestitures and currency translation.*  \n",
    "\n",
    "3. **Health Care**  \n",
    "   - Revenue: $8.421B (↓2.0%)  \n",
    "   - Operating Income: $1.815B (↓10.9%)  \n",
    "   *Most resilient segment, with organic growth offset by currency.*  \n",
    "\n",
    "4. **Consumer**  \n",
    "   - Revenue: $5.298B (↓3.9%)  \n",
    "   - Operating Income: $994M (↓14.4%)  \n",
    "   *Organic sales declined 0.9% amid pricing and logistics challenges.*  \n",
    "\n",
    "5. **Corporate and Unallocated**  \n",
    "   - Operating Income: $1.519B (vs. $(176)M in 2021)  \n",
    "   *Driven by divestiture gains and reduced unallocated costs.*\"\"\",\n",
    "\n",
    "  \"icl_query_1\": \"How did 3M’s overall financial performance change in 2022 compared to 2021?\",\n",
    "  \"icl_response_1\": \"In 2022, 3M’s total revenue declined by 3.2% year-over-year, falling from $35.355 billion in 2021 to $34.229 billion. Operating income also decreased by 11.3%, dropping from $7.369 billion to $6.539 billion, while the operating margin declined from 20.8% to 19.1%.\",\n",
    "  \"icl_query_2\": \"What factors contributed to the significant decline in operating income in the Safety and Industrial segment?\",\n",
    "  \"icl_response_2\": \"The Safety and Industrial segment saw a 51.4% drop in operating income, down to $1.199 billion. This sharp decline was primarily attributed to litigation costs related to PFAS and productivity headwinds.\",\n",
    "\n",
    "  \"icl_query_3\": \"Which segment showed the most resilience in 3M’s 2022 performance, and what challenges did it face?\",\n",
    "  \"icl_response_3\": \"The Health Care segment was the most resilient in 2022, experiencing the smallest year-over-year revenue decline of 2.0% and a 10.9% drop in operating income. Its organic growth helped offset currency-related headwinds.\",\n",
    "}\n",
    "]\n"
   ]
  },
  {
   "cell_type": "code",
   "execution_count": null,
   "metadata": {},
   "outputs": [],
   "source": [
    "import glob\n",
    "from utils import chunk_document\n",
    "from datasets import Dataset\n",
    "\n",
    "from transformers import AutoTokenizer\n",
    "tokenizer = AutoTokenizer.from_pretrained(\"nvidia/Llama-3.1-Nemotron-Nano-8B-v1\")\n",
    "\n",
    "\n",
    "def break_large_chunks(text, max_chunk_size=7000):\n",
    "    chunks = chunk_document([text], server_ctx_size=50000, chunk_word_count=max_chunk_size)\n",
    "    return chunks\n",
    "\n",
    "all_mds = glob.glob(\"financebench/finance_documents/*.md\")\n",
    "finance_bench_ds = []\n",
    "for md in all_mds:\n",
    "    print(md)\n",
    "    with open(md, \"r\") as f:\n",
    "        text = f.read()\n",
    "    chunks = chunk_document([text], server_ctx_size=40000, chunk_word_count=7000)\n",
    "    new_chunks = []\n",
    "    for chunk in chunks:\n",
    "        if len(tokenizer.encode(chunk)) > 7000:\n",
    "            new_chunks.extend(break_large_chunks(chunk, 5000))\n",
    "        else:\n",
    "            new_chunks.append(chunk)\n",
    "    document_outline = md.split(\"/\")[-1].replace(\".md\", \"\").replace(\"_\", \" \")\n",
    "    finance_bench_ds.extend([{'document_outline': document_outline, 'document': chunk, **icls[0]} for chunk in new_chunks])\n",
    "\n",
    "finance_bench_ds = Dataset.from_list(finance_bench_ds)\n",
    "finance_bench_ds.to_json(\"3M_SEC_filings_seed_data.jsonl\", orient=\"records\", lines=True)"
   ]
  },
  {
   "cell_type": "markdown",
   "metadata": {},
   "source": [
    "### Analyze Chunks\n",
    "\n",
    "- Our aim is to get similar chunk size distribution (in terms of tokens) as Quality dataset. \n",
    "- We are using the markdown chunker that uses words to approximate chunk size in tokens"
   ]
  },
  {
   "cell_type": "code",
   "execution_count": 62,
   "metadata": {},
   "outputs": [
    {
     "data": {
      "image/png": "[encoded data removed]",
      "text/plain": [
       "<Figure size 640x480 with 1 Axes>"
      ]
     },
     "metadata": {},
     "output_type": "display_data"
    }
   ],
   "source": [
    "finance_bench_ds = finance_bench_ds.map(lambda x: {\"token_size\": len(tokenizer.encode(x['document']))}, batched=False)\n",
    "# Plot the distribution of SEC filings data for 3M\n",
    "import matplotlib.pyplot as plt\n",
    "plt.hist(finance_bench_ds['token_size'], bins=100)\n",
    "plt.show()"
   ]
  },
  {
   "cell_type": "code",
   "execution_count": 38,
   "metadata": {},
   "outputs": [
    {
     "data": {
      "image/png": "[encoded data removed]",
      "text/plain": [
       "<Figure size 640x480 with 1 Axes>"
      ]
     },
     "metadata": {},
     "output_type": "display_data"
    }
   ],
   "source": [
    "quality_seed = load_dataset(\"json\", data_files=\"seed_data.jsonl\", split=\"train\")\n",
    "quality_seed = quality_seed.map(lambda x: {\"token_size\": len(tokenizer.encode(x['document']))}, batched=False)\n",
    "# Plot the distribution of the token size of Quality Data\n",
    "import matplotlib.pyplot as plt\n",
    "plt.hist(quality_seed['token_size'], bins=100)\n",
    "plt.show()"
   ]
  },
  {
   "cell_type": "markdown",
   "metadata": {},
   "source": [
    "## SDG Generation"
   ]
  },
  {
   "cell_type": "markdown",
   "metadata": {},
   "source": [
    "### Changes to Prompt\n",
    "- Once our teacher model is hosted and visible through the Openai client we can start setting up the flow\n",
    "- Coming from previous notebooks we will make 1 small change to the summarization prompt. We will add this:\n",
    "\n",
    "    `- Include as much of the document as possible to create a comprehensive summary`\n",
    "\n",
    "    `- If there are tables include all the data of the table in the summary`\n",
    "\n",
    "- This is required to ensure finance documents, that have densely packed information, does not get removed when summarizing"
   ]
  },
  {
   "cell_type": "code",
   "execution_count": 14,
   "metadata": {},
   "outputs": [],
   "source": [
    "from sdg_hub.flow import Flow\n",
    "from sdg_hub.pipeline import Pipeline\n",
    "from sdg_hub.sdg import SDG\n",
    "from transformers import AutoTokenizer\n",
    "import utils\n",
    "from datasets import load_dataset\n",
    "import prompts.prompts\n",
    "import blocks.blocks\n",
    "\n",
    "ds = load_dataset('json', data_files=\"3M_SEC_filings_seed_data.jsonl\", split=\"train\")\n",
    "knowledge_agentic_pipeline = \"flows/synth_knowledge_reasoning_nemotron_super_49b_summary_diversity.yaml\"\n",
    "flow_cfg = Flow(client).get_flow_from_file(knowledge_agentic_pipeline)\n",
    "sdg = SDG(\n",
    "    [Pipeline(flow_cfg)],\n",
    "    num_workers=1,\n",
    "    batch_size=1,\n",
    "    save_freq=1000,\n",
    ")"
   ]
  },
  {
   "cell_type": "code",
   "execution_count": 34,
   "metadata": {},
   "outputs": [],
   "source": [
    "from datasets import Dataset\n",
    "ds_new = Dataset.from_list([{\n",
    "    \"document\": \"\"\"## PERFORMANCE BY BUSINESS SEG MENT\n",
    "\n",
    "For a detailed discussion of the markets served and types of products offered by 3M's business segments, see Item 1, Business Segments. Financial information and other disclosures are provided in the Notes to the Consolidated Financial Statements. Effective in the first quarter of 2018, as part of 3M's continuing effort to improve the alignment of its businesses around markets and customers, the Company made the following changes:\n",
    "\n",
    "## Consolidation of customer account activity within international countries - expanding dual credit reporting\n",
    "\n",
    "The Company consolidated its customer account activity in each country into centralized sales districts for certain countries that make up approximately 70 percent of 3M's 2017 international net sales. Expansion of these initiatives, which previously had been deployed only in the U.S., reduces the complexity for customers when interacting with multiple 3M businesses. 3M business segment reporting measures include dual credit to business segments for certain sales and related operating income. This dual credit is based on which business segment provides customer account activity with respect to a particular product sold in a specific country. The expansion of alignment of customer accounts within additional countries increased the attribution of dual credit across 3M's business segments. Additionally, certain sales and operating income results for electronic bonding product lines that were previously equally divided between the Electronics and Energy business segment and the Industrial business segment are now reported similarly to dual credit.\"\"\",\n",
    "    \"document_outline\": \"3M SEC Filings Form 10-K 2018\",\n",
    "    \"icl_document\": ds[0]['icl_document'],\n",
    "    \"icl_query_1\": ds[0]['icl_query_1'],\n",
    "    \"icl_response_1\": ds[0]['icl_response_1'],\n",
    "    \"icl_query_2\": ds[0]['icl_query_2'],\n",
    "    \"icl_response_2\": ds[0]['icl_response_2'],\n",
    "    \"icl_query_3\": ds[0]['icl_query_3'],\n",
    "    \"icl_response_3\": ds[0]['icl_response_3']\n",
    "}])"
   ]
  },
  {
   "cell_type": "code",
   "execution_count": 35,
   "metadata": {},
   "outputs": [
    {
     "data": {
      "text/html": [
       "<pre style=\"white-space:pre;overflow-x:auto;line-height:normal;font-family:Menlo,'DejaVu Sans Mono',consolas,'Courier New',monospace\"><span style=\"color: #7fbfbf; text-decoration-color: #7fbfbf\">[15:12:57] </span><span style=\"color: #000080; text-decoration-color: #000080\">INFO    </span> No existing checkpoints found in Tmp, generating from scratch                        <a href=\"file:///workspace/home/lab/abhi/sdg_hub/src/sdg_hub/sdg.py\" target=\"_blank\"><span style=\"color: #7f7f7f; text-decoration-color: #7f7f7f\">sdg.py</span></a><span style=\"color: #7f7f7f; text-decoration-color: #7f7f7f\">:</span><a href=\"file:///workspace/home/lab/abhi/sdg_hub/src/sdg_hub/sdg.py#107\" target=\"_blank\"><span style=\"color: #7f7f7f; text-decoration-color: #7f7f7f\">107</span></a>\n",
       "</pre>\n"
      ],
      "text/plain": [
       "\u001b[2;36m[15:12:57]\u001b[0m\u001b[2;36m \u001b[0m\u001b[34mINFO    \u001b[0m No existing checkpoints found in Tmp, generating from scratch                        \u001b]8;id=899497;file:///workspace/home/lab/abhi/sdg_hub/src/sdg_hub/sdg.py\u001b\\\u001b[2msdg.py\u001b[0m\u001b]8;;\u001b\\\u001b[2m:\u001b[0m\u001b]8;id=588678;file:///workspace/home/lab/abhi/sdg_hub/src/sdg_hub/sdg.py#107\u001b\\\u001b[2m107\u001b[0m\u001b]8;;\u001b\\\n"
      ]
     },
     "metadata": {},
     "output_type": "display_data"
    },
    {
     "data": {
      "text/html": [
       "<pre style=\"white-space:pre;overflow-x:auto;line-height:normal;font-family:Menlo,'DejaVu Sans Mono',consolas,'Courier New',monospace\"><span style=\"color: #7fbfbf; text-decoration-color: #7fbfbf\">           </span><span style=\"color: #000080; text-decoration-color: #000080\">INFO    </span> Splitting the dataset into smaller batches                                           <a href=\"file:///workspace/home/lab/abhi/sdg_hub/src/sdg_hub/sdg.py\" target=\"_blank\"><span style=\"color: #7f7f7f; text-decoration-color: #7f7f7f\">sdg.py</span></a><span style=\"color: #7f7f7f; text-decoration-color: #7f7f7f\">:</span><a href=\"file:///workspace/home/lab/abhi/sdg_hub/src/sdg_hub/sdg.py#123\" target=\"_blank\"><span style=\"color: #7f7f7f; text-decoration-color: #7f7f7f\">123</span></a>\n",
       "</pre>\n"
      ],
      "text/plain": [
       "\u001b[2;36m          \u001b[0m\u001b[2;36m \u001b[0m\u001b[34mINFO    \u001b[0m Splitting the dataset into smaller batches                                           \u001b]8;id=69369;file:///workspace/home/lab/abhi/sdg_hub/src/sdg_hub/sdg.py\u001b\\\u001b[2msdg.py\u001b[0m\u001b]8;;\u001b\\\u001b[2m:\u001b[0m\u001b]8;id=991517;file:///workspace/home/lab/abhi/sdg_hub/src/sdg_hub/sdg.py#123\u001b\\\u001b[2m123\u001b[0m\u001b]8;;\u001b\\\n"
      ]
     },
     "metadata": {},
     "output_type": "display_data"
    },
    {
     "name": "stderr",
     "output_type": "stream",
     "text": [
      "100%|██████████| 1/1 [00:00<00:00, 27413.75it/s]\n"
     ]
    },
    {
     "data": {
      "text/html": [
       "<pre style=\"white-space:pre;overflow-x:auto;line-height:normal;font-family:Menlo,'DejaVu Sans Mono',consolas,'Courier New',monospace\"><span style=\"color: #7fbfbf; text-decoration-color: #7fbfbf\">           </span><span style=\"color: #000080; text-decoration-color: #000080\">INFO    </span> Generating dataset with <span style=\"color: #008080; text-decoration-color: #008080; font-weight: bold\">1</span> splits, batch size <span style=\"color: #008080; text-decoration-color: #008080; font-weight: bold\">1</span>, and <span style=\"color: #008080; text-decoration-color: #008080; font-weight: bold\">1</span> workers                        <a href=\"file:///workspace/home/lab/abhi/sdg_hub/src/sdg_hub/sdg.py\" target=\"_blank\"><span style=\"color: #7f7f7f; text-decoration-color: #7f7f7f\">sdg.py</span></a><span style=\"color: #7f7f7f; text-decoration-color: #7f7f7f\">:</span><a href=\"file:///workspace/home/lab/abhi/sdg_hub/src/sdg_hub/sdg.py#129\" target=\"_blank\"><span style=\"color: #7f7f7f; text-decoration-color: #7f7f7f\">129</span></a>\n",
       "</pre>\n"
      ],
      "text/plain": [
       "\u001b[2;36m          \u001b[0m\u001b[2;36m \u001b[0m\u001b[34mINFO    \u001b[0m Generating dataset with \u001b[1;36m1\u001b[0m splits, batch size \u001b[1;36m1\u001b[0m, and \u001b[1;36m1\u001b[0m workers                        \u001b]8;id=499151;file:///workspace/home/lab/abhi/sdg_hub/src/sdg_hub/sdg.py\u001b\\\u001b[2msdg.py\u001b[0m\u001b]8;;\u001b\\\u001b[2m:\u001b[0m\u001b]8;id=545458;file:///workspace/home/lab/abhi/sdg_hub/src/sdg_hub/sdg.py#129\u001b\\\u001b[2m129\u001b[0m\u001b]8;;\u001b\\\n"
      ]
     },
     "metadata": {},
     "output_type": "display_data"
    },
    {
     "data": {
      "text/html": [
       "<pre style=\"white-space:pre;overflow-x:auto;line-height:normal;font-family:Menlo,'DejaVu Sans Mono',consolas,'Courier New',monospace\"><span style=\"color: #7fbfbf; text-decoration-color: #7fbfbf\">           </span><span style=\"color: #000080; text-decoration-color: #000080\">INFO    </span> Processing split <span style=\"color: #008080; text-decoration-color: #008080; font-weight: bold\">0</span>                                                                    <a href=\"file:///workspace/home/lab/abhi/sdg_hub/src/sdg_hub/sdg.py\" target=\"_blank\"><span style=\"color: #7f7f7f; text-decoration-color: #7f7f7f\">sdg.py</span></a><span style=\"color: #7f7f7f; text-decoration-color: #7f7f7f\">:</span><a href=\"file:///workspace/home/lab/abhi/sdg_hub/src/sdg_hub/sdg.py#75\" target=\"_blank\"><span style=\"color: #7f7f7f; text-decoration-color: #7f7f7f\">75</span></a>\n",
       "</pre>\n"
      ],
      "text/plain": [
       "\u001b[2;36m          \u001b[0m\u001b[2;36m \u001b[0m\u001b[34mINFO    \u001b[0m Processing split \u001b[1;36m0\u001b[0m                                                                    \u001b]8;id=342336;file:///workspace/home/lab/abhi/sdg_hub/src/sdg_hub/sdg.py\u001b\\\u001b[2msdg.py\u001b[0m\u001b]8;;\u001b\\\u001b[2m:\u001b[0m\u001b]8;id=306059;file:///workspace/home/lab/abhi/sdg_hub/src/sdg_hub/sdg.py#75\u001b\\\u001b[2m75\u001b[0m\u001b]8;;\u001b\\\n"
      ]
     },
     "metadata": {},
     "output_type": "display_data"
    },
    {
     "name": "stderr",
     "output_type": "stream",
     "text": [
      "  0%|          | 0/1 [00:00<?, ?it/s]"
     ]
    },
    {
     "data": {
      "text/html": [
       "<pre style=\"white-space:pre;overflow-x:auto;line-height:normal;font-family:Menlo,'DejaVu Sans Mono',consolas,'Courier New',monospace\"><span style=\"color: #7fbfbf; text-decoration-color: #7fbfbf\">[15:13:16] </span><span style=\"color: #000080; text-decoration-color: #000080\">INFO    </span> HTTP Request: <span style=\"color: #808000; text-decoration-color: #808000; font-weight: bold\">POST</span> <span style=\"color: #0000ff; text-decoration-color: #0000ff; text-decoration: underline\">http://localhost:8000/v1/completions</span> <span style=\"color: #008000; text-decoration-color: #008000\">\"HTTP/1.1 200 OK\"</span>       <a href=\"file:///home/lab/.conda/envs/research_sdg/lib/python3.10/site-packages/httpx/_client.py\" target=\"_blank\"><span style=\"color: #7f7f7f; text-decoration-color: #7f7f7f\">_client.py</span></a><span style=\"color: #7f7f7f; text-decoration-color: #7f7f7f\">:</span><a href=\"file:///home/lab/.conda/envs/research_sdg/lib/python3.10/site-packages/httpx/_client.py#1025\" target=\"_blank\"><span style=\"color: #7f7f7f; text-decoration-color: #7f7f7f\">1025</span></a>\n",
       "</pre>\n"
      ],
      "text/plain": [
       "\u001b[2;36m[15:13:16]\u001b[0m\u001b[2;36m \u001b[0m\u001b[34mINFO    \u001b[0m HTTP Request: \u001b[1;33mPOST\u001b[0m \u001b[4;94mhttp://localhost:8000/v1/completions\u001b[0m \u001b[32m\"HTTP/1.1 200 OK\"\u001b[0m       \u001b]8;id=570550;file:///home/lab/.conda/envs/research_sdg/lib/python3.10/site-packages/httpx/_client.py\u001b\\\u001b[2m_client.py\u001b[0m\u001b]8;;\u001b\\\u001b[2m:\u001b[0m\u001b]8;id=618084;file:///home/lab/.conda/envs/research_sdg/lib/python3.10/site-packages/httpx/_client.py#1025\u001b\\\u001b[2m1025\u001b[0m\u001b]8;;\u001b\\\n"
      ]
     },
     "metadata": {},
     "output_type": "display_data"
    },
    {
     "name": "stderr",
     "output_type": "stream",
     "text": [
      "Map: 100%|██████████| 2/2 [00:00<00:00, 580.04 examples/s]\n",
      "Map: 100%|██████████| 20/20 [00:00<00:00, 6003.44 examples/s]\n"
     ]
    },
    {
     "data": {
      "text/html": [
       "<pre style=\"white-space:pre;overflow-x:auto;line-height:normal;font-family:Menlo,'DejaVu Sans Mono',consolas,'Courier New',monospace\"><span style=\"color: #7fbfbf; text-decoration-color: #7fbfbf\">[15:13:45] </span><span style=\"color: #000080; text-decoration-color: #000080\">INFO    </span> HTTP Request: <span style=\"color: #808000; text-decoration-color: #808000; font-weight: bold\">POST</span> <span style=\"color: #0000ff; text-decoration-color: #0000ff; text-decoration: underline\">http://localhost:8000/v1/completions</span> <span style=\"color: #008000; text-decoration-color: #008000\">\"HTTP/1.1 200 OK\"</span>       <a href=\"file:///home/lab/.conda/envs/research_sdg/lib/python3.10/site-packages/httpx/_client.py\" target=\"_blank\"><span style=\"color: #7f7f7f; text-decoration-color: #7f7f7f\">_client.py</span></a><span style=\"color: #7f7f7f; text-decoration-color: #7f7f7f\">:</span><a href=\"file:///home/lab/.conda/envs/research_sdg/lib/python3.10/site-packages/httpx/_client.py#1025\" target=\"_blank\"><span style=\"color: #7f7f7f; text-decoration-color: #7f7f7f\">1025</span></a>\n",
       "</pre>\n"
      ],
      "text/plain": [
       "\u001b[2;36m[15:13:45]\u001b[0m\u001b[2;36m \u001b[0m\u001b[34mINFO    \u001b[0m HTTP Request: \u001b[1;33mPOST\u001b[0m \u001b[4;94mhttp://localhost:8000/v1/completions\u001b[0m \u001b[32m\"HTTP/1.1 200 OK\"\u001b[0m       \u001b]8;id=42578;file:///home/lab/.conda/envs/research_sdg/lib/python3.10/site-packages/httpx/_client.py\u001b\\\u001b[2m_client.py\u001b[0m\u001b]8;;\u001b\\\u001b[2m:\u001b[0m\u001b]8;id=691450;file:///home/lab/.conda/envs/research_sdg/lib/python3.10/site-packages/httpx/_client.py#1025\u001b\\\u001b[2m1025\u001b[0m\u001b]8;;\u001b\\\n"
      ]
     },
     "metadata": {},
     "output_type": "display_data"
    },
    {
     "name": "stderr",
     "output_type": "stream",
     "text": [
      "Map: 100%|██████████| 20/20 [00:00<00:00, 4306.27 examples/s]\n"
     ]
    },
    {
     "data": {
      "text/html": [
       "<pre style=\"white-space:pre;overflow-x:auto;line-height:normal;font-family:Menlo,'DejaVu Sans Mono',consolas,'Courier New',monospace\"><span style=\"color: #7fbfbf; text-decoration-color: #7fbfbf\">[15:14:11] </span><span style=\"color: #000080; text-decoration-color: #000080\">INFO    </span> HTTP Request: <span style=\"color: #808000; text-decoration-color: #808000; font-weight: bold\">POST</span> <span style=\"color: #0000ff; text-decoration-color: #0000ff; text-decoration: underline\">http://localhost:8000/v1/completions</span> <span style=\"color: #008000; text-decoration-color: #008000\">\"HTTP/1.1 200 OK\"</span>       <a href=\"file:///home/lab/.conda/envs/research_sdg/lib/python3.10/site-packages/httpx/_client.py\" target=\"_blank\"><span style=\"color: #7f7f7f; text-decoration-color: #7f7f7f\">_client.py</span></a><span style=\"color: #7f7f7f; text-decoration-color: #7f7f7f\">:</span><a href=\"file:///home/lab/.conda/envs/research_sdg/lib/python3.10/site-packages/httpx/_client.py#1025\" target=\"_blank\"><span style=\"color: #7f7f7f; text-decoration-color: #7f7f7f\">1025</span></a>\n",
       "</pre>\n"
      ],
      "text/plain": [
       "\u001b[2;36m[15:14:11]\u001b[0m\u001b[2;36m \u001b[0m\u001b[34mINFO    \u001b[0m HTTP Request: \u001b[1;33mPOST\u001b[0m \u001b[4;94mhttp://localhost:8000/v1/completions\u001b[0m \u001b[32m\"HTTP/1.1 200 OK\"\u001b[0m       \u001b]8;id=973945;file:///home/lab/.conda/envs/research_sdg/lib/python3.10/site-packages/httpx/_client.py\u001b\\\u001b[2m_client.py\u001b[0m\u001b]8;;\u001b\\\u001b[2m:\u001b[0m\u001b]8;id=689824;file:///home/lab/.conda/envs/research_sdg/lib/python3.10/site-packages/httpx/_client.py#1025\u001b\\\u001b[2m1025\u001b[0m\u001b]8;;\u001b\\\n"
      ]
     },
     "metadata": {},
     "output_type": "display_data"
    },
    {
     "name": "stderr",
     "output_type": "stream",
     "text": [
      "Map: 100%|██████████| 20/20 [00:00<00:00, 3926.52 examples/s]\n",
      "Map: 100%|██████████| 80/80 [00:00<00:00, 10023.13 examples/s]\n"
     ]
    },
    {
     "data": {
      "text/html": [
       "<pre style=\"white-space:pre;overflow-x:auto;line-height:normal;font-family:Menlo,'DejaVu Sans Mono',consolas,'Courier New',monospace\"><span style=\"color: #7fbfbf; text-decoration-color: #7fbfbf\">[15:14:33] </span><span style=\"color: #000080; text-decoration-color: #000080\">INFO    </span> HTTP Request: <span style=\"color: #808000; text-decoration-color: #808000; font-weight: bold\">POST</span> <span style=\"color: #0000ff; text-decoration-color: #0000ff; text-decoration: underline\">http://localhost:8000/v1/completions</span> <span style=\"color: #008000; text-decoration-color: #008000\">\"HTTP/1.1 200 OK\"</span>       <a href=\"file:///home/lab/.conda/envs/research_sdg/lib/python3.10/site-packages/httpx/_client.py\" target=\"_blank\"><span style=\"color: #7f7f7f; text-decoration-color: #7f7f7f\">_client.py</span></a><span style=\"color: #7f7f7f; text-decoration-color: #7f7f7f\">:</span><a href=\"file:///home/lab/.conda/envs/research_sdg/lib/python3.10/site-packages/httpx/_client.py#1025\" target=\"_blank\"><span style=\"color: #7f7f7f; text-decoration-color: #7f7f7f\">1025</span></a>\n",
       "</pre>\n"
      ],
      "text/plain": [
       "\u001b[2;36m[15:14:33]\u001b[0m\u001b[2;36m \u001b[0m\u001b[34mINFO    \u001b[0m HTTP Request: \u001b[1;33mPOST\u001b[0m \u001b[4;94mhttp://localhost:8000/v1/completions\u001b[0m \u001b[32m\"HTTP/1.1 200 OK\"\u001b[0m       \u001b]8;id=211188;file:///home/lab/.conda/envs/research_sdg/lib/python3.10/site-packages/httpx/_client.py\u001b\\\u001b[2m_client.py\u001b[0m\u001b]8;;\u001b\\\u001b[2m:\u001b[0m\u001b]8;id=940250;file:///home/lab/.conda/envs/research_sdg/lib/python3.10/site-packages/httpx/_client.py#1025\u001b\\\u001b[2m1025\u001b[0m\u001b]8;;\u001b\\\n"
      ]
     },
     "metadata": {},
     "output_type": "display_data"
    },
    {
     "name": "stderr",
     "output_type": "stream",
     "text": [
      "Map: 100%|██████████| 80/80 [00:00<00:00, 8456.68 examples/s]\n",
      "Map: 100%|██████████| 80/80 [00:00<00:00, 9271.74 examples/s]\n",
      "Map: 100%|██████████| 80/80 [00:00<00:00, 9205.10 examples/s]\n"
     ]
    },
    {
     "data": {
      "text/html": [
       "<pre style=\"white-space:pre;overflow-x:auto;line-height:normal;font-family:Menlo,'DejaVu Sans Mono',consolas,'Courier New',monospace\"><span style=\"color: #7fbfbf; text-decoration-color: #7fbfbf\">[15:15:05] </span><span style=\"color: #000080; text-decoration-color: #000080\">INFO    </span> HTTP Request: <span style=\"color: #808000; text-decoration-color: #808000; font-weight: bold\">POST</span> <span style=\"color: #0000ff; text-decoration-color: #0000ff; text-decoration: underline\">http://localhost:8000/v1/completions</span> <span style=\"color: #008000; text-decoration-color: #008000\">\"HTTP/1.1 200 OK\"</span>       <a href=\"file:///home/lab/.conda/envs/research_sdg/lib/python3.10/site-packages/httpx/_client.py\" target=\"_blank\"><span style=\"color: #7f7f7f; text-decoration-color: #7f7f7f\">_client.py</span></a><span style=\"color: #7f7f7f; text-decoration-color: #7f7f7f\">:</span><a href=\"file:///home/lab/.conda/envs/research_sdg/lib/python3.10/site-packages/httpx/_client.py#1025\" target=\"_blank\"><span style=\"color: #7f7f7f; text-decoration-color: #7f7f7f\">1025</span></a>\n",
       "</pre>\n"
      ],
      "text/plain": [
       "\u001b[2;36m[15:15:05]\u001b[0m\u001b[2;36m \u001b[0m\u001b[34mINFO    \u001b[0m HTTP Request: \u001b[1;33mPOST\u001b[0m \u001b[4;94mhttp://localhost:8000/v1/completions\u001b[0m \u001b[32m\"HTTP/1.1 200 OK\"\u001b[0m       \u001b]8;id=768170;file:///home/lab/.conda/envs/research_sdg/lib/python3.10/site-packages/httpx/_client.py\u001b\\\u001b[2m_client.py\u001b[0m\u001b]8;;\u001b\\\u001b[2m:\u001b[0m\u001b]8;id=755231;file:///home/lab/.conda/envs/research_sdg/lib/python3.10/site-packages/httpx/_client.py#1025\u001b\\\u001b[2m1025\u001b[0m\u001b]8;;\u001b\\\n"
      ]
     },
     "metadata": {},
     "output_type": "display_data"
    },
    {
     "data": {
      "text/html": [
       "<pre style=\"white-space:pre;overflow-x:auto;line-height:normal;font-family:Menlo,'DejaVu Sans Mono',consolas,'Courier New',monospace\"><span style=\"color: #7fbfbf; text-decoration-color: #7fbfbf\">           </span><span style=\"color: #000080; text-decoration-color: #000080\">INFO    </span> Finished future processing split <span style=\"color: #008080; text-decoration-color: #008080; font-weight: bold\">0</span>                                                   <a href=\"file:///workspace/home/lab/abhi/sdg_hub/src/sdg_hub/sdg.py\" target=\"_blank\"><span style=\"color: #7f7f7f; text-decoration-color: #7f7f7f\">sdg.py</span></a><span style=\"color: #7f7f7f; text-decoration-color: #7f7f7f\">:</span><a href=\"file:///workspace/home/lab/abhi/sdg_hub/src/sdg_hub/sdg.py#149\" target=\"_blank\"><span style=\"color: #7f7f7f; text-decoration-color: #7f7f7f\">149</span></a>\n",
       "<span style=\"color: #7fbfbf; text-decoration-color: #7fbfbf\">           </span>                                                                                              <span style=\"color: #7f7f7f; text-decoration-color: #7f7f7f\">          </span>\n",
       "<span style=\"color: #7fbfbf; text-decoration-color: #7fbfbf\">           </span>                                                                                              <span style=\"color: #7f7f7f; text-decoration-color: #7f7f7f\">          </span>\n",
       "</pre>\n"
      ],
      "text/plain": [
       "\u001b[2;36m          \u001b[0m\u001b[2;36m \u001b[0m\u001b[34mINFO    \u001b[0m Finished future processing split \u001b[1;36m0\u001b[0m                                                   \u001b]8;id=404167;file:///workspace/home/lab/abhi/sdg_hub/src/sdg_hub/sdg.py\u001b\\\u001b[2msdg.py\u001b[0m\u001b]8;;\u001b\\\u001b[2m:\u001b[0m\u001b]8;id=54051;file:///workspace/home/lab/abhi/sdg_hub/src/sdg_hub/sdg.py#149\u001b\\\u001b[2m149\u001b[0m\u001b]8;;\u001b\\\n",
       "\u001b[2;36m           \u001b[0m                                                                                              \u001b[2m          \u001b[0m\n",
       "\u001b[2;36m           \u001b[0m                                                                                              \u001b[2m          \u001b[0m\n"
      ]
     },
     "metadata": {},
     "output_type": "display_data"
    },
    {
     "name": "stderr",
     "output_type": "stream",
     "text": [
      "100%|██████████| 1/1 [02:07<00:00, 127.53s/it]\n"
     ]
    }
   ],
   "source": [
    "generated_data = sdg.generate(ds_new, checkpoint_dir=\"Tmp\")"
   ]
  },
  {
   "cell_type": "code",
   "execution_count": 51,
   "metadata": {},
   "outputs": [
    {
     "name": "stderr",
     "output_type": "stream",
     "text": [
      "Filter:   0%|          | 0/80 [00:00<?, ? examples/s]"
     ]
    },
    {
     "name": "stderr",
     "output_type": "stream",
     "text": [
      "Filter: 100%|██████████| 80/80 [00:00<00:00, 21751.87 examples/s]"
     ]
    },
    {
     "name": "stdout",
     "output_type": "stream",
     "text": [
      "### Document\n",
      "## PERFORMANCE BY BUSINESS SEG MENT\n",
      "\n",
      "For a detailed discussion of the markets served and types of products offered by 3M's business segments, see Item 1, Business Segments. Financial information and other disclosures are provided in the Notes to the Consolidated Financial Statements. Effective in the first quarter of 2018, as part of 3M's continuing effort to improve the alignment of its businesses around markets and customers, the Company made the following changes:\n",
      "\n",
      "## Consolidation of customer account activity within international countries - expanding dual credit reporting\n",
      "\n",
      "The Company consolidated its customer account activity in each country into centralized sales districts for certain countries that make up approximately 70 percent of 3M's 2017 international net sales. Expansion of these initiatives, which previously had been deployed only in the U.S., reduces the complexity for customers when interacting with multiple 3M businesses. 3M business segment reporting measures include dual credit to business segments for certain sales and related operating income. This dual credit is based on which business segment provides customer account activity with respect to a particular product sold in a specific country. The expansion of alignment of customer accounts within additional countries increased the attribution of dual credit across 3M's business segments. Additionally, certain sales and operating income results for electronic bonding product lines that were previously equally divided between the Electronics and Energy business segment and the Industrial business segment are now reported similarly to dual credit.\n",
      "### Generated Summary Instruction\n",
      "**Employee Update**: Describe organizational changes in customer account management for internal stakeholders.\n",
      "### Generated Document Summary\n",
      "**Employee Update: Organizational Changes in Customer Account Management**  \n",
      "\n",
      "As part of 3M’s efforts to align businesses around markets and customers, effective Q1 2018, the company implemented two key changes in customer account management for international operations:  \n",
      "\n",
      "1. **Consolidation of Customer Account Activity**:  \n",
      "   - **Scope**: Centralized sales districts were established in countries accounting for **~70% of 3M’s 2017 international net sales**.  \n",
      "   - **Purpose**: Reduce complexity for customers interacting with multiple 3M businesses by streamlining account management within each country (previously only deployed in the U.S.).  \n",
      "\n",
      "2. **Expansion of Dual Credit Reporting**:  \n",
      "   - **Mechanism**: Dual credit is assigned to business segments for sales and operating income based on which segment manages the **customer account activity** for a product in a specific country.  \n",
      "   - **Impact**: The international consolidation increased dual credit attribution across segments.  \n",
      "   - **Electronic Bonding Product Lines**: Previously split equally between the **Electronics and Energy** and **Industrial** segments, these are now reported using the dual credit methodology (aligned with country-based account responsibility).  \n",
      "\n",
      "**Key Data Points**:  \n",
      "- **Effective Date**: Q1 2018.  \n",
      "- **International Sales Coverage**: ~70% of 2017 international net sales impacted.  \n",
      "- **Product Adjustment**: Electronic bonding lines shifted from equal division to dual credit alignment.  \n",
      "\n",
      "These changes enhance market alignment, simplify customer interactions, and refine segment reporting accuracy.  \n",
      "\n",
      "---  \n",
      "*Note: The document contains no tables, so all relevant textual data is summarized above.*\n"
     ]
    },
    {
     "name": "stderr",
     "output_type": "stream",
     "text": [
      "\n"
     ]
    }
   ],
   "source": [
    "idx = 3\n",
    "generated_data_ = generated_data.filter(lambda x: len(x['document']) < 1800)\n",
    "print(\"### Document\")\n",
    "print(generated_data_['raw_document'][idx])\n",
    "print(\"### Generated Summary Instruction\")\n",
    "print(generated_data_['summary_instruction'][idx])\n",
    "print(\"### Generated Document Summary\")\n",
    "print(generated_data_['document'][idx])"
   ]
  },
  {
   "cell_type": "markdown",
   "metadata": {},
   "source": [
    "### Generated Summary Instruction\n",
    "```text\n",
    "**Highlight Tax Strategy Efficiency**: Analyze how 3M’s tax planning (e.g., Food Safety divestiture, GILTI/FDII) reduced its effective tax rate, with numerical examples.\n",
    "```\n",
    "### Generated Document Summary\n",
    "```text\n",
    "**Comprehensive Summary of 3M’s 2022 Form 10-K Filing with Emphasis on Tax Strategy Efficiency**\n",
    "\n",
    "---\n",
    "\n",
    "### **1. Effective Tax Rate Reconciliation & Tax Strategy Efficiency**\n",
    "\n",
    "| **Factor**               | **2022** | **2021** | **2020** |  \n",
    "|--------------------------|---------|---------|---------|  \n",
    "| Statutory U.S. Tax Rate  | 21.0%   | 21.0%   | 21.0%   |  \n",
    "| **Food Safety Divestiture** | **-8.4%** | -       | -       | *Key driver of 2022 tax rate reduction*  \n",
    "| State Income Taxes       | -       | 0.9%   | 1.2%   |  \n",
    "| International Income Taxes| -0.4%  | -1.2%  | -1.2%  |  \n",
    "| **GILTI**                | 0.7%   | 0.7%   | 0.8%   |  \n",
    "| **FDII**                 | -2.3%  | -3.1%  | -1.8%  |  \n",
    "| U.S. R&D Credit          | -1.0%  | -0.7%  | -1.0%  |  \n",
    "| Reserves for Tax Contingencies| -    | 0.6%   | 0.5%   |  \n",
    "| Employee Share-Based Payments| -0.2% | -0.6%  | -0.5%  |  \n",
    "| All Other                 | 0.2%   | 0.2%   | 0.7%   |  \n",
    "| **Effective Tax Rate**   | **9.6%** | **17.8%**| **19.7%**|  \n",
    "\n",
    "- **Tax Rate Reduction**:  \n",
    "  - **2022 vs. 2021**: 8.2% decrease primarily due to **Food Safety divestiture** (saved 8.4% of tax rate).  \n",
    "  - **2021 vs. 2020**: 1.9% decrease attributed to geographical income mix and favorable TCJA adjustments.  \n",
    "\n",
    "- **GILTI/FDII Impact**:  \n",
    "  - GILTI increased tax rate by 0.7% in 2022 (vs. 0.8% in 2020).  \n",
    "  - FDII reduced tax rate by 2.3% in 2022 (vs. 3.1% in 2021), reflecting efficient intangible income planning.  \n",
    "\n",
    "---\n",
    "\n",
    "### **2. TCJA Provisions & Transition Tax**\n",
    "\n",
    "- **Transition Tax (TCJA)**: $380M (2022) and $508M (2021) in long-term income taxes payable over 8 years.  \n",
    "- **Short-Term Transition Tax**: $126M (2022) and $68M (2021).  \n",
    "\n",
    "---\n",
    "\n",
    "### **3. Uncertain Tax Positions (UTB)**\n",
    "\n",
    "| **(Millions)**         | **2022** | **2021** | **2020** |  \n",
    "|-------------------------|---------|---------|---------|  \n",
    "| Gross UTB Balance (Jan 1)| 1,071   | 1,113   | 1,167   |  \n",
    "| Additions (Current Year)| 115    | 91      | 74      |  \n",
    "| Additions (Prior Years) | 36    | 22      | 106     |  \n",
    "| Reductions (Prior Years)| -138   | -60     | -173    |  \n",
    "| Settlements              | -118   | -57     | -8      |  \n",
    "| Statute of Limitations   | -39    | -38     | -53     |  \n",
    "| **Gross UTB (Dec 31)**  | **927** | **1,071**| **1,113**|  \n",
    "| **Net UTB (Impact on ETR)**| **965** | **1,112**| **1,145**|  \n",
    "\n",
    "- **Net UTB**: $965M (2022) could affect ETR if recognized.  \n",
    "- **Interest/Penalties**: $116M accrued in 2022 (vs. $140M in 2021).  \n",
    "\n",
    "---\n",
    "\n",
    "### **4. Foreign Tax Benefits & Undistributed Earnings**\n",
    "\n",
    "- **Tax-Exempt/Subsidized Income**:  \n",
    "  - China (2022), Switzerland (2026), Brazil (2029), Singapore (2032) generated $170M (30¢/share) in 2022 tax benefits.  \n",
    "- **Undistributed Foreign Earnings**: $16.0B (2022), with $8.0B no longer permanently reinvested (immaterial repatriation tax cost).  \n",
    "\n",
    "---\n",
    "\n",
    "### **5. Marketable Securities (2022/2021)**\n",
    "\n",
    "| **(Millions)**         | **2022** | **2021** |  \n",
    "|-------------------------|---------|---------|  \n",
    "| Commercial Paper         | 213    | 109     |  \n",
    "| Certificates of Deposit  | 21     | 14     |  \n",
    "| U.S. Treasury Securities | -      | 75     |  \n",
    "| **Current Securities**   | **238** | **201** |  \n",
    "| Non-Current Securities   | 23     | 27     |  \n",
    "| **Total**                | **261** | **228** |  \n",
    "\n",
    "---\n",
    "\n",
    "### **6. Long-Term Debt (Select Entries, 2022/2021)**\n",
    "\n",
    "| **Description**                  | **2022 Carrying Value** | **2021 Carrying Value** | **Effective Interest Rate** |  \n",
    "|-----------------------------------|------------------------|------------------------|---------------------------|  \n",
    "| USD Fixed (2023, $500M)          | $500                  | $499                  | 1.86%                    |  \n",
    "| EUR Fixed (2023, €600M)          | $679                  | $679                  | 1.14%                    |  \n",
    "| USD Floating (2024, $300M)      | $300                  | $300                  | 4.81%                    |  \n",
    "| **Total Long-Term Debt**         | **$15,939**            | **$17,347**            |                           |  \n",
    "\n",
    "---\n",
    "\n",
    "### **Key Tax Strategy Takeaways**\n",
    "\n",
    "1. **Food Safety Divestiture**: Saved 8.4% of tax rate in 2022 via tax-efficient structuring.  \n",
    "2. **GILTI/FDII Optimization**: FDII provided greater tax savings than GILTI costs (e.g., 2022: -2.3% vs. +0.7%).  \n",
    "3. **Foreign Subsidiary Planning**: Leveraged low-tax jurisdictions (e.g., China, Switzerland) for $170M in annual benefits.  \n",
    "4. **Repatriation Strategy**: $8.0B in non-permanently reinvested earnings with minimal tax liability.  \n",
    "\n",
    "---\n",
    "\n",
    "### **Full Tables for Reference**\n",
    "\n",
    "#### **Reconciliation of Effective Tax Rate (Detailed)**\n",
    "\n",
    "| Factor                                  | 2022 | 2021 | 2020 |  \n",
    "|-----------------------------------------|------|------|------|  \n",
    "| Statutory U.S. Tax Rate                 |21.0%|21.0%|21.0%|  \n",
    "| **Food Safety Divestiture**             |-8.4%| -   | -   |  \n",
    "| State Income Taxes                      |-    |0.9%|1.2% |  \n",
    "| International Income Taxes              |-0.4%|-1.2%|-1.2%|  \n",
    "| **GILTI**                              |0.7%|0.7%|0.8% |  \n",
    "| **FDII**                               |-2.3%|-3.1%|-1.8%|  \n",
    "| U.S. R&D Credit                         |-1.0%|-0.7%|-1.0%|  \n",
    "| Reserves for Tax Contingencies          |-    |0.6%|0.5% |  \n",
    "| Employee Share-Based Payments           |-0.2%|-0.6%|-0.5%|  \n",
    "| All Other                               |0.2%|0.2%|0.7% |  \n",
    "| **Effective Tax Rate**                  |9.6%|17.8%|19.7%|  \n",
    "\n",
    "#### **Gross Unrecognized Tax Benefits**\n",
    "\n",
    "| **(Millions)**         | **2022** | **2021** | **2020** |  \n",
    "|-------------------------|---------|---------|---------|  \n",
    "| Gross UTB Balance (Jan 1)| 1,071   | 1,113   | 1,167   |  \n",
    "| Additions (Current Year)| 115    | 91      | 74      |  \n",
    "| Additions (Prior Years) | 36    | 22      | 106     |  \n",
    "| Reductions (Prior Years)| -138   | -60     | -173    |  \n",
    "| Settlements              | -118   | -57     | -8      |  \n",
    "| Statute of Limitations   | -39    | -38     | -53     |  \n",
    "| **Gross UTB (Dec 31)**  | **927** | **1,071**| **1,113**|  \n",
    "\n",
    "#### **Marketable Securities Maturity**\n",
    "\n",
    "| **(Millions)**         | **2022** |  \n",
    "|-------------------------|---------|  \n",
    "| Due in one year or less | 238    |  \n",
    "| Due after one year      | 15     |  \n",
    "| Due after five years    | 8      |  \n",
    "| **Total**               | **261** |  \n",
    "\n",
    "#### **Long-Term Debt (Full Table Omitted for Brevity)**\n",
    "\n",
    "*Refer to original filing for detailed debt schedule.*  \n",
    "\n",
    "---\n",
    "\n",
    "### **Numerical Examples of Tax Efficiency**\n",
    "\n",
    "1. **Food Safety Divestiture Impact**: Reduced 2022 ETR by 8.4% (from 21.0% to 9.6%).  \n",
    "2. **FDII Savings**: Saved 2.3% of tax rate in 2022 (vs. 3.1% in 2021).  \n",
    "3. **GILTI Cost**: Added 0.7% to tax rate in 2022 (consistent across years).  \n",
    "4. **Foreign Tax Credits**: $170M benefit in 2022 (30¢/share).  \n",
    "\n",
    "--- \n",
    "\n",
    "**Summary Conclusion**:  \n",
    "3M’s tax strategy leveraged divestitures, TCJA provisions (GILTI/FDII), and foreign jurisdiction planning to achieve a record-low 9.6% ETR in 2022. The Food Safety divestiture alone saved 8.4%, while FDII outperformed GILTI in tax savings. Foreign subsidiaries contributed $170M in annual benefits, and undistributed earnings pose minimal repatriation risk.  \n",
    "\n",
    "---\n",
    "\n",
    "**All Tables Included as Requested**  \n",
    "\n",
    "Let me know if further clarification is needed!\n",
    "```"
   ]
  },
  {
   "cell_type": "code",
   "execution_count": 49,
   "metadata": {},
   "outputs": [
    {
     "name": "stdout",
     "output_type": "stream",
     "text": [
      "### Question\n",
      "Explain the dual credit reporting mechanism introduced by 3M in 2018 and how it affected the Electronic Bonding Product Lines.\n",
      "\n",
      "### Generated Answer\n",
      "<think>\n",
      "Okay, let's tackle this question. The user is asking about the dual credit reporting mechanism introduced by 3M in 2018 and its impact on the Electronic Bonding Product Lines.\n",
      "\n",
      "First, I need to recall the document provided. The key points from the document mention that 3M made organizational changes in customer account management. Specifically, they expanded the dual credit reporting mechanism. \n",
      "\n",
      "The dual credit mechanism assigns credit (for sales and operating income) to business segments based on which segment manages the customer account activity for a product in a specific country. Before this change, Electronic Bonding Product Lines were split equally between the Electronics and Energy and Industrial segments. Now, with the dual credit method, the reporting is aligned with the country-based account responsibility. \n",
      "\n",
      "So, the mechanism itself is about attributing credits based on account management responsibility. The effect on Electronic Bonding lines is that they moved from a 50-50 split to being reported under whichever segment handles the account in that country. This would mean that instead of fixed allocation, it's now dynamic based on who manages the account. \n",
      "\n",
      "I should make sure to mention both parts: the mechanism's definition and the specific change for Electronic Bonding. Also, check if there's any mention of the impact beyond the reporting method, like benefits or challenges, but the document only states the alignment with account responsibility. \n",
      "\n",
      "Double-check the document to ensure accuracy. The answer should directly reference the dual credit explanation and the product line adjustment. Avoid adding anything not in the document. The answer needs to be concise, in the specified format, and only based on the provided text.\n",
      "</think>\n",
      "\n",
      "\n",
      "The dual credit reporting mechanism assigns sales and operating income credits to business segments based on which segment manages the customer account activity for a product in a specific country. For the Electronic Bonding Product Lines, this change shifted their reporting from an equal split between the **Electronics and Energy** and **Industrial** segments to alignment with country-based account responsibility using the dual credit methodology.\n",
      "\n"
     ]
    }
   ],
   "source": [
    "idx = 2\n",
    "print(\"### Question\")\n",
    "print(generated_data_[idx]['question'])\n",
    "print(\"### Generated Answer\")\n",
    "print(generated_data_[idx]['response'])"
   ]
  },
  {
   "cell_type": "markdown",
   "metadata": {},
   "source": [
    "### Question\n",
    "```text\n",
    "What was the primary factor contributing to the 8.2% decrease in 3M’s effective tax rate from 2021 to 2022?\n",
    "```\n",
    "### Generated Answer\n",
    "```text\n",
    "<think>\n",
    "Okay, let's tackle this question. The user is asking for the primary factor that caused the 8.2% decrease in 3M's effective tax rate from 2021 to 2022.\n",
    "\n",
    "First, I need to look through the provided document to find the relevant information. The document is a comprehensive summary of 3M's 2022 Form 10-K filing, focusing on tax strategy efficiency. \n",
    "\n",
    "Scanning through the sections, the first part under \"1. Effective Tax Rate Reconciliation & Tax Strategy Efficiency\" has a table showing the effective tax rates for 2022, 2021, and 2020. The effective tax rate dropped from 17.8% in 2021 to 9.6% in 2022, which is an 8.2% decrease. \n",
    "\n",
    "Below the table, there's a bullet point under \"Tax Rate Reduction\" that explains the 2022 vs. 2021 decrease. It states: \"- **2022 vs. 2021**: 8.2% decrease primarily due to **Food Safety divestiture** (saved 8.4% of tax rate).\" \n",
    "\n",
    "Additionally, in the \"Key Tax Strategy Takeaways\" section, point 1 mentions the Food Safety Divestiture saving 8.4% of the tax rate in 2022 via tax-efficient structuring. The numerical examples also highlight that the Food Safety Divestiture reduced the ETR by 8.4%, which aligns with the primary factor.\n",
    "\n",
    "Other factors in the reconciliation table, like FDII and GILTI, have smaller impacts. For instance, FDII reduced the tax rate by 2.3% in 2022, but that's not the primary factor here. The main driver is clearly the Food Safety divestiture as stated in multiple parts of the document.\n",
    "\n",
    "So the answer should directly reference the Food Safety divestiture as the primary factor causing the 8.2% decrease. Making sure to mention the 8.4% savings from the divestiture and that it's the primary reason as per the document.\n",
    "</think>\n",
    "\n",
    "\n",
    "The primary factor contributing to the 8.2% decrease in 3M’s effective tax rate from 2021 to 2022 was the **Food Safety divestiture**, which saved 8.4% of the tax rate through tax-efficient structuring. This divestiture was explicitly cited as the key driver of the reduced effective tax rate from 17.8% in 2021 to 9.6% in 2022.\n",
    "```"
   ]
  },
  {
   "cell_type": "markdown",
   "metadata": {},
   "source": [
    "### Analyze Generated data"
   ]
  },
  {
   "cell_type": "code",
   "execution_count": 71,
   "metadata": {},
   "outputs": [
    {
     "name": "stderr",
     "output_type": "stream",
     "text": [
      "Map (num_proc=16): 100%|██████████| 8573/8573 [00:01<00:00, 7131.43 examples/s] \n"
     ]
    },
    {
     "data": {
      "image/png": "[encoded data removed]",
      "text/plain": [
       "<Figure size 640x480 with 1 Axes>"
      ]
     },
     "metadata": {},
     "output_type": "display_data"
    }
   ],
   "source": [
    "# Data generated from previous notebook\n",
    "from transformers import AutoTokenizer\n",
    "from datasets import load_dataset\n",
    "\n",
    "# Load tokenizer for pre-training formatting\n",
    "tokenizer = AutoTokenizer.from_pretrained(\"nvidia/Llama-3.1-Nemotron-Nano-8B-v1\")\n",
    "threeM_reasoning_ds = load_dataset(\"json\", data_dir=f\"{data_base_path}/3m_sec_filings/synth_knowledge_reasoning_nemotron_super_49b_summary_diversity/\", split=\"train\")\n",
    "threeM_reasoning_ds = threeM_reasoning_ds.map(lambda x: {'token_size': len(tokenizer.encode(x['document']))}, batched=False, num_proc=16)\n",
    "# Plot the distribution of SEC filings data for 3M\n",
    "import matplotlib.pyplot as plt\n",
    "plt.hist(threeM_reasoning_ds['token_size'], bins=100)\n",
    "plt.show()"
   ]
  },
  {
   "cell_type": "code",
   "execution_count": 4,
   "metadata": {},
   "outputs": [
    {
     "name": "stderr",
     "output_type": "stream",
     "text": [
      "Generating train split: 8110 examples [00:01, 6133.65 examples/s]\n",
      "Map (num_proc=16): 100%|██████████| 8110/8110 [00:01<00:00, 4576.26 examples/s]\n"
     ]
    },
    {
     "data": {
      "image/png": "[encoded data removed]",
      "text/plain": [
       "<Figure size 640x480 with 1 Axes>"
      ]
     },
     "metadata": {},
     "output_type": "display_data"
    }
   ],
   "source": [
    "# With changes to prompt\n",
    "from transformers import AutoTokenizer\n",
    "from datasets import load_dataset\n",
    "data_base_path = os.environ[\"DATA_BASE_PATH\"]\n",
    "# Load tokenizer for pre-training formatting\n",
    "tokenizer = AutoTokenizer.from_pretrained(\"nvidia/Llama-3.1-Nemotron-Nano-8B-v1\")\n",
    "threeM_reasoning_ds = load_dataset(\"json\", data_dir=f\"{data_base_path}/3m_sec_filings/synth_knowledge_reasoning_nemotron_super_49b_summary_diversity_detailed/\", split=\"train\")\n",
    "threeM_reasoning_ds = threeM_reasoning_ds.map(lambda x: {'token_size': len(tokenizer.encode(x['document']))}, batched=False, num_proc=16)\n",
    "# Plot the distribution of SEC filings data for 3M\n",
    "import matplotlib.pyplot as plt\n",
    "plt.hist(threeM_reasoning_ds['token_size'], bins=100)\n",
    "plt.show()"
   ]
  },
  {
   "cell_type": "markdown",
   "metadata": {},
   "source": [
    "## Create training mix"
   ]
  },
  {
   "cell_type": "code",
   "execution_count": null,
   "metadata": {},
   "outputs": [],
   "source": [
    "from utils import create_training_mix\n",
    "from transformers import AutoTokenizer\n",
    "from datasets import load_dataset, concatenate_datasets\n",
    " \n",
    "def extract_think(x):\n",
    "    if 'messages' in x:\n",
    "        if '<think>' in x['messages'][2]['content'] and '</think>' in x['messages'][2]['content']:\n",
    "            return {'think' : x['messages'][2]['content'][x['messages'][2]['content'].find('<think>')+len('<think>'):x['messages'][2]['content'].find('</think>')]}\n",
    "    elif '<think>' in x['response'] and '</think>' in x['response']:\n",
    "        return {'think' : x['response'][x['response'].find('<think>')+len('<think>'):x['response'].find('</think>')]}\n",
    "    return {'think' : ''}\n",
    "\n",
    "\n",
    "data_base_path = os.environ[\"DATA_BASE_PATH\"]\n",
    "# Load tokenizer for pre-training formatting\n",
    "tokenizer = AutoTokenizer.from_pretrained(\"nvidia/Llama-3.1-Nemotron-Nano-8B-v1\")\n",
    "\n",
    "\n",
    "# Load reasoning dataset from nemotron super 49b\n",
    "threeM_reasoning_ds = load_dataset(\"json\", data_dir=f\"{data_base_path}/3m_sec_filings/synth_knowledge_reasoning_nemotron_super_49b_rewrite_with_diversity/\", split=\"train\")\n",
    "threeM_reasoning_ds = threeM_reasoning_ds.filter(lambda x: '[QUESTION]' not in x['response'])\n",
    "# Filter out responses that don't have a single think block\n",
    "threeM_reasoning_ds = threeM_reasoning_ds.filter(lambda x: x['response'].count('<think>') == 1 and x['response'].count('</think>') == 1)\n",
    "threeM_reasoning_ds = threeM_reasoning_ds.filter(lambda x: x['question'].count('<think>') == 0 and x['question'].count('</think>') == 0)\n",
    "# Filter out summaries that are too short\n",
    "threeM_reasoning_ds = threeM_reasoning_ds.map(lambda x: {'token_size': len(tokenizer.encode(x['document']))}, batched=False, num_proc=16)\n",
    "threeM_reasoning_ds = threeM_reasoning_ds.filter(lambda x: x['token_size'] > 300).remove_columns(['token_size'])\n",
    "print(threeM_reasoning_ds)\n",
    "# Create reasoning training mix\n",
    "threeM_reasoning_ds = threeM_reasoning_ds.add_column('domain', ['SEC Filings'] * len(threeM_reasoning_ds))\n",
    "threeM_reasoning_ds = create_training_mix(threeM_reasoning_ds, tokenizer, 'on', create_summary=False)\n",
    "threeM_reasoning_ds = threeM_reasoning_ds.filter(lambda x: '<think>' in x['messages'][2]['content'] and '</think>' in x['messages'][2]['content'])\n",
    "threeM_reasoning_ds = threeM_reasoning_ds.map(extract_think, batched=False, num_proc=16)\n",
    "threeM_reasoning_ds = threeM_reasoning_ds.filter(lambda x: x['think'].strip()).remove_columns(['think'])\n",
    "\n",
    "\n",
    "# Load non-reasoning dataset from nemotron super 49b\n",
    "threeM_non_reasoning_ds = load_dataset(\"json\", data_dir=f\"{data_base_path}/3m_sec_filings/synth_knowledge_reasoning_nemotron_super_49b/\", split=\"train\")\n",
    "threeM_non_reasoning_ds = threeM_non_reasoning_ds.add_column('domain', ['SEC Filings'] * len(threeM_non_reasoning_ds))\n",
    "threeM_non_reasoning_ds = threeM_non_reasoning_ds.filter(lambda x: x['score'] == '2' and x['judgment'] == 'YES')\n",
    "print(threeM_non_reasoning_ds)\n",
    "\n",
    "# Create non-reasoning training mix\n",
    "threeM_non_reasoning_ds = create_training_mix(threeM_non_reasoning_ds, tokenizer, 'off', create_summary=False).shuffle(seed=894375)\n",
    "\n",
    "\n",
    "\n",
    "# Load nemotron replay buffer\n",
    "nemotron_ds_replay_buffer = load_dataset(\"json\", data_files=f\"{data_base_path}/quality/training_mix/nemotron_replay_buffer_data.jsonl\", split=\"train\")\n",
    "nemotron_ds_replay_buffer = nemotron_ds_replay_buffer.filter(lambda x: '<think>' in x['messages'][2]['content'] and '</think>' in x['messages'][2]['content'])\n",
    "nemotron_ds_replay_buffer = nemotron_ds_replay_buffer.map(extract_think, batched=False, num_proc=16)\n",
    "nemotron_ds_replay_buffer = nemotron_ds_replay_buffer.filter(lambda x: x['think'].strip()).remove_columns(['think'])\n",
    "\n",
    "# Concatenate training mix with replay buffer\n",
    "training_mix = concatenate_datasets([threeM_reasoning_ds, threeM_non_reasoning_ds, nemotron_ds_replay_buffer.shuffle(seed=894375).select(range(len(threeM_reasoning_ds)))])\n",
    "\n",
    "training_mix_only_reasoning = concatenate_datasets([threeM_reasoning_ds, nemotron_ds_replay_buffer.shuffle(seed=894375).select(range(len(threeM_reasoning_ds)))])\n",
    "\n",
    "print(training_mix)\n",
    "training_mix.to_json(f\"{data_base_path}/3m_sec_filings/training_mix/3m_sec_filings_reasoning_mix_with_doc_rewrite_diversity_detailed_non_reasoning.jsonl\", orient='records', lines=True)"
   ]
  },
  {
   "cell_type": "markdown",
   "metadata": {},
   "source": [
    "### Wrapping Up\n",
    "- We have generated reasoning data on small subset of Finance Bench document. This can be easily extended to run on all documents\n",
    "- You can also checkout out two more pipelines\n",
    "    - `synth_knowledge_reasoning_nemotron_super_49b_rewrite_with_diversity.yaml`: Re-write the document instead of summarizing it\n",
    "    - `synth_knowledge_reasoning_nemotron_super_49b_summary_diversity_cot.yaml`: Modified version of the main reasoning pipeline where we use COT Question/Answer generation prompt"
   ]
  }
 ],
 "metadata": {
  "kernelspec": {
   "display_name": "research_sdg",
   "language": "python",
   "name": "python3"
  },
  "language_info": {
   "codemirror_mode": {
    "name": "ipython",
    "version": 3
   },
   "file_extension": ".py",
   "mimetype": "text/x-python",
   "name": "python",
   "nbconvert_exporter": "python",
   "pygments_lexer": "ipython3",
   "version": "3.10.16"
  }
 },
 "nbformat": 4,
 "nbformat_minor": 2
}
