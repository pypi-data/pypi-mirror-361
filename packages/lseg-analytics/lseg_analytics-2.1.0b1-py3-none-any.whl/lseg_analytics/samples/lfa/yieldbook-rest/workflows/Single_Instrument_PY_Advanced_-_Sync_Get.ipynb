{
 "cells": [
  {
   "cell_type": "markdown",
   "id": "1a108871",
   "metadata": {},
   "source": [
    "# Single Instrument PY Advanced via Sync Get"
   ]
  },
  {
   "cell_type": "markdown",
   "id": "3a4cef20",
   "metadata": {},
   "source": [
    "This notebook demonstrates how to access and use the functinalities of **Price Yield** which are part of our **Yiedbook** module within LSEG Financial Analytics SDK.\n",
    "\n",
    "Main goal of this notebook is to explore and display an approach in calculating Price Yield information by using synchronous GET method."
   ]
  },
  {
   "cell_type": "markdown",
   "id": "7cd0ad84",
   "metadata": {},
   "source": [
    "## Imports"
   ]
  },
  {
   "cell_type": "markdown",
   "id": "37a963b7",
   "metadata": {},
   "source": [
    "Import the following necessary modules:\n",
    "\n",
    "*request_py_calculation_sync_by_id* - Synchronous PY Calculation GET method\n",
    "\n",
    "*OptionModel* - Enumeration of different option models for calculations\n",
    "\n",
    "*json* - for display purposes "
   ]
  },
  {
   "cell_type": "code",
   "execution_count": 1,
   "id": "fb2218f1",
   "metadata": {
    "execution": {
     "iopub.execute_input": "2025-06-27T09:41:28.742364Z",
     "iopub.status.busy": "2025-06-27T09:41:28.741956Z",
     "iopub.status.idle": "2025-06-27T09:41:29.206905Z",
     "shell.execute_reply": "2025-06-27T09:41:29.205835Z"
    }
   },
   "outputs": [],
   "source": [
    "import json as js\n",
    "\n",
    "from lseg_analytics.yield_book_rest import (\n",
    "    request_py_calculation_sync_by_id,\n",
    "    OptionModel\n",
    ")"
   ]
  },
  {
   "cell_type": "markdown",
   "id": "a120b720",
   "metadata": {},
   "source": [
    "## Synchronous GET PY Calculation"
   ]
  },
  {
   "cell_type": "markdown",
   "id": "0c5fcfe5",
   "metadata": {},
   "source": [
    "As the GET method doesn't require any data preparation, all of the information needed for the calculation goes directly into the method execution.\n",
    "\n",
    "*id* - Instrument Identifier (CUSIP or ISIN), **mandatory**\n",
    "\n",
    "*level* - pricing level for PY Calculation, **mandatory**\n",
    "\n",
    "*curve_type* - type of curve on which PY is calculated, **optional**\n",
    "\n",
    "*pricing_date* - date on which the pricing is performed, **optional**\n",
    "\n",
    "*currency* - currency of calculation, **optional**\n",
    "\n",
    "*prepay_type* - On MBA's, prepay information is added, **optional**\n",
    "\n",
    "*prepay_rate* - Rate of prepay, **optional**,\n",
    "\n",
    "*option_model* - if instrument has options, this is their model, **optional**\n",
    "\n",
    "NOTE - 01F002628 is an Mortgage Based Asset (MBA)"
   ]
  },
  {
   "cell_type": "code",
   "execution_count": 2,
   "id": "bb2ba0b4",
   "metadata": {
    "execution": {
     "iopub.execute_input": "2025-06-27T09:41:29.212038Z",
     "iopub.status.busy": "2025-06-27T09:41:29.209723Z",
     "iopub.status.idle": "2025-06-27T09:41:32.247768Z",
     "shell.execute_reply": "2025-06-27T09:41:32.247216Z"
    }
   },
   "outputs": [],
   "source": [
    "# Request single instrument PY Calculation\n",
    "py_sync_get_response = request_py_calculation_sync_by_id(\n",
    "            id=\"01F002628\", \n",
    "            level=\"100\",\n",
    "            curve_type=\"GVT\",\n",
    "            pricing_date=\"2025-01-17\",\n",
    "            currency=\"USD\",\n",
    "            prepay_type=\"CPR\",\n",
    "            prepay_rate=1.1,\n",
    "            option_model=OptionModel.OAS,\n",
    "        )"
   ]
  },
  {
   "cell_type": "markdown",
   "id": "6b7ec6ed",
   "metadata": {},
   "source": [
    "## Display results"
   ]
  },
  {
   "cell_type": "markdown",
   "id": "5a4bd41e",
   "metadata": {},
   "source": [
    "Results data is structured in JSON format so it can be easily displayed using print function:"
   ]
  },
  {
   "cell_type": "code",
   "execution_count": 3,
   "id": "6be03632",
   "metadata": {
    "execution": {
     "iopub.execute_input": "2025-06-27T09:41:32.250855Z",
     "iopub.status.busy": "2025-06-27T09:41:32.250326Z",
     "iopub.status.idle": "2025-06-27T09:41:32.254589Z",
     "shell.execute_reply": "2025-06-27T09:41:32.253879Z"
    }
   },
   "outputs": [
    {
     "name": "stdout",
     "output_type": "stream",
     "text": [
      "{\n",
      "    \"data\": {\n",
      "        \"py\": {\n",
      "            \"oas\": -421.8867,\n",
      "            \"wal\": 13.848397,\n",
      "            \"dv01\": 0.131942078,\n",
      "            \"cusip\": \"01F002628\",\n",
      "            \"price\": 100.0,\n",
      "            \"yield\": 0.497995,\n",
      "            \"ticker\": \"FNMA\",\n",
      "            \"pyLevel\": \"100\",\n",
      "            \"zSpread\": -430.753815,\n",
      "            \"duration\": 13.192009,\n",
      "            \"ziSpread\": -430.753815,\n",
      "            \"znSpread\": -370.338348,\n",
      "            \"benchmark\": \"10 yr\",\n",
      "            \"convexity\": 2.4884,\n",
      "            \"curveDate\": \"2025-01-17\",\n",
      "            \"curveType\": \"Govt\",\n",
      "            \"fullPrice\": 100.01666667,\n",
      "            \"prepayRate\": 1.1,\n",
      "            \"prepayType\": \"CPR\",\n",
      "            \"securityID\": \"01F00262\",\n",
      "            \"spreadDV01\": 0.13379696,\n",
      "            \"tsyCurveID\": \"USDp0117\",\n",
      "            \"accruedDays\": 12,\n",
      "            \"description\": \"30-YR UMBS-TBA PROD FEB\",\n",
      "            \"grossSpread\": -422.922,\n",
      "            \"pricingDate\": \"2025-01-17\",\n",
      "            \"swapCurveID\": \"SUSp117Q2\",\n",
      "            \"currentYield\": 0.5,\n",
      "            \"effectiveWAL\": 13.8484,\n",
      "            \"maturityDate\": \"2054-01-01\",\n",
      "            \"securityType\": \"MORT\",\n",
      "            \"volModelType\": \"LMMSOFRFLAT\",\n",
      "            \"yieldToWorst\": 0.497995,\n",
      "            \"convexityCost\": 0.0,\n",
      "            \"currentCoupon\": 0.5,\n",
      "            \"effectiveCV01\": 0.023705074,\n",
      "            \"effectiveDV01\": 0.126947522,\n",
      "            \"mortgageYield\": 0.4975,\n",
      "            \"remainingTerm\": 347,\n",
      "            \"effectiveYield\": 0.5083,\n",
      "            \"marketSettings\": {\n",
      "                \"settlementDate\": \"2025-02-13\"\n",
      "            },\n",
      "            \"settlementDate\": \"2025-02-13\",\n",
      "            \"spreadDuration\": 13.377466,\n",
      "            \"accruedInterest\": 0.01666667,\n",
      "            \"annualizedYield\": 0.499,\n",
      "            \"compoundingFreq\": 2,\n",
      "            \"convexityEffect\": 0.0,\n",
      "            \"forwardMeasures\": {\n",
      "                \"wal\": 13.848397,\n",
      "                \"yield\": 0.497994,\n",
      "                \"margin\": -421.887\n",
      "            },\n",
      "            \"spreadConvexity\": 2.567,\n",
      "            \"yearsToMaturity\": 28.8833,\n",
      "            \"economicExposure\": 100.016667,\n",
      "            \"macaulayDuration\": 13.2249,\n",
      "            \"spreadToActCurve\": -423.4864,\n",
      "            \"spreadToNextCall\": -435.5205,\n",
      "            \"spreadToTsyCurve\": -422.922,\n",
      "            \"yieldCurveMargin\": -421.8867,\n",
      "            \"yieldToWorstCall\": 0.497995,\n",
      "            \"effectiveDuration\": 12.692637444,\n",
      "            \"spreadToBenchmark\": -411.0752,\n",
      "            \"spreadToSwapCurve\": -398.0625,\n",
      "            \"spreadToWorstCall\": -423,\n",
      "            \"effectiveConvexity\": 2.370112419,\n",
      "            \"optionModelCurveID\": \"USDp0117\",\n",
      "            \"yieldCurveDuration\": 12.6926,\n",
      "            \"durationToWorstCase\": 13.192009,\n",
      "            \"semiAnnualizedYield\": 0.497995,\n",
      "            \"spreadToRFRSwapCurve\": -369.7391,\n",
      "            \"yearsToFinalMaturity\": 28.883,\n",
      "            \"spreadDurationTreasury\": 13.377466,\n",
      "            \"fundedEffectiveDuration\": 12.692637,\n",
      "            \"effectiveDurationPriceUp\": 96.90039,\n",
      "            \"fundedEffectiveConvexity\": 2.370112,\n",
      "            \"lastPrincipalPaymentDate\": \"2054-01-25\",\n",
      "            \"effectiveDurationPriceDown\": 103.247767,\n",
      "            \"spreadToTsyCurveAtBenchmarkTenor\": -411.0752\n",
      "        },\n",
      "        \"securityID\": \"01F00262\"\n",
      "    },\n",
      "    \"meta\": {\n",
      "        \"status\": \"DONE\",\n",
      "        \"requestId\": \"R-1588918\",\n",
      "        \"timeStamp\": \"2025-06-27T05:41:32Z\",\n",
      "        \"responseType\": \"PY_CALC\"\n",
      "    }\n",
      "}\n"
     ]
    }
   ],
   "source": [
    "# Print results in json format\n",
    "print(js.dumps(obj=py_sync_get_response, indent=4))"
   ]
  }
 ],
 "metadata": {
  "kernelspec": {
   "display_name": "env",
   "language": "python",
   "name": "python3"
  },
  "language_info": {
   "codemirror_mode": {
    "name": "ipython",
    "version": 3
   },
   "file_extension": ".py",
   "mimetype": "text/x-python",
   "name": "python",
   "nbconvert_exporter": "python",
   "pygments_lexer": "ipython3",
   "version": "3.11.6"
  }
 },
 "nbformat": 4,
 "nbformat_minor": 5
}
