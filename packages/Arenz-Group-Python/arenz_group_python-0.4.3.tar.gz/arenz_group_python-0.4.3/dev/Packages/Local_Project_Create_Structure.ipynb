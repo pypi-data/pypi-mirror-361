{
 "cells": [
  {
   "cell_type": "markdown",
   "metadata": {},
   "source": [
    "# General installation from github\n",
    "This notebook creates a basic project structure. \n",
    "It is based on the article:\n",
    "\n",
    "https://towardsdatascience.com/its-time-to-structure-your-data-science-project-1fa064fbe46\n"
   ]
  },
  {
   "cell_type": "code",
   "execution_count": 1,
   "metadata": {},
   "outputs": [
    {
     "name": "stdout",
     "output_type": "stream",
     "text": [
      "c:\\Users\\gustav.wiberg\\Documents\\GitHub\\BERN\\Arenz_Group_Python\\dev\\Packages\n",
      "c:\\Users\\gustav.wiberg\\Documents\\GitHub\\BERN\\Arenz_Group_Python\\src\n",
      "c:\\Users\\gustav.wiberg\\Documents\\GitHub\\BERN\\Arenz_Group_Python\\src\n",
      "\"data_treated\" could not be found as a branch of the folder tree form the notebook.\n",
      "Please use standard project structure.\n",
      "Project_Paths().create_project_structure()\n",
      "from the root of the project.\n",
      "\n",
      "['c:\\\\Users\\\\gustav.wiberg\\\\Documents\\\\GitHub\\\\BERN\\\\Arenz_Group_Python\\\\src\\\\arenz_group_python']\n"
     ]
    }
   ],
   "source": [
    "from pathlib import Path\n",
    "import sys\n",
    "nb_path = Path.cwd()\n",
    "p = Path.cwd()\n",
    "print(p)\n",
    "for p in Path.cwd().parents:\n",
    "    pa = p / \"src\"\n",
    "    if pa.exists():\n",
    "        print(pa)\n",
    "        sys.path.insert(0,str(pa))\n",
    "        break\n",
    "print(pa)\n",
    "#add\n",
    "#sys.path.insert(0,str(pa))\n",
    "import arenz_group_python\n",
    "print(arenz_group_python.__path__)\n"
   ]
  },
  {
   "cell_type": "code",
   "execution_count": null,
   "metadata": {},
   "outputs": [],
   "source": []
  },
  {
   "cell_type": "code",
   "execution_count": 10,
   "metadata": {},
   "outputs": [
    {
     "name": "stdout",
     "output_type": "stream",
     "text": [
      "c:\\Users\\gustav.wiberg\\Documents\\GitHub\\BERN\\Arenz_Group_Python\\TEMP_Project\\TEMP_Project True\n",
      "\n",
      "creating files:\n",
      "\n",
      "+\".env\" was created\n",
      "+\"requirements.txt\" was created or updated\n",
      "+\"__init__.py\" was created\n",
      "+\"download_experiment_and_data_from_ELABFTW.ipynb\" was created\n",
      "+\"Project_Update_All_Modules.ipynb\" was created\n",
      "+\"c:\\Users\\gustav.wiberg\\Documents\\GitHub\\BERN\\Arenz_Group_Python\\TEMP_Project\\TEMP_Project\\notebooks_models\\modelData.ipynb\" was created\n",
      "+\"c:\\Users\\gustav.wiberg\\Documents\\GitHub\\BERN\\Arenz_Group_Python\\TEMP_Project\\TEMP_Project\\py_scripts\\my_Module.py\" was created\n",
      "+\"extractData.ipynb\" was created\n",
      "+\"README.txt\" was created\n",
      "+\"README.txt\" was created\n",
      "+\"extracted_values.csv\" was created\n"
     ]
    }
   ],
   "source": [
    "\n",
    "from arenz_group_python import Project_Paths\n",
    "\n",
    "p = nb_path.parent.parent / \"TEMP_Project\" /\"TEMP_Project\"\n",
    "print(p, p.exists())\n",
    "pp= Project_Paths().create_project_structure(nb_path.parent.parent / \"TEMP_Project\" / \"TEMP_Project\")"
   ]
  }
 ],
 "metadata": {
  "kernelspec": {
   "display_name": "Python 3",
   "language": "python",
   "name": "python3"
  },
  "language_info": {
   "codemirror_mode": {
    "name": "ipython",
    "version": 3
   },
   "file_extension": ".py",
   "mimetype": "text/x-python",
   "name": "python",
   "nbconvert_exporter": "python",
   "pygments_lexer": "ipython3",
   "version": "3.11.5"
  }
 },
 "nbformat": 4,
 "nbformat_minor": 2
}
