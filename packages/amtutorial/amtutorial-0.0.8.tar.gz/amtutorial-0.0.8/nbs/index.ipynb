{
 "cells": [
  {
   "cell_type": "markdown",
   "id": "90c785b3",
   "metadata": {},
   "source": [
    "---\n",
    "authors:\n",
    "  - name: Dmitry Krotov\n",
    "    email: krotov@ibm.com\n",
    "    affiliations: IBM Research, MIT\n",
    "  - name: Benjamin Hoover\n",
    "    email: bhoov@gatech.edu\n",
    "    affiliations: IBM Research, Georgia Tech\n",
    "  - name: Parikshit Ram\n",
    "    email: parikshit.ram@ibm.com\n",
    "    affiliations: IBM Research\n",
    "  - name: Bao Pham\n",
    "    email: phamb@rpi.edu\n",
    "    affiliations: IBM Research, RPI\n",
    "---\n",
    "\n",
    "# Associative Memory Tutorial\n",
    "> A complete introduction to Associative Memories and Hopfield Networks\n",
    "\n",
    ":::{.callout-warning}\n",
    "## 🚧 Under construction\n",
    "\n",
    "This website and it's accompanying notebooks are under construction until July 14, 2025, when this tutorial will be presented at ICML 2025.\n",
    "\n",
    ":::\n",
    "\n",
    "See the [tutorials](./tutorial/index.ipynb) for a brief introduction to the list of example notebooks."
   ]
  }
 ],
 "metadata": {
  "language_info": {
   "name": "python"
  }
 },
 "nbformat": 4,
 "nbformat_minor": 5
}
