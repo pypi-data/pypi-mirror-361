{
 "cells": [
  {
   "cell_type": "markdown",
   "metadata": {
    "tags": [
     "ide-samples-no-python"
    ]
   },
   "source": [
    "# FX Forward Curves Fundamentals"
   ]
  },
  {
   "cell_type": "markdown",
   "metadata": {},
   "source": [
    "## Namespaces\n",
    "\n",
    "You can use namespaces in your Python by importing the necessary modules."
   ]
  },
  {
   "cell_type": "code",
   "execution_count": 1,
   "metadata": {
    "execution": {
     "iopub.execute_input": "2025-06-27T09:41:48.892004Z",
     "iopub.status.busy": "2025-06-27T09:41:48.891627Z",
     "iopub.status.idle": "2025-06-27T09:41:49.392055Z",
     "shell.execute_reply": "2025-06-27T09:41:49.390832Z"
    }
   },
   "outputs": [],
   "source": [
    "import datetime\n",
    "\n",
    "from lseg_analytics.common import Description, TenorType, Quote, QuoteDefinition\n",
    "\n",
    "from lseg_analytics.market_data.fx_forward_curves import (\n",
    "    DepositFxConstituent,\n",
    "    DepositConstituentDefinition,\n",
    "    CurrencyBasisSwapConstituent,\n",
    "    CurrencyBasisSwapConstituentDefinition,\n",
    "    FxForwardConstituent,\n",
    "    FxSpotConstituentDefinition,\n",
    "    FxForwardConstituentDefinition,\n",
    "    FxSpotConstituent,\n",
    "    IndirectSourcesDeposits,\n",
    "    IndirectSourcesSwaps,\n",
    "    FxForwardCurve,\n",
    "    FxForwardCurveDefinition,\n",
    "    delete,\n",
    "    load,\n",
    "    search,\n",
    ")"
   ]
  },
  {
   "cell_type": "markdown",
   "metadata": {},
   "source": [
    "You can import api modules using their original names:"
   ]
  },
  {
   "cell_type": "code",
   "execution_count": 2,
   "metadata": {
    "execution": {
     "iopub.execute_input": "2025-06-27T09:41:49.397785Z",
     "iopub.status.busy": "2025-06-27T09:41:49.395291Z",
     "iopub.status.idle": "2025-06-27T09:41:49.408482Z",
     "shell.execute_reply": "2025-06-27T09:41:49.407755Z"
    }
   },
   "outputs": [
    {
     "data": {
      "text/plain": [
       "'lseg_analytics.market_data.fx_forward_curves'"
      ]
     },
     "execution_count": 2,
     "metadata": {},
     "output_type": "execute_result"
    }
   ],
   "source": [
    "from lseg_analytics.market_data import fx_forward_curves\n",
    "\n",
    "fx_forward_curves.__name__"
   ]
  },
  {
   "cell_type": "markdown",
   "metadata": {},
   "source": [
    "Or you can import them using an alias to prevent name conflicts:"
   ]
  },
  {
   "cell_type": "code",
   "execution_count": 3,
   "metadata": {
    "execution": {
     "iopub.execute_input": "2025-06-27T09:41:49.411742Z",
     "iopub.status.busy": "2025-06-27T09:41:49.411481Z",
     "iopub.status.idle": "2025-06-27T09:41:49.416176Z",
     "shell.execute_reply": "2025-06-27T09:41:49.415426Z"
    }
   },
   "outputs": [
    {
     "data": {
      "text/plain": [
       "(lseg_analytics.market_data.fx_forward_curves._fx_forward_curve.FxForwardCurve,\n",
       " <function lseg_analytics.market_data.fx_forward_curves._functions.load(*, resource_id: Optional[str] = None, name: Optional[str] = None, space: Optional[str] = None)>)"
      ]
     },
     "execution_count": 3,
     "metadata": {},
     "output_type": "execute_result"
    }
   ],
   "source": [
    "from lseg_analytics.market_data import fx_forward_curves as ffc\n",
    "\n",
    "ffc.FxForwardCurve, ffc.load"
   ]
  },
  {
   "cell_type": "markdown",
   "metadata": {},
   "source": [
    "## Constructors\n",
    "\n",
    "Each object might have the following parameters:\n",
    "\n",
    "- A definition containing information that *defines* a resource, used to build the resource object itself.\n",
    "- A description containing information that *describes* a resource, for example a summary and/or tags.\n",
    "\n",
    "The definition is mandatory while description is optional.\n"
   ]
  },
  {
   "cell_type": "markdown",
   "metadata": {},
   "source": [
    "### Definition\n",
    "\n",
    "You can construct objects in more than one way. \n",
    "\n",
    "In this case, define the FxForwardCurve with a simple 'definition':"
   ]
  },
  {
   "cell_type": "code",
   "execution_count": 4,
   "metadata": {
    "execution": {
     "iopub.execute_input": "2025-06-27T09:41:49.418926Z",
     "iopub.status.busy": "2025-06-27T09:41:49.418652Z",
     "iopub.status.idle": "2025-06-27T09:41:49.424649Z",
     "shell.execute_reply": "2025-06-27T09:41:49.424030Z"
    }
   },
   "outputs": [
    {
     "data": {
      "text/plain": [
       "<FxForwardCurve space=None name='' unsaved>"
      ]
     },
     "execution_count": 4,
     "metadata": {},
     "output_type": "execute_result"
    }
   ],
   "source": [
    "# Create a FxForwardCurve instance.\n",
    "new_curve = FxForwardCurve(\n",
    "    FxForwardCurveDefinition(\n",
    "        cross_currency=\"USDJPY\", reference_currency=\"JPY\"\n",
    "    )\n",
    ")\n",
    "\n",
    "new_curve"
   ]
  },
  {
   "cell_type": "markdown",
   "metadata": {},
   "source": [
    "### Description\n",
    "\n",
    "You can add the description later:"
   ]
  },
  {
   "cell_type": "code",
   "execution_count": 5,
   "metadata": {
    "execution": {
     "iopub.execute_input": "2025-06-27T09:41:49.427202Z",
     "iopub.status.busy": "2025-06-27T09:41:49.426703Z",
     "iopub.status.idle": "2025-06-27T09:41:49.431135Z",
     "shell.execute_reply": "2025-06-27T09:41:49.430541Z"
    }
   },
   "outputs": [
    {
     "data": {
      "text/plain": [
       "'New curve'"
      ]
     },
     "execution_count": 5,
     "metadata": {},
     "output_type": "execute_result"
    }
   ],
   "source": [
    "new_curve.description.summary=\"New curve\"\n",
    "\n",
    "new_curve.description.summary"
   ]
  },
  {
   "cell_type": "markdown",
   "metadata": {},
   "source": [
    "## Builders\n",
    "\n",
    "Curves can have a large number of parameters to enable them to cover many use cases. This provides flexibility, but makes curve creation complex.\n",
    "\n",
    "The platform provides dedicated endpoints to create curves for specific use cases, allowing creation using only the parameters necessary for that use.\n",
    "\n",
    "These endpoints are exposed as functions."
   ]
  },
  {
   "cell_type": "markdown",
   "metadata": {},
   "source": [
    "### Create FxForwardCurve from scratch.\n",
    "This example creates a FX forward curve without using one of the dedicated functions."
   ]
  },
  {
   "cell_type": "code",
   "execution_count": 6,
   "metadata": {
    "execution": {
     "iopub.execute_input": "2025-06-27T09:41:49.433627Z",
     "iopub.status.busy": "2025-06-27T09:41:49.433137Z",
     "iopub.status.idle": "2025-06-27T09:41:49.448505Z",
     "shell.execute_reply": "2025-06-27T09:41:49.447795Z"
    }
   },
   "outputs": [
    {
     "data": {
      "text/plain": [
       "<FxForwardCurve space=None name='' unsaved>"
      ]
     },
     "execution_count": 6,
     "metadata": {},
     "output_type": "execute_result"
    }
   ],
   "source": [
    "curve_from_scratch = FxForwardCurve(\n",
    "    description=Description(summary=\"My FX Forward Curve\", tags=[\"tag1\", \"tag2\"]),\n",
    "    definition=FxForwardCurveDefinition(\n",
    "        cross_currency=\"EURCHF\",\n",
    "        reference_currency=\"TRY\",\n",
    "        constituents=[\n",
    "            FxSpotConstituent(\n",
    "                quote=Quote(definition=QuoteDefinition(instrument_code=\"TRY=\")),\n",
    "                definition=FxSpotConstituentDefinition(template=\"USDEUR\"),\n",
    "            ),\n",
    "            FxForwardConstituent(\n",
    "                definition=FxForwardConstituentDefinition(template=\"USDEUR\"),\n",
    "            ),\n",
    "            CurrencyBasisSwapConstituent(\n",
    "                definition=CurrencyBasisSwapConstituentDefinition(\n",
    "                    template=\"USDEUR\", tenor=\"1W\"\n",
    "                ),\n",
    "            ),\n",
    "            DepositFxConstituent(\n",
    "                definition=DepositConstituentDefinition(\n",
    "                    tenor=\"1D\", template=\"USDEUR\"\n",
    "                )\n",
    "            ),\n",
    "        ],\n",
    "    ),\n",
    ")\n",
    "\n",
    "curve_from_scratch"
   ]
  },
  {
   "cell_type": "markdown",
   "metadata": {},
   "source": [
    "### Create definition from FXForwards\n",
    "This example creates a curve from FXForwards."
   ]
  },
  {
   "cell_type": "code",
   "execution_count": 7,
   "metadata": {
    "execution": {
     "iopub.execute_input": "2025-06-27T09:41:49.451484Z",
     "iopub.status.busy": "2025-06-27T09:41:49.451249Z",
     "iopub.status.idle": "2025-06-27T09:41:50.065694Z",
     "shell.execute_reply": "2025-06-27T09:41:50.065048Z"
    }
   },
   "outputs": [
    {
     "data": {
      "text/plain": [
       "<FxForwardCurve space=None name='' unsaved>"
      ]
     },
     "execution_count": 7,
     "metadata": {},
     "output_type": "execute_result"
    }
   ],
   "source": [
    "from_fx_forwards = fx_forward_curves.create_from_fx_forwards(\n",
    "            cross_currency=\"EURGBP\",\n",
    "            reference_currency=\"USD\",\n",
    "            sources=IndirectSourcesSwaps(base_fx_forwards=\"RFB\"),\n",
    "            additional_tenor_types=[TenorType.LONG, TenorType.END_OF_MONTH],\n",
    "        )\n",
    "\n",
    "from_fx_forwards"
   ]
  },
  {
   "cell_type": "markdown",
   "metadata": {},
   "source": [
    "### Create definition from deposits\n",
    "This example creates a curve from Deposits."
   ]
  },
  {
   "cell_type": "code",
   "execution_count": 8,
   "metadata": {
    "execution": {
     "iopub.execute_input": "2025-06-27T09:41:50.069754Z",
     "iopub.status.busy": "2025-06-27T09:41:50.069230Z",
     "iopub.status.idle": "2025-06-27T09:41:50.342343Z",
     "shell.execute_reply": "2025-06-27T09:41:50.341647Z"
    }
   },
   "outputs": [
    {
     "data": {
      "text/plain": [
       "<FxForwardCurve space=None name='' unsaved>"
      ]
     },
     "execution_count": 8,
     "metadata": {},
     "output_type": "execute_result"
    }
   ],
   "source": [
    "from_deposits = fx_forward_curves.create_from_deposits(\n",
    "            cross_currency=\"EURGBP\",\n",
    "            additional_tenor_types=[TenorType.LONG, TenorType.END_OF_MONTH],\n",
    "        )\n",
    "\n",
    "from_deposits"
   ]
  },
  {
   "cell_type": "markdown",
   "metadata": {},
   "source": [
    "## Save\n",
    "This example illustrates how you can save a curve to a space.\n"
   ]
  },
  {
   "cell_type": "code",
   "execution_count": 9,
   "metadata": {
    "execution": {
     "iopub.execute_input": "2025-06-27T09:41:50.344842Z",
     "iopub.status.busy": "2025-06-27T09:41:50.344286Z",
     "iopub.status.idle": "2025-06-27T09:41:50.348841Z",
     "shell.execute_reply": "2025-06-27T09:41:50.348329Z"
    }
   },
   "outputs": [
    {
     "data": {
      "text/plain": [
       "<FxForwardCurve space=None name='' unsaved>"
      ]
     },
     "execution_count": 9,
     "metadata": {},
     "output_type": "execute_result"
    }
   ],
   "source": [
    "from os import name\n",
    "\n",
    "\n",
    "curve = FxForwardCurve(\n",
    "    definition=from_fx_forwards.definition,\n",
    "    description=Description(summary=\"EURGBP Fx Forward Curve via USD\", tags=[\"EURGBP\", \"EUR\", \"GBP\", \"FxCurve\"]),\n",
    ")\n",
    "\n",
    "curve"
   ]
  },
  {
   "cell_type": "code",
   "execution_count": 10,
   "metadata": {
    "execution": {
     "iopub.execute_input": "2025-06-27T09:41:50.350912Z",
     "iopub.status.busy": "2025-06-27T09:41:50.350674Z",
     "iopub.status.idle": "2025-06-27T09:41:50.785956Z",
     "shell.execute_reply": "2025-06-27T09:41:50.785238Z"
    }
   },
   "outputs": [
    {
     "data": {
      "text/plain": [
       "True"
      ]
     },
     "execution_count": 10,
     "metadata": {},
     "output_type": "execute_result"
    }
   ],
   "source": [
    "curve.save(name=\"EURGBP_Fx_Forward_Curve\", space=\"HOME\")"
   ]
  },
  {
   "cell_type": "markdown",
   "metadata": {},
   "source": [
    "## Clone\n",
    "\n",
    "Clone the existing instance on definition and description."
   ]
  },
  {
   "cell_type": "code",
   "execution_count": 11,
   "metadata": {
    "execution": {
     "iopub.execute_input": "2025-06-27T09:41:50.789083Z",
     "iopub.status.busy": "2025-06-27T09:41:50.788632Z",
     "iopub.status.idle": "2025-06-27T09:41:51.624118Z",
     "shell.execute_reply": "2025-06-27T09:41:51.623491Z"
    }
   },
   "outputs": [
    {
     "name": "stdout",
     "output_type": "stream",
     "text": [
      "Curve_id: 9cad6281-b0fd-4e71-a11e-ca68320c18da\n",
      "Cloned_fx_forwards_id: 4cc8b8b8-9030-4fd9-a6ad-be8abc38b267\n"
     ]
    },
    {
     "data": {
      "text/plain": [
       "True"
      ]
     },
     "execution_count": 11,
     "metadata": {},
     "output_type": "execute_result"
    }
   ],
   "source": [
    "cloned_fx_forward = curve.clone()\n",
    "cloned_fx_forward.save(name=\"my_saved_curve2\", space=\"HOME\")\n",
    "\n",
    "print(f\"Curve_id: {curve.id}\")\n",
    "print(f\"Cloned_fx_forwards_id: {cloned_fx_forward.id}\")\n",
    "\n",
    "delete(resource_id=cloned_fx_forward.id)"
   ]
  },
  {
   "cell_type": "markdown",
   "metadata": {},
   "source": [
    "## Location\n",
    "\n",
    "Name and space are location attributes, which are automatically set when a resource object is saved for the first time.\n",
    "\n",
    "Unsaved resources have thier name and space set to None.\n",
    "\n",
    "Location attributes are read-only."
   ]
  },
  {
   "cell_type": "code",
   "execution_count": 12,
   "metadata": {
    "execution": {
     "iopub.execute_input": "2025-06-27T09:41:51.626811Z",
     "iopub.status.busy": "2025-06-27T09:41:51.626580Z",
     "iopub.status.idle": "2025-06-27T09:41:51.630612Z",
     "shell.execute_reply": "2025-06-27T09:41:51.629871Z"
    }
   },
   "outputs": [
    {
     "name": "stdout",
     "output_type": "stream",
     "text": [
      "Curve name: EURGBP_Fx_Forward_Curve\n",
      "Curve space: HOME\n"
     ]
    }
   ],
   "source": [
    "print(f\"Curve name: {curve.location.name}\")\n",
    "print(f\"Curve space: {curve.location.space}\")"
   ]
  },
  {
   "cell_type": "markdown",
   "metadata": {},
   "source": [
    "## Resource ID\n",
    "\n",
    "A resource ID is the unique resource identifier for an object on the platform.\n",
    "\n",
    "The resource ID is created on saving.\n",
    "\n",
    "IDs are read-only."
   ]
  },
  {
   "cell_type": "code",
   "execution_count": 13,
   "metadata": {
    "execution": {
     "iopub.execute_input": "2025-06-27T09:41:51.632855Z",
     "iopub.status.busy": "2025-06-27T09:41:51.632643Z",
     "iopub.status.idle": "2025-06-27T09:41:51.637281Z",
     "shell.execute_reply": "2025-06-27T09:41:51.636701Z"
    }
   },
   "outputs": [
    {
     "data": {
      "text/plain": [
       "'9cad6281-b0fd-4e71-a11e-ca68320c18da'"
      ]
     },
     "execution_count": 13,
     "metadata": {},
     "output_type": "execute_result"
    }
   ],
   "source": [
    "curve_id = curve.id\n",
    "\n",
    "curve_id"
   ]
  },
  {
   "cell_type": "markdown",
   "metadata": {},
   "source": [
    "## Load\n",
    "\n",
    "Previously saved resources can be loaded in either by name or by ID."
   ]
  },
  {
   "cell_type": "markdown",
   "metadata": {},
   "source": [
    "### By name"
   ]
  },
  {
   "cell_type": "code",
   "execution_count": 14,
   "metadata": {
    "execution": {
     "iopub.execute_input": "2025-06-27T09:41:51.639766Z",
     "iopub.status.busy": "2025-06-27T09:41:51.639538Z",
     "iopub.status.idle": "2025-06-27T09:41:51.911659Z",
     "shell.execute_reply": "2025-06-27T09:41:51.911010Z"
    }
   },
   "outputs": [
    {
     "data": {
      "text/plain": [
       "<FxForwardCurve space='HOME' name='EURGBP_Fx_Forward_Curve' 9cad6281‥>"
      ]
     },
     "execution_count": 14,
     "metadata": {},
     "output_type": "execute_result"
    }
   ],
   "source": [
    "loaded_by_name_curve = load(name=\"EURGBP_Fx_Forward_Curve\")\n",
    "loaded_by_name_curve"
   ]
  },
  {
   "cell_type": "markdown",
   "metadata": {},
   "source": [
    "### By ID"
   ]
  },
  {
   "cell_type": "code",
   "execution_count": 15,
   "metadata": {
    "execution": {
     "iopub.execute_input": "2025-06-27T09:41:51.914767Z",
     "iopub.status.busy": "2025-06-27T09:41:51.914458Z",
     "iopub.status.idle": "2025-06-27T09:41:52.068538Z",
     "shell.execute_reply": "2025-06-27T09:41:52.067831Z"
    }
   },
   "outputs": [
    {
     "data": {
      "text/plain": [
       "<FxForwardCurve space='HOME' name='EURGBP_Fx_Forward_Curve' 9cad6281‥>"
      ]
     },
     "execution_count": 15,
     "metadata": {},
     "output_type": "execute_result"
    }
   ],
   "source": [
    "loaded_by_id_curve = load(resource_id=curve_id)\n",
    "loaded_by_id_curve"
   ]
  },
  {
   "cell_type": "markdown",
   "metadata": {},
   "source": [
    "Space is optional, but crucial if you need to have resources with the same name in different spaces:"
   ]
  },
  {
   "cell_type": "code",
   "execution_count": 16,
   "metadata": {
    "execution": {
     "iopub.execute_input": "2025-06-27T09:41:52.071734Z",
     "iopub.status.busy": "2025-06-27T09:41:52.071184Z",
     "iopub.status.idle": "2025-06-27T09:41:52.347833Z",
     "shell.execute_reply": "2025-06-27T09:41:52.347124Z"
    }
   },
   "outputs": [
    {
     "data": {
      "text/plain": [
       "<FxForwardCurve space='HOME' name='EURGBP_Fx_Forward_Curve' 9cad6281‥>"
      ]
     },
     "execution_count": 16,
     "metadata": {},
     "output_type": "execute_result"
    }
   ],
   "source": [
    "loaded_by_name_and_space_curve = load(name=\"EURGBP_Fx_Forward_Curve\", space=\"HOME\")\n",
    "loaded_by_name_and_space_curve"
   ]
  },
  {
   "cell_type": "markdown",
   "metadata": {},
   "source": [
    "## Search\n",
    "\n",
    "You can search for previously saved curves using the following techniques."
   ]
  },
  {
   "cell_type": "markdown",
   "metadata": {},
   "source": [
    "### Search for all curves"
   ]
  },
  {
   "cell_type": "code",
   "execution_count": 17,
   "metadata": {
    "execution": {
     "iopub.execute_input": "2025-06-27T09:41:52.350753Z",
     "iopub.status.busy": "2025-06-27T09:41:52.350344Z",
     "iopub.status.idle": "2025-06-27T09:41:52.497166Z",
     "shell.execute_reply": "2025-06-27T09:41:52.496494Z"
    }
   },
   "outputs": [
    {
     "data": {
      "text/plain": [
       "[{'type': 'FxForwardCurve', 'id': '3b4e3e18-810b-43b1-8e87-de25cb1c658e', 'location': {'space': 'HOME', 'name': 'EURGBP_curve_from_FxForward_testnNVlpi'}, 'description': {'summary': 'My EURGBP curve from FxForward', 'tags': []}},\n",
       " {'type': 'FxForwardCurve', 'id': '9cad6281-b0fd-4e71-a11e-ca68320c18da', 'location': {'space': 'HOME', 'name': 'EURGBP_Fx_Forward_Curve'}, 'description': {'summary': 'EURGBP Fx Forward Curve via USD', 'tags': ['EURGBP', 'EUR', 'GBP', 'FxCurve']}},\n",
       " {'type': 'FxForwardCurve', 'id': '07fbe09d-9968-4056-a87f-80b13c395547', 'location': {'space': 'HOME', 'name': 'GBPAUD_curve_from_FxForward_testIQs2kK'}, 'description': {'summary': 'My GBPAUD curve from FxForward', 'tags': []}},\n",
       " {'type': 'FxForwardCurve', 'id': '4bb6f784-18e1-4e98-a87f-14c5ea65aa2d', 'location': {'space': 'HOME', 'name': 'GBPAUD_curve_from_FxForward_testv2Padw'}, 'description': {'summary': 'My GBPAUD curve from FxForward', 'tags': []}},\n",
       " {'type': 'FxForwardCurve', 'id': '76b14964-65b3-49c9-97a0-eabf6ffc65d1', 'location': {'space': 'HOME', 'name': 'TestCurve_fn6fVj'}, 'description': {'summary': '', 'tags': []}},\n",
       " {'type': 'FxForwardCurve', 'id': 'd48d6311-6f3a-434e-81ef-68e0ed6172ca', 'location': {'space': 'HOME', 'name': 'TestCurve_jfr6FN'}, 'description': {'summary': '', 'tags': []}},\n",
       " {'type': 'FxForwardCurve', 'id': '803e3b96-9285-4558-9c01-33a59bb9b5cc', 'location': {'space': 'HOME', 'name': 'TestCurve_qnn6Mc'}, 'description': {'summary': '', 'tags': []}},\n",
       " {'type': 'FxForwardCurve', 'id': '8624ce0d-ad56-42ac-acd0-f7d21f32be2b', 'location': {'space': 'LSEG', 'name': 'AUD_AONIAUSD_SOFR_FxCross'}, 'description': {'summary': 'LSEG AUD AONIA/USD SOFR FxCross', 'tags': []}},\n",
       " {'type': 'FxForwardCurve', 'id': '3a45f4cb-29b7-4607-9f2e-7ab8a8086535', 'location': {'space': 'LSEG', 'name': 'AUD_BBSWUSD_SOFR_FxCross'}, 'description': {'summary': 'LSEG AUD BBSW/USD SOFR FxCross', 'tags': []}},\n",
       " {'type': 'FxForwardCurve', 'id': '1d3c2ac9-2761-499a-8df4-cc7e054bb029', 'location': {'space': 'LSEG', 'name': 'AUD_CAD_FxForward'}, 'description': {'summary': 'LSEG AUD CAD FxForward', 'tags': []}},\n",
       " {'type': 'FxForwardCurve', 'id': '9bac7c80-4d50-45ad-b66a-d935a8cf5655', 'location': {'space': 'LSEG', 'name': 'AUD_CHF_FxForward'}, 'description': {'summary': 'LSEG AUD CHF FxForward', 'tags': []}},\n",
       " {'type': 'FxForwardCurve', 'id': '11edca10-aa9b-4cc3-9b86-54d5d78119df', 'location': {'space': 'LSEG', 'name': 'AUD_JPY_FxForward'}, 'description': {'summary': 'LSEG AUD JPY FxForward', 'tags': []}},\n",
       " {'type': 'FxForwardCurve', 'id': '01ea94d4-710e-4769-b937-fa485a0dea36', 'location': {'space': 'LSEG', 'name': 'AUD_NZD_FxForward'}, 'description': {'summary': 'LSEG AUD NZD FxForward', 'tags': []}},\n",
       " {'type': 'FxForwardCurve', 'id': '310211eb-0490-4d16-9550-86780aa4639b', 'location': {'space': 'LSEG', 'name': 'AUD_USD_FxCross'}, 'description': {'summary': 'LSEG AUD USD FxCross', 'tags': []}},\n",
       " {'type': 'FxForwardCurve', 'id': 'cc31e969-e64c-4e11-b266-75b335c0d788', 'location': {'space': 'LSEG', 'name': 'AUD_USD_FxForward'}, 'description': {'summary': 'LSEG AUD USD FxForward', 'tags': []}},\n",
       " {'type': 'FxForwardCurve', 'id': '35c6b411-1f40-4442-81fd-0250b33fa879', 'location': {'space': 'LSEG', 'name': 'CAD_CHF_FxForward'}, 'description': {'summary': 'LSEG CAD CHF FxForward', 'tags': []}},\n",
       " {'type': 'FxForwardCurve', 'id': 'f719ef29-9348-42d5-86e6-e36f8468ad17', 'location': {'space': 'LSEG', 'name': 'CAD_JPY_FxForward'}, 'description': {'summary': 'LSEG CAD JPY FxForward', 'tags': []}},\n",
       " {'type': 'FxForwardCurve', 'id': '2f01b9d5-39a6-44f5-b1ef-9c88a5530c42', 'location': {'space': 'LSEG', 'name': 'CHF_JPY_FxForward'}, 'description': {'summary': 'LSEG CHF JPY FxForward', 'tags': []}},\n",
       " {'type': 'FxForwardCurve', 'id': 'a88b2f89-2c5b-4427-9a17-a6c06ba73f6d', 'location': {'space': 'LSEG', 'name': 'CLF_CLP_FxCross'}, 'description': {'summary': 'LSEG CLF CLP FxCross', 'tags': []}},\n",
       " {'type': 'FxForwardCurve', 'id': 'ffc4704e-78f1-4b76-81fb-238abdda27c9', 'location': {'space': 'LSEG', 'name': 'EUR_AUD_FxForward'}, 'description': {'summary': 'LSEG EUR AUD FxForward', 'tags': []}},\n",
       " {'type': 'FxForwardCurve', 'id': 'c5568d63-c7c8-483f-baa9-2eb1a0a4e577', 'location': {'space': 'LSEG', 'name': 'EUR_CAD_FxForward'}, 'description': {'summary': 'LSEG EUR CAD FxForward', 'tags': []}},\n",
       " {'type': 'FxForwardCurve', 'id': 'b4abc17d-c199-4dc5-87de-7c2f206dfcaa', 'location': {'space': 'LSEG', 'name': 'EUR_CHF_FxCross'}, 'description': {'summary': 'LSEG EUR CHF FxCross', 'tags': []}},\n",
       " {'type': 'FxForwardCurve', 'id': 'd53ef572-55dd-4b43-8c13-6f0c831f81b2', 'location': {'space': 'LSEG', 'name': 'EUR_CHF_FxForward'}, 'description': {'summary': 'LSEG EUR CHF FxForward', 'tags': []}},\n",
       " {'type': 'FxForwardCurve', 'id': 'fea72a89-3fb8-4e3b-a972-e586c2862f50', 'location': {'space': 'LSEG', 'name': 'EUR_DKK_FxCross'}, 'description': {'summary': 'LSEG EUR DKK FxCross', 'tags': []}},\n",
       " {'type': 'FxForwardCurve', 'id': '1b62cb08-f23c-4880-af20-dfa0bc5a7634', 'location': {'space': 'LSEG', 'name': 'EUR_EONIAUSD_SOFR_FxCross'}, 'description': {'summary': 'LSEG EUR EONIA/USD SOFR FxCross', 'tags': []}},\n",
       " {'type': 'FxForwardCurve', 'id': 'd410fda2-e29c-4d92-be5b-e53b590f8814', 'location': {'space': 'LSEG', 'name': 'EUR_ESTRCAD_CORRA_FxCross'}, 'description': {'summary': 'LSEG EUR ESTR/CAD CORRA FxCross', 'tags': []}},\n",
       " {'type': 'FxForwardCurve', 'id': 'be1fb842-fa7b-42a5-9a39-f077aca70636', 'location': {'space': 'LSEG', 'name': 'EUR_ESTRCHF_SARON_FxCross'}, 'description': {'summary': 'LSEG EUR ESTR/CHF SARON FxCross', 'tags': []}},\n",
       " {'type': 'FxForwardCurve', 'id': 'a9b1d9b5-8d8f-417c-908d-9ff346300c4d', 'location': {'space': 'LSEG', 'name': 'EUR_ESTRDKK_CIBOR_FxCross'}, 'description': {'summary': 'LSEG EUR ESTR/DKK CIBOR FxCross', 'tags': []}},\n",
       " {'type': 'FxForwardCurve', 'id': 'c0782845-1551-4efb-9562-0f1ea2c48f9d', 'location': {'space': 'LSEG', 'name': 'EUR_ESTRDKK_DESTR_FxCross'}, 'description': {'summary': 'LSEG EUR ESTR/DKK DESTR FxCross', 'tags': []}},\n",
       " {'type': 'FxForwardCurve', 'id': '6449fcf8-dead-4ceb-be17-109ff3af1108', 'location': {'space': 'LSEG', 'name': 'EUR_ESTRNOK_OIBOR_FxCross'}, 'description': {'summary': 'LSEG EUR ESTR/NOK OIBOR FxCross', 'tags': []}},\n",
       " {'type': 'FxForwardCurve', 'id': '3c3ee380-37f2-468e-9b6f-faba92e13880', 'location': {'space': 'LSEG', 'name': 'EUR_ESTRSEK_STIBOR_FxCross'}, 'description': {'summary': 'LSEG EUR ESTR/SEK STIBOR FxCross', 'tags': []}},\n",
       " {'type': 'FxForwardCurve', 'id': '99b3b2d3-d541-4fef-9b14-7e335bb5a6e5', 'location': {'space': 'LSEG', 'name': 'EUR_ESTRUSD_SOFR_FxCross'}, 'description': {'summary': 'LSEG EUR ESTR/USD SOFR FxCross', 'tags': []}},\n",
       " {'type': 'FxForwardCurve', 'id': '882c9997-df44-4a23-b06f-bb1729d87b4e', 'location': {'space': 'LSEG', 'name': 'EUR_EURIBORUSD_SOFR_FxCross'}, 'description': {'summary': 'LSEG EUR EURIBOR/USD SOFR FxCross', 'tags': []}},\n",
       " {'type': 'FxForwardCurve', 'id': '402b67df-9193-4516-bb6e-57dcf3264f41', 'location': {'space': 'LSEG', 'name': 'EUR_GBP_FxCross'}, 'description': {'summary': 'LSEG EUR GBP FxCross', 'tags': []}},\n",
       " {'type': 'FxForwardCurve', 'id': '765d23ef-c270-43c0-b274-9ec724bb77b5', 'location': {'space': 'LSEG', 'name': 'EUR_GBP_FxForward'}, 'description': {'summary': 'LSEG EUR GBP FxForward', 'tags': []}},\n",
       " {'type': 'FxForwardCurve', 'id': '99cd7624-df17-485d-8ffb-b1b4f1a788c3', 'location': {'space': 'LSEG', 'name': 'EUR_JPY_FxCross'}, 'description': {'summary': 'LSEG EUR JPY FxCross', 'tags': []}},\n",
       " {'type': 'FxForwardCurve', 'id': '345d2beb-487f-4e60-93e9-42e106720233', 'location': {'space': 'LSEG', 'name': 'EUR_JPY_FxForward'}, 'description': {'summary': 'LSEG EUR JPY FxForward', 'tags': []}},\n",
       " {'type': 'FxForwardCurve', 'id': 'fa0dd0c7-5d79-493a-909b-31bc6bb68b2d', 'location': {'space': 'LSEG', 'name': 'EUR_NOK_FxCross'}, 'description': {'summary': 'LSEG EUR NOK FxCross', 'tags': []}},\n",
       " {'type': 'FxForwardCurve', 'id': 'ba918d6f-693f-476f-a4a3-000fa701188e', 'location': {'space': 'LSEG', 'name': 'EUR_NZD_FxForward'}, 'description': {'summary': 'LSEG EUR NZD FxForward', 'tags': []}},\n",
       " {'type': 'FxForwardCurve', 'id': 'cd524336-5956-4eae-bfdc-40a3fc607f39', 'location': {'space': 'LSEG', 'name': 'EUR_RON_FxCross'}, 'description': {'summary': 'LSEG EUR RON FxCross', 'tags': []}},\n",
       " {'type': 'FxForwardCurve', 'id': 'cef9add0-e4e1-48b1-b2f7-aedebda0224b', 'location': {'space': 'LSEG', 'name': 'EUR_SEK_FxCross'}, 'description': {'summary': 'LSEG EUR SEK FxCross', 'tags': []}},\n",
       " {'type': 'FxForwardCurve', 'id': 'd1822c9c-b08e-42bb-9a11-ce40a73b0b41', 'location': {'space': 'LSEG', 'name': 'EUR_USD_FxCross'}, 'description': {'summary': 'LSEG EUR USD FxCross', 'tags': []}},\n",
       " {'type': 'FxForwardCurve', 'id': '7b7fe9d2-9beb-409d-8078-efe07698a1e1', 'location': {'space': 'LSEG', 'name': 'EUR_USD_FxForward'}, 'description': {'summary': 'LSEG EUR USD FxForward', 'tags': []}},\n",
       " {'type': 'FxForwardCurve', 'id': '2a080cda-d54e-4476-8ca7-c1894d263840', 'location': {'space': 'LSEG', 'name': 'EURUSD_WMR_Fixing'}, 'description': {'summary': 'LSEG EURUSD WMR Fixing', 'tags': []}},\n",
       " {'type': 'FxForwardCurve', 'id': '9c0a63f9-8559-4ac5-8c9e-cded045000f4', 'location': {'space': 'LSEG', 'name': 'GBP_AUD_FxForward'}, 'description': {'summary': 'LSEG GBP AUD FxForward', 'tags': []}},\n",
       " {'type': 'FxForwardCurve', 'id': '08b1e53f-1cb9-4aeb-8827-efcf74861387', 'location': {'space': 'LSEG', 'name': 'GBP_CAD_FxForward'}, 'description': {'summary': 'LSEG GBP CAD FxForward', 'tags': []}},\n",
       " {'type': 'FxForwardCurve', 'id': '31e2572a-a683-495e-ae73-fa8e10c0ad0e', 'location': {'space': 'LSEG', 'name': 'GBP_CHF_FxForward'}, 'description': {'summary': 'LSEG GBP CHF FxForward', 'tags': []}},\n",
       " {'type': 'FxForwardCurve', 'id': '5631a762-9d8a-4062-a941-f65ed3d8ae5c', 'location': {'space': 'LSEG', 'name': 'GBP_JPY_FxForward'}, 'description': {'summary': 'LSEG GBP JPY FxForward', 'tags': []}},\n",
       " {'type': 'FxForwardCurve', 'id': 'd1a51af9-44b5-4dc4-bee0-56b404d52f09', 'location': {'space': 'LSEG', 'name': 'GBP_NZD_FxForward'}, 'description': {'summary': 'LSEG GBP NZD FxForward', 'tags': []}},\n",
       " {'type': 'FxForwardCurve', 'id': 'd9bbda8a-d873-4383-8137-cbf7c6d246cc', 'location': {'space': 'LSEG', 'name': 'GBP_SONIAEUR_ESTR_FxCross'}, 'description': {'summary': 'LSEG GBP SONIA/EUR ESTR FxCross', 'tags': []}}]"
      ]
     },
     "execution_count": 17,
     "metadata": {},
     "output_type": "execute_result"
    }
   ],
   "source": [
    "curves = search()\n",
    "\n",
    "curves"
   ]
  },
  {
   "cell_type": "markdown",
   "metadata": {},
   "source": [
    "### Search for curves by names"
   ]
  },
  {
   "cell_type": "code",
   "execution_count": 18,
   "metadata": {
    "execution": {
     "iopub.execute_input": "2025-06-27T09:41:52.500199Z",
     "iopub.status.busy": "2025-06-27T09:41:52.499695Z",
     "iopub.status.idle": "2025-06-27T09:41:52.622869Z",
     "shell.execute_reply": "2025-06-27T09:41:52.622278Z"
    }
   },
   "outputs": [
    {
     "data": {
      "text/plain": [
       "<FxForwardCurve space=None name='' unsaved>"
      ]
     },
     "execution_count": 18,
     "metadata": {},
     "output_type": "execute_result"
    }
   ],
   "source": [
    "curves_by_name = search(names=[\"EURGBP_Fx_Forward_Curve\"])\n",
    "\n",
    "new_curve"
   ]
  },
  {
   "cell_type": "markdown",
   "metadata": {},
   "source": [
    "### Search for curves by spaces"
   ]
  },
  {
   "cell_type": "code",
   "execution_count": 19,
   "metadata": {
    "execution": {
     "iopub.execute_input": "2025-06-27T09:41:52.625190Z",
     "iopub.status.busy": "2025-06-27T09:41:52.624973Z",
     "iopub.status.idle": "2025-06-27T09:41:52.781437Z",
     "shell.execute_reply": "2025-06-27T09:41:52.780682Z"
    }
   },
   "outputs": [
    {
     "data": {
      "text/plain": [
       "[{'type': 'FxForwardCurve', 'id': '8624ce0d-ad56-42ac-acd0-f7d21f32be2b', 'location': {'space': 'LSEG', 'name': 'AUD_AONIAUSD_SOFR_FxCross'}, 'description': {'summary': 'LSEG AUD AONIA/USD SOFR FxCross', 'tags': []}},\n",
       " {'type': 'FxForwardCurve', 'id': '3a45f4cb-29b7-4607-9f2e-7ab8a8086535', 'location': {'space': 'LSEG', 'name': 'AUD_BBSWUSD_SOFR_FxCross'}, 'description': {'summary': 'LSEG AUD BBSW/USD SOFR FxCross', 'tags': []}},\n",
       " {'type': 'FxForwardCurve', 'id': '1d3c2ac9-2761-499a-8df4-cc7e054bb029', 'location': {'space': 'LSEG', 'name': 'AUD_CAD_FxForward'}, 'description': {'summary': 'LSEG AUD CAD FxForward', 'tags': []}},\n",
       " {'type': 'FxForwardCurve', 'id': '9bac7c80-4d50-45ad-b66a-d935a8cf5655', 'location': {'space': 'LSEG', 'name': 'AUD_CHF_FxForward'}, 'description': {'summary': 'LSEG AUD CHF FxForward', 'tags': []}},\n",
       " {'type': 'FxForwardCurve', 'id': '11edca10-aa9b-4cc3-9b86-54d5d78119df', 'location': {'space': 'LSEG', 'name': 'AUD_JPY_FxForward'}, 'description': {'summary': 'LSEG AUD JPY FxForward', 'tags': []}},\n",
       " {'type': 'FxForwardCurve', 'id': '01ea94d4-710e-4769-b937-fa485a0dea36', 'location': {'space': 'LSEG', 'name': 'AUD_NZD_FxForward'}, 'description': {'summary': 'LSEG AUD NZD FxForward', 'tags': []}},\n",
       " {'type': 'FxForwardCurve', 'id': '310211eb-0490-4d16-9550-86780aa4639b', 'location': {'space': 'LSEG', 'name': 'AUD_USD_FxCross'}, 'description': {'summary': 'LSEG AUD USD FxCross', 'tags': []}},\n",
       " {'type': 'FxForwardCurve', 'id': 'cc31e969-e64c-4e11-b266-75b335c0d788', 'location': {'space': 'LSEG', 'name': 'AUD_USD_FxForward'}, 'description': {'summary': 'LSEG AUD USD FxForward', 'tags': []}},\n",
       " {'type': 'FxForwardCurve', 'id': '35c6b411-1f40-4442-81fd-0250b33fa879', 'location': {'space': 'LSEG', 'name': 'CAD_CHF_FxForward'}, 'description': {'summary': 'LSEG CAD CHF FxForward', 'tags': []}},\n",
       " {'type': 'FxForwardCurve', 'id': 'f719ef29-9348-42d5-86e6-e36f8468ad17', 'location': {'space': 'LSEG', 'name': 'CAD_JPY_FxForward'}, 'description': {'summary': 'LSEG CAD JPY FxForward', 'tags': []}},\n",
       " {'type': 'FxForwardCurve', 'id': '2f01b9d5-39a6-44f5-b1ef-9c88a5530c42', 'location': {'space': 'LSEG', 'name': 'CHF_JPY_FxForward'}, 'description': {'summary': 'LSEG CHF JPY FxForward', 'tags': []}},\n",
       " {'type': 'FxForwardCurve', 'id': 'a88b2f89-2c5b-4427-9a17-a6c06ba73f6d', 'location': {'space': 'LSEG', 'name': 'CLF_CLP_FxCross'}, 'description': {'summary': 'LSEG CLF CLP FxCross', 'tags': []}},\n",
       " {'type': 'FxForwardCurve', 'id': 'ffc4704e-78f1-4b76-81fb-238abdda27c9', 'location': {'space': 'LSEG', 'name': 'EUR_AUD_FxForward'}, 'description': {'summary': 'LSEG EUR AUD FxForward', 'tags': []}},\n",
       " {'type': 'FxForwardCurve', 'id': 'c5568d63-c7c8-483f-baa9-2eb1a0a4e577', 'location': {'space': 'LSEG', 'name': 'EUR_CAD_FxForward'}, 'description': {'summary': 'LSEG EUR CAD FxForward', 'tags': []}},\n",
       " {'type': 'FxForwardCurve', 'id': 'b4abc17d-c199-4dc5-87de-7c2f206dfcaa', 'location': {'space': 'LSEG', 'name': 'EUR_CHF_FxCross'}, 'description': {'summary': 'LSEG EUR CHF FxCross', 'tags': []}},\n",
       " {'type': 'FxForwardCurve', 'id': 'd53ef572-55dd-4b43-8c13-6f0c831f81b2', 'location': {'space': 'LSEG', 'name': 'EUR_CHF_FxForward'}, 'description': {'summary': 'LSEG EUR CHF FxForward', 'tags': []}},\n",
       " {'type': 'FxForwardCurve', 'id': 'fea72a89-3fb8-4e3b-a972-e586c2862f50', 'location': {'space': 'LSEG', 'name': 'EUR_DKK_FxCross'}, 'description': {'summary': 'LSEG EUR DKK FxCross', 'tags': []}},\n",
       " {'type': 'FxForwardCurve', 'id': '1b62cb08-f23c-4880-af20-dfa0bc5a7634', 'location': {'space': 'LSEG', 'name': 'EUR_EONIAUSD_SOFR_FxCross'}, 'description': {'summary': 'LSEG EUR EONIA/USD SOFR FxCross', 'tags': []}},\n",
       " {'type': 'FxForwardCurve', 'id': 'd410fda2-e29c-4d92-be5b-e53b590f8814', 'location': {'space': 'LSEG', 'name': 'EUR_ESTRCAD_CORRA_FxCross'}, 'description': {'summary': 'LSEG EUR ESTR/CAD CORRA FxCross', 'tags': []}},\n",
       " {'type': 'FxForwardCurve', 'id': 'be1fb842-fa7b-42a5-9a39-f077aca70636', 'location': {'space': 'LSEG', 'name': 'EUR_ESTRCHF_SARON_FxCross'}, 'description': {'summary': 'LSEG EUR ESTR/CHF SARON FxCross', 'tags': []}},\n",
       " {'type': 'FxForwardCurve', 'id': 'a9b1d9b5-8d8f-417c-908d-9ff346300c4d', 'location': {'space': 'LSEG', 'name': 'EUR_ESTRDKK_CIBOR_FxCross'}, 'description': {'summary': 'LSEG EUR ESTR/DKK CIBOR FxCross', 'tags': []}},\n",
       " {'type': 'FxForwardCurve', 'id': 'c0782845-1551-4efb-9562-0f1ea2c48f9d', 'location': {'space': 'LSEG', 'name': 'EUR_ESTRDKK_DESTR_FxCross'}, 'description': {'summary': 'LSEG EUR ESTR/DKK DESTR FxCross', 'tags': []}},\n",
       " {'type': 'FxForwardCurve', 'id': '6449fcf8-dead-4ceb-be17-109ff3af1108', 'location': {'space': 'LSEG', 'name': 'EUR_ESTRNOK_OIBOR_FxCross'}, 'description': {'summary': 'LSEG EUR ESTR/NOK OIBOR FxCross', 'tags': []}},\n",
       " {'type': 'FxForwardCurve', 'id': '3c3ee380-37f2-468e-9b6f-faba92e13880', 'location': {'space': 'LSEG', 'name': 'EUR_ESTRSEK_STIBOR_FxCross'}, 'description': {'summary': 'LSEG EUR ESTR/SEK STIBOR FxCross', 'tags': []}},\n",
       " {'type': 'FxForwardCurve', 'id': '99b3b2d3-d541-4fef-9b14-7e335bb5a6e5', 'location': {'space': 'LSEG', 'name': 'EUR_ESTRUSD_SOFR_FxCross'}, 'description': {'summary': 'LSEG EUR ESTR/USD SOFR FxCross', 'tags': []}},\n",
       " {'type': 'FxForwardCurve', 'id': '882c9997-df44-4a23-b06f-bb1729d87b4e', 'location': {'space': 'LSEG', 'name': 'EUR_EURIBORUSD_SOFR_FxCross'}, 'description': {'summary': 'LSEG EUR EURIBOR/USD SOFR FxCross', 'tags': []}},\n",
       " {'type': 'FxForwardCurve', 'id': '402b67df-9193-4516-bb6e-57dcf3264f41', 'location': {'space': 'LSEG', 'name': 'EUR_GBP_FxCross'}, 'description': {'summary': 'LSEG EUR GBP FxCross', 'tags': []}},\n",
       " {'type': 'FxForwardCurve', 'id': '765d23ef-c270-43c0-b274-9ec724bb77b5', 'location': {'space': 'LSEG', 'name': 'EUR_GBP_FxForward'}, 'description': {'summary': 'LSEG EUR GBP FxForward', 'tags': []}},\n",
       " {'type': 'FxForwardCurve', 'id': '99cd7624-df17-485d-8ffb-b1b4f1a788c3', 'location': {'space': 'LSEG', 'name': 'EUR_JPY_FxCross'}, 'description': {'summary': 'LSEG EUR JPY FxCross', 'tags': []}},\n",
       " {'type': 'FxForwardCurve', 'id': '345d2beb-487f-4e60-93e9-42e106720233', 'location': {'space': 'LSEG', 'name': 'EUR_JPY_FxForward'}, 'description': {'summary': 'LSEG EUR JPY FxForward', 'tags': []}},\n",
       " {'type': 'FxForwardCurve', 'id': 'fa0dd0c7-5d79-493a-909b-31bc6bb68b2d', 'location': {'space': 'LSEG', 'name': 'EUR_NOK_FxCross'}, 'description': {'summary': 'LSEG EUR NOK FxCross', 'tags': []}},\n",
       " {'type': 'FxForwardCurve', 'id': 'ba918d6f-693f-476f-a4a3-000fa701188e', 'location': {'space': 'LSEG', 'name': 'EUR_NZD_FxForward'}, 'description': {'summary': 'LSEG EUR NZD FxForward', 'tags': []}},\n",
       " {'type': 'FxForwardCurve', 'id': 'cd524336-5956-4eae-bfdc-40a3fc607f39', 'location': {'space': 'LSEG', 'name': 'EUR_RON_FxCross'}, 'description': {'summary': 'LSEG EUR RON FxCross', 'tags': []}},\n",
       " {'type': 'FxForwardCurve', 'id': 'cef9add0-e4e1-48b1-b2f7-aedebda0224b', 'location': {'space': 'LSEG', 'name': 'EUR_SEK_FxCross'}, 'description': {'summary': 'LSEG EUR SEK FxCross', 'tags': []}},\n",
       " {'type': 'FxForwardCurve', 'id': 'd1822c9c-b08e-42bb-9a11-ce40a73b0b41', 'location': {'space': 'LSEG', 'name': 'EUR_USD_FxCross'}, 'description': {'summary': 'LSEG EUR USD FxCross', 'tags': []}},\n",
       " {'type': 'FxForwardCurve', 'id': '7b7fe9d2-9beb-409d-8078-efe07698a1e1', 'location': {'space': 'LSEG', 'name': 'EUR_USD_FxForward'}, 'description': {'summary': 'LSEG EUR USD FxForward', 'tags': []}},\n",
       " {'type': 'FxForwardCurve', 'id': '2a080cda-d54e-4476-8ca7-c1894d263840', 'location': {'space': 'LSEG', 'name': 'EURUSD_WMR_Fixing'}, 'description': {'summary': 'LSEG EURUSD WMR Fixing', 'tags': []}},\n",
       " {'type': 'FxForwardCurve', 'id': '9c0a63f9-8559-4ac5-8c9e-cded045000f4', 'location': {'space': 'LSEG', 'name': 'GBP_AUD_FxForward'}, 'description': {'summary': 'LSEG GBP AUD FxForward', 'tags': []}},\n",
       " {'type': 'FxForwardCurve', 'id': '08b1e53f-1cb9-4aeb-8827-efcf74861387', 'location': {'space': 'LSEG', 'name': 'GBP_CAD_FxForward'}, 'description': {'summary': 'LSEG GBP CAD FxForward', 'tags': []}},\n",
       " {'type': 'FxForwardCurve', 'id': '31e2572a-a683-495e-ae73-fa8e10c0ad0e', 'location': {'space': 'LSEG', 'name': 'GBP_CHF_FxForward'}, 'description': {'summary': 'LSEG GBP CHF FxForward', 'tags': []}},\n",
       " {'type': 'FxForwardCurve', 'id': '5631a762-9d8a-4062-a941-f65ed3d8ae5c', 'location': {'space': 'LSEG', 'name': 'GBP_JPY_FxForward'}, 'description': {'summary': 'LSEG GBP JPY FxForward', 'tags': []}},\n",
       " {'type': 'FxForwardCurve', 'id': 'd1a51af9-44b5-4dc4-bee0-56b404d52f09', 'location': {'space': 'LSEG', 'name': 'GBP_NZD_FxForward'}, 'description': {'summary': 'LSEG GBP NZD FxForward', 'tags': []}},\n",
       " {'type': 'FxForwardCurve', 'id': 'd9bbda8a-d873-4383-8137-cbf7c6d246cc', 'location': {'space': 'LSEG', 'name': 'GBP_SONIAEUR_ESTR_FxCross'}, 'description': {'summary': 'LSEG GBP SONIA/EUR ESTR FxCross', 'tags': []}},\n",
       " {'type': 'FxForwardCurve', 'id': '3940f35a-ef55-4eec-b537-2f48d2dce4fd', 'location': {'space': 'LSEG', 'name': 'GBP_SONIAUSD_FFER_FxCross'}, 'description': {'summary': 'LSEG GBP SONIA/USD FFER FxCross', 'tags': []}},\n",
       " {'type': 'FxForwardCurve', 'id': 'b1c9ff9a-b6fb-445f-a9c1-7d6f5010efc8', 'location': {'space': 'LSEG', 'name': 'GBP_SONIAUSD_SOFR_FxCross'}, 'description': {'summary': 'LSEG GBP SONIA/USD SOFR FxCross', 'tags': []}},\n",
       " {'type': 'FxForwardCurve', 'id': '0d8ca898-3903-4313-9bba-9579e67c5542', 'location': {'space': 'LSEG', 'name': 'GBP_USD_FxCross'}, 'description': {'summary': 'LSEG GBP USD FxCross', 'tags': []}},\n",
       " {'type': 'FxForwardCurve', 'id': 'c6c1f844-8566-4e1c-b8a9-3d3e49904b14', 'location': {'space': 'LSEG', 'name': 'GBP_USD_FxForward'}, 'description': {'summary': 'LSEG GBP USD FxForward', 'tags': []}},\n",
       " {'type': 'FxForwardCurve', 'id': 'f772fe45-8a62-4f01-98df-83939a70b465', 'location': {'space': 'LSEG', 'name': 'MXV_MXN_FxCross'}, 'description': {'summary': 'LSEG MXV MXN FxCross', 'tags': []}},\n",
       " {'type': 'FxForwardCurve', 'id': '62f42329-a40e-4470-a7f9-4e2ad7ec7d77', 'location': {'space': 'LSEG', 'name': 'NOK_NOWAEUR_ESTR_FxCross'}, 'description': {'summary': 'LSEG NOK NOWA/EUR ESTR FxCross', 'tags': []}},\n",
       " {'type': 'FxForwardCurve', 'id': '4e724ca1-3a75-4134-bea1-c93e8e67c775', 'location': {'space': 'LSEG', 'name': 'NZD_BKBMUSD_SOFR_FxCross'}, 'description': {'summary': 'LSEG NZD BKBM/USD SOFR FxCross', 'tags': []}}]"
      ]
     },
     "execution_count": 19,
     "metadata": {},
     "output_type": "execute_result"
    }
   ],
   "source": [
    "curves_by_spaces = search(spaces=[\"LSEG\"])\n",
    "\n",
    "curves_by_spaces"
   ]
  },
  {
   "cell_type": "markdown",
   "metadata": {},
   "source": [
    "### Search for curves by tags"
   ]
  },
  {
   "cell_type": "code",
   "execution_count": 20,
   "metadata": {
    "execution": {
     "iopub.execute_input": "2025-06-27T09:41:52.786620Z",
     "iopub.status.busy": "2025-06-27T09:41:52.786361Z",
     "iopub.status.idle": "2025-06-27T09:41:52.915328Z",
     "shell.execute_reply": "2025-06-27T09:41:52.914692Z"
    }
   },
   "outputs": [
    {
     "data": {
      "text/plain": [
       "[]"
      ]
     },
     "execution_count": 20,
     "metadata": {},
     "output_type": "execute_result"
    }
   ],
   "source": [
    "curves_by_tags = search(tags=[\"EUR\", \"USD\"])\n",
    "\n",
    "curves_by_tags"
   ]
  },
  {
   "cell_type": "markdown",
   "metadata": {},
   "source": [
    "### Combine search criteria\n",
    "It's also possible to combine search items:"
   ]
  },
  {
   "cell_type": "code",
   "execution_count": 21,
   "metadata": {
    "execution": {
     "iopub.execute_input": "2025-06-27T09:41:52.917866Z",
     "iopub.status.busy": "2025-06-27T09:41:52.917434Z",
     "iopub.status.idle": "2025-06-27T09:41:53.040818Z",
     "shell.execute_reply": "2025-06-27T09:41:53.040126Z"
    }
   },
   "outputs": [
    {
     "data": {
      "text/plain": [
       "[]"
      ]
     },
     "execution_count": 21,
     "metadata": {},
     "output_type": "execute_result"
    }
   ],
   "source": [
    "searched_curves = search(spaces=[\"LSEG\"], tags=[\"EUR\"])\n",
    "\n",
    "searched_curves"
   ]
  },
  {
   "cell_type": "markdown",
   "metadata": {},
   "source": [
    "## Data access\n",
    "\n",
    "You can access resource data through the root attributes of the resource object:"
   ]
  },
  {
   "cell_type": "code",
   "execution_count": 22,
   "metadata": {
    "execution": {
     "iopub.execute_input": "2025-06-27T09:41:53.043902Z",
     "iopub.status.busy": "2025-06-27T09:41:53.043368Z",
     "iopub.status.idle": "2025-06-27T09:41:53.046863Z",
     "shell.execute_reply": "2025-06-27T09:41:53.046231Z"
    }
   },
   "outputs": [
    {
     "name": "stdout",
     "output_type": "stream",
     "text": [
      "Curve cross currency: EURGBP\n",
      "Curve reference currency: USD\n"
     ]
    }
   ],
   "source": [
    "print(f\"Curve cross currency: {curve.definition.cross_currency}\")\n",
    "print(f\"Curve reference currency: {curve.definition.reference_currency}\")\n"
   ]
  },
  {
   "cell_type": "markdown",
   "metadata": {},
   "source": [
    "## Curves functions"
   ]
  },
  {
   "cell_type": "markdown",
   "metadata": {},
   "source": [
    "### Calculate\n",
    "\n",
    "You can use Calculte to calculate an FxForward curve.\n",
    "\n",
    "You can pass in the valuation date as a datetime.date object, or as a date string:"
   ]
  },
  {
   "cell_type": "code",
   "execution_count": 23,
   "metadata": {
    "execution": {
     "iopub.execute_input": "2025-06-27T09:41:53.049630Z",
     "iopub.status.busy": "2025-06-27T09:41:53.049252Z",
     "iopub.status.idle": "2025-06-27T09:41:54.197471Z",
     "shell.execute_reply": "2025-06-27T09:41:54.196847Z"
    }
   },
   "outputs": [
    {
     "data": {
      "text/plain": [
       "{'resource': {'type': 'FxForwardCurve', 'id': '9cad6281-b0fd-4e71-a11e-ca68320c18da', 'location': {'space': 'HOME', 'name': 'EURGBP_Fx_Forward_Curve'}, 'description': {'summary': 'EURGBP Fx Forward Curve via USD', 'tags': ['EURGBP', 'EUR', 'GBP', 'FxCurve']}, 'definition': {'crossCurrency': 'EURGBP', 'referenceCurrency': 'USD', 'constituents': [{'type': 'FxSpot', 'definition': {'template': 'EURUSD'}, 'quote': {'definition': {'instrumentCode': 'EUR=', 'source': 'Composite'}, 'values': {'bid': {'value': 1.1707}, 'ask': {'value': 1.1708}}}}, {'type': 'FxForward', 'definition': {'tenor': 'ON', 'template': 'EURUSD'}, 'quote': {'definition': {'instrumentCode': 'EURON=RFB', 'source': 'RFB'}, 'values': {'bid': {'value': 2.3214}, 'ask': {'value': 2.3294}}}}, {'type': 'FxForward', 'definition': {'tenor': 'TN', 'template': 'EURUSD'}, 'quote': {'definition': {'instrumentCode': 'EURTN=RFB', 'source': 'RFB'}, 'values': {'bid': {'value': 0.8025}, 'ask': {'value': 0.8065}}}}, {'type': 'FxForward', 'definition': {'tenor': 'SN', 'template': 'EURUSD'}, 'quote': {'definition': {'instrumentCode': 'EURSN=RFB', 'source': 'RFB'}, 'values': {'bid': {'value': 0.7758}, 'ask': {'value': 0.7818}}}}, {'type': 'FxForward', 'definition': {'tenor': 'SW', 'template': 'EURUSD'}, 'quote': {'definition': {'instrumentCode': 'EURSW=RFB', 'source': 'RFB'}, 'values': {'bid': {'value': 5.42}, 'ask': {'value': 5.45}}}}, {'type': 'FxForward', 'definition': {'tenor': 'JULM', 'template': 'EURUSD'}, 'quote': {'definition': {'instrumentCode': 'EURJULM=RFB', 'source': 'RFB'}, 'values': {'bid': {'value': 23.32}, 'ask': {'value': 23.35}}}}, {'type': 'FxForward', 'definition': {'tenor': '1M', 'template': 'EURUSD'}, 'quote': {'definition': {'instrumentCode': 'EUR1M=RFB', 'source': 'RFB'}, 'values': {'bid': {'value': 24.11}, 'ask': {'value': 24.13}}}}, {'type': 'FxForward', 'definition': {'tenor': 'AUGM', 'template': 'EURUSD'}, 'quote': {'definition': {'instrumentCode': 'EURAUGM=RFB', 'source': 'RFB'}, 'values': {'bid': {'value': 45.82}, 'ask': {'value': 45.87}}}}, {'type': 'FxForward', 'definition': {'tenor': '2M', 'template': 'EURUSD'}, 'quote': {'definition': {'instrumentCode': 'EUR2M=RFB', 'source': 'RFB'}, 'values': {'bid': {'value': 48.92}, 'ask': {'value': 48.97}}}}, {'type': 'FxForward', 'definition': {'tenor': 'SEPM', 'template': 'EURUSD'}, 'quote': {'definition': {'instrumentCode': 'EURSEPM=RFB', 'source': 'RFB'}, 'values': {'bid': {'value': 70.26}, 'ask': {'value': 70.34}}}}, {'type': 'FxForward', 'definition': {'tenor': '3M', 'template': 'EURUSD'}, 'quote': {'definition': {'instrumentCode': 'EUR3M=RFB', 'source': 'RFB'}, 'values': {'bid': {'value': 71.26}, 'ask': {'value': 71.34}}}}, {'type': 'FxForward', 'definition': {'tenor': 'OCTM', 'template': 'EURUSD'}, 'quote': {'definition': {'instrumentCode': 'EUROCTM=RFB', 'source': 'RFB'}, 'values': {'bid': {'value': 93.73}, 'ask': {'value': 93.83}}}}, {'type': 'FxForward', 'definition': {'tenor': 'NOVM', 'template': 'EURUSD'}, 'quote': {'definition': {'instrumentCode': 'EURNOVM=RFB', 'source': 'RFB'}, 'values': {'bid': {'value': 113.85}, 'ask': {'value': 113.99}}}}, {'type': 'FxForward', 'definition': {'tenor': 'DECM', 'template': 'EURUSD'}, 'quote': {'definition': {'instrumentCode': 'EURDECM=RFB', 'source': 'RFB'}, 'values': {'bid': {'value': 136.91}, 'ask': {'value': 137.17}}}}, {'type': 'FxForward', 'definition': {'tenor': '6M', 'template': 'EURUSD'}, 'quote': {'definition': {'instrumentCode': 'EUR6M=RFB', 'source': 'RFB'}, 'values': {'bid': {'value': 139.45}, 'ask': {'value': 139.72}}}}, {'type': 'FxForward', 'definition': {'tenor': 'JANM', 'template': 'EURUSD'}, 'quote': {'definition': {'instrumentCode': 'EURJANM=RFB', 'source': 'RFB'}, 'values': {'bid': {'value': 158.51}, 'ask': {'value': 158.91}}}}, {'type': 'FxForward', 'definition': {'tenor': 'FEBM', 'template': 'EURUSD'}, 'quote': {'definition': {'instrumentCode': 'EURFEBM=RFB', 'source': 'RFB'}, 'values': {'bid': {'value': 176.8}, 'ask': {'value': 177.27}}}}, {'type': 'FxForward', 'definition': {'tenor': 'MARM', 'template': 'EURUSD'}, 'quote': {'definition': {'instrumentCode': 'EURMARM=RFB', 'source': 'RFB'}, 'values': {'bid': {'value': 197.02}, 'ask': {'value': 197.6}}}}, {'type': 'FxForward', 'definition': {'tenor': '9M', 'template': 'EURUSD'}, 'quote': {'definition': {'instrumentCode': 'EUR9M=RFB', 'source': 'RFB'}, 'values': {'bid': {'value': 197.78}, 'ask': {'value': 198.36}}}}, {'type': 'FxForward', 'definition': {'tenor': 'APRM', 'template': 'EURUSD'}, 'quote': {'definition': {'instrumentCode': 'EURAPRM=RFB', 'source': 'RFB'}, 'values': {'bid': {'value': 215.51}, 'ask': {'value': 216.15}}}}, {'type': 'FxForward', 'definition': {'tenor': 'MAYM', 'template': 'EURUSD'}, 'quote': {'definition': {'instrumentCode': 'EURMAYM=RFB', 'source': 'RFB'}, 'values': {'bid': {'value': 232.52}, 'ask': {'value': 233.13}}}}, {'type': 'FxForward', 'definition': {'tenor': 'JUNM', 'template': 'EURUSD'}, 'quote': {'definition': {'instrumentCode': 'EURJUNM=RFB', 'source': 'RFB'}, 'values': {'bid': {'value': 250.07}, 'ask': {'value': 251.05}}}}, {'type': 'FxForward', 'definition': {'tenor': '1Y', 'template': 'EURUSD'}, 'quote': {'definition': {'instrumentCode': 'EUR1Y=RFB', 'source': 'RFB'}, 'values': {'bid': {'value': 251.13}, 'ask': {'value': 252.13}}}}, {'type': 'FxForward', 'definition': {'tenor': '2Y', 'template': 'EURUSD'}, 'quote': {'definition': {'instrumentCode': 'EUR2Y=RFB', 'source': 'RFB'}, 'values': {'bid': {'value': 421.7}, 'ask': {'value': 425.12}}}}, {'type': 'FxForward', 'definition': {'tenor': '3Y', 'template': 'EURUSD'}, 'quote': {'definition': {'instrumentCode': 'EUR3Y=RFB', 'source': 'RFB'}, 'values': {'bid': {'value': 576.16}, 'ask': {'value': 577.86}}}}, {'type': 'FxForward', 'definition': {'tenor': '4Y', 'template': 'EURUSD'}, 'quote': {'definition': {'instrumentCode': 'EUR4Y=RFB', 'source': 'RFB'}, 'values': {'bid': {'value': 719.36}, 'ask': {'value': 724.04}}}}, {'type': 'FxForward', 'definition': {'tenor': '5Y', 'template': 'EURUSD'}, 'quote': {'definition': {'instrumentCode': 'EUR5Y=RFB', 'source': 'RFB'}, 'values': {'bid': {'value': 864.61}, 'ask': {'value': 875.61}}}}, {'type': 'FxForward', 'definition': {'tenor': '6Y', 'template': 'EURUSD'}, 'quote': {'definition': {'instrumentCode': 'EUR6Y=RFB', 'source': 'RFB'}, 'values': {'bid': {'value': 1018.13}, 'ask': {'value': 1032.13}}}}, {'type': 'FxForward', 'definition': {'tenor': '7Y', 'template': 'EURUSD'}, 'quote': {'definition': {'instrumentCode': 'EUR7Y=RFB', 'source': 'RFB'}, 'values': {'bid': {'value': 1172.88}, 'ask': {'value': 1188.88}}}}, {'type': 'FxForward', 'definition': {'tenor': '8Y', 'template': 'EURUSD'}, 'quote': {'definition': {'instrumentCode': 'EUR8Y=RFB', 'source': 'RFB'}, 'values': {'bid': {'value': 1322.75}, 'ask': {'value': 1361.75}}}}, {'type': 'FxForward', 'definition': {'tenor': '9Y', 'template': 'EURUSD'}, 'quote': {'definition': {'instrumentCode': 'EUR9Y=RFB', 'source': 'RFB'}, 'values': {'bid': {'value': 1477.0}, 'ask': {'value': 1527.0}}}}, {'type': 'FxForward', 'definition': {'tenor': '10Y', 'template': 'EURUSD'}, 'quote': {'definition': {'instrumentCode': 'EUR10Y=RFB', 'source': 'RFB'}, 'values': {'bid': {'value': 1650.0}, 'ask': {'value': 1685.0}}}}, {'type': 'FxSpot', 'definition': {'template': 'GBPUSD'}, 'quote': {'definition': {'instrumentCode': 'GBP=', 'source': 'Composite'}, 'values': {'bid': {'value': 1.3734}, 'ask': {'value': 1.3738}}}}, {'type': 'FxForward', 'definition': {'tenor': 'ON', 'template': 'GBPUSD'}, 'quote': {'definition': {'instrumentCode': 'GBPON=', 'source': 'Composite'}, 'values': {'bid': {'value': 0.071}, 'ask': {'value': 0.076}}}}, {'type': 'FxForward', 'definition': {'tenor': 'TN', 'template': 'GBPUSD'}, 'quote': {'definition': {'instrumentCode': 'GBPTN=', 'source': 'Composite'}, 'values': {'bid': {'value': -0.044}, 'ask': {'value': -0.016}}}}, {'type': 'FxForward', 'definition': {'tenor': 'SN', 'template': 'GBPUSD'}, 'quote': {'definition': {'instrumentCode': 'GBPSN=', 'source': 'Composite'}, 'values': {'bid': {'value': 0.021}, 'ask': {'value': 0.083}}}}, {'type': 'FxForward', 'definition': {'tenor': 'SW', 'template': 'GBPUSD'}, 'quote': {'definition': {'instrumentCode': 'GBPSW=', 'source': 'Composite'}, 'values': {'bid': {'value': 0.37}, 'ask': {'value': 0.4}}}}, {'type': 'FxForward', 'definition': {'tenor': '1M', 'template': 'GBPUSD'}, 'quote': {'definition': {'instrumentCode': 'GBP1M=', 'source': 'Composite'}, 'values': {'bid': {'value': 1.78}, 'ask': {'value': 1.85}}}}, {'type': 'FxForward', 'definition': {'tenor': '2M', 'template': 'GBPUSD'}, 'quote': {'definition': {'instrumentCode': 'GBP2M=', 'source': 'Composite'}, 'values': {'bid': {'value': 4.84}, 'ask': {'value': 5.17}}}}, {'type': 'FxForward', 'definition': {'tenor': '3M', 'template': 'GBPUSD'}, 'quote': {'definition': {'instrumentCode': 'GBP3M=', 'source': 'Composite'}, 'values': {'bid': {'value': 7.43}, 'ask': {'value': 7.68}}}}, {'type': 'FxForward', 'definition': {'tenor': '6M', 'template': 'GBPUSD'}, 'quote': {'definition': {'instrumentCode': 'GBP6M=', 'source': 'Composite'}, 'values': {'bid': {'value': 11.71}, 'ask': {'value': 12.91}}}}, {'type': 'FxForward', 'definition': {'tenor': '9M', 'template': 'GBPUSD'}, 'quote': {'definition': {'instrumentCode': 'GBP9M=', 'source': 'Composite'}, 'values': {'bid': {'value': 13.9}, 'ask': {'value': 15.4}}}}, {'type': 'FxForward', 'definition': {'tenor': '1Y', 'template': 'GBPUSD'}, 'quote': {'definition': {'instrumentCode': 'GBP1Y=', 'source': 'Composite'}, 'values': {'bid': {'value': 12.64}, 'ask': {'value': 13.77}}}}, {'type': 'FxForward', 'definition': {'tenor': '2Y', 'template': 'GBPUSD'}, 'quote': {'definition': {'instrumentCode': 'GBP2Y=', 'source': 'Composite'}, 'values': {'bid': {'value': -27.08}, 'ask': {'value': -22.33}}}}, {'type': 'FxForward', 'definition': {'tenor': '3Y', 'template': 'GBPUSD'}, 'quote': {'definition': {'instrumentCode': 'GBP3Y=', 'source': 'Composite'}, 'values': {'bid': {'value': -77.0}, 'ask': {'value': -45.0}}}}, {'type': 'FxForward', 'definition': {'tenor': '4Y', 'template': 'GBPUSD'}, 'quote': {'definition': {'instrumentCode': 'GBP4Y=', 'source': 'Composite'}, 'values': {'bid': {'value': -115.0}, 'ask': {'value': -74.0}}}}, {'type': 'FxForward', 'definition': {'tenor': '5Y', 'template': 'GBPUSD'}, 'quote': {'definition': {'instrumentCode': 'GBP5Y=', 'source': 'Composite'}, 'values': {'bid': {'value': -145.0}, 'ask': {'value': -95.0}}}}, {'type': 'FxForward', 'definition': {'tenor': '6Y', 'template': 'GBPUSD'}, 'quote': {'definition': {'instrumentCode': 'GBP6Y=', 'source': 'Composite'}, 'values': {'bid': {'value': -171.0}, 'ask': {'value': -113.0}}}}, {'type': 'FxForward', 'definition': {'tenor': '7Y', 'template': 'GBPUSD'}, 'quote': {'definition': {'instrumentCode': 'GBP7Y=', 'source': 'Composite'}, 'values': {'bid': {'value': -198.0}, 'ask': {'value': -133.0}}}}, {'type': 'FxForward', 'definition': {'tenor': '8Y', 'template': 'GBPUSD'}, 'quote': {'definition': {'instrumentCode': 'GBP8Y=', 'source': 'Composite'}, 'values': {'bid': {'value': -226.0}, 'ask': {'value': -154.0}}}}, {'type': 'FxForward', 'definition': {'tenor': '9Y', 'template': 'GBPUSD'}, 'quote': {'definition': {'instrumentCode': 'GBP9Y=', 'source': 'Composite'}, 'values': {'bid': {'value': -259.0}, 'ask': {'value': -182.0}}}}, {'type': 'FxForward', 'definition': {'tenor': '10Y', 'template': 'GBPUSD'}, 'quote': {'definition': {'instrumentCode': 'GBP10Y=', 'source': 'Composite'}, 'values': {'bid': {'value': -263.0}, 'ask': {'value': -251.0}}}}]}}, 'pricingPreferences': {'fxForwardCurveCalculationPreferences': {'extrapolationMode': 'Constant', 'interpolationMode': 'Linear', 'useDelayedDataIfDenied': False, 'ignoreInvalidInstruments': True, 'ignorePivotCurrencyHolidays': False}, 'valuationDate': '2023-10-10'}, 'analytics': {'constituents': [{'type': 'FxSpot', 'definition': {'template': 'EURUSD'}, 'quote': {'startDate': '2023-10-10', 'endDate': '2023-10-12', 'definition': {'instrumentCode': 'EUR='}, 'values': {'bid': {'value': 1.1707, 'isOverridden': True, 'marketValue': 1.0603}, 'ask': {'value': 1.1708, 'isOverridden': True, 'marketValue': 1.0607}}}}, {'type': 'FxForward', 'definition': {'tenor': 'ON', 'template': 'EURUSD'}, 'quote': {'startDate': '2023-10-10', 'endDate': '2023-10-11', 'definition': {'instrumentCode': 'EURON=RFB'}, 'values': {'bid': {'value': 2.3214, 'isOverridden': True, 'marketValue': 0.4151}, 'ask': {'value': 2.3294, 'isOverridden': True, 'marketValue': 0.4171}}}}, {'type': 'FxForward', 'definition': {'tenor': 'TN', 'template': 'EURUSD'}, 'quote': {'startDate': '2023-10-11', 'endDate': '2023-10-12', 'definition': {'instrumentCode': 'EURTN=RFB'}, 'values': {'bid': {'value': 0.8025, 'isOverridden': True, 'marketValue': 0.4124}, 'ask': {'value': 0.8065, 'isOverridden': True, 'marketValue': 0.4134}}}}, {'type': 'FxForward', 'definition': {'tenor': 'SN', 'template': 'EURUSD'}, 'quote': {'startDate': '2023-10-12', 'endDate': '2023-10-13', 'definition': {'instrumentCode': 'EURSN=RFB'}, 'values': {'bid': {'value': 0.7758, 'isOverridden': True, 'marketValue': 0.4131}, 'ask': {'value': 0.7818, 'isOverridden': True, 'marketValue': 0.4191}}}}, {'type': 'FxForward', 'definition': {'tenor': 'SW', 'template': 'EURUSD'}, 'quote': {'startDate': '2023-10-12', 'endDate': '2023-10-19', 'definition': {'instrumentCode': 'EURSW=RFB'}, 'values': {'bid': {'value': 5.42, 'isOverridden': True, 'marketValue': 2.92}, 'ask': {'value': 5.45, 'isOverridden': True, 'marketValue': 2.96}}}}, {'type': 'FxForward', 'definition': {'tenor': 'OCTM', 'template': 'EURUSD'}, 'quote': {'startDate': '2023-10-12', 'endDate': '2023-10-31', 'definition': {'instrumentCode': 'EUROCTM=RFB'}, 'values': {'bid': {'value': 93.73, 'isOverridden': True, 'marketValue': 8.09}, 'ask': {'value': 93.83, 'isOverridden': True, 'marketValue': 8.14}}}}, {'type': 'FxForward', 'definition': {'tenor': '1M', 'template': 'EURUSD'}, 'quote': {'startDate': '2023-10-12', 'endDate': '2023-11-13', 'definition': {'instrumentCode': 'EUR1M=RFB'}, 'values': {'bid': {'value': 24.11, 'isOverridden': True, 'marketValue': 13.91}, 'ask': {'value': 24.13, 'isOverridden': True, 'marketValue': 13.93}}}}, {'type': 'FxForward', 'definition': {'tenor': 'NOVM', 'template': 'EURUSD'}, 'quote': {'startDate': '2023-10-12', 'endDate': '2023-11-30', 'definition': {'instrumentCode': 'EURNOVM=RFB'}, 'values': {'bid': {'value': 113.85, 'isOverridden': True, 'marketValue': 21.7}, 'ask': {'value': 113.99, 'isOverridden': True, 'marketValue': 21.76}}}}, {'type': 'FxForward', 'definition': {'tenor': '2M', 'template': 'EURUSD'}, 'quote': {'startDate': '2023-10-12', 'endDate': '2023-12-12', 'definition': {'instrumentCode': 'EUR2M=RFB'}, 'values': {'bid': {'value': 48.92, 'isOverridden': True, 'marketValue': 27.11}, 'ask': {'value': 48.97, 'isOverridden': True, 'marketValue': 27.2}}}}, {'type': 'FxForward', 'definition': {'tenor': 'DECM', 'template': 'EURUSD'}, 'quote': {'startDate': '2023-10-12', 'endDate': '2023-12-29', 'definition': {'instrumentCode': 'EURDECM=RFB'}, 'values': {'bid': {'value': 136.91, 'isOverridden': True, 'marketValue': 35.05}, 'ask': {'value': 137.17, 'isOverridden': True, 'marketValue': 35.16}}}}, {'type': 'FxForward', 'definition': {'tenor': '3M', 'template': 'EURUSD'}, 'quote': {'startDate': '2023-10-12', 'endDate': '2024-01-12', 'definition': {'instrumentCode': 'EUR3M=RFB'}, 'values': {'bid': {'value': 71.26, 'isOverridden': True, 'marketValue': 47.4}, 'ask': {'value': 71.34, 'isOverridden': True, 'marketValue': 47.53}}}}, {'type': 'FxForward', 'definition': {'tenor': 'JANM', 'template': 'EURUSD'}, 'quote': {'startDate': '2023-10-12', 'endDate': '2024-01-31', 'definition': {'instrumentCode': 'EURJANM=RFB'}, 'values': {'bid': {'value': 158.51, 'isOverridden': True, 'marketValue': 56.39}, 'ask': {'value': 158.91, 'isOverridden': True, 'marketValue': 56.61}}}}, {'type': 'FxForward', 'definition': {'tenor': 'FEBM', 'template': 'EURUSD'}, 'quote': {'startDate': '2023-10-12', 'endDate': '2024-02-29', 'definition': {'instrumentCode': 'EURFEBM=RFB'}, 'values': {'bid': {'value': 176.8, 'isOverridden': True, 'marketValue': 70.42}, 'ask': {'value': 177.27, 'isOverridden': True, 'marketValue': 70.71}}}}, {'type': 'FxForward', 'definition': {'tenor': 'MARM', 'template': 'EURUSD'}, 'quote': {'startDate': '2023-10-12', 'endDate': '2024-03-28', 'definition': {'instrumentCode': 'EURMARM=RFB'}, 'values': {'bid': {'value': 197.02, 'isOverridden': True, 'marketValue': 84.0}, 'ask': {'value': 197.6, 'isOverridden': True, 'marketValue': 84.33}}}}, {'type': 'FxForward', 'definition': {'tenor': '6M', 'template': 'EURUSD'}, 'quote': {'startDate': '2023-10-12', 'endDate': '2024-04-12', 'definition': {'instrumentCode': 'EUR6M=RFB'}, 'values': {'bid': {'value': 139.45, 'isOverridden': True, 'marketValue': 92.06}, 'ask': {'value': 139.72, 'isOverridden': True, 'marketValue': 92.41}}}}, {'type': 'FxForward', 'definition': {'tenor': 'APRM', 'template': 'EURUSD'}, 'quote': {'startDate': '2023-10-12', 'endDate': '2024-04-30', 'definition': {'instrumentCode': 'EURAPRM=RFB'}, 'values': {'bid': {'value': 215.51, 'isOverridden': True, 'marketValue': 100.69}, 'ask': {'value': 216.15, 'isOverridden': True, 'marketValue': 101.18}}}}, {'type': 'FxForward', 'definition': {'tenor': 'MAYM', 'template': 'EURUSD'}, 'quote': {'startDate': '2023-10-12', 'endDate': '2024-05-31', 'definition': {'instrumentCode': 'EURMAYM=RFB'}, 'values': {'bid': {'value': 232.52, 'isOverridden': True, 'marketValue': 116.11}, 'ask': {'value': 233.13, 'isOverridden': True, 'marketValue': 116.62}}}}, {'type': 'FxForward', 'definition': {'tenor': 'JUNM', 'template': 'EURUSD'}, 'quote': {'startDate': '2023-10-12', 'endDate': '2024-06-28', 'definition': {'instrumentCode': 'EURJUNM=RFB'}, 'values': {'bid': {'value': 250.07, 'isOverridden': True, 'marketValue': 129.45}, 'ask': {'value': 251.05, 'isOverridden': True, 'marketValue': 129.93}}}}, {'type': 'FxForward', 'definition': {'tenor': '9M', 'template': 'EURUSD'}, 'quote': {'startDate': '2023-10-12', 'endDate': '2024-07-12', 'definition': {'instrumentCode': 'EUR9M=RFB'}, 'values': {'bid': {'value': 197.78, 'isOverridden': True, 'marketValue': 136.88}, 'ask': {'value': 198.36, 'isOverridden': True, 'marketValue': 137.38}}}}, {'type': 'FxForward', 'definition': {'tenor': 'JULM', 'template': 'EURUSD'}, 'quote': {'startDate': '2023-10-12', 'endDate': '2024-07-31', 'definition': {'instrumentCode': 'EURJULM=RFB'}, 'values': {'bid': {'value': 23.32, 'isOverridden': True, 'marketValue': 146.1}, 'ask': {'value': 23.35, 'isOverridden': True, 'marketValue': 146.67}}}}, {'type': 'FxForward', 'definition': {'tenor': 'AUGM', 'template': 'EURUSD'}, 'quote': {'startDate': '2023-10-12', 'endDate': '2024-08-30', 'definition': {'instrumentCode': 'EURAUGM=RFB'}, 'values': {'bid': {'value': 45.82, 'isOverridden': True, 'marketValue': 161.24}, 'ask': {'value': 45.87, 'isOverridden': True, 'marketValue': 161.9}}}}, {'type': 'FxForward', 'definition': {'tenor': 'SEPM', 'template': 'EURUSD'}, 'quote': {'startDate': '2023-10-12', 'endDate': '2024-09-30', 'definition': {'instrumentCode': 'EURSEPM=RFB'}, 'values': {'bid': {'value': 70.26, 'isOverridden': True, 'marketValue': 176.37}, 'ask': {'value': 70.34, 'isOverridden': True, 'marketValue': 177.23}}}}, {'type': 'FxForward', 'definition': {'tenor': '1Y', 'template': 'EURUSD'}, 'quote': {'startDate': '2023-10-12', 'endDate': '2024-10-15', 'definition': {'instrumentCode': 'EUR1Y=RFB'}, 'values': {'bid': {'value': 251.13, 'isOverridden': True, 'marketValue': 183.65}, 'ask': {'value': 252.13, 'isOverridden': True, 'marketValue': 184.65}}}}, {'type': 'FxForward', 'definition': {'tenor': '2Y', 'template': 'EURUSD'}, 'quote': {'startDate': '2023-10-12', 'endDate': '2025-10-14', 'definition': {'instrumentCode': 'EUR2Y=RFB'}, 'values': {'bid': {'value': 421.7, 'isOverridden': True, 'marketValue': 354.24}, 'ask': {'value': 425.12, 'isOverridden': True, 'marketValue': 357.66}}}}, {'type': 'FxForward', 'definition': {'tenor': '3Y', 'template': 'EURUSD'}, 'quote': {'startDate': '2023-10-12', 'endDate': '2026-10-13', 'definition': {'instrumentCode': 'EUR3Y=RFB'}, 'values': {'bid': {'value': 576.16, 'isOverridden': True, 'marketValue': 513.63}, 'ask': {'value': 577.86, 'isOverridden': True, 'marketValue': 518.63}}}}, {'type': 'FxForward', 'definition': {'tenor': '4Y', 'template': 'EURUSD'}, 'quote': {'startDate': '2023-10-12', 'endDate': '2027-10-12', 'definition': {'instrumentCode': 'EUR4Y=RFB'}, 'values': {'bid': {'value': 719.36, 'isOverridden': True, 'marketValue': 673.65}, 'ask': {'value': 724.04, 'isOverridden': True, 'marketValue': 680.65}}}}, {'type': 'FxForward', 'definition': {'tenor': '5Y', 'template': 'EURUSD'}, 'quote': {'startDate': '2023-10-12', 'endDate': '2028-10-12', 'definition': {'instrumentCode': 'EUR5Y=RFB'}, 'values': {'bid': {'value': 864.61, 'isOverridden': True, 'marketValue': 836.68}, 'ask': {'value': 875.61, 'isOverridden': True, 'marketValue': 847.68}}}}, {'type': 'FxForward', 'definition': {'tenor': '6Y', 'template': 'EURUSD'}, 'quote': {'startDate': '2023-10-12', 'endDate': '2029-10-12', 'definition': {'instrumentCode': 'EUR6Y=RFB'}, 'values': {'bid': {'value': 1018.13, 'isOverridden': True, 'marketValue': 1001.63}, 'ask': {'value': 1032.13, 'isOverridden': True, 'marketValue': 1015.63}}}}, {'type': 'FxForward', 'definition': {'tenor': '7Y', 'template': 'EURUSD'}, 'quote': {'startDate': '2023-10-12', 'endDate': '2030-10-15', 'definition': {'instrumentCode': 'EUR7Y=RFB'}, 'values': {'bid': {'value': 1172.88, 'isOverridden': True, 'marketValue': 1165.75}, 'ask': {'value': 1188.88, 'isOverridden': True, 'marketValue': 1181.75}}}}, {'type': 'FxForward', 'definition': {'tenor': '8Y', 'template': 'EURUSD'}, 'quote': {'startDate': '2023-10-12', 'endDate': '2031-10-14', 'definition': {'instrumentCode': 'EUR8Y=RFB'}, 'values': {'bid': {'value': 1322.75, 'isOverridden': True, 'marketValue': 1315.0}, 'ask': {'value': 1361.75, 'isOverridden': True, 'marketValue': 1354.0}}}}, {'type': 'FxForward', 'definition': {'tenor': '9Y', 'template': 'EURUSD'}, 'quote': {'startDate': '2023-10-12', 'endDate': '2032-10-12', 'definition': {'instrumentCode': 'EUR9Y=RFB'}, 'values': {'bid': {'value': 1477.0, 'isOverridden': True, 'marketValue': 1469.5}, 'ask': {'value': 1527.0, 'isOverridden': True, 'marketValue': 1519.5}}}}, {'type': 'FxForward', 'definition': {'tenor': '10Y', 'template': 'EURUSD'}, 'quote': {'startDate': '2023-10-12', 'endDate': '2033-10-12', 'definition': {'instrumentCode': 'EUR10Y=RFB'}, 'values': {'bid': {'value': 1650.0, 'isOverridden': True, 'marketValue': 1629.67}, 'ask': {'value': 1685.0, 'isOverridden': True, 'marketValue': 1664.67}}}}, {'type': 'FxSpot', 'definition': {'template': 'GBPUSD'}, 'quote': {'startDate': '2023-10-10', 'endDate': '2023-10-12', 'definition': {'instrumentCode': 'GBP='}, 'values': {'bid': {'value': 1.3734, 'isOverridden': True, 'marketValue': 1.2285}, 'ask': {'value': 1.3738, 'isOverridden': True, 'marketValue': 1.2288}}}}, {'type': 'FxForward', 'definition': {'tenor': 'ON', 'template': 'GBPUSD'}, 'quote': {'startDate': '2023-10-10', 'endDate': '2023-10-11', 'definition': {'instrumentCode': 'GBPON='}, 'values': {'bid': {'value': 0.071, 'isOverridden': True, 'marketValue': 0.03}, 'ask': {'value': 0.076, 'isOverridden': True, 'marketValue': 0.13}}}}, {'type': 'FxForward', 'definition': {'tenor': 'TN', 'template': 'GBPUSD'}, 'quote': {'startDate': '2023-10-11', 'endDate': '2023-10-12', 'definition': {'instrumentCode': 'GBPTN='}, 'values': {'bid': {'value': -0.044, 'isOverridden': True, 'marketValue': 0.025}, 'ask': {'value': -0.016, 'isOverridden': True, 'marketValue': 0.125}}}}, {'type': 'FxForward', 'definition': {'tenor': 'SN', 'template': 'GBPUSD'}, 'quote': {'startDate': '2023-10-12', 'endDate': '2023-10-13', 'definition': {'instrumentCode': 'GBPSN='}, 'values': {'bid': {'value': 0.021, 'isOverridden': True, 'marketValue': 0.068}, 'ask': {'value': 0.083, 'isOverridden': True, 'marketValue': 0.082}}}}, {'type': 'FxForward', 'definition': {'tenor': 'SW', 'template': 'GBPUSD'}, 'quote': {'startDate': '2023-10-12', 'endDate': '2023-10-19', 'definition': {'instrumentCode': 'GBPSW='}, 'values': {'bid': {'value': 0.37, 'isOverridden': True, 'marketValue': 0.41}, 'ask': {'value': 0.4, 'isOverridden': True, 'marketValue': 0.61}}}}, {'type': 'FxForward', 'definition': {'tenor': '1M', 'template': 'GBPUSD'}, 'quote': {'startDate': '2023-10-12', 'endDate': '2023-11-13', 'definition': {'instrumentCode': 'GBP1M='}, 'values': {'bid': {'value': 1.78, 'isOverridden': True, 'marketValue': 2.23}, 'ask': {'value': 1.85, 'isOverridden': True, 'marketValue': 2.28}}}}, {'type': 'FxForward', 'definition': {'tenor': '2M', 'template': 'GBPUSD'}, 'quote': {'startDate': '2023-10-12', 'endDate': '2023-12-12', 'definition': {'instrumentCode': 'GBP2M='}, 'values': {'bid': {'value': 4.84, 'isOverridden': True, 'marketValue': 3.81}, 'ask': {'value': 5.17, 'isOverridden': True, 'marketValue': 4.49}}}}, {'type': 'FxForward', 'definition': {'tenor': '3M', 'template': 'GBPUSD'}, 'quote': {'startDate': '2023-10-12', 'endDate': '2024-01-12', 'definition': {'instrumentCode': 'GBP3M='}, 'values': {'bid': {'value': 7.43, 'isOverridden': True, 'marketValue': 9.03}, 'ask': {'value': 7.68, 'isOverridden': True, 'marketValue': 9.27}}}}, {'type': 'FxForward', 'definition': {'tenor': '6M', 'template': 'GBPUSD'}, 'quote': {'startDate': '2023-10-12', 'endDate': '2024-04-12', 'definition': {'instrumentCode': 'GBP6M='}, 'values': {'bid': {'value': 11.71, 'isOverridden': True, 'marketValue': 13.56}, 'ask': {'value': 12.91, 'isOverridden': True, 'marketValue': 16.06}}}}, {'type': 'FxForward', 'definition': {'tenor': '9M', 'template': 'GBPUSD'}, 'quote': {'startDate': '2023-10-12', 'endDate': '2024-07-12', 'definition': {'instrumentCode': 'GBP9M='}, 'values': {'bid': {'value': 13.9, 'isOverridden': True, 'marketValue': 15.49}, 'ask': {'value': 15.4, 'isOverridden': True, 'marketValue': 18.89}}}}, {'type': 'FxForward', 'definition': {'tenor': '1Y', 'template': 'GBPUSD'}, 'quote': {'startDate': '2023-10-12', 'endDate': '2024-10-15', 'definition': {'instrumentCode': 'GBP1Y='}, 'values': {'bid': {'value': 12.64, 'isOverridden': True, 'marketValue': 13.85}, 'ask': {'value': 13.77, 'isOverridden': True, 'marketValue': 18.85}}}}, {'type': 'FxForward', 'definition': {'tenor': '2Y', 'template': 'GBPUSD'}, 'quote': {'startDate': '2023-10-12', 'endDate': '2025-10-14', 'definition': {'instrumentCode': 'GBP2Y='}, 'values': {'bid': {'value': -27.08, 'isOverridden': True, 'marketValue': -18.4}, 'ask': {'value': -22.33, 'isOverridden': True, 'marketValue': -0.6}}}}, {'type': 'FxForward', 'definition': {'tenor': '3Y', 'template': 'GBPUSD'}, 'quote': {'startDate': '2023-10-12', 'endDate': '2026-10-13', 'definition': {'instrumentCode': 'GBP3Y='}, 'values': {'bid': {'value': -77.0, 'isOverridden': True, 'marketValue': -36.0}, 'ask': {'value': -45.0, 'isOverridden': True, 'marketValue': 15.25}}}}, {'type': 'FxForward', 'definition': {'tenor': '4Y', 'template': 'GBPUSD'}, 'quote': {'startDate': '2023-10-12', 'endDate': '2027-10-12', 'definition': {'instrumentCode': 'GBP4Y='}, 'values': {'bid': {'value': -115.0, 'isOverridden': True, 'marketValue': -22.25}, 'ask': {'value': -74.0, 'isOverridden': True, 'marketValue': 43.5}}}}, {'type': 'FxForward', 'definition': {'tenor': '5Y', 'template': 'GBPUSD'}, 'quote': {'startDate': '2023-10-12', 'endDate': '2028-10-12', 'definition': {'instrumentCode': 'GBP5Y='}, 'values': {'bid': {'value': -145.0, 'isOverridden': True, 'marketValue': 23.75}, 'ask': {'value': -95.0, 'isOverridden': True, 'marketValue': 103.25}}}}, {'type': 'FxForward', 'definition': {'tenor': '6Y', 'template': 'GBPUSD'}, 'quote': {'startDate': '2023-10-12', 'endDate': '2029-10-12', 'definition': {'instrumentCode': 'GBP6Y='}, 'values': {'bid': {'value': -171.0, 'isOverridden': True, 'marketValue': 113.0}, 'ask': {'value': -113.0, 'isOverridden': True, 'marketValue': 155.0}}}}, {'type': 'FxForward', 'definition': {'tenor': '7Y', 'template': 'GBPUSD'}, 'quote': {'startDate': '2023-10-12', 'endDate': '2030-10-15', 'definition': {'instrumentCode': 'GBP7Y='}, 'values': {'bid': {'value': -198.0, 'isOverridden': True, 'marketValue': 175.0}, 'ask': {'value': -133.0, 'isOverridden': True, 'marketValue': 222.0}}}}, {'type': 'FxForward', 'definition': {'tenor': '8Y', 'template': 'GBPUSD'}, 'quote': {'startDate': '2023-10-12', 'endDate': '2031-10-14', 'definition': {'instrumentCode': 'GBP8Y='}, 'values': {'bid': {'value': -226.0, 'isOverridden': True, 'marketValue': 245.0}, 'ask': {'value': -154.0, 'isOverridden': True, 'marketValue': 275.0}}}}, {'type': 'FxForward', 'definition': {'tenor': '9Y', 'template': 'GBPUSD'}, 'quote': {'startDate': '2023-10-12', 'endDate': '2032-10-12', 'definition': {'instrumentCode': 'GBP9Y='}, 'values': {'bid': {'value': -259.0, 'isOverridden': True, 'marketValue': 289.0}, 'ask': {'value': -182.0, 'isOverridden': True, 'marketValue': 347.0}}}}, {'type': 'FxForward', 'definition': {'tenor': '10Y', 'template': 'GBPUSD'}, 'quote': {'startDate': '2023-10-12', 'endDate': '2033-10-12', 'definition': {'instrumentCode': 'GBP10Y='}, 'values': {'bid': {'value': -263.0, 'isOverridden': True, 'marketValue': 350.0}, 'ask': {'value': -251.0, 'isOverridden': True, 'marketValue': 386.0}}}}], 'outrightCurve': {'curveType': 'FxOutrightCurve', 'points': [{'startDate': '2023-10-10', 'tenor': 'ON', 'endDate': '2023-10-11', 'outright': {'bid': 0.851935296422551, 'ask': 0.8522591550567428, 'mid': 0.8520972257396469}, 'instruments': [{'instrumentCode': 'EURON=RFB'}, {'instrumentCode': 'GBPON='}]}, {'startDate': '2023-10-11', 'tenor': 'TN', 'endDate': '2023-10-12', 'outright': {'bid': 0.8521004518547184, 'ask': 0.8524234644840957, 'mid': 0.8522619581694071}, 'instruments': [{'instrumentCode': 'EURTN=RFB'}, {'instrumentCode': 'GBPTN='}]}, {'startDate': '2023-10-12', 'tenor': 'SPOT', 'endDate': '2023-10-12', 'outright': {'bid': 0.8521618867375165, 'ask': 0.8524828891801369, 'mid': 0.8523223879588266}, 'instruments': [{'instrumentCode': 'EUR='}, {'instrumentCode': 'GBP='}]}, {'startDate': '2023-10-12', 'tenor': 'SN', 'endDate': '2023-10-13', 'outright': {'bid': 0.8522132090772782, 'ask': 0.8525385100255782, 'mid': 0.8523758595514281}, 'instruments': [{'instrumentCode': 'EURSN=RFB'}, {'instrumentCode': 'GBPSN='}]}, {'startDate': '2023-10-12', 'tenor': 'SW', 'endDate': '2023-10-19', 'outright': {'bid': 0.8525315902870787, 'ask': 0.852856738241361, 'mid': 0.8526941642642198}, 'instruments': [{'instrumentCode': 'EURSW=RFB'}, {'instrumentCode': 'GBPSW='}]}, {'startDate': '2023-10-12', 'tenor': 'OCTM', 'endDate': '2023-10-31', 'outright': {'bid': 0.8589160451313538, 'ask': 0.8592493474430681, 'mid': 0.8590826962872109}, 'instruments': [{'instrumentCode': 'EUROCTM=RFB'}]}, {'startDate': '2023-10-12', 'tenor': '1M', 'endDate': '2023-11-13', 'outright': {'bid': 0.8538018974006266, 'ask': 0.8541291430119003, 'mid': 0.8539655202062635}, 'instruments': [{'instrumentCode': 'EUR1M=RFB'}, {'instrumentCode': 'GBP1M='}]}, {'startDate': '2023-10-12', 'tenor': 'NOVM', 'endDate': '2023-11-30', 'outright': {'bid': 0.8602114179271199, 'ask': 0.8605587986675557, 'mid': 0.8603851082973377}, 'instruments': [{'instrumentCode': 'EURNOVM=RFB'}]}, {'startDate': '2023-10-12', 'tenor': '2M', 'endDate': '2023-12-12', 'outright': {'bid': 0.8554009009566206, 'ask': 0.8557469189538565, 'mid': 0.8555739099552385}, 'instruments': [{'instrumentCode': 'EUR2M=RFB'}, {'instrumentCode': 'GBP2M='}]}, {'startDate': '2023-10-12', 'tenor': 'DECM', 'endDate': '2023-12-29', 'outright': {'bid': 0.8617170484086896, 'ask': 0.8620775532566681, 'mid': 0.8618973008326789}, 'instruments': [{'instrumentCode': 'EURDECM=RFB'}]}, {'startDate': '2023-10-12', 'tenor': '3M', 'endDate': '2024-01-12', 'outright': {'bid': 0.8568699402284936, 'ask': 0.8572135505547822, 'mid': 0.8570417453916379}, 'instruments': [{'instrumentCode': 'EUR3M=RFB'}, {'instrumentCode': 'GBP3M='}]}, {'startDate': '2023-10-12', 'tenor': 'JANM', 'endDate': '2024-01-31', 'outright': {'bid': 0.8631488191533478, 'ask': 0.8635300930641439, 'mid': 0.8633394561087459}, 'instruments': [{'instrumentCode': 'EURJANM=RFB'}]}, {'startDate': '2023-10-12', 'tenor': 'FEBM', 'endDate': '2024-02-29', 'outright': {'bid': 0.8643745137509801, 'ask': 0.8647802803088255, 'mid': 0.8645773970299028}, 'instruments': [{'instrumentCode': 'EURFEBM=RFB'}]}, {'startDate': '2023-10-12', 'tenor': 'MARM', 'endDate': '2024-03-28', 'outright': {'bid': 0.8657438923929106, 'ask': 0.8661765076352496, 'mid': 0.86596020001408}, 'instruments': [{'instrumentCode': 'EURMARM=RFB'}]}, {'startDate': '2023-10-12', 'tenor': '6M', 'endDate': '2024-04-12', 'outright': {'bid': 0.861502984166139, 'ask': 0.8619212830766837, 'mid': 0.8617121336214113}, 'instruments': [{'instrumentCode': 'EUR6M=RFB'}, {'instrumentCode': 'GBP6M='}]}, {'startDate': '2023-10-12', 'tenor': 'APRM', 'endDate': '2024-04-30', 'outright': {'bid': 0.8670032003049313, 'ask': 0.8674542261016862, 'mid': 0.8672287132033087}, 'instruments': [{'instrumentCode': 'EURAPRM=RFB'}]}, {'startDate': '2023-10-12', 'tenor': 'MAYM', 'endDate': '2024-05-31', 'outright': {'bid': 0.8681866118027338, 'ask': 0.8686423378805253, 'mid': 0.8684144748416296}, 'instruments': [{'instrumentCode': 'EURMAYM=RFB'}]}, {'startDate': '2023-10-12', 'tenor': 'JUNM', 'endDate': '2024-06-28', 'outright': {'bid': 0.869414330461311, 'ask': 0.8699032645338206, 'mid': 0.8696587974975658}, 'instruments': [{'instrumentCode': 'EURJUNM=RFB'}]}, {'startDate': '2023-10-12', 'tenor': '9M', 'endDate': '2024-07-12', 'outright': {'bid': 0.8655881454767549, 'ask': 0.8660493602659316, 'mid': 0.8658187528713432}, 'instruments': [{'instrumentCode': 'EUR9M=RFB'}, {'instrumentCode': 'GBP9M='}]}, {'startDate': '2023-10-12', 'tenor': 'JULM', 'endDate': '2024-07-31', 'outright': {'bid': 0.8529234991391744, 'ask': 0.8533350577495148, 'mid': 0.8531292784443446}, 'instruments': [{'instrumentCode': 'EURJULM=RFB'}]}, {'startDate': '2023-10-12', 'tenor': 'AUGM', 'endDate': '2024-08-30', 'outright': {'bid': 0.8545914818549412, 'ask': 0.8549979021258958, 'mid': 0.8547946919904185}, 'instruments': [{'instrumentCode': 'EURAUGM=RFB'}]}, {'startDate': '2023-10-12', 'tenor': 'SEPM', 'endDate': '2024-09-30', 'outright': {'bid': 0.8564017278677227, 'ask': 0.8568035200743184, 'mid': 0.8566026239710205}, 'instruments': [{'instrumentCode': 'EURSEPM=RFB'}]}, {'startDate': '2023-10-12', 'tenor': '1Y', 'endDate': '2024-10-15', 'outright': {'bid': 0.8695702444121739, 'ask': 0.8700402425610914, 'mid': 0.8698052434866326}, 'instruments': [{'instrumentCode': 'EUR1Y=RFB'}, {'instrumentCode': 'GBP1Y='}]}, {'startDate': '2023-10-12', 'tenor': '2Y', 'endDate': '2025-10-14', 'outright': {'bid': 0.8842951164616822, 'ask': 0.8851820832105244, 'mid': 0.8847385998361033}, 'instruments': [{'instrumentCode': 'EUR2Y=RFB'}, {'instrumentCode': 'GBP2Y='}]}, {'startDate': '2023-10-12', 'tenor': '3Y', 'endDate': '2026-10-13', 'outright': {'bid': 0.8970393631782663, 'ask': 0.89960166947353, 'mid': 0.8983205163258982}, 'instruments': [{'instrumentCode': 'EUR3Y=RFB'}, {'instrumentCode': 'GBP3Y='}]}, {'startDate': '2023-10-12', 'tenor': '4Y', 'endDate': '2027-10-12', 'outright': {'bid': 0.9094233021077285, 'ask': 0.912845289668845, 'mid': 0.9111342958882868}, 'instruments': [{'instrumentCode': 'EUR4Y=RFB'}, {'instrumentCode': 'GBP4Y='}]}, {'startDate': '2023-10-12', 'tenor': '5Y', 'endDate': '2028-10-12', 'outright': {'bid': 0.921469618119182, 'ask': 0.926014423430716, 'mid': 0.923742020774949}, 'instruments': [{'instrumentCode': 'EUR5Y=RFB'}, {'instrumentCode': 'GBP5Y='}]}, {'startDate': '2023-10-12', 'tenor': '6Y', 'endDate': '2029-10-12', 'outright': {'bid': 0.9339544954128441, 'ask': 0.939329794293298, 'mid': 0.9366421448530711}, 'instruments': [{'instrumentCode': 'EUR6Y=RFB'}, {'instrumentCode': 'GBP6Y='}]}, {'startDate': '2023-10-12', 'tenor': '7Y', 'endDate': '2030-10-15', 'outright': {'bid': 0.9467019478133042, 'ask': 0.9527836879432626, 'mid': 0.9497428178782834}, 'instruments': [{'instrumentCode': 'EUR7Y=RFB'}, {'instrumentCode': 'GBP7Y='}]}, {'startDate': '2023-10-12', 'tenor': '8Y', 'endDate': '2031-10-14', 'outright': {'bid': 0.9591983215547705, 'ask': 0.9675562629552857, 'mid': 0.9633772922550281}, 'instruments': [{'instrumentCode': 'EUR8Y=RFB'}, {'instrumentCode': 'GBP8Y='}]}, {'startDate': '2023-10-12', 'tenor': '9Y', 'endDate': '2032-10-12', 'outright': {'bid': 0.9725582767778106, 'ask': 0.9821892393320967, 'mid': 0.9773737580549536}, 'instruments': [{'instrumentCode': 'EUR9Y=RFB'}, {'instrumentCode': 'GBP9Y='}]}, {'startDate': '2023-10-12', 'tenor': '10Y', 'endDate': '2033-10-12', 'outright': {'bid': 0.9903610884555498, 'ask': 0.9942097839804025, 'mid': 0.9922854362179762}, 'instruments': [{'instrumentCode': 'EUR10Y=RFB'}, {'instrumentCode': 'GBP10Y='}]}]}, 'underlyingCurves': [{'curveType': 'FxOutrightCurve', 'crossCurrency': 'EURGBP', 'points': [{'startDate': '2023-10-10', 'tenor': 'ON', 'endDate': '2023-10-11', 'outright': {'bid': 0.851935296422551, 'ask': 0.8522591550567428, 'mid': 0.8520972257396469}, 'instruments': [{'instrumentCode': 'EURON=RFB'}, {'instrumentCode': 'GBPON='}]}, {'startDate': '2023-10-11', 'tenor': 'TN', 'endDate': '2023-10-12', 'outright': {'bid': 0.8521004518547184, 'ask': 0.8524234644840957, 'mid': 0.8522619581694071}, 'instruments': [{'instrumentCode': 'EURTN=RFB'}, {'instrumentCode': 'GBPTN='}]}, {'startDate': '2023-10-12', 'tenor': 'SPOT', 'endDate': '2023-10-12', 'outright': {'bid': 0.8521618867375165, 'ask': 0.8524828891801369, 'mid': 0.8523223879588266}, 'instruments': [{'instrumentCode': 'EUR='}, {'instrumentCode': 'GBP='}]}, {'startDate': '2023-10-12', 'tenor': 'SN', 'endDate': '2023-10-13', 'outright': {'bid': 0.8522132090772782, 'ask': 0.8525385100255782, 'mid': 0.8523758595514281}, 'instruments': [{'instrumentCode': 'EURSN=RFB'}, {'instrumentCode': 'GBPSN='}]}, {'startDate': '2023-10-12', 'tenor': 'SW', 'endDate': '2023-10-19', 'outright': {'bid': 0.8525315902870787, 'ask': 0.852856738241361, 'mid': 0.8526941642642198}, 'instruments': [{'instrumentCode': 'EURSW=RFB'}, {'instrumentCode': 'GBPSW='}]}, {'startDate': '2023-10-12', 'tenor': 'OCTM', 'endDate': '2023-10-31', 'outright': {'bid': 0.8589160451313538, 'ask': 0.8592493474430681, 'mid': 0.8590826962872109}, 'instruments': [{'instrumentCode': 'EUROCTM=RFB'}]}, {'startDate': '2023-10-12', 'tenor': '1M', 'endDate': '2023-11-13', 'outright': {'bid': 0.8538018974006266, 'ask': 0.8541291430119003, 'mid': 0.8539655202062635}, 'instruments': [{'instrumentCode': 'EUR1M=RFB'}, {'instrumentCode': 'GBP1M='}]}, {'startDate': '2023-10-12', 'tenor': 'NOVM', 'endDate': '2023-11-30', 'outright': {'bid': 0.8602114179271199, 'ask': 0.8605587986675557, 'mid': 0.8603851082973377}, 'instruments': [{'instrumentCode': 'EURNOVM=RFB'}]}, {'startDate': '2023-10-12', 'tenor': '2M', 'endDate': '2023-12-12', 'outright': {'bid': 0.8554009009566206, 'ask': 0.8557469189538565, 'mid': 0.8555739099552385}, 'instruments': [{'instrumentCode': 'EUR2M=RFB'}, {'instrumentCode': 'GBP2M='}]}, {'startDate': '2023-10-12', 'tenor': 'DECM', 'endDate': '2023-12-29', 'outright': {'bid': 0.8617170484086896, 'ask': 0.8620775532566681, 'mid': 0.8618973008326789}, 'instruments': [{'instrumentCode': 'EURDECM=RFB'}]}, {'startDate': '2023-10-12', 'tenor': '3M', 'endDate': '2024-01-12', 'outright': {'bid': 0.8568699402284936, 'ask': 0.8572135505547822, 'mid': 0.8570417453916379}, 'instruments': [{'instrumentCode': 'EUR3M=RFB'}, {'instrumentCode': 'GBP3M='}]}, {'startDate': '2023-10-12', 'tenor': 'JANM', 'endDate': '2024-01-31', 'outright': {'bid': 0.8631488191533478, 'ask': 0.8635300930641439, 'mid': 0.8633394561087459}, 'instruments': [{'instrumentCode': 'EURJANM=RFB'}]}, {'startDate': '2023-10-12', 'tenor': 'FEBM', 'endDate': '2024-02-29', 'outright': {'bid': 0.8643745137509801, 'ask': 0.8647802803088255, 'mid': 0.8645773970299028}, 'instruments': [{'instrumentCode': 'EURFEBM=RFB'}]}, {'startDate': '2023-10-12', 'tenor': 'MARM', 'endDate': '2024-03-28', 'outright': {'bid': 0.8657438923929106, 'ask': 0.8661765076352496, 'mid': 0.86596020001408}, 'instruments': [{'instrumentCode': 'EURMARM=RFB'}]}, {'startDate': '2023-10-12', 'tenor': '6M', 'endDate': '2024-04-12', 'outright': {'bid': 0.861502984166139, 'ask': 0.8619212830766837, 'mid': 0.8617121336214113}, 'instruments': [{'instrumentCode': 'EUR6M=RFB'}, {'instrumentCode': 'GBP6M='}]}, {'startDate': '2023-10-12', 'tenor': 'APRM', 'endDate': '2024-04-30', 'outright': {'bid': 0.8670032003049313, 'ask': 0.8674542261016862, 'mid': 0.8672287132033087}, 'instruments': [{'instrumentCode': 'EURAPRM=RFB'}]}, {'startDate': '2023-10-12', 'tenor': 'MAYM', 'endDate': '2024-05-31', 'outright': {'bid': 0.8681866118027338, 'ask': 0.8686423378805253, 'mid': 0.8684144748416296}, 'instruments': [{'instrumentCode': 'EURMAYM=RFB'}]}, {'startDate': '2023-10-12', 'tenor': 'JUNM', 'endDate': '2024-06-28', 'outright': {'bid': 0.869414330461311, 'ask': 0.8699032645338206, 'mid': 0.8696587974975658}, 'instruments': [{'instrumentCode': 'EURJUNM=RFB'}]}, {'startDate': '2023-10-12', 'tenor': '9M', 'endDate': '2024-07-12', 'outright': {'bid': 0.8655881454767549, 'ask': 0.8660493602659316, 'mid': 0.8658187528713432}, 'instruments': [{'instrumentCode': 'EUR9M=RFB'}, {'instrumentCode': 'GBP9M='}]}, {'startDate': '2023-10-12', 'tenor': 'JULM', 'endDate': '2024-07-31', 'outright': {'bid': 0.8529234991391744, 'ask': 0.8533350577495148, 'mid': 0.8531292784443446}, 'instruments': [{'instrumentCode': 'EURJULM=RFB'}]}, {'startDate': '2023-10-12', 'tenor': 'AUGM', 'endDate': '2024-08-30', 'outright': {'bid': 0.8545914818549412, 'ask': 0.8549979021258958, 'mid': 0.8547946919904185}, 'instruments': [{'instrumentCode': 'EURAUGM=RFB'}]}, {'startDate': '2023-10-12', 'tenor': 'SEPM', 'endDate': '2024-09-30', 'outright': {'bid': 0.8564017278677227, 'ask': 0.8568035200743184, 'mid': 0.8566026239710205}, 'instruments': [{'instrumentCode': 'EURSEPM=RFB'}]}, {'startDate': '2023-10-12', 'tenor': '1Y', 'endDate': '2024-10-15', 'outright': {'bid': 0.8695702444121739, 'ask': 0.8700402425610914, 'mid': 0.8698052434866326}, 'instruments': [{'instrumentCode': 'EUR1Y=RFB'}, {'instrumentCode': 'GBP1Y='}]}, {'startDate': '2023-10-12', 'tenor': '2Y', 'endDate': '2025-10-14', 'outright': {'bid': 0.8842951164616822, 'ask': 0.8851820832105244, 'mid': 0.8847385998361033}, 'instruments': [{'instrumentCode': 'EUR2Y=RFB'}, {'instrumentCode': 'GBP2Y='}]}, {'startDate': '2023-10-12', 'tenor': '3Y', 'endDate': '2026-10-13', 'outright': {'bid': 0.8970393631782663, 'ask': 0.89960166947353, 'mid': 0.8983205163258982}, 'instruments': [{'instrumentCode': 'EUR3Y=RFB'}, {'instrumentCode': 'GBP3Y='}]}, {'startDate': '2023-10-12', 'tenor': '4Y', 'endDate': '2027-10-12', 'outright': {'bid': 0.9094233021077285, 'ask': 0.912845289668845, 'mid': 0.9111342958882868}, 'instruments': [{'instrumentCode': 'EUR4Y=RFB'}, {'instrumentCode': 'GBP4Y='}]}, {'startDate': '2023-10-12', 'tenor': '5Y', 'endDate': '2028-10-12', 'outright': {'bid': 0.921469618119182, 'ask': 0.926014423430716, 'mid': 0.923742020774949}, 'instruments': [{'instrumentCode': 'EUR5Y=RFB'}, {'instrumentCode': 'GBP5Y='}]}, {'startDate': '2023-10-12', 'tenor': '6Y', 'endDate': '2029-10-12', 'outright': {'bid': 0.9339544954128441, 'ask': 0.939329794293298, 'mid': 0.9366421448530711}, 'instruments': [{'instrumentCode': 'EUR6Y=RFB'}, {'instrumentCode': 'GBP6Y='}]}, {'startDate': '2023-10-12', 'tenor': '7Y', 'endDate': '2030-10-15', 'outright': {'bid': 0.9467019478133042, 'ask': 0.9527836879432626, 'mid': 0.9497428178782834}, 'instruments': [{'instrumentCode': 'EUR7Y=RFB'}, {'instrumentCode': 'GBP7Y='}]}, {'startDate': '2023-10-12', 'tenor': '8Y', 'endDate': '2031-10-14', 'outright': {'bid': 0.9591983215547705, 'ask': 0.9675562629552857, 'mid': 0.9633772922550281}, 'instruments': [{'instrumentCode': 'EUR8Y=RFB'}, {'instrumentCode': 'GBP8Y='}]}, {'startDate': '2023-10-12', 'tenor': '9Y', 'endDate': '2032-10-12', 'outright': {'bid': 0.9725582767778106, 'ask': 0.9821892393320967, 'mid': 0.9773737580549536}, 'instruments': [{'instrumentCode': 'EUR9Y=RFB'}, {'instrumentCode': 'GBP9Y='}]}, {'startDate': '2023-10-12', 'tenor': '10Y', 'endDate': '2033-10-12', 'outright': {'bid': 0.9903610884555498, 'ask': 0.9942097839804025, 'mid': 0.9922854362179762}, 'instruments': [{'instrumentCode': 'EUR10Y=RFB'}, {'instrumentCode': 'GBP10Y='}]}]}, {'curveType': 'FxOutrightCurve', 'crossCurrency': 'EURUSD', 'points': [{'startDate': '2023-10-10', 'tenor': 'ON', 'endDate': '2023-10-11', 'outright': {'bid': 1.1709321400000001, 'ask': 1.1710329400000001, 'mid': 1.1709825400000002}, 'instruments': [{'instrumentCode': 'EURON=RFB'}]}, {'startDate': '2023-10-11', 'tenor': 'TN', 'endDate': '2023-10-12', 'outright': {'bid': 1.17078025, 'ask': 1.17088065, 'mid': 1.17083045}, 'instruments': [{'instrumentCode': 'EURTN=RFB'}]}, {'startDate': '2023-10-12', 'tenor': 'SPOT', 'endDate': '2023-10-12', 'outright': {'bid': 1.1707, 'ask': 1.1708, 'mid': 1.17075}, 'instruments': [{'instrumentCode': 'EUR='}]}, {'startDate': '2023-10-12', 'tenor': 'SN', 'endDate': '2023-10-13', 'outright': {'bid': 1.17077758, 'ask': 1.17087818, 'mid': 1.17082788}, 'instruments': [{'instrumentCode': 'EURSN=RFB'}]}, {'startDate': '2023-10-12', 'tenor': 'SW', 'endDate': '2023-10-19', 'outright': {'bid': 1.1712420000000001, 'ask': 1.171345, 'mid': 1.1712935}, 'instruments': [{'instrumentCode': 'EURSW=RFB'}]}, {'startDate': '2023-10-12', 'tenor': 'OCTM', 'endDate': '2023-10-31', 'outright': {'bid': 1.1800730000000001, 'ask': 1.180183, 'mid': 1.180128}, 'instruments': [{'instrumentCode': 'EUROCTM=RFB'}]}, {'startDate': '2023-10-12', 'tenor': '1M', 'endDate': '2023-11-13', 'outright': {'bid': 1.173111, 'ask': 1.173213, 'mid': 1.173162}, 'instruments': [{'instrumentCode': 'EUR1M=RFB'}]}, {'startDate': '2023-10-12', 'tenor': 'NOVM', 'endDate': '2023-11-30', 'outright': {'bid': 1.182085, 'ask': 1.182199, 'mid': 1.182142}, 'instruments': [{'instrumentCode': 'EURNOVM=RFB'}]}, {'startDate': '2023-10-12', 'tenor': '2M', 'endDate': '2023-12-12', 'outright': {'bid': 1.175592, 'ask': 1.175697, 'mid': 1.1756445}, 'instruments': [{'instrumentCode': 'EUR2M=RFB'}]}, {'startDate': '2023-10-12', 'tenor': 'DECM', 'endDate': '2023-12-29', 'outright': {'bid': 1.184391, 'ask': 1.184517, 'mid': 1.1844540000000001}, 'instruments': [{'instrumentCode': 'EURDECM=RFB'}]}, {'startDate': '2023-10-12', 'tenor': '3M', 'endDate': '2024-01-12', 'outright': {'bid': 1.177826, 'ask': 1.177934, 'mid': 1.17788}, 'instruments': [{'instrumentCode': 'EUR3M=RFB'}]}, {'startDate': '2023-10-12', 'tenor': 'JANM', 'endDate': '2024-01-31', 'outright': {'bid': 1.1865510000000001, 'ask': 1.1866910000000002, 'mid': 1.1866210000000001}, 'instruments': [{'instrumentCode': 'EURJANM=RFB'}]}, {'startDate': '2023-10-12', 'tenor': 'FEBM', 'endDate': '2024-02-29', 'outright': {'bid': 1.18838, 'ask': 1.1885270000000001, 'mid': 1.1884535}, 'instruments': [{'instrumentCode': 'EURFEBM=RFB'}]}, {'startDate': '2023-10-12', 'tenor': 'MARM', 'endDate': '2024-03-28', 'outright': {'bid': 1.1904020000000002, 'ask': 1.19056, 'mid': 1.1904810000000001}, 'instruments': [{'instrumentCode': 'EURMARM=RFB'}]}, {'startDate': '2023-10-12', 'tenor': '6M', 'endDate': '2024-04-12', 'outright': {'bid': 1.1846450000000002, 'ask': 1.1847720000000002, 'mid': 1.1847085000000002}, 'instruments': [{'instrumentCode': 'EUR6M=RFB'}]}, {'startDate': '2023-10-12', 'tenor': 'APRM', 'endDate': '2024-04-30', 'outright': {'bid': 1.1922510000000002, 'ask': 1.192415, 'mid': 1.192333}, 'instruments': [{'instrumentCode': 'EURAPRM=RFB'}]}, {'startDate': '2023-10-12', 'tenor': 'MAYM', 'endDate': '2024-05-31', 'outright': {'bid': 1.1939520000000001, 'ask': 1.194113, 'mid': 1.1940325}, 'instruments': [{'instrumentCode': 'EURMAYM=RFB'}]}, {'startDate': '2023-10-12', 'tenor': 'JUNM', 'endDate': '2024-06-28', 'outright': {'bid': 1.195707, 'ask': 1.195905, 'mid': 1.1958060000000001}, 'instruments': [{'instrumentCode': 'EURJUNM=RFB'}]}, {'startDate': '2023-10-12', 'tenor': '9M', 'endDate': '2024-07-12', 'outright': {'bid': 1.1904780000000001, 'ask': 1.190636, 'mid': 1.190557}, 'instruments': [{'instrumentCode': 'EUR9M=RFB'}]}, {'startDate': '2023-10-12', 'tenor': 'JULM', 'endDate': '2024-07-31', 'outright': {'bid': 1.173032, 'ask': 1.173135, 'mid': 1.1730835000000002}, 'instruments': [{'instrumentCode': 'EURJULM=RFB'}]}, {'startDate': '2023-10-12', 'tenor': 'AUGM', 'endDate': '2024-08-30', 'outright': {'bid': 1.1752820000000002, 'ask': 1.175387, 'mid': 1.1753345}, 'instruments': [{'instrumentCode': 'EURAUGM=RFB'}]}, {'startDate': '2023-10-12', 'tenor': 'SEPM', 'endDate': '2024-09-30', 'outright': {'bid': 1.177726, 'ask': 1.177834, 'mid': 1.17778}, 'instruments': [{'instrumentCode': 'EURSEPM=RFB'}]}, {'startDate': '2023-10-12', 'tenor': '1Y', 'endDate': '2024-10-15', 'outright': {'bid': 1.195813, 'ask': 1.196013, 'mid': 1.195913}, 'instruments': [{'instrumentCode': 'EUR1Y=RFB'}]}, {'startDate': '2023-10-12', 'tenor': '2Y', 'endDate': '2025-10-14', 'outright': {'bid': 1.2128700000000001, 'ask': 1.2133120000000002, 'mid': 1.2130910000000001}, 'instruments': [{'instrumentCode': 'EUR2Y=RFB'}]}, {'startDate': '2023-10-12', 'tenor': '3Y', 'endDate': '2026-10-13', 'outright': {'bid': 1.228316, 'ask': 1.228586, 'mid': 1.228451}, 'instruments': [{'instrumentCode': 'EUR3Y=RFB'}]}, {'startDate': '2023-10-12', 'tenor': '4Y', 'endDate': '2027-10-12', 'outright': {'bid': 1.242636, 'ask': 1.243204, 'mid': 1.24292}, 'instruments': [{'instrumentCode': 'EUR4Y=RFB'}]}, {'startDate': '2023-10-12', 'tenor': '5Y', 'endDate': '2028-10-12', 'outright': {'bid': 1.257161, 'ask': 1.258361, 'mid': 1.257761}, 'instruments': [{'instrumentCode': 'EUR5Y=RFB'}]}, {'startDate': '2023-10-12', 'tenor': '6Y', 'endDate': '2029-10-12', 'outright': {'bid': 1.272513, 'ask': 1.274013, 'mid': 1.273263}, 'instruments': [{'instrumentCode': 'EUR6Y=RFB'}]}, {'startDate': '2023-10-12', 'tenor': '7Y', 'endDate': '2030-10-15', 'outright': {'bid': 1.2879880000000001, 'ask': 1.2896880000000002, 'mid': 1.2888380000000002}, 'instruments': [{'instrumentCode': 'EUR7Y=RFB'}]}, {'startDate': '2023-10-12', 'tenor': '8Y', 'endDate': '2031-10-14', 'outright': {'bid': 1.302975, 'ask': 1.306975, 'mid': 1.304975}, 'instruments': [{'instrumentCode': 'EUR8Y=RFB'}]}, {'startDate': '2023-10-12', 'tenor': '9Y', 'endDate': '2032-10-12', 'outright': {'bid': 1.3184, 'ask': 1.3235000000000001, 'mid': 1.32095}, 'instruments': [{'instrumentCode': 'EUR9Y=RFB'}]}, {'startDate': '2023-10-12', 'tenor': '10Y', 'endDate': '2033-10-12', 'outright': {'bid': 1.3357, 'ask': 1.3393000000000002, 'mid': 1.3375000000000001}, 'instruments': [{'instrumentCode': 'EUR10Y=RFB'}]}]}, {'curveType': 'FxOutrightCurve', 'crossCurrency': 'GBPUSD', 'points': [{'startDate': '2023-10-10', 'tenor': 'ON', 'endDate': '2023-10-11', 'outright': {'bid': 1.3734070999999999, 'ask': 1.3738076, 'mid': 1.37360735}, 'instruments': [{'instrumentCode': 'GBPON='}]}, {'startDate': '2023-10-11', 'tenor': 'TN', 'endDate': '2023-10-12', 'outright': {'bid': 1.3733956, 'ask': 1.3737983999999999, 'mid': 1.373597}, 'instruments': [{'instrumentCode': 'GBPTN='}]}, {'startDate': '2023-10-12', 'tenor': 'SPOT', 'endDate': '2023-10-12', 'outright': {'bid': 1.3734, 'ask': 1.3738, 'mid': 1.3736}, 'instruments': [{'instrumentCode': 'GBP='}]}, {'startDate': '2023-10-12', 'tenor': 'SN', 'endDate': '2023-10-13', 'outright': {'bid': 1.3734020999999998, 'ask': 1.3738082999999999, 'mid': 1.3736051999999999}, 'instruments': [{'instrumentCode': 'GBPSN='}]}, {'startDate': '2023-10-12', 'tenor': 'SW', 'endDate': '2023-10-19', 'outright': {'bid': 1.373437, 'ask': 1.37384, 'mid': 1.3736385}, 'instruments': [{'instrumentCode': 'GBPSW='}]}, {'startDate': '2023-10-12', 'tenor': 'OCTM', 'endDate': '2023-10-31', 'outright': {'bid': 1.37350468, 'ask': 1.3739096, 'mid': 1.37370714}}, {'startDate': '2023-10-12', 'tenor': '1M', 'endDate': '2023-11-13', 'outright': {'bid': 1.373578, 'ask': 1.373985, 'mid': 1.3737815}, 'instruments': [{'instrumentCode': 'GBP1M='}]}, {'startDate': '2023-10-12', 'tenor': 'NOVM', 'endDate': '2023-11-30', 'outright': {'bid': 1.3737573793103448, 'ask': 1.3741796206896553, 'mid': 1.3739685000000001}}, {'startDate': '2023-10-12', 'tenor': '2M', 'endDate': '2023-12-12', 'outright': {'bid': 1.3738839999999999, 'ask': 1.374317, 'mid': 1.3741005}, 'instruments': [{'instrumentCode': 'GBP2M='}]}, {'startDate': '2023-10-12', 'tenor': 'DECM', 'endDate': '2023-12-29', 'outright': {'bid': 1.3740260322580646, 'ask': 1.3744546451612905, 'mid': 1.3742403387096775}}, {'startDate': '2023-10-12', 'tenor': '3M', 'endDate': '2024-01-12', 'outright': {'bid': 1.374143, 'ask': 1.374568, 'mid': 1.3743555}, 'instruments': [{'instrumentCode': 'GBP3M='}]}, {'startDate': '2023-10-12', 'tenor': 'JANM', 'endDate': '2024-01-31', 'outright': {'bid': 1.3742323626373627, 'ask': 1.3746771978021977, 'mid': 1.3744547802197802}}, {'startDate': '2023-10-12', 'tenor': 'FEBM', 'endDate': '2024-02-29', 'outright': {'bid': 1.3743687582417583, 'ask': 1.374843868131868, 'mid': 1.3746063131868131}}, {'startDate': '2023-10-12', 'tenor': 'MARM', 'endDate': '2024-03-28', 'outright': {'bid': 1.3745004505494505, 'ask': 1.375004791208791, 'mid': 1.3747526208791208}}, {'startDate': '2023-10-12', 'tenor': '6M', 'endDate': '2024-04-12', 'outright': {'bid': 1.374571, 'ask': 1.3750909999999998, 'mid': 1.374831}, 'instruments': [{'instrumentCode': 'GBP6M='}]}, {'startDate': '2023-10-12', 'tenor': 'APRM', 'endDate': '2024-04-30', 'outright': {'bid': 1.3746143186813187, 'ask': 1.3751402527472527, 'mid': 1.3748772857142857}}, {'startDate': '2023-10-12', 'tenor': 'MAYM', 'endDate': '2024-05-31', 'outright': {'bid': 1.374688923076923, 'ask': 1.375225076923077, 'mid': 1.374957}}, {'startDate': '2023-10-12', 'tenor': 'JUNM', 'endDate': '2024-06-28', 'outright': {'bid': 1.3747563076923077, 'ask': 1.3753016923076922, 'mid': 1.375029}}, {'startDate': '2023-10-12', 'tenor': '9M', 'endDate': '2024-07-12', 'outright': {'bid': 1.37479, 'ask': 1.37534, 'mid': 1.375065}, 'instruments': [{'instrumentCode': 'GBP9M='}]}, {'startDate': '2023-10-12', 'tenor': 'JULM', 'endDate': '2024-07-31', 'outright': {'bid': 1.3747648, 'ask': 1.3753073999999998, 'mid': 1.3750361}}, {'startDate': '2023-10-12', 'tenor': 'AUGM', 'endDate': '2024-08-30', 'outright': {'bid': 1.3747250105263158, 'ask': 1.3752559263157893, 'mid': 1.3749904684210525}}, {'startDate': '2023-10-12', 'tenor': 'SEPM', 'endDate': '2024-09-30', 'outright': {'bid': 1.374683894736842, 'ask': 1.3752027368421051, 'mid': 1.3749433157894737}}, {'startDate': '2023-10-12', 'tenor': '1Y', 'endDate': '2024-10-15', 'outright': {'bid': 1.3746639999999999, 'ask': 1.3751769999999999, 'mid': 1.3749205}, 'instruments': [{'instrumentCode': 'GBP1Y='}]}, {'startDate': '2023-10-12', 'tenor': '2Y', 'endDate': '2025-10-14', 'outright': {'bid': 1.370692, 'ask': 1.371567, 'mid': 1.3711295}, 'instruments': [{'instrumentCode': 'GBP2Y='}]}, {'startDate': '2023-10-12', 'tenor': '3Y', 'endDate': '2026-10-13', 'outright': {'bid': 1.3657, 'ask': 1.3693, 'mid': 1.3675}, 'instruments': [{'instrumentCode': 'GBP3Y='}]}, {'startDate': '2023-10-12', 'tenor': '4Y', 'endDate': '2027-10-12', 'outright': {'bid': 1.3618999999999999, 'ask': 1.3663999999999998, 'mid': 1.36415}, 'instruments': [{'instrumentCode': 'GBP4Y='}]}, {'startDate': '2023-10-12', 'tenor': '5Y', 'endDate': '2028-10-12', 'outright': {'bid': 1.3589, 'ask': 1.3642999999999998, 'mid': 1.3616}, 'instruments': [{'instrumentCode': 'GBP5Y='}]}, {'startDate': '2023-10-12', 'tenor': '6Y', 'endDate': '2029-10-12', 'outright': {'bid': 1.3563, 'ask': 1.3624999999999998, 'mid': 1.3594}, 'instruments': [{'instrumentCode': 'GBP6Y='}]}, {'startDate': '2023-10-12', 'tenor': '7Y', 'endDate': '2030-10-15', 'outright': {'bid': 1.3536, 'ask': 1.3604999999999998, 'mid': 1.3570499999999999}, 'instruments': [{'instrumentCode': 'GBP7Y='}]}, {'startDate': '2023-10-12', 'tenor': '8Y', 'endDate': '2031-10-14', 'outright': {'bid': 1.3508, 'ask': 1.3583999999999998, 'mid': 1.3546}, 'instruments': [{'instrumentCode': 'GBP8Y='}]}, {'startDate': '2023-10-12', 'tenor': '9Y', 'endDate': '2032-10-12', 'outright': {'bid': 1.3475, 'ask': 1.3556, 'mid': 1.35155}, 'instruments': [{'instrumentCode': 'GBP9Y='}]}, {'startDate': '2023-10-12', 'tenor': '10Y', 'endDate': '2033-10-12', 'outright': {'bid': 1.3471, 'ask': 1.3487, 'mid': 1.3479}, 'instruments': [{'instrumentCode': 'GBP10Y='}]}]}], 'invalidConstituents': []}}"
      ]
     },
     "execution_count": 23,
     "metadata": {},
     "output_type": "execute_result"
    }
   ],
   "source": [
    "from lseg_analytics_basic_client.models import (\n",
    "    FxForwardCurveCalculationParameters,\n",
    ")\n",
    "\n",
    "curve.calculate(\n",
    "    pricing_preferences=FxForwardCurveCalculationParameters(\n",
    "        valuation_date=datetime.date(2023, 10, 10)\n",
    "    )\n",
    ")\n",
    "\n",
    "curve.calculate(\n",
    "    pricing_preferences=FxForwardCurveCalculationParameters(valuation_date=\"2023-10-10\")\n",
    ")"
   ]
  },
  {
   "cell_type": "markdown",
   "metadata": {},
   "source": [
    "## Delete\n",
    "\n",
    "You can delete a curve from the server in the following ways:"
   ]
  },
  {
   "cell_type": "markdown",
   "metadata": {},
   "source": [
    "### By ID:"
   ]
  },
  {
   "cell_type": "code",
   "execution_count": 24,
   "metadata": {
    "execution": {
     "iopub.execute_input": "2025-06-27T09:41:54.200016Z",
     "iopub.status.busy": "2025-06-27T09:41:54.199638Z",
     "iopub.status.idle": "2025-06-27T09:41:54.367859Z",
     "shell.execute_reply": "2025-06-27T09:41:54.367161Z"
    }
   },
   "outputs": [
    {
     "data": {
      "text/plain": [
       "True"
      ]
     },
     "execution_count": 24,
     "metadata": {},
     "output_type": "execute_result"
    }
   ],
   "source": [
    "delete(resource_id=curve_id)"
   ]
  },
  {
   "cell_type": "markdown",
   "metadata": {},
   "source": [
    "### By name and space unique pair:"
   ]
  },
  {
   "cell_type": "code",
   "execution_count": 25,
   "metadata": {
    "execution": {
     "iopub.execute_input": "2025-06-27T09:41:54.370697Z",
     "iopub.status.busy": "2025-06-27T09:41:54.370265Z",
     "iopub.status.idle": "2025-06-27T09:41:54.867834Z",
     "shell.execute_reply": "2025-06-27T09:41:54.867200Z"
    }
   },
   "outputs": [
    {
     "data": {
      "text/plain": [
       "True"
      ]
     },
     "execution_count": 25,
     "metadata": {},
     "output_type": "execute_result"
    }
   ],
   "source": [
    "new_curve = FxForwardCurve(\n",
    "    definition=FxForwardCurveDefinition(cross_currency=\"GPBEUR\"),\n",
    "    description=Description(summary=\"GPBCurve\", tags=[\"GPB\", \"EUR\"]),\n",
    ")\n",
    "\n",
    "new_curve.save(name=\"new_curve\", space=\"newspace\")\n",
    "\n",
    "delete(name=\"new_curve\", space=\"newspace\")"
   ]
  }
 ],
 "metadata": {
  "kernelspec": {
   "display_name": "Python 3",
   "language": "python",
   "name": "python3"
  },
  "language_info": {
   "codemirror_mode": {
    "name": "ipython",
    "version": 3
   },
   "file_extension": ".py",
   "mimetype": "text/x-python",
   "name": "python",
   "nbconvert_exporter": "python",
   "pygments_lexer": "ipython3",
   "version": "3.11.6"
  }
 },
 "nbformat": 4,
 "nbformat_minor": 2
}
