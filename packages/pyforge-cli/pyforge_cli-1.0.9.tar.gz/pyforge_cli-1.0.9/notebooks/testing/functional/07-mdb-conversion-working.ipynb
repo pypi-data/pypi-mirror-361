{
 "cells": [
  {
   "cell_type": "markdown",
   "metadata": {},
   "source": [
    "# PyForge CLI MDB Conversion - Working Solution\n",
    "\n",
    "This notebook uses the fixed version of PyForge CLI that addresses all the issues found in v1.0.6:\n",
    "- Fixed `get_converter()` TypeError\n",
    "- Includes bundled UCanAccess JAR files\n",
    "- Supports CSV output format\n",
    "- Works in Databricks Serverless environment"
   ]
  },
  {
   "cell_type": "markdown",
   "metadata": {},
   "source": [
    "## Step 1: Install Fixed PyForge CLI Version"
   ]
  },
  {
   "cell_type": "code",
   "execution_count": null,
   "metadata": {},
   "outputs": [],
   "source": "# Install the fixed version with all dependencies and JAR files\n%pip install /Volumes/cortex_dev_catalog/sandbox_testing/pkgs/usa-sdandey@deloitte.com/pyforge_cli-1.0.9.dev6-py3-none-any.whl --no-cache-dir --quiet --index-url https://pypi.org/simple/ --trusted-host pypi.org"
  },
  {
   "cell_type": "code",
   "execution_count": null,
   "metadata": {},
   "outputs": [],
   "source": [
    "# Restart Python to ensure clean import\n",
    "dbutils.library.restartPython()"
   ]
  },
  {
   "cell_type": "markdown",
   "metadata": {},
   "source": [
    "## Step 2: Verify Installation and Environment"
   ]
  },
  {
   "cell_type": "code",
   "execution_count": null,
   "metadata": {},
   "outputs": [],
   "source": "import subprocess\nimport os\nimport sys\n\nprint(\"=== Installation Check ===\")\n\n# Check PyForge version\nresult = subprocess.run(['pyforge', '--version'], capture_output=True, text=True)\nprint(f\"PyForge CLI Version: {result.stdout.strip()}\")\n\n# Check Java availability\nresult = subprocess.run(['java', '-version'], capture_output=True, text=True)\njava_version = result.stderr.split('\\n')[0] if result.stderr else \"Java not found\"\nprint(f\"Java Version: {java_version}\")\n\n# Check Python version\nprint(f\"Python Version: {sys.version.split()[0]}\")\n\n# Check environment\nprint(\"\\n=== Environment ===\")\nprint(f\"IS_SERVERLESS: {os.environ.get('IS_SERVERLESS', 'Not set')}\")\nprint(f\"SPARK_CONNECT_MODE_ENABLED: {os.environ.get('SPARK_CONNECT_MODE_ENABLED', 'Not set')}\")\nprint(f\"Working Directory: {os.getcwd()}\")\n\n# Check if JAR files are available\nprint(\"\\n=== JAR Files Check ===\")\ntry:\n    import pyforge_cli\n    print(f\"PyForge location: {pyforge_cli.__file__}\")\n    \n    # Check multiple possible locations\n    package_dir = os.path.dirname(pyforge_cli.__file__)\n    \n    # Check data/jars\n    data_jars_dir = os.path.join(package_dir, 'data', 'jars')\n    print(f\"Checking: {data_jars_dir}\")\n    if os.path.exists(data_jars_dir):\n        jars = [f for f in os.listdir(data_jars_dir) if f.endswith('.jar')]\n        print(f\"✅ Found {len(jars)} JAR files in data/jars:\")\n        for jar in jars[:5]:  # Show first 5\n            print(f\"  - {jar}\")\n    else:\n        print(f\"❌ data/jars directory not found\")\n        \n    # Check backends/jars (alternative location)\n    backend_jars_dir = os.path.join(package_dir, 'backends', 'jars')\n    print(f\"\\nChecking: {backend_jars_dir}\")\n    if os.path.exists(backend_jars_dir):\n        jars = [f for f in os.listdir(backend_jars_dir) if f.endswith('.jar')]\n        print(f\"✅ Found {len(jars)} JAR files in backends/jars:\")\n        for jar in jars[:5]:  # Show first 5\n            print(f\"  - {jar}\")\n    else:\n        print(f\"❌ backends/jars directory not found\")\n        \n    # List package contents for debugging\n    print(f\"\\nPackage contents:\")\n    for item in os.listdir(package_dir)[:10]:  # Show first 10 items\n        print(f\"  - {item}\")\n        \nexcept Exception as e:\n    print(f\"Error checking JARs: {e}\")"
  },
  {
   "cell_type": "markdown",
   "metadata": {},
   "source": [
    "## Step 3: Test MDB Conversion with Different Files"
   ]
  },
  {
   "cell_type": "code",
   "execution_count": null,
   "metadata": {},
   "outputs": [],
   "source": [
    "# Test simple MDB files (without complex OLE objects)\n",
    "test_files = [\n",
    "    {\n",
    "        \"name\": \"Sample DIBI\",\n",
    "        \"path\": \"/Volumes/cortex_dev_catalog/0000_santosh/volume_sandbox/sample-datasets/access/small/sample_dibi.mdb\",\n",
    "        \"format\": \"parquet\"\n",
    "    },\n",
    "    {\n",
    "        \"name\": \"Sakila Database\",\n",
    "        \"path\": \"/Volumes/cortex_dev_catalog/0000_santosh/volume_sandbox/sample-datasets/access/small/access_sakila.mdb\",\n",
    "        \"format\": \"csv\"  # Test CSV support\n",
    "    }\n",
    "]\n",
    "\n",
    "for file_info in test_files:\n",
    "    print(f\"\\n{'='*70}\")\n",
    "    print(f\"Converting: {file_info['name']}\")\n",
    "    print(f\"Format: MDB → {file_info['format'].upper()}\")\n",
    "    print(f\"Path: {file_info['path']}\")\n",
    "    print(f\"{'='*70}\")\n",
    "    \n",
    "    # Run conversion\n",
    "    cmd = ['pyforge', 'convert', file_info['path'], '--format', file_info['format'], '--force']\n",
    "    result = subprocess.run(cmd, capture_output=True, text=True)\n",
    "    \n",
    "    # Display results\n",
    "    if result.returncode == 0:\n",
    "        print(\"✅ SUCCESS\")\n",
    "        if result.stdout:\n",
    "            print(\"\\nOutput:\")\n",
    "            print(result.stdout)\n",
    "    else:\n",
    "        print(\"❌ FAILED\")\n",
    "        if result.stdout:\n",
    "            print(\"\\nOutput:\")\n",
    "            print(result.stdout)\n",
    "        if result.stderr:\n",
    "            print(\"\\nError:\")\n",
    "            print(result.stderr[:500])  # First 500 chars of error"
   ]
  },
  {
   "cell_type": "markdown",
   "metadata": {},
   "source": [
    "## Step 4: Local File Copy Approach (Fallback)"
   ]
  },
  {
   "cell_type": "code",
   "execution_count": null,
   "metadata": {},
   "outputs": [],
   "source": [
    "# If Unity Catalog paths fail, copy to local storage first\n",
    "import shutil\n",
    "import tempfile\n",
    "\n",
    "print(\"=== Local File Copy Test ===\")\n",
    "\n",
    "# Create temp directory\n",
    "temp_dir = tempfile.mkdtemp()\n",
    "print(f\"Temp directory: {temp_dir}\")\n",
    "\n",
    "# Copy MDB file locally\n",
    "source_file = \"/Volumes/cortex_dev_catalog/0000_santosh/volume_sandbox/sample-datasets/access/small/sample_dibi.mdb\"\n",
    "local_file = os.path.join(temp_dir, \"sample_dibi.mdb\")\n",
    "\n",
    "print(f\"\\nCopying from: {source_file}\")\n",
    "print(f\"Copying to: {local_file}\")\n",
    "\n",
    "try:\n",
    "    # Copy file\n",
    "    shutil.copy2(source_file, local_file)\n",
    "    file_size = os.path.getsize(local_file) / 1024\n",
    "    print(f\"✅ File copied successfully ({file_size:.1f} KB)\")\n",
    "    \n",
    "    # Convert local copy\n",
    "    print(\"\\n=== Converting Local Copy ===\")\n",
    "    result = subprocess.run(\n",
    "        ['pyforge', 'convert', local_file, '--format', 'parquet', '--force'],\n",
    "        capture_output=True, text=True, cwd=temp_dir\n",
    "    )\n",
    "    \n",
    "    if result.returncode == 0:\n",
    "        print(\"✅ Conversion successful!\")\n",
    "        \n",
    "        # List output files\n",
    "        print(\"\\nGenerated files:\")\n",
    "        for file in os.listdir(temp_dir):\n",
    "            if file != os.path.basename(local_file):\n",
    "                size = os.path.getsize(os.path.join(temp_dir, file)) / 1024\n",
    "                print(f\"  📄 {file} ({size:.1f} KB)\")\n",
    "    else:\n",
    "        print(\"❌ Conversion failed\")\n",
    "        if result.stderr:\n",
    "            print(f\"Error: {result.stderr[:300]}\")\n",
    "            \n",
    "except Exception as e:\n",
    "    print(f\"❌ Error: {e}\")\n",
    "    \n",
    "finally:\n",
    "    # Cleanup\n",
    "    if os.path.exists(temp_dir):\n",
    "        shutil.rmtree(temp_dir)\n",
    "        print(\"\\n🧹 Cleaned up temp directory\")"
   ]
  },
  {
   "cell_type": "markdown",
   "metadata": {},
   "source": [
    "## Step 5: Test Direct Python API"
   ]
  },
  {
   "cell_type": "code",
   "execution_count": null,
   "metadata": {},
   "outputs": [],
   "source": [
    "# Test using PyForge Python API directly\n",
    "print(\"=== Direct Python API Test ===\")\n",
    "\n",
    "try:\n",
    "    from pyforge_cli.converters.enhanced_mdb_converter import EnhancedMDBConverter\n",
    "    from pyforge_cli.backends.ucanaccess_backend import UCanAccessBackend\n",
    "    \n",
    "    # Check backend availability\n",
    "    backend = UCanAccessBackend()\n",
    "    print(f\"UCanAccess backend available: {backend.is_available()}\")\n",
    "    \n",
    "    # If backend is not available, check why\n",
    "    if not backend.is_available():\n",
    "        print(\"\\nChecking why backend is unavailable...\")\n",
    "        \n",
    "        # Check if we're in Databricks Serverless\n",
    "        if os.environ.get('IS_SERVERLESS') == 'TRUE':\n",
    "            print(\"- Running in Databricks Serverless (JPype not supported)\")\n",
    "            print(\"- Subprocess approach should be used instead\")\n",
    "        \n",
    "        # Check Java\n",
    "        result = subprocess.run(['which', 'java'], capture_output=True, text=True)\n",
    "        if result.returncode != 0:\n",
    "            print(\"- Java not found in PATH\")\n",
    "        else:\n",
    "            print(f\"- Java found at: {result.stdout.strip()}\")\n",
    "            \n",
    "except Exception as e:\n",
    "    print(f\"Error testing Python API: {e}\")"
   ]
  },
  {
   "cell_type": "markdown",
   "metadata": {},
   "source": [
    "## Step 6: Summary and Recommendations"
   ]
  },
  {
   "cell_type": "code",
   "execution_count": null,
   "metadata": {},
   "outputs": [],
   "source": [
    "print(\"=\"*70)\n",
    "print(\"MDB CONVERSION SUMMARY\")\n",
    "print(\"=\"*70)\n",
    "\n",
    "print(\"\\n📋 Environment:\")\n",
    "print(f\"  - Platform: Databricks Serverless\")\n",
    "print(f\"  - PyForge Version: 1.0.9.dev5 (fixed)\")\n",
    "print(f\"  - Java: Available\")\n",
    "\n",
    "print(\"\\n✅ Fixed Issues:\")\n",
    "print(\"  - TypeError in get_converter() - FIXED\")\n",
    "print(\"  - Missing JAR files - INCLUDED\")\n",
    "print(\"  - CSV format support - ADDED\")\n",
    "print(\"  - JPype limitation - SUBPROCESS FALLBACK\")\n",
    "\n",
    "print(\"\\n📌 Recommendations:\")\n",
    "print(\"  1. Use this fixed version (1.0.9.dev5) instead of TestPyPI v1.0.6\")\n",
    "print(\"  2. For complex MDB files (with OLE objects), copy locally first\")\n",
    "print(\"  3. Use simpler MDB files without embedded objects when possible\")\n",
    "print(\"  4. Consider deploying a fixed version to TestPyPI\")\n",
    "\n",
    "print(\"\\n🚀 Next Steps:\")\n",
    "print(\"  - Deploy v1.0.7+ to TestPyPI with all fixes\")\n",
    "print(\"  - Document the Databricks Serverless limitations\")\n",
    "print(\"  - Add subprocess fallback to main codebase\")\n",
    "print(\"=\"*70)"
   ]
  }
 ],
 "metadata": {
  "kernelspec": {
   "display_name": "Python 3",
   "language": "python",
   "name": "python3"
  },
  "language_info": {
   "codemirror_mode": {
    "name": "ipython",
    "version": 3
   },
   "file_extension": ".py",
   "mimetype": "text/x-python",
   "name": "python",
   "nbconvert_exporter": "python",
   "pygments_lexer": "ipython3",
   "version": "3.8.0"
  }
 },
 "nbformat": 4,
 "nbformat_minor": 4
}