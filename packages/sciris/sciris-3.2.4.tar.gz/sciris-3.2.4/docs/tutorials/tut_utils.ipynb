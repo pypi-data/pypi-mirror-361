{
 "cells": [
  {
   "cell_type": "markdown",
   "metadata": {},
   "source": [
    "# Other tools\n",
    "\n",
    "Pretty much no one hears the word \"utilities\" and gets excited. But you can do exciting things with boring utilities. Here's a quick tour."
   ]
  },
  {
   "cell_type": "markdown",
   "metadata": {},
   "source": [
    "<div class=\"alert alert-info\">\n",
    "    \n",
    "Click [here](https://mybinder.org/v2/gh/sciris/sciris/HEAD?labpath=docs%2Ftutorials%2Ftut_utils.ipynb) to open an interactive version of this notebook.\n",
    "    \n",
    "</div>\n"
   ]
  },
  {
   "cell_type": "markdown",
   "metadata": {
    "tags": []
   },
   "source": [
    "## Handling types\n",
    "\n",
    "### Converting types\n",
    "\n",
    "Python is _pretty_ forgiving with types, but Sciris takes forgiveness to the next level. For example, in plain Python (since v3.9) you can merge two dicts with `dict1 | dict2`, which is pretty cool, but in Sciris you can also merge no input (i.e. `None`). Why is this useful? It lets you handle flexible user input, such as:"
   ]
  },
  {
   "cell_type": "code",
   "execution_count": null,
   "metadata": {},
   "outputs": [],
   "source": [
    "import sciris as sc\n",
    "import numpy as np\n",
    "import matplotlib.pyplot as plt\n",
    "\n",
    "def default_json(json=None, **kwargs):\n",
    "    default = dict(some=1, default=2, values=3)\n",
    "    output = sc.mergedicts(default, json, kwargs)\n",
    "    return output\n",
    "\n",
    "dj1 = default_json()\n",
    "dj2 = default_json(dict(my=4, json=5), rocks=6)\n",
    "print(dj1)\n",
    "print(dj2)"
   ]
  },
  {
   "cell_type": "markdown",
   "metadata": {},
   "source": [
    "Likewise, you know that if you want to add an item to a list, you use `append`, and if you want to add a list to a list, you use `extend`, but wouldn't it be nice if you could have Python figure this out?"
   ]
  },
  {
   "cell_type": "code",
   "execution_count": null,
   "metadata": {},
   "outputs": [],
   "source": [
    "arg1 = ['an', 'actual', 'list']\n",
    "arg2 = 'a single item'\n",
    "arg3 = None\n",
    "arg4 = {'not':'a list'}\n",
    "\n",
    "my_list = sc.mergelists(arg1, arg2, arg3, arg4)\n",
    "print(my_list)"
   ]
  },
  {
   "cell_type": "markdown",
   "metadata": {},
   "source": [
    "There are also functions `sc.tolist()` and `sc.toarray()` that convert anything \"sensible\" to a list and array, respectively. The former is especially useful for ensuring that a user input, for example, can always be safely iterated over:"
   ]
  },
  {
   "cell_type": "code",
   "execution_count": null,
   "metadata": {},
   "outputs": [],
   "source": [
    "def duplicate(arg, n=2):\n",
    "    arglist = sc.tolist(arg)\n",
    "    newlist = []\n",
    "    for arg in arglist:\n",
    "        newlist += [arg]*n\n",
    "    return newlist\n",
    "\n",
    "print(duplicate('foo'))\n",
    "print(duplicate(['foo', 'bar']))"
   ]
  },
  {
   "cell_type": "markdown",
   "metadata": {},
   "source": [
    "`sc.toarray()` is useful if you want to be sure you can, for example, do math on an object:"
   ]
  },
  {
   "cell_type": "code",
   "execution_count": null,
   "metadata": {},
   "outputs": [],
   "source": [
    "def power(arg, n=2):\n",
    "    arr = sc.toarray(arg)\n",
    "    new = arr**n\n",
    "    output = sc.autolist() # Create an automatically incrementing list\n",
    "    for i,v in enumerate(new):\n",
    "        output += f'Entry {i}={arr[i]} has value {v}'\n",
    "    return output\n",
    "\n",
    "sc.pp(power(2))\n",
    "sc.pp(power([1,2,3,4]))"
   ]
  },
  {
   "cell_type": "markdown",
   "metadata": {},
   "source": [
    "\"But\", you protest, \"what's the point? Can't you just use `np.array()` to turn something into an array?\" Let's try it:"
   ]
  },
  {
   "cell_type": "code",
   "execution_count": null,
   "metadata": {},
   "outputs": [],
   "source": [
    "try:\n",
    "    def power(arg, n=2):\n",
    "        arr = np.array(arg)\n",
    "        new = arr**n\n",
    "        output = sc.autolist()\n",
    "        for i,v in enumerate(new):\n",
    "            output += f'Entry {i}={arr[i]} has value {v}'\n",
    "        return output\n",
    "\n",
    "    sc.pp(power(2))\n",
    "    sc.pp(power([1,2,3,4]))\n",
    "except:\n",
    "    print(f'Failed!! {sc.traceback()}') # Use sc.traceback() as a shortcut to get the exception"
   ]
  },
  {
   "cell_type": "markdown",
   "metadata": {},
   "source": [
    "So: often you can, yes, but not always. `sc.toarray()` will handle edge cases more carefully than simply calling `np.array()`."
   ]
  },
  {
   "cell_type": "markdown",
   "metadata": {},
   "source": [
    "### Checking types\n",
    "\n",
    "Sciris also includes some simple type checking functions. For example, in regular Python, just to check if something is a number or not, you need to import the whole `numbers` module:"
   ]
  },
  {
   "cell_type": "code",
   "execution_count": null,
   "metadata": {},
   "outputs": [],
   "source": [
    "v1 = 3\n",
    "v2 = 3.145j\n",
    "v3 = '3.145'\n",
    "\n",
    "print(sc.isnumber(v1)) # Equivalent to isinstance(v1, numbers.Number)\n",
    "print(sc.isnumber(v2))\n",
    "print(sc.isnumber(v3))"
   ]
  },
  {
   "cell_type": "markdown",
   "metadata": {},
   "source": [
    "## Miscellaneous tools\n",
    "\n",
    "Here are yet more tools that can be helpful, but don't really belong anywhere else. Such as this one:"
   ]
  },
  {
   "cell_type": "code",
   "execution_count": null,
   "metadata": {},
   "outputs": [],
   "source": [
    "user_input = 'Scirys'\n",
    "options = ['Python', 'NumPy', 'SciPy', 'pandas', 'Matplotlib', 'Sciris']\n",
    "sc.suggest(user_input, options, n=2)"
   ]
  },
  {
   "cell_type": "markdown",
   "metadata": {},
   "source": [
    "### Downloading files\n",
    "\n",
    "Much of the web runs on Python, and there are some super powerful web libraries (such as [requests](https://requests.readthedocs.io/en/latest/)). But what if you don't need something super powerful, and want something that just works? `sc.download()` does just that, and can either load the downloaded data directly into memory, or save it to disk:"
   ]
  },
  {
   "cell_type": "code",
   "execution_count": null,
   "metadata": {},
   "outputs": [],
   "source": [
    "# Define the URLs to download -- from Project Gutenberg\n",
    "urls = [\n",
    "    'https://www.gutenberg.org/cache/epub/1513/pg1513.txt', # Romeo and Juliet\n",
    "    'https://www.gutenberg.org/cache/epub/11/pg11.txt', # Alice in Wonderland\n",
    "]\n",
    "\n",
    "# Download the data\n",
    "data = sc.download(urls, save=False)\n",
    "\n",
    "# Count occurrences\n",
    "print(f\"Juliet is named {data[0].lower().count('juliet')} times in Romeo and Juliet.\")\n",
    "print(f\"Alice is named {data[1].lower().count('alice')} times in Alice in Wonderland.\")"
   ]
  },
  {
   "cell_type": "markdown",
   "metadata": {},
   "source": [
    "(Don't get the idea that `sc.download()` _isn't_ super powerful. It downloads multiple URLs in parallel, handles exceptions elegantly, can either save to disk or load into memory, etc.)"
   ]
  },
  {
   "cell_type": "markdown",
   "metadata": {},
   "source": [
    "### Running commands\n",
    "\n",
    "If you use Linux (or Mac), you probably do a lot of things in the terminal. There are several ways of doing this in Python, including `os.system()`, `subprocess.run()`, and `subprocess.Popen()`. But if you want to just quickly run something, you can use `sc.runcommand()`:"
   ]
  },
  {
   "cell_type": "code",
   "execution_count": null,
   "metadata": {},
   "outputs": [],
   "source": [
    "out = sc.runcommand('ls *.ipynb', printoutput=True) # NB, won't work on Windows!\n",
    "print(f'There are {len(out.splitlines())} Sciris tutorials.')"
   ]
  },
  {
   "cell_type": "markdown",
   "metadata": {},
   "source": [
    "Note that in general, terminal/shell commands are platform specific. The better way of listing the tutorials would be `sc.getfilelist('*.ipynb')`."
   ]
  },
  {
   "cell_type": "markdown",
   "metadata": {},
   "source": [
    "### Import by path\n",
    "\n",
    "You're probably pretty familiar with the `sys.path.append()` syntax for adding a folder to the Python path for loading modules that haven't been installed. But this is clunky: it's global, and you can't import two modules with the same name. `sc.importbypath` fixes this. For example, let's say we have two different versions of the same code, `sim1/sim.py` and `sim2/sim.py` that we want to compare:"
   ]
  },
  {
   "cell_type": "code",
   "execution_count": null,
   "metadata": {},
   "outputs": [],
   "source": [
    "# Import both versions\n",
    "old = sc.importbypath('sim1/sim.py')\n",
    "new = sc.importbypath('sim2/sim.py')\n",
    "\n",
    "# Run both versions\n",
    "sims = sc.odict()\n",
    "sims['Old sim'] = old.Sim().run()\n",
    "sims['New sim'] = new.Sim().run()\n",
    "\n",
    "# Plot both side by side\n",
    "plt.figure()\n",
    "for i, label, sim in sims.enumitems():\n",
    "    plt.subplot(2,1,i+1)\n",
    "    sim.plot()\n",
    "    plt.title(label)\n",
    "sc.figlayout()"
   ]
  },
  {
   "cell_type": "markdown",
   "metadata": {},
   "source": [
    "Let's load the source code for both and see where they differ:"
   ]
  },
  {
   "cell_type": "code",
   "execution_count": null,
   "metadata": {},
   "outputs": [],
   "source": [
    "oldsrc = sc.loadtext(old.__file__).splitlines()\n",
    "newsrc = sc.loadtext(new.__file__).splitlines()\n",
    "\n",
    "for l, (oldline, newline) in enumerate(zip(oldsrc, newsrc)):\n",
    "    if oldline != newline:\n",
    "        print(f'Line {l}:')\n",
    "        print(f'  Old: {oldline}')\n",
    "        print(f'  New: {newline}')"
   ]
  },
  {
   "cell_type": "markdown",
   "metadata": {},
   "source": [
    "There we have it!"
   ]
  },
  {
   "cell_type": "markdown",
   "metadata": {},
   "source": [
    "### Getting help\n",
    "\n",
    "Sciris provides a built-in help, `sc.help()`, that can do a text search through its entire source code. For example, let's say you remembered there was a function that did interpolation, but forgot what it was called:"
   ]
  },
  {
   "cell_type": "code",
   "execution_count": null,
   "metadata": {},
   "outputs": [],
   "source": [
    "sc.help('interpol')"
   ]
  },
  {
   "cell_type": "markdown",
   "metadata": {},
   "source": [
    "If you want more detail, you can use `context=True`:"
   ]
  },
  {
   "cell_type": "code",
   "execution_count": null,
   "metadata": {},
   "outputs": [],
   "source": [
    "sc.help('interpol', context=True)"
   ]
  }
 ],
 "metadata": {
  "kernelspec": {
   "display_name": "Python 3 (ipykernel)",
   "language": "python",
   "name": "python3"
  },
  "language_info": {
   "codemirror_mode": {
    "name": "ipython",
    "version": 3
   },
   "file_extension": ".py",
   "mimetype": "text/x-python",
   "name": "python",
   "nbconvert_exporter": "python",
   "pygments_lexer": "ipython3",
   "version": "3.9.16"
  },
  "toc": {
   "base_numbering": 1,
   "nav_menu": {},
   "number_sections": true,
   "sideBar": true,
   "skip_h1_title": false,
   "title_cell": "Table of Contents",
   "title_sidebar": "Contents",
   "toc_cell": false,
   "toc_position": {},
   "toc_section_display": true,
   "toc_window_display": false
  }
 },
 "nbformat": 4,
 "nbformat_minor": 4
}
