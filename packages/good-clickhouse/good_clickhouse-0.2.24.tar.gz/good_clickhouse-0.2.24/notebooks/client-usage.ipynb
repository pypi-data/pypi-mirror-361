{
 "cells": [
  {
   "cell_type": "code",
   "execution_count": 1,
   "id": "cc513047",
   "metadata": {},
   "outputs": [],
   "source": [
    "from fast_depends import inject\n",
    "from good_clickhouse import ClickhouseAsync, ClickhouseAsyncProvider"
   ]
  },
  {
   "cell_type": "code",
   "execution_count": null,
   "id": "3185842d",
   "metadata": {},
   "outputs": [],
   "source": [
    "@inject\n",
    "async def test(client: ClickhouseAsync = ClickhouseAsyncProvider(profile=\"cloud\")):\n",
    "    return client"
   ]
  },
  {
   "cell_type": "code",
   "execution_count": 5,
   "id": "27e61b8f",
   "metadata": {},
   "outputs": [
    {
     "name": "stderr",
     "output_type": "stream",
     "text": [
      "/var/folders/4w/rtxyj6gx0j36rm378mf_3jg40000gn/T/ipykernel_37445/2717205388.py:1: DeprecationWarning: Using ClickhouseAsyncProvider as a default parameter value is deprecated and will be removed in a future version.\n",
      "Please use the Annotated pattern instead:\n",
      "  Old: func(param: ClickhouseAsync = ClickhouseAsyncProvider(...))\n",
      "  New: func(param: Annotated[ClickhouseAsync, ClickhouseAsyncProvider(...)])\n",
      "  client = await test()\n"
     ]
    }
   ],
   "source": [
    "client = await test()"
   ]
  },
  {
   "cell_type": "code",
   "execution_count": 7,
   "id": "0b9f8075",
   "metadata": {},
   "outputs": [
    {
     "name": "stdout",
     "output_type": "stream",
     "text": [
      "<aioch.client.Client object at 0x12336ed20>\n"
     ]
    }
   ],
   "source": [
    "async with client as cur:\n",
    "    print(cur)"
   ]
  },
  {
   "cell_type": "code",
   "execution_count": null,
   "id": "392ec0aa",
   "metadata": {},
   "outputs": [],
   "source": [
    "cur.execute()"
   ]
  }
 ],
 "metadata": {
  "kernelspec": {
   "display_name": "good-libraries (3.12.8)",
   "language": "python",
   "name": "python3"
  },
  "language_info": {
   "codemirror_mode": {
    "name": "ipython",
    "version": 3
   },
   "file_extension": ".py",
   "mimetype": "text/x-python",
   "name": "python",
   "nbconvert_exporter": "python",
   "pygments_lexer": "ipython3",
   "version": "3.12.8"
  }
 },
 "nbformat": 4,
 "nbformat_minor": 5
}
