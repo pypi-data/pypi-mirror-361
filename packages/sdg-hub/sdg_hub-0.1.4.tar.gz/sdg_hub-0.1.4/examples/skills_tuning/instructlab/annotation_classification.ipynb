{
 "cells": [
  {
   "cell_type": "code",
   "execution_count": null,
   "metadata": {},
   "outputs": [],
   "source": [
    "%load_ext autoreload\n",
    "%autoreload 2"
   ]
  },
  {
   "cell_type": "code",
   "execution_count": 23,
   "metadata": {},
   "outputs": [],
   "source": [
    "# Standard\n",
    "import random\n",
    "\n",
    "# Third Party\n",
    "from datasets import Dataset, load_dataset\n",
    "from openai import OpenAI\n",
    "from rich import print\n",
    "from rich.console import Console\n",
    "from rich.panel import Panel\n",
    "from sklearn.metrics import classification_report\n",
    "import yaml\n",
    "\n",
    "# First Party\n",
    "from sdg_hub.flow import Flow\n",
    "from sdg_hub.sdg import SDG\n",
    "from blocks import *"
   ]
  },
  {
   "cell_type": "markdown",
   "metadata": {},
   "source": [
    "# Annotation with Yahoo Answers\n",
    "\n",
    "\n",
    "In this tutorial, you’ll learn how to create your own custom data generation pipeline using SDG Hub. Our goal is to build a skill that teaches a language model how to **annotate user-generated text** with topic labels — specifically using the [Yahoo Answers Topics dataset](https://huggingface.co/datasets/yahoo_answers_topics) from Hugging Face.\n",
    "\n",
    "We’ll go step by step through a progressively improving pipeline. Each stage builds on the previous one, giving you a practical sense of how synthetic labeling can evolve from simple heuristics to highly customized and reliable data generation.\n",
    "\n",
    "### 🔍 Understand the Task\n",
    "Before we write any prompts or code, we’ll take time to understand what we want the model to learn. For this exercise, the task is **topic annotation** — assigning one of ten possible categories (e.g., \"Science & Mathematics\", \"Sports\", \"Politics & Government\") to a user-submitted question or paragraph.\n",
    "\n",
    "### 🛠️ Build a Basic Annotation Pipeline\n",
    "We’ll start by creating a minimal pipeline that takes a small number of seed examples and uses them to generate topic labels on the unlabeled Yahoo Answers data. This will use default prompts and simple scoring logic to simulate how annotation works.\n",
    "\n",
    "### 🎯 Improve with Better Examples\n",
    "Next, we’ll refine the pipeline by enhancing the **seed examples**. Better examples = better generations. You’ll see how even a small change in phrasing, structure, or label clarity can dramatically improve output quality.\n",
    "\n",
    "### ✏️ Customize with Your Own Prompts\n",
    "Finally, we’ll show you how to take full control by writing your own prompts from scratch. This allows you to inject task-specific instructions, formatting rules, or even domain tone — enabling the model to generalize better and reduce noise in the generated labels.\n",
    "\n",
    "Let’s get started by loading a sample of the Yahoo dataset and identifying what task we want the model to learn."
   ]
  },
  {
   "cell_type": "code",
   "execution_count": 24,
   "metadata": {},
   "outputs": [],
   "source": [
    "dataset = load_dataset(\"fancyzhx/ag_news\")\n",
    "\n",
    "train_data = dataset[\"train\"].shuffle(seed=42).select(range(500))\n",
    "test_data = dataset[\"test\"].shuffle(seed=42).select(range(100))\n",
    "\n",
    "# map the labels to the category names\n",
    "label_map = train_data.features['label'].names\n",
    "\n",
    "train_data = train_data.map(lambda x: {\"category\": label_map[x[\"label\"]]})\n",
    "test_data = test_data.map(lambda x: {\"category\": label_map[x[\"label\"]]})"
   ]
  },
  {
   "cell_type": "code",
   "execution_count": 25,
   "metadata": {},
   "outputs": [
    {
     "data": {
      "text/html": [
       "<pre style=\"white-space:pre;overflow-x:auto;line-height:normal;font-family:Menlo,'DejaVu Sans Mono',consolas,'Courier New',monospace\">╭──────────────────────────────────────────────── Category: World ────────────────────────────────────────────────╮\n",
       "│ Bangladesh paralysed by strikes Opposition activists have brought many towns and cities in Bangladesh to a      │\n",
       "│ halt, the day after 18 people died in explosions at a political rally.                                          │\n",
       "╰─────────────────────────────────────────────────────────────────────────────────────────────────────────────────╯\n",
       "</pre>\n"
      ],
      "text/plain": [
       "╭──────────────────────────────────────────────── Category: World ────────────────────────────────────────────────╮\n",
       "│ Bangladesh paralysed by strikes Opposition activists have brought many towns and cities in Bangladesh to a      │\n",
       "│ halt, the day after 18 people died in explosions at a political rally.                                          │\n",
       "╰─────────────────────────────────────────────────────────────────────────────────────────────────────────────────╯\n"
      ]
     },
     "metadata": {},
     "output_type": "display_data"
    },
    {
     "data": {
      "text/html": [
       "<pre style=\"white-space:pre;overflow-x:auto;line-height:normal;font-family:Menlo,'DejaVu Sans Mono',consolas,'Courier New',monospace\">╭─────────────────────────────────────────────── Category: Sports ────────────────────────────────────────────────╮\n",
       "│ Desiring Stability Redskins coach Joe Gibbs expects few major personnel changes in the offseason and wants to   │\n",
       "│ instill a culture of stability in Washington.                                                                   │\n",
       "╰─────────────────────────────────────────────────────────────────────────────────────────────────────────────────╯\n",
       "</pre>\n"
      ],
      "text/plain": [
       "╭─────────────────────────────────────────────── Category: Sports ────────────────────────────────────────────────╮\n",
       "│ Desiring Stability Redskins coach Joe Gibbs expects few major personnel changes in the offseason and wants to   │\n",
       "│ instill a culture of stability in Washington.                                                                   │\n",
       "╰─────────────────────────────────────────────────────────────────────────────────────────────────────────────────╯\n"
      ]
     },
     "metadata": {},
     "output_type": "display_data"
    },
    {
     "data": {
      "text/html": [
       "<pre style=\"white-space:pre;overflow-x:auto;line-height:normal;font-family:Menlo,'DejaVu Sans Mono',consolas,'Courier New',monospace\">╭────────────────────────────────────────────── Category: Sci/Tech ───────────────────────────────────────────────╮\n",
       "│ U2 pitches for Apple New iTunes ads airing during baseball games Tuesday will feature the advertising-shy Irish │\n",
       "│ rockers.                                                                                                        │\n",
       "╰─────────────────────────────────────────────────────────────────────────────────────────────────────────────────╯\n",
       "</pre>\n"
      ],
      "text/plain": [
       "╭────────────────────────────────────────────── Category: Sci/Tech ───────────────────────────────────────────────╮\n",
       "│ U2 pitches for Apple New iTunes ads airing during baseball games Tuesday will feature the advertising-shy Irish │\n",
       "│ rockers.                                                                                                        │\n",
       "╰─────────────────────────────────────────────────────────────────────────────────────────────────────────────────╯\n"
      ]
     },
     "metadata": {},
     "output_type": "display_data"
    },
    {
     "data": {
      "text/html": [
       "<pre style=\"white-space:pre;overflow-x:auto;line-height:normal;font-family:Menlo,'DejaVu Sans Mono',consolas,'Courier New',monospace\">╭────────────────────────────────────────────── Category: Business ───────────────────────────────────────────────╮\n",
       "│ Economy builds steam in KC Fed district The economy continued to strengthen in September and early October in   │\n",
       "│ the Great Plains and Rocky Mountain regions covered by the Tenth Federal Reserve District, the Federal Reserve  │\n",
       "│ Bank of Kansas City said Wednesday.                                                                             │\n",
       "╰─────────────────────────────────────────────────────────────────────────────────────────────────────────────────╯\n",
       "</pre>\n"
      ],
      "text/plain": [
       "╭────────────────────────────────────────────── Category: Business ───────────────────────────────────────────────╮\n",
       "│ Economy builds steam in KC Fed district The economy continued to strengthen in September and early October in   │\n",
       "│ the Great Plains and Rocky Mountain regions covered by the Tenth Federal Reserve District, the Federal Reserve  │\n",
       "│ Bank of Kansas City said Wednesday.                                                                             │\n",
       "╰─────────────────────────────────────────────────────────────────────────────────────────────────────────────────╯\n"
      ]
     },
     "metadata": {},
     "output_type": "display_data"
    }
   ],
   "source": [
    "# Group examples by category\n",
    "examples_by_category = {}\n",
    "for item in train_data:\n",
    "    category = item['category']\n",
    "    if category not in examples_by_category:\n",
    "        examples_by_category[category] = []\n",
    "    examples_by_category[category].append(item['text'])\n",
    "\n",
    "# Print one example from each category in a panel\n",
    "for category, examples in examples_by_category.items():\n",
    "    print(Panel(examples[0], title=f\"Category: {category}\", expand=False))\n"
   ]
  },
  {
   "cell_type": "markdown",
   "metadata": {},
   "source": [
    "## Simple Data Annotation Pipeline\n",
    "\n",
    "In this section, we’ll create our **first working pipeline** to perform annotation using a language model. The goal is to simulate how the model can annotate raw user queries with topic labels using a minimal configuration.\n",
    "\n",
    "### Recap: How  Pipelines Work\n",
    "\n",
    "```mermaid\n",
    "flowchart LR\n",
    "    A[Flows] --> B[Blocks] --> C[Prompts]\n",
    "    C --> D[Synthetic Data!]\n",
    "```"
   ]
  },
  {
   "cell_type": "markdown",
   "metadata": {},
   "source": [
    "### Flow\n",
    "\n",
    "Below is a minimal flow that uses a single LLMBlock to annotate raw questions. We’re using guided decoding with a fixed label set to keep model outputs controlled and consistent.\n",
    "\n",
    "```yaml\n",
    "- block_type: LLMBlock\n",
    "  block_config:\n",
    "    block_name: simple_annotation\n",
    "    config_path: ../prompts/simple_annotation.yaml\n",
    "    model_id: meta-llama/Llama-3.3-70B-Instruct\n",
    "    output_cols:\n",
    "      - output\n",
    "  gen_kwargs:\n",
    "    temperature: 0\n",
    "    max_tokens: 5\n",
    "    extra_body:\n",
    "      guided_choice:\n",
    "        - World\n",
    "        - Sports\n",
    "        - Business\n",
    "        - Sci/Tech\n",
    "```\n",
    "\n",
    "### Prompt\n",
    "\n",
    "This prompt teaches the model to take in a freeform query and return a single topic label. Since we’re using guided decoding, we’re keeping the format minimal and relying on constrained sampling to enforce label consistency.\n",
    "\n",
    "```yaml\n",
    "system: null\n",
    "introduction: \"Task Description: Data Annotation\"\n",
    "principles: null\n",
    "examples: null\n",
    "generation: |\n",
    "  Here is the query for annotation:\n",
    "  {{text}}\n",
    "start_tags: [\"\"]\n",
    "end_tags: [\"\"]\n",
    "```\n",
    "\n",
    "This prompt passes the raw text to the model with minimal guidance — think of it as a baseline to test how much the model already understands the task when constrained to a limited label set.\n",
    "\n",
    "### What This Does\n",
    "* Loads a batch of input text (e.g., Yahoo Answers questions)\n",
    "* Passes each query into the prompt under the {{text}} template\n",
    "* Uses guided decoding (via xgrammar) to force the output to be one of the specified topic labels\n",
    "* Outputs predictions in the output column\n",
    "\n",
    "This is the simplest version of an annotation pipeline — no examples, no complex prompting — just a structured flow powered by modular blocks.\n",
    "\n",
    "Let's test it out!"
   ]
  },
  {
   "cell_type": "code",
   "execution_count": null,
   "metadata": {},
   "outputs": [],
   "source": [
    "openai_api_key = \"EMPTY\" # replace with your inference server api key\n",
    "openai_api_base = \"http://0.0.0.0:8000/v1\" # replace with your inference server endpoint\n",
    "\n",
    "\n",
    "client = OpenAI(\n",
    "    api_key=openai_api_key,\n",
    "    base_url=openai_api_base,\n",
    ")\n",
    "\n",
    "models = client.models.list()\n",
    "teacher_model = models.data[0].id\n",
    "\n",
    "# Test the connection with a simple completion\n",
    "response = client.chat.completions.create(\n",
    "    model=teacher_model,\n",
    "    messages=[{\"role\": \"user\", \"content\": \"Hello!\"}],\n",
    "    temperature=0.0,\n",
    "    max_tokens=10\n",
    ")\n",
    "completion = response.choices[0].message.content\n",
    "\n",
    "print(f\"Connection successful! {teacher_model}: {completion}\")"
   ]
  },
  {
   "cell_type": "markdown",
   "metadata": {},
   "source": [
    "### Run the Simple Annotation Pipeline"
   ]
  },
  {
   "cell_type": "code",
   "execution_count": 27,
   "metadata": {},
   "outputs": [],
   "source": [
    "# Load the flow\n",
    "flow = Flow(client).get_flow_from_file(\"flows/simple_annotation.yaml\")\n",
    "\n",
    "# Initialize the synthetic data generator\n",
    "simple_annotation_generator = SDG(\n",
    "    flows=[flow],\n",
    ")"
   ]
  },
  {
   "cell_type": "code",
   "execution_count": null,
   "metadata": {},
   "outputs": [],
   "source": [
    "generated_data = simple_annotation_generator.generate(test_data)"
   ]
  },
  {
   "cell_type": "markdown",
   "metadata": {},
   "source": [
    "### Evaluation\n",
    "\n",
    "Now that we’ve generated synthetic topic labels using our annotation pipeline, it’s time to evaluate how well the model performed. The goal is to compare the predicted labels against the **true labels** from the Yahoo Answers dataset using standard classification metrics.\n",
    "\n",
    "We’ll use `sklearn.metrics.classification_report`, which provides precision, recall, F1-score, and support for each class.\n"
   ]
  },
  {
   "cell_type": "code",
   "execution_count": 29,
   "metadata": {},
   "outputs": [
    {
     "data": {
      "text/html": [
       "<pre style=\"white-space:pre;overflow-x:auto;line-height:normal;font-family:Menlo,'DejaVu Sans Mono',consolas,'Courier New',monospace\">              precision    recall  f1-score   support\n",
       "\n",
       "    Business       <span style=\"color: #008080; text-decoration-color: #008080; font-weight: bold\">0.59</span>      <span style=\"color: #008080; text-decoration-color: #008080; font-weight: bold\">0.72</span>      <span style=\"color: #008080; text-decoration-color: #008080; font-weight: bold\">0.65</span>        <span style=\"color: #008080; text-decoration-color: #008080; font-weight: bold\">32</span>\n",
       "    Sci/Tech       <span style=\"color: #008080; text-decoration-color: #008080; font-weight: bold\">1.00</span>      <span style=\"color: #008080; text-decoration-color: #008080; font-weight: bold\">0.05</span>      <span style=\"color: #008080; text-decoration-color: #008080; font-weight: bold\">0.10</span>        <span style=\"color: #008080; text-decoration-color: #008080; font-weight: bold\">19</span>\n",
       "      Sports       <span style=\"color: #008080; text-decoration-color: #008080; font-weight: bold\">0.62</span>      <span style=\"color: #008080; text-decoration-color: #008080; font-weight: bold\">0.93</span>      <span style=\"color: #008080; text-decoration-color: #008080; font-weight: bold\">0.75</span>        <span style=\"color: #008080; text-decoration-color: #008080; font-weight: bold\">27</span>\n",
       "       World       <span style=\"color: #008080; text-decoration-color: #008080; font-weight: bold\">0.40</span>      <span style=\"color: #008080; text-decoration-color: #008080; font-weight: bold\">0.36</span>      <span style=\"color: #008080; text-decoration-color: #008080; font-weight: bold\">0.38</span>        <span style=\"color: #008080; text-decoration-color: #008080; font-weight: bold\">22</span>\n",
       "\n",
       "    accuracy                           <span style=\"color: #008080; text-decoration-color: #008080; font-weight: bold\">0.57</span>       <span style=\"color: #008080; text-decoration-color: #008080; font-weight: bold\">100</span>\n",
       "   macro avg       <span style=\"color: #008080; text-decoration-color: #008080; font-weight: bold\">0.65</span>      <span style=\"color: #008080; text-decoration-color: #008080; font-weight: bold\">0.52</span>      <span style=\"color: #008080; text-decoration-color: #008080; font-weight: bold\">0.47</span>       <span style=\"color: #008080; text-decoration-color: #008080; font-weight: bold\">100</span>\n",
       "weighted avg       <span style=\"color: #008080; text-decoration-color: #008080; font-weight: bold\">0.64</span>      <span style=\"color: #008080; text-decoration-color: #008080; font-weight: bold\">0.57</span>      <span style=\"color: #008080; text-decoration-color: #008080; font-weight: bold\">0.51</span>       <span style=\"color: #008080; text-decoration-color: #008080; font-weight: bold\">100</span>\n",
       "\n",
       "</pre>\n"
      ],
      "text/plain": [
       "              precision    recall  f1-score   support\n",
       "\n",
       "    Business       \u001b[1;36m0.59\u001b[0m      \u001b[1;36m0.72\u001b[0m      \u001b[1;36m0.65\u001b[0m        \u001b[1;36m32\u001b[0m\n",
       "    Sci/Tech       \u001b[1;36m1.00\u001b[0m      \u001b[1;36m0.05\u001b[0m      \u001b[1;36m0.10\u001b[0m        \u001b[1;36m19\u001b[0m\n",
       "      Sports       \u001b[1;36m0.62\u001b[0m      \u001b[1;36m0.93\u001b[0m      \u001b[1;36m0.75\u001b[0m        \u001b[1;36m27\u001b[0m\n",
       "       World       \u001b[1;36m0.40\u001b[0m      \u001b[1;36m0.36\u001b[0m      \u001b[1;36m0.38\u001b[0m        \u001b[1;36m22\u001b[0m\n",
       "\n",
       "    accuracy                           \u001b[1;36m0.57\u001b[0m       \u001b[1;36m100\u001b[0m\n",
       "   macro avg       \u001b[1;36m0.65\u001b[0m      \u001b[1;36m0.52\u001b[0m      \u001b[1;36m0.47\u001b[0m       \u001b[1;36m100\u001b[0m\n",
       "weighted avg       \u001b[1;36m0.64\u001b[0m      \u001b[1;36m0.57\u001b[0m      \u001b[1;36m0.51\u001b[0m       \u001b[1;36m100\u001b[0m\n",
       "\n"
      ]
     },
     "metadata": {},
     "output_type": "display_data"
    }
   ],
   "source": [
    "print(classification_report(generated_data[\"category\"], generated_data[\"output\"]))"
   ]
  },
  {
   "cell_type": "markdown",
   "metadata": {},
   "source": [
    "## Improving Results with Examples and Custom Prompts\n",
    "\n",
    "Our initial pipeline used a **zero-shot approach** — the model was given the task, a fixed label set, and some input text, but **no examples of how to perform the task**. While this baseline gives us a useful starting point, it has clear limitations:\n",
    "\n",
    "- The model may rely on generic heuristics or surface patterns that don’t generalize well.\n",
    "- It can confuse similar categories (e.g., \"World\" vs. \"Business\") without knowing how they're typically used.\n",
    "- Without guidance, the model may underperform on edge cases or ambiguous queries.\n",
    "\n",
    "\n",
    "### Why Examples Matter\n",
    "\n",
    "In-context examples act as **training demonstrations** — they teach the model how to think, how to respond, and how to structure its output.\n",
    "\n",
    "With even a few high-quality seed examples, we can:\n",
    "- **Disambiguate confusing labels** by showing contrasting cases\n",
    "- **Guide tone and formatting**, especially for structured tasks\n",
    "- **Bias the model toward higher precision** by anchoring it to gold examples\n",
    "\n",
    "Think of examples as the foundation for aligning the model to your task — they provide **task intent**, **style**, and **semantic anchors** for generation.\n",
    "\n",
    "\n",
    "### What We’ll Do Next\n",
    "\n",
    "We’ll now enhance our prompt by adding **4 examples** that cover a variety of labels from the Yahoo dataset. These examples will be inserted into the prompt file used by the `LLMBlock`.\n",
    "\n",
    "You’ll then rerun the same pipeline and compare the results — and see how a few carefully chosen examples can dramatically improve both **accuracy** and **label consistency**.\n",
    "\n",
    "\n",
    "```yaml\n",
    "system: You are an expert text classifier trained to label questions from online forums. \n",
    "introduction: \"Task Description: You will be given a text and you need to annotate it with one of the following categories: World, Sports, Business, Sci/Tech, Economy\"\n",
    "principles: |\n",
    "  Please follow these rules when performing the classification:\n",
    "  - Focus on the main topic, not peripheral mentions\n",
    "  - Choose the most specific applicable category\n",
    "  - Only choose category label per question\n",
    "examples: |\n",
    "  Text: Bangladesh paralysed by strikes Opposition activists have brought many towns and cities in Bangladesh to a halt, the day after 18 people died in explosions at a political rally.\n",
    "  Category: World\n",
    "\n",
    "  Text: Desiring Stability Redskins coach Joe Gibbs expects few major personnel changes in the offseason and wants to instill a culture of stability in Washington.\n",
    "  Category: Sports\n",
    "\n",
    "  Text: A Cosmic Storm: When Galaxy Clusters Collide Astronomers have found what they are calling the perfect cosmic storm, a galaxy cluster pile-up so powerful its energy output is second only to the Big Bang.\n",
    "  Category: Sci/Tech\n",
    "\n",
    "  Text: Economy builds steam in KC Fed district The economy continued to strengthen in September and early October in the Great Plains and Rocky Mountain regions covered by the Tenth Federal Reserve District, the Federal Reserve Bank of Kansas City said Wednesday.\n",
    "  Category: Economy\n",
    "\n",
    "generation: |\n",
    "  Here is the query for annotation:\n",
    "  \n",
    "  Text: {{text}}\n",
    "  Category: \n",
    "  \n",
    "start_tags: [\"\"]\n",
    "end_tags: [\"\"]\n",
    "```\n",
    "\n",
    "### Run the Pipeline with Examples and Custom Prompts"
   ]
  },
  {
   "cell_type": "code",
   "execution_count": 30,
   "metadata": {},
   "outputs": [],
   "source": [
    "# Load the flow\n",
    "flow = Flow(client).get_flow_from_file(\"flows/detailed_annotation.yaml\")\n",
    "\n",
    "# Initialize the synthetic data generator\n",
    "detailed_annotation_generator = SDG( \n",
    "    flows=[flow],\n",
    ")"
   ]
  },
  {
   "cell_type": "code",
   "execution_count": null,
   "metadata": {},
   "outputs": [],
   "source": [
    "generated_data = detailed_annotation_generator.generate(test_data)"
   ]
  },
  {
   "cell_type": "markdown",
   "metadata": {},
   "source": [
    "### Evaluation"
   ]
  },
  {
   "cell_type": "code",
   "execution_count": 32,
   "metadata": {},
   "outputs": [
    {
     "data": {
      "text/html": [
       "<pre style=\"white-space:pre;overflow-x:auto;line-height:normal;font-family:Menlo,'DejaVu Sans Mono',consolas,'Courier New',monospace\">              precision    recall  f1-score   support\n",
       "\n",
       "    Business       <span style=\"color: #008080; text-decoration-color: #008080; font-weight: bold\">0.76</span>      <span style=\"color: #008080; text-decoration-color: #008080; font-weight: bold\">0.81</span>      <span style=\"color: #008080; text-decoration-color: #008080; font-weight: bold\">0.79</span>        <span style=\"color: #008080; text-decoration-color: #008080; font-weight: bold\">32</span>\n",
       "    Sci/Tech       <span style=\"color: #008080; text-decoration-color: #008080; font-weight: bold\">0.67</span>      <span style=\"color: #008080; text-decoration-color: #008080; font-weight: bold\">0.74</span>      <span style=\"color: #008080; text-decoration-color: #008080; font-weight: bold\">0.70</span>        <span style=\"color: #008080; text-decoration-color: #008080; font-weight: bold\">19</span>\n",
       "      Sports       <span style=\"color: #008080; text-decoration-color: #008080; font-weight: bold\">0.90</span>      <span style=\"color: #008080; text-decoration-color: #008080; font-weight: bold\">1.00</span>      <span style=\"color: #008080; text-decoration-color: #008080; font-weight: bold\">0.95</span>        <span style=\"color: #008080; text-decoration-color: #008080; font-weight: bold\">27</span>\n",
       "       World       <span style=\"color: #008080; text-decoration-color: #008080; font-weight: bold\">1.00</span>      <span style=\"color: #008080; text-decoration-color: #008080; font-weight: bold\">0.68</span>      <span style=\"color: #008080; text-decoration-color: #008080; font-weight: bold\">0.81</span>        <span style=\"color: #008080; text-decoration-color: #008080; font-weight: bold\">22</span>\n",
       "\n",
       "    accuracy                           <span style=\"color: #008080; text-decoration-color: #008080; font-weight: bold\">0.82</span>       <span style=\"color: #008080; text-decoration-color: #008080; font-weight: bold\">100</span>\n",
       "   macro avg       <span style=\"color: #008080; text-decoration-color: #008080; font-weight: bold\">0.83</span>      <span style=\"color: #008080; text-decoration-color: #008080; font-weight: bold\">0.81</span>      <span style=\"color: #008080; text-decoration-color: #008080; font-weight: bold\">0.81</span>       <span style=\"color: #008080; text-decoration-color: #008080; font-weight: bold\">100</span>\n",
       "weighted avg       <span style=\"color: #008080; text-decoration-color: #008080; font-weight: bold\">0.83</span>      <span style=\"color: #008080; text-decoration-color: #008080; font-weight: bold\">0.82</span>      <span style=\"color: #008080; text-decoration-color: #008080; font-weight: bold\">0.82</span>       <span style=\"color: #008080; text-decoration-color: #008080; font-weight: bold\">100</span>\n",
       "\n",
       "</pre>\n"
      ],
      "text/plain": [
       "              precision    recall  f1-score   support\n",
       "\n",
       "    Business       \u001b[1;36m0.76\u001b[0m      \u001b[1;36m0.81\u001b[0m      \u001b[1;36m0.79\u001b[0m        \u001b[1;36m32\u001b[0m\n",
       "    Sci/Tech       \u001b[1;36m0.67\u001b[0m      \u001b[1;36m0.74\u001b[0m      \u001b[1;36m0.70\u001b[0m        \u001b[1;36m19\u001b[0m\n",
       "      Sports       \u001b[1;36m0.90\u001b[0m      \u001b[1;36m1.00\u001b[0m      \u001b[1;36m0.95\u001b[0m        \u001b[1;36m27\u001b[0m\n",
       "       World       \u001b[1;36m1.00\u001b[0m      \u001b[1;36m0.68\u001b[0m      \u001b[1;36m0.81\u001b[0m        \u001b[1;36m22\u001b[0m\n",
       "\n",
       "    accuracy                           \u001b[1;36m0.82\u001b[0m       \u001b[1;36m100\u001b[0m\n",
       "   macro avg       \u001b[1;36m0.83\u001b[0m      \u001b[1;36m0.81\u001b[0m      \u001b[1;36m0.81\u001b[0m       \u001b[1;36m100\u001b[0m\n",
       "weighted avg       \u001b[1;36m0.83\u001b[0m      \u001b[1;36m0.82\u001b[0m      \u001b[1;36m0.82\u001b[0m       \u001b[1;36m100\u001b[0m\n",
       "\n"
      ]
     },
     "metadata": {},
     "output_type": "display_data"
    }
   ],
   "source": [
    "print(classification_report(generated_data[\"category\"], generated_data[\"output\"]))"
   ]
  },
  {
   "cell_type": "markdown",
   "metadata": {},
   "source": [
    "## ✅ Summary: What You’ve Learned\n",
    "\n",
    "In this tutorial, you built a complete data annotation pipeline — starting from scratch and evolving into a robust, high-accuracy system. Along the way, you explored the core principles of skill-building with large language models.\n",
    "\n",
    "### 🚀 What’s Next?\n",
    "\n",
    "* Extend the pipeline further! - Add an evaluation step\n",
    "* Try it out on your own data!"
   ]
  }
 ],
 "metadata": {
  "kernelspec": {
   "display_name": "ilsdg",
   "language": "python",
   "name": "python3"
  },
  "language_info": {
   "codemirror_mode": {
    "name": "ipython",
    "version": 3
   },
   "file_extension": ".py",
   "mimetype": "text/x-python",
   "name": "python",
   "nbconvert_exporter": "python",
   "pygments_lexer": "ipython3",
   "version": "3.11.12"
  }
 },
 "nbformat": 4,
 "nbformat_minor": 2
}
