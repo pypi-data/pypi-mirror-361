{
 "cells": [
  {
   "cell_type": "code",
   "execution_count": 1,
   "id": "bc4b0309",
   "metadata": {},
   "outputs": [],
   "source": [
    "import logging\n",
    "import warnings\n",
    "import os\n",
    "import sys\n",
    "import polars as pl\n",
    "module_path = os.path.abspath(os.path.join('..'))\n",
    "if module_path not in sys.path:\n",
    "    sys.path.append(module_path)\n",
    "\n",
    "warnings.filterwarnings(\"ignore\")\n",
    "\n",
    "logging.basicConfig(stream=sys.stdout, level=logging.INFO)"
   ]
  },
  {
   "cell_type": "code",
   "execution_count": 2,
   "id": "2e66f244",
   "metadata": {},
   "outputs": [
    {
     "data": {
      "text/plain": [
       "{'ASAM.C.AXIS_PTS.UBYTE_8': <src.pyaecal.axis.Axis at 0x76ec91294440>,\n",
       " 'ASAM.C.CURVE.COM_AXIS': <src.pyaecal.curve.Curve at 0x76ec91294590>,\n",
       " 'ASAM.C.CURVE.COM_AXIS_2': <src.pyaecal.curve.Curve at 0x76ec915016d0>,\n",
       " 'ASAM.C.CURVE.FIX_AXIS.PAR': <src.pyaecal.curve.Curve at 0x76ec91501f90>,\n",
       " 'ASAM.C.CURVE.FIX_AXIS.PAR_DIST': <src.pyaecal.curve.Curve at 0x76ec914de8b0>,\n",
       " 'ASAM.C.CURVE.FIX_AXIS.PAR_LIST': <src.pyaecal.curve.Curve at 0x76ec914dec40>,\n",
       " 'ASAM.C.DEPENDENT.CURVE_4': <src.pyaecal.curve.Curve at 0x76ece65d8a70>,\n",
       " 'ASAM.C.DEPENDENT.MAP_4': <src.pyaecal.map.Map at 0x76ec912946e0>,\n",
       " 'ASAM.C.MAP.COM_AXIS.FIX_AXIS': <src.pyaecal.map.Map at 0x76ec91502210>,\n",
       " 'ASAM.C.MAP.COM_AXIS.FIX_AXIS_2': <src.pyaecal.map.Map at 0x76ec91502350>,\n",
       " 'ASAM.C.SCALAR.FLOAT32.IDENTICAL.TRANSFORMER_BLOB_OUT_1': 1.0,\n",
       " 'ASAM.C.SCALAR.FLOAT32.IDENTICAL.TRANSFORMER_BLOB_OUT_2': 2.0,\n",
       " 'ASAM.C.SCALAR.FLOAT32.IDENTICAL.TRANSFORMER_BLOB_OUT_3': 3.0,\n",
       " 'ASAM.C.SCALAR.FLOAT32.IDENTICAL.TRANSFORMER_BLOB_OUT_4': 562.0,\n",
       " 'ASAM.C.SCALAR.FLOAT32.IDENTICAL.TRANSFORMER_IN_1': 132.0,\n",
       " 'ASAM.C.SCALAR.FLOAT32.IDENTICAL.TRANSFORMER_IN_2': 690.0,\n",
       " 'ASAM.C.SCALAR.FLOAT32.IDENTICAL.TRANSFORMER_IN_3': 110.0,\n",
       " 'ASAM.C.SCALAR.FLOAT32.IDENTICAL.TRANSFORMER_OUT_1': 66.0,\n",
       " 'ASAM.C.SCALAR.FLOAT32.IDENTICAL.TRANSFORMER_OUT_2': 345.0,\n",
       " 'ASAM.C.SCALAR.FLOAT32.IDENTICAL.TRANSFORMER_OUT_3': 55.0,\n",
       " 'ASAM.C.SCALAR.FLOAT32_IEEE.IDENTICAL': 33.0,\n",
       " 'ASAM.C.SCALAR.FLOAT64_IEEE.IDENTICAL': -3.0,\n",
       " 'ASAM.C.SCALAR.SBYTE.IDENTICAL': 6.0,\n",
       " 'ASAM.C.SCALAR.SLONG.IDENTICAL': 86.0,\n",
       " 'ASAM.C.SCALAR.SWORD.FORM_X_PLUS_4': 6.0,\n",
       " 'ASAM.C.SCALAR.SWORD.IDENTICAL': 2.0,\n",
       " 'ASAM.C.SCALAR.SWORD.LINEAR_MUL_2': 4.0,\n",
       " 'ASAM.C.SCALAR.SWORD.RAT_FUNC_DIV_10': 0.2,\n",
       " 'ASAM.C.SCALAR.SWORD.RAT_FUNC_DIV_81_9175': 0.0244,\n",
       " 'ASAM.C.SCALAR.SWORD.TAB_INTP_DEFAULT_VALUE': 102.0,\n",
       " 'ASAM.C.SCALAR.SWORD.TAB_INTP_NO_DEFAULT_VALUE': 102.0,\n",
       " 'ASAM.C.SCALAR.SWORD.TAB_NOINTP_DEFAULT_VALUE': 102.0,\n",
       " 'ASAM.C.SCALAR.SWORD.TAB_NOINTP_NO_DEFAULT_VALUE': 102.0,\n",
       " 'ASAM.C.SCALAR.SWORD.TAB_VERB_DEFAULT_VALUE': 'Square',\n",
       " 'ASAM.C.SCALAR.SWORD.TAB_VERB_NO_DEFAULT_VALUE': 'red',\n",
       " 'ASAM.C.SCALAR.SWORD.VTAB_RANGE_DEFAULT_VALUE': 'two_to_three',\n",
       " 'ASAM.C.SCALAR.SWORD.VTAB_RANGE_NO_DEFAULT_VALUE': 'two_to_three',\n",
       " 'ASAM.C.SCALAR.UBYTE.IDENTICAL': 20.0,\n",
       " 'ASAM.C.SCALAR.UINT16.IDENTICAL.TRANSFORMER_BLOB_IN_WAITTIME': 10.0,\n",
       " 'ASAM.C.SCALAR.UINT16.IDENTICAL.TRANSFORMER_BLOB_IN_WAITTIME_REVERSE': 20.0,\n",
       " 'ASAM.C.SCALAR.UINT16.IDENTICAL.TRANSFORMER_BLOB_OUT_WAITTIME': 10.0,\n",
       " 'ASAM.C.SCALAR.UINT16.IDENTICAL.TRANSFORMER_BLOB_OUT_WAITTIME_REVERSE': 20.0,\n",
       " 'ASAM.C.SCALAR.UINT16.IDENTICAL.TRANSFORMER_IN_WAITTIME': 8.0,\n",
       " 'ASAM.C.SCALAR.UINT16.IDENTICAL.TRANSFORMER_IN_WAITTIME_REVERSE': 2.0,\n",
       " 'ASAM.C.SCALAR.UINT16.IDENTICAL.TRANSFORMER_OUT_WAITTIME': 100.0,\n",
       " 'ASAM.C.SCALAR.UINT16.IDENTICAL.TRANSFORMER_OUT_WAITTIME_REVERSE': 1.0,\n",
       " 'ASAM.C.SCALAR.ULONG.IDENTICAL': 17.0,\n",
       " 'ASAM.C.SCALAR.UWORD.IDENTICAL': 383.0,\n",
       " 'ASAM.C.SCALAR.UWORD.IDENTICAL.BITMASK_0FF0': 23.0}"
      ]
     },
     "execution_count": 2,
     "metadata": {},
     "output_type": "execute_result"
    }
   ],
   "source": [
    "from src.pyaecal.cdf import CDF\n",
    "cdf=CDF(\"./data/ASAP2_Demo_V171.CDFX\")\n",
    "cdf.parse()"
   ]
  },
  {
   "cell_type": "code",
   "execution_count": 3,
   "id": "778b2c57",
   "metadata": {},
   "outputs": [],
   "source": [
    "from src.pyaecal.dcm import DCM\n",
    "dcm=DCM('dcm.dcm')"
   ]
  },
  {
   "cell_type": "code",
   "execution_count": 4,
   "id": "a6bc060b",
   "metadata": {},
   "outputs": [],
   "source": [
    "dcm.params = cdf.params"
   ]
  },
  {
   "cell_type": "code",
   "execution_count": 5,
   "id": "d5b33f69",
   "metadata": {},
   "outputs": [],
   "source": [
    "dcm.generate()"
   ]
  }
 ],
 "metadata": {
  "kernelspec": {
   "display_name": ".venv",
   "language": "python",
   "name": "python3"
  },
  "language_info": {
   "codemirror_mode": {
    "name": "ipython",
    "version": 3
   },
   "file_extension": ".py",
   "mimetype": "text/x-python",
   "name": "python",
   "nbconvert_exporter": "python",
   "pygments_lexer": "ipython3",
   "version": "3.13.3"
  }
 },
 "nbformat": 4,
 "nbformat_minor": 5
}
