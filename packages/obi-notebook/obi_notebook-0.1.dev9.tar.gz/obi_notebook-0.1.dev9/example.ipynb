{
 "cells": [
  {
   "cell_type": "code",
   "execution_count": 1,
   "id": "7eb47475-67c6-499a-a2b4-19f8a64974d0",
   "metadata": {},
   "outputs": [],
   "source": [
    "import obi_auth\n",
    "from obi_notebook import get_projects, get_entities"
   ]
  },
  {
   "cell_type": "markdown",
   "id": "4d984b92-cadd-4b07-9813-b2333272610f",
   "metadata": {},
   "source": [
    "get authentication token for production"
   ]
  },
  {
   "cell_type": "code",
   "execution_count": 2,
   "id": "323cb45c-91e3-451f-8a80-374e61433d31",
   "metadata": {},
   "outputs": [],
   "source": [
    "token = obi_auth.get_token(environment=\"production\")"
   ]
  },
  {
   "cell_type": "markdown",
   "id": "b60e8643-3ad5-4619-a052-5bd8b64713fd",
   "metadata": {},
   "source": [
    "a widget to select project to use"
   ]
  },
  {
   "cell_type": "code",
   "execution_count": 3,
   "id": "77c47560-1163-4466-83fc-43abc6e0801a",
   "metadata": {},
   "outputs": [
    {
     "data": {
      "application/vnd.jupyter.widget-view+json": {
       "model_id": "cc2954a000034b5db323c3c5bb43a985",
       "version_major": 2,
       "version_minor": 0
      },
      "text/plain": [
       "Dropdown(description='Select:', options=(('Understanding connectivity', {'id': 'fe443f04-2d56-4c51-8347-8ca5f3…"
      ]
     },
     "metadata": {},
     "output_type": "display_data"
    }
   ],
   "source": [
    "project_context = get_projects.get_projects(token)"
   ]
  },
  {
   "cell_type": "code",
   "execution_count": 4,
   "id": "d538dcac-1bdc-496b-8840-a7b32ea842ed",
   "metadata": {},
   "outputs": [
    {
     "data": {
      "text/plain": [
       "ProjectContext(project_id=UUID('fe443f04-2d56-4c51-8347-8ca5f3a97ee6'), virtual_lab_id=UUID('cee1a37f-fe43-4589-9197-c46746aff976'), environment=<DeploymentEnvironment.production: 'production'>)"
      ]
     },
     "execution_count": 4,
     "metadata": {},
     "output_type": "execute_result"
    }
   ],
   "source": [
    "project_context"
   ]
  },
  {
   "cell_type": "code",
   "execution_count": 8,
   "id": "93029f77-d71f-40f4-8c4d-9f23d2b650bc",
   "metadata": {},
   "outputs": [
    {
     "data": {
      "application/vnd.jupyter.widget-view+json": {
       "model_id": "371c88af967a42a984fdf8fbf362660f",
       "version_major": 2,
       "version_minor": 0
      },
      "text/plain": [
       "HBox(children=(Dropdown(description='Scale:', options=('single', 'pair', 'small', 'microcircuit', 'region', 's…"
      ]
     },
     "metadata": {},
     "output_type": "display_data"
    },
    {
     "data": {
      "application/vnd.jupyter.widget-view+json": {
       "model_id": "3d13a11549b84a3193044113977ba95b",
       "version_major": 2,
       "version_minor": 0
      },
      "text/plain": [
       "Output()"
      ]
     },
     "metadata": {},
     "output_type": "display_data"
    }
   ],
   "source": [
    "circuit_ids = []\n",
    "circuit_ids = get_entities.get_entities(\"circuit\", token, circuit_ids,)"
   ]
  },
  {
   "cell_type": "code",
   "execution_count": 9,
   "id": "da699ed4-39fd-4602-b54d-58a0b58c2539",
   "metadata": {},
   "outputs": [
    {
     "data": {
      "text/plain": [
       "['1be432a7-c7fa-422b-bb47-8b189ede363e',\n",
       " 'bf3a620d-5a36-401b-97ac-d27cde014039',\n",
       " 'b907f9a6-04e3-4a51-85f6-25ace2c816dc',\n",
       " 'ba297b44-9340-4646-8684-01ce31ed33f5',\n",
       " '8176966b-cce1-45ef-9642-e87c4436ee7d',\n",
       " 'f5e228e7-1c2b-4fa9-89ae-97026c97f83e']"
      ]
     },
     "execution_count": 9,
     "metadata": {},
     "output_type": "execute_result"
    }
   ],
   "source": [
    "circuit_ids"
   ]
  },
  {
   "cell_type": "code",
   "execution_count": null,
   "id": "b6b9479f-60b8-4fa1-bd0d-8dbbda0909b8",
   "metadata": {},
   "outputs": [],
   "source": []
  }
 ],
 "metadata": {
  "kernelspec": {
   "display_name": "Python (myenv)",
   "language": "python",
   "name": "obi-notebook"
  },
  "language_info": {
   "codemirror_mode": {
    "name": "ipython",
    "version": 3
   },
   "file_extension": ".py",
   "mimetype": "text/x-python",
   "name": "python",
   "nbconvert_exporter": "python",
   "pygments_lexer": "ipython3",
   "version": "3.12.8"
  }
 },
 "nbformat": 4,
 "nbformat_minor": 5
}
