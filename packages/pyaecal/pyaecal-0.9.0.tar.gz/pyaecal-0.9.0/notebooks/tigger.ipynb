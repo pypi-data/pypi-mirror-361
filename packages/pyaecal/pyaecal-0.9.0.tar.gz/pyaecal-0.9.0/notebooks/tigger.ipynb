{
 "cells": [
  {
   "cell_type": "code",
   "execution_count": 1,
   "id": "f2c1bce9",
   "metadata": {},
   "outputs": [],
   "source": [
    "import logging\n",
    "import warnings\n",
    "import os\n",
    "import sys\n",
    "module_path = os.path.abspath(os.path.join('..'))\n",
    "if module_path not in sys.path:\n",
    "    sys.path.append(module_path)\n",
    "\n",
    "warnings.filterwarnings(\"ignore\")\n",
    "\n",
    "logging.basicConfig(stream=sys.stdout, level=logging.INFO)"
   ]
  },
  {
   "cell_type": "code",
   "execution_count": 2,
   "id": "634eb6bc",
   "metadata": {},
   "outputs": [],
   "source": [
    "from src.pyaecal.trigger import Trigger\n",
    "fn = Trigger()"
   ]
  },
  {
   "cell_type": "code",
   "execution_count": 3,
   "id": "8bb54709",
   "metadata": {},
   "outputs": [
    {
     "name": "stdout",
     "output_type": "stream",
     "text": [
      "INFO:root:./data/DEMO_AT.mdf: 62188 rows\n"
     ]
    },
    {
     "data": {
      "text/html": [
       "<div><style>\n",
       ".dataframe > thead > tr,\n",
       ".dataframe > tbody > tr {\n",
       "  text-align: right;\n",
       "  white-space: pre-wrap;\n",
       "}\n",
       "</style>\n",
       "<small>shape: (62_188, 3)</small><table border=\"1\" class=\"dataframe\"><thead><tr><th>offset</th><th>n</th><th>tq</th></tr><tr><td>f32</td><td>f32</td><td>f32</td></tr></thead><tbody><tr><td>0.0</td><td>850.0</td><td>8.0</td></tr><tr><td>0.01</td><td>850.0</td><td>8.0</td></tr><tr><td>0.02</td><td>850.0</td><td>8.0</td></tr><tr><td>0.03</td><td>850.826843</td><td>8.0</td></tr><tr><td>0.04</td><td>851.0</td><td>8.0</td></tr><tr><td>&hellip;</td><td>&hellip;</td><td>&hellip;</td></tr><tr><td>621.830688</td><td>850.0</td><td>-3.25</td></tr><tr><td>621.840637</td><td>850.0</td><td>-3.25</td></tr><tr><td>621.850647</td><td>850.0</td><td>-3.25</td></tr><tr><td>621.860657</td><td>850.0</td><td>-3.25</td></tr><tr><td>621.870667</td><td>850.0</td><td>-3.25</td></tr></tbody></table></div>"
      ],
      "text/plain": [
       "shape: (62_188, 3)\n",
       "┌────────────┬────────────┬───────┐\n",
       "│ offset     ┆ n          ┆ tq    │\n",
       "│ ---        ┆ ---        ┆ ---   │\n",
       "│ f32        ┆ f32        ┆ f32   │\n",
       "╞════════════╪════════════╪═══════╡\n",
       "│ 0.0        ┆ 850.0      ┆ 8.0   │\n",
       "│ 0.01       ┆ 850.0      ┆ 8.0   │\n",
       "│ 0.02       ┆ 850.0      ┆ 8.0   │\n",
       "│ 0.03       ┆ 850.826843 ┆ 8.0   │\n",
       "│ 0.04       ┆ 851.0      ┆ 8.0   │\n",
       "│ …          ┆ …          ┆ …     │\n",
       "│ 621.830688 ┆ 850.0      ┆ -3.25 │\n",
       "│ 621.840637 ┆ 850.0      ┆ -3.25 │\n",
       "│ 621.850647 ┆ 850.0      ┆ -3.25 │\n",
       "│ 621.860657 ┆ 850.0      ┆ -3.25 │\n",
       "│ 621.870667 ┆ 850.0      ┆ -3.25 │\n",
       "└────────────┴────────────┴───────┘"
      ]
     },
     "execution_count": 3,
     "metadata": {},
     "output_type": "execute_result"
    }
   ],
   "source": [
    "fn.add_channel('n_Eng','n')\n",
    "fn.add_channel('T_Eng_curr','tq')\n",
    "fn.set_trigger_pre('n')\n",
    "data=fn.get_data('./data/DEMO_AT.mdf')\n",
    "data"
   ]
  },
  {
   "cell_type": "code",
   "execution_count": 4,
   "id": "6cc2dd40",
   "metadata": {},
   "outputs": [],
   "source": [
    "import polars as pl\n",
    "import logging\n",
    "from src.pyaecal.trigger import Trigger  # Assumes trigger.py is available\n",
    "\n",
    "# Set up logging\n",
    "logging.basicConfig(level=logging.DEBUG)\n",
    "\n",
    "class EngineTriggerDemo(Trigger):\n",
    "\n",
    "    def __init__(self):\n",
    "        super().__init__()\n",
    "        # Add channels with renaming\n",
    "        self.add_channel('n_Eng', rename='n')\n",
    "        self.add_channel('T_Eng_curr', rename='tq')\n",
    "        # Set triggers\n",
    "        self.set_trigger_pre('n_above_851', up=True)  # Rising edge when n > 900\n",
    "        self.set_trigger_post('n_above_851', up=False)  # Falling edge when n < 890\n",
    "\n",
    "    def evaluate(self, data):\n",
    "        data=data.with_columns(pl.when(pl.col(\"n\") >= 851).then(1).otherwise(0).alias(\"n_above_851\"))\n",
    "        print(data)\n",
    "        return super().evaluate(data)"
   ]
  },
  {
   "cell_type": "code",
   "execution_count": 5,
   "id": "b6319249",
   "metadata": {},
   "outputs": [
    {
     "name": "stdout",
     "output_type": "stream",
     "text": [
      "INFO:root:./data/DEMO_AT.mdf: 62188 rows\n",
      "shape: (62_188, 4)\n",
      "┌────────────┬────────────┬───────┬─────────────┐\n",
      "│ offset     ┆ n          ┆ tq    ┆ n_above_851 │\n",
      "│ ---        ┆ ---        ┆ ---   ┆ ---         │\n",
      "│ f32        ┆ f32        ┆ f32   ┆ i32         │\n",
      "╞════════════╪════════════╪═══════╪═════════════╡\n",
      "│ 0.0        ┆ 850.0      ┆ 8.0   ┆ 0           │\n",
      "│ 0.01       ┆ 850.0      ┆ 8.0   ┆ 0           │\n",
      "│ 0.02       ┆ 850.0      ┆ 8.0   ┆ 0           │\n",
      "│ 0.03       ┆ 850.826843 ┆ 8.0   ┆ 0           │\n",
      "│ 0.04       ┆ 851.0      ┆ 8.0   ┆ 1           │\n",
      "│ …          ┆ …          ┆ …     ┆ …           │\n",
      "│ 621.830688 ┆ 850.0      ┆ -3.25 ┆ 0           │\n",
      "│ 621.840637 ┆ 850.0      ┆ -3.25 ┆ 0           │\n",
      "│ 621.850647 ┆ 850.0      ┆ -3.25 ┆ 0           │\n",
      "│ 621.860657 ┆ 850.0      ┆ -3.25 ┆ 0           │\n",
      "│ 621.870667 ┆ 850.0      ┆ -3.25 ┆ 0           │\n",
      "└────────────┴────────────┴───────┴─────────────┘\n"
     ]
    },
    {
     "data": {
      "text/plain": [
       "{'DEMO_AT': {'pre_triggers': shape: (74, 4)\n",
       "  ┌────────────┬────────────┬───────────┬─────────────┐\n",
       "  │ offset     ┆ n          ┆ tq        ┆ n_above_851 │\n",
       "  │ ---        ┆ ---        ┆ ---       ┆ ---         │\n",
       "  │ f32        ┆ f32        ┆ f32       ┆ i32         │\n",
       "  ╞════════════╪════════════╪═══════════╪═════════════╡\n",
       "  │ 0.04       ┆ 851.0      ┆ 8.0       ┆ 1           │\n",
       "  │ 1.230001   ┆ 851.0      ┆ 8.000757  ┆ 1           │\n",
       "  │ 2.140002   ┆ 851.0      ┆ 8.245496  ┆ 1           │\n",
       "  │ 3.120003   ┆ 851.0      ┆ 8.0       ┆ 1           │\n",
       "  │ 4.630005   ┆ 851.956787 ┆ 31.996243 ┆ 1           │\n",
       "  │ …          ┆ …          ┆ …         ┆ …           │\n",
       "  │ 619.680664 ┆ 851.0      ┆ -2.75     ┆ 1           │\n",
       "  │ 620.360657 ┆ 851.0      ┆ -2.98975  ┆ 1           │\n",
       "  │ 620.500671 ┆ 851.0      ┆ -3.0      ┆ 1           │\n",
       "  │ 620.950684 ┆ 851.0      ┆ -3.0      ┆ 1           │\n",
       "  │ 621.370667 ┆ 851.0      ┆ -3.238546 ┆ 1           │\n",
       "  └────────────┴────────────┴───────────┴─────────────┘,\n",
       "  'post_triggers': shape: (74, 4)\n",
       "  ┌────────────┬────────────┬──────────┬─────────────┐\n",
       "  │ offset     ┆ n          ┆ tq       ┆ n_above_851 │\n",
       "  │ ---        ┆ ---        ┆ ---      ┆ ---         │\n",
       "  │ f32        ┆ f32        ┆ f32      ┆ i32         │\n",
       "  ╞════════════╪════════════╪══════════╪═════════════╡\n",
       "  │ 0.38       ┆ 850.085999 ┆ 7.75     ┆ 0           │\n",
       "  │ 1.310001   ┆ 850.15802  ┆ 8.0      ┆ 0           │\n",
       "  │ 2.230002   ┆ 850.15979  ┆ 8.0      ┆ 0           │\n",
       "  │ 3.130003   ┆ 850.186157 ┆ 8.0      ┆ 0           │\n",
       "  │ 6.650007   ┆ 850.73938  ┆ 8.995468 ┆ 0           │\n",
       "  │ …          ┆ …          ┆ …        ┆ …           │\n",
       "  │ 619.740662 ┆ 850.170471 ┆ -3.0     ┆ 0           │\n",
       "  │ 620.460693 ┆ 850.144348 ┆ -3.0     ┆ 0           │\n",
       "  │ 620.650635 ┆ 850.179077 ┆ -3.0     ┆ 0           │\n",
       "  │ 620.990662 ┆ 850.162292 ┆ -3.25    ┆ 0           │\n",
       "  │ 621.450684 ┆ 850.179016 ┆ -3.5     ┆ 0           │\n",
       "  └────────────┴────────────┴──────────┴─────────────┘}}"
      ]
     },
     "execution_count": 5,
     "metadata": {},
     "output_type": "execute_result"
    }
   ],
   "source": [
    "demo=EngineTriggerDemo()\n",
    "demo.add_file('./data/DEMO_AT.mdf')\n",
    "demo.process()"
   ]
  }
 ],
 "metadata": {
  "kernelspec": {
   "display_name": ".venv",
   "language": "python",
   "name": "python3"
  },
  "language_info": {
   "codemirror_mode": {
    "name": "ipython",
    "version": 3
   },
   "file_extension": ".py",
   "mimetype": "text/x-python",
   "name": "python",
   "nbconvert_exporter": "python",
   "pygments_lexer": "ipython3",
   "version": "3.12.7"
  }
 },
 "nbformat": 4,
 "nbformat_minor": 5
}
