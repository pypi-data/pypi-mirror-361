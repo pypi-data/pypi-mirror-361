{
 "cells": [
  {
   "cell_type": "markdown",
   "metadata": {},
   "source": [
    "# Dictionaries and dataframes\n",
    "\n",
    "Needing a better way of ordering dictionaries was one of the original inspirations for Sciris back in 2014. In those dark days of Python <=3.6, dictionaries were unordered, which meant that `dict.keys()` could give you anything. (And you still can't do `dict.keys()[0]`, much less `dict[0]`). This tutorial describes Sciris' ordered dict, the `odict`, its close cousin the `objdict`, and its pandas-powered pseudorelative, the `dataframe`."
   ]
  },
  {
   "cell_type": "markdown",
   "metadata": {},
   "source": [
    "<div class=\"alert alert-info\">\n",
    "    \n",
    "Click [here](https://mybinder.org/v2/gh/sciris/sciris/HEAD?labpath=docs%2Ftutorials%2Ftut_dicts.ipynb) to open an interactive version of this notebook.\n",
    "    \n",
    "</div>\n"
   ]
  },
  {
   "cell_type": "markdown",
   "metadata": {
    "tags": []
   },
   "source": [
    "## The `odict`\n",
    "\n",
    "In basically every situation except one, an `odict` can be used like a `dict`. (Since this is a tutorial, see if you can intuit what that one situation is!) For example, creating an `odict`works just like creating a regular dict:"
   ]
  },
  {
   "cell_type": "code",
   "execution_count": null,
   "metadata": {},
   "outputs": [],
   "source": [
    "import sciris as sc\n",
    "\n",
    "od = sc.odict(a=['some', 'strings'], b=[1,2,3])\n",
    "print(od)"
   ]
  },
  {
   "cell_type": "markdown",
   "metadata": {},
   "source": [
    "Okay, it doesn't exactly _look_ like a dict, but it is one:"
   ]
  },
  {
   "cell_type": "code",
   "execution_count": null,
   "metadata": {},
   "outputs": [],
   "source": [
    "print(f'Keys:   {od.keys()}')\n",
    "print(f'Values: {od.values()}')\n",
    "print(f'Items:  {od.items()}')"
   ]
  },
  {
   "cell_type": "markdown",
   "metadata": {},
   "source": [
    "Looks pretty much the same as a regular dict, except that `od.keys()` returns a regular list (so, yes, you can do `od.keys()[0]`). But, you can do things you can't do with a regular dict, such as:"
   ]
  },
  {
   "cell_type": "code",
   "execution_count": null,
   "metadata": {},
   "outputs": [],
   "source": [
    "for i,k,v in od.enumitems():\n",
    "    print(f'Item {i} is called {k} and has value {v}')"
   ]
  },
  {
   "cell_type": "markdown",
   "metadata": {},
   "source": [
    "We can, as you probably guessed, also retrieve items by _index_ as well:"
   ]
  },
  {
   "cell_type": "code",
   "execution_count": null,
   "metadata": {},
   "outputs": [],
   "source": [
    "print(od['a'])\n",
    "print(od[0])"
   ]
  },
  {
   "cell_type": "markdown",
   "metadata": {},
   "source": [
    "Remember the question about the situation where you wouldn't use an odict? The answer is if your dict has integer keys, then although you still _could_ use an `odict`, it's probably best to use a regular `dict`. But even float keys are fine to use (if somewhat strange)."
   ]
  },
  {
   "cell_type": "markdown",
   "metadata": {},
   "source": [
    "You might've noticed that the `odict` has more verbose output than a regular dict. This is because its primary purpose is as a high-level container for storing large(ish) objects. \n",
    "\n",
    "For example, let's say we want to store a number of named simulation results. Look at how we're able to leverage the `odict` in the loop that creates the plots"
   ]
  },
  {
   "cell_type": "code",
   "execution_count": null,
   "metadata": {},
   "outputs": [],
   "source": [
    "import numpy as np\n",
    "import matplotlib.pyplot as plt\n",
    "\n",
    "class Sim:\n",
    "    def __init__(self, n=20, n_factors=6):\n",
    "        self.results = sc.odict()\n",
    "        self.n = n\n",
    "        self.n_factors = n_factors\n",
    "    \n",
    "    def run(self):\n",
    "        for i in range(self.n_factors):\n",
    "            label = f'y = N^{i+1}'\n",
    "            result = np.random.randn(self.n)**(i+1)\n",
    "            self.results[label] = result\n",
    "    \n",
    "    def plot(self):\n",
    "        with sc.options.context(jupyter=True): # Jupyter-optimized plotting\n",
    "            plt.figure()\n",
    "            rows,cols = sc.getrowscols(len(self.results))\n",
    "            for i,label,result in self.results.enumitems(): # odict magic!\n",
    "                plt.subplot(rows, cols, i+1)\n",
    "                plt.scatter(np.arange(self.n), result, c=result, cmap='parula')\n",
    "                plt.title(label)\n",
    "            sc.figlayout() # Trim whitespace from the figure\n",
    "\n",
    "sim = Sim()\n",
    "sim.run()\n",
    "sim.plot()"
   ]
  },
  {
   "cell_type": "markdown",
   "metadata": {},
   "source": [
    "We can quickly access these results for exploratory data analysis without having to remember and type the labels explicitly:"
   ]
  },
  {
   "cell_type": "code",
   "execution_count": null,
   "metadata": {},
   "outputs": [],
   "source": [
    "print('Sim results are')\n",
    "print(sim.results)\n",
    "\n",
    "print('The first set of results is')\n",
    "print(sim.results[0])\n",
    "\n",
    "print('The first set of results has median')\n",
    "sc.printmedian(sim.results[0])"
   ]
  },
  {
   "cell_type": "markdown",
   "metadata": {},
   "source": [
    "This is a have-your-cake-and-eat-it-too situation: the first set of results is correctly labeled (`sim.results['y = N^1']`), but you can easily access it without having to type all that (`sim.results[0]`). "
   ]
  },
  {
   "cell_type": "markdown",
   "metadata": {},
   "source": [
    "## The `objdict`\n",
    "\n",
    "When you're just writing throwaway analysis code, it can be a pain to type `mydict['key1']['key2']` over and over. (Right-pinky overuse is a [real medical issue](https://www.math.ucdavis.edu/~greg/pinky-rsi.html).) Wouldn't it be nice if you could just type `mydict.key1.key2`, but otherwise have everything work exactly like a dict? This is where the `objdict` comes in: it's identical to an `odict` (and hence like a regular `dict`), except you can use \"object syntax\" (`a.b`) instead of \"dict syntax\" (`a['b']`). This is especially handy for using f-strings, since you don't have to worry about nested quotes:"
   ]
  },
  {
   "cell_type": "code",
   "execution_count": null,
   "metadata": {},
   "outputs": [],
   "source": [
    "ob = sc.objdict(key1=['some', 'strings'], key2=[1,2,3])\n",
    "print(f'Checking {ob[0] = }')\n",
    "print(f'Checking {ob.key1 = }')\n",
    "print(f'Checking {ob[\"key1\"] = }') # We need to use double-quotes inside since single quotes are taken!"
   ]
  },
  {
   "cell_type": "markdown",
   "metadata": {},
   "source": [
    "In most cases, you probably want to use `objdict`s rather than `odict`s just to have the extra flexibility. Why would you ever use an `odict` over an `objdict`? Mostly just because there's small but nonzero overhead in doing the extra attribute checking: `odict` is faster (faster than even `collections.OrderedDict`, though slower than a plain `dict`). The differences are tiny (literally nanoseconds) so won't matter unless you're doing millions of operations. But if you're reading this, chances are high that you _do_ sometimes need to do millions of dict operations."
   ]
  },
  {
   "cell_type": "markdown",
   "metadata": {},
   "source": [
    "## Dataframes\n",
    "\n",
    "The Sciris `sc.dataframe()` works exactly like pandas `pd.DataFrame()`, with a couple extra features, mostly to do with creation, indexing, and manipulation."
   ]
  },
  {
   "cell_type": "markdown",
   "metadata": {},
   "source": [
    "### Dataframe creation\n",
    "\n",
    "Any valid `pandas` dataframe initialization works exactly the same in Sciris. However, Sciris is a bit more flexible about how you can create the dataframe, again optimized for letting you make them quickly with minimal code. For example:"
   ]
  },
  {
   "cell_type": "code",
   "execution_count": null,
   "metadata": {},
   "outputs": [],
   "source": [
    "import pandas as pd\n",
    "\n",
    "x = ['a','b','c']\n",
    "y = [1, 2, 3]\n",
    "z = [1, 0, 1]\n",
    "\n",
    "df = pd.DataFrame(dict(x=x, y=y, z=z)) # Pandas\n",
    "df = sc.dataframe(x=x, y=y, z=z) # Sciris"
   ]
  },
  {
   "cell_type": "markdown",
   "metadata": {},
   "source": [
    "It's not a huge difference, but the Sciris one is shorter. Sciris also makes it easier to define types on dataframe creation:"
   ]
  },
  {
   "cell_type": "code",
   "execution_count": null,
   "metadata": {},
   "outputs": [],
   "source": [
    "df = sc.dataframe(x=x, y=y, z=z, dtypes=[str, float, bool])\n",
    "print(df)"
   ]
  },
  {
   "cell_type": "markdown",
   "metadata": {},
   "source": [
    "You can also define data types along with the columns:"
   ]
  },
  {
   "cell_type": "code",
   "execution_count": null,
   "metadata": {},
   "outputs": [],
   "source": [
    "columns = dict(x=str, y=float, z=bool)\n",
    "data = [\n",
    "    ['a', 1, 1],\n",
    "    ['b', 2, 0],\n",
    "    ['c', 3, 1],\n",
    "]\n",
    "df = sc.dataframe(columns=columns, data=data)\n",
    "df.disp()"
   ]
  },
  {
   "cell_type": "markdown",
   "metadata": {},
   "source": [
    "The `df.disp()` command will do its best to show the full dataframe. By default, Sciris dataframes (just like pandas) are shown in abbreviated form:"
   ]
  },
  {
   "cell_type": "code",
   "execution_count": null,
   "metadata": {},
   "outputs": [],
   "source": [
    "df = sc.dataframe(data=np.random.rand(70,10))\n",
    "print(df)"
   ]
  },
  {
   "cell_type": "markdown",
   "metadata": {},
   "source": [
    "But sometimes you just want to see the whole thing. The official way to do it in pandas is with `pd.options_context`, but this is a lot of effort if you're just poking around in a script or terminal (which, if you're printing a dataframe, you probably are). By default, `df.disp()` shows the whole damn thing:"
   ]
  },
  {
   "cell_type": "code",
   "execution_count": null,
   "metadata": {},
   "outputs": [],
   "source": [
    "df.disp()"
   ]
  },
  {
   "cell_type": "markdown",
   "metadata": {},
   "source": [
    "You can also pass other options if you want to customize it further:"
   ]
  },
  {
   "cell_type": "code",
   "execution_count": null,
   "metadata": {},
   "outputs": [],
   "source": [
    "df.disp(precision=1, ncols=5, nrows=10, colheader_justify='left')"
   ]
  },
  {
   "cell_type": "markdown",
   "metadata": {},
   "source": [
    "### Dataframe indexing\n",
    "\n",
    "All the regular `pandas` methods (`df['mycol']`, `df.mycol`, `df.loc`, `df.iloc`, etc.) work exactly the same. But Sciris gives additional options for indexing. Specifically, `getitem` commands (what happens under the hood when you call `df[thing]`) will first try the standard pandas `getitem`, but then fall back to `iloc` if that fails. For example:"
   ]
  },
  {
   "cell_type": "code",
   "execution_count": null,
   "metadata": {},
   "outputs": [],
   "source": [
    "df = sc.dataframe(\n",
    "    x      = [1,   2,  3], \n",
    "    values = [45, 23, 37], \n",
    "    valid  = [1,   0,  1]\n",
    ")\n",
    "\n",
    "sc.heading('Regular pandas indexing')\n",
    "print(df['values',1])\n",
    "\n",
    "sc.heading('Pandas-like iloc indexing')\n",
    "print(df.iloc[1])\n",
    "\n",
    "sc.heading('Automatic iloc indexing')\n",
    "print(df[1]) # Would be a KeyError in regular pandas"
   ]
  },
  {
   "cell_type": "markdown",
   "metadata": {},
   "source": [
    "### Dataframe manipulation\n",
    "\n",
    "One quirk of `pandas` dataframes is that almost every operation creates a copy rather than modifies the original dataframe in-place (leading to the infamous [SettingWithCopyWarning](https://stackoverflow.com/questions/20625582/how-to-deal-with-settingwithcopywarning-in-pandas).) This is extremely helpful, and yet, sometimes you _do_ want to modify a dataframe in place. For example, to append a row:"
   ]
  },
  {
   "cell_type": "code",
   "execution_count": null,
   "metadata": {},
   "outputs": [],
   "source": [
    "# Create the dataframe\n",
    "df = sc.dataframe(\n",
    "    x = ['a','b','c'],\n",
    "    y = [1, 2, 3],\n",
    "    z = [1, 0, 1],\n",
    ")\n",
    "\n",
    "# Define the new row\n",
    "newrow = ['d', 4, 0]\n",
    "\n",
    "# Append it in-place\n",
    "df.appendrow(newrow)\n",
    "\n",
    "# Show the result\n",
    "print(df)"
   ]
  },
  {
   "cell_type": "markdown",
   "metadata": {},
   "source": [
    "That was easy! For reference, here's the `pandas` equivalent (since `append` was [deprecated](https://github.com/pandas-dev/pandas/issues/35407)):"
   ]
  },
  {
   "cell_type": "code",
   "execution_count": null,
   "metadata": {},
   "outputs": [],
   "source": [
    "# Convert to a vanilla dataframe\n",
    "pdf = df.to_pandas() \n",
    "\n",
    "# Define the new row\n",
    "newrow = ['e', 5, 1]\n",
    "\n",
    "# Append it\n",
    "pdf = pd.concat([pdf, pd.DataFrame([newrow], columns=pdf.columns)])"
   ]
  },
  {
   "cell_type": "markdown",
   "metadata": {},
   "source": [
    "That's rather a pain to type, and if you mess up (e.g. type `newrow` instead of `[newrow]`), in some cases it won't even fail, just give you the wrong result! Crikey.\n",
    "\n",
    "Just like how `sc.cat()` will take anything vaguely arrayish and turn it into an actual array, `sc.dataframe.cat()` will do the same thing:"
   ]
  },
  {
   "cell_type": "code",
   "execution_count": null,
   "metadata": {},
   "outputs": [],
   "source": [
    "df = sc.dataframe.cat(\n",
    "    sc.dataframe(x=['a','b'], y=[1,2]), # Actual dataframe\n",
    "    dict(x=['c','d'], y=[3,4]),         # Dict of data\n",
    "    [['e',5], ['f', 6]],                # Or just the data!\n",
    ")\n",
    "print(df)"
   ]
  }
 ],
 "metadata": {
  "kernelspec": {
   "display_name": "Python 3 (ipykernel)",
   "language": "python",
   "name": "python3"
  },
  "language_info": {
   "codemirror_mode": {
    "name": "ipython",
    "version": 3
   },
   "file_extension": ".py",
   "mimetype": "text/x-python",
   "name": "python",
   "nbconvert_exporter": "python",
   "pygments_lexer": "ipython3",
   "version": "3.9.16"
  },
  "toc": {
   "base_numbering": 1,
   "nav_menu": {},
   "number_sections": true,
   "sideBar": true,
   "skip_h1_title": false,
   "title_cell": "Table of Contents",
   "title_sidebar": "Contents",
   "toc_cell": false,
   "toc_position": {},
   "toc_section_display": true,
   "toc_window_display": false
  }
 },
 "nbformat": 4,
 "nbformat_minor": 4
}
