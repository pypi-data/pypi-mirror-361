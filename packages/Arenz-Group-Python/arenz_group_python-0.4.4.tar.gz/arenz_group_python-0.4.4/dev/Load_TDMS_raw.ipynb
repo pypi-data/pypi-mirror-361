{
 "cells": [
  {
   "cell_type": "code",
   "execution_count": 1,
   "metadata": {},
   "outputs": [],
   "source": [
    "import numpy as np\n",
    "import pandas as pd\n",
    "import matplotlib.pyplot as plt\n",
    "from nptdms import TdmsFile\n",
    "from pathlib import Path\n",
    "import os"
   ]
  },
  {
   "cell_type": "code",
   "execution_count": 2,
   "metadata": {},
   "outputs": [
    {
     "name": "stdout",
     "output_type": "stream",
     "text": [
      "Get current working directory :  c:\\Users\\gustav.wiberg\\Documents\\GitHub\\Python\\Arenz_Group_Python\\dev\n"
     ]
    }
   ],
   "source": [
    "print('Get current working directory : ', os.getcwd())"
   ]
  },
  {
   "cell_type": "code",
   "execution_count": 3,
   "metadata": {},
   "outputs": [
    {
     "name": "stdout",
     "output_type": "stream",
     "text": [
      "c:\\Users\\gustav.wiberg\\Documents\\GitHub\\Python\\Arenz_Group_Python\\dev\n"
     ]
    }
   ],
   "source": [
    "nb_path = Path.cwd()\n",
    "print(nb_path)"
   ]
  },
  {
   "cell_type": "code",
   "execution_count": 26,
   "metadata": {},
   "outputs": [
    {
     "ename": "AttributeError",
     "evalue": "'str' object has no attribute 'name'",
     "output_type": "error",
     "traceback": [
      "\u001b[1;31m---------------------------------------------------------------------------\u001b[0m",
      "\u001b[1;31mAttributeError\u001b[0m                            Traceback (most recent call last)",
      "Cell \u001b[1;32mIn[26], line 10\u001b[0m\n\u001b[0;32m      7\u001b[0m tdms_file_df \u001b[38;5;241m=\u001b[39m tdms_file\u001b[38;5;241m.\u001b[39mas_dataframe()\n\u001b[0;32m      9\u001b[0m \u001b[38;5;28;01mfor\u001b[39;00m x \u001b[38;5;129;01min\u001b[39;00m tdms_file[\u001b[38;5;124m'\u001b[39m\u001b[38;5;124mEC\u001b[39m\u001b[38;5;124m'\u001b[39m]:\n\u001b[1;32m---> 10\u001b[0m     \u001b[38;5;28mprint\u001b[39m(\u001b[43mx\u001b[49m\u001b[38;5;241;43m.\u001b[39;49m\u001b[43mname\u001b[49m)\n\u001b[0;32m     11\u001b[0m \u001b[38;5;28mprint\u001b[39m(tdms_file[\u001b[38;5;124m'\u001b[39m\u001b[38;5;124mEC\u001b[39m\u001b[38;5;124m'\u001b[39m]\u001b[38;5;241m.\u001b[39mchannels())\n\u001b[0;32m     12\u001b[0m \u001b[38;5;66;03m# grab the columns in the file\u001b[39;00m\n",
      "\u001b[1;31mAttributeError\u001b[0m: 'str' object has no attribute 'name'"
     ]
    }
   ],
   "source": [
    "#data import from tdms-file:\n",
    "\n",
    "test_file_path = nb_path \n",
    "#data in the folder, e.g.\n",
    "tdms_file = TdmsFile.read(\"C:\\\\Users\\\\gustav.wiberg\\\\Documents\\\\GitHub\\\\Python\\\\Arenz_Group_Python\\\\dev\\\\data\\\\Steps_160307.tdms\")\n",
    "tdms_file_groups = tdms_file.groups()\n",
    "tdms_file_df = tdms_file.as_dataframe()\n",
    "\n",
    "for x in tdms_file['EC']:\n",
    "    print(x.name)\n",
    "print(tdms_file['EC'].channels())\n",
    "# grab the columns in the file\n",
    "tdms_file_groupEC_i_file0s50mV = tdms_file_groups[0]['i']\n",
    "tdms_file_groupEC_t_file0s50mV = tdms_file_groups[0]['Time']\n",
    "tdms_file_groupEC_E_file0s50mV = tdms_file_groups[0]['E']\n",
    "b = tdms_file['EC']['Z_E']\n",
    "print (b.properties)\n",
    "print (b.properties.get(\"unit_string\",\"\"))\n",
    "\n",
    "# rename and create a numpy-array with the data\n",
    "current_file0s50mV = tdms_file_groupEC_i_file0s50mV.data\n",
    "time_file0s50mV = tdms_file_groupEC_t_file0s50mV.data\n",
    "potential_file0s50mV = tdms_file_groupEC_E_file0s50mV.data\n",
    "resistivity_file0s50mV = tdms_file_groupEC_R_file0s50mV.data\n",
    "\n",
    "#check if it worked, e.g.:\n",
    "print(current_file0s50mV.properties)\n",
    "\n",
    "\n",
    "# function\n",
    "def displayText(path_to_TDMS_EC_data):\n",
    "    print( \"Geeks 4 Geeks !\")"
   ]
  },
  {
   "cell_type": "code",
   "execution_count": 5,
   "metadata": {},
   "outputs": [
    {
     "name": "stdout",
     "output_type": "stream",
     "text": [
      "c:\\Users\\gustav.wiberg\\Documents\\GitHub\\Python\\Arenz_Group_Python\n",
      "c:\\Users\\gustav.wiberg\\Documents\\GitHub\\Python\\Arenz_Group_Python\\src\\ArenzGroupPython\n",
      "path existits: False\n",
      "c:\\Users\\gustav.wiberg\\Documents\\GitHub\\Python\\Arenz_Group_Python\\src\\ArenzGroupPython\n"
     ]
    },
    {
     "ename": "NameError",
     "evalue": "name 'sys' is not defined",
     "output_type": "error",
     "traceback": [
      "\u001b[1;31m---------------------------------------------------------------------------\u001b[0m",
      "\u001b[1;31mNameError\u001b[0m                                 Traceback (most recent call last)",
      "Cell \u001b[1;32mIn[5], line 9\u001b[0m\n\u001b[0;32m      7\u001b[0m \u001b[38;5;66;03m#sys.path.append(\"C:/Users/gustav.wiberg/Documents/GitHub/Python/Arenz_Group_Python/src/ArenzGroupPython\")\u001b[39;00m\n\u001b[0;32m      8\u001b[0m \u001b[38;5;28mprint\u001b[39m(str_path)\n\u001b[1;32m----> 9\u001b[0m \u001b[43msys\u001b[49m\u001b[38;5;241m.\u001b[39mpath\u001b[38;5;241m.\u001b[39mappend(str_path)\n\u001b[0;32m     10\u001b[0m \u001b[38;5;66;03m#import ec_data\u001b[39;00m\n\u001b[0;32m     11\u001b[0m \u001b[38;5;66;03m#ec_data.reload()\u001b[39;00m\n\u001b[0;32m     12\u001b[0m \u001b[38;5;28;01mfrom\u001b[39;00m \u001b[38;5;21;01manyt\u001b[39;00m \u001b[38;5;28;01mimport\u001b[39;00m EC_Data\n",
      "\u001b[1;31mNameError\u001b[0m: name 'sys' is not defined"
     ]
    }
   ],
   "source": [
    "pack_path = nb_path.parent / \"src\" / \"ArenzGroupPython\"\n",
    "print(nb_path.parent)\n",
    "print(pack_path)\n",
    "print(f\"path existits: {pack_path.exists()}\")\n",
    "\n",
    "str_path = str(pack_path)\n",
    "#sys.path.append(\"C:/Users/gustav.wiberg/Documents/GitHub/Python/Arenz_Group_Python/src/ArenzGroupPython\")\n",
    "print(str_path)\n",
    "sys.path.append(str_path)\n",
    "#import ec_data\n",
    "#ec_data.reload()\n",
    "from anyt import EC_Data\n"
   ]
  }
 ],
 "metadata": {
  "kernelspec": {
   "display_name": "Python 3",
   "language": "python",
   "name": "python3"
  },
  "language_info": {
   "codemirror_mode": {
    "name": "ipython",
    "version": 3
   },
   "file_extension": ".py",
   "mimetype": "text/x-python",
   "name": "python",
   "nbconvert_exporter": "python",
   "pygments_lexer": "ipython3",
   "version": "3.11.9"
  }
 },
 "nbformat": 4,
 "nbformat_minor": 2
}
