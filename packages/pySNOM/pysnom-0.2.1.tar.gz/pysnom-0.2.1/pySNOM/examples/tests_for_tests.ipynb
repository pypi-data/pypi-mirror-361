{
 "cells": [
  {
   "cell_type": "markdown",
   "metadata": {},
   "source": [
    "# Test reading with the new classes"
   ]
  },
  {
   "cell_type": "code",
   "execution_count": null,
   "metadata": {},
   "outputs": [
    {
     "name": "stdout",
     "output_type": "stream",
     "text": [
      "Pixel 7-7: 15.213262557983398\n",
      "Pixel 8-8: 15.736936569213867\n",
      "Pixel 8-9: 13.609171867370605\n"
     ]
    }
   ],
   "source": [
    "import numpy as np\n",
    "import pySNOM\n",
    "from pySNOM import readers, images\n",
    "import os\n",
    "\n",
    "f = 'datasets/testPsHetData.gwy'\n",
    "file_reader = readers.GwyReader(fullfilepath=os.path.join(pySNOM.__path__[0], f),channelname='O3A raw')\n",
    "gwy_image = file_reader.read()\n",
    "\n",
    "print(f'Pixel 7-7: {gwy_image.data[7][7]}')\n",
    "print(f'Pixel 8-8: {gwy_image.data[8][8]}')\n",
    "print(f'Pixel 8-9: {gwy_image.data[9][9]}')"
   ]
  },
  {
   "cell_type": "code",
   "execution_count": null,
   "metadata": {},
   "outputs": [
    {
     "name": "stdout",
     "output_type": "stream",
     "text": [
      "Pixel 7-7: 15.213262557983398\n",
      "Pixel 8-8: 15.736936569213867\n",
      "Pixel 8-9: 13.609171867370605\n"
     ]
    }
   ],
   "source": [
    "f = 'datasets/testPsHet O3A raw.gsf'\n",
    "file_reader = readers.GsfReader(os.path.join(pySNOM.__path__[0], f))\n",
    "gwy_image = file_reader.read()\n",
    "\n",
    "print(f'Pixel 7-7: {gwy_image.data[7][7]}')\n",
    "print(f'Pixel 8-8: {gwy_image.data[8][8]}')\n",
    "print(f'Pixel 8-9: {gwy_image.data[9][9]}')"
   ]
  }
 ],
 "metadata": {
  "kernelspec": {
   "display_name": "Python 3",
   "language": "python",
   "name": "python3"
  },
  "language_info": {
   "codemirror_mode": {
    "name": "ipython",
    "version": 3
   },
   "file_extension": ".py",
   "mimetype": "text/x-python",
   "name": "python",
   "nbconvert_exporter": "python",
   "pygments_lexer": "ipython3",
   "version": "3.10.9"
  }
 },
 "nbformat": 4,
 "nbformat_minor": 2
}
