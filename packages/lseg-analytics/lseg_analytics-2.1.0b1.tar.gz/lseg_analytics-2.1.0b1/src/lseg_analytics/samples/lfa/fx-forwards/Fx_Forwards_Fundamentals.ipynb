{
 "cells": [
  {
   "cell_type": "markdown",
   "id": "1a108871",
   "metadata": {},
   "source": [
    "# FX Forwards Fundamentals"
   ]
  },
  {
   "cell_type": "markdown",
   "id": "3a4cef20",
   "metadata": {},
   "source": [
    "This notebook demonstrates how to access and use the functionalities of **FX Forwards** which are part of our **QPS** module within LSEG Financial Analytics SDK."
   ]
  },
  {
   "cell_type": "markdown",
   "id": "7cd0ad84",
   "metadata": {},
   "source": [
    "## Imports"
   ]
  },
  {
   "cell_type": "markdown",
   "id": "37a963b7",
   "metadata": {},
   "source": [
    "Import the following necessary modules:"
   ]
  },
  {
   "cell_type": "code",
   "execution_count": 1,
   "id": "fb2218f1",
   "metadata": {
    "execution": {
     "iopub.execute_input": "2025-06-27T09:41:56.594330Z",
     "iopub.status.busy": "2025-06-27T09:41:56.594081Z",
     "iopub.status.idle": "2025-06-27T09:41:57.085856Z",
     "shell.execute_reply": "2025-06-27T09:41:57.085102Z"
    }
   },
   "outputs": [],
   "source": [
    "# Sync Post + data preparation\n",
    "from lseg_analytics.instruments.fx_forwards import (\n",
    "    FxForward,\n",
    "    FxForwardDefinition,\n",
    "    PartyEnum,\n",
    "    FxRate,\n",
    "    FxPricingParameters,\n",
    "    FxForwardCurveChoice,\n",
    "    MarketData,\n",
    "    FxForwardOverride,\n",
    "    FxForwardDefinition,\n",
    "    FxForwardDefinitionInstrument,\n",
    "    price,\n",
    "    value,\n",
    "    search,\n",
    "    load,\n",
    "    delete,\n",
    "    create_from_template\n",
    ")\n",
    "\n",
    "from lseg_analytics.common import(\n",
    "    AdjustableDate\n",
    ")\n",
    "\n",
    "from datetime import date"
   ]
  },
  {
   "cell_type": "markdown",
   "id": "b25891f2",
   "metadata": {},
   "source": [
    "## Searching for an FX Forward"
   ]
  },
  {
   "cell_type": "markdown",
   "id": "c29ecafc",
   "metadata": {},
   "source": [
    "### General search"
   ]
  },
  {
   "cell_type": "code",
   "execution_count": 2,
   "id": "e4121ab8",
   "metadata": {
    "execution": {
     "iopub.execute_input": "2025-06-27T09:41:57.090988Z",
     "iopub.status.busy": "2025-06-27T09:41:57.088807Z",
     "iopub.status.idle": "2025-06-27T09:41:57.651987Z",
     "shell.execute_reply": "2025-06-27T09:41:57.651331Z"
    }
   },
   "outputs": [
    {
     "name": "stdout",
     "output_type": "stream",
     "text": [
      "[]\n"
     ]
    }
   ],
   "source": [
    "# Search through available FX Forwards\n",
    "fx_fowards = search()\n",
    "\n",
    "print(fx_fowards)"
   ]
  },
  {
   "cell_type": "markdown",
   "id": "9ee77140",
   "metadata": {},
   "source": [
    "### Search by name"
   ]
  },
  {
   "cell_type": "code",
   "execution_count": 3,
   "id": "990dc04c",
   "metadata": {
    "execution": {
     "iopub.execute_input": "2025-06-27T09:41:57.655121Z",
     "iopub.status.busy": "2025-06-27T09:41:57.654595Z",
     "iopub.status.idle": "2025-06-27T09:41:57.658282Z",
     "shell.execute_reply": "2025-06-27T09:41:57.657681Z"
    }
   },
   "outputs": [
    {
     "name": "stdout",
     "output_type": "stream",
     "text": [
      "There are no accessible Fx Forwards for the current account\n"
     ]
    }
   ],
   "source": [
    "if not fx_fowards:\n",
    "    print(\"There are no accessible Fx Forwards for the current account\")\n",
    "else:\n",
    "    fx_fowards_by_name = search(names=[fx_fowards[0].location.name])\n",
    "    print(fx_fowards_by_name)"
   ]
  },
  {
   "cell_type": "markdown",
   "id": "82d0de53",
   "metadata": {},
   "source": [
    "### Search by name and space"
   ]
  },
  {
   "cell_type": "code",
   "execution_count": 4,
   "id": "114a2056",
   "metadata": {
    "execution": {
     "iopub.execute_input": "2025-06-27T09:41:57.660688Z",
     "iopub.status.busy": "2025-06-27T09:41:57.660352Z",
     "iopub.status.idle": "2025-06-27T09:41:57.665652Z",
     "shell.execute_reply": "2025-06-27T09:41:57.664885Z"
    }
   },
   "outputs": [
    {
     "name": "stdout",
     "output_type": "stream",
     "text": [
      "There are no accessible Fx Forwards for the current account\n"
     ]
    }
   ],
   "source": [
    "if not fx_fowards:\n",
    "    print(\"There are no accessible Fx Forwards for the current account\")\n",
    "else:\n",
    "    fx_fowards_by_name_and_space = search(names=[fx_fowards[0].location.name], spaces=[fx_fowards[0].location.space])\n",
    "    print(fx_fowards_by_name_and_space)"
   ]
  },
  {
   "cell_type": "markdown",
   "id": "78932d02",
   "metadata": {},
   "source": [
    "### Search by space"
   ]
  },
  {
   "cell_type": "code",
   "execution_count": 5,
   "id": "8a71d25f",
   "metadata": {
    "execution": {
     "iopub.execute_input": "2025-06-27T09:41:57.668249Z",
     "iopub.status.busy": "2025-06-27T09:41:57.667967Z",
     "iopub.status.idle": "2025-06-27T09:41:57.890937Z",
     "shell.execute_reply": "2025-06-27T09:41:57.890283Z"
    }
   },
   "outputs": [
    {
     "name": "stdout",
     "output_type": "stream",
     "text": [
      "[]\n"
     ]
    }
   ],
   "source": [
    "fx_fowards_by_space = search(spaces=[\"HOME\"])\n",
    "\n",
    "print(fx_fowards_by_space)"
   ]
  },
  {
   "cell_type": "markdown",
   "id": "19f71cee",
   "metadata": {},
   "source": [
    "### Search by tags"
   ]
  },
  {
   "cell_type": "code",
   "execution_count": 6,
   "id": "a9244206",
   "metadata": {
    "execution": {
     "iopub.execute_input": "2025-06-27T09:41:57.893536Z",
     "iopub.status.busy": "2025-06-27T09:41:57.893133Z",
     "iopub.status.idle": "2025-06-27T09:41:57.897256Z",
     "shell.execute_reply": "2025-06-27T09:41:57.896634Z"
    }
   },
   "outputs": [
    {
     "name": "stdout",
     "output_type": "stream",
     "text": [
      "There are no accessible Fx Forwards for the current account\n"
     ]
    }
   ],
   "source": [
    "if not fx_fowards:\n",
    "    print(\"There are no accessible Fx Forwards for the current account\")\n",
    "else:\n",
    "    fx_fowards_by_tags = search(tags=fx_fowards[0].description.tags)\n",
    "    print(fx_fowards_by_tags)"
   ]
  },
  {
   "cell_type": "markdown",
   "id": "a122a219",
   "metadata": {},
   "source": [
    "## Loading an FX Forward"
   ]
  },
  {
   "cell_type": "markdown",
   "id": "fd528f33",
   "metadata": {},
   "source": [
    "### Loading by ID"
   ]
  },
  {
   "cell_type": "code",
   "execution_count": 7,
   "id": "9da70968",
   "metadata": {
    "execution": {
     "iopub.execute_input": "2025-06-27T09:41:57.900099Z",
     "iopub.status.busy": "2025-06-27T09:41:57.899521Z",
     "iopub.status.idle": "2025-06-27T09:41:57.903472Z",
     "shell.execute_reply": "2025-06-27T09:41:57.902807Z"
    }
   },
   "outputs": [
    {
     "name": "stdout",
     "output_type": "stream",
     "text": [
      "There are no accessible Fx Forwards for the current account\n"
     ]
    }
   ],
   "source": [
    "if not fx_fowards:\n",
    "    print(\"There are no accessible Fx Forwards for the current account\")\n",
    "else:\n",
    "    loaded_forward = load(resource_id=fx_fowards[0].id)\n",
    "    print(loaded_forward)"
   ]
  },
  {
   "cell_type": "markdown",
   "id": "2b27bb40",
   "metadata": {},
   "source": [
    "### Loading by name and space"
   ]
  },
  {
   "cell_type": "code",
   "execution_count": 8,
   "id": "5d0d8a6f",
   "metadata": {
    "execution": {
     "iopub.execute_input": "2025-06-27T09:41:57.906380Z",
     "iopub.status.busy": "2025-06-27T09:41:57.905876Z",
     "iopub.status.idle": "2025-06-27T09:41:57.909690Z",
     "shell.execute_reply": "2025-06-27T09:41:57.909130Z"
    }
   },
   "outputs": [
    {
     "name": "stdout",
     "output_type": "stream",
     "text": [
      "There are no accessible Fx Forwards for the current account\n"
     ]
    }
   ],
   "source": [
    "if not fx_fowards:\n",
    "    print(\"There are no accessible Fx Forwards for the current account\")\n",
    "else:\n",
    "    loaded_forward = load(name=fx_fowards[0].location.name, space=fx_fowards[0].location.space)\n",
    "    print(loaded_forward)"
   ]
  },
  {
   "cell_type": "markdown",
   "id": "b9c3dd46",
   "metadata": {},
   "source": [
    "## Creating an FX Forward"
   ]
  },
  {
   "cell_type": "code",
   "execution_count": 9,
   "id": "de772105",
   "metadata": {
    "execution": {
     "iopub.execute_input": "2025-06-27T09:41:57.912068Z",
     "iopub.status.busy": "2025-06-27T09:41:57.911846Z",
     "iopub.status.idle": "2025-06-27T09:41:57.918202Z",
     "shell.execute_reply": "2025-06-27T09:41:57.917615Z"
    }
   },
   "outputs": [
    {
     "name": "stdout",
     "output_type": "stream",
     "text": [
      "{'quotedCurrency': 'EUR', 'baseCurrency': 'CHF', 'payer': 'Party1', 'receiver': 'Party2', 'rate': {'value': 1.1, 'ratePrecision': 2}, 'startDate': {'dateType': 'AdjustableDate', 'date': '2022-01-01'}, 'endDate': {'dateType': 'AdjustableDate', 'date': '2023-12-01'}}\n"
     ]
    }
   ],
   "source": [
    "#Create an FxForward from scratch\n",
    "fx_forward = FxForward(\n",
    "    FxForwardDefinition(\n",
    "        quoted_currency=\"EUR\",\n",
    "        base_currency=\"CHF\",\n",
    "        payer=PartyEnum.PARTY1,\n",
    "        receiver=PartyEnum.PARTY2,\n",
    "        rate=FxRate(value=1.10, rate_precision=2),\n",
    "        start_date=AdjustableDate(\n",
    "            date=date(2022, 1, 1)\n",
    "        ),\n",
    "        end_date=AdjustableDate(\n",
    "            date=date(2023, 12, 1)\n",
    "        )\n",
    "    )\n",
    ")\n",
    "\n",
    "print(fx_forward.definition)"
   ]
  },
  {
   "cell_type": "markdown",
   "id": "d6bb5582",
   "metadata": {},
   "source": [
    "## Create an FX Forward from template"
   ]
  },
  {
   "cell_type": "code",
   "execution_count": 10,
   "id": "fec8aec6",
   "metadata": {
    "execution": {
     "iopub.execute_input": "2025-06-27T09:41:57.920593Z",
     "iopub.status.busy": "2025-06-27T09:41:57.920375Z",
     "iopub.status.idle": "2025-06-27T09:41:57.926662Z",
     "shell.execute_reply": "2025-06-27T09:41:57.926001Z"
    }
   },
   "outputs": [],
   "source": [
    "overrides = FxForwardOverride(\n",
    "    deal_amount=10000,\n",
    "    contra_amount=10000,\n",
    "    rate=FxRate(value=0.5, scaling_factor=1, rate_precision=1),\n",
    "    start_date=AdjustableDate(\n",
    "        date=date(2022, 1, 1)\n",
    "    ),\n",
    "    end_date=AdjustableDate(\n",
    "        date=date(2023, 12, 1)\n",
    "    ),\n",
    "    settlement_type=\"Cash\",\n",
    ")\n",
    "\n",
    "# Provide lower line with usable template reference then uncomment and execute\n",
    "#fx_forward_from_template = create_from_template(reference=\"// Enter fx_forward reference_id//\", overrides=overrides)\n",
    "\n",
    "#print (fx_forward_from_template)"
   ]
  },
  {
   "cell_type": "markdown",
   "id": "71f25649",
   "metadata": {},
   "source": [
    "## Create an FX Forward Definition"
   ]
  },
  {
   "cell_type": "code",
   "execution_count": 11,
   "id": "5fc64ab3",
   "metadata": {
    "execution": {
     "iopub.execute_input": "2025-06-27T09:41:57.928895Z",
     "iopub.status.busy": "2025-06-27T09:41:57.928684Z",
     "iopub.status.idle": "2025-06-27T09:41:57.933375Z",
     "shell.execute_reply": "2025-06-27T09:41:57.932800Z"
    }
   },
   "outputs": [
    {
     "name": "stdout",
     "output_type": "stream",
     "text": [
      "{'definition': {'quotedCurrency': 'EUR', 'baseCurrency': 'CHF', 'dealAmount': 2000000, 'rate': {'value': 1.1, 'scalingFactor': 1, 'ratePrecision': 1}, 'endDate': {'dateType': 'AdjustableDate', 'date': '2024-03-01'}, 'payer': 'Party1', 'receiver': 'Party2', 'startDate': {'dateType': 'AdjustableDate', 'date': '2024-01-01'}, 'settlementType': 'Cash'}}\n"
     ]
    }
   ],
   "source": [
    "fxforward_definition = FxForwardDefinitionInstrument(\n",
    "    definition=FxForwardDefinition(\n",
    "        quoted_currency=\"EUR\",\n",
    "        base_currency=\"CHF\",\n",
    "        deal_amount=2000000,\n",
    "        rate=FxRate(value=1.1, scaling_factor=1, rate_precision=1),\n",
    "        end_date=AdjustableDate(\n",
    "            date=date(2024, 3, 1)\n",
    "        ),\n",
    "        payer=PartyEnum.PARTY1,\n",
    "        receiver=PartyEnum.PARTY2,\n",
    "        start_date=AdjustableDate(\n",
    "            date=date(2024, 1, 1)\n",
    "        ),\n",
    "        settlement_type=\"Cash\",\n",
    "    )\n",
    ")\n",
    "\n",
    "print(fxforward_definition)"
   ]
  },
  {
   "cell_type": "markdown",
   "id": "a120b720",
   "metadata": {},
   "source": [
    "## Pricing an FX Forward (class method)"
   ]
  },
  {
   "cell_type": "code",
   "execution_count": 12,
   "id": "bb2ba0b4",
   "metadata": {
    "execution": {
     "iopub.execute_input": "2025-06-27T09:41:57.935905Z",
     "iopub.status.busy": "2025-06-27T09:41:57.935621Z",
     "iopub.status.idle": "2025-06-27T09:41:59.051295Z",
     "shell.execute_reply": "2025-06-27T09:41:59.050555Z"
    }
   },
   "outputs": [
    {
     "name": "stdout",
     "output_type": "stream",
     "text": [
      "{'resource': {'type': 'FxForward', 'id': 'caac3e25-b6da-41b9-b073-4499ca41faee', 'location': {'space': 'HOME', 'name': 'my_fx_Forward_pricing_test'}, 'description': {'tags': []}, 'definition': {'quotedCurrency': 'EUR', 'baseCurrency': 'CHF', 'dealAmount': 1000000.0, 'rate': {'value': 1.1, 'scalingFactor': 1.0, 'ratePrecision': 2}, 'startDate': {'dateType': 'AdjustableDate', 'date': '2022-01-01'}, 'endDate': {'dateType': 'AdjustableDate', 'date': '2023-12-01'}, 'payer': 'Party1', 'receiver': 'Party2'}}, 'pricingPreferences': {'ignoreReferenceCurrencyHolidays': True, 'referenceCurrency': 'USD', 'valuationDate': '2024-01-11', 'reportCurrency': 'USD'}, 'analytics': {'description': {}, 'pricingAnalysis': {'fxSwapsCcy1': {}, 'fxSwapsCcy2': {}, 'fxSwapsCcy1Ccy2': {}, 'fxOutrightCcy1Ccy2': {}, 'rate': 0.0, 'fxSpot': {}}, 'greeks': {}, 'error': {'code': 'InvalidInputError', 'message': 'Invalid value! The calculated EndDate : 2023-12-01 cannot be prior to the ValuationDate : 2024-01-11, please modify the input  dates or tenors accordingly.'}}}\n"
     ]
    }
   ],
   "source": [
    "fx_forward.save(name='my_fx_Forward_pricing_test', space='HOME')\n",
    "\n",
    "fx_forward_price = fx_forward.price(\n",
    "    pricing_preferences=FxPricingParameters(\n",
    "        ignore_reference_currency_holidays=True,\n",
    "        reference_currency=\"USD\",\n",
    "        report_currency=\"USD\",\n",
    "        valuation_date=\"2024-01-11\",\n",
    "    ),\n",
    "    market_data=MarketData(fx_forward_curves=[FxForwardCurveChoice(reference=\"LSEG/EUR_CHF_FxForward\")]),\n",
    ")\n",
    "\n",
    "delete(name='my_fx_Forward_pricing_test', space='HOME')\n",
    "\n",
    "print(fx_forward_price)"
   ]
  },
  {
   "cell_type": "markdown",
   "id": "7527ee9b",
   "metadata": {},
   "source": [
    "## Pricing an FX Forward (library method)"
   ]
  },
  {
   "cell_type": "code",
   "execution_count": 13,
   "id": "4cc55142",
   "metadata": {
    "execution": {
     "iopub.execute_input": "2025-06-27T09:41:59.053967Z",
     "iopub.status.busy": "2025-06-27T09:41:59.053725Z",
     "iopub.status.idle": "2025-06-27T09:41:59.765698Z",
     "shell.execute_reply": "2025-06-27T09:41:59.765032Z"
    }
   },
   "outputs": [
    {
     "name": "stdout",
     "output_type": "stream",
     "text": [
      "{'definitions': [{'definition': {'settlementType': 'Cash', 'quotedCurrency': 'EUR', 'baseCurrency': 'CHF', 'dealAmount': 2000000.0, 'rate': {'value': 1.1, 'scalingFactor': 1.0, 'ratePrecision': 1}, 'startDate': {'dateType': 'AdjustableDate', 'date': '2024-01-01'}, 'endDate': {'dateType': 'AdjustableDate', 'date': '2024-03-01'}, 'payer': 'Party1', 'receiver': 'Party2'}}], 'pricingPreferences': {'ignoreReferenceCurrencyHolidays': True, 'referenceCurrency': 'USD', 'valuationDate': '2024-01-11', 'reportCurrency': 'USD'}, 'analytics': [{'description': {'valuationDate': '2024-01-11', 'startDate': {'unAdjusted': '2024-01-01', 'adjusted': '2024-01-03', 'dateMovingConvention': 'NextBusinessDay', 'date': '2024-01-01'}, 'endDate': {'unAdjusted': '2024-03-01', 'adjusted': '2024-03-01', 'dateMovingConvention': 'NextBusinessDay', 'date': '2024-03-01'}}, 'pricingAnalysis': {'fxSwapsCcy1': {'bid': -44.85641935484257, 'ask': -44.289129032262835}, 'fxSwapsCcy2': {'bid': 21.773677419356304, 'ask': 22.248516129028342}, 'fxSwapsCcy1Ccy2': {'bid': 34.08136781276605, 'ask': 35.283003210970776}, 'fxOutrightCcy1Ccy2': {'bid': 1.0723371680361145, 'ask': 1.0733375455025531}, 'rate': 1.1, 'settlementAmount': -49681.3972625232, 'fxSpot': {'bid': 1.069285097797029, 'ask': 1.0701773048355105}, 'dealAmount': 2000000.0, 'contraAmount': 2200000.0}, 'greeks': {'deltaPercent': 99.7275251537345, 'deltaAmountInDealCcy': 2045049.54971836, 'deltaAmountInContraCcy': 1994550.50307469}}]}\n"
     ]
    }
   ],
   "source": [
    "market_data = MarketData(fx_forward_curves=[FxForwardCurveChoice(reference=\"EUR_GBP_FxForward\")])\n",
    "\n",
    "params = FxPricingParameters(\n",
    "    ignore_reference_currency_holidays=True,\n",
    "    reference_currency=\"USD\",\n",
    "    report_currency=\"USD\",\n",
    "    valuation_date=\"2024-01-11\",\n",
    ")\n",
    "\n",
    "fx_forward_price = price(definitions=[fxforward_definition], pricing_preferences=params, return_market_data=False, market_data=market_data)\n",
    "\n",
    "print(fx_forward_price)"
   ]
  },
  {
   "cell_type": "markdown",
   "id": "ca41402d",
   "metadata": {},
   "source": [
    "## Value an FX Forward (class method)"
   ]
  },
  {
   "cell_type": "code",
   "execution_count": 14,
   "id": "da00f92b",
   "metadata": {
    "execution": {
     "iopub.execute_input": "2025-06-27T09:41:59.768566Z",
     "iopub.status.busy": "2025-06-27T09:41:59.768166Z",
     "iopub.status.idle": "2025-06-27T09:42:00.536713Z",
     "shell.execute_reply": "2025-06-27T09:42:00.536113Z"
    }
   },
   "outputs": [
    {
     "name": "stdout",
     "output_type": "stream",
     "text": [
      "{'quotedCurrency': 'EUR', 'baseCurrency': 'CHF', 'payer': 'Party1', 'receiver': 'Party2', 'rate': {'value': 1.1, 'ratePrecision': 2}, 'startDate': {'dateType': 'AdjustableDate', 'date': '2022-01-01'}, 'endDate': {'dateType': 'AdjustableDate', 'date': '2023-12-01'}}\n",
      "{'resource': {'type': 'FxForward', 'id': 'c72faf41-1ac3-4b4e-a950-d3e5789b3c6b', 'location': {'space': 'HOME', 'name': 'my_fx_Forward_value_test'}, 'description': {'tags': []}, 'definition': {'quotedCurrency': 'EUR', 'baseCurrency': 'CHF', 'dealAmount': 1000000.0, 'rate': {'value': 1.1, 'scalingFactor': 1.0, 'ratePrecision': 2}, 'startDate': {'dateType': 'AdjustableDate', 'date': '2022-01-01'}, 'endDate': {'dateType': 'AdjustableDate', 'date': '2023-12-01'}, 'payer': 'Party1', 'receiver': 'Party2'}}, 'pricingPreferences': {'ignoreReferenceCurrencyHolidays': True, 'referenceCurrency': 'USD', 'valuationDate': '2024-01-11', 'reportCurrency': 'USD'}, 'analytics': {'description': {}, 'valuation': {}, 'greeks': {}, 'error': {'code': 'InvalidInputError', 'message': 'Invalid value! The calculated EndDate : 2023-12-01 cannot be prior to the ValuationDate : 2024-01-11, please modify the input  dates or tenors accordingly.'}}}\n"
     ]
    }
   ],
   "source": [
    "#Create an FxForward from scratch\n",
    "fx_forward = FxForward(\n",
    "    FxForwardDefinition(\n",
    "        quoted_currency=\"EUR\",\n",
    "        base_currency=\"CHF\",\n",
    "        payer=PartyEnum.PARTY1,\n",
    "        receiver=PartyEnum.PARTY2,\n",
    "        rate=FxRate(value=1.10, rate_precision=2),\n",
    "        start_date=AdjustableDate(\n",
    "            date=date(2022, 1, 1)\n",
    "        ),\n",
    "        end_date=AdjustableDate(\n",
    "            date=date(2023, 12, 1)\n",
    "        )\n",
    "    )\n",
    ")\n",
    "\n",
    "print(fx_forward.definition)\n",
    "\n",
    "fx_forward.save(name='my_fx_Forward_value_test', space='HOME')\n",
    "\n",
    "fx_forward_value = fx_forward.value(\n",
    "    pricing_preferences=FxPricingParameters(\n",
    "        ignore_reference_currency_holidays=True,\n",
    "        reference_currency=\"USD\",\n",
    "        report_currency=\"USD\",\n",
    "        valuation_date=\"2024-01-11\",\n",
    "    ),\n",
    "    market_data=MarketData(fx_forward_curves=[FxForwardCurveChoice(reference=\"LSEG/EUR_CHF_FxForward\")]),\n",
    ")\n",
    "\n",
    "delete(name='my_fx_Forward_value_test', space='HOME')\n",
    "\n",
    "print(fx_forward_value)"
   ]
  },
  {
   "cell_type": "markdown",
   "id": "ee3ade9b",
   "metadata": {},
   "source": [
    "## Value an FX Forward (library method)"
   ]
  },
  {
   "cell_type": "code",
   "execution_count": 15,
   "id": "f5613617",
   "metadata": {
    "execution": {
     "iopub.execute_input": "2025-06-27T09:42:00.539171Z",
     "iopub.status.busy": "2025-06-27T09:42:00.538944Z",
     "iopub.status.idle": "2025-06-27T09:42:00.946732Z",
     "shell.execute_reply": "2025-06-27T09:42:00.946055Z"
    }
   },
   "outputs": [
    {
     "name": "stdout",
     "output_type": "stream",
     "text": [
      "{'definitions': [{'definition': {'settlementType': 'Cash', 'quotedCurrency': 'EUR', 'baseCurrency': 'CHF', 'dealAmount': 2000000.0, 'rate': {'value': 1.1, 'scalingFactor': 1.0, 'ratePrecision': 1}, 'startDate': {'dateType': 'AdjustableDate', 'date': '2024-01-01'}, 'endDate': {'dateType': 'AdjustableDate', 'date': '2024-03-01'}, 'payer': 'Party1', 'receiver': 'Party2'}}], 'pricingPreferences': {'ignoreReferenceCurrencyHolidays': True, 'referenceCurrency': 'USD', 'valuationDate': '2024-01-11', 'reportCurrency': 'USD'}, 'analytics': [{'description': {'valuationDate': '2024-01-11', 'startDate': {'unAdjusted': '2024-01-01', 'adjusted': '2024-01-03', 'dateMovingConvention': 'NextBusinessDay', 'date': '2024-01-01'}, 'endDate': {'unAdjusted': '2024-03-01', 'adjusted': '2024-03-01', 'dateMovingConvention': 'NextBusinessDay', 'date': '2024-03-01'}}, 'valuation': {'discountFactor': 0.997275251537345, 'marketValueInDealCcy': -50518.002963467, 'marketValueInContraCcy': -54032.1814604011, 'marketValueInReportCcy': -59274.3364816736}, 'greeks': {'deltaPercent': 99.7275251537345, 'deltaAmountInDealCcy': 2045049.54971836, 'deltaAmountInContraCcy': 1994550.50307469}}]}\n"
     ]
    }
   ],
   "source": [
    "params = FxPricingParameters(\n",
    "    ignore_reference_currency_holidays=True,\n",
    "    reference_currency=\"USD\",\n",
    "    report_currency=\"USD\",\n",
    "    valuation_date=\"2024-01-11\",\n",
    ")\n",
    "\n",
    "fx_forward_value = value(definitions=[fxforward_definition], pricing_preferences=params, return_market_data=False)\n",
    "\n",
    "print(fx_forward_value)"
   ]
  },
  {
   "cell_type": "markdown",
   "id": "4c335f1d",
   "metadata": {},
   "source": [
    "## CRUD operations"
   ]
  },
  {
   "cell_type": "code",
   "execution_count": 16,
   "id": "d548a386",
   "metadata": {
    "execution": {
     "iopub.execute_input": "2025-06-27T09:42:00.949848Z",
     "iopub.status.busy": "2025-06-27T09:42:00.949419Z",
     "iopub.status.idle": "2025-06-27T09:42:00.954377Z",
     "shell.execute_reply": "2025-06-27T09:42:00.953797Z"
    }
   },
   "outputs": [
    {
     "name": "stdout",
     "output_type": "stream",
     "text": [
      "{'quotedCurrency': 'EUR', 'baseCurrency': 'CHF', 'payer': 'Party1', 'receiver': 'Party2', 'rate': {'value': 1.1, 'ratePrecision': 2}, 'startDate': {'dateType': 'AdjustableDate', 'date': '2022-01-01'}, 'endDate': {'dateType': 'AdjustableDate', 'date': '2023-12-01'}}\n"
     ]
    }
   ],
   "source": [
    "#Create an FxForward from scratch\n",
    "fx_forward = FxForward(\n",
    "    FxForwardDefinition(\n",
    "        quoted_currency=\"EUR\",\n",
    "        base_currency=\"CHF\",\n",
    "        payer=PartyEnum.PARTY1,\n",
    "        receiver=PartyEnum.PARTY2,\n",
    "        rate=FxRate(value=1.10, rate_precision=2),\n",
    "        start_date=AdjustableDate(\n",
    "            date=date(2022, 1, 1)\n",
    "        ),\n",
    "        end_date=AdjustableDate(\n",
    "            date=date(2023, 12, 1)\n",
    "        )\n",
    "    )\n",
    ")\n",
    "\n",
    "print(fx_forward.definition)"
   ]
  },
  {
   "cell_type": "markdown",
   "id": "78f136ef",
   "metadata": {},
   "source": [
    "### Saving an FX Forward"
   ]
  },
  {
   "cell_type": "code",
   "execution_count": 17,
   "id": "7d80ba46",
   "metadata": {
    "execution": {
     "iopub.execute_input": "2025-06-27T09:42:00.957168Z",
     "iopub.status.busy": "2025-06-27T09:42:00.956944Z",
     "iopub.status.idle": "2025-06-27T09:42:01.144246Z",
     "shell.execute_reply": "2025-06-27T09:42:01.143704Z"
    }
   },
   "outputs": [
    {
     "data": {
      "text/plain": [
       "True"
      ]
     },
     "execution_count": 17,
     "metadata": {},
     "output_type": "execute_result"
    }
   ],
   "source": [
    "# Save created forward\n",
    "fx_forward.save(name=\"my_EURCHF_fx_forward\", space=\"HOME\")"
   ]
  },
  {
   "cell_type": "markdown",
   "id": "fd90115c",
   "metadata": {},
   "source": [
    "### Cloning an FX Forward"
   ]
  },
  {
   "cell_type": "code",
   "execution_count": 18,
   "id": "1d7b567b",
   "metadata": {
    "execution": {
     "iopub.execute_input": "2025-06-27T09:42:01.146522Z",
     "iopub.status.busy": "2025-06-27T09:42:01.146188Z",
     "iopub.status.idle": "2025-06-27T09:42:01.372774Z",
     "shell.execute_reply": "2025-06-27T09:42:01.372183Z"
    }
   },
   "outputs": [
    {
     "data": {
      "text/plain": [
       "True"
      ]
     },
     "execution_count": 18,
     "metadata": {},
     "output_type": "execute_result"
    }
   ],
   "source": [
    "# Make a clone out of existing/created forward\n",
    "fx_forward_clone = fx_forward.clone()\n",
    "\n",
    "\n",
    "# For deletion purposes\n",
    "fx_forward_clone.save(name=\"my_EURCHF_fx_forward_for_delete_id\", space=\"HOME\")"
   ]
  },
  {
   "cell_type": "markdown",
   "id": "e7ab7d53",
   "metadata": {},
   "source": [
    "### Deleting an FX Forward"
   ]
  },
  {
   "cell_type": "markdown",
   "id": "7b0ffd89",
   "metadata": {},
   "source": [
    "#### Delete by name and space"
   ]
  },
  {
   "cell_type": "code",
   "execution_count": 19,
   "id": "566dc214",
   "metadata": {
    "execution": {
     "iopub.execute_input": "2025-06-27T09:42:01.375130Z",
     "iopub.status.busy": "2025-06-27T09:42:01.374692Z",
     "iopub.status.idle": "2025-06-27T09:42:01.647575Z",
     "shell.execute_reply": "2025-06-27T09:42:01.647138Z"
    }
   },
   "outputs": [
    {
     "data": {
      "text/plain": [
       "True"
      ]
     },
     "execution_count": 19,
     "metadata": {},
     "output_type": "execute_result"
    }
   ],
   "source": [
    "delete(name=\"my_EURCHF_fx_forward\", space=\"HOME\")"
   ]
  },
  {
   "cell_type": "markdown",
   "id": "58e35660",
   "metadata": {},
   "source": [
    "#### Delete by id"
   ]
  },
  {
   "cell_type": "code",
   "execution_count": 20,
   "id": "83ed481a",
   "metadata": {
    "execution": {
     "iopub.execute_input": "2025-06-27T09:42:01.649995Z",
     "iopub.status.busy": "2025-06-27T09:42:01.649797Z",
     "iopub.status.idle": "2025-06-27T09:42:01.820223Z",
     "shell.execute_reply": "2025-06-27T09:42:01.819642Z"
    }
   },
   "outputs": [
    {
     "data": {
      "text/plain": [
       "True"
      ]
     },
     "execution_count": 20,
     "metadata": {},
     "output_type": "execute_result"
    }
   ],
   "source": [
    "delete(resource_id=fx_forward_clone.id)"
   ]
  }
 ],
 "metadata": {
  "kernelspec": {
   "display_name": "env",
   "language": "python",
   "name": "python3"
  },
  "language_info": {
   "codemirror_mode": {
    "name": "ipython",
    "version": 3
   },
   "file_extension": ".py",
   "mimetype": "text/x-python",
   "name": "python",
   "nbconvert_exporter": "python",
   "pygments_lexer": "ipython3",
   "version": "3.11.6"
  }
 },
 "nbformat": 4,
 "nbformat_minor": 5
}
